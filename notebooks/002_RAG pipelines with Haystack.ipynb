{
 "cells": [
  {
   "cell_type": "markdown",
   "id": "6641127a-6a89-44f7-8d6b-8cf4375d26e3",
   "metadata": {},
   "source": [
    "# Chroma Indexing and RAG Examples"
   ]
  },
  {
   "cell_type": "code",
   "execution_count": 27,
   "id": "7ef3ce3a-f315-4f6e-a53a-d234b8c0b41d",
   "metadata": {
    "scrolled": true
   },
   "outputs": [
    {
     "name": "stdout",
     "output_type": "stream",
     "text": [
      "Requirement already satisfied: haystack-ai in /home/skitarii/PycharmProjects/chatHRD/.venv/lib/python3.12/site-packages (2.12.2)\n",
      "Requirement already satisfied: ollama-haystack in /home/skitarii/PycharmProjects/chatHRD/.venv/lib/python3.12/site-packages (2.4.1)\n",
      "Requirement already satisfied: haystack-experimental in /home/skitarii/PycharmProjects/chatHRD/.venv/lib/python3.12/site-packages (from haystack-ai) (0.8.0)\n",
      "Requirement already satisfied: jinja2 in /home/skitarii/PycharmProjects/chatHRD/.venv/lib/python3.12/site-packages (from haystack-ai) (3.1.6)\n",
      "Requirement already satisfied: jsonschema in /home/skitarii/PycharmProjects/chatHRD/.venv/lib/python3.12/site-packages (from haystack-ai) (4.23.0)\n",
      "Requirement already satisfied: lazy-imports in /home/skitarii/PycharmProjects/chatHRD/.venv/lib/python3.12/site-packages (from haystack-ai) (0.4.0)\n",
      "Requirement already satisfied: more-itertools in /home/skitarii/PycharmProjects/chatHRD/.venv/lib/python3.12/site-packages (from haystack-ai) (10.6.0)\n",
      "Requirement already satisfied: networkx in /home/skitarii/PycharmProjects/chatHRD/.venv/lib/python3.12/site-packages (from haystack-ai) (3.4.2)\n",
      "Requirement already satisfied: numpy in /home/skitarii/PycharmProjects/chatHRD/.venv/lib/python3.12/site-packages (from haystack-ai) (1.26.4)\n",
      "Requirement already satisfied: openai>=1.56.1 in /home/skitarii/PycharmProjects/chatHRD/.venv/lib/python3.12/site-packages (from haystack-ai) (1.72.0)\n",
      "Requirement already satisfied: posthog!=3.12.0 in /home/skitarii/PycharmProjects/chatHRD/.venv/lib/python3.12/site-packages (from haystack-ai) (3.24.1)\n",
      "Requirement already satisfied: pydantic in /home/skitarii/PycharmProjects/chatHRD/.venv/lib/python3.12/site-packages (from haystack-ai) (2.11.3)\n",
      "Requirement already satisfied: python-dateutil in /home/skitarii/PycharmProjects/chatHRD/.venv/lib/python3.12/site-packages (from haystack-ai) (2.9.0.post0)\n",
      "Requirement already satisfied: pyyaml in /home/skitarii/PycharmProjects/chatHRD/.venv/lib/python3.12/site-packages (from haystack-ai) (6.0.2)\n",
      "Requirement already satisfied: requests in /home/skitarii/PycharmProjects/chatHRD/.venv/lib/python3.12/site-packages (from haystack-ai) (2.32.3)\n",
      "Requirement already satisfied: tenacity!=8.4.0 in /home/skitarii/PycharmProjects/chatHRD/.venv/lib/python3.12/site-packages (from haystack-ai) (9.1.2)\n",
      "Requirement already satisfied: tqdm in /home/skitarii/PycharmProjects/chatHRD/.venv/lib/python3.12/site-packages (from haystack-ai) (4.67.1)\n",
      "Requirement already satisfied: typing-extensions>=4.7 in /home/skitarii/PycharmProjects/chatHRD/.venv/lib/python3.12/site-packages (from haystack-ai) (4.13.0)\n",
      "Requirement already satisfied: ollama>=0.4.0 in /home/skitarii/PycharmProjects/chatHRD/.venv/lib/python3.12/site-packages (from ollama-haystack) (0.4.8)\n",
      "Requirement already satisfied: httpx<0.29,>=0.27 in /home/skitarii/PycharmProjects/chatHRD/.venv/lib/python3.12/site-packages (from ollama>=0.4.0->ollama-haystack) (0.28.1)\n",
      "Requirement already satisfied: anyio<5,>=3.5.0 in /home/skitarii/PycharmProjects/chatHRD/.venv/lib/python3.12/site-packages (from openai>=1.56.1->haystack-ai) (4.9.0)\n",
      "Requirement already satisfied: distro<2,>=1.7.0 in /home/skitarii/PycharmProjects/chatHRD/.venv/lib/python3.12/site-packages (from openai>=1.56.1->haystack-ai) (1.9.0)\n",
      "Requirement already satisfied: jiter<1,>=0.4.0 in /home/skitarii/PycharmProjects/chatHRD/.venv/lib/python3.12/site-packages (from openai>=1.56.1->haystack-ai) (0.9.0)\n",
      "Requirement already satisfied: sniffio in /home/skitarii/PycharmProjects/chatHRD/.venv/lib/python3.12/site-packages (from openai>=1.56.1->haystack-ai) (1.3.1)\n",
      "Requirement already satisfied: six>=1.5 in /home/skitarii/PycharmProjects/chatHRD/.venv/lib/python3.12/site-packages (from posthog!=3.12.0->haystack-ai) (1.17.0)\n",
      "Requirement already satisfied: monotonic>=1.5 in /home/skitarii/PycharmProjects/chatHRD/.venv/lib/python3.12/site-packages (from posthog!=3.12.0->haystack-ai) (1.6)\n",
      "Requirement already satisfied: backoff>=1.10.0 in /home/skitarii/PycharmProjects/chatHRD/.venv/lib/python3.12/site-packages (from posthog!=3.12.0->haystack-ai) (2.2.1)\n",
      "Requirement already satisfied: annotated-types>=0.6.0 in /home/skitarii/PycharmProjects/chatHRD/.venv/lib/python3.12/site-packages (from pydantic->haystack-ai) (0.7.0)\n",
      "Requirement already satisfied: pydantic-core==2.33.1 in /home/skitarii/PycharmProjects/chatHRD/.venv/lib/python3.12/site-packages (from pydantic->haystack-ai) (2.33.1)\n",
      "Requirement already satisfied: typing-inspection>=0.4.0 in /home/skitarii/PycharmProjects/chatHRD/.venv/lib/python3.12/site-packages (from pydantic->haystack-ai) (0.4.0)\n",
      "Requirement already satisfied: charset-normalizer<4,>=2 in /home/skitarii/PycharmProjects/chatHRD/.venv/lib/python3.12/site-packages (from requests->haystack-ai) (3.4.1)\n",
      "Requirement already satisfied: idna<4,>=2.5 in /home/skitarii/PycharmProjects/chatHRD/.venv/lib/python3.12/site-packages (from requests->haystack-ai) (3.10)\n",
      "Requirement already satisfied: urllib3<3,>=1.21.1 in /home/skitarii/PycharmProjects/chatHRD/.venv/lib/python3.12/site-packages (from requests->haystack-ai) (2.3.0)\n",
      "Requirement already satisfied: certifi>=2017.4.17 in /home/skitarii/PycharmProjects/chatHRD/.venv/lib/python3.12/site-packages (from requests->haystack-ai) (2025.1.31)\n",
      "Requirement already satisfied: MarkupSafe>=2.0 in /home/skitarii/PycharmProjects/chatHRD/.venv/lib/python3.12/site-packages (from jinja2->haystack-ai) (3.0.2)\n",
      "Requirement already satisfied: attrs>=22.2.0 in /home/skitarii/PycharmProjects/chatHRD/.venv/lib/python3.12/site-packages (from jsonschema->haystack-ai) (25.3.0)\n",
      "Requirement already satisfied: jsonschema-specifications>=2023.03.6 in /home/skitarii/PycharmProjects/chatHRD/.venv/lib/python3.12/site-packages (from jsonschema->haystack-ai) (2024.10.1)\n",
      "Requirement already satisfied: referencing>=0.28.4 in /home/skitarii/PycharmProjects/chatHRD/.venv/lib/python3.12/site-packages (from jsonschema->haystack-ai) (0.36.2)\n",
      "Requirement already satisfied: rpds-py>=0.7.1 in /home/skitarii/PycharmProjects/chatHRD/.venv/lib/python3.12/site-packages (from jsonschema->haystack-ai) (0.24.0)\n",
      "Requirement already satisfied: httpcore==1.* in /home/skitarii/PycharmProjects/chatHRD/.venv/lib/python3.12/site-packages (from httpx<0.29,>=0.27->ollama>=0.4.0->ollama-haystack) (1.0.7)\n",
      "Requirement already satisfied: h11<0.15,>=0.13 in /home/skitarii/PycharmProjects/chatHRD/.venv/lib/python3.12/site-packages (from httpcore==1.*->httpx<0.29,>=0.27->ollama>=0.4.0->ollama-haystack) (0.14.0)\n",
      "Requirement already satisfied: nltk in /home/skitarii/PycharmProjects/chatHRD/.venv/lib/python3.12/site-packages (3.9.1)\n",
      "Requirement already satisfied: click in /home/skitarii/PycharmProjects/chatHRD/.venv/lib/python3.12/site-packages (from nltk) (8.1.8)\n",
      "Requirement already satisfied: joblib in /home/skitarii/PycharmProjects/chatHRD/.venv/lib/python3.12/site-packages (from nltk) (1.4.2)\n",
      "Requirement already satisfied: regex>=2021.8.3 in /home/skitarii/PycharmProjects/chatHRD/.venv/lib/python3.12/site-packages (from nltk) (2024.11.6)\n",
      "Requirement already satisfied: tqdm in /home/skitarii/PycharmProjects/chatHRD/.venv/lib/python3.12/site-packages (from nltk) (4.67.1)\n",
      "Collecting sentence-transformers\n",
      "  Downloading sentence_transformers-4.1.0-py3-none-any.whl.metadata (13 kB)\n",
      "Requirement already satisfied: transformers<5.0.0,>=4.41.0 in /home/skitarii/PycharmProjects/chatHRD/.venv/lib/python3.12/site-packages (from sentence-transformers) (4.51.3)\n",
      "Requirement already satisfied: tqdm in /home/skitarii/PycharmProjects/chatHRD/.venv/lib/python3.12/site-packages (from sentence-transformers) (4.67.1)\n",
      "Requirement already satisfied: torch>=1.11.0 in /home/skitarii/PycharmProjects/chatHRD/.venv/lib/python3.12/site-packages (from sentence-transformers) (2.6.0)\n",
      "Collecting scikit-learn (from sentence-transformers)\n",
      "  Using cached scikit_learn-1.6.1-cp312-cp312-manylinux_2_17_x86_64.manylinux2014_x86_64.whl.metadata (18 kB)\n",
      "Collecting scipy (from sentence-transformers)\n",
      "  Using cached scipy-1.15.2-cp312-cp312-manylinux_2_17_x86_64.manylinux2014_x86_64.whl.metadata (61 kB)\n",
      "Requirement already satisfied: huggingface-hub>=0.20.0 in /home/skitarii/PycharmProjects/chatHRD/.venv/lib/python3.12/site-packages (from sentence-transformers) (0.30.2)\n",
      "Requirement already satisfied: Pillow in /home/skitarii/PycharmProjects/chatHRD/.venv/lib/python3.12/site-packages (from sentence-transformers) (10.2.0)\n",
      "Requirement already satisfied: typing_extensions>=4.5.0 in /home/skitarii/PycharmProjects/chatHRD/.venv/lib/python3.12/site-packages (from sentence-transformers) (4.13.0)\n",
      "Requirement already satisfied: filelock in /home/skitarii/PycharmProjects/chatHRD/.venv/lib/python3.12/site-packages (from huggingface-hub>=0.20.0->sentence-transformers) (3.18.0)\n",
      "Requirement already satisfied: fsspec>=2023.5.0 in /home/skitarii/PycharmProjects/chatHRD/.venv/lib/python3.12/site-packages (from huggingface-hub>=0.20.0->sentence-transformers) (2025.3.2)\n",
      "Requirement already satisfied: packaging>=20.9 in /home/skitarii/PycharmProjects/chatHRD/.venv/lib/python3.12/site-packages (from huggingface-hub>=0.20.0->sentence-transformers) (24.2)\n",
      "Requirement already satisfied: pyyaml>=5.1 in /home/skitarii/PycharmProjects/chatHRD/.venv/lib/python3.12/site-packages (from huggingface-hub>=0.20.0->sentence-transformers) (6.0.2)\n",
      "Requirement already satisfied: requests in /home/skitarii/PycharmProjects/chatHRD/.venv/lib/python3.12/site-packages (from huggingface-hub>=0.20.0->sentence-transformers) (2.32.3)\n",
      "Requirement already satisfied: networkx in /home/skitarii/PycharmProjects/chatHRD/.venv/lib/python3.12/site-packages (from torch>=1.11.0->sentence-transformers) (3.4.2)\n",
      "Requirement already satisfied: jinja2 in /home/skitarii/PycharmProjects/chatHRD/.venv/lib/python3.12/site-packages (from torch>=1.11.0->sentence-transformers) (3.1.6)\n",
      "Requirement already satisfied: nvidia-cuda-nvrtc-cu12==12.4.127 in /home/skitarii/PycharmProjects/chatHRD/.venv/lib/python3.12/site-packages (from torch>=1.11.0->sentence-transformers) (12.4.127)\n",
      "Requirement already satisfied: nvidia-cuda-runtime-cu12==12.4.127 in /home/skitarii/PycharmProjects/chatHRD/.venv/lib/python3.12/site-packages (from torch>=1.11.0->sentence-transformers) (12.4.127)\n",
      "Requirement already satisfied: nvidia-cuda-cupti-cu12==12.4.127 in /home/skitarii/PycharmProjects/chatHRD/.venv/lib/python3.12/site-packages (from torch>=1.11.0->sentence-transformers) (12.4.127)\n",
      "Requirement already satisfied: nvidia-cudnn-cu12==9.1.0.70 in /home/skitarii/PycharmProjects/chatHRD/.venv/lib/python3.12/site-packages (from torch>=1.11.0->sentence-transformers) (9.1.0.70)\n",
      "Requirement already satisfied: nvidia-cublas-cu12==12.4.5.8 in /home/skitarii/PycharmProjects/chatHRD/.venv/lib/python3.12/site-packages (from torch>=1.11.0->sentence-transformers) (12.4.5.8)\n",
      "Requirement already satisfied: nvidia-cufft-cu12==11.2.1.3 in /home/skitarii/PycharmProjects/chatHRD/.venv/lib/python3.12/site-packages (from torch>=1.11.0->sentence-transformers) (11.2.1.3)\n",
      "Requirement already satisfied: nvidia-curand-cu12==10.3.5.147 in /home/skitarii/PycharmProjects/chatHRD/.venv/lib/python3.12/site-packages (from torch>=1.11.0->sentence-transformers) (10.3.5.147)\n",
      "Requirement already satisfied: nvidia-cusolver-cu12==11.6.1.9 in /home/skitarii/PycharmProjects/chatHRD/.venv/lib/python3.12/site-packages (from torch>=1.11.0->sentence-transformers) (11.6.1.9)\n",
      "Requirement already satisfied: nvidia-cusparse-cu12==12.3.1.170 in /home/skitarii/PycharmProjects/chatHRD/.venv/lib/python3.12/site-packages (from torch>=1.11.0->sentence-transformers) (12.3.1.170)\n",
      "Requirement already satisfied: nvidia-cusparselt-cu12==0.6.2 in /home/skitarii/PycharmProjects/chatHRD/.venv/lib/python3.12/site-packages (from torch>=1.11.0->sentence-transformers) (0.6.2)\n",
      "Requirement already satisfied: nvidia-nccl-cu12==2.21.5 in /home/skitarii/PycharmProjects/chatHRD/.venv/lib/python3.12/site-packages (from torch>=1.11.0->sentence-transformers) (2.21.5)\n",
      "Requirement already satisfied: nvidia-nvtx-cu12==12.4.127 in /home/skitarii/PycharmProjects/chatHRD/.venv/lib/python3.12/site-packages (from torch>=1.11.0->sentence-transformers) (12.4.127)\n",
      "Requirement already satisfied: nvidia-nvjitlink-cu12==12.4.127 in /home/skitarii/PycharmProjects/chatHRD/.venv/lib/python3.12/site-packages (from torch>=1.11.0->sentence-transformers) (12.4.127)\n",
      "Requirement already satisfied: triton==3.2.0 in /home/skitarii/PycharmProjects/chatHRD/.venv/lib/python3.12/site-packages (from torch>=1.11.0->sentence-transformers) (3.2.0)\n",
      "Requirement already satisfied: setuptools in /home/skitarii/PycharmProjects/chatHRD/.venv/lib/python3.12/site-packages (from torch>=1.11.0->sentence-transformers) (78.1.0)\n",
      "Requirement already satisfied: sympy==1.13.1 in /home/skitarii/PycharmProjects/chatHRD/.venv/lib/python3.12/site-packages (from torch>=1.11.0->sentence-transformers) (1.13.1)\n",
      "Requirement already satisfied: mpmath<1.4,>=1.1.0 in /home/skitarii/PycharmProjects/chatHRD/.venv/lib/python3.12/site-packages (from sympy==1.13.1->torch>=1.11.0->sentence-transformers) (1.3.0)\n",
      "Requirement already satisfied: numpy>=1.17 in /home/skitarii/PycharmProjects/chatHRD/.venv/lib/python3.12/site-packages (from transformers<5.0.0,>=4.41.0->sentence-transformers) (1.26.4)\n",
      "Requirement already satisfied: regex!=2019.12.17 in /home/skitarii/PycharmProjects/chatHRD/.venv/lib/python3.12/site-packages (from transformers<5.0.0,>=4.41.0->sentence-transformers) (2024.11.6)\n",
      "Requirement already satisfied: tokenizers<0.22,>=0.21 in /home/skitarii/PycharmProjects/chatHRD/.venv/lib/python3.12/site-packages (from transformers<5.0.0,>=4.41.0->sentence-transformers) (0.21.1)\n",
      "Requirement already satisfied: safetensors>=0.4.3 in /home/skitarii/PycharmProjects/chatHRD/.venv/lib/python3.12/site-packages (from transformers<5.0.0,>=4.41.0->sentence-transformers) (0.5.3)\n",
      "Requirement already satisfied: joblib>=1.2.0 in /home/skitarii/PycharmProjects/chatHRD/.venv/lib/python3.12/site-packages (from scikit-learn->sentence-transformers) (1.4.2)\n",
      "Collecting threadpoolctl>=3.1.0 (from scikit-learn->sentence-transformers)\n",
      "  Using cached threadpoolctl-3.6.0-py3-none-any.whl.metadata (13 kB)\n",
      "Requirement already satisfied: MarkupSafe>=2.0 in /home/skitarii/PycharmProjects/chatHRD/.venv/lib/python3.12/site-packages (from jinja2->torch>=1.11.0->sentence-transformers) (3.0.2)\n",
      "Requirement already satisfied: charset-normalizer<4,>=2 in /home/skitarii/PycharmProjects/chatHRD/.venv/lib/python3.12/site-packages (from requests->huggingface-hub>=0.20.0->sentence-transformers) (3.4.1)\n",
      "Requirement already satisfied: idna<4,>=2.5 in /home/skitarii/PycharmProjects/chatHRD/.venv/lib/python3.12/site-packages (from requests->huggingface-hub>=0.20.0->sentence-transformers) (3.10)\n",
      "Requirement already satisfied: urllib3<3,>=1.21.1 in /home/skitarii/PycharmProjects/chatHRD/.venv/lib/python3.12/site-packages (from requests->huggingface-hub>=0.20.0->sentence-transformers) (2.3.0)\n",
      "Requirement already satisfied: certifi>=2017.4.17 in /home/skitarii/PycharmProjects/chatHRD/.venv/lib/python3.12/site-packages (from requests->huggingface-hub>=0.20.0->sentence-transformers) (2025.1.31)\n",
      "Downloading sentence_transformers-4.1.0-py3-none-any.whl (345 kB)\n",
      "Using cached scikit_learn-1.6.1-cp312-cp312-manylinux_2_17_x86_64.manylinux2014_x86_64.whl (13.1 MB)\n",
      "Using cached scipy-1.15.2-cp312-cp312-manylinux_2_17_x86_64.manylinux2014_x86_64.whl (37.3 MB)\n",
      "Using cached threadpoolctl-3.6.0-py3-none-any.whl (18 kB)\n",
      "Installing collected packages: threadpoolctl, scipy, scikit-learn, sentence-transformers\n",
      "Successfully installed scikit-learn-1.6.1 scipy-1.15.2 sentence-transformers-4.1.0 threadpoolctl-3.6.0\n"
     ]
    }
   ],
   "source": [
    "!pip install haystack-ai ollama-haystack\n",
    "!pip install nltk\n",
    "!pip install sentence-transformers\n",
    "!pip install \"transformers[torch]\""
   ]
  },
  {
   "cell_type": "code",
   "execution_count": 3,
   "id": "98594f5b-d724-4098-af94-30a2a708c905",
   "metadata": {},
   "outputs": [],
   "source": [
    "import os\n",
    "import random\n",
    "import torch\n",
    "from pathlib import Path\n",
    "from pprint import pprint\n",
    "from haystack import Pipeline\n",
    "from haystack.dataclasses import Document\n",
    "from haystack.document_stores.in_memory import InMemoryDocumentStore\n",
    "from haystack.components.preprocessors import DocumentCleaner, DocumentSplitter\n",
    "from haystack.components.embedders import (\n",
    "    SentenceTransformersDocumentEmbedder,\n",
    "    SentenceTransformersTextEmbedder,\n",
    ")\n",
    "from haystack.components.converters import TextFileToDocument\n",
    "from haystack.components.writers import DocumentWriter\n",
    "from haystack.components.retrievers.in_memory import InMemoryEmbeddingRetriever\n",
    "from haystack.components.builders import PromptBuilder\n",
    "from haystack.components.generators import OpenAIGenerator\n",
    "from haystack.utils import ComponentDevice"
   ]
  },
  {
   "cell_type": "code",
   "execution_count": 4,
   "id": "db718212-8e58-44de-a555-98ef1a7765c2",
   "metadata": {},
   "outputs": [
    {
     "name": "stdout",
     "output_type": "stream",
     "text": [
      "total 25508\n",
      "drwxrwxr-x 2 skitarii skitarii   12288 апр 16 18:36  .\n",
      "drwxrwxr-x 8 skitarii skitarii    4096 апр 16 17:04  ..\n",
      "-rw-r--r-- 1 root     root      166032 апр 16 18:09  04_Великие_музеи_мира_Египетский_музей_2011.md\n",
      "-rw-r--r-- 1 root     root         113 апр 16 17:53  1d8d62aa-6d7a-4544-8378-51cffe22db3f.md\n",
      "-rw-r--r-- 1 root     root         132 апр 16 17:53  63вгдеёжзиклмнуфхцчшщырврарвррырыррсрчррфрырыфрырвррветфддф_1.md\n",
      "-rw-r--r-- 1 root     root         132 апр 16 17:53  63вгдеёжзиклмнуфхцчшщырврарвррырыррсрчррфрырыфрырвррветфддф.md\n",
      "-rw-r--r-- 1 root     root         102 апр 16 17:53  64fsdgdfigidfiohgopdfpososdoidfsgsdfgsdfgdsfdsfgdfsdfgsdsdf1.md\n",
      "-rw-r--r-- 1 root     root        3805 апр 16 17:53  authors_1.md\n",
      "-rw-r--r-- 1 root     root         438 апр 16 17:53  authors1.md\n",
      "-rw-r--r-- 1 root     root         780 апр 16 17:53 'authors (1).md'\n",
      "-rw-r--r-- 1 root     root        2201 апр 16 17:53 'authors (2) (2)2315676354225745865453634524523452345234523452345234523452345.md'\n",
      "-rw-r--r-- 1 root     root        5223 апр 16 17:53  authors_2.md\n",
      "-rw-r--r-- 1 root     root        2039 апр 16 17:53 'authors (2).md'\n",
      "-rw-r--r-- 1 root     root        3803 апр 16 17:53  authors.md\n",
      "-rw-r--r-- 1 root     root          63 апр 16 18:36  avidreaders.ru__master-i-margarita.md\n",
      "-rw-r--r-- 1 root     root          63 апр 16 18:36  bd54ca7b-55d0-41cf-bec4-13f294f06b1c-container.md\n",
      "-rw-r--r-- 1 root     root          63 апр 16 18:36  bezbashennye_RuLit_Me_290146.md\n",
      "-rw-r--r-- 1 root     root        3709 апр 16 18:36  blank-dkp-avtomobilya_1.md\n",
      "-rw-r--r-- 1 root     root        3707 апр 16 18:36  blank-dkp-avtomobilya.md\n",
      "-rw-r--r-- 1 root     root        4672 апр 16 17:53  blank-dogovor-kupli-prodazhi-avtomobilya_1.md\n",
      "-rw-r--r-- 1 root     root        5534 апр 16 17:53  blank-prodazha-avto_1.md\n",
      "-rw-r--r-- 1 root     root        5534 апр 16 17:53  blank-prodazha-avto_5.md\n",
      "-rw-r--r-- 1 root     root        5532 апр 16 17:53  blank-prodazha-avto.md\n",
      "-rw-r--r-- 1 root     root         448 апр 16 17:53  cms-personal-pages_admins_list.md\n",
      "-rw-r--r-- 1 root     root     1153646 апр 16 17:53  data-1727859409712.md\n",
      "-rw-r--r-- 1 root     root        2227 апр 16 17:53  dau_1.md\n",
      "-rw-r--r-- 1 root     root        2229 апр 16 17:53 'dau (1).md'\n",
      "-rw-r--r-- 1 root     root          50 апр 16 17:53  dau_2.md\n",
      "-rw-r--r-- 1 root     root          52 апр 16 17:53 'dau (2).md'\n",
      "-rw-r--r-- 1 root     root        2130 апр 16 17:53  dau_4.md\n",
      "-rw-r--r-- 1 root     root        4654 апр 16 17:53 'dau (4).md'\n",
      "-rw-r--r-- 1 root     root        2033 апр 16 17:53  dau_5.md\n",
      "-rw-r--r-- 1 root     root        2613 апр 16 17:53  dau.md\n",
      "-rw-r--r-- 1 root     root      245191 апр 16 17:53 'dev (1).md'\n",
      "-rw-r--r-- 1 root     root        5356 апр 16 18:36  dkp-1_1.md\n",
      "-rw-r--r-- 1 root     root        3689 апр 16 17:53  dkp_1_1.md\n",
      "-rw-r--r-- 1 root     root        5354 апр 16 18:36  dkp-1.md\n",
      "-rw-r--r-- 1 root     root        4142 апр 16 17:53  dkp_1.md\n",
      "-rw-r--r-- 1 root     root        6199 апр 16 18:36  DKP_1.md\n",
      "-rw-r--r-- 1 root     root        3689 апр 16 17:53 'dkp (1).md'\n",
      "-rw-r--r-- 1 root     root        3689 апр 16 17:53  dkp_2.md\n",
      "-rw-r--r-- 1 root     root        3957 апр 16 17:53  dkp_3.md\n",
      "-rw-r--r-- 1 root     root        3955 апр 16 17:53  dkp.md\n",
      "-rw-r--r-- 1 root     root          62 апр 16 18:36  docker-compose-local.md\n",
      "-rw-r--r-- 1 root     root          62 апр 16 18:36  employees_3.md\n",
      "-rw-r--r-- 1 root     root       31857 апр 16 17:53  employees.md\n",
      "-rw-r--r-- 1 root     root         358 апр 16 17:53  event_3.md\n",
      "-rw-r--r-- 1 root     root       79973 апр 16 17:53  events_admins_list.md\n",
      "-rw-r--r-- 1 root     root        8480 апр 16 17:53 'file-example1 (2).md'\n",
      "-rw-r--r-- 1 root     root        8480 апр 16 17:53 'file-example1 (3).md'\n",
      "-rw-r--r-- 1 root     root        8480 апр 16 17:53 'file-example1 (4).md'\n",
      "-rw-r--r-- 1 root     root        8480 апр 16 17:53 'file-example1 (5).md'\n",
      "-rw-r--r-- 1 root     root        8480 апр 16 17:53  file-example1.md\n",
      "-rw-r--r-- 1 root     root        8480 апр 16 17:53  file-example2.md\n",
      "-rw-r--r-- 1 root     root        8480 апр 16 17:53  file-example3.md\n",
      "-rw-r--r-- 1 root     root       37137 апр 16 17:53  file_example.md\n",
      "-rw-r--r-- 1 root     root        8480 апр 16 17:53 'file-example_PDF_500_kB (2).md'\n",
      "-rw-r--r-- 1 root     root        8480 апр 16 17:53  file-example_PDF_500_kB.md\n",
      "-rw-rw-r-- 1 skitarii skitarii       0 апр  9 16:05  .gitkeep\n",
      "-rw-r--r-- 1 root     root          58 апр 16 18:36  .gitkeep.md\n",
      "-rw-r--r-- 1 root     root       10194 апр 16 17:53  ideas_admins_list_2.md\n",
      "-rw-r--r-- 1 root     root       49416 апр 16 17:53  ideas_admins_list.md\n",
      "-rw-r--r-- 1 root     root        3337 апр 16 17:53  Lorem_ipsum_dolor_sit_amet_consectetur_adipiscing_elit._Suspendisse_aliquet_in_dolor_sit_amet_rhoncus._Pellentesque_mattis_ullamcorper_varius._Maecenas_tincidunt_leo_a_libero_rutrum_eget_vehicula_sapien_digniss.md\n",
      "-rw-r--r-- 1 root     root         681 апр 16 17:53  mau_17.md\n",
      "-rw-r--r-- 1 root     root      127295 апр 16 17:53  MOCK_DATA-10.md\n",
      "-rw-r--r-- 1 root     root      211462 апр 16 17:53  MOCK_DATA-2.md\n",
      "-rw-r--r-- 1 root     root      211462 апр 16 17:53  MOCK_DATA-3.md\n",
      "-rw-r--r-- 1 root     root      210460 апр 16 17:53  MOCK_DATA-4.md\n",
      "-rw-r--r-- 1 root     root       84210 апр 16 17:53  MOCK_DATA-5.md\n",
      "-rw-r--r-- 1 root     root       85212 апр 16 17:53  MOCK_DATA-6.md\n",
      "-rw-r--r-- 1 root     root       85212 апр 16 17:53  MOCK_DATA-7.md\n",
      "-rw-r--r-- 1 root     root      122528 апр 16 17:53  MOCK_DATA-8.md\n",
      "-rw-r--r-- 1 root     root      123409 апр 16 17:53  MOCK_DATA-9.md\n",
      "-rw-r--r-- 1 root     root      117272 апр 16 17:53  MOCK_DATA.md\n",
      "-rw-r--r-- 1 root     root      115897 апр 16 17:53  news_admins_list.md\n",
      "-rw-r--r-- 1 root     root     2830752 апр 16 17:53  perf_users.md\n",
      "-rw-r--r-- 1 root     root        3073 апр 16 17:53  polls.md\n",
      "-rw-r--r-- 1 root     root       40452 апр 16 17:53 'sample-1 (2).md'\n",
      "-rw-r--r-- 1 root     root       40452 апр 16 17:53 'sample-1 (3).md'\n",
      "-rw-r--r-- 1 root     root       40452 апр 16 17:53 'sample-1 (4).md'\n",
      "-rw-r--r-- 1 root     root       40452 апр 16 17:53 'sample-1 (5).md'\n",
      "-rw-r--r-- 1 root     root       40452 апр 16 17:53 'sample-1 (6).md'\n",
      "-rw-r--r-- 1 root     root       40452 апр 16 17:53 'sample-1 (7).md'\n",
      "-rw-r--r-- 1 root     root       40452 апр 16 17:53 'sample-1 (8).md'\n",
      "-rw-r--r-- 1 root     root       40448 апр 16 17:53  sample-1.md\n",
      "-rw-r--r-- 1 root     root          78 апр 16 17:53  Shablon_dlya_zagruzki_organizacij.md\n",
      "-rw-r--r-- 1 root     root          80 апр 16 17:53  Shablon_dlya_zagruzki_podrazdelenij.md\n",
      "-rw-r--r-- 1 root     root          78 апр 16 17:53  Shablon_dlya_zagruzki_sotrudnikov.md\n",
      "-rw-r--r-- 1 root     root          87 апр 16 17:53  Shablon_dlya_zagruzki_vneshnih_organizacij.md\n",
      "-rw-r--r-- 1 root     root     1268215 апр 16 17:53  Software_Testing_-_Base_Course_Svyatoslav_Kulikov_-_3rd_edition_-_RU_1.md\n",
      "-rw-r--r-- 1 root     root        1895 апр 16 17:53  top.md\n",
      "-rw-r--r-- 1 root     root          63 апр 16 18:36 'Untitled-1 (2).md'\n",
      "-rw-r--r-- 1 root     root          63 апр 16 18:36  Untitled-1.md\n",
      "-rw-r--r-- 1 root     root       79963 апр 16 17:39  VK_HR_Tek_-_Описание_API_Документация_по_API_07.03.2024.md\n",
      "-rw-r--r-- 1 root     root      252277 апр 16 17:53 'vx7r (1).md'\n",
      "-rw-r--r-- 1 root     root      252277 апр 16 17:53  vx7r.md\n",
      "-rw-r--r-- 1 root     root        1033 апр 16 17:53  Yichengs_Resume_.md\n",
      "-rw-r--r-- 1 root     root       29596 апр 16 17:39  zid_50_cat.md\n",
      "-rw-r--r-- 1 root     root      641338 апр 16 18:36  Завтрак-у-Тиффани.md\n",
      "-rw-r--r-- 1 root     root         132 апр 16 17:53  Идея.md\n",
      "-rw-r--r-- 1 root     root       29487 апр 16 17:53  импорт_товаров_2.md\n",
      "-rw-r--r-- 1 root     root       29485 апр 16 17:53  импорт_товаров.md\n",
      "-rw-r--r-- 1 root     root        8703 апр 16 17:53 'Инструкция работника для подачи заявления на социальные льготы.md'\n",
      "-rw-r--r-- 1 root     root       51758 апр 16 17:53  Конспект_с_таимкодами._Знакомство_с_функциями_и_массивами.md\n",
      "-rw-r--r-- 1 root     root       51758 апр 16 17:53 'Конспект с таймкодами. Знакомство с функциями и массивами.md'\n",
      "-rw-r--r-- 1 root     root       91203 апр 16 17:53 'Конспект с таймкодами. Знакомство с языком программирования С#.md'\n",
      "-rw-r--r-- 1 root     root        3922 апр 16 17:39  Легенда_к_макету_стартовой_страницы_03-06-2024.md\n",
      "-rw-r--r-- 1 root     root         118 апр 16 17:53 'Лист Microsoft Excel с очень длинным названием.md'\n",
      "-rw-r--r-- 1 root     root         118 апр 16 17:53  Лист_Microsoft_Excel_с_очень_длинным_названием.md\n",
      "-rw-r--r-- 1 root     root         134 апр 16 17:53  Новый_текстовый_документ.md\n",
      "-rw-r--r-- 1 root     root          63 апр 16 18:36 'отпуск (не по графику+авто приказ).md'\n",
      "-rw-r--r-- 1 root     root          56 апр 16 17:53  Отчет.md\n",
      "-rw-r--r-- 1 root     root         408 апр 16 17:53  порт.md\n",
      "-rw-r--r-- 1 root     root       23345 апр 16 17:53 'ПРЕЗЕНТАЦИЯ.  Знакомство с языком программирования С#.md'\n",
      "-rw-r--r-- 1 root     root     3108883 апр 16 18:36  Приваловские-миллионы.md\n",
      "-rw-r--r-- 1 root     root       33968 апр 16 17:53  Пример_документа.md\n",
      "-rw-r--r-- 1 root     root       46952 апр 16 17:39 'Руководство по использованию Vaultwarden - InfoSec - Confluence.md'\n",
      "-rw-r--r-- 1 root     root        7912 апр 16 17:53 '[СКАЧАТЬ ПРЕЗЕНТАЦИЮ.Массивы и функции в программировании].md'\n",
      "-rw-r--r-- 1 root     root         826 апр 16 17:53 'Скриншоты текущего Sap_ модуль компетенций и СБГ213412412412412412 цаываывавыаыа.md'\n",
      "-rw-r--r-- 1 root     root         139 апр 16 17:53  Текстовыи_фаил_-_это_вам_не_картинка.md\n",
      "-rw-r--r-- 1 root     root         132 апр 16 17:53  текстовый.md\n",
      "-rw-r--r-- 1 root     root          20 апр 16 17:53 'Тест 1.md'\n",
      "-rw-r--r-- 1 root     root          20 апр 16 17:53  Тест_1.md\n",
      "-rw-r--r-- 1 root     root         132 апр 16 17:53  Тест_2.md\n",
      "-rw-r--r-- 1 root     root         132 апр 16 17:53 'Тест 3.md'\n",
      "-rw-r--r-- 1 root     root         132 апр 16 17:53  Тест_3.md\n",
      "-rw-r--r-- 1 root     root         132 апр 16 17:53 'Тест 4.md'\n",
      "-rw-r--r-- 1 root     root         132 апр 16 17:53  Тест_4.md\n",
      "-rw-r--r-- 1 root     root         132 апр 16 17:53 'Тест 5.md'\n",
      "-rw-r--r-- 1 root     root         132 апр 16 17:53 'Тест 6.md'\n",
      "-rw-r--r-- 1 root     root         132 апр 16 17:53  Тест_6.md\n",
      "-rw-r--r-- 1 root     root         130 апр 16 18:36 'Тестовыи-документ (2).md'\n",
      "-rw-r--r-- 1 root     root         126 апр 16 18:36  Тестовыи-документ.md\n",
      "-rw-r--r-- 1 root     root        2629 апр 16 17:53 'Тест Супер.md'\n",
      "-rw-r--r-- 1 root     root     4022688 апр 16 18:36  Улисс.md\n",
      "-rw-r--r-- 1 root     root        5220 апр 16 17:53  ура.md\n",
      "-rw-r--r-- 1 root     root          56 апр 16 17:53 'Файл 1.md'\n",
      "-rw-r--r-- 1 root     root          55 апр 16 17:53 'Файл 3.md'\n",
      "-rw-r--r-- 1 root     root          63 апр 16 17:53 'Файл тест.md'\n",
      "-rw-r--r-- 1 root     root      584932 апр 16 18:08  Фролов_К_В_Горные_машины_МЭ,_том_IV_24_2010.md\n",
      "-rw-r--r-- 1 root     root     4369784 апр 16 18:08  Фролов_К_В_Двигатели_внутреннего_сгорания_МЭ,_том_IV_14_2013.md\n",
      "-rw-r--r-- 1 root     root     2756136 апр 16 17:53  Фролов_К_В_Динамика_и_прочность_машин_МЭ,_том_I_3,_книга_1_1994.md\n",
      "-rw-r--r-- 1 root     root     1319618 апр 16 18:36  Хладнокровное-убийство.md\n",
      "-rw-r--r-- 1 root     root        7168 апр 16 17:39  Чек-лист_бадди_для_новых_сотрудников_VK_Tech.md\n",
      "-rw-r--r-- 1 root     root        5634 апр 16 17:53  Чек_лист_проверок__Редактирование_разрешений_сервиса_Списки.md\n",
      "-rw-r--r-- 1 root     root         132 апр 16 17:53  Чеклист_уведомлений.md\n",
      "-rw-r--r-- 1 root     root        7250 апр 16 17:53  Черновик.md\n",
      "-rw-r--r-- 1 root     root        1360 апр 16 17:53 'Шаблон загрузки организации новый.md'\n",
      "-rw-r--r-- 1 root     root         666 апр 16 17:53  Шаблон_загрузки_подразделений.md\n",
      "-rw-r--r-- 1 root     root         107 апр 16 17:53  Экспорт_участников_регистрации.md\n"
     ]
    }
   ],
   "source": [
    "!ls -la ../data/parsed_files"
   ]
  },
  {
   "cell_type": "code",
   "execution_count": 5,
   "id": "c098eac7-7430-4e11-8583-4e52ecffe1d2",
   "metadata": {},
   "outputs": [],
   "source": [
    "file_paths = [\"../data/parsed_files\" / Path(name) for name in os.listdir(\"../data/parsed_files\")]"
   ]
  },
  {
   "cell_type": "code",
   "execution_count": 6,
   "id": "01ef600a-4cd5-4826-9bc5-d4fc8bb49dde",
   "metadata": {},
   "outputs": [
    {
     "data": {
      "text/plain": [
       "148"
      ]
     },
     "execution_count": 6,
     "metadata": {},
     "output_type": "execute_result"
    }
   ],
   "source": [
    "len(file_paths)"
   ]
  },
  {
   "cell_type": "code",
   "execution_count": 8,
   "id": "0bebe934-271f-49f2-9bde-b5a718b2bbca",
   "metadata": {},
   "outputs": [
    {
     "name": "stdout",
     "output_type": "stream",
     "text": [
      "Loaded 148 documents\n",
      "— dkp-1.md ( 3942 символов )\n",
      "— DKP_1.md ( 4804 символов )\n",
      "— Инструкция работника для подачи заявления на социальные льготы.md ( 4861 символов )\n"
     ]
    }
   ],
   "source": [
    "import os\n",
    "from pathlib import Path\n",
    "from haystack.dataclasses import Document\n",
    "\n",
    "# Пути к вашим уже распаршенным файлам\n",
    "# Здесь мы предполагаем, что это обычные текстовые файлы (.txt, .md и т.п.)\n",
    "base_dir = Path(\"../data/parsed_files\")\n",
    "file_paths = [base_dir / name for name in os.listdir(base_dir) if (base_dir / name).is_file()]\n",
    "\n",
    "raw_docs = []\n",
    "for path in file_paths:\n",
    "    # Читаем весь текст из файла\n",
    "    with open(path, \"r\", encoding=\"utf-8\") as f:\n",
    "        text = f.read()\n",
    "    # Создаём Document, кладём в meta название и полный путь\n",
    "    doc = Document(\n",
    "        content=text,\n",
    "        meta={\n",
    "            \"name\": path.name,\n",
    "            \"path\": str(path.resolve())\n",
    "        }\n",
    "    )\n",
    "    raw_docs.append(doc)\n",
    "\n",
    "# Проверим, сколько документов получилось\n",
    "print(f\"Loaded {len(raw_docs)} documents\")\n",
    "for doc in raw_docs[:3]:\n",
    "    print(\"—\", doc.meta[\"name\"], \"(\", len(doc.content), \"символов )\")"
   ]
  },
  {
   "cell_type": "code",
   "execution_count": 10,
   "id": "500d1f31-9484-46e5-b418-3374ce3c8986",
   "metadata": {},
   "outputs": [
    {
     "name": "stderr",
     "output_type": "stream",
     "text": [
      "No abbreviations file found for en. Using default abbreviations.\n",
      "Document ID 935666b5c14f2e7f627c0c14192892ca0621a76ba81c673ad67a5265a808a298 has an empty content. Skipping this document.\n"
     ]
    },
    {
     "data": {
      "application/vnd.jupyter.widget-view+json": {
       "model_id": "ca5d833eb5f34b3e9a1ecc3222f051c5",
       "version_major": 2,
       "version_minor": 0
      },
      "text/plain": [
       "Batches:   0%|          | 0/1742 [00:00<?, ?it/s]"
      ]
     },
     "metadata": {},
     "output_type": "display_data"
    },
    {
     "ename": "KeyboardInterrupt",
     "evalue": "",
     "output_type": "error",
     "traceback": [
      "\u001b[31m---------------------------------------------------------------------------\u001b[39m",
      "\u001b[31mKeyboardInterrupt\u001b[39m                         Traceback (most recent call last)",
      "\u001b[36mCell\u001b[39m\u001b[36m \u001b[39m\u001b[32mIn[10]\u001b[39m\u001b[32m, line 20\u001b[39m\n\u001b[32m     17\u001b[39m indexing.connect(\u001b[33m\"\u001b[39m\u001b[33mdoc_embedder\u001b[39m\u001b[33m\"\u001b[39m, \u001b[33m\"\u001b[39m\u001b[33mwriter\u001b[39m\u001b[33m\"\u001b[39m)\n\u001b[32m     19\u001b[39m \u001b[38;5;66;03m# Запуск индексирования\u001b[39;00m\n\u001b[32m---> \u001b[39m\u001b[32m20\u001b[39m \u001b[43mindexing\u001b[49m\u001b[43m.\u001b[49m\u001b[43mrun\u001b[49m\u001b[43m(\u001b[49m\u001b[43m{\u001b[49m\u001b[33;43m\"\u001b[39;49m\u001b[33;43mcleaner\u001b[39;49m\u001b[33;43m\"\u001b[39;49m\u001b[43m:\u001b[49m\u001b[43m \u001b[49m\u001b[43m{\u001b[49m\u001b[33;43m\"\u001b[39;49m\u001b[33;43mdocuments\u001b[39;49m\u001b[33;43m\"\u001b[39;49m\u001b[43m:\u001b[49m\u001b[43m \u001b[49m\u001b[43mraw_docs\u001b[49m\u001b[43m}\u001b[49m\u001b[43m}\u001b[49m\u001b[43m)\u001b[49m\n",
      "\u001b[36mFile \u001b[39m\u001b[32m~/PycharmProjects/chatHRD/.venv/lib/python3.12/site-packages/haystack/core/pipeline/pipeline.py:255\u001b[39m, in \u001b[36mPipeline.run\u001b[39m\u001b[34m(self, data, include_outputs_from)\u001b[39m\n\u001b[32m    250\u001b[39m     cached_topological_sort = topological_sort\n\u001b[32m    251\u001b[39m     component = \u001b[38;5;28mself\u001b[39m._get_component_with_graph_metadata_and_visits(\n\u001b[32m    252\u001b[39m         component_name, component_visits[component_name]\n\u001b[32m    253\u001b[39m     )\n\u001b[32m--> \u001b[39m\u001b[32m255\u001b[39m component_outputs = \u001b[38;5;28;43mself\u001b[39;49m\u001b[43m.\u001b[49m\u001b[43m_run_component\u001b[49m\u001b[43m(\u001b[49m\u001b[43mcomponent\u001b[49m\u001b[43m,\u001b[49m\u001b[43m \u001b[49m\u001b[43minputs\u001b[49m\u001b[43m,\u001b[49m\u001b[43m \u001b[49m\u001b[43mcomponent_visits\u001b[49m\u001b[43m,\u001b[49m\u001b[43m \u001b[49m\u001b[43mparent_span\u001b[49m\u001b[43m=\u001b[49m\u001b[43mspan\u001b[49m\u001b[43m)\u001b[49m\n\u001b[32m    257\u001b[39m \u001b[38;5;66;03m# Updates global input state with component outputs and returns outputs that should go to\u001b[39;00m\n\u001b[32m    258\u001b[39m \u001b[38;5;66;03m# pipeline outputs.\u001b[39;00m\n\u001b[32m    260\u001b[39m component_pipeline_outputs = \u001b[38;5;28mself\u001b[39m._write_component_outputs(\n\u001b[32m    261\u001b[39m     component_name=component_name,\n\u001b[32m    262\u001b[39m     component_outputs=component_outputs,\n\u001b[32m   (...)\u001b[39m\u001b[32m    265\u001b[39m     include_outputs_from=include_outputs_from,\n\u001b[32m    266\u001b[39m )\n",
      "\u001b[36mFile \u001b[39m\u001b[32m~/PycharmProjects/chatHRD/.venv/lib/python3.12/site-packages/haystack/core/pipeline/pipeline.py:80\u001b[39m, in \u001b[36mPipeline._run_component\u001b[39m\u001b[34m(self, component, inputs, component_visits, parent_span)\u001b[39m\n\u001b[32m     78\u001b[39m logger.info(\u001b[33m\"\u001b[39m\u001b[33mRunning component \u001b[39m\u001b[38;5;132;01m{component_name}\u001b[39;00m\u001b[33m\"\u001b[39m, component_name=component_name)\n\u001b[32m     79\u001b[39m \u001b[38;5;28;01mtry\u001b[39;00m:\n\u001b[32m---> \u001b[39m\u001b[32m80\u001b[39m     component_output = \u001b[43minstance\u001b[49m\u001b[43m.\u001b[49m\u001b[43mrun\u001b[49m\u001b[43m(\u001b[49m\u001b[43m*\u001b[49m\u001b[43m*\u001b[49m\u001b[43mcomponent_inputs\u001b[49m\u001b[43m)\u001b[49m\n\u001b[32m     81\u001b[39m \u001b[38;5;28;01mexcept\u001b[39;00m \u001b[38;5;167;01mException\u001b[39;00m \u001b[38;5;28;01mas\u001b[39;00m error:\n\u001b[32m     82\u001b[39m     \u001b[38;5;28;01mraise\u001b[39;00m PipelineRuntimeError(\n\u001b[32m     83\u001b[39m         \u001b[33mf\u001b[39m\u001b[33m\"\u001b[39m\u001b[33mThe following component failed to run:\u001b[39m\u001b[38;5;130;01m\\n\u001b[39;00m\u001b[33m\"\u001b[39m\n\u001b[32m     84\u001b[39m         \u001b[33mf\u001b[39m\u001b[33m\"\u001b[39m\u001b[33mComponent name: \u001b[39m\u001b[33m'\u001b[39m\u001b[38;5;132;01m{\u001b[39;00mcomponent_name\u001b[38;5;132;01m}\u001b[39;00m\u001b[33m'\u001b[39m\u001b[38;5;130;01m\\n\u001b[39;00m\u001b[33m\"\u001b[39m\n\u001b[32m     85\u001b[39m         \u001b[33mf\u001b[39m\u001b[33m\"\u001b[39m\u001b[33mComponent type: \u001b[39m\u001b[33m'\u001b[39m\u001b[38;5;132;01m{\u001b[39;00minstance.\u001b[34m__class__\u001b[39m.\u001b[34m__name__\u001b[39m\u001b[38;5;132;01m}\u001b[39;00m\u001b[33m'\u001b[39m\u001b[38;5;130;01m\\n\u001b[39;00m\u001b[33m\"\u001b[39m\n\u001b[32m     86\u001b[39m         \u001b[33mf\u001b[39m\u001b[33m\"\u001b[39m\u001b[33mError: \u001b[39m\u001b[38;5;132;01m{\u001b[39;00m\u001b[38;5;28mstr\u001b[39m(error)\u001b[38;5;132;01m}\u001b[39;00m\u001b[33m\"\u001b[39m\n\u001b[32m     87\u001b[39m     ) \u001b[38;5;28;01mfrom\u001b[39;00m\u001b[38;5;250m \u001b[39m\u001b[34;01merror\u001b[39;00m\n",
      "\u001b[36mFile \u001b[39m\u001b[32m~/PycharmProjects/chatHRD/.venv/lib/python3.12/site-packages/haystack/components/embedders/sentence_transformers_document_embedder.py:244\u001b[39m, in \u001b[36mSentenceTransformersDocumentEmbedder.run\u001b[39m\u001b[34m(self, documents)\u001b[39m\n\u001b[32m    239\u001b[39m     text_to_embed = (\n\u001b[32m    240\u001b[39m         \u001b[38;5;28mself\u001b[39m.prefix + \u001b[38;5;28mself\u001b[39m.embedding_separator.join(meta_values_to_embed + [doc.content \u001b[38;5;129;01mor\u001b[39;00m \u001b[33m\"\u001b[39m\u001b[33m\"\u001b[39m]) + \u001b[38;5;28mself\u001b[39m.suffix\n\u001b[32m    241\u001b[39m     )\n\u001b[32m    242\u001b[39m     texts_to_embed.append(text_to_embed)\n\u001b[32m--> \u001b[39m\u001b[32m244\u001b[39m embeddings = \u001b[38;5;28;43mself\u001b[39;49m\u001b[43m.\u001b[49m\u001b[43membedding_backend\u001b[49m\u001b[43m.\u001b[49m\u001b[43membed\u001b[49m\u001b[43m(\u001b[49m\n\u001b[32m    245\u001b[39m \u001b[43m    \u001b[49m\u001b[43mtexts_to_embed\u001b[49m\u001b[43m,\u001b[49m\n\u001b[32m    246\u001b[39m \u001b[43m    \u001b[49m\u001b[43mbatch_size\u001b[49m\u001b[43m=\u001b[49m\u001b[38;5;28;43mself\u001b[39;49m\u001b[43m.\u001b[49m\u001b[43mbatch_size\u001b[49m\u001b[43m,\u001b[49m\n\u001b[32m    247\u001b[39m \u001b[43m    \u001b[49m\u001b[43mshow_progress_bar\u001b[49m\u001b[43m=\u001b[49m\u001b[38;5;28;43mself\u001b[39;49m\u001b[43m.\u001b[49m\u001b[43mprogress_bar\u001b[49m\u001b[43m,\u001b[49m\n\u001b[32m    248\u001b[39m \u001b[43m    \u001b[49m\u001b[43mnormalize_embeddings\u001b[49m\u001b[43m=\u001b[49m\u001b[38;5;28;43mself\u001b[39;49m\u001b[43m.\u001b[49m\u001b[43mnormalize_embeddings\u001b[49m\u001b[43m,\u001b[49m\n\u001b[32m    249\u001b[39m \u001b[43m    \u001b[49m\u001b[43mprecision\u001b[49m\u001b[43m=\u001b[49m\u001b[38;5;28;43mself\u001b[39;49m\u001b[43m.\u001b[49m\u001b[43mprecision\u001b[49m\u001b[43m,\u001b[49m\n\u001b[32m    250\u001b[39m \u001b[43m    \u001b[49m\u001b[43m*\u001b[49m\u001b[43m*\u001b[49m\u001b[43m(\u001b[49m\u001b[38;5;28;43mself\u001b[39;49m\u001b[43m.\u001b[49m\u001b[43mencode_kwargs\u001b[49m\u001b[43m \u001b[49m\u001b[38;5;28;43;01mif\u001b[39;49;00m\u001b[43m \u001b[49m\u001b[38;5;28;43mself\u001b[39;49m\u001b[43m.\u001b[49m\u001b[43mencode_kwargs\u001b[49m\u001b[43m \u001b[49m\u001b[38;5;28;43;01melse\u001b[39;49;00m\u001b[43m \u001b[49m\u001b[43m{\u001b[49m\u001b[43m}\u001b[49m\u001b[43m)\u001b[49m\u001b[43m,\u001b[49m\n\u001b[32m    251\u001b[39m \u001b[43m\u001b[49m\u001b[43m)\u001b[49m\n\u001b[32m    253\u001b[39m \u001b[38;5;28;01mfor\u001b[39;00m doc, emb \u001b[38;5;129;01min\u001b[39;00m \u001b[38;5;28mzip\u001b[39m(documents, embeddings):\n\u001b[32m    254\u001b[39m     doc.embedding = emb\n",
      "\u001b[36mFile \u001b[39m\u001b[32m~/PycharmProjects/chatHRD/.venv/lib/python3.12/site-packages/haystack/components/embedders/backends/sentence_transformers_backend.py:85\u001b[39m, in \u001b[36m_SentenceTransformersEmbeddingBackend.embed\u001b[39m\u001b[34m(self, data, **kwargs)\u001b[39m\n\u001b[32m     84\u001b[39m \u001b[38;5;28;01mdef\u001b[39;00m\u001b[38;5;250m \u001b[39m\u001b[34membed\u001b[39m(\u001b[38;5;28mself\u001b[39m, data: List[\u001b[38;5;28mstr\u001b[39m], **kwargs) -> List[List[\u001b[38;5;28mfloat\u001b[39m]]:\n\u001b[32m---> \u001b[39m\u001b[32m85\u001b[39m     embeddings = \u001b[38;5;28;43mself\u001b[39;49m\u001b[43m.\u001b[49m\u001b[43mmodel\u001b[49m\u001b[43m.\u001b[49m\u001b[43mencode\u001b[49m\u001b[43m(\u001b[49m\u001b[43mdata\u001b[49m\u001b[43m,\u001b[49m\u001b[43m \u001b[49m\u001b[43m*\u001b[49m\u001b[43m*\u001b[49m\u001b[43mkwargs\u001b[49m\u001b[43m)\u001b[49m.tolist()\n\u001b[32m     86\u001b[39m     \u001b[38;5;28;01mreturn\u001b[39;00m embeddings\n",
      "\u001b[36mFile \u001b[39m\u001b[32m~/PycharmProjects/chatHRD/.venv/lib/python3.12/site-packages/sentence_transformers/SentenceTransformer.py:720\u001b[39m, in \u001b[36mSentenceTransformer.encode\u001b[39m\u001b[34m(self, sentences, prompt_name, prompt, batch_size, show_progress_bar, output_value, precision, convert_to_numpy, convert_to_tensor, device, normalize_embeddings, **kwargs)\u001b[39m\n\u001b[32m    718\u001b[39m             \u001b[38;5;66;03m# fixes for #522 and #487 to avoid oom problems on gpu with large datasets\u001b[39;00m\n\u001b[32m    719\u001b[39m             \u001b[38;5;28;01mif\u001b[39;00m convert_to_numpy:\n\u001b[32m--> \u001b[39m\u001b[32m720\u001b[39m                 embeddings = \u001b[43membeddings\u001b[49m\u001b[43m.\u001b[49m\u001b[43mcpu\u001b[49m\u001b[43m(\u001b[49m\u001b[43m)\u001b[49m\n\u001b[32m    722\u001b[39m         all_embeddings.extend(embeddings)\n\u001b[32m    724\u001b[39m all_embeddings = [all_embeddings[idx] \u001b[38;5;28;01mfor\u001b[39;00m idx \u001b[38;5;129;01min\u001b[39;00m np.argsort(length_sorted_idx)]\n",
      "\u001b[31mKeyboardInterrupt\u001b[39m: "
     ]
    }
   ],
   "source": [
    "# 3. Индексирование\n",
    "document_store = InMemoryDocumentStore(embedding_similarity_function=\"cosine\")\n",
    "indexing = Pipeline()\n",
    "indexing.add_component(\"cleaner\", DocumentCleaner())\n",
    "indexing.add_component(\"splitter\", DocumentSplitter(split_by=\"sentence\", split_length=2))\n",
    "indexing.add_component(\n",
    "    \"doc_embedder\",\n",
    "    SentenceTransformersDocumentEmbedder(\n",
    "        model=\"thenlper/gte-large\",\n",
    "        device=ComponentDevice.from_str(\"cuda:0\"),\n",
    "        meta_fields_to_embed=[\"title\"]\n",
    "    )\n",
    ")\n",
    "indexing.add_component(\"writer\", DocumentWriter(document_store=document_store))\n",
    "indexing.connect(\"cleaner\", \"splitter\")\n",
    "indexing.connect(\"splitter\", \"doc_embedder\")\n",
    "indexing.connect(\"doc_embedder\", \"writer\")\n",
    "\n",
    "# Запуск индексирования\n",
    "indexing.run({\"cleaner\": {\"documents\": raw_docs}})"
   ]
  },
  {
   "cell_type": "code",
   "execution_count": null,
   "id": "70947f4c-5a72-4b5f-b622-ef3663f67d4c",
   "metadata": {},
   "outputs": [],
   "source": [
    "query_pipeline = Pipeline()\n",
    "query_pipeline.add_component(\"text_embedder\", SentenceTransformersTextEmbedder())\n",
    "query_pipeline.add_component(\"retriever\", InMemoryEmbeddingRetriever(document_store=document_store))\n",
    "query_pipeline.connect(\"text_embedder.embedding\", \"retriever.query_embedding\")\n",
    "\n",
    "query = \"Who lives in Berlin?\"\n",
    "\n",
    "indexing_pipeline.run({\"documents\": documents})\n",
    "result = query_pipeline.run({\"text_embedder\":{\"text\": query}})\n",
    "\n",
    "print(result['retriever']['documents'][0])"
   ]
  },
  {
   "cell_type": "code",
   "execution_count": null,
   "id": "80b91e7d-6aeb-4cdf-9e1c-aa935991bf34",
   "metadata": {},
   "outputs": [],
   "source": []
  },
  {
   "cell_type": "code",
   "execution_count": null,
   "id": "5c305994-7ef6-4b01-b90f-35bca53e3d3b",
   "metadata": {},
   "outputs": [],
   "source": []
  },
  {
   "cell_type": "code",
   "execution_count": null,
   "id": "fb7a5717-0e4d-403a-b6a0-c3a533f09889",
   "metadata": {},
   "outputs": [],
   "source": []
  },
  {
   "cell_type": "code",
   "execution_count": null,
   "id": "f8fd4b0a-2577-4034-a600-503f8ba79ff2",
   "metadata": {},
   "outputs": [],
   "source": []
  },
  {
   "cell_type": "code",
   "execution_count": null,
   "id": "0e170313-0eff-4c0e-83f6-87b0e744bb95",
   "metadata": {},
   "outputs": [],
   "source": []
  },
  {
   "cell_type": "code",
   "execution_count": null,
   "id": "3af56ce5-d548-4126-9be1-e78a8e69bffc",
   "metadata": {},
   "outputs": [],
   "source": [
    "Как менялось предназначение здания музея Прадо на протяжении истории, и какие ключевые события повлияли на его становление?"
   ]
  },
  {
   "cell_type": "code",
   "execution_count": 23,
   "id": "03685120-c166-42d1-b4e4-9cb0dd218ae3",
   "metadata": {},
   "outputs": [],
   "source": [
    "# 4. Настройка генератора на Ollama\n",
    "from haystack.utils import Secret\n",
    "\n",
    "MODEL_NAME = \"hf.co/IlyaGusev/saiga_yandexgpt_8b_gguf:Q6_K\"\n",
    "generator = OpenAIGenerator(\n",
    "    model=MODEL_NAME,\n",
    "    api_key=Secret.from_token(\"ollama\"),\n",
    "    api_base_url=\"http://localhost:11434/v1\",\n",
    "    generation_kwargs={\n",
    "        \"temperature\": 0.8\n",
    "    }\n",
    ")"
   ]
  },
  {
   "cell_type": "code",
   "execution_count": 22,
   "id": "826b608f-7e24-40f8-8cd9-5fa3b259b7e9",
   "metadata": {},
   "outputs": [
    {
     "data": {
      "text/html": [
       "<pre style=\"white-space:pre;overflow-x:auto;line-height:normal;font-family:Menlo,'DejaVu Sans Mono',consolas,'Courier New',monospace\"><span style=\"font-weight: bold\">{</span>\n",
       "    <span style=\"color: #008000; text-decoration-color: #008000\">'replies'</span>: <span style=\"font-weight: bold\">[</span>\n",
       "        <span style=\"color: #008000; text-decoration-color: #008000\">'В Италии солнце смеется,\\nИ пицца там в каждом доме. Колибри\\nЛетает меж старинных колоколов;\\nВина </span>\n",
       "<span style=\"color: #008000; text-decoration-color: #008000\">сладкие, как мечты влюбленных.\\n\\nГде Рафаэль кисть своею рисует,\\nА Верди музыку страстно дарит.\\nИталия — страна,</span>\n",
       "<span style=\"color: #008000; text-decoration-color: #008000\">где сердце тает,\\nКогда душа с природой все сливает.'</span>\n",
       "    <span style=\"font-weight: bold\">]</span>,\n",
       "    <span style=\"color: #008000; text-decoration-color: #008000\">'meta'</span>: <span style=\"font-weight: bold\">[</span>\n",
       "        <span style=\"font-weight: bold\">{</span>\n",
       "            <span style=\"color: #008000; text-decoration-color: #008000\">'model'</span>: <span style=\"color: #008000; text-decoration-color: #008000\">'hf.co/IlyaGusev/saiga_yandexgpt_8b_gguf:Q6_K'</span>,\n",
       "            <span style=\"color: #008000; text-decoration-color: #008000\">'index'</span>: <span style=\"color: #008080; text-decoration-color: #008080; font-weight: bold\">0</span>,\n",
       "            <span style=\"color: #008000; text-decoration-color: #008000\">'finish_reason'</span>: <span style=\"color: #008000; text-decoration-color: #008000\">'stop'</span>,\n",
       "            <span style=\"color: #008000; text-decoration-color: #008000\">'usage'</span>: <span style=\"font-weight: bold\">{</span>\n",
       "                <span style=\"color: #008000; text-decoration-color: #008000\">'completion_tokens'</span>: <span style=\"color: #008080; text-decoration-color: #008080; font-weight: bold\">74</span>,\n",
       "                <span style=\"color: #008000; text-decoration-color: #008000\">'prompt_tokens'</span>: <span style=\"color: #008080; text-decoration-color: #008080; font-weight: bold\">31</span>,\n",
       "                <span style=\"color: #008000; text-decoration-color: #008000\">'total_tokens'</span>: <span style=\"color: #008080; text-decoration-color: #008080; font-weight: bold\">105</span>,\n",
       "                <span style=\"color: #008000; text-decoration-color: #008000\">'completion_tokens_details'</span>: <span style=\"color: #800080; text-decoration-color: #800080; font-style: italic\">None</span>,\n",
       "                <span style=\"color: #008000; text-decoration-color: #008000\">'prompt_tokens_details'</span>: <span style=\"color: #800080; text-decoration-color: #800080; font-style: italic\">None</span>\n",
       "            <span style=\"font-weight: bold\">}</span>\n",
       "        <span style=\"font-weight: bold\">}</span>\n",
       "    <span style=\"font-weight: bold\">]</span>\n",
       "<span style=\"font-weight: bold\">}</span>\n",
       "</pre>\n"
      ],
      "text/plain": [
       "\u001b[1m{\u001b[0m\n",
       "    \u001b[32m'replies'\u001b[0m: \u001b[1m[\u001b[0m\n",
       "        \u001b[32m'В Италии солнце смеется,\\nИ пицца там в каждом доме. Колибри\\nЛетает меж старинных колоколов;\\nВина \u001b[0m\n",
       "\u001b[32mсладкие, как мечты влюбленных.\\n\\nГде Рафаэль кисть своею рисует,\\nА Верди музыку страстно дарит.\\nИталия — страна,\u001b[0m\n",
       "\u001b[32mгде сердце тает,\\nКогда душа с природой все сливает.'\u001b[0m\n",
       "    \u001b[1m]\u001b[0m,\n",
       "    \u001b[32m'meta'\u001b[0m: \u001b[1m[\u001b[0m\n",
       "        \u001b[1m{\u001b[0m\n",
       "            \u001b[32m'model'\u001b[0m: \u001b[32m'hf.co/IlyaGusev/saiga_yandexgpt_8b_gguf:Q6_K'\u001b[0m,\n",
       "            \u001b[32m'index'\u001b[0m: \u001b[1;36m0\u001b[0m,\n",
       "            \u001b[32m'finish_reason'\u001b[0m: \u001b[32m'stop'\u001b[0m,\n",
       "            \u001b[32m'usage'\u001b[0m: \u001b[1m{\u001b[0m\n",
       "                \u001b[32m'completion_tokens'\u001b[0m: \u001b[1;36m74\u001b[0m,\n",
       "                \u001b[32m'prompt_tokens'\u001b[0m: \u001b[1;36m31\u001b[0m,\n",
       "                \u001b[32m'total_tokens'\u001b[0m: \u001b[1;36m105\u001b[0m,\n",
       "                \u001b[32m'completion_tokens_details'\u001b[0m: \u001b[3;35mNone\u001b[0m,\n",
       "                \u001b[32m'prompt_tokens_details'\u001b[0m: \u001b[3;35mNone\u001b[0m\n",
       "            \u001b[1m}\u001b[0m\n",
       "        \u001b[1m}\u001b[0m\n",
       "    \u001b[1m]\u001b[0m\n",
       "\u001b[1m}\u001b[0m\n"
      ]
     },
     "metadata": {},
     "output_type": "display_data"
    }
   ],
   "source": [
    "# quick check\n",
    "import rich\n",
    "rich.print(generator.run(\"Please write a rhyme about Italy.\"))"
   ]
  },
  {
   "cell_type": "code",
   "execution_count": null,
   "id": "eb4c2dcc-8a17-4327-ad43-0167eda57ace",
   "metadata": {},
   "outputs": [],
   "source": [
    "# 7. Утилита для получения ответа\n",
    "def get_generative_answer(query: str):\n",
    "    result = rag.run({\n",
    "        \"text_embedder\": {\"text\": query},\n",
    "        \"prompt_builder\": {\"query\": query}\n",
    "    })\n",
    "    answer = result[\"llm\"][\"replies\"][0]\n",
    "    print(f\"Вопрос: {query}\\nОтвет: {answer}\\n\")\n",
    "\n",
    "# Пример\n",
    "get_generative_answer(\"Какой стиль у группы The Cure?\")\n",
    "get_generative_answer(\"Была ли Земля плоской?\")\n"
   ]
  },
  {
   "cell_type": "code",
   "execution_count": null,
   "id": "88540f6c-89e1-4f7f-b4e3-bf6915e70c60",
   "metadata": {},
   "outputs": [],
   "source": []
  },
  {
   "cell_type": "code",
   "execution_count": null,
   "id": "ffa8f525-9391-482c-a6c2-94856101f3f5",
   "metadata": {},
   "outputs": [],
   "source": []
  },
  {
   "cell_type": "code",
   "execution_count": null,
   "id": "ca992b57-1c59-44ce-92eb-5cfc8cb3e47f",
   "metadata": {},
   "outputs": [],
   "source": []
  },
  {
   "cell_type": "code",
   "execution_count": null,
   "id": "2d18c8ad-9f4c-4a86-ad16-2cc53d10bf53",
   "metadata": {},
   "outputs": [],
   "source": []
  },
  {
   "cell_type": "code",
   "execution_count": null,
   "id": "80b2e5eb-053e-4b00-ada9-4ffd02ffb59a",
   "metadata": {},
   "outputs": [],
   "source": []
  },
  {
   "cell_type": "code",
   "execution_count": null,
   "id": "1c03bdc6-e493-4b8e-8e07-3e2db132e758",
   "metadata": {},
   "outputs": [],
   "source": []
  },
  {
   "cell_type": "code",
   "execution_count": null,
   "id": "a8b05dfb-f605-4455-a2b7-062cfa346289",
   "metadata": {},
   "outputs": [],
   "source": []
  },
  {
   "cell_type": "code",
   "execution_count": null,
   "id": "98effcbd-3e5d-4868-85be-45d33ca95c0c",
   "metadata": {},
   "outputs": [],
   "source": []
  },
  {
   "cell_type": "code",
   "execution_count": null,
   "id": "04de56e3-e63b-4331-83d9-478f6c367b20",
   "metadata": {},
   "outputs": [],
   "source": []
  },
  {
   "cell_type": "code",
   "execution_count": null,
   "id": "aa777292-735e-4006-bba3-60d4e4e998f0",
   "metadata": {},
   "outputs": [],
   "source": []
  },
  {
   "cell_type": "code",
   "execution_count": null,
   "id": "b02b4da0-31ab-4666-b842-d09601592097",
   "metadata": {},
   "outputs": [],
   "source": []
  },
  {
   "cell_type": "code",
   "execution_count": null,
   "id": "c91a0d38-3e0a-44dc-b5f5-0cc402e14f9e",
   "metadata": {},
   "outputs": [],
   "source": []
  }
 ],
 "metadata": {
  "kernelspec": {
   "display_name": "Python 3 (ipykernel)",
   "language": "python",
   "name": "python3"
  },
  "language_info": {
   "codemirror_mode": {
    "name": "ipython",
    "version": 3
   },
   "file_extension": ".py",
   "mimetype": "text/x-python",
   "name": "python",
   "nbconvert_exporter": "python",
   "pygments_lexer": "ipython3",
   "version": "3.12.3"
  }
 },
 "nbformat": 4,
 "nbformat_minor": 5
}
