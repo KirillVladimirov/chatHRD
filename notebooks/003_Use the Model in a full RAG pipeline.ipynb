{
 "cells": [
  {
   "cell_type": "code",
   "execution_count": 1,
   "id": "00a06d2e-1f7e-4cf0-8581-3537bc762237",
   "metadata": {},
   "outputs": [],
   "source": [
    "from haystack.utils import Secret\n",
    "from haystack.components.generators import OpenAIGenerator"
   ]
  },
  {
   "cell_type": "code",
   "execution_count": 2,
   "id": "760e3882-be95-4899-9dad-c4c9c380577f",
   "metadata": {},
   "outputs": [],
   "source": [
    "\n",
    "\n",
    "MODEL_NAME = \"hf.co/IlyaGusev/saiga_yandexgpt_8b_gguf:Q6_K\"\n",
    "llm = OpenAIGenerator(\n",
    "    model=MODEL_NAME,\n",
    "    api_key=Secret.from_token(\"ollama\"),\n",
    "    api_base_url=\"http://localhost:11434/v1\",\n",
    "    generation_kwargs={\n",
    "        \"temperature\": 0.8\n",
    "    }\n",
    ")"
   ]
  },
  {
   "cell_type": "code",
   "execution_count": null,
   "id": "7c1242e0-3474-4f1d-ac8a-59037a74094d",
   "metadata": {},
   "outputs": [],
   "source": []
  },
  {
   "cell_type": "code",
   "execution_count": 5,
   "id": "049613eb-06c4-49b8-8662-af2c8bab6e7f",
   "metadata": {},
   "outputs": [
    {
     "name": "stderr",
     "output_type": "stream",
     "text": [
      "\n",
      "KeyboardInterrupt\n",
      "\n"
     ]
    }
   ],
   "source": [
    "%%time\n",
    "\n",
    "result = llm.run(\"What's Natural Language Processing?\", generation_kwargs={\"max_tokens\": 350})\n",
    "print(result[\"replies\"][0])"
   ]
  },
  {
   "cell_type": "code",
   "execution_count": null,
   "id": "f11c224d-3e98-4299-8fb9-58ebe9334dae",
   "metadata": {},
   "outputs": [],
   "source": []
  },
  {
   "cell_type": "code",
   "execution_count": null,
   "id": "0064d4b8-ea5a-4071-ad57-9264de3c9f25",
   "metadata": {},
   "outputs": [],
   "source": []
  },
  {
   "cell_type": "code",
   "execution_count": null,
   "id": "ab947e8f-4246-492a-9150-bed5e6078fed",
   "metadata": {},
   "outputs": [],
   "source": []
  },
  {
   "cell_type": "code",
   "execution_count": null,
   "id": "aac6559f-970d-4c93-8d49-174263ddcbc0",
   "metadata": {},
   "outputs": [],
   "source": []
  },
  {
   "cell_type": "code",
   "execution_count": null,
   "id": "12b0c6f4-34c7-4c57-8dd6-5c20d53352e7",
   "metadata": {},
   "outputs": [],
   "source": []
  },
  {
   "cell_type": "code",
   "execution_count": null,
   "id": "2e3eff4e-0349-449f-bfc1-aa3a5c0540c0",
   "metadata": {},
   "outputs": [],
   "source": []
  },
  {
   "cell_type": "code",
   "execution_count": null,
   "id": "51fe22ab-ce17-4cb0-bcba-4dd5b3470b05",
   "metadata": {},
   "outputs": [],
   "source": []
  },
  {
   "cell_type": "code",
   "execution_count": null,
   "id": "36d73848-1fb6-494a-a995-0f5b949e534a",
   "metadata": {},
   "outputs": [],
   "source": []
  },
  {
   "cell_type": "code",
   "execution_count": null,
   "id": "15b24de3-ad1a-4c4b-9a15-d2f36eca7625",
   "metadata": {},
   "outputs": [],
   "source": []
  },
  {
   "cell_type": "code",
   "execution_count": null,
   "id": "573caba7-bafa-4ddd-ae95-b94cd7c91f6b",
   "metadata": {},
   "outputs": [],
   "source": []
  },
  {
   "cell_type": "code",
   "execution_count": null,
   "id": "8c87d0bd-4e23-4cb6-a6b0-170fd900ca36",
   "metadata": {},
   "outputs": [],
   "source": []
  },
  {
   "cell_type": "code",
   "execution_count": null,
   "id": "eaceb0e5-c8e7-40a6-9572-5447cbd6ed41",
   "metadata": {},
   "outputs": [],
   "source": []
  }
 ],
 "metadata": {
  "kernelspec": {
   "display_name": "Python 3 (ipykernel)",
   "language": "python",
   "name": "python3"
  },
  "language_info": {
   "codemirror_mode": {
    "name": "ipython",
    "version": 3
   },
   "file_extension": ".py",
   "mimetype": "text/x-python",
   "name": "python",
   "nbconvert_exporter": "python",
   "pygments_lexer": "ipython3",
   "version": "3.12.3"
  }
 },
 "nbformat": 4,
 "nbformat_minor": 5
}
