{
 "cells": [
  {
   "cell_type": "code",
   "execution_count": 1,
   "id": "dcbbaf3b-5106-4401-9ecf-4f30aa52d25c",
   "metadata": {},
   "outputs": [],
   "source": [
    "import os\n",
    "from pathlib import Path\n",
    "from typing import List, Union\n",
    "\n",
    "from haystack.components.preprocessors import DocumentCleaner\n",
    "from haystack_integrations.document_stores.chroma import ChromaDocumentStore\n",
    "from haystack.components.converters import TextFileToDocument, PyPDFToDocument\n",
    "from haystack.components.converters.docx import DOCXToDocument\n",
    "from haystack.components.converters.csv import CSVToDocument\n",
    "from haystack.components.converters import JSONConverter\n",
    "from haystack.components.converters import XLSXToDocument\n",
    "from haystack.components.converters import TikaDocumentConverter\n",
    "from haystack.components.converters import MarkdownToDocument\n",
    "from haystack.components.routers import FileTypeRouter\n",
    "from haystack.components.joiners.document_joiner import DocumentJoiner\n",
    "from haystack.components.preprocessors import DocumentSplitter\n",
    "from haystack.components.embedders import SentenceTransformersDocumentEmbedder\n",
    "from haystack.components.writers import DocumentWriter\n",
    "from haystack.components.routers import ConditionalRouter\n",
    "from haystack.document_stores.in_memory import InMemoryDocumentStore\n",
    "from haystack import Pipeline\n",
    "from haystack import component, Document\n",
    "from haystack.dataclasses import ByteStream\n",
    "import pickle\n",
    "import nltk\n",
    "import numpy as np\n",
    "\n",
    "import pickle, nltk\n",
    "from rank_bm25 import BM25L                     # можно BM25Okapi/BM25Plus\n",
    "from nltk.tokenize import word_tokenize\n",
    "\n",
    "import fitz                   # PyMuPDF, для быстрой проверки наличия текста :contentReference[oaicite:0]{index=0}\n",
    "from pdf2image import convert_from_path  # конвертация PDF→PIL.Image :contentReference[oaicite:1]{index=1}\n",
    "import pytesseract            # обёртка над Tesseract OCR :contentReference[oaicite:2]{index=2}\n",
    "import logging\n",
    "\n",
    "logger = logging.getLogger(__name__)\n"
   ]
  },
  {
   "cell_type": "code",
   "execution_count": 2,
   "id": "549ab6b2-1257-4a85-a6f5-07a3f59f6410",
   "metadata": {},
   "outputs": [],
   "source": [
    "import mimetypes\n",
    "mimetypes.add_type(\"application/json\", \".json\")"
   ]
  },
  {
   "cell_type": "code",
   "execution_count": 3,
   "id": "c3e1d14f-2319-4f5f-abb9-2de7144dbfe1",
   "metadata": {},
   "outputs": [
    {
     "name": "stderr",
     "output_type": "stream",
     "text": [
      "[nltk_data] Downloading package punkt to /home/skitarii/nltk_data...\n",
      "[nltk_data]   Package punkt is already up-to-date!\n"
     ]
    },
    {
     "data": {
      "text/plain": [
       "True"
      ]
     },
     "execution_count": 3,
     "metadata": {},
     "output_type": "execute_result"
    }
   ],
   "source": [
    "nltk.download(\"punkt\")"
   ]
  },
  {
   "cell_type": "code",
   "execution_count": 4,
   "id": "aad4ad9c-7be6-4f9f-a4ea-52f15f2e4dd9",
   "metadata": {},
   "outputs": [],
   "source": [
    "# !pip install tika\n",
    "# !pip install openpyxl\n",
    "# !pip install tabulate\n",
    "# !pip install pygraphviz\n",
    "# !pip install hf_xet\n",
    "# !pip install markdown-it-py mdit_plain\n",
    "# !pip install rank_bm25 nltk\n",
    "# !pip install pdf2image"
   ]
  },
  {
   "cell_type": "code",
   "execution_count": 5,
   "id": "b32f2a4d-fb64-472a-8a19-5690ce0fadc6",
   "metadata": {},
   "outputs": [],
   "source": [
    "# Инициализация хранилища (Chroma) с сохранением на диск\n",
    "embedding_store = ChromaDocumentStore(persist_path=\"../data/chroma_index\")"
   ]
  },
  {
   "cell_type": "code",
   "execution_count": 6,
   "id": "7ee08528-adb3-4f7d-8e37-5f0b639e3a9a",
   "metadata": {},
   "outputs": [],
   "source": [
    "# def build_bm25(docs: list[Document], path: str = \"../data/bm25.pkl\"):\n",
    "#     # гарантируем наличие каталога\n",
    "#     Path(path).parent.mkdir(parents=True, exist_ok=True)\n",
    "\n",
    "#     # строим индекс\n",
    "#     corpus  = [word_tokenize(d.content.lower()) for d in docs]\n",
    "#     doc_ids = [d.id for d in docs]\n",
    "#     bm25    = BM25L(corpus)                # можно BM25Okapi / BM25Plus\n",
    "\n",
    "#     # сохраняем\n",
    "#     with open(path, \"wb\") as f:\n",
    "#         pickle.dump((bm25, doc_ids), f)"
   ]
  },
  {
   "cell_type": "code",
   "execution_count": 7,
   "id": "12cc0b11-2d40-4fed-9687-a6576c7e4963",
   "metadata": {},
   "outputs": [],
   "source": [
    "# Инициализация компонентов\n",
    "file_router = FileTypeRouter(\n",
    "    mime_types=[\n",
    "        \"text/plain\",                        # .txt, .yml\n",
    "        \"text/csv\",                          # .csv\n",
    "        \"text/markdown\",                     # .md\n",
    "        \"application/json\",                  # .json\n",
    "        \"application/pdf\",                   # .pdf\n",
    "        \"application/msword\",                # .doc\n",
    "        \"application/vnd.openxmlformats-officedocument.wordprocessingml.document\",  # .docx\n",
    "        \"application/epub+zip\",              # .epub\n",
    "        \"application/vnd.ms-excel\",          # .xls\n",
    "        \"application/vnd.openxmlformats-officedocument.spreadsheetml.sheet\",        # .xlsx\n",
    "    ]\n",
    ")\n",
    "# --- конвертеры ---\n",
    "# txt_converter = TextFileToDocument(errors=\"ignore\")\n",
    "txt_utf8 = TextFileToDocument()                 # encoding=\"utf-8\" по умолчанию\n",
    "txt_cp   = TextFileToDocument(encoding=\"cp1251\")# второй конвертер под Windows‑1251\n",
    "csv_converter   = CSVToDocument()\n",
    "# в пайплайне json файлы нужно просто читать как текст \n",
    "# без проверки валидности формата или извлечения данных по схеме\n",
    "# все файлы будут разные, нельзя предусмотреть схему\n",
    "json_converter  = TextFileToDocument()\n",
    "# pdf_converter = PyPDFToDocument() \n",
    "tika_doc_converter  = TikaDocumentConverter()   # .doc\n",
    "tika_epub_converter  = TikaDocumentConverter()  # .epub\n",
    "tika_xls_converter  = TikaDocumentConverter()   # .xls\n",
    "docx_converter = DOCXToDocument()\n",
    "xlsx_converter  = XLSXToDocument(table_format=\"markdown\")\n",
    "tika_unclassified_converter  = TikaDocumentConverter()   # for all other\n",
    "md_converter = MarkdownToDocument()"
   ]
  },
  {
   "cell_type": "code",
   "execution_count": 8,
   "id": "abc6ae72-b163-43a7-bcde-ba9516b1ec6c",
   "metadata": {},
   "outputs": [],
   "source": [
    "# --- объединитель ---\n",
    "joiner = DocumentJoiner(join_mode=\"concatenate\")"
   ]
  },
  {
   "cell_type": "code",
   "execution_count": 9,
   "id": "473405bc-b41a-42b8-84bc-5e47a8002c6e",
   "metadata": {},
   "outputs": [],
   "source": [
    "cleaner = DocumentCleaner(\n",
    "    remove_empty_lines=True,\n",
    "    remove_extra_whitespaces=True,\n",
    "    remove_repeated_substrings=True, \n",
    ")\n",
    "splitter = DocumentSplitter(\n",
    "    split_by=\"word\",\n",
    "    split_length=500, \n",
    "    split_overlap=100\n",
    ")\n",
    "embedder = SentenceTransformersDocumentEmbedder(\"sentence-transformers/paraphrase-multilingual-MiniLM-L12-v2\")\n",
    "embedding_writer = DocumentWriter(document_store=embedding_store)"
   ]
  },
  {
   "cell_type": "code",
   "execution_count": 10,
   "id": "d5d61c5b-3f08-4ec1-8fde-671c11f7371d",
   "metadata": {},
   "outputs": [],
   "source": [
    "@component\n",
    "class OverlapToStr:\n",
    "    \"\"\"\n",
    "    _split_overlap: [{'range': (s, e), …}] → \"s:e\"\n",
    "    \"\"\"\n",
    "    @component.output_types(documents=list[Document])\n",
    "    def run(self, documents: List[Document]):\n",
    "        for d in documents:\n",
    "            ov = d.meta.get(\"_split_overlap\")\n",
    "            # ov = [{'range': (start, end), ...}]\n",
    "            if (isinstance(ov, list) and ov\n",
    "                    and isinstance(ov[0], dict)\n",
    "                    and \"range\" in ov[0]):\n",
    "                s, e = ov[0][\"range\"]\n",
    "                d.meta[\"_split_overlap\"] = f\"{s}:{e}\"\n",
    "        return {\"documents\": documents}\n"
   ]
  },
  {
   "cell_type": "code",
   "execution_count": 11,
   "id": "32dc8a28-0151-4a4f-9490-def7941d906c",
   "metadata": {},
   "outputs": [],
   "source": [
    "@component\n",
    "class EncodingSplitter:\n",
    "    @component.output_types(utf8=List[str], cp=List[str])\n",
    "    def run(\n",
    "        self,\n",
    "        sources: List[Union[str, Path, ByteStream]]   # ← тип совпадает с роутером\n",
    "    ):\n",
    "        utf8_files, cp_files = [], []\n",
    "        for src in sources:\n",
    "            # превращаем ByteStream → Path или пропускаем\n",
    "            path = Path(src) if isinstance(src, (str, Path)) else None\n",
    "            if not path:\n",
    "                continue\n",
    "            try:\n",
    "                path.read_text(encoding=\"utf-8\")\n",
    "                utf8_files.append(str(path))\n",
    "            except UnicodeDecodeError:\n",
    "                cp_files.append(str(path))\n",
    "        return {\"utf8\": utf8_files, \"cp\": cp_files}"
   ]
  },
  {
   "cell_type": "code",
   "execution_count": 12,
   "id": "c7e3cff8-ec46-4bbd-a696-b7062ac31437",
   "metadata": {},
   "outputs": [],
   "source": [
    "@component\n",
    "class OCRPDFToDocument:\n",
    "    \"\"\"\n",
    "    Конвертирует PDF-файлы:\n",
    "      – если в PDF есть текстовый слой → быстрое извлечение через PyMuPDF;\n",
    "      – иначе (сканы, пустые, повреждённые) → распознавание через pytesseract.\n",
    "    Выходной сокет: 'documents' (List[Document]) :contentReference[oaicite:3]{index=3}.\n",
    "    \"\"\"\n",
    "    @component.output_types(documents=List[Document])\n",
    "    def run(self, sources: List[Union[str, Path]]) -> dict:\n",
    "        all_docs: List[Document] = []\n",
    "        for src in sources:\n",
    "            path = Path(src)\n",
    "            try:\n",
    "                # 1) Открываем PDF и пытаемся извлечь «сырой» текст\n",
    "                pdf = fitz.open(path)  \n",
    "                text_pages = [page.get_text(\"text\", sort=True) for page in pdf]  \n",
    "                full_text = \"\\n\".join(text_pages).strip()  \n",
    "                # если получилось >20 символов — считаем, что текстовый слой есть\n",
    "                if len(full_text) >= 20:\n",
    "                    all_docs.append(Document(\n",
    "                        content=full_text,\n",
    "                        meta={\"name\": path.name, \"ocr_used\": False}\n",
    "                    ))\n",
    "                    continue\n",
    "            except Exception as e:\n",
    "                logger.debug(f\"PyMuPDF failed on {path.name}: {e}\")\n",
    "            \n",
    "            # 2) PDF без текста — конвертируем страницы в изображения\n",
    "            try:\n",
    "                images = convert_from_path(str(path), dpi=300)\n",
    "            except Exception as e:\n",
    "                logger.error(f\"PDF→Image conversion failed for {path.name}: {e}\")\n",
    "                continue\n",
    "\n",
    "            # 3) На каждой странице запускаем Tesseract OCR\n",
    "            page_texts: List[str] = []\n",
    "            for i, img in enumerate(images):\n",
    "                try:\n",
    "                    txt = pytesseract.image_to_string(img, lang=\"rus+eng\")\n",
    "                    page_texts.append(txt)\n",
    "                except Exception as exc:\n",
    "                    logger.error(f\"OCR failed on page {i+1} of {path.name}: {exc}\")\n",
    "\n",
    "            ocr_content = \"\\n\".join(page_texts).strip()\n",
    "            if ocr_content:\n",
    "                all_docs.append(Document(\n",
    "                    content=ocr_content,\n",
    "                    meta={\n",
    "                        \"name\": path.name,\n",
    "                        \"ocr_used\": True,\n",
    "                        \"page_count\": len(images)\n",
    "                    }\n",
    "                ))\n",
    "            else:\n",
    "                logger.warning(f\"No text extracted from {path.name} even after OCR\")\n",
    "        return {\"documents\": all_docs}\n"
   ]
  },
  {
   "cell_type": "code",
   "execution_count": 13,
   "id": "c4c8da8c-bea4-480f-af43-41dc6f1151ed",
   "metadata": {},
   "outputs": [],
   "source": [
    "@component\n",
    "class PDFFastOrOCRRouter:\n",
    "    \"\"\"\n",
    "    Разбивает источники PDF на две группы:\n",
    "      – fast: файлы с текстовым слоем (PyPDFToDocument);\n",
    "      – ocr : сканы и пустые (OCRPDFToDocument).\n",
    "    \"\"\"\n",
    "    @component.output_types(fast=List[str], ocr=List[str])\n",
    "    def run(self, sources: List[Union[str, Path, ByteStream]]) -> dict:\n",
    "        fast, ocr = [], []\n",
    "        for src in sources:\n",
    "            # Подготовка пути: если ByteStream, сохраняем во временный файл\n",
    "            if isinstance(src, ByteStream):\n",
    "                suffix = src.metadata.get(\"mime_type\", \"\").split(\"/\")[-1] or \"pdf\"\n",
    "                tmp = tempfile.NamedTemporaryFile(delete=False, suffix=f\".{suffix}\")\n",
    "                tmp.write(src.data)\n",
    "                tmp.flush()\n",
    "                tmp.close()\n",
    "                path = Path(tmp.name)\n",
    "            else:\n",
    "                path = Path(src)\n",
    "\n",
    "            # Пытаемся быстрый текстовый путь (PyMuPDF)\n",
    "            try:\n",
    "                pdf = fitz.open(path)\n",
    "                text = \"\".join(page.get_text(\"text\", sort=True) for page in pdf).strip()\n",
    "                if len(text) >= 20:\n",
    "                    fast.append(str(path))\n",
    "                    continue\n",
    "            except Exception:\n",
    "                # если PyMuPDF упал — переходим к OCR\n",
    "                pass\n",
    "\n",
    "            # Во всех остальных случаях — ветка OCR\n",
    "            ocr.append(str(path))\n",
    "\n",
    "        # Возвращаем два списка путей\n",
    "        return {\"fast\": fast, \"ocr\": ocr}"
   ]
  },
  {
   "cell_type": "code",
   "execution_count": 14,
   "id": "1ce5dbbd-e5e1-48a7-9ad8-3fa9859d5cbd",
   "metadata": {},
   "outputs": [],
   "source": [
    "@component\n",
    "class BM25Builder:\n",
    "    \"\"\"\n",
    "    Строит BM25‑индекс из списка документов и сохраняет его в файл.\n",
    "    \n",
    "    Вход:\n",
    "      - documents: List[Document]  — документы с .content и .id\n",
    "      - path     : str             — путь для сохранения (pickle)\n",
    "    Выход:\n",
    "      - documents: List[Document]  — тот же список документов\n",
    "    \"\"\"\n",
    "    @component.output_types(documents=List[Document])\n",
    "    def run(self, documents: List[Document], path: str = \"../data/bm25.pkl\") -> dict:\n",
    "        # 1️⃣ создаём папку, если её нет\n",
    "        output_path = Path(path)\n",
    "        output_path.parent.mkdir(parents=True, exist_ok=True)\n",
    "\n",
    "        # 2️⃣ подготавливаем корпус: токенизируем каждое содержание\n",
    "        corpus = [\n",
    "            word_tokenize(doc.content.lower())\n",
    "            for doc in documents\n",
    "        ]\n",
    "        doc_ids = [doc.id for doc in documents]\n",
    "\n",
    "        # 3️⃣ строим индекс BM25L (можно BM25Okapi или BM25Plus)\n",
    "        bm25 = BM25L(corpus)\n",
    "\n",
    "        # 4️⃣ сохраняем в pickle: кортеж (bm25, doc_ids)\n",
    "        with open(output_path, \"wb\") as f:\n",
    "            pickle.dump((bm25, doc_ids), f)\n",
    "\n",
    "        # 5️⃣ возвращаем документы дальше по пайплайну\n",
    "        return {\"documents\": documents}"
   ]
  },
  {
   "cell_type": "code",
   "execution_count": 15,
   "id": "aff60c52-5204-4bff-9dd0-3482d9c0c2b9",
   "metadata": {},
   "outputs": [],
   "source": [
    "overlap_fix = OverlapToStr()\n",
    "\n",
    "# Инициализируем конвертеры\n",
    "pdf_router = PDFFastOrOCRRouter()\n",
    "pdf_fast = PyPDFToDocument()\n",
    "ocr_pdf = OCRPDFToDocument()\n",
    "\n",
    "bm25_builder = BM25Builder()"
   ]
  },
  {
   "cell_type": "code",
   "execution_count": 16,
   "id": "f9dc57ad-ba1b-42b4-b7d7-5cca16508c62",
   "metadata": {},
   "outputs": [],
   "source": [
    "# Построение пайплайна\n",
    "indexing_pipeline = Pipeline()\n",
    "# indexing_pipeline = AsyncPipeline()\n",
    "\n",
    "indexing_pipeline.add_component(\"router\", file_router)\n",
    "# indexing_pipeline.add_component(\"txt_converter\", txt_converter)\n",
    "indexing_pipeline.add_component(\"enc_split\", EncodingSplitter())\n",
    "indexing_pipeline.add_component(\"txt_utf8\",  txt_utf8)\n",
    "indexing_pipeline.add_component(\"txt_cp\",    txt_cp)\n",
    "indexing_pipeline.add_component(\"md_converter\", md_converter)\n",
    "indexing_pipeline.add_component(\"csv_converter\",  csv_converter)\n",
    "indexing_pipeline.add_component(\"json_converter\", json_converter)\n",
    "# indexing_pipeline.add_component(\"pdf_converter\", pdf_converter)\n",
    "indexing_pipeline.add_component(\"pdf_router\", pdf_router)\n",
    "indexing_pipeline.add_component(\"pdf_fast\", pdf_fast)\n",
    "indexing_pipeline.add_component(\"ocr_pdf\", ocr_pdf)\n",
    "\n",
    "indexing_pipeline.add_component(\"docx_converter\", docx_converter)\n",
    "indexing_pipeline.add_component(\"xlsx_converter\", xlsx_converter)\n",
    "indexing_pipeline.add_component(\"tika_doc_converter\", tika_doc_converter)\n",
    "indexing_pipeline.add_component(\"tika_epub_converter\", tika_epub_converter)\n",
    "indexing_pipeline.add_component(\"tika_xls_converter\", tika_xls_converter)\n",
    "indexing_pipeline.add_component(\"tika_unclassified_converter\", tika_unclassified_converter)\n",
    "\n",
    "indexing_pipeline.add_component(\"join\", joiner)\n",
    "indexing_pipeline.add_component(\"cleaner\", cleaner)\n",
    "indexing_pipeline.add_component(\"splitter\", splitter)\n",
    "indexing_pipeline.add_component(\"overlap_fix\", overlap_fix)\n",
    "indexing_pipeline.add_component(\"embedder\", embedder)\n",
    "indexing_pipeline.add_component(\"bm25_builder\", bm25_builder)\n",
    "indexing_pipeline.add_component(\"embedding_writer\", embedding_writer)"
   ]
  },
  {
   "cell_type": "code",
   "execution_count": 17,
   "id": "1528cd39-5419-4b35-9c21-7b8c49b82003",
   "metadata": {},
   "outputs": [
    {
     "data": {
      "text/plain": [
       "<haystack.core.pipeline.pipeline.Pipeline object at 0x76e21a5040b0>\n",
       "🚅 Components\n",
       "  - router: FileTypeRouter\n",
       "  - enc_split: EncodingSplitter\n",
       "  - txt_utf8: TextFileToDocument\n",
       "  - txt_cp: TextFileToDocument\n",
       "  - md_converter: MarkdownToDocument\n",
       "  - csv_converter: CSVToDocument\n",
       "  - json_converter: TextFileToDocument\n",
       "  - pdf_router: PDFFastOrOCRRouter\n",
       "  - pdf_fast: PyPDFToDocument\n",
       "  - ocr_pdf: OCRPDFToDocument\n",
       "  - docx_converter: DOCXToDocument\n",
       "  - xlsx_converter: XLSXToDocument\n",
       "  - tika_doc_converter: TikaDocumentConverter\n",
       "  - tika_epub_converter: TikaDocumentConverter\n",
       "  - tika_xls_converter: TikaDocumentConverter\n",
       "  - tika_unclassified_converter: TikaDocumentConverter\n",
       "  - join: DocumentJoiner\n",
       "  - cleaner: DocumentCleaner\n",
       "  - splitter: DocumentSplitter\n",
       "  - overlap_fix: OverlapToStr\n",
       "  - embedder: SentenceTransformersDocumentEmbedder\n",
       "  - bm25_builder: BM25Builder\n",
       "  - embedding_writer: DocumentWriter\n",
       "🛤️ Connections\n",
       "  - router.text/plain -> enc_split.sources (List[Union[str, Path, ByteStream]])\n",
       "  - router.text/csv -> csv_converter.sources (List[Union[str, Path, ByteStream]])\n",
       "  - router.text/markdown -> md_converter.sources (List[Union[str, Path, ByteStream]])\n",
       "  - router.application/json -> json_converter.sources (List[Union[str, Path, ByteStream]])\n",
       "  - router.application/pdf -> pdf_router.sources (List[Union[str, Path, ByteStream]])\n",
       "  - router.application/msword -> tika_doc_converter.sources (List[Union[str, Path, ByteStream]])\n",
       "  - router.application/epub+zip -> tika_epub_converter.sources (List[Union[str, Path, ByteStream]])\n",
       "  - router.application/vnd.ms-excel -> tika_xls_converter.sources (List[Union[str, Path, ByteStream]])\n",
       "  - router.application/vnd.openxmlformats-officedocument.wordprocessingml.document -> docx_converter.sources (List[Union[str, Path, ByteStream]])\n",
       "  - router.application/vnd.openxmlformats-officedocument.spreadsheetml.sheet -> xlsx_converter.sources (List[Union[str, Path, ByteStream]])\n",
       "  - router.unclassified -> tika_unclassified_converter.sources (List[Union[str, Path, ByteStream]])\n",
       "  - enc_split.utf8 -> txt_utf8.sources (List[str])\n",
       "  - enc_split.cp -> txt_cp.sources (List[str])\n",
       "  - pdf_router.fast -> pdf_fast.sources (List[str])\n",
       "  - pdf_router.ocr -> ocr_pdf.sources (List[str])"
      ]
     },
     "execution_count": 17,
     "metadata": {},
     "output_type": "execute_result"
    }
   ],
   "source": [
    "# ───────── Router → Converters ─────────\n",
    "# 1. текстовые файлы сначала идут в детектор\n",
    "indexing_pipeline.connect(\"router.text/plain\", \"enc_split.sources\")\n",
    "# 2. две ветки на разные конвертеры\n",
    "indexing_pipeline.connect(\"enc_split.utf8\", \"txt_utf8.sources\")\n",
    "indexing_pipeline.connect(\"enc_split.cp\",   \"txt_cp.sources\")\n",
    "# indexing_pipeline.connect(\"router.text/plain\",  \"txt_converter.sources\")     # .txt, .yml\n",
    "indexing_pipeline.connect(\"router.text/csv\",    \"csv_converter.sources\")     # .csv\n",
    "indexing_pipeline.connect(\"router.text/markdown\", \"md_converter.sources\")    # .md\n",
    "indexing_pipeline.connect(\"router.application/json\", \"json_converter.sources\")  # .json\n",
    "\n",
    "# PDF идут в обычный конвертер; если добавите OCR‑ветку — измените здесь\n",
    "# indexing_pipeline.connect(\"router.application/pdf\", \"pdf_converter.sources\")  # .pdf\n",
    "indexing_pipeline.connect(\"router.application/pdf\", \"pdf_router.sources\")\n",
    "#    → «быстрые» PDF → PyPDFToDocument\n",
    "indexing_pipeline.connect(\"pdf_router.fast\", \"pdf_fast.sources\")\n",
    "#    → «сканы» и пустые → OCRPDFToDocument\n",
    "indexing_pipeline.connect(\"pdf_router.ocr\", \"ocr_pdf.sources\")\n",
    "\n",
    "# Office / EPUB / XLS — универсальный Tika\n",
    "indexing_pipeline.connect(\"router.application/msword\",\n",
    "                 \"tika_doc_converter.sources\")                          # .doc\n",
    "indexing_pipeline.connect(\"router.application/epub+zip\",\n",
    "                 \"tika_epub_converter.sources\")                          # .epub\n",
    "indexing_pipeline.connect(\"router.application/vnd.ms-excel\",\n",
    "                 \"tika_xls_converter.sources\")                          # .xls\n",
    "\n",
    "# DOCX и XLSX — узкоспециализированные конвертеры\n",
    "indexing_pipeline.connect(\"router.application/vnd.openxmlformats-officedocument.wordprocessingml.document\",\n",
    "                 \"docx_converter.sources\")                          # .docx\n",
    "indexing_pipeline.connect(\"router.application/vnd.openxmlformats-officedocument.spreadsheetml.sheet\",\n",
    "                 \"xlsx_converter.sources\")                          # .xlsx\n",
    "\n",
    "# Всё, что не распознано (или не перечислено)  →  Tika‑fallback\n",
    "indexing_pipeline.connect(\"router.unclassified\", \"tika_unclassified_converter.sources\")"
   ]
  },
  {
   "cell_type": "code",
   "execution_count": 18,
   "id": "c90dfa18-501a-41fc-b77f-a184f7253bf6",
   "metadata": {},
   "outputs": [
    {
     "data": {
      "text/plain": [
       "<haystack.core.pipeline.pipeline.Pipeline object at 0x76e21a5040b0>\n",
       "🚅 Components\n",
       "  - router: FileTypeRouter\n",
       "  - enc_split: EncodingSplitter\n",
       "  - txt_utf8: TextFileToDocument\n",
       "  - txt_cp: TextFileToDocument\n",
       "  - md_converter: MarkdownToDocument\n",
       "  - csv_converter: CSVToDocument\n",
       "  - json_converter: TextFileToDocument\n",
       "  - pdf_router: PDFFastOrOCRRouter\n",
       "  - pdf_fast: PyPDFToDocument\n",
       "  - ocr_pdf: OCRPDFToDocument\n",
       "  - docx_converter: DOCXToDocument\n",
       "  - xlsx_converter: XLSXToDocument\n",
       "  - tika_doc_converter: TikaDocumentConverter\n",
       "  - tika_epub_converter: TikaDocumentConverter\n",
       "  - tika_xls_converter: TikaDocumentConverter\n",
       "  - tika_unclassified_converter: TikaDocumentConverter\n",
       "  - join: DocumentJoiner\n",
       "  - cleaner: DocumentCleaner\n",
       "  - splitter: DocumentSplitter\n",
       "  - overlap_fix: OverlapToStr\n",
       "  - embedder: SentenceTransformersDocumentEmbedder\n",
       "  - bm25_builder: BM25Builder\n",
       "  - embedding_writer: DocumentWriter\n",
       "🛤️ Connections\n",
       "  - router.text/plain -> enc_split.sources (List[Union[str, Path, ByteStream]])\n",
       "  - router.text/csv -> csv_converter.sources (List[Union[str, Path, ByteStream]])\n",
       "  - router.text/markdown -> md_converter.sources (List[Union[str, Path, ByteStream]])\n",
       "  - router.application/json -> json_converter.sources (List[Union[str, Path, ByteStream]])\n",
       "  - router.application/pdf -> pdf_router.sources (List[Union[str, Path, ByteStream]])\n",
       "  - router.application/msword -> tika_doc_converter.sources (List[Union[str, Path, ByteStream]])\n",
       "  - router.application/epub+zip -> tika_epub_converter.sources (List[Union[str, Path, ByteStream]])\n",
       "  - router.application/vnd.ms-excel -> tika_xls_converter.sources (List[Union[str, Path, ByteStream]])\n",
       "  - router.application/vnd.openxmlformats-officedocument.wordprocessingml.document -> docx_converter.sources (List[Union[str, Path, ByteStream]])\n",
       "  - router.application/vnd.openxmlformats-officedocument.spreadsheetml.sheet -> xlsx_converter.sources (List[Union[str, Path, ByteStream]])\n",
       "  - router.unclassified -> tika_unclassified_converter.sources (List[Union[str, Path, ByteStream]])\n",
       "  - enc_split.utf8 -> txt_utf8.sources (List[str])\n",
       "  - enc_split.cp -> txt_cp.sources (List[str])\n",
       "  - txt_utf8.documents -> join.documents (List[Document])\n",
       "  - txt_cp.documents -> join.documents (List[Document])\n",
       "  - md_converter.documents -> join.documents (List[Document])\n",
       "  - csv_converter.documents -> join.documents (List[Document])\n",
       "  - json_converter.documents -> join.documents (List[Document])\n",
       "  - pdf_router.fast -> pdf_fast.sources (List[str])\n",
       "  - pdf_router.ocr -> ocr_pdf.sources (List[str])\n",
       "  - pdf_fast.documents -> join.documents (List[Document])\n",
       "  - ocr_pdf.documents -> join.documents (List[Document])\n",
       "  - docx_converter.documents -> join.documents (List[Document])\n",
       "  - xlsx_converter.documents -> join.documents (List[Document])\n",
       "  - tika_doc_converter.documents -> join.documents (List[Document])\n",
       "  - tika_epub_converter.documents -> join.documents (List[Document])\n",
       "  - tika_xls_converter.documents -> join.documents (List[Document])\n",
       "  - tika_unclassified_converter.documents -> join.documents (List[Document])"
      ]
     },
     "execution_count": 18,
     "metadata": {},
     "output_type": "execute_result"
    }
   ],
   "source": [
    "# Подключаем каждый конвертер → joiner\n",
    "# indexing_pipeline.connect(\"txt_converter.documents\", \"join.documents\")    # .txt, .yml\n",
    "# 3. оба конвертера → DocumentJoiner\n",
    "indexing_pipeline.connect(\"txt_utf8.documents\", \"join.documents\")\n",
    "indexing_pipeline.connect(\"txt_cp.documents\",   \"join.documents\")\n",
    "indexing_pipeline.connect(\"csv_converter.documents\", \"join.documents\")    # .csv\n",
    "indexing_pipeline.connect(\"md_converter.documents\", \"join.documents\")     # .csv\n",
    "indexing_pipeline.connect(\"json_converter.documents\", \"join.documents\")   # .json\n",
    "# indexing_pipeline.connect(\"pdf_converter.documents\", \"join.documents\")    # .pdf (или ocr_pdf)\n",
    "indexing_pipeline.connect(\"pdf_fast.documents\", \"join.documents\")\n",
    "indexing_pipeline.connect(\"ocr_pdf.documents\", \"join.documents\")\n",
    "indexing_pipeline.connect(\"docx_converter.documents\", \"join.documents\")   # .docx\n",
    "indexing_pipeline.connect(\"xlsx_converter.documents\", \"join.documents\")   # .xlsx\n",
    "indexing_pipeline.connect(\"tika_doc_converter.documents\", \"join.documents\")   # .doc\n",
    "indexing_pipeline.connect(\"tika_epub_converter.documents\", \"join.documents\")   # .epub\n",
    "indexing_pipeline.connect(\"tika_xls_converter.documents\", \"join.documents\")   # .xls\n",
    "indexing_pipeline.connect(\"tika_unclassified_converter.documents\", \"join.documents\")   # неопределенные"
   ]
  },
  {
   "cell_type": "code",
   "execution_count": 19,
   "id": "3a61ca8d-51c7-4472-a661-729b78010e8b",
   "metadata": {},
   "outputs": [
    {
     "data": {
      "text/plain": [
       "<haystack.core.pipeline.pipeline.Pipeline object at 0x76e21a5040b0>\n",
       "🚅 Components\n",
       "  - router: FileTypeRouter\n",
       "  - enc_split: EncodingSplitter\n",
       "  - txt_utf8: TextFileToDocument\n",
       "  - txt_cp: TextFileToDocument\n",
       "  - md_converter: MarkdownToDocument\n",
       "  - csv_converter: CSVToDocument\n",
       "  - json_converter: TextFileToDocument\n",
       "  - pdf_router: PDFFastOrOCRRouter\n",
       "  - pdf_fast: PyPDFToDocument\n",
       "  - ocr_pdf: OCRPDFToDocument\n",
       "  - docx_converter: DOCXToDocument\n",
       "  - xlsx_converter: XLSXToDocument\n",
       "  - tika_doc_converter: TikaDocumentConverter\n",
       "  - tika_epub_converter: TikaDocumentConverter\n",
       "  - tika_xls_converter: TikaDocumentConverter\n",
       "  - tika_unclassified_converter: TikaDocumentConverter\n",
       "  - join: DocumentJoiner\n",
       "  - cleaner: DocumentCleaner\n",
       "  - splitter: DocumentSplitter\n",
       "  - overlap_fix: OverlapToStr\n",
       "  - embedder: SentenceTransformersDocumentEmbedder\n",
       "  - bm25_builder: BM25Builder\n",
       "  - embedding_writer: DocumentWriter\n",
       "🛤️ Connections\n",
       "  - router.text/plain -> enc_split.sources (List[Union[str, Path, ByteStream]])\n",
       "  - router.text/csv -> csv_converter.sources (List[Union[str, Path, ByteStream]])\n",
       "  - router.text/markdown -> md_converter.sources (List[Union[str, Path, ByteStream]])\n",
       "  - router.application/json -> json_converter.sources (List[Union[str, Path, ByteStream]])\n",
       "  - router.application/pdf -> pdf_router.sources (List[Union[str, Path, ByteStream]])\n",
       "  - router.application/msword -> tika_doc_converter.sources (List[Union[str, Path, ByteStream]])\n",
       "  - router.application/epub+zip -> tika_epub_converter.sources (List[Union[str, Path, ByteStream]])\n",
       "  - router.application/vnd.ms-excel -> tika_xls_converter.sources (List[Union[str, Path, ByteStream]])\n",
       "  - router.application/vnd.openxmlformats-officedocument.wordprocessingml.document -> docx_converter.sources (List[Union[str, Path, ByteStream]])\n",
       "  - router.application/vnd.openxmlformats-officedocument.spreadsheetml.sheet -> xlsx_converter.sources (List[Union[str, Path, ByteStream]])\n",
       "  - router.unclassified -> tika_unclassified_converter.sources (List[Union[str, Path, ByteStream]])\n",
       "  - enc_split.utf8 -> txt_utf8.sources (List[str])\n",
       "  - enc_split.cp -> txt_cp.sources (List[str])\n",
       "  - txt_utf8.documents -> join.documents (List[Document])\n",
       "  - txt_cp.documents -> join.documents (List[Document])\n",
       "  - md_converter.documents -> join.documents (List[Document])\n",
       "  - csv_converter.documents -> join.documents (List[Document])\n",
       "  - json_converter.documents -> join.documents (List[Document])\n",
       "  - pdf_router.fast -> pdf_fast.sources (List[str])\n",
       "  - pdf_router.ocr -> ocr_pdf.sources (List[str])\n",
       "  - pdf_fast.documents -> join.documents (List[Document])\n",
       "  - ocr_pdf.documents -> join.documents (List[Document])\n",
       "  - docx_converter.documents -> join.documents (List[Document])\n",
       "  - xlsx_converter.documents -> join.documents (List[Document])\n",
       "  - tika_doc_converter.documents -> join.documents (List[Document])\n",
       "  - tika_epub_converter.documents -> join.documents (List[Document])\n",
       "  - tika_xls_converter.documents -> join.documents (List[Document])\n",
       "  - tika_unclassified_converter.documents -> join.documents (List[Document])\n",
       "  - join.documents -> cleaner.documents (List[Document])\n",
       "  - cleaner.documents -> splitter.documents (List[Document])\n",
       "  - splitter.documents -> overlap_fix.documents (List[Document])\n",
       "  - overlap_fix.documents -> embedder.documents (list[Document])\n",
       "  - embedder.documents -> bm25_builder.documents (List[Document])\n",
       "  - bm25_builder.documents -> embedding_writer.documents (List[Document])"
      ]
     },
     "execution_count": 19,
     "metadata": {},
     "output_type": "execute_result"
    }
   ],
   "source": [
    "# Остальная цепочка принимает ОДИН поток документов\n",
    "indexing_pipeline.connect(\"join.documents\", \"cleaner.documents\")\n",
    "indexing_pipeline.connect(\"cleaner.documents\", \"splitter.documents\")\n",
    "indexing_pipeline.connect(\"splitter.documents\", \"overlap_fix.documents\")\n",
    "indexing_pipeline.connect(\"overlap_fix.documents\", \"embedder.documents\")\n",
    "indexing_pipeline.connect(\"embedder.documents\", \"bm25_builder.documents\")\n",
    "indexing_pipeline.connect(\"bm25_builder.documents\", \"embedding_writer.documents\")"
   ]
  },
  {
   "cell_type": "code",
   "execution_count": 20,
   "id": "941c4a67-93a4-4852-9f55-d938106ca8f5",
   "metadata": {},
   "outputs": [
    {
     "data": {
      "image/png": "[encoded data removed]",
      "text/plain": [
       "<IPython.core.display.Image object>"
      ]
     },
     "metadata": {},
     "output_type": "display_data"
    }
   ],
   "source": [
    "import networkx as nx\n",
    "from networkx.drawing.nx_agraph import to_agraph\n",
    "from IPython.display import Image\n",
    "\n",
    "# 1. копия графа и «читаемые» подписи\n",
    "H = indexing_pipeline.graph.copy()\n",
    "nice = {\n",
    "    \"router\": \"router\",\n",
    "    \"txt_converter\": \"TXT\",\n",
    "    \"csv_converter\": \"CSV\",\n",
    "    \"md_converter\": \"MD\",\n",
    "    \"json_converter\": \"JSON\",\n",
    "    \"pdf_converter\": \"PDF\",\n",
    "    \"docx_converter\": \"DOCX\",\n",
    "    \"xlsx_converter\": \"XLSX\",\n",
    "    \"tika_doc_converter\": \"DOC\",\n",
    "    \"tika_epub_converter\": \"EPUB\",\n",
    "    \"tika_xls_converter\": \"XLS\",\n",
    "    \"tika_unclassified_converter\": \"fallback\",\n",
    "    \"join\": \"join\",\n",
    "    \"cleaner\": \"cleaner\",\n",
    "    \"splitter\": \"splitter\",\n",
    "    \"overlap_fix\": \"overlap_fix\",\n",
    "    \"embedder\": \"embedder\",\n",
    "    \"writer\": \"writer\",\n",
    "}\n",
    "nx.relabel_nodes(H, nice, copy=False)\n",
    "\n",
    "# 2. в Graphviz‑объект\n",
    "A = to_agraph(H)\n",
    "A.graph_attr.update(rankdir=\"TB\", splines=\"ortho\", bgcolor=\"white\")\n",
    "\n",
    "# стиль узлов\n",
    "A.node_attr.update(shape=\"box\", style=\"filled,rounded\", fillcolor=\"#fff4c2\",\n",
    "                   fontname=\"Arial\", fontsize=\"11\")\n",
    "\n",
    "# 3. сохраняем/показываем\n",
    "A.draw(\"pipeline.png\", prog=\"dot\")      # SVG → .svg    PNG → .png\n",
    "display(Image(filename=\"pipeline.png\")) # Jupyter\n"
   ]
  },
  {
   "cell_type": "code",
   "execution_count": 21,
   "id": "9d2fdb5a-30f8-4cea-b80f-8d26f28fdd92",
   "metadata": {},
   "outputs": [],
   "source": [
    "file_paths = [\"../data/downloaded_files\" / Path(name) for name in os.listdir(\"../data/downloaded_files\")]"
   ]
  },
  {
   "cell_type": "code",
   "execution_count": 22,
   "id": "b5a08edd-6685-41e2-8cf8-1fe8b120e2a2",
   "metadata": {},
   "outputs": [
    {
     "data": {
      "text/plain": [
       "158"
      ]
     },
     "execution_count": 22,
     "metadata": {},
     "output_type": "execute_result"
    }
   ],
   "source": [
    "len(file_paths)"
   ]
  },
  {
   "cell_type": "code",
   "execution_count": 23,
   "id": "9cab1a70-a75b-497d-b42a-dc5c6723132d",
   "metadata": {},
   "outputs": [],
   "source": [
    "from pathlib import PosixPath"
   ]
  },
  {
   "cell_type": "code",
   "execution_count": 24,
   "id": "eb3f7415-13e0-44fc-804c-6330fefd75ba",
   "metadata": {},
   "outputs": [],
   "source": [
    "# file_paths.remove(PosixPath('../data/downloaded_files/Фролов_К_В_Горные_машины_МЭ,_том_IV_24_2010.pdf'))\n",
    "# file_paths.remove(PosixPath('../data/downloaded_files/Фролов_К_В_Двигатели_внутреннего_сгорания_МЭ,_том_IV_14_2013.pdf'))\n",
    "# file_paths.remove(PosixPath('../data/downloaded_files/Фролов_К_В_Авиационные_двигатели_МЭ,_том_IV_21,_книга_3_2010.pdf'))\n",
    "# file_paths.remove(PosixPath('../data/downloaded_files/Фролов_К_В_Динамика_и_прочность_машин_МЭ,_том_I_3,_книга_1_1994.pdf'))\n"
   ]
  },
  {
   "cell_type": "code",
   "execution_count": 25,
   "id": "ef88fbb5-fd6b-48b5-96f4-d642c2d5bbc5",
   "metadata": {},
   "outputs": [],
   "source": [
    "# file_paths"
   ]
  },
  {
   "cell_type": "code",
   "execution_count": 26,
   "id": "f28636d6-a69f-4c3d-bc19-b03269839b8c",
   "metadata": {},
   "outputs": [],
   "source": [
    "# indexing_pipeline.run({\"router\": {\"sources\": file_paths[20:22]}})"
   ]
  },
  {
   "cell_type": "code",
   "execution_count": null,
   "id": "796143dc-ff91-48e7-9a69-e86dba3c64fe",
   "metadata": {},
   "outputs": [],
   "source": []
  },
  {
   "cell_type": "code",
   "execution_count": 27,
   "id": "e58980c3-cc8c-4955-aa08-ea8094404785",
   "metadata": {
    "scrolled": true
   },
   "outputs": [],
   "source": [
    "# %%time\n",
    "\n",
    "# indexing_pipeline.run({\"router\": {\"sources\": file_paths}})"
   ]
  },
  {
   "cell_type": "code",
   "execution_count": 29,
   "id": "fecb32cc-7911-4b12-8827-40a42706662c",
   "metadata": {
    "scrolled": true
   },
   "outputs": [
    {
     "ename": "KeyboardInterrupt",
     "evalue": "",
     "output_type": "error",
     "traceback": [
      "\u001b[31m---------------------------------------------------------------------------\u001b[39m",
      "\u001b[31mKeyboardInterrupt\u001b[39m                         Traceback (most recent call last)",
      "\u001b[32m<timed eval>\u001b[39m in \u001b[36m?\u001b[39m\u001b[34m()\u001b[39m\n\u001b[32m      1\u001b[39m \u001b[33m'Could not get source, probably due dynamically evaluated source code.'\u001b[39m\n",
      "\u001b[32m~/PycharmProjects/chatHRD/.venv/lib/python3.12/site-packages/haystack/core/pipeline/pipeline.py\u001b[39m in \u001b[36m?\u001b[39m\u001b[34m(self, data, include_outputs_from)\u001b[39m\n\u001b[32m    251\u001b[39m                     component = self._get_component_with_graph_metadata_and_visits(\n\u001b[32m    252\u001b[39m                         component_name, component_visits[component_name]\n\u001b[32m    253\u001b[39m                     )\n\u001b[32m    254\u001b[39m \n\u001b[32m--> \u001b[39m\u001b[32m255\u001b[39m                 component_outputs = self._run_component(component, inputs, component_visits, parent_span=span)\n\u001b[32m    256\u001b[39m \n\u001b[32m    257\u001b[39m                 \u001b[38;5;66;03m# Updates global input state with component outputs and returns outputs that should go to\u001b[39;00m\n\u001b[32m    258\u001b[39m                 \u001b[38;5;66;03m# pipeline outputs.\u001b[39;00m\n",
      "\u001b[32m~/PycharmProjects/chatHRD/.venv/lib/python3.12/site-packages/haystack/core/pipeline/pipeline.py\u001b[39m in \u001b[36m?\u001b[39m\u001b[34m(self, component, inputs, component_visits, parent_span)\u001b[39m\n\u001b[32m     77\u001b[39m             span.set_content_tag(\u001b[33m\"haystack.component.input\"\u001b[39m, deepcopy(component_inputs))\n\u001b[32m     78\u001b[39m             logger.info(\u001b[33m\"Running component {component_name}\"\u001b[39m, component_name=component_name)\n\u001b[32m     79\u001b[39m             \u001b[38;5;28;01mtry\u001b[39;00m:\n\u001b[32m     80\u001b[39m                 component_output = instance.run(**component_inputs)\n\u001b[32m---> \u001b[39m\u001b[32m81\u001b[39m             \u001b[38;5;28;01mexcept\u001b[39;00m Exception \u001b[38;5;28;01mas\u001b[39;00m error:\n\u001b[32m     82\u001b[39m                 raise PipelineRuntimeError(\n\u001b[32m     83\u001b[39m                     f\"The following component failed to run:\\n\"\n\u001b[32m     84\u001b[39m                     f\"Component name: '{component_name}'\\n\"\n",
      "\u001b[32m/tmp/ipykernel_38324/3506438097.py\u001b[39m in \u001b[36m?\u001b[39m\u001b[34m(self, sources)\u001b[39m\n\u001b[32m     26\u001b[39m                 text = \u001b[33m\"\"\u001b[39m.join(page.get_text(\u001b[33m\"text\"\u001b[39m, sort=\u001b[38;5;28;01mTrue\u001b[39;00m) \u001b[38;5;28;01mfor\u001b[39;00m page \u001b[38;5;28;01min\u001b[39;00m pdf).strip()\n\u001b[32m     27\u001b[39m                 \u001b[38;5;28;01mif\u001b[39;00m len(text) >= \u001b[32m20\u001b[39m:\n\u001b[32m     28\u001b[39m                     fast.append(str(path))\n\u001b[32m     29\u001b[39m                     \u001b[38;5;28;01mcontinue\u001b[39;00m\n\u001b[32m---> \u001b[39m\u001b[32m30\u001b[39m             \u001b[38;5;28;01mexcept\u001b[39;00m Exception:\n\u001b[32m     31\u001b[39m                 \u001b[38;5;66;03m# если PyMuPDF упал — переходим к OCR\u001b[39;00m\n\u001b[32m     32\u001b[39m                 \u001b[38;5;28;01mpass\u001b[39;00m\n\u001b[32m     33\u001b[39m \n",
      "\u001b[32m/tmp/ipykernel_38324/3506438097.py\u001b[39m in \u001b[36m?\u001b[39m\u001b[34m(.0)\u001b[39m\n\u001b[32m---> \u001b[39m\u001b[32m26\u001b[39m     \u001b[38;5;28;01mdef\u001b[39;00m run(self, sources: List[Union[str, Path, ByteStream]]) -> dict:\n\u001b[32m     27\u001b[39m         fast, ocr = [], []\n\u001b[32m     28\u001b[39m         \u001b[38;5;28;01mfor\u001b[39;00m src \u001b[38;5;28;01min\u001b[39;00m sources:\n\u001b[32m     29\u001b[39m             \u001b[38;5;66;03m# Подготовка пути: если ByteStream, сохраняем во временный файл\u001b[39;00m\n",
      "\u001b[32m~/PycharmProjects/chatHRD/.venv/lib/python3.12/site-packages/fitz/utils.py\u001b[39m in \u001b[36m?\u001b[39m\u001b[34m(page, option, clip, flags, textpage, sort, delimiters)\u001b[39m\n\u001b[32m    821\u001b[39m \n\u001b[32m    822\u001b[39m     \u001b[38;5;66;03m# TextPage with or without images\u001b[39;00m\n\u001b[32m    823\u001b[39m     tp = textpage\n\u001b[32m    824\u001b[39m     \u001b[38;5;28;01mif\u001b[39;00m tp \u001b[38;5;28;01mis\u001b[39;00m \u001b[38;5;28;01mNone\u001b[39;00m:\n\u001b[32m--> \u001b[39m\u001b[32m825\u001b[39m         tp = page.get_textpage(clip=clip, flags=flags)\n\u001b[32m    826\u001b[39m     \u001b[38;5;28;01melif\u001b[39;00m getattr(tp, \u001b[33m\"parent\"\u001b[39m) != page:\n\u001b[32m    827\u001b[39m         \u001b[38;5;28;01mraise\u001b[39;00m ValueError(\u001b[33m\"not a textpage of this page\"\u001b[39m)\n\u001b[32m    828\u001b[39m \n",
      "\u001b[32m~/PycharmProjects/chatHRD/.venv/lib/python3.12/site-packages/fitz/fitz.py\u001b[39m in \u001b[36m?\u001b[39m\u001b[34m(self, clip, flags, matrix)\u001b[39m\n\u001b[32m   6032\u001b[39m             self.set_rotation(\u001b[32m0\u001b[39m)\n\u001b[32m   6033\u001b[39m         \u001b[38;5;28;01mtry\u001b[39;00m:\n\u001b[32m   6034\u001b[39m             textpage = self._get_textpage(clip, flags=flags, matrix=matrix)\n\u001b[32m   6035\u001b[39m         \u001b[38;5;28;01mfinally\u001b[39;00m:\n\u001b[32m-> \u001b[39m\u001b[32m6036\u001b[39m             \u001b[38;5;28;01mif\u001b[39;00m old_rotation != \u001b[32m0\u001b[39m:\n\u001b[32m   6037\u001b[39m                 self.set_rotation(old_rotation)\n\u001b[32m   6038\u001b[39m         textpage.parent = weakref.proxy(self)\n\u001b[32m   6039\u001b[39m         \u001b[38;5;28;01mreturn\u001b[39;00m textpage\n",
      "\u001b[32m~/PycharmProjects/chatHRD/.venv/lib/python3.12/site-packages/fitz/fitz.py\u001b[39m in \u001b[36m?\u001b[39m\u001b[34m(self, clip, flags, matrix)\u001b[39m\n\u001b[32m   6019\u001b[39m     \u001b[38;5;28;01mdef\u001b[39;00m _get_textpage(self, clip=\u001b[38;5;28;01mNone\u001b[39;00m, flags=\u001b[32m0\u001b[39m, matrix=\u001b[38;5;28;01mNone\u001b[39;00m):\n\u001b[32m-> \u001b[39m\u001b[32m6020\u001b[39m         val = _fitz.Page__get_textpage(self, clip, flags, matrix)\n\u001b[32m   6021\u001b[39m         val.thisown = \u001b[38;5;28;01mTrue\u001b[39;00m\n\u001b[32m   6022\u001b[39m \n\u001b[32m   6023\u001b[39m         \u001b[38;5;28;01mreturn\u001b[39;00m val\n",
      "\u001b[31mKeyboardInterrupt\u001b[39m: "
     ]
    }
   ],
   "source": [
    "%%time\n",
    "\n",
    "\n",
    "# import nest_asyncio\n",
    "# nest_asyncio.apply()   # патчит текущий asyncio loop\n",
    "\n",
    "indexing_pipeline.run({\"router\": {\"sources\": file_paths}})"
   ]
  },
  {
   "cell_type": "code",
   "execution_count": null,
   "id": "a3b5ff4c-2f6e-4187-83a8-cab7766d9948",
   "metadata": {},
   "outputs": [],
   "source": []
  },
  {
   "cell_type": "code",
   "execution_count": null,
   "id": "0dad81bd-ffaf-40d5-80a6-3da85874b961",
   "metadata": {},
   "outputs": [],
   "source": []
  },
  {
   "cell_type": "code",
   "execution_count": null,
   "id": "1cf1e76e-4885-44c8-b5f4-525605098f11",
   "metadata": {},
   "outputs": [],
   "source": []
  },
  {
   "cell_type": "code",
   "execution_count": null,
   "id": "f333d2a5-0314-4d39-9a6e-9f1bdcfc9c54",
   "metadata": {},
   "outputs": [],
   "source": []
  },
  {
   "cell_type": "code",
   "execution_count": null,
   "id": "8d230395-73d2-4fd4-89b3-16438c647324",
   "metadata": {},
   "outputs": [],
   "source": []
  },
  {
   "cell_type": "code",
   "execution_count": null,
   "id": "6f04294b-07f0-46e4-91d4-a29db3c05e28",
   "metadata": {},
   "outputs": [],
   "source": []
  },
  {
   "cell_type": "code",
   "execution_count": null,
   "id": "57c06d15-aaf9-4b99-a3fb-6a9c86fe6a22",
   "metadata": {},
   "outputs": [],
   "source": []
  },
  {
   "cell_type": "code",
   "execution_count": null,
   "id": "878b5bcd-2f14-4825-9f06-070eca030471",
   "metadata": {},
   "outputs": [],
   "source": []
  },
  {
   "cell_type": "code",
   "execution_count": null,
   "id": "a58d2e7d-7764-49d6-ab49-bdcd0a8e3c14",
   "metadata": {},
   "outputs": [],
   "source": []
  },
  {
   "cell_type": "code",
   "execution_count": null,
   "id": "967b8867-a410-4511-8a75-d50ce708c804",
   "metadata": {},
   "outputs": [],
   "source": []
  },
  {
   "cell_type": "code",
   "execution_count": 30,
   "id": "86f66d61-1aa8-4bd5-b69f-7fb7b49a5462",
   "metadata": {},
   "outputs": [
    {
     "name": "stdout",
     "output_type": "stream",
     "text": [
      "BM25 объект: <class 'rank_bm25.BM25L'>, документов: 5829\n"
     ]
    }
   ],
   "source": [
    "import pickle\n",
    "\n",
    "with open(\"../data/bm25.pkl\", \"rb\") as f:\n",
    "    bm25, doc_ids = pickle.load(f)\n",
    "print(f\"BM25 объект: {type(bm25)}, документов: {len(doc_ids)}\")"
   ]
  },
  {
   "cell_type": "code",
   "execution_count": null,
   "id": "edc590dc-f4ea-46dd-9744-43ab25003365",
   "metadata": {},
   "outputs": [],
   "source": [
    "import pickle\n",
    "\n",
    "with open(\"../data/bm25.pkl\", \"rb\") as f:\n",
    "    bm25, doc_ids = pickle.load(f)\n",
    "print(f\"BM25 объект: {type(bm25)}, документов: {len(doc_ids)}\")"
   ]
  },
  {
   "cell_type": "code",
   "execution_count": null,
   "id": "13a20ac4-8bcd-4587-bbce-84835b8bc15c",
   "metadata": {},
   "outputs": [],
   "source": [
    "import pickle\n",
    "\n",
    "with open(\"../data/bm25.pkl\", \"rb\") as f:\n",
    "    bm25, doc_ids = pickle.load(f)\n",
    "print(f\"BM25 объект: {type(bm25)}, документов: {len(doc_ids)}\")"
   ]
  },
  {
   "cell_type": "code",
   "execution_count": null,
   "id": "75281294-4a0d-47cf-baa5-91a998fd61a3",
   "metadata": {},
   "outputs": [],
   "source": []
  },
  {
   "cell_type": "code",
   "execution_count": null,
   "id": "626528f3-5fb7-4da0-890e-c8f045cf17c9",
   "metadata": {},
   "outputs": [],
   "source": []
  },
  {
   "cell_type": "code",
   "execution_count": null,
   "id": "ae2a416e-3cfc-4de7-9c15-51381741fbf2",
   "metadata": {},
   "outputs": [],
   "source": []
  },
  {
   "cell_type": "code",
   "execution_count": null,
   "id": "39261448-6c19-4cc4-b7af-d2a6ab4fb582",
   "metadata": {},
   "outputs": [],
   "source": []
  },
  {
   "cell_type": "code",
   "execution_count": null,
   "id": "6b49962a-9ba6-4f84-ae4c-8185e854b1fa",
   "metadata": {},
   "outputs": [],
   "source": []
  },
  {
   "cell_type": "code",
   "execution_count": null,
   "id": "24a1d748-60c3-4d1a-9e64-04de130f9f97",
   "metadata": {},
   "outputs": [],
   "source": []
  },
  {
   "cell_type": "code",
   "execution_count": null,
   "id": "3aeb4090-8aa2-48e7-b5bd-8afc57fb73bf",
   "metadata": {},
   "outputs": [],
   "source": []
  },
  {
   "cell_type": "code",
   "execution_count": null,
   "id": "af0aa362-e55c-4ca3-b408-4cb567fd25a4",
   "metadata": {},
   "outputs": [],
   "source": []
  },
  {
   "cell_type": "code",
   "execution_count": null,
   "id": "5db911d7-d6f6-4ca4-a947-cae749214ae8",
   "metadata": {},
   "outputs": [],
   "source": []
  },
  {
   "cell_type": "code",
   "execution_count": null,
   "id": "c2b3d4d4-803f-402a-9ca2-e5c6dc8b3dee",
   "metadata": {},
   "outputs": [],
   "source": []
  }
 ],
 "metadata": {
  "kernelspec": {
   "display_name": "Python 3 (ipykernel)",
   "language": "python",
   "name": "python3"
  },
  "language_info": {
   "codemirror_mode": {
    "name": "ipython",
    "version": 3
   },
   "file_extension": ".py",
   "mimetype": "text/x-python",
   "name": "python",
   "nbconvert_exporter": "python",
   "pygments_lexer": "ipython3",
   "version": "3.12.3"
  }
 },
 "nbformat": 4,
 "nbformat_minor": 5
}
