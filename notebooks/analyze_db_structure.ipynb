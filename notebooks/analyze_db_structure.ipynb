{
 "cells": [
  {
   "cell_type": "markdown",
   "metadata": {},
   "source": [
    "# Анализ структуры баз данных проекта"
   ]
  },
  {
   "cell_type": "markdown",
   "metadata": {},
   "source": [
    "Этот ноутбук подключается к базам данных `cms`, `lists` и `filestorage` и выводит информацию о структуре таблиц (колонки, типы данных, ограничения)."
   ]
  },
  {
   "cell_type": "code",
   "execution_count": 1,
   "metadata": {},
   "outputs": [],
   "source": [
    "import os\n",
    "import sys\n",
    "from pathlib import Path\n",
    "import psycopg2\n",
    "import pandas as pd\n",
    "from dotenv import load_dotenv\n",
    "from IPython.display import display, Markdown"
   ]
  },
  {
   "cell_type": "code",
   "execution_count": 6,
   "metadata": {},
   "outputs": [],
   "source": [
    "# Устанавливаем опции Pandas для полного отображения\n",
    "pd.set_option('display.max_rows', None)\n",
    "pd.set_option('display.max_columns', None)\n",
    "pd.set_option('display.width', 1000)\n"
   ]
  },
  {
   "cell_type": "code",
   "execution_count": 2,
   "metadata": {},
   "outputs": [
    {
     "name": "stdout",
     "output_type": "stream",
     "text": [
      ".env файл загружен из /home/skitarii/PycharmProjects/chatHRD/.env\n"
     ]
    }
   ],
   "source": [
    "# Загружаем переменные окружения из .env в корне проекта\n",
    "# Путь к корню проекта (предполагается, что ноутбук в notebooks/)\n",
    "project_root = Path.cwd().parent\n",
    "dotenv_path = project_root / '.env'\n",
    "\n",
    "if not dotenv_path.exists():\n",
    "    print(f\"Ошибка: Файл .env не найден по пути {dotenv_path}\", file=sys.stderr)\n",
    "else:\n",
    "    load_dotenv(dotenv_path=dotenv_path)\n",
    "    print(f\".env файл загружен из {dotenv_path}\")\n",
    "\n",
    "# Получаем параметры подключения\n",
    "pg_user = os.getenv(\"PG_USER\")\n",
    "pg_password = os.getenv(\"PG_PASSWORD\")\n",
    "pg_host = os.getenv(\"PG_HOST\", \"localhost\")\n",
    "pg_port = os.getenv(\"PG_PORT\", \"5432\")\n",
    "\n",
    "if not all([pg_user, pg_password]):\n",
    "    print(\"Ошибка: Переменные PG_USER и PG_PASSWORD должны быть установлены в .env.\", file=sys.stderr)"
   ]
  },
  {
   "cell_type": "markdown",
   "metadata": {},
   "source": [
    "## Вспомогательные функции"
   ]
  },
  {
   "cell_type": "code",
   "execution_count": 4,
   "metadata": {},
   "outputs": [],
   "source": [
    "def get_connection(db_name: str):\n",
    "    \"\"\"Подключается к указанной БД.\"\"\"\n",
    "    conn = None\n",
    "    try:\n",
    "        conn = psycopg2.connect(\n",
    "            dbname=db_name,\n",
    "            user=pg_user,\n",
    "            password=pg_password,\n",
    "            host=pg_host,\n",
    "            port=pg_port\n",
    "        )\n",
    "        print(f\"Успешное подключение к БД '{db_name}'.\")\n",
    "    except psycopg2.OperationalError as e:\n",
    "        print(f\"Ошибка подключения к БД '{db_name}': {e}\", file=sys.stderr)\n",
    "    return conn\n",
    "\n",
    "def get_tables(conn) -> list[str]:\n",
    "    \"\"\"Возвращает список пользовательских таблиц в текущей схеме.\"\"\"\n",
    "    if not conn:\n",
    "        return []\n",
    "    query = \"\"\"\n",
    "        SELECT table_name\n",
    "        FROM information_schema.tables\n",
    "        WHERE table_schema = 'public' AND table_type = 'BASE TABLE'\n",
    "        ORDER BY table_name;\n",
    "    \"\"\"\n",
    "    try:\n",
    "        df = pd.read_sql_query(query, conn)\n",
    "        return df['table_name'].tolist()\n",
    "    except Exception as e:\n",
    "        print(f\"Ошибка получения списка таблиц: {e}\", file=sys.stderr)\n",
    "        return []\n",
    "\n",
    "def get_table_schema(conn, table_name: str) -> pd.DataFrame:\n",
    "    \"\"\"Получает схему таблицы (колонки, типы, nullability).\"\"\"\n",
    "    if not conn:\n",
    "        return pd.DataFrame()\n",
    "    query = f\"\"\"\n",
    "        SELECT\n",
    "            column_name,\n",
    "            data_type,\n",
    "            is_nullable,\n",
    "            column_default\n",
    "        FROM information_schema.columns\n",
    "        WHERE table_schema = 'public' AND table_name = '{table_name}'\n",
    "        ORDER BY ordinal_position;\n",
    "    \"\"\"\n",
    "    try:\n",
    "        df = pd.read_sql_query(query, conn)\n",
    "        return df\n",
    "    except Exception as e:\n",
    "        print(f\"Ошибка получения схемы для таблицы {table_name}: {e}\", file=sys.stderr)\n",
    "        return pd.DataFrame()\n",
    "\n",
    "def get_table_constraints(conn, table_name: str) -> pd.DataFrame:\n",
    "    \"\"\"Получает информацию об ограничениях (PK, FK) таблицы.\"\"\"\n",
    "    if not conn:\n",
    "        return pd.DataFrame()\n",
    "    # Этот запрос немного упрощен, для более сложных случаев может потребоваться доработка\n",
    "    query = f\"\"\"\n",
    "        SELECT\n",
    "            tc.constraint_name,\n",
    "            tc.constraint_type,\n",
    "            kcu.column_name,\n",
    "            ccu.table_name AS foreign_table_name,\n",
    "            ccu.column_name AS foreign_column_name\n",
    "        FROM\n",
    "            information_schema.table_constraints AS tc\n",
    "            JOIN information_schema.key_column_usage AS kcu\n",
    "              ON tc.constraint_name = kcu.constraint_name\n",
    "              AND tc.table_schema = kcu.table_schema\n",
    "            LEFT JOIN information_schema.constraint_column_usage AS ccu\n",
    "              ON ccu.constraint_name = tc.constraint_name\n",
    "              AND ccu.table_schema = tc.table_schema\n",
    "        WHERE tc.table_schema = 'public' AND tc.table_name='{table_name}'\n",
    "        ORDER BY tc.constraint_type, tc.constraint_name, kcu.ordinal_position;\n",
    "    \"\"\"\n",
    "    try:\n",
    "        df = pd.read_sql_query(query, conn)\n",
    "        return df\n",
    "    except Exception as e:\n",
    "        print(f\"Ошибка получения ограничений для таблицы {table_name}: {e}\", file=sys.stderr)\n",
    "        return pd.DataFrame()"
   ]
  },
  {
   "cell_type": "markdown",
   "metadata": {},
   "source": [
    "## Анализ баз данных"
   ]
  },
  {
   "cell_type": "code",
   "execution_count": 5,
   "metadata": {},
   "outputs": [
    {
     "data": {
      "text/markdown": [
       "\n",
       "## Анализ базы данных: `cms`"
      ],
      "text/plain": [
       "<IPython.core.display.Markdown object>"
      ]
     },
     "metadata": {},
     "output_type": "display_data"
    },
    {
     "name": "stdout",
     "output_type": "stream",
     "text": [
      "Успешное подключение к БД 'cms'.\n"
     ]
    },
    {
     "name": "stderr",
     "output_type": "stream",
     "text": [
      "/tmp/ipykernel_450849/82215137.py:28: UserWarning: pandas only supports SQLAlchemy connectable (engine/connection) or database string URI or sqlite3 DBAPI2 connection. Other DBAPI2 objects are not tested. Please consider using SQLAlchemy.\n",
      "  df = pd.read_sql_query(query, conn)\n"
     ]
    },
    {
     "data": {
      "text/markdown": [
       "\n",
       "### Найдено таблиц: 34"
      ],
      "text/plain": [
       "<IPython.core.display.Markdown object>"
      ]
     },
     "metadata": {},
     "output_type": "display_data"
    },
    {
     "data": {
      "text/markdown": [
       "\n",
       "#### Таблица: `admin_panel_users`"
      ],
      "text/plain": [
       "<IPython.core.display.Markdown object>"
      ]
     },
     "metadata": {},
     "output_type": "display_data"
    },
    {
     "data": {
      "text/markdown": [
       "\n",
       "##### Схема:"
      ],
      "text/plain": [
       "<IPython.core.display.Markdown object>"
      ]
     },
     "metadata": {},
     "output_type": "display_data"
    },
    {
     "name": "stderr",
     "output_type": "stream",
     "text": [
      "/tmp/ipykernel_450849/82215137.py:49: UserWarning: pandas only supports SQLAlchemy connectable (engine/connection) or database string URI or sqlite3 DBAPI2 connection. Other DBAPI2 objects are not tested. Please consider using SQLAlchemy.\n",
      "  df = pd.read_sql_query(query, conn)\n"
     ]
    },
    {
     "data": {
      "text/html": [
       "<div>\n",
       "<style scoped>\n",
       "    .dataframe tbody tr th:only-of-type {\n",
       "        vertical-align: middle;\n",
       "    }\n",
       "\n",
       "    .dataframe tbody tr th {\n",
       "        vertical-align: top;\n",
       "    }\n",
       "\n",
       "    .dataframe thead th {\n",
       "        text-align: right;\n",
       "    }\n",
       "</style>\n",
       "<table border=\"1\" class=\"dataframe\">\n",
       "  <thead>\n",
       "    <tr style=\"text-align: right;\">\n",
       "      <th></th>\n",
       "      <th>column_name</th>\n",
       "      <th>data_type</th>\n",
       "      <th>is_nullable</th>\n",
       "      <th>column_default</th>\n",
       "    </tr>\n",
       "  </thead>\n",
       "  <tbody>\n",
       "    <tr>\n",
       "      <th>0</th>\n",
       "      <td>id</td>\n",
       "      <td>integer</td>\n",
       "      <td>NO</td>\n",
       "      <td>nextval('admin_panel_users_id_seq'::regclass)</td>\n",
       "    </tr>\n",
       "    <tr>\n",
       "      <th>1</th>\n",
       "      <td>username</td>\n",
       "      <td>text</td>\n",
       "      <td>YES</td>\n",
       "      <td>None</td>\n",
       "    </tr>\n",
       "    <tr>\n",
       "      <th>2</th>\n",
       "      <td>hashed_password</td>\n",
       "      <td>text</td>\n",
       "      <td>YES</td>\n",
       "      <td>None</td>\n",
       "    </tr>\n",
       "  </tbody>\n",
       "</table>\n",
       "</div>"
      ],
      "text/plain": [
       "       column_name data_type is_nullable                                 column_default\n",
       "0               id   integer          NO  nextval('admin_panel_users_id_seq'::regclass)\n",
       "1         username      text         YES                                           None\n",
       "2  hashed_password      text         YES                                           None"
      ]
     },
     "metadata": {},
     "output_type": "display_data"
    },
    {
     "data": {
      "text/markdown": [
       "\n",
       "##### Ограничения (PK, FK):"
      ],
      "text/plain": [
       "<IPython.core.display.Markdown object>"
      ]
     },
     "metadata": {},
     "output_type": "display_data"
    },
    {
     "name": "stderr",
     "output_type": "stream",
     "text": [
      "/tmp/ipykernel_450849/82215137.py:79: UserWarning: pandas only supports SQLAlchemy connectable (engine/connection) or database string URI or sqlite3 DBAPI2 connection. Other DBAPI2 objects are not tested. Please consider using SQLAlchemy.\n",
      "  df = pd.read_sql_query(query, conn)\n"
     ]
    },
    {
     "data": {
      "text/html": [
       "<div>\n",
       "<style scoped>\n",
       "    .dataframe tbody tr th:only-of-type {\n",
       "        vertical-align: middle;\n",
       "    }\n",
       "\n",
       "    .dataframe tbody tr th {\n",
       "        vertical-align: top;\n",
       "    }\n",
       "\n",
       "    .dataframe thead th {\n",
       "        text-align: right;\n",
       "    }\n",
       "</style>\n",
       "<table border=\"1\" class=\"dataframe\">\n",
       "  <thead>\n",
       "    <tr style=\"text-align: right;\">\n",
       "      <th></th>\n",
       "      <th>constraint_name</th>\n",
       "      <th>constraint_type</th>\n",
       "      <th>column_name</th>\n",
       "      <th>foreign_table_name</th>\n",
       "      <th>foreign_column_name</th>\n",
       "    </tr>\n",
       "  </thead>\n",
       "  <tbody>\n",
       "    <tr>\n",
       "      <th>0</th>\n",
       "      <td>admin_panel_users_pkey</td>\n",
       "      <td>PRIMARY KEY</td>\n",
       "      <td>id</td>\n",
       "      <td>admin_panel_users</td>\n",
       "      <td>id</td>\n",
       "    </tr>\n",
       "    <tr>\n",
       "      <th>1</th>\n",
       "      <td>_unique_username</td>\n",
       "      <td>UNIQUE</td>\n",
       "      <td>username</td>\n",
       "      <td>admin_panel_users</td>\n",
       "      <td>username</td>\n",
       "    </tr>\n",
       "  </tbody>\n",
       "</table>\n",
       "</div>"
      ],
      "text/plain": [
       "          constraint_name constraint_type column_name foreign_table_name foreign_column_name\n",
       "0  admin_panel_users_pkey     PRIMARY KEY          id  admin_panel_users                  id\n",
       "1        _unique_username          UNIQUE    username  admin_panel_users            username"
      ]
     },
     "metadata": {},
     "output_type": "display_data"
    },
    {
     "data": {
      "text/markdown": [
       "\n",
       "#### Таблица: `alembic_version`"
      ],
      "text/plain": [
       "<IPython.core.display.Markdown object>"
      ]
     },
     "metadata": {},
     "output_type": "display_data"
    },
    {
     "data": {
      "text/markdown": [
       "\n",
       "##### Схема:"
      ],
      "text/plain": [
       "<IPython.core.display.Markdown object>"
      ]
     },
     "metadata": {},
     "output_type": "display_data"
    },
    {
     "name": "stderr",
     "output_type": "stream",
     "text": [
      "/tmp/ipykernel_450849/82215137.py:49: UserWarning: pandas only supports SQLAlchemy connectable (engine/connection) or database string URI or sqlite3 DBAPI2 connection. Other DBAPI2 objects are not tested. Please consider using SQLAlchemy.\n",
      "  df = pd.read_sql_query(query, conn)\n"
     ]
    },
    {
     "data": {
      "text/html": [
       "<div>\n",
       "<style scoped>\n",
       "    .dataframe tbody tr th:only-of-type {\n",
       "        vertical-align: middle;\n",
       "    }\n",
       "\n",
       "    .dataframe tbody tr th {\n",
       "        vertical-align: top;\n",
       "    }\n",
       "\n",
       "    .dataframe thead th {\n",
       "        text-align: right;\n",
       "    }\n",
       "</style>\n",
       "<table border=\"1\" class=\"dataframe\">\n",
       "  <thead>\n",
       "    <tr style=\"text-align: right;\">\n",
       "      <th></th>\n",
       "      <th>column_name</th>\n",
       "      <th>data_type</th>\n",
       "      <th>is_nullable</th>\n",
       "      <th>column_default</th>\n",
       "    </tr>\n",
       "  </thead>\n",
       "  <tbody>\n",
       "    <tr>\n",
       "      <th>0</th>\n",
       "      <td>version_num</td>\n",
       "      <td>character varying</td>\n",
       "      <td>NO</td>\n",
       "      <td>None</td>\n",
       "    </tr>\n",
       "  </tbody>\n",
       "</table>\n",
       "</div>"
      ],
      "text/plain": [
       "   column_name          data_type is_nullable column_default\n",
       "0  version_num  character varying          NO           None"
      ]
     },
     "metadata": {},
     "output_type": "display_data"
    },
    {
     "data": {
      "text/markdown": [
       "\n",
       "##### Ограничения (PK, FK):"
      ],
      "text/plain": [
       "<IPython.core.display.Markdown object>"
      ]
     },
     "metadata": {},
     "output_type": "display_data"
    },
    {
     "name": "stderr",
     "output_type": "stream",
     "text": [
      "/tmp/ipykernel_450849/82215137.py:79: UserWarning: pandas only supports SQLAlchemy connectable (engine/connection) or database string URI or sqlite3 DBAPI2 connection. Other DBAPI2 objects are not tested. Please consider using SQLAlchemy.\n",
      "  df = pd.read_sql_query(query, conn)\n"
     ]
    },
    {
     "data": {
      "text/html": [
       "<div>\n",
       "<style scoped>\n",
       "    .dataframe tbody tr th:only-of-type {\n",
       "        vertical-align: middle;\n",
       "    }\n",
       "\n",
       "    .dataframe tbody tr th {\n",
       "        vertical-align: top;\n",
       "    }\n",
       "\n",
       "    .dataframe thead th {\n",
       "        text-align: right;\n",
       "    }\n",
       "</style>\n",
       "<table border=\"1\" class=\"dataframe\">\n",
       "  <thead>\n",
       "    <tr style=\"text-align: right;\">\n",
       "      <th></th>\n",
       "      <th>constraint_name</th>\n",
       "      <th>constraint_type</th>\n",
       "      <th>column_name</th>\n",
       "      <th>foreign_table_name</th>\n",
       "      <th>foreign_column_name</th>\n",
       "    </tr>\n",
       "  </thead>\n",
       "  <tbody>\n",
       "    <tr>\n",
       "      <th>0</th>\n",
       "      <td>alembic_version_pkc</td>\n",
       "      <td>PRIMARY KEY</td>\n",
       "      <td>version_num</td>\n",
       "      <td>alembic_version</td>\n",
       "      <td>version_num</td>\n",
       "    </tr>\n",
       "  </tbody>\n",
       "</table>\n",
       "</div>"
      ],
      "text/plain": [
       "       constraint_name constraint_type  column_name foreign_table_name foreign_column_name\n",
       "0  alembic_version_pkc     PRIMARY KEY  version_num    alembic_version         version_num"
      ]
     },
     "metadata": {},
     "output_type": "display_data"
    },
    {
     "data": {
      "text/markdown": [
       "\n",
       "#### Таблица: `asyncprofilesync_profileuserdata`"
      ],
      "text/plain": [
       "<IPython.core.display.Markdown object>"
      ]
     },
     "metadata": {},
     "output_type": "display_data"
    },
    {
     "data": {
      "text/markdown": [
       "\n",
       "##### Схема:"
      ],
      "text/plain": [
       "<IPython.core.display.Markdown object>"
      ]
     },
     "metadata": {},
     "output_type": "display_data"
    },
    {
     "name": "stderr",
     "output_type": "stream",
     "text": [
      "/tmp/ipykernel_450849/82215137.py:49: UserWarning: pandas only supports SQLAlchemy connectable (engine/connection) or database string URI or sqlite3 DBAPI2 connection. Other DBAPI2 objects are not tested. Please consider using SQLAlchemy.\n",
      "  df = pd.read_sql_query(query, conn)\n"
     ]
    },
    {
     "data": {
      "text/html": [
       "<div>\n",
       "<style scoped>\n",
       "    .dataframe tbody tr th:only-of-type {\n",
       "        vertical-align: middle;\n",
       "    }\n",
       "\n",
       "    .dataframe tbody tr th {\n",
       "        vertical-align: top;\n",
       "    }\n",
       "\n",
       "    .dataframe thead th {\n",
       "        text-align: right;\n",
       "    }\n",
       "</style>\n",
       "<table border=\"1\" class=\"dataframe\">\n",
       "  <thead>\n",
       "    <tr style=\"text-align: right;\">\n",
       "      <th></th>\n",
       "      <th>column_name</th>\n",
       "      <th>data_type</th>\n",
       "      <th>is_nullable</th>\n",
       "      <th>column_default</th>\n",
       "    </tr>\n",
       "  </thead>\n",
       "  <tbody>\n",
       "    <tr>\n",
       "      <th>0</th>\n",
       "      <td>id</td>\n",
       "      <td>uuid</td>\n",
       "      <td>NO</td>\n",
       "      <td>None</td>\n",
       "    </tr>\n",
       "    <tr>\n",
       "      <th>1</th>\n",
       "      <td>data</td>\n",
       "      <td>json</td>\n",
       "      <td>YES</td>\n",
       "      <td>None</td>\n",
       "    </tr>\n",
       "    <tr>\n",
       "      <th>2</th>\n",
       "      <td>keycloak_id</td>\n",
       "      <td>uuid</td>\n",
       "      <td>NO</td>\n",
       "      <td>None</td>\n",
       "    </tr>\n",
       "    <tr>\n",
       "      <th>3</th>\n",
       "      <td>username</td>\n",
       "      <td>text</td>\n",
       "      <td>YES</td>\n",
       "      <td>None</td>\n",
       "    </tr>\n",
       "    <tr>\n",
       "      <th>4</th>\n",
       "      <td>created_at</td>\n",
       "      <td>timestamp with time zone</td>\n",
       "      <td>YES</td>\n",
       "      <td>now()</td>\n",
       "    </tr>\n",
       "    <tr>\n",
       "      <th>5</th>\n",
       "      <td>updated_at</td>\n",
       "      <td>timestamp with time zone</td>\n",
       "      <td>YES</td>\n",
       "      <td>None</td>\n",
       "    </tr>\n",
       "  </tbody>\n",
       "</table>\n",
       "</div>"
      ],
      "text/plain": [
       "   column_name                 data_type is_nullable column_default\n",
       "0           id                      uuid          NO           None\n",
       "1         data                      json         YES           None\n",
       "2  keycloak_id                      uuid          NO           None\n",
       "3     username                      text         YES           None\n",
       "4   created_at  timestamp with time zone         YES          now()\n",
       "5   updated_at  timestamp with time zone         YES           None"
      ]
     },
     "metadata": {},
     "output_type": "display_data"
    },
    {
     "data": {
      "text/markdown": [
       "\n",
       "##### Ограничения (PK, FK):"
      ],
      "text/plain": [
       "<IPython.core.display.Markdown object>"
      ]
     },
     "metadata": {},
     "output_type": "display_data"
    },
    {
     "name": "stderr",
     "output_type": "stream",
     "text": [
      "/tmp/ipykernel_450849/82215137.py:79: UserWarning: pandas only supports SQLAlchemy connectable (engine/connection) or database string URI or sqlite3 DBAPI2 connection. Other DBAPI2 objects are not tested. Please consider using SQLAlchemy.\n",
      "  df = pd.read_sql_query(query, conn)\n"
     ]
    },
    {
     "data": {
      "text/html": [
       "<div>\n",
       "<style scoped>\n",
       "    .dataframe tbody tr th:only-of-type {\n",
       "        vertical-align: middle;\n",
       "    }\n",
       "\n",
       "    .dataframe tbody tr th {\n",
       "        vertical-align: top;\n",
       "    }\n",
       "\n",
       "    .dataframe thead th {\n",
       "        text-align: right;\n",
       "    }\n",
       "</style>\n",
       "<table border=\"1\" class=\"dataframe\">\n",
       "  <thead>\n",
       "    <tr style=\"text-align: right;\">\n",
       "      <th></th>\n",
       "      <th>constraint_name</th>\n",
       "      <th>constraint_type</th>\n",
       "      <th>column_name</th>\n",
       "      <th>foreign_table_name</th>\n",
       "      <th>foreign_column_name</th>\n",
       "    </tr>\n",
       "  </thead>\n",
       "  <tbody>\n",
       "    <tr>\n",
       "      <th>0</th>\n",
       "      <td>profileuserdata_pkey</td>\n",
       "      <td>PRIMARY KEY</td>\n",
       "      <td>id</td>\n",
       "      <td>asyncprofilesync_profileuserdata</td>\n",
       "      <td>id</td>\n",
       "    </tr>\n",
       "    <tr>\n",
       "      <th>1</th>\n",
       "      <td>profileuserdata_keycloak_id_key</td>\n",
       "      <td>UNIQUE</td>\n",
       "      <td>keycloak_id</td>\n",
       "      <td>asyncprofilesync_profileuserdata</td>\n",
       "      <td>keycloak_id</td>\n",
       "    </tr>\n",
       "  </tbody>\n",
       "</table>\n",
       "</div>"
      ],
      "text/plain": [
       "                   constraint_name constraint_type  column_name                foreign_table_name foreign_column_name\n",
       "0             profileuserdata_pkey     PRIMARY KEY           id  asyncprofilesync_profileuserdata                  id\n",
       "1  profileuserdata_keycloak_id_key          UNIQUE  keycloak_id  asyncprofilesync_profileuserdata         keycloak_id"
      ]
     },
     "metadata": {},
     "output_type": "display_data"
    },
    {
     "data": {
      "text/markdown": [
       "\n",
       "#### Таблица: `commands_command`"
      ],
      "text/plain": [
       "<IPython.core.display.Markdown object>"
      ]
     },
     "metadata": {},
     "output_type": "display_data"
    },
    {
     "data": {
      "text/markdown": [
       "\n",
       "##### Схема:"
      ],
      "text/plain": [
       "<IPython.core.display.Markdown object>"
      ]
     },
     "metadata": {},
     "output_type": "display_data"
    },
    {
     "name": "stderr",
     "output_type": "stream",
     "text": [
      "/tmp/ipykernel_450849/82215137.py:49: UserWarning: pandas only supports SQLAlchemy connectable (engine/connection) or database string URI or sqlite3 DBAPI2 connection. Other DBAPI2 objects are not tested. Please consider using SQLAlchemy.\n",
      "  df = pd.read_sql_query(query, conn)\n"
     ]
    },
    {
     "data": {
      "text/html": [
       "<div>\n",
       "<style scoped>\n",
       "    .dataframe tbody tr th:only-of-type {\n",
       "        vertical-align: middle;\n",
       "    }\n",
       "\n",
       "    .dataframe tbody tr th {\n",
       "        vertical-align: top;\n",
       "    }\n",
       "\n",
       "    .dataframe thead th {\n",
       "        text-align: right;\n",
       "    }\n",
       "</style>\n",
       "<table border=\"1\" class=\"dataframe\">\n",
       "  <thead>\n",
       "    <tr style=\"text-align: right;\">\n",
       "      <th></th>\n",
       "      <th>column_name</th>\n",
       "      <th>data_type</th>\n",
       "      <th>is_nullable</th>\n",
       "      <th>column_default</th>\n",
       "    </tr>\n",
       "  </thead>\n",
       "  <tbody>\n",
       "    <tr>\n",
       "      <th>0</th>\n",
       "      <td>id</td>\n",
       "      <td>integer</td>\n",
       "      <td>NO</td>\n",
       "      <td>None</td>\n",
       "    </tr>\n",
       "    <tr>\n",
       "      <th>1</th>\n",
       "      <td>module_name</td>\n",
       "      <td>text</td>\n",
       "      <td>NO</td>\n",
       "      <td>None</td>\n",
       "    </tr>\n",
       "    <tr>\n",
       "      <th>2</th>\n",
       "      <td>name</td>\n",
       "      <td>text</td>\n",
       "      <td>NO</td>\n",
       "      <td>None</td>\n",
       "    </tr>\n",
       "    <tr>\n",
       "      <th>3</th>\n",
       "      <td>created_at</td>\n",
       "      <td>timestamp with time zone</td>\n",
       "      <td>NO</td>\n",
       "      <td>None</td>\n",
       "    </tr>\n",
       "  </tbody>\n",
       "</table>\n",
       "</div>"
      ],
      "text/plain": [
       "   column_name                 data_type is_nullable column_default\n",
       "0           id                   integer          NO           None\n",
       "1  module_name                      text          NO           None\n",
       "2         name                      text          NO           None\n",
       "3   created_at  timestamp with time zone          NO           None"
      ]
     },
     "metadata": {},
     "output_type": "display_data"
    },
    {
     "data": {
      "text/markdown": [
       "\n",
       "##### Ограничения (PK, FK):"
      ],
      "text/plain": [
       "<IPython.core.display.Markdown object>"
      ]
     },
     "metadata": {},
     "output_type": "display_data"
    },
    {
     "name": "stderr",
     "output_type": "stream",
     "text": [
      "/tmp/ipykernel_450849/82215137.py:79: UserWarning: pandas only supports SQLAlchemy connectable (engine/connection) or database string URI or sqlite3 DBAPI2 connection. Other DBAPI2 objects are not tested. Please consider using SQLAlchemy.\n",
      "  df = pd.read_sql_query(query, conn)\n"
     ]
    },
    {
     "data": {
      "text/html": [
       "<div>\n",
       "<style scoped>\n",
       "    .dataframe tbody tr th:only-of-type {\n",
       "        vertical-align: middle;\n",
       "    }\n",
       "\n",
       "    .dataframe tbody tr th {\n",
       "        vertical-align: top;\n",
       "    }\n",
       "\n",
       "    .dataframe thead th {\n",
       "        text-align: right;\n",
       "    }\n",
       "</style>\n",
       "<table border=\"1\" class=\"dataframe\">\n",
       "  <thead>\n",
       "    <tr style=\"text-align: right;\">\n",
       "      <th></th>\n",
       "      <th>constraint_name</th>\n",
       "      <th>constraint_type</th>\n",
       "      <th>column_name</th>\n",
       "      <th>foreign_table_name</th>\n",
       "      <th>foreign_column_name</th>\n",
       "    </tr>\n",
       "  </thead>\n",
       "  <tbody>\n",
       "    <tr>\n",
       "      <th>0</th>\n",
       "      <td>commands_command_pkey</td>\n",
       "      <td>PRIMARY KEY</td>\n",
       "      <td>id</td>\n",
       "      <td>commands_command</td>\n",
       "      <td>id</td>\n",
       "    </tr>\n",
       "    <tr>\n",
       "      <th>1</th>\n",
       "      <td>commands_command_name_module_name_key</td>\n",
       "      <td>UNIQUE</td>\n",
       "      <td>name</td>\n",
       "      <td>commands_command</td>\n",
       "      <td>module_name</td>\n",
       "    </tr>\n",
       "    <tr>\n",
       "      <th>2</th>\n",
       "      <td>commands_command_name_module_name_key</td>\n",
       "      <td>UNIQUE</td>\n",
       "      <td>name</td>\n",
       "      <td>commands_command</td>\n",
       "      <td>name</td>\n",
       "    </tr>\n",
       "    <tr>\n",
       "      <th>3</th>\n",
       "      <td>commands_command_name_module_name_key</td>\n",
       "      <td>UNIQUE</td>\n",
       "      <td>module_name</td>\n",
       "      <td>commands_command</td>\n",
       "      <td>module_name</td>\n",
       "    </tr>\n",
       "    <tr>\n",
       "      <th>4</th>\n",
       "      <td>commands_command_name_module_name_key</td>\n",
       "      <td>UNIQUE</td>\n",
       "      <td>module_name</td>\n",
       "      <td>commands_command</td>\n",
       "      <td>name</td>\n",
       "    </tr>\n",
       "  </tbody>\n",
       "</table>\n",
       "</div>"
      ],
      "text/plain": [
       "                         constraint_name constraint_type  column_name foreign_table_name foreign_column_name\n",
       "0                  commands_command_pkey     PRIMARY KEY           id   commands_command                  id\n",
       "1  commands_command_name_module_name_key          UNIQUE         name   commands_command         module_name\n",
       "2  commands_command_name_module_name_key          UNIQUE         name   commands_command                name\n",
       "3  commands_command_name_module_name_key          UNIQUE  module_name   commands_command         module_name\n",
       "4  commands_command_name_module_name_key          UNIQUE  module_name   commands_command                name"
      ]
     },
     "metadata": {},
     "output_type": "display_data"
    },
    {
     "data": {
      "text/markdown": [
       "\n",
       "#### Таблица: `commands_run`"
      ],
      "text/plain": [
       "<IPython.core.display.Markdown object>"
      ]
     },
     "metadata": {},
     "output_type": "display_data"
    },
    {
     "data": {
      "text/markdown": [
       "\n",
       "##### Схема:"
      ],
      "text/plain": [
       "<IPython.core.display.Markdown object>"
      ]
     },
     "metadata": {},
     "output_type": "display_data"
    },
    {
     "name": "stderr",
     "output_type": "stream",
     "text": [
      "/tmp/ipykernel_450849/82215137.py:49: UserWarning: pandas only supports SQLAlchemy connectable (engine/connection) or database string URI or sqlite3 DBAPI2 connection. Other DBAPI2 objects are not tested. Please consider using SQLAlchemy.\n",
      "  df = pd.read_sql_query(query, conn)\n"
     ]
    },
    {
     "data": {
      "text/html": [
       "<div>\n",
       "<style scoped>\n",
       "    .dataframe tbody tr th:only-of-type {\n",
       "        vertical-align: middle;\n",
       "    }\n",
       "\n",
       "    .dataframe tbody tr th {\n",
       "        vertical-align: top;\n",
       "    }\n",
       "\n",
       "    .dataframe thead th {\n",
       "        text-align: right;\n",
       "    }\n",
       "</style>\n",
       "<table border=\"1\" class=\"dataframe\">\n",
       "  <thead>\n",
       "    <tr style=\"text-align: right;\">\n",
       "      <th></th>\n",
       "      <th>column_name</th>\n",
       "      <th>data_type</th>\n",
       "      <th>is_nullable</th>\n",
       "      <th>column_default</th>\n",
       "    </tr>\n",
       "  </thead>\n",
       "  <tbody>\n",
       "    <tr>\n",
       "      <th>0</th>\n",
       "      <td>id</td>\n",
       "      <td>integer</td>\n",
       "      <td>NO</td>\n",
       "      <td>None</td>\n",
       "    </tr>\n",
       "    <tr>\n",
       "      <th>1</th>\n",
       "      <td>args</td>\n",
       "      <td>ARRAY</td>\n",
       "      <td>YES</td>\n",
       "      <td>None</td>\n",
       "    </tr>\n",
       "    <tr>\n",
       "      <th>2</th>\n",
       "      <td>kwargs</td>\n",
       "      <td>jsonb</td>\n",
       "      <td>YES</td>\n",
       "      <td>None</td>\n",
       "    </tr>\n",
       "    <tr>\n",
       "      <th>3</th>\n",
       "      <td>command_id</td>\n",
       "      <td>integer</td>\n",
       "      <td>YES</td>\n",
       "      <td>None</td>\n",
       "    </tr>\n",
       "    <tr>\n",
       "      <th>4</th>\n",
       "      <td>started_at</td>\n",
       "      <td>timestamp with time zone</td>\n",
       "      <td>YES</td>\n",
       "      <td>None</td>\n",
       "    </tr>\n",
       "    <tr>\n",
       "      <th>5</th>\n",
       "      <td>finished_at</td>\n",
       "      <td>timestamp with time zone</td>\n",
       "      <td>YES</td>\n",
       "      <td>None</td>\n",
       "    </tr>\n",
       "    <tr>\n",
       "      <th>6</th>\n",
       "      <td>error</td>\n",
       "      <td>text</td>\n",
       "      <td>YES</td>\n",
       "      <td>None</td>\n",
       "    </tr>\n",
       "    <tr>\n",
       "      <th>7</th>\n",
       "      <td>status</td>\n",
       "      <td>character varying</td>\n",
       "      <td>YES</td>\n",
       "      <td>None</td>\n",
       "    </tr>\n",
       "  </tbody>\n",
       "</table>\n",
       "</div>"
      ],
      "text/plain": [
       "   column_name                 data_type is_nullable column_default\n",
       "0           id                   integer          NO           None\n",
       "1         args                     ARRAY         YES           None\n",
       "2       kwargs                     jsonb         YES           None\n",
       "3   command_id                   integer         YES           None\n",
       "4   started_at  timestamp with time zone         YES           None\n",
       "5  finished_at  timestamp with time zone         YES           None\n",
       "6        error                      text         YES           None\n",
       "7       status         character varying         YES           None"
      ]
     },
     "metadata": {},
     "output_type": "display_data"
    },
    {
     "data": {
      "text/markdown": [
       "\n",
       "##### Ограничения (PK, FK):"
      ],
      "text/plain": [
       "<IPython.core.display.Markdown object>"
      ]
     },
     "metadata": {},
     "output_type": "display_data"
    },
    {
     "name": "stderr",
     "output_type": "stream",
     "text": [
      "/tmp/ipykernel_450849/82215137.py:79: UserWarning: pandas only supports SQLAlchemy connectable (engine/connection) or database string URI or sqlite3 DBAPI2 connection. Other DBAPI2 objects are not tested. Please consider using SQLAlchemy.\n",
      "  df = pd.read_sql_query(query, conn)\n"
     ]
    },
    {
     "data": {
      "text/html": [
       "<div>\n",
       "<style scoped>\n",
       "    .dataframe tbody tr th:only-of-type {\n",
       "        vertical-align: middle;\n",
       "    }\n",
       "\n",
       "    .dataframe tbody tr th {\n",
       "        vertical-align: top;\n",
       "    }\n",
       "\n",
       "    .dataframe thead th {\n",
       "        text-align: right;\n",
       "    }\n",
       "</style>\n",
       "<table border=\"1\" class=\"dataframe\">\n",
       "  <thead>\n",
       "    <tr style=\"text-align: right;\">\n",
       "      <th></th>\n",
       "      <th>constraint_name</th>\n",
       "      <th>constraint_type</th>\n",
       "      <th>column_name</th>\n",
       "      <th>foreign_table_name</th>\n",
       "      <th>foreign_column_name</th>\n",
       "    </tr>\n",
       "  </thead>\n",
       "  <tbody>\n",
       "    <tr>\n",
       "      <th>0</th>\n",
       "      <td>commands_run_command_id_fkey</td>\n",
       "      <td>FOREIGN KEY</td>\n",
       "      <td>command_id</td>\n",
       "      <td>commands_command</td>\n",
       "      <td>id</td>\n",
       "    </tr>\n",
       "    <tr>\n",
       "      <th>1</th>\n",
       "      <td>commands_run_pkey</td>\n",
       "      <td>PRIMARY KEY</td>\n",
       "      <td>id</td>\n",
       "      <td>commands_run</td>\n",
       "      <td>id</td>\n",
       "    </tr>\n",
       "  </tbody>\n",
       "</table>\n",
       "</div>"
      ],
      "text/plain": [
       "                constraint_name constraint_type column_name foreign_table_name foreign_column_name\n",
       "0  commands_run_command_id_fkey     FOREIGN KEY  command_id   commands_command                  id\n",
       "1             commands_run_pkey     PRIMARY KEY          id       commands_run                  id"
      ]
     },
     "metadata": {},
     "output_type": "display_data"
    },
    {
     "data": {
      "text/markdown": [
       "\n",
       "#### Таблица: `deprecated_attachment`"
      ],
      "text/plain": [
       "<IPython.core.display.Markdown object>"
      ]
     },
     "metadata": {},
     "output_type": "display_data"
    },
    {
     "data": {
      "text/markdown": [
       "\n",
       "##### Схема:"
      ],
      "text/plain": [
       "<IPython.core.display.Markdown object>"
      ]
     },
     "metadata": {},
     "output_type": "display_data"
    },
    {
     "name": "stderr",
     "output_type": "stream",
     "text": [
      "/tmp/ipykernel_450849/82215137.py:49: UserWarning: pandas only supports SQLAlchemy connectable (engine/connection) or database string URI or sqlite3 DBAPI2 connection. Other DBAPI2 objects are not tested. Please consider using SQLAlchemy.\n",
      "  df = pd.read_sql_query(query, conn)\n"
     ]
    },
    {
     "data": {
      "text/html": [
       "<div>\n",
       "<style scoped>\n",
       "    .dataframe tbody tr th:only-of-type {\n",
       "        vertical-align: middle;\n",
       "    }\n",
       "\n",
       "    .dataframe tbody tr th {\n",
       "        vertical-align: top;\n",
       "    }\n",
       "\n",
       "    .dataframe thead th {\n",
       "        text-align: right;\n",
       "    }\n",
       "</style>\n",
       "<table border=\"1\" class=\"dataframe\">\n",
       "  <thead>\n",
       "    <tr style=\"text-align: right;\">\n",
       "      <th></th>\n",
       "      <th>column_name</th>\n",
       "      <th>data_type</th>\n",
       "      <th>is_nullable</th>\n",
       "      <th>column_default</th>\n",
       "    </tr>\n",
       "  </thead>\n",
       "  <tbody>\n",
       "    <tr>\n",
       "      <th>0</th>\n",
       "      <td>id</td>\n",
       "      <td>uuid</td>\n",
       "      <td>NO</td>\n",
       "      <td>None</td>\n",
       "    </tr>\n",
       "    <tr>\n",
       "      <th>1</th>\n",
       "      <td>entity_type</td>\n",
       "      <td>text</td>\n",
       "      <td>YES</td>\n",
       "      <td>None</td>\n",
       "    </tr>\n",
       "    <tr>\n",
       "      <th>2</th>\n",
       "      <td>entity_id</td>\n",
       "      <td>text</td>\n",
       "      <td>YES</td>\n",
       "      <td>None</td>\n",
       "    </tr>\n",
       "    <tr>\n",
       "      <th>3</th>\n",
       "      <td>page_id</td>\n",
       "      <td>uuid</td>\n",
       "      <td>YES</td>\n",
       "      <td>None</td>\n",
       "    </tr>\n",
       "    <tr>\n",
       "      <th>4</th>\n",
       "      <td>created_at</td>\n",
       "      <td>timestamp without time zone</td>\n",
       "      <td>YES</td>\n",
       "      <td>None</td>\n",
       "    </tr>\n",
       "    <tr>\n",
       "      <th>5</th>\n",
       "      <td>created_by</td>\n",
       "      <td>uuid</td>\n",
       "      <td>YES</td>\n",
       "      <td>None</td>\n",
       "    </tr>\n",
       "  </tbody>\n",
       "</table>\n",
       "</div>"
      ],
      "text/plain": [
       "   column_name                    data_type is_nullable column_default\n",
       "0           id                         uuid          NO           None\n",
       "1  entity_type                         text         YES           None\n",
       "2    entity_id                         text         YES           None\n",
       "3      page_id                         uuid         YES           None\n",
       "4   created_at  timestamp without time zone         YES           None\n",
       "5   created_by                         uuid         YES           None"
      ]
     },
     "metadata": {},
     "output_type": "display_data"
    },
    {
     "data": {
      "text/markdown": [
       "\n",
       "##### Ограничения (PK, FK):"
      ],
      "text/plain": [
       "<IPython.core.display.Markdown object>"
      ]
     },
     "metadata": {},
     "output_type": "display_data"
    },
    {
     "name": "stderr",
     "output_type": "stream",
     "text": [
      "/tmp/ipykernel_450849/82215137.py:79: UserWarning: pandas only supports SQLAlchemy connectable (engine/connection) or database string URI or sqlite3 DBAPI2 connection. Other DBAPI2 objects are not tested. Please consider using SQLAlchemy.\n",
      "  df = pd.read_sql_query(query, conn)\n"
     ]
    },
    {
     "data": {
      "text/html": [
       "<div>\n",
       "<style scoped>\n",
       "    .dataframe tbody tr th:only-of-type {\n",
       "        vertical-align: middle;\n",
       "    }\n",
       "\n",
       "    .dataframe tbody tr th {\n",
       "        vertical-align: top;\n",
       "    }\n",
       "\n",
       "    .dataframe thead th {\n",
       "        text-align: right;\n",
       "    }\n",
       "</style>\n",
       "<table border=\"1\" class=\"dataframe\">\n",
       "  <thead>\n",
       "    <tr style=\"text-align: right;\">\n",
       "      <th></th>\n",
       "      <th>constraint_name</th>\n",
       "      <th>constraint_type</th>\n",
       "      <th>column_name</th>\n",
       "      <th>foreign_table_name</th>\n",
       "      <th>foreign_column_name</th>\n",
       "    </tr>\n",
       "  </thead>\n",
       "  <tbody>\n",
       "    <tr>\n",
       "      <th>0</th>\n",
       "      <td>attachment_created_by_keycloak_id_fkey</td>\n",
       "      <td>FOREIGN KEY</td>\n",
       "      <td>created_by</td>\n",
       "      <td>users</td>\n",
       "      <td>keycloak_id</td>\n",
       "    </tr>\n",
       "    <tr>\n",
       "      <th>1</th>\n",
       "      <td>attachment_page_id_fkey</td>\n",
       "      <td>FOREIGN KEY</td>\n",
       "      <td>page_id</td>\n",
       "      <td>deprecated_page</td>\n",
       "      <td>id</td>\n",
       "    </tr>\n",
       "    <tr>\n",
       "      <th>2</th>\n",
       "      <td>attachment_pkey</td>\n",
       "      <td>PRIMARY KEY</td>\n",
       "      <td>id</td>\n",
       "      <td>deprecated_attachment</td>\n",
       "      <td>id</td>\n",
       "    </tr>\n",
       "    <tr>\n",
       "      <th>3</th>\n",
       "      <td>attachment_id_key</td>\n",
       "      <td>UNIQUE</td>\n",
       "      <td>id</td>\n",
       "      <td>deprecated_attachment</td>\n",
       "      <td>id</td>\n",
       "    </tr>\n",
       "  </tbody>\n",
       "</table>\n",
       "</div>"
      ],
      "text/plain": [
       "                          constraint_name constraint_type column_name     foreign_table_name foreign_column_name\n",
       "0  attachment_created_by_keycloak_id_fkey     FOREIGN KEY  created_by                  users         keycloak_id\n",
       "1                 attachment_page_id_fkey     FOREIGN KEY     page_id        deprecated_page                  id\n",
       "2                         attachment_pkey     PRIMARY KEY          id  deprecated_attachment                  id\n",
       "3                       attachment_id_key          UNIQUE          id  deprecated_attachment                  id"
      ]
     },
     "metadata": {},
     "output_type": "display_data"
    },
    {
     "data": {
      "text/markdown": [
       "\n",
       "#### Таблица: `deprecated_deprecated_reaction`"
      ],
      "text/plain": [
       "<IPython.core.display.Markdown object>"
      ]
     },
     "metadata": {},
     "output_type": "display_data"
    },
    {
     "data": {
      "text/markdown": [
       "\n",
       "##### Схема:"
      ],
      "text/plain": [
       "<IPython.core.display.Markdown object>"
      ]
     },
     "metadata": {},
     "output_type": "display_data"
    },
    {
     "name": "stderr",
     "output_type": "stream",
     "text": [
      "/tmp/ipykernel_450849/82215137.py:49: UserWarning: pandas only supports SQLAlchemy connectable (engine/connection) or database string URI or sqlite3 DBAPI2 connection. Other DBAPI2 objects are not tested. Please consider using SQLAlchemy.\n",
      "  df = pd.read_sql_query(query, conn)\n"
     ]
    },
    {
     "data": {
      "text/html": [
       "<div>\n",
       "<style scoped>\n",
       "    .dataframe tbody tr th:only-of-type {\n",
       "        vertical-align: middle;\n",
       "    }\n",
       "\n",
       "    .dataframe tbody tr th {\n",
       "        vertical-align: top;\n",
       "    }\n",
       "\n",
       "    .dataframe thead th {\n",
       "        text-align: right;\n",
       "    }\n",
       "</style>\n",
       "<table border=\"1\" class=\"dataframe\">\n",
       "  <thead>\n",
       "    <tr style=\"text-align: right;\">\n",
       "      <th></th>\n",
       "      <th>column_name</th>\n",
       "      <th>data_type</th>\n",
       "      <th>is_nullable</th>\n",
       "      <th>column_default</th>\n",
       "    </tr>\n",
       "  </thead>\n",
       "  <tbody>\n",
       "    <tr>\n",
       "      <th>0</th>\n",
       "      <td>id</td>\n",
       "      <td>uuid</td>\n",
       "      <td>NO</td>\n",
       "      <td>None</td>\n",
       "    </tr>\n",
       "    <tr>\n",
       "      <th>1</th>\n",
       "      <td>emoji_uuid</td>\n",
       "      <td>uuid</td>\n",
       "      <td>YES</td>\n",
       "      <td>None</td>\n",
       "    </tr>\n",
       "    <tr>\n",
       "      <th>2</th>\n",
       "      <td>page_id</td>\n",
       "      <td>uuid</td>\n",
       "      <td>YES</td>\n",
       "      <td>None</td>\n",
       "    </tr>\n",
       "    <tr>\n",
       "      <th>3</th>\n",
       "      <td>deleted_at</td>\n",
       "      <td>timestamp without time zone</td>\n",
       "      <td>YES</td>\n",
       "      <td>None</td>\n",
       "    </tr>\n",
       "    <tr>\n",
       "      <th>4</th>\n",
       "      <td>deleted_by</td>\n",
       "      <td>uuid</td>\n",
       "      <td>YES</td>\n",
       "      <td>None</td>\n",
       "    </tr>\n",
       "    <tr>\n",
       "      <th>5</th>\n",
       "      <td>created_at</td>\n",
       "      <td>timestamp without time zone</td>\n",
       "      <td>YES</td>\n",
       "      <td>None</td>\n",
       "    </tr>\n",
       "    <tr>\n",
       "      <th>6</th>\n",
       "      <td>created_by</td>\n",
       "      <td>uuid</td>\n",
       "      <td>YES</td>\n",
       "      <td>None</td>\n",
       "    </tr>\n",
       "  </tbody>\n",
       "</table>\n",
       "</div>"
      ],
      "text/plain": [
       "  column_name                    data_type is_nullable column_default\n",
       "0          id                         uuid          NO           None\n",
       "1  emoji_uuid                         uuid         YES           None\n",
       "2     page_id                         uuid         YES           None\n",
       "3  deleted_at  timestamp without time zone         YES           None\n",
       "4  deleted_by                         uuid         YES           None\n",
       "5  created_at  timestamp without time zone         YES           None\n",
       "6  created_by                         uuid         YES           None"
      ]
     },
     "metadata": {},
     "output_type": "display_data"
    },
    {
     "data": {
      "text/markdown": [
       "\n",
       "##### Ограничения (PK, FK):"
      ],
      "text/plain": [
       "<IPython.core.display.Markdown object>"
      ]
     },
     "metadata": {},
     "output_type": "display_data"
    },
    {
     "name": "stderr",
     "output_type": "stream",
     "text": [
      "/tmp/ipykernel_450849/82215137.py:79: UserWarning: pandas only supports SQLAlchemy connectable (engine/connection) or database string URI or sqlite3 DBAPI2 connection. Other DBAPI2 objects are not tested. Please consider using SQLAlchemy.\n",
      "  df = pd.read_sql_query(query, conn)\n"
     ]
    },
    {
     "data": {
      "text/html": [
       "<div>\n",
       "<style scoped>\n",
       "    .dataframe tbody tr th:only-of-type {\n",
       "        vertical-align: middle;\n",
       "    }\n",
       "\n",
       "    .dataframe tbody tr th {\n",
       "        vertical-align: top;\n",
       "    }\n",
       "\n",
       "    .dataframe thead th {\n",
       "        text-align: right;\n",
       "    }\n",
       "</style>\n",
       "<table border=\"1\" class=\"dataframe\">\n",
       "  <thead>\n",
       "    <tr style=\"text-align: right;\">\n",
       "      <th></th>\n",
       "      <th>constraint_name</th>\n",
       "      <th>constraint_type</th>\n",
       "      <th>column_name</th>\n",
       "      <th>foreign_table_name</th>\n",
       "      <th>foreign_column_name</th>\n",
       "    </tr>\n",
       "  </thead>\n",
       "  <tbody>\n",
       "    <tr>\n",
       "      <th>0</th>\n",
       "      <td>deprecated_reaction_deleted_by_fkey</td>\n",
       "      <td>FOREIGN KEY</td>\n",
       "      <td>deleted_by</td>\n",
       "      <td>users</td>\n",
       "      <td>keycloak_id</td>\n",
       "    </tr>\n",
       "    <tr>\n",
       "      <th>1</th>\n",
       "      <td>reaction_created_by_keycloak_id_fkey</td>\n",
       "      <td>FOREIGN KEY</td>\n",
       "      <td>created_by</td>\n",
       "      <td>users</td>\n",
       "      <td>keycloak_id</td>\n",
       "    </tr>\n",
       "    <tr>\n",
       "      <th>2</th>\n",
       "      <td>reaction_page_id_fkey</td>\n",
       "      <td>FOREIGN KEY</td>\n",
       "      <td>page_id</td>\n",
       "      <td>deprecated_page</td>\n",
       "      <td>id</td>\n",
       "    </tr>\n",
       "    <tr>\n",
       "      <th>3</th>\n",
       "      <td>reaction_pkey</td>\n",
       "      <td>PRIMARY KEY</td>\n",
       "      <td>id</td>\n",
       "      <td>deprecated_deprecated_reaction</td>\n",
       "      <td>id</td>\n",
       "    </tr>\n",
       "    <tr>\n",
       "      <th>4</th>\n",
       "      <td>reaction_id_key</td>\n",
       "      <td>UNIQUE</td>\n",
       "      <td>id</td>\n",
       "      <td>deprecated_deprecated_reaction</td>\n",
       "      <td>id</td>\n",
       "    </tr>\n",
       "  </tbody>\n",
       "</table>\n",
       "</div>"
      ],
      "text/plain": [
       "                        constraint_name constraint_type column_name              foreign_table_name foreign_column_name\n",
       "0   deprecated_reaction_deleted_by_fkey     FOREIGN KEY  deleted_by                           users         keycloak_id\n",
       "1  reaction_created_by_keycloak_id_fkey     FOREIGN KEY  created_by                           users         keycloak_id\n",
       "2                 reaction_page_id_fkey     FOREIGN KEY     page_id                 deprecated_page                  id\n",
       "3                         reaction_pkey     PRIMARY KEY          id  deprecated_deprecated_reaction                  id\n",
       "4                       reaction_id_key          UNIQUE          id  deprecated_deprecated_reaction                  id"
      ]
     },
     "metadata": {},
     "output_type": "display_data"
    },
    {
     "data": {
      "text/markdown": [
       "\n",
       "#### Таблица: `deprecated_deprecated_role`"
      ],
      "text/plain": [
       "<IPython.core.display.Markdown object>"
      ]
     },
     "metadata": {},
     "output_type": "display_data"
    },
    {
     "data": {
      "text/markdown": [
       "\n",
       "##### Схема:"
      ],
      "text/plain": [
       "<IPython.core.display.Markdown object>"
      ]
     },
     "metadata": {},
     "output_type": "display_data"
    },
    {
     "name": "stderr",
     "output_type": "stream",
     "text": [
      "/tmp/ipykernel_450849/82215137.py:49: UserWarning: pandas only supports SQLAlchemy connectable (engine/connection) or database string URI or sqlite3 DBAPI2 connection. Other DBAPI2 objects are not tested. Please consider using SQLAlchemy.\n",
      "  df = pd.read_sql_query(query, conn)\n"
     ]
    },
    {
     "data": {
      "text/html": [
       "<div>\n",
       "<style scoped>\n",
       "    .dataframe tbody tr th:only-of-type {\n",
       "        vertical-align: middle;\n",
       "    }\n",
       "\n",
       "    .dataframe tbody tr th {\n",
       "        vertical-align: top;\n",
       "    }\n",
       "\n",
       "    .dataframe thead th {\n",
       "        text-align: right;\n",
       "    }\n",
       "</style>\n",
       "<table border=\"1\" class=\"dataframe\">\n",
       "  <thead>\n",
       "    <tr style=\"text-align: right;\">\n",
       "      <th></th>\n",
       "      <th>column_name</th>\n",
       "      <th>data_type</th>\n",
       "      <th>is_nullable</th>\n",
       "      <th>column_default</th>\n",
       "    </tr>\n",
       "  </thead>\n",
       "  <tbody>\n",
       "    <tr>\n",
       "      <th>0</th>\n",
       "      <td>id</td>\n",
       "      <td>uuid</td>\n",
       "      <td>NO</td>\n",
       "      <td>uuid_generate_v4()</td>\n",
       "    </tr>\n",
       "    <tr>\n",
       "      <th>1</th>\n",
       "      <td>name</td>\n",
       "      <td>text</td>\n",
       "      <td>NO</td>\n",
       "      <td>None</td>\n",
       "    </tr>\n",
       "    <tr>\n",
       "      <th>2</th>\n",
       "      <td>permissions</td>\n",
       "      <td>ARRAY</td>\n",
       "      <td>NO</td>\n",
       "      <td>None</td>\n",
       "    </tr>\n",
       "  </tbody>\n",
       "</table>\n",
       "</div>"
      ],
      "text/plain": [
       "   column_name data_type is_nullable      column_default\n",
       "0           id      uuid          NO  uuid_generate_v4()\n",
       "1         name      text          NO                None\n",
       "2  permissions     ARRAY          NO                None"
      ]
     },
     "metadata": {},
     "output_type": "display_data"
    },
    {
     "data": {
      "text/markdown": [
       "\n",
       "##### Ограничения (PK, FK):"
      ],
      "text/plain": [
       "<IPython.core.display.Markdown object>"
      ]
     },
     "metadata": {},
     "output_type": "display_data"
    },
    {
     "name": "stderr",
     "output_type": "stream",
     "text": [
      "/tmp/ipykernel_450849/82215137.py:79: UserWarning: pandas only supports SQLAlchemy connectable (engine/connection) or database string URI or sqlite3 DBAPI2 connection. Other DBAPI2 objects are not tested. Please consider using SQLAlchemy.\n",
      "  df = pd.read_sql_query(query, conn)\n"
     ]
    },
    {
     "data": {
      "text/html": [
       "<div>\n",
       "<style scoped>\n",
       "    .dataframe tbody tr th:only-of-type {\n",
       "        vertical-align: middle;\n",
       "    }\n",
       "\n",
       "    .dataframe tbody tr th {\n",
       "        vertical-align: top;\n",
       "    }\n",
       "\n",
       "    .dataframe thead th {\n",
       "        text-align: right;\n",
       "    }\n",
       "</style>\n",
       "<table border=\"1\" class=\"dataframe\">\n",
       "  <thead>\n",
       "    <tr style=\"text-align: right;\">\n",
       "      <th></th>\n",
       "      <th>constraint_name</th>\n",
       "      <th>constraint_type</th>\n",
       "      <th>column_name</th>\n",
       "      <th>foreign_table_name</th>\n",
       "      <th>foreign_column_name</th>\n",
       "    </tr>\n",
       "  </thead>\n",
       "  <tbody>\n",
       "    <tr>\n",
       "      <th>0</th>\n",
       "      <td>role_pkey</td>\n",
       "      <td>PRIMARY KEY</td>\n",
       "      <td>id</td>\n",
       "      <td>deprecated_deprecated_role</td>\n",
       "      <td>id</td>\n",
       "    </tr>\n",
       "    <tr>\n",
       "      <th>1</th>\n",
       "      <td>role_id_key</td>\n",
       "      <td>UNIQUE</td>\n",
       "      <td>id</td>\n",
       "      <td>deprecated_deprecated_role</td>\n",
       "      <td>id</td>\n",
       "    </tr>\n",
       "    <tr>\n",
       "      <th>2</th>\n",
       "      <td>role_name_key</td>\n",
       "      <td>UNIQUE</td>\n",
       "      <td>name</td>\n",
       "      <td>deprecated_deprecated_role</td>\n",
       "      <td>name</td>\n",
       "    </tr>\n",
       "  </tbody>\n",
       "</table>\n",
       "</div>"
      ],
      "text/plain": [
       "  constraint_name constraint_type column_name          foreign_table_name foreign_column_name\n",
       "0       role_pkey     PRIMARY KEY          id  deprecated_deprecated_role                  id\n",
       "1     role_id_key          UNIQUE          id  deprecated_deprecated_role                  id\n",
       "2   role_name_key          UNIQUE        name  deprecated_deprecated_role                name"
      ]
     },
     "metadata": {},
     "output_type": "display_data"
    },
    {
     "data": {
      "text/markdown": [
       "\n",
       "#### Таблица: `deprecated_deprecated_userrole`"
      ],
      "text/plain": [
       "<IPython.core.display.Markdown object>"
      ]
     },
     "metadata": {},
     "output_type": "display_data"
    },
    {
     "data": {
      "text/markdown": [
       "\n",
       "##### Схема:"
      ],
      "text/plain": [
       "<IPython.core.display.Markdown object>"
      ]
     },
     "metadata": {},
     "output_type": "display_data"
    },
    {
     "name": "stderr",
     "output_type": "stream",
     "text": [
      "/tmp/ipykernel_450849/82215137.py:49: UserWarning: pandas only supports SQLAlchemy connectable (engine/connection) or database string URI or sqlite3 DBAPI2 connection. Other DBAPI2 objects are not tested. Please consider using SQLAlchemy.\n",
      "  df = pd.read_sql_query(query, conn)\n"
     ]
    },
    {
     "data": {
      "text/html": [
       "<div>\n",
       "<style scoped>\n",
       "    .dataframe tbody tr th:only-of-type {\n",
       "        vertical-align: middle;\n",
       "    }\n",
       "\n",
       "    .dataframe tbody tr th {\n",
       "        vertical-align: top;\n",
       "    }\n",
       "\n",
       "    .dataframe thead th {\n",
       "        text-align: right;\n",
       "    }\n",
       "</style>\n",
       "<table border=\"1\" class=\"dataframe\">\n",
       "  <thead>\n",
       "    <tr style=\"text-align: right;\">\n",
       "      <th></th>\n",
       "      <th>column_name</th>\n",
       "      <th>data_type</th>\n",
       "      <th>is_nullable</th>\n",
       "      <th>column_default</th>\n",
       "    </tr>\n",
       "  </thead>\n",
       "  <tbody>\n",
       "    <tr>\n",
       "      <th>0</th>\n",
       "      <td>id</td>\n",
       "      <td>uuid</td>\n",
       "      <td>NO</td>\n",
       "      <td>uuid_generate_v4()</td>\n",
       "    </tr>\n",
       "    <tr>\n",
       "      <th>1</th>\n",
       "      <td>object_id</td>\n",
       "      <td>uuid</td>\n",
       "      <td>YES</td>\n",
       "      <td>None</td>\n",
       "    </tr>\n",
       "    <tr>\n",
       "      <th>2</th>\n",
       "      <td>role_id</td>\n",
       "      <td>uuid</td>\n",
       "      <td>YES</td>\n",
       "      <td>None</td>\n",
       "    </tr>\n",
       "    <tr>\n",
       "      <th>3</th>\n",
       "      <td>user_id</td>\n",
       "      <td>uuid</td>\n",
       "      <td>YES</td>\n",
       "      <td>None</td>\n",
       "    </tr>\n",
       "  </tbody>\n",
       "</table>\n",
       "</div>"
      ],
      "text/plain": [
       "  column_name data_type is_nullable      column_default\n",
       "0          id      uuid          NO  uuid_generate_v4()\n",
       "1   object_id      uuid         YES                None\n",
       "2     role_id      uuid         YES                None\n",
       "3     user_id      uuid         YES                None"
      ]
     },
     "metadata": {},
     "output_type": "display_data"
    },
    {
     "data": {
      "text/markdown": [
       "\n",
       "##### Ограничения (PK, FK):"
      ],
      "text/plain": [
       "<IPython.core.display.Markdown object>"
      ]
     },
     "metadata": {},
     "output_type": "display_data"
    },
    {
     "name": "stderr",
     "output_type": "stream",
     "text": [
      "/tmp/ipykernel_450849/82215137.py:79: UserWarning: pandas only supports SQLAlchemy connectable (engine/connection) or database string URI or sqlite3 DBAPI2 connection. Other DBAPI2 objects are not tested. Please consider using SQLAlchemy.\n",
      "  df = pd.read_sql_query(query, conn)\n"
     ]
    },
    {
     "data": {
      "text/html": [
       "<div>\n",
       "<style scoped>\n",
       "    .dataframe tbody tr th:only-of-type {\n",
       "        vertical-align: middle;\n",
       "    }\n",
       "\n",
       "    .dataframe tbody tr th {\n",
       "        vertical-align: top;\n",
       "    }\n",
       "\n",
       "    .dataframe thead th {\n",
       "        text-align: right;\n",
       "    }\n",
       "</style>\n",
       "<table border=\"1\" class=\"dataframe\">\n",
       "  <thead>\n",
       "    <tr style=\"text-align: right;\">\n",
       "      <th></th>\n",
       "      <th>constraint_name</th>\n",
       "      <th>constraint_type</th>\n",
       "      <th>column_name</th>\n",
       "      <th>foreign_table_name</th>\n",
       "      <th>foreign_column_name</th>\n",
       "    </tr>\n",
       "  </thead>\n",
       "  <tbody>\n",
       "    <tr>\n",
       "      <th>0</th>\n",
       "      <td>userrole_role_id_fkey</td>\n",
       "      <td>FOREIGN KEY</td>\n",
       "      <td>role_id</td>\n",
       "      <td>deprecated_deprecated_role</td>\n",
       "      <td>id</td>\n",
       "    </tr>\n",
       "    <tr>\n",
       "      <th>1</th>\n",
       "      <td>userrole_user_keycloak_id_fkey</td>\n",
       "      <td>FOREIGN KEY</td>\n",
       "      <td>user_id</td>\n",
       "      <td>users</td>\n",
       "      <td>keycloak_id</td>\n",
       "    </tr>\n",
       "    <tr>\n",
       "      <th>2</th>\n",
       "      <td>userrole_pkey</td>\n",
       "      <td>PRIMARY KEY</td>\n",
       "      <td>id</td>\n",
       "      <td>deprecated_deprecated_userrole</td>\n",
       "      <td>id</td>\n",
       "    </tr>\n",
       "    <tr>\n",
       "      <th>3</th>\n",
       "      <td>userrole_id_key</td>\n",
       "      <td>UNIQUE</td>\n",
       "      <td>id</td>\n",
       "      <td>deprecated_deprecated_userrole</td>\n",
       "      <td>id</td>\n",
       "    </tr>\n",
       "    <tr>\n",
       "      <th>4</th>\n",
       "      <td>userrole_object_id_role_id_user_id_key</td>\n",
       "      <td>UNIQUE</td>\n",
       "      <td>object_id</td>\n",
       "      <td>deprecated_deprecated_userrole</td>\n",
       "      <td>object_id</td>\n",
       "    </tr>\n",
       "    <tr>\n",
       "      <th>5</th>\n",
       "      <td>userrole_object_id_role_id_user_id_key</td>\n",
       "      <td>UNIQUE</td>\n",
       "      <td>object_id</td>\n",
       "      <td>deprecated_deprecated_userrole</td>\n",
       "      <td>role_id</td>\n",
       "    </tr>\n",
       "    <tr>\n",
       "      <th>6</th>\n",
       "      <td>userrole_object_id_role_id_user_id_key</td>\n",
       "      <td>UNIQUE</td>\n",
       "      <td>object_id</td>\n",
       "      <td>deprecated_deprecated_userrole</td>\n",
       "      <td>user_id</td>\n",
       "    </tr>\n",
       "    <tr>\n",
       "      <th>7</th>\n",
       "      <td>userrole_object_id_role_id_user_id_key</td>\n",
       "      <td>UNIQUE</td>\n",
       "      <td>role_id</td>\n",
       "      <td>deprecated_deprecated_userrole</td>\n",
       "      <td>object_id</td>\n",
       "    </tr>\n",
       "    <tr>\n",
       "      <th>8</th>\n",
       "      <td>userrole_object_id_role_id_user_id_key</td>\n",
       "      <td>UNIQUE</td>\n",
       "      <td>role_id</td>\n",
       "      <td>deprecated_deprecated_userrole</td>\n",
       "      <td>role_id</td>\n",
       "    </tr>\n",
       "    <tr>\n",
       "      <th>9</th>\n",
       "      <td>userrole_object_id_role_id_user_id_key</td>\n",
       "      <td>UNIQUE</td>\n",
       "      <td>role_id</td>\n",
       "      <td>deprecated_deprecated_userrole</td>\n",
       "      <td>user_id</td>\n",
       "    </tr>\n",
       "    <tr>\n",
       "      <th>10</th>\n",
       "      <td>userrole_object_id_role_id_user_id_key</td>\n",
       "      <td>UNIQUE</td>\n",
       "      <td>user_id</td>\n",
       "      <td>deprecated_deprecated_userrole</td>\n",
       "      <td>user_id</td>\n",
       "    </tr>\n",
       "    <tr>\n",
       "      <th>11</th>\n",
       "      <td>userrole_object_id_role_id_user_id_key</td>\n",
       "      <td>UNIQUE</td>\n",
       "      <td>user_id</td>\n",
       "      <td>deprecated_deprecated_userrole</td>\n",
       "      <td>role_id</td>\n",
       "    </tr>\n",
       "    <tr>\n",
       "      <th>12</th>\n",
       "      <td>userrole_object_id_role_id_user_id_key</td>\n",
       "      <td>UNIQUE</td>\n",
       "      <td>user_id</td>\n",
       "      <td>deprecated_deprecated_userrole</td>\n",
       "      <td>object_id</td>\n",
       "    </tr>\n",
       "  </tbody>\n",
       "</table>\n",
       "</div>"
      ],
      "text/plain": [
       "                           constraint_name constraint_type column_name              foreign_table_name foreign_column_name\n",
       "0                    userrole_role_id_fkey     FOREIGN KEY     role_id      deprecated_deprecated_role                  id\n",
       "1           userrole_user_keycloak_id_fkey     FOREIGN KEY     user_id                           users         keycloak_id\n",
       "2                            userrole_pkey     PRIMARY KEY          id  deprecated_deprecated_userrole                  id\n",
       "3                          userrole_id_key          UNIQUE          id  deprecated_deprecated_userrole                  id\n",
       "4   userrole_object_id_role_id_user_id_key          UNIQUE   object_id  deprecated_deprecated_userrole           object_id\n",
       "5   userrole_object_id_role_id_user_id_key          UNIQUE   object_id  deprecated_deprecated_userrole             role_id\n",
       "6   userrole_object_id_role_id_user_id_key          UNIQUE   object_id  deprecated_deprecated_userrole             user_id\n",
       "7   userrole_object_id_role_id_user_id_key          UNIQUE     role_id  deprecated_deprecated_userrole           object_id\n",
       "8   userrole_object_id_role_id_user_id_key          UNIQUE     role_id  deprecated_deprecated_userrole             role_id\n",
       "9   userrole_object_id_role_id_user_id_key          UNIQUE     role_id  deprecated_deprecated_userrole             user_id\n",
       "10  userrole_object_id_role_id_user_id_key          UNIQUE     user_id  deprecated_deprecated_userrole             user_id\n",
       "11  userrole_object_id_role_id_user_id_key          UNIQUE     user_id  deprecated_deprecated_userrole             role_id\n",
       "12  userrole_object_id_role_id_user_id_key          UNIQUE     user_id  deprecated_deprecated_userrole           object_id"
      ]
     },
     "metadata": {},
     "output_type": "display_data"
    },
    {
     "data": {
      "text/markdown": [
       "\n",
       "#### Таблица: `deprecated_favoritepage`"
      ],
      "text/plain": [
       "<IPython.core.display.Markdown object>"
      ]
     },
     "metadata": {},
     "output_type": "display_data"
    },
    {
     "data": {
      "text/markdown": [
       "\n",
       "##### Схема:"
      ],
      "text/plain": [
       "<IPython.core.display.Markdown object>"
      ]
     },
     "metadata": {},
     "output_type": "display_data"
    },
    {
     "name": "stderr",
     "output_type": "stream",
     "text": [
      "/tmp/ipykernel_450849/82215137.py:49: UserWarning: pandas only supports SQLAlchemy connectable (engine/connection) or database string URI or sqlite3 DBAPI2 connection. Other DBAPI2 objects are not tested. Please consider using SQLAlchemy.\n",
      "  df = pd.read_sql_query(query, conn)\n"
     ]
    },
    {
     "data": {
      "text/html": [
       "<div>\n",
       "<style scoped>\n",
       "    .dataframe tbody tr th:only-of-type {\n",
       "        vertical-align: middle;\n",
       "    }\n",
       "\n",
       "    .dataframe tbody tr th {\n",
       "        vertical-align: top;\n",
       "    }\n",
       "\n",
       "    .dataframe thead th {\n",
       "        text-align: right;\n",
       "    }\n",
       "</style>\n",
       "<table border=\"1\" class=\"dataframe\">\n",
       "  <thead>\n",
       "    <tr style=\"text-align: right;\">\n",
       "      <th></th>\n",
       "      <th>column_name</th>\n",
       "      <th>data_type</th>\n",
       "      <th>is_nullable</th>\n",
       "      <th>column_default</th>\n",
       "    </tr>\n",
       "  </thead>\n",
       "  <tbody>\n",
       "    <tr>\n",
       "      <th>0</th>\n",
       "      <td>id</td>\n",
       "      <td>uuid</td>\n",
       "      <td>NO</td>\n",
       "      <td>None</td>\n",
       "    </tr>\n",
       "    <tr>\n",
       "      <th>1</th>\n",
       "      <td>page_id</td>\n",
       "      <td>uuid</td>\n",
       "      <td>YES</td>\n",
       "      <td>None</td>\n",
       "    </tr>\n",
       "    <tr>\n",
       "      <th>2</th>\n",
       "      <td>user_id</td>\n",
       "      <td>uuid</td>\n",
       "      <td>YES</td>\n",
       "      <td>None</td>\n",
       "    </tr>\n",
       "    <tr>\n",
       "      <th>3</th>\n",
       "      <td>created_at</td>\n",
       "      <td>timestamp without time zone</td>\n",
       "      <td>YES</td>\n",
       "      <td>None</td>\n",
       "    </tr>\n",
       "  </tbody>\n",
       "</table>\n",
       "</div>"
      ],
      "text/plain": [
       "  column_name                    data_type is_nullable column_default\n",
       "0          id                         uuid          NO           None\n",
       "1     page_id                         uuid         YES           None\n",
       "2     user_id                         uuid         YES           None\n",
       "3  created_at  timestamp without time zone         YES           None"
      ]
     },
     "metadata": {},
     "output_type": "display_data"
    },
    {
     "data": {
      "text/markdown": [
       "\n",
       "##### Ограничения (PK, FK):"
      ],
      "text/plain": [
       "<IPython.core.display.Markdown object>"
      ]
     },
     "metadata": {},
     "output_type": "display_data"
    },
    {
     "name": "stderr",
     "output_type": "stream",
     "text": [
      "/tmp/ipykernel_450849/82215137.py:79: UserWarning: pandas only supports SQLAlchemy connectable (engine/connection) or database string URI or sqlite3 DBAPI2 connection. Other DBAPI2 objects are not tested. Please consider using SQLAlchemy.\n",
      "  df = pd.read_sql_query(query, conn)\n"
     ]
    },
    {
     "data": {
      "text/html": [
       "<div>\n",
       "<style scoped>\n",
       "    .dataframe tbody tr th:only-of-type {\n",
       "        vertical-align: middle;\n",
       "    }\n",
       "\n",
       "    .dataframe tbody tr th {\n",
       "        vertical-align: top;\n",
       "    }\n",
       "\n",
       "    .dataframe thead th {\n",
       "        text-align: right;\n",
       "    }\n",
       "</style>\n",
       "<table border=\"1\" class=\"dataframe\">\n",
       "  <thead>\n",
       "    <tr style=\"text-align: right;\">\n",
       "      <th></th>\n",
       "      <th>constraint_name</th>\n",
       "      <th>constraint_type</th>\n",
       "      <th>column_name</th>\n",
       "      <th>foreign_table_name</th>\n",
       "      <th>foreign_column_name</th>\n",
       "    </tr>\n",
       "  </thead>\n",
       "  <tbody>\n",
       "    <tr>\n",
       "      <th>0</th>\n",
       "      <td>favouritepage_page_id_fkey</td>\n",
       "      <td>FOREIGN KEY</td>\n",
       "      <td>page_id</td>\n",
       "      <td>deprecated_page</td>\n",
       "      <td>id</td>\n",
       "    </tr>\n",
       "    <tr>\n",
       "      <th>1</th>\n",
       "      <td>favouritepage_user_keycloak_id_fkey</td>\n",
       "      <td>FOREIGN KEY</td>\n",
       "      <td>user_id</td>\n",
       "      <td>users</td>\n",
       "      <td>keycloak_id</td>\n",
       "    </tr>\n",
       "    <tr>\n",
       "      <th>2</th>\n",
       "      <td>favouritepage_pkey</td>\n",
       "      <td>PRIMARY KEY</td>\n",
       "      <td>id</td>\n",
       "      <td>deprecated_favoritepage</td>\n",
       "      <td>id</td>\n",
       "    </tr>\n",
       "    <tr>\n",
       "      <th>3</th>\n",
       "      <td>favouritepage_id_key</td>\n",
       "      <td>UNIQUE</td>\n",
       "      <td>id</td>\n",
       "      <td>deprecated_favoritepage</td>\n",
       "      <td>id</td>\n",
       "    </tr>\n",
       "  </tbody>\n",
       "</table>\n",
       "</div>"
      ],
      "text/plain": [
       "                       constraint_name constraint_type column_name       foreign_table_name foreign_column_name\n",
       "0           favouritepage_page_id_fkey     FOREIGN KEY     page_id          deprecated_page                  id\n",
       "1  favouritepage_user_keycloak_id_fkey     FOREIGN KEY     user_id                    users         keycloak_id\n",
       "2                   favouritepage_pkey     PRIMARY KEY          id  deprecated_favoritepage                  id\n",
       "3                 favouritepage_id_key          UNIQUE          id  deprecated_favoritepage                  id"
      ]
     },
     "metadata": {},
     "output_type": "display_data"
    },
    {
     "data": {
      "text/markdown": [
       "\n",
       "#### Таблица: `deprecated_feedback`"
      ],
      "text/plain": [
       "<IPython.core.display.Markdown object>"
      ]
     },
     "metadata": {},
     "output_type": "display_data"
    },
    {
     "data": {
      "text/markdown": [
       "\n",
       "##### Схема:"
      ],
      "text/plain": [
       "<IPython.core.display.Markdown object>"
      ]
     },
     "metadata": {},
     "output_type": "display_data"
    },
    {
     "name": "stderr",
     "output_type": "stream",
     "text": [
      "/tmp/ipykernel_450849/82215137.py:49: UserWarning: pandas only supports SQLAlchemy connectable (engine/connection) or database string URI or sqlite3 DBAPI2 connection. Other DBAPI2 objects are not tested. Please consider using SQLAlchemy.\n",
      "  df = pd.read_sql_query(query, conn)\n"
     ]
    },
    {
     "data": {
      "text/html": [
       "<div>\n",
       "<style scoped>\n",
       "    .dataframe tbody tr th:only-of-type {\n",
       "        vertical-align: middle;\n",
       "    }\n",
       "\n",
       "    .dataframe tbody tr th {\n",
       "        vertical-align: top;\n",
       "    }\n",
       "\n",
       "    .dataframe thead th {\n",
       "        text-align: right;\n",
       "    }\n",
       "</style>\n",
       "<table border=\"1\" class=\"dataframe\">\n",
       "  <thead>\n",
       "    <tr style=\"text-align: right;\">\n",
       "      <th></th>\n",
       "      <th>column_name</th>\n",
       "      <th>data_type</th>\n",
       "      <th>is_nullable</th>\n",
       "      <th>column_default</th>\n",
       "    </tr>\n",
       "  </thead>\n",
       "  <tbody>\n",
       "    <tr>\n",
       "      <th>0</th>\n",
       "      <td>page_id</td>\n",
       "      <td>uuid</td>\n",
       "      <td>NO</td>\n",
       "      <td>None</td>\n",
       "    </tr>\n",
       "    <tr>\n",
       "      <th>1</th>\n",
       "      <td>user_id</td>\n",
       "      <td>uuid</td>\n",
       "      <td>NO</td>\n",
       "      <td>None</td>\n",
       "    </tr>\n",
       "    <tr>\n",
       "      <th>2</th>\n",
       "      <td>body</td>\n",
       "      <td>json</td>\n",
       "      <td>NO</td>\n",
       "      <td>None</td>\n",
       "    </tr>\n",
       "    <tr>\n",
       "      <th>3</th>\n",
       "      <td>created_at</td>\n",
       "      <td>timestamp with time zone</td>\n",
       "      <td>NO</td>\n",
       "      <td>None</td>\n",
       "    </tr>\n",
       "    <tr>\n",
       "      <th>4</th>\n",
       "      <td>updated_at</td>\n",
       "      <td>timestamp with time zone</td>\n",
       "      <td>NO</td>\n",
       "      <td>None</td>\n",
       "    </tr>\n",
       "    <tr>\n",
       "      <th>5</th>\n",
       "      <td>id</td>\n",
       "      <td>uuid</td>\n",
       "      <td>NO</td>\n",
       "      <td>None</td>\n",
       "    </tr>\n",
       "  </tbody>\n",
       "</table>\n",
       "</div>"
      ],
      "text/plain": [
       "  column_name                 data_type is_nullable column_default\n",
       "0     page_id                      uuid          NO           None\n",
       "1     user_id                      uuid          NO           None\n",
       "2        body                      json          NO           None\n",
       "3  created_at  timestamp with time zone          NO           None\n",
       "4  updated_at  timestamp with time zone          NO           None\n",
       "5          id                      uuid          NO           None"
      ]
     },
     "metadata": {},
     "output_type": "display_data"
    },
    {
     "data": {
      "text/markdown": [
       "\n",
       "##### Ограничения (PK, FK):"
      ],
      "text/plain": [
       "<IPython.core.display.Markdown object>"
      ]
     },
     "metadata": {},
     "output_type": "display_data"
    },
    {
     "name": "stderr",
     "output_type": "stream",
     "text": [
      "/tmp/ipykernel_450849/82215137.py:79: UserWarning: pandas only supports SQLAlchemy connectable (engine/connection) or database string URI or sqlite3 DBAPI2 connection. Other DBAPI2 objects are not tested. Please consider using SQLAlchemy.\n",
      "  df = pd.read_sql_query(query, conn)\n"
     ]
    },
    {
     "data": {
      "text/html": [
       "<div>\n",
       "<style scoped>\n",
       "    .dataframe tbody tr th:only-of-type {\n",
       "        vertical-align: middle;\n",
       "    }\n",
       "\n",
       "    .dataframe tbody tr th {\n",
       "        vertical-align: top;\n",
       "    }\n",
       "\n",
       "    .dataframe thead th {\n",
       "        text-align: right;\n",
       "    }\n",
       "</style>\n",
       "<table border=\"1\" class=\"dataframe\">\n",
       "  <thead>\n",
       "    <tr style=\"text-align: right;\">\n",
       "      <th></th>\n",
       "      <th>constraint_name</th>\n",
       "      <th>constraint_type</th>\n",
       "      <th>column_name</th>\n",
       "      <th>foreign_table_name</th>\n",
       "      <th>foreign_column_name</th>\n",
       "    </tr>\n",
       "  </thead>\n",
       "  <tbody>\n",
       "    <tr>\n",
       "      <th>0</th>\n",
       "      <td>feedback_page_id_fkey</td>\n",
       "      <td>FOREIGN KEY</td>\n",
       "      <td>page_id</td>\n",
       "      <td>deprecated_page</td>\n",
       "      <td>id</td>\n",
       "    </tr>\n",
       "    <tr>\n",
       "      <th>1</th>\n",
       "      <td>feedback_user_id_fkey</td>\n",
       "      <td>FOREIGN KEY</td>\n",
       "      <td>user_id</td>\n",
       "      <td>users</td>\n",
       "      <td>keycloak_id</td>\n",
       "    </tr>\n",
       "    <tr>\n",
       "      <th>2</th>\n",
       "      <td>feedback_pkey</td>\n",
       "      <td>PRIMARY KEY</td>\n",
       "      <td>id</td>\n",
       "      <td>deprecated_feedback</td>\n",
       "      <td>id</td>\n",
       "    </tr>\n",
       "  </tbody>\n",
       "</table>\n",
       "</div>"
      ],
      "text/plain": [
       "         constraint_name constraint_type column_name   foreign_table_name foreign_column_name\n",
       "0  feedback_page_id_fkey     FOREIGN KEY     page_id      deprecated_page                  id\n",
       "1  feedback_user_id_fkey     FOREIGN KEY     user_id                users         keycloak_id\n",
       "2          feedback_pkey     PRIMARY KEY          id  deprecated_feedback                  id"
      ]
     },
     "metadata": {},
     "output_type": "display_data"
    },
    {
     "data": {
      "text/markdown": [
       "\n",
       "#### Таблица: `deprecated_feedbackstatus`"
      ],
      "text/plain": [
       "<IPython.core.display.Markdown object>"
      ]
     },
     "metadata": {},
     "output_type": "display_data"
    },
    {
     "data": {
      "text/markdown": [
       "\n",
       "##### Схема:"
      ],
      "text/plain": [
       "<IPython.core.display.Markdown object>"
      ]
     },
     "metadata": {},
     "output_type": "display_data"
    },
    {
     "name": "stderr",
     "output_type": "stream",
     "text": [
      "/tmp/ipykernel_450849/82215137.py:49: UserWarning: pandas only supports SQLAlchemy connectable (engine/connection) or database string URI or sqlite3 DBAPI2 connection. Other DBAPI2 objects are not tested. Please consider using SQLAlchemy.\n",
      "  df = pd.read_sql_query(query, conn)\n"
     ]
    },
    {
     "data": {
      "text/html": [
       "<div>\n",
       "<style scoped>\n",
       "    .dataframe tbody tr th:only-of-type {\n",
       "        vertical-align: middle;\n",
       "    }\n",
       "\n",
       "    .dataframe tbody tr th {\n",
       "        vertical-align: top;\n",
       "    }\n",
       "\n",
       "    .dataframe thead th {\n",
       "        text-align: right;\n",
       "    }\n",
       "</style>\n",
       "<table border=\"1\" class=\"dataframe\">\n",
       "  <thead>\n",
       "    <tr style=\"text-align: right;\">\n",
       "      <th></th>\n",
       "      <th>column_name</th>\n",
       "      <th>data_type</th>\n",
       "      <th>is_nullable</th>\n",
       "      <th>column_default</th>\n",
       "    </tr>\n",
       "  </thead>\n",
       "  <tbody>\n",
       "    <tr>\n",
       "      <th>0</th>\n",
       "      <td>id</td>\n",
       "      <td>integer</td>\n",
       "      <td>NO</td>\n",
       "      <td>nextval('feedbackstatus_id_seq'::regclass)</td>\n",
       "    </tr>\n",
       "    <tr>\n",
       "      <th>1</th>\n",
       "      <td>created_by_id</td>\n",
       "      <td>uuid</td>\n",
       "      <td>NO</td>\n",
       "      <td>None</td>\n",
       "    </tr>\n",
       "    <tr>\n",
       "      <th>2</th>\n",
       "      <td>status</td>\n",
       "      <td>character varying</td>\n",
       "      <td>NO</td>\n",
       "      <td>None</td>\n",
       "    </tr>\n",
       "    <tr>\n",
       "      <th>3</th>\n",
       "      <td>created_at</td>\n",
       "      <td>timestamp with time zone</td>\n",
       "      <td>NO</td>\n",
       "      <td>None</td>\n",
       "    </tr>\n",
       "    <tr>\n",
       "      <th>4</th>\n",
       "      <td>is_active</td>\n",
       "      <td>boolean</td>\n",
       "      <td>NO</td>\n",
       "      <td>None</td>\n",
       "    </tr>\n",
       "    <tr>\n",
       "      <th>5</th>\n",
       "      <td>updated_at</td>\n",
       "      <td>timestamp with time zone</td>\n",
       "      <td>NO</td>\n",
       "      <td>None</td>\n",
       "    </tr>\n",
       "    <tr>\n",
       "      <th>6</th>\n",
       "      <td>feedback_id</td>\n",
       "      <td>uuid</td>\n",
       "      <td>NO</td>\n",
       "      <td>None</td>\n",
       "    </tr>\n",
       "  </tbody>\n",
       "</table>\n",
       "</div>"
      ],
      "text/plain": [
       "     column_name                 data_type is_nullable                              column_default\n",
       "0             id                   integer          NO  nextval('feedbackstatus_id_seq'::regclass)\n",
       "1  created_by_id                      uuid          NO                                        None\n",
       "2         status         character varying          NO                                        None\n",
       "3     created_at  timestamp with time zone          NO                                        None\n",
       "4      is_active                   boolean          NO                                        None\n",
       "5     updated_at  timestamp with time zone          NO                                        None\n",
       "6    feedback_id                      uuid          NO                                        None"
      ]
     },
     "metadata": {},
     "output_type": "display_data"
    },
    {
     "data": {
      "text/markdown": [
       "\n",
       "##### Ограничения (PK, FK):"
      ],
      "text/plain": [
       "<IPython.core.display.Markdown object>"
      ]
     },
     "metadata": {},
     "output_type": "display_data"
    },
    {
     "name": "stderr",
     "output_type": "stream",
     "text": [
      "/tmp/ipykernel_450849/82215137.py:79: UserWarning: pandas only supports SQLAlchemy connectable (engine/connection) or database string URI or sqlite3 DBAPI2 connection. Other DBAPI2 objects are not tested. Please consider using SQLAlchemy.\n",
      "  df = pd.read_sql_query(query, conn)\n"
     ]
    },
    {
     "data": {
      "text/html": [
       "<div>\n",
       "<style scoped>\n",
       "    .dataframe tbody tr th:only-of-type {\n",
       "        vertical-align: middle;\n",
       "    }\n",
       "\n",
       "    .dataframe tbody tr th {\n",
       "        vertical-align: top;\n",
       "    }\n",
       "\n",
       "    .dataframe thead th {\n",
       "        text-align: right;\n",
       "    }\n",
       "</style>\n",
       "<table border=\"1\" class=\"dataframe\">\n",
       "  <thead>\n",
       "    <tr style=\"text-align: right;\">\n",
       "      <th></th>\n",
       "      <th>constraint_name</th>\n",
       "      <th>constraint_type</th>\n",
       "      <th>column_name</th>\n",
       "      <th>foreign_table_name</th>\n",
       "      <th>foreign_column_name</th>\n",
       "    </tr>\n",
       "  </thead>\n",
       "  <tbody>\n",
       "    <tr>\n",
       "      <th>0</th>\n",
       "      <td>feedbackstatus_created_by_id_fkey</td>\n",
       "      <td>FOREIGN KEY</td>\n",
       "      <td>created_by_id</td>\n",
       "      <td>users</td>\n",
       "      <td>keycloak_id</td>\n",
       "    </tr>\n",
       "    <tr>\n",
       "      <th>1</th>\n",
       "      <td>fk_feedbackstatus_feedback_id</td>\n",
       "      <td>FOREIGN KEY</td>\n",
       "      <td>feedback_id</td>\n",
       "      <td>deprecated_feedback</td>\n",
       "      <td>id</td>\n",
       "    </tr>\n",
       "    <tr>\n",
       "      <th>2</th>\n",
       "      <td>feedbackstatus_pkey</td>\n",
       "      <td>PRIMARY KEY</td>\n",
       "      <td>id</td>\n",
       "      <td>deprecated_feedbackstatus</td>\n",
       "      <td>id</td>\n",
       "    </tr>\n",
       "  </tbody>\n",
       "</table>\n",
       "</div>"
      ],
      "text/plain": [
       "                     constraint_name constraint_type    column_name         foreign_table_name foreign_column_name\n",
       "0  feedbackstatus_created_by_id_fkey     FOREIGN KEY  created_by_id                      users         keycloak_id\n",
       "1      fk_feedbackstatus_feedback_id     FOREIGN KEY    feedback_id        deprecated_feedback                  id\n",
       "2                feedbackstatus_pkey     PRIMARY KEY             id  deprecated_feedbackstatus                  id"
      ]
     },
     "metadata": {},
     "output_type": "display_data"
    },
    {
     "data": {
      "text/markdown": [
       "\n",
       "#### Таблица: `deprecated_page`"
      ],
      "text/plain": [
       "<IPython.core.display.Markdown object>"
      ]
     },
     "metadata": {},
     "output_type": "display_data"
    },
    {
     "data": {
      "text/markdown": [
       "\n",
       "##### Схема:"
      ],
      "text/plain": [
       "<IPython.core.display.Markdown object>"
      ]
     },
     "metadata": {},
     "output_type": "display_data"
    },
    {
     "name": "stderr",
     "output_type": "stream",
     "text": [
      "/tmp/ipykernel_450849/82215137.py:49: UserWarning: pandas only supports SQLAlchemy connectable (engine/connection) or database string URI or sqlite3 DBAPI2 connection. Other DBAPI2 objects are not tested. Please consider using SQLAlchemy.\n",
      "  df = pd.read_sql_query(query, conn)\n"
     ]
    },
    {
     "data": {
      "text/html": [
       "<div>\n",
       "<style scoped>\n",
       "    .dataframe tbody tr th:only-of-type {\n",
       "        vertical-align: middle;\n",
       "    }\n",
       "\n",
       "    .dataframe tbody tr th {\n",
       "        vertical-align: top;\n",
       "    }\n",
       "\n",
       "    .dataframe thead th {\n",
       "        text-align: right;\n",
       "    }\n",
       "</style>\n",
       "<table border=\"1\" class=\"dataframe\">\n",
       "  <thead>\n",
       "    <tr style=\"text-align: right;\">\n",
       "      <th></th>\n",
       "      <th>column_name</th>\n",
       "      <th>data_type</th>\n",
       "      <th>is_nullable</th>\n",
       "      <th>column_default</th>\n",
       "    </tr>\n",
       "  </thead>\n",
       "  <tbody>\n",
       "    <tr>\n",
       "      <th>0</th>\n",
       "      <td>id</td>\n",
       "      <td>uuid</td>\n",
       "      <td>NO</td>\n",
       "      <td>None</td>\n",
       "    </tr>\n",
       "    <tr>\n",
       "      <th>1</th>\n",
       "      <td>section_id</td>\n",
       "      <td>uuid</td>\n",
       "      <td>YES</td>\n",
       "      <td>None</td>\n",
       "    </tr>\n",
       "    <tr>\n",
       "      <th>2</th>\n",
       "      <td>name</td>\n",
       "      <td>text</td>\n",
       "      <td>YES</td>\n",
       "      <td>None</td>\n",
       "    </tr>\n",
       "    <tr>\n",
       "      <th>3</th>\n",
       "      <td>url</td>\n",
       "      <td>text</td>\n",
       "      <td>YES</td>\n",
       "      <td>None</td>\n",
       "    </tr>\n",
       "    <tr>\n",
       "      <th>4</th>\n",
       "      <td>body</td>\n",
       "      <td>json</td>\n",
       "      <td>YES</td>\n",
       "      <td>None</td>\n",
       "    </tr>\n",
       "    <tr>\n",
       "      <th>5</th>\n",
       "      <td>deprecated_tags</td>\n",
       "      <td>ARRAY</td>\n",
       "      <td>YES</td>\n",
       "      <td>None</td>\n",
       "    </tr>\n",
       "    <tr>\n",
       "      <th>6</th>\n",
       "      <td>views_count</td>\n",
       "      <td>integer</td>\n",
       "      <td>YES</td>\n",
       "      <td>None</td>\n",
       "    </tr>\n",
       "    <tr>\n",
       "      <th>7</th>\n",
       "      <td>is_actual</td>\n",
       "      <td>boolean</td>\n",
       "      <td>YES</td>\n",
       "      <td>None</td>\n",
       "    </tr>\n",
       "    <tr>\n",
       "      <th>8</th>\n",
       "      <td>is_searchable</td>\n",
       "      <td>boolean</td>\n",
       "      <td>YES</td>\n",
       "      <td>None</td>\n",
       "    </tr>\n",
       "    <tr>\n",
       "      <th>9</th>\n",
       "      <td>created_at</td>\n",
       "      <td>timestamp without time zone</td>\n",
       "      <td>YES</td>\n",
       "      <td>None</td>\n",
       "    </tr>\n",
       "    <tr>\n",
       "      <th>10</th>\n",
       "      <td>created_by</td>\n",
       "      <td>uuid</td>\n",
       "      <td>YES</td>\n",
       "      <td>None</td>\n",
       "    </tr>\n",
       "    <tr>\n",
       "      <th>11</th>\n",
       "      <td>updated_at</td>\n",
       "      <td>timestamp without time zone</td>\n",
       "      <td>YES</td>\n",
       "      <td>None</td>\n",
       "    </tr>\n",
       "    <tr>\n",
       "      <th>12</th>\n",
       "      <td>updated_by</td>\n",
       "      <td>uuid</td>\n",
       "      <td>YES</td>\n",
       "      <td>None</td>\n",
       "    </tr>\n",
       "    <tr>\n",
       "      <th>13</th>\n",
       "      <td>deleted_at</td>\n",
       "      <td>timestamp without time zone</td>\n",
       "      <td>YES</td>\n",
       "      <td>None</td>\n",
       "    </tr>\n",
       "    <tr>\n",
       "      <th>14</th>\n",
       "      <td>deleted_by</td>\n",
       "      <td>uuid</td>\n",
       "      <td>YES</td>\n",
       "      <td>None</td>\n",
       "    </tr>\n",
       "    <tr>\n",
       "      <th>15</th>\n",
       "      <td>folder_id</td>\n",
       "      <td>uuid</td>\n",
       "      <td>YES</td>\n",
       "      <td>None</td>\n",
       "    </tr>\n",
       "    <tr>\n",
       "      <th>16</th>\n",
       "      <td>extra_data</td>\n",
       "      <td>json</td>\n",
       "      <td>YES</td>\n",
       "      <td>None</td>\n",
       "    </tr>\n",
       "    <tr>\n",
       "      <th>17</th>\n",
       "      <td>path</td>\n",
       "      <td>text</td>\n",
       "      <td>YES</td>\n",
       "      <td>None</td>\n",
       "    </tr>\n",
       "    <tr>\n",
       "      <th>18</th>\n",
       "      <td>type</td>\n",
       "      <td>text</td>\n",
       "      <td>YES</td>\n",
       "      <td>None</td>\n",
       "    </tr>\n",
       "  </tbody>\n",
       "</table>\n",
       "</div>"
      ],
      "text/plain": [
       "        column_name                    data_type is_nullable column_default\n",
       "0                id                         uuid          NO           None\n",
       "1        section_id                         uuid         YES           None\n",
       "2              name                         text         YES           None\n",
       "3               url                         text         YES           None\n",
       "4              body                         json         YES           None\n",
       "5   deprecated_tags                        ARRAY         YES           None\n",
       "6       views_count                      integer         YES           None\n",
       "7         is_actual                      boolean         YES           None\n",
       "8     is_searchable                      boolean         YES           None\n",
       "9        created_at  timestamp without time zone         YES           None\n",
       "10       created_by                         uuid         YES           None\n",
       "11       updated_at  timestamp without time zone         YES           None\n",
       "12       updated_by                         uuid         YES           None\n",
       "13       deleted_at  timestamp without time zone         YES           None\n",
       "14       deleted_by                         uuid         YES           None\n",
       "15        folder_id                         uuid         YES           None\n",
       "16       extra_data                         json         YES           None\n",
       "17             path                         text         YES           None\n",
       "18             type                         text         YES           None"
      ]
     },
     "metadata": {},
     "output_type": "display_data"
    },
    {
     "data": {
      "text/markdown": [
       "\n",
       "##### Ограничения (PK, FK):"
      ],
      "text/plain": [
       "<IPython.core.display.Markdown object>"
      ]
     },
     "metadata": {},
     "output_type": "display_data"
    },
    {
     "name": "stderr",
     "output_type": "stream",
     "text": [
      "/tmp/ipykernel_450849/82215137.py:79: UserWarning: pandas only supports SQLAlchemy connectable (engine/connection) or database string URI or sqlite3 DBAPI2 connection. Other DBAPI2 objects are not tested. Please consider using SQLAlchemy.\n",
      "  df = pd.read_sql_query(query, conn)\n"
     ]
    },
    {
     "data": {
      "text/html": [
       "<div>\n",
       "<style scoped>\n",
       "    .dataframe tbody tr th:only-of-type {\n",
       "        vertical-align: middle;\n",
       "    }\n",
       "\n",
       "    .dataframe tbody tr th {\n",
       "        vertical-align: top;\n",
       "    }\n",
       "\n",
       "    .dataframe thead th {\n",
       "        text-align: right;\n",
       "    }\n",
       "</style>\n",
       "<table border=\"1\" class=\"dataframe\">\n",
       "  <thead>\n",
       "    <tr style=\"text-align: right;\">\n",
       "      <th></th>\n",
       "      <th>constraint_name</th>\n",
       "      <th>constraint_type</th>\n",
       "      <th>column_name</th>\n",
       "      <th>foreign_table_name</th>\n",
       "      <th>foreign_column_name</th>\n",
       "    </tr>\n",
       "  </thead>\n",
       "  <tbody>\n",
       "    <tr>\n",
       "      <th>0</th>\n",
       "      <td>page_created_by_keycloak_id_fkey</td>\n",
       "      <td>FOREIGN KEY</td>\n",
       "      <td>created_by</td>\n",
       "      <td>users</td>\n",
       "      <td>keycloak_id</td>\n",
       "    </tr>\n",
       "    <tr>\n",
       "      <th>1</th>\n",
       "      <td>page_deleted_by_keycloak_id_fkey</td>\n",
       "      <td>FOREIGN KEY</td>\n",
       "      <td>deleted_by</td>\n",
       "      <td>users</td>\n",
       "      <td>keycloak_id</td>\n",
       "    </tr>\n",
       "    <tr>\n",
       "      <th>2</th>\n",
       "      <td>page_section_id_fkey</td>\n",
       "      <td>FOREIGN KEY</td>\n",
       "      <td>section_id</td>\n",
       "      <td>deprecated_section</td>\n",
       "      <td>id</td>\n",
       "    </tr>\n",
       "    <tr>\n",
       "      <th>3</th>\n",
       "      <td>page_updated_by_keycloak_id_fkey</td>\n",
       "      <td>FOREIGN KEY</td>\n",
       "      <td>updated_by</td>\n",
       "      <td>users</td>\n",
       "      <td>keycloak_id</td>\n",
       "    </tr>\n",
       "    <tr>\n",
       "      <th>4</th>\n",
       "      <td>page_pkey</td>\n",
       "      <td>PRIMARY KEY</td>\n",
       "      <td>id</td>\n",
       "      <td>deprecated_page</td>\n",
       "      <td>id</td>\n",
       "    </tr>\n",
       "    <tr>\n",
       "      <th>5</th>\n",
       "      <td>page_id_key</td>\n",
       "      <td>UNIQUE</td>\n",
       "      <td>id</td>\n",
       "      <td>deprecated_page</td>\n",
       "      <td>id</td>\n",
       "    </tr>\n",
       "  </tbody>\n",
       "</table>\n",
       "</div>"
      ],
      "text/plain": [
       "                    constraint_name constraint_type column_name  foreign_table_name foreign_column_name\n",
       "0  page_created_by_keycloak_id_fkey     FOREIGN KEY  created_by               users         keycloak_id\n",
       "1  page_deleted_by_keycloak_id_fkey     FOREIGN KEY  deleted_by               users         keycloak_id\n",
       "2              page_section_id_fkey     FOREIGN KEY  section_id  deprecated_section                  id\n",
       "3  page_updated_by_keycloak_id_fkey     FOREIGN KEY  updated_by               users         keycloak_id\n",
       "4                         page_pkey     PRIMARY KEY          id     deprecated_page                  id\n",
       "5                       page_id_key          UNIQUE          id     deprecated_page                  id"
      ]
     },
     "metadata": {},
     "output_type": "display_data"
    },
    {
     "data": {
      "text/markdown": [
       "\n",
       "#### Таблица: `deprecated_permissions_default_role`"
      ],
      "text/plain": [
       "<IPython.core.display.Markdown object>"
      ]
     },
     "metadata": {},
     "output_type": "display_data"
    },
    {
     "data": {
      "text/markdown": [
       "\n",
       "##### Схема:"
      ],
      "text/plain": [
       "<IPython.core.display.Markdown object>"
      ]
     },
     "metadata": {},
     "output_type": "display_data"
    },
    {
     "name": "stderr",
     "output_type": "stream",
     "text": [
      "/tmp/ipykernel_450849/82215137.py:49: UserWarning: pandas only supports SQLAlchemy connectable (engine/connection) or database string URI or sqlite3 DBAPI2 connection. Other DBAPI2 objects are not tested. Please consider using SQLAlchemy.\n",
      "  df = pd.read_sql_query(query, conn)\n"
     ]
    },
    {
     "data": {
      "text/html": [
       "<div>\n",
       "<style scoped>\n",
       "    .dataframe tbody tr th:only-of-type {\n",
       "        vertical-align: middle;\n",
       "    }\n",
       "\n",
       "    .dataframe tbody tr th {\n",
       "        vertical-align: top;\n",
       "    }\n",
       "\n",
       "    .dataframe thead th {\n",
       "        text-align: right;\n",
       "    }\n",
       "</style>\n",
       "<table border=\"1\" class=\"dataframe\">\n",
       "  <thead>\n",
       "    <tr style=\"text-align: right;\">\n",
       "      <th></th>\n",
       "      <th>column_name</th>\n",
       "      <th>data_type</th>\n",
       "      <th>is_nullable</th>\n",
       "      <th>column_default</th>\n",
       "    </tr>\n",
       "  </thead>\n",
       "  <tbody>\n",
       "    <tr>\n",
       "      <th>0</th>\n",
       "      <td>id</td>\n",
       "      <td>integer</td>\n",
       "      <td>NO</td>\n",
       "      <td>nextval('permissions_default_role_id_seq'::reg...</td>\n",
       "    </tr>\n",
       "    <tr>\n",
       "      <th>1</th>\n",
       "      <td>object_id</td>\n",
       "      <td>uuid</td>\n",
       "      <td>YES</td>\n",
       "      <td>None</td>\n",
       "    </tr>\n",
       "    <tr>\n",
       "      <th>2</th>\n",
       "      <td>object_type</td>\n",
       "      <td>character varying</td>\n",
       "      <td>NO</td>\n",
       "      <td>None</td>\n",
       "    </tr>\n",
       "    <tr>\n",
       "      <th>3</th>\n",
       "      <td>role_id</td>\n",
       "      <td>integer</td>\n",
       "      <td>NO</td>\n",
       "      <td>None</td>\n",
       "    </tr>\n",
       "  </tbody>\n",
       "</table>\n",
       "</div>"
      ],
      "text/plain": [
       "   column_name          data_type is_nullable                                     column_default\n",
       "0           id            integer          NO  nextval('permissions_default_role_id_seq'::reg...\n",
       "1    object_id               uuid         YES                                               None\n",
       "2  object_type  character varying          NO                                               None\n",
       "3      role_id            integer          NO                                               None"
      ]
     },
     "metadata": {},
     "output_type": "display_data"
    },
    {
     "data": {
      "text/markdown": [
       "\n",
       "##### Ограничения (PK, FK):"
      ],
      "text/plain": [
       "<IPython.core.display.Markdown object>"
      ]
     },
     "metadata": {},
     "output_type": "display_data"
    },
    {
     "name": "stderr",
     "output_type": "stream",
     "text": [
      "/tmp/ipykernel_450849/82215137.py:79: UserWarning: pandas only supports SQLAlchemy connectable (engine/connection) or database string URI or sqlite3 DBAPI2 connection. Other DBAPI2 objects are not tested. Please consider using SQLAlchemy.\n",
      "  df = pd.read_sql_query(query, conn)\n"
     ]
    },
    {
     "data": {
      "text/html": [
       "<div>\n",
       "<style scoped>\n",
       "    .dataframe tbody tr th:only-of-type {\n",
       "        vertical-align: middle;\n",
       "    }\n",
       "\n",
       "    .dataframe tbody tr th {\n",
       "        vertical-align: top;\n",
       "    }\n",
       "\n",
       "    .dataframe thead th {\n",
       "        text-align: right;\n",
       "    }\n",
       "</style>\n",
       "<table border=\"1\" class=\"dataframe\">\n",
       "  <thead>\n",
       "    <tr style=\"text-align: right;\">\n",
       "      <th></th>\n",
       "      <th>constraint_name</th>\n",
       "      <th>constraint_type</th>\n",
       "      <th>column_name</th>\n",
       "      <th>foreign_table_name</th>\n",
       "      <th>foreign_column_name</th>\n",
       "    </tr>\n",
       "  </thead>\n",
       "  <tbody>\n",
       "    <tr>\n",
       "      <th>0</th>\n",
       "      <td>permissions_default_role_role_id_fkey</td>\n",
       "      <td>FOREIGN KEY</td>\n",
       "      <td>role_id</td>\n",
       "      <td>deprecated_permissions_role</td>\n",
       "      <td>id</td>\n",
       "    </tr>\n",
       "    <tr>\n",
       "      <th>1</th>\n",
       "      <td>permissions_default_role_pkey</td>\n",
       "      <td>PRIMARY KEY</td>\n",
       "      <td>id</td>\n",
       "      <td>deprecated_permissions_default_role</td>\n",
       "      <td>id</td>\n",
       "    </tr>\n",
       "    <tr>\n",
       "      <th>2</th>\n",
       "      <td>permissions_default_role_object_type_object_id...</td>\n",
       "      <td>UNIQUE</td>\n",
       "      <td>object_type</td>\n",
       "      <td>deprecated_permissions_default_role</td>\n",
       "      <td>role_id</td>\n",
       "    </tr>\n",
       "    <tr>\n",
       "      <th>3</th>\n",
       "      <td>permissions_default_role_object_type_object_id...</td>\n",
       "      <td>UNIQUE</td>\n",
       "      <td>object_type</td>\n",
       "      <td>deprecated_permissions_default_role</td>\n",
       "      <td>object_id</td>\n",
       "    </tr>\n",
       "    <tr>\n",
       "      <th>4</th>\n",
       "      <td>permissions_default_role_object_type_object_id...</td>\n",
       "      <td>UNIQUE</td>\n",
       "      <td>object_type</td>\n",
       "      <td>deprecated_permissions_default_role</td>\n",
       "      <td>object_type</td>\n",
       "    </tr>\n",
       "    <tr>\n",
       "      <th>5</th>\n",
       "      <td>permissions_default_role_object_type_object_id...</td>\n",
       "      <td>UNIQUE</td>\n",
       "      <td>object_id</td>\n",
       "      <td>deprecated_permissions_default_role</td>\n",
       "      <td>role_id</td>\n",
       "    </tr>\n",
       "    <tr>\n",
       "      <th>6</th>\n",
       "      <td>permissions_default_role_object_type_object_id...</td>\n",
       "      <td>UNIQUE</td>\n",
       "      <td>object_id</td>\n",
       "      <td>deprecated_permissions_default_role</td>\n",
       "      <td>object_type</td>\n",
       "    </tr>\n",
       "    <tr>\n",
       "      <th>7</th>\n",
       "      <td>permissions_default_role_object_type_object_id...</td>\n",
       "      <td>UNIQUE</td>\n",
       "      <td>object_id</td>\n",
       "      <td>deprecated_permissions_default_role</td>\n",
       "      <td>object_id</td>\n",
       "    </tr>\n",
       "    <tr>\n",
       "      <th>8</th>\n",
       "      <td>permissions_default_role_object_type_object_id...</td>\n",
       "      <td>UNIQUE</td>\n",
       "      <td>role_id</td>\n",
       "      <td>deprecated_permissions_default_role</td>\n",
       "      <td>object_id</td>\n",
       "    </tr>\n",
       "    <tr>\n",
       "      <th>9</th>\n",
       "      <td>permissions_default_role_object_type_object_id...</td>\n",
       "      <td>UNIQUE</td>\n",
       "      <td>role_id</td>\n",
       "      <td>deprecated_permissions_default_role</td>\n",
       "      <td>object_type</td>\n",
       "    </tr>\n",
       "    <tr>\n",
       "      <th>10</th>\n",
       "      <td>permissions_default_role_object_type_object_id...</td>\n",
       "      <td>UNIQUE</td>\n",
       "      <td>role_id</td>\n",
       "      <td>deprecated_permissions_default_role</td>\n",
       "      <td>role_id</td>\n",
       "    </tr>\n",
       "  </tbody>\n",
       "</table>\n",
       "</div>"
      ],
      "text/plain": [
       "                                      constraint_name constraint_type  column_name                   foreign_table_name foreign_column_name\n",
       "0               permissions_default_role_role_id_fkey     FOREIGN KEY      role_id          deprecated_permissions_role                  id\n",
       "1                       permissions_default_role_pkey     PRIMARY KEY           id  deprecated_permissions_default_role                  id\n",
       "2   permissions_default_role_object_type_object_id...          UNIQUE  object_type  deprecated_permissions_default_role             role_id\n",
       "3   permissions_default_role_object_type_object_id...          UNIQUE  object_type  deprecated_permissions_default_role           object_id\n",
       "4   permissions_default_role_object_type_object_id...          UNIQUE  object_type  deprecated_permissions_default_role         object_type\n",
       "5   permissions_default_role_object_type_object_id...          UNIQUE    object_id  deprecated_permissions_default_role             role_id\n",
       "6   permissions_default_role_object_type_object_id...          UNIQUE    object_id  deprecated_permissions_default_role         object_type\n",
       "7   permissions_default_role_object_type_object_id...          UNIQUE    object_id  deprecated_permissions_default_role           object_id\n",
       "8   permissions_default_role_object_type_object_id...          UNIQUE      role_id  deprecated_permissions_default_role           object_id\n",
       "9   permissions_default_role_object_type_object_id...          UNIQUE      role_id  deprecated_permissions_default_role         object_type\n",
       "10  permissions_default_role_object_type_object_id...          UNIQUE      role_id  deprecated_permissions_default_role             role_id"
      ]
     },
     "metadata": {},
     "output_type": "display_data"
    },
    {
     "data": {
      "text/markdown": [
       "\n",
       "#### Таблица: `deprecated_permissions_group_role`"
      ],
      "text/plain": [
       "<IPython.core.display.Markdown object>"
      ]
     },
     "metadata": {},
     "output_type": "display_data"
    },
    {
     "data": {
      "text/markdown": [
       "\n",
       "##### Схема:"
      ],
      "text/plain": [
       "<IPython.core.display.Markdown object>"
      ]
     },
     "metadata": {},
     "output_type": "display_data"
    },
    {
     "name": "stderr",
     "output_type": "stream",
     "text": [
      "/tmp/ipykernel_450849/82215137.py:49: UserWarning: pandas only supports SQLAlchemy connectable (engine/connection) or database string URI or sqlite3 DBAPI2 connection. Other DBAPI2 objects are not tested. Please consider using SQLAlchemy.\n",
      "  df = pd.read_sql_query(query, conn)\n"
     ]
    },
    {
     "data": {
      "text/html": [
       "<div>\n",
       "<style scoped>\n",
       "    .dataframe tbody tr th:only-of-type {\n",
       "        vertical-align: middle;\n",
       "    }\n",
       "\n",
       "    .dataframe tbody tr th {\n",
       "        vertical-align: top;\n",
       "    }\n",
       "\n",
       "    .dataframe thead th {\n",
       "        text-align: right;\n",
       "    }\n",
       "</style>\n",
       "<table border=\"1\" class=\"dataframe\">\n",
       "  <thead>\n",
       "    <tr style=\"text-align: right;\">\n",
       "      <th></th>\n",
       "      <th>column_name</th>\n",
       "      <th>data_type</th>\n",
       "      <th>is_nullable</th>\n",
       "      <th>column_default</th>\n",
       "    </tr>\n",
       "  </thead>\n",
       "  <tbody>\n",
       "    <tr>\n",
       "      <th>0</th>\n",
       "      <td>id</td>\n",
       "      <td>integer</td>\n",
       "      <td>NO</td>\n",
       "      <td>nextval('permissions_group_role_id_seq'::regcl...</td>\n",
       "    </tr>\n",
       "    <tr>\n",
       "      <th>1</th>\n",
       "      <td>object_id</td>\n",
       "      <td>uuid</td>\n",
       "      <td>NO</td>\n",
       "      <td>None</td>\n",
       "    </tr>\n",
       "    <tr>\n",
       "      <th>2</th>\n",
       "      <td>object_type</td>\n",
       "      <td>character varying</td>\n",
       "      <td>NO</td>\n",
       "      <td>None</td>\n",
       "    </tr>\n",
       "    <tr>\n",
       "      <th>3</th>\n",
       "      <td>role_id</td>\n",
       "      <td>integer</td>\n",
       "      <td>NO</td>\n",
       "      <td>None</td>\n",
       "    </tr>\n",
       "    <tr>\n",
       "      <th>4</th>\n",
       "      <td>group_id</td>\n",
       "      <td>uuid</td>\n",
       "      <td>NO</td>\n",
       "      <td>None</td>\n",
       "    </tr>\n",
       "  </tbody>\n",
       "</table>\n",
       "</div>"
      ],
      "text/plain": [
       "   column_name          data_type is_nullable                                     column_default\n",
       "0           id            integer          NO  nextval('permissions_group_role_id_seq'::regcl...\n",
       "1    object_id               uuid          NO                                               None\n",
       "2  object_type  character varying          NO                                               None\n",
       "3      role_id            integer          NO                                               None\n",
       "4     group_id               uuid          NO                                               None"
      ]
     },
     "metadata": {},
     "output_type": "display_data"
    },
    {
     "data": {
      "text/markdown": [
       "\n",
       "##### Ограничения (PK, FK):"
      ],
      "text/plain": [
       "<IPython.core.display.Markdown object>"
      ]
     },
     "metadata": {},
     "output_type": "display_data"
    },
    {
     "name": "stderr",
     "output_type": "stream",
     "text": [
      "/tmp/ipykernel_450849/82215137.py:79: UserWarning: pandas only supports SQLAlchemy connectable (engine/connection) or database string URI or sqlite3 DBAPI2 connection. Other DBAPI2 objects are not tested. Please consider using SQLAlchemy.\n",
      "  df = pd.read_sql_query(query, conn)\n"
     ]
    },
    {
     "data": {
      "text/html": [
       "<div>\n",
       "<style scoped>\n",
       "    .dataframe tbody tr th:only-of-type {\n",
       "        vertical-align: middle;\n",
       "    }\n",
       "\n",
       "    .dataframe tbody tr th {\n",
       "        vertical-align: top;\n",
       "    }\n",
       "\n",
       "    .dataframe thead th {\n",
       "        text-align: right;\n",
       "    }\n",
       "</style>\n",
       "<table border=\"1\" class=\"dataframe\">\n",
       "  <thead>\n",
       "    <tr style=\"text-align: right;\">\n",
       "      <th></th>\n",
       "      <th>constraint_name</th>\n",
       "      <th>constraint_type</th>\n",
       "      <th>column_name</th>\n",
       "      <th>foreign_table_name</th>\n",
       "      <th>foreign_column_name</th>\n",
       "    </tr>\n",
       "  </thead>\n",
       "  <tbody>\n",
       "    <tr>\n",
       "      <th>0</th>\n",
       "      <td>permissions_group_role_role_id_fkey</td>\n",
       "      <td>FOREIGN KEY</td>\n",
       "      <td>role_id</td>\n",
       "      <td>deprecated_permissions_role</td>\n",
       "      <td>id</td>\n",
       "    </tr>\n",
       "    <tr>\n",
       "      <th>1</th>\n",
       "      <td>permissions_group_role_pkey</td>\n",
       "      <td>PRIMARY KEY</td>\n",
       "      <td>id</td>\n",
       "      <td>deprecated_permissions_group_role</td>\n",
       "      <td>id</td>\n",
       "    </tr>\n",
       "    <tr>\n",
       "      <th>2</th>\n",
       "      <td>permissions_group_role_object_type_object_id_g...</td>\n",
       "      <td>UNIQUE</td>\n",
       "      <td>object_type</td>\n",
       "      <td>deprecated_permissions_group_role</td>\n",
       "      <td>group_id</td>\n",
       "    </tr>\n",
       "    <tr>\n",
       "      <th>3</th>\n",
       "      <td>permissions_group_role_object_type_object_id_g...</td>\n",
       "      <td>UNIQUE</td>\n",
       "      <td>object_type</td>\n",
       "      <td>deprecated_permissions_group_role</td>\n",
       "      <td>object_id</td>\n",
       "    </tr>\n",
       "    <tr>\n",
       "      <th>4</th>\n",
       "      <td>permissions_group_role_object_type_object_id_g...</td>\n",
       "      <td>UNIQUE</td>\n",
       "      <td>object_type</td>\n",
       "      <td>deprecated_permissions_group_role</td>\n",
       "      <td>object_type</td>\n",
       "    </tr>\n",
       "    <tr>\n",
       "      <th>5</th>\n",
       "      <td>permissions_group_role_object_type_object_id_g...</td>\n",
       "      <td>UNIQUE</td>\n",
       "      <td>object_id</td>\n",
       "      <td>deprecated_permissions_group_role</td>\n",
       "      <td>group_id</td>\n",
       "    </tr>\n",
       "    <tr>\n",
       "      <th>6</th>\n",
       "      <td>permissions_group_role_object_type_object_id_g...</td>\n",
       "      <td>UNIQUE</td>\n",
       "      <td>object_id</td>\n",
       "      <td>deprecated_permissions_group_role</td>\n",
       "      <td>object_type</td>\n",
       "    </tr>\n",
       "    <tr>\n",
       "      <th>7</th>\n",
       "      <td>permissions_group_role_object_type_object_id_g...</td>\n",
       "      <td>UNIQUE</td>\n",
       "      <td>object_id</td>\n",
       "      <td>deprecated_permissions_group_role</td>\n",
       "      <td>object_id</td>\n",
       "    </tr>\n",
       "    <tr>\n",
       "      <th>8</th>\n",
       "      <td>permissions_group_role_object_type_object_id_g...</td>\n",
       "      <td>UNIQUE</td>\n",
       "      <td>group_id</td>\n",
       "      <td>deprecated_permissions_group_role</td>\n",
       "      <td>object_id</td>\n",
       "    </tr>\n",
       "    <tr>\n",
       "      <th>9</th>\n",
       "      <td>permissions_group_role_object_type_object_id_g...</td>\n",
       "      <td>UNIQUE</td>\n",
       "      <td>group_id</td>\n",
       "      <td>deprecated_permissions_group_role</td>\n",
       "      <td>object_type</td>\n",
       "    </tr>\n",
       "    <tr>\n",
       "      <th>10</th>\n",
       "      <td>permissions_group_role_object_type_object_id_g...</td>\n",
       "      <td>UNIQUE</td>\n",
       "      <td>group_id</td>\n",
       "      <td>deprecated_permissions_group_role</td>\n",
       "      <td>group_id</td>\n",
       "    </tr>\n",
       "  </tbody>\n",
       "</table>\n",
       "</div>"
      ],
      "text/plain": [
       "                                      constraint_name constraint_type  column_name                 foreign_table_name foreign_column_name\n",
       "0                 permissions_group_role_role_id_fkey     FOREIGN KEY      role_id        deprecated_permissions_role                  id\n",
       "1                         permissions_group_role_pkey     PRIMARY KEY           id  deprecated_permissions_group_role                  id\n",
       "2   permissions_group_role_object_type_object_id_g...          UNIQUE  object_type  deprecated_permissions_group_role            group_id\n",
       "3   permissions_group_role_object_type_object_id_g...          UNIQUE  object_type  deprecated_permissions_group_role           object_id\n",
       "4   permissions_group_role_object_type_object_id_g...          UNIQUE  object_type  deprecated_permissions_group_role         object_type\n",
       "5   permissions_group_role_object_type_object_id_g...          UNIQUE    object_id  deprecated_permissions_group_role            group_id\n",
       "6   permissions_group_role_object_type_object_id_g...          UNIQUE    object_id  deprecated_permissions_group_role         object_type\n",
       "7   permissions_group_role_object_type_object_id_g...          UNIQUE    object_id  deprecated_permissions_group_role           object_id\n",
       "8   permissions_group_role_object_type_object_id_g...          UNIQUE     group_id  deprecated_permissions_group_role           object_id\n",
       "9   permissions_group_role_object_type_object_id_g...          UNIQUE     group_id  deprecated_permissions_group_role         object_type\n",
       "10  permissions_group_role_object_type_object_id_g...          UNIQUE     group_id  deprecated_permissions_group_role            group_id"
      ]
     },
     "metadata": {},
     "output_type": "display_data"
    },
    {
     "data": {
      "text/markdown": [
       "\n",
       "#### Таблица: `deprecated_permissions_role`"
      ],
      "text/plain": [
       "<IPython.core.display.Markdown object>"
      ]
     },
     "metadata": {},
     "output_type": "display_data"
    },
    {
     "data": {
      "text/markdown": [
       "\n",
       "##### Схема:"
      ],
      "text/plain": [
       "<IPython.core.display.Markdown object>"
      ]
     },
     "metadata": {},
     "output_type": "display_data"
    },
    {
     "name": "stderr",
     "output_type": "stream",
     "text": [
      "/tmp/ipykernel_450849/82215137.py:49: UserWarning: pandas only supports SQLAlchemy connectable (engine/connection) or database string URI or sqlite3 DBAPI2 connection. Other DBAPI2 objects are not tested. Please consider using SQLAlchemy.\n",
      "  df = pd.read_sql_query(query, conn)\n"
     ]
    },
    {
     "data": {
      "text/html": [
       "<div>\n",
       "<style scoped>\n",
       "    .dataframe tbody tr th:only-of-type {\n",
       "        vertical-align: middle;\n",
       "    }\n",
       "\n",
       "    .dataframe tbody tr th {\n",
       "        vertical-align: top;\n",
       "    }\n",
       "\n",
       "    .dataframe thead th {\n",
       "        text-align: right;\n",
       "    }\n",
       "</style>\n",
       "<table border=\"1\" class=\"dataframe\">\n",
       "  <thead>\n",
       "    <tr style=\"text-align: right;\">\n",
       "      <th></th>\n",
       "      <th>column_name</th>\n",
       "      <th>data_type</th>\n",
       "      <th>is_nullable</th>\n",
       "      <th>column_default</th>\n",
       "    </tr>\n",
       "  </thead>\n",
       "  <tbody>\n",
       "    <tr>\n",
       "      <th>0</th>\n",
       "      <td>id</td>\n",
       "      <td>integer</td>\n",
       "      <td>NO</td>\n",
       "      <td>nextval('permissions_role_id_seq'::regclass)</td>\n",
       "    </tr>\n",
       "    <tr>\n",
       "      <th>1</th>\n",
       "      <td>name</td>\n",
       "      <td>text</td>\n",
       "      <td>NO</td>\n",
       "      <td>None</td>\n",
       "    </tr>\n",
       "    <tr>\n",
       "      <th>2</th>\n",
       "      <td>permissions</td>\n",
       "      <td>ARRAY</td>\n",
       "      <td>NO</td>\n",
       "      <td>None</td>\n",
       "    </tr>\n",
       "    <tr>\n",
       "      <th>3</th>\n",
       "      <td>is_inheritable</td>\n",
       "      <td>boolean</td>\n",
       "      <td>NO</td>\n",
       "      <td>false</td>\n",
       "    </tr>\n",
       "  </tbody>\n",
       "</table>\n",
       "</div>"
      ],
      "text/plain": [
       "      column_name data_type is_nullable                                column_default\n",
       "0              id   integer          NO  nextval('permissions_role_id_seq'::regclass)\n",
       "1            name      text          NO                                          None\n",
       "2     permissions     ARRAY          NO                                          None\n",
       "3  is_inheritable   boolean          NO                                         false"
      ]
     },
     "metadata": {},
     "output_type": "display_data"
    },
    {
     "data": {
      "text/markdown": [
       "\n",
       "##### Ограничения (PK, FK):"
      ],
      "text/plain": [
       "<IPython.core.display.Markdown object>"
      ]
     },
     "metadata": {},
     "output_type": "display_data"
    },
    {
     "name": "stderr",
     "output_type": "stream",
     "text": [
      "/tmp/ipykernel_450849/82215137.py:79: UserWarning: pandas only supports SQLAlchemy connectable (engine/connection) or database string URI or sqlite3 DBAPI2 connection. Other DBAPI2 objects are not tested. Please consider using SQLAlchemy.\n",
      "  df = pd.read_sql_query(query, conn)\n"
     ]
    },
    {
     "data": {
      "text/html": [
       "<div>\n",
       "<style scoped>\n",
       "    .dataframe tbody tr th:only-of-type {\n",
       "        vertical-align: middle;\n",
       "    }\n",
       "\n",
       "    .dataframe tbody tr th {\n",
       "        vertical-align: top;\n",
       "    }\n",
       "\n",
       "    .dataframe thead th {\n",
       "        text-align: right;\n",
       "    }\n",
       "</style>\n",
       "<table border=\"1\" class=\"dataframe\">\n",
       "  <thead>\n",
       "    <tr style=\"text-align: right;\">\n",
       "      <th></th>\n",
       "      <th>constraint_name</th>\n",
       "      <th>constraint_type</th>\n",
       "      <th>column_name</th>\n",
       "      <th>foreign_table_name</th>\n",
       "      <th>foreign_column_name</th>\n",
       "    </tr>\n",
       "  </thead>\n",
       "  <tbody>\n",
       "    <tr>\n",
       "      <th>0</th>\n",
       "      <td>permissions_role_pkey</td>\n",
       "      <td>PRIMARY KEY</td>\n",
       "      <td>id</td>\n",
       "      <td>deprecated_permissions_role</td>\n",
       "      <td>id</td>\n",
       "    </tr>\n",
       "    <tr>\n",
       "      <th>1</th>\n",
       "      <td>permissions_role_name_key</td>\n",
       "      <td>UNIQUE</td>\n",
       "      <td>name</td>\n",
       "      <td>deprecated_permissions_role</td>\n",
       "      <td>name</td>\n",
       "    </tr>\n",
       "  </tbody>\n",
       "</table>\n",
       "</div>"
      ],
      "text/plain": [
       "             constraint_name constraint_type column_name           foreign_table_name foreign_column_name\n",
       "0      permissions_role_pkey     PRIMARY KEY          id  deprecated_permissions_role                  id\n",
       "1  permissions_role_name_key          UNIQUE        name  deprecated_permissions_role                name"
      ]
     },
     "metadata": {},
     "output_type": "display_data"
    },
    {
     "data": {
      "text/markdown": [
       "\n",
       "#### Таблица: `deprecated_permissions_user_role`"
      ],
      "text/plain": [
       "<IPython.core.display.Markdown object>"
      ]
     },
     "metadata": {},
     "output_type": "display_data"
    },
    {
     "data": {
      "text/markdown": [
       "\n",
       "##### Схема:"
      ],
      "text/plain": [
       "<IPython.core.display.Markdown object>"
      ]
     },
     "metadata": {},
     "output_type": "display_data"
    },
    {
     "name": "stderr",
     "output_type": "stream",
     "text": [
      "/tmp/ipykernel_450849/82215137.py:49: UserWarning: pandas only supports SQLAlchemy connectable (engine/connection) or database string URI or sqlite3 DBAPI2 connection. Other DBAPI2 objects are not tested. Please consider using SQLAlchemy.\n",
      "  df = pd.read_sql_query(query, conn)\n"
     ]
    },
    {
     "data": {
      "text/html": [
       "<div>\n",
       "<style scoped>\n",
       "    .dataframe tbody tr th:only-of-type {\n",
       "        vertical-align: middle;\n",
       "    }\n",
       "\n",
       "    .dataframe tbody tr th {\n",
       "        vertical-align: top;\n",
       "    }\n",
       "\n",
       "    .dataframe thead th {\n",
       "        text-align: right;\n",
       "    }\n",
       "</style>\n",
       "<table border=\"1\" class=\"dataframe\">\n",
       "  <thead>\n",
       "    <tr style=\"text-align: right;\">\n",
       "      <th></th>\n",
       "      <th>column_name</th>\n",
       "      <th>data_type</th>\n",
       "      <th>is_nullable</th>\n",
       "      <th>column_default</th>\n",
       "    </tr>\n",
       "  </thead>\n",
       "  <tbody>\n",
       "    <tr>\n",
       "      <th>0</th>\n",
       "      <td>id</td>\n",
       "      <td>integer</td>\n",
       "      <td>NO</td>\n",
       "      <td>nextval('permissions_user_role_id_seq'::regclass)</td>\n",
       "    </tr>\n",
       "    <tr>\n",
       "      <th>1</th>\n",
       "      <td>object_id</td>\n",
       "      <td>uuid</td>\n",
       "      <td>NO</td>\n",
       "      <td>None</td>\n",
       "    </tr>\n",
       "    <tr>\n",
       "      <th>2</th>\n",
       "      <td>object_type</td>\n",
       "      <td>character varying</td>\n",
       "      <td>NO</td>\n",
       "      <td>None</td>\n",
       "    </tr>\n",
       "    <tr>\n",
       "      <th>3</th>\n",
       "      <td>role_id</td>\n",
       "      <td>integer</td>\n",
       "      <td>NO</td>\n",
       "      <td>None</td>\n",
       "    </tr>\n",
       "    <tr>\n",
       "      <th>4</th>\n",
       "      <td>user_id</td>\n",
       "      <td>uuid</td>\n",
       "      <td>NO</td>\n",
       "      <td>None</td>\n",
       "    </tr>\n",
       "  </tbody>\n",
       "</table>\n",
       "</div>"
      ],
      "text/plain": [
       "   column_name          data_type is_nullable                                     column_default\n",
       "0           id            integer          NO  nextval('permissions_user_role_id_seq'::regclass)\n",
       "1    object_id               uuid          NO                                               None\n",
       "2  object_type  character varying          NO                                               None\n",
       "3      role_id            integer          NO                                               None\n",
       "4      user_id               uuid          NO                                               None"
      ]
     },
     "metadata": {},
     "output_type": "display_data"
    },
    {
     "data": {
      "text/markdown": [
       "\n",
       "##### Ограничения (PK, FK):"
      ],
      "text/plain": [
       "<IPython.core.display.Markdown object>"
      ]
     },
     "metadata": {},
     "output_type": "display_data"
    },
    {
     "name": "stderr",
     "output_type": "stream",
     "text": [
      "/tmp/ipykernel_450849/82215137.py:79: UserWarning: pandas only supports SQLAlchemy connectable (engine/connection) or database string URI or sqlite3 DBAPI2 connection. Other DBAPI2 objects are not tested. Please consider using SQLAlchemy.\n",
      "  df = pd.read_sql_query(query, conn)\n"
     ]
    },
    {
     "data": {
      "text/html": [
       "<div>\n",
       "<style scoped>\n",
       "    .dataframe tbody tr th:only-of-type {\n",
       "        vertical-align: middle;\n",
       "    }\n",
       "\n",
       "    .dataframe tbody tr th {\n",
       "        vertical-align: top;\n",
       "    }\n",
       "\n",
       "    .dataframe thead th {\n",
       "        text-align: right;\n",
       "    }\n",
       "</style>\n",
       "<table border=\"1\" class=\"dataframe\">\n",
       "  <thead>\n",
       "    <tr style=\"text-align: right;\">\n",
       "      <th></th>\n",
       "      <th>constraint_name</th>\n",
       "      <th>constraint_type</th>\n",
       "      <th>column_name</th>\n",
       "      <th>foreign_table_name</th>\n",
       "      <th>foreign_column_name</th>\n",
       "    </tr>\n",
       "  </thead>\n",
       "  <tbody>\n",
       "    <tr>\n",
       "      <th>0</th>\n",
       "      <td>permissions_user_role_role_id_fkey</td>\n",
       "      <td>FOREIGN KEY</td>\n",
       "      <td>role_id</td>\n",
       "      <td>deprecated_permissions_role</td>\n",
       "      <td>id</td>\n",
       "    </tr>\n",
       "    <tr>\n",
       "      <th>1</th>\n",
       "      <td>permissions_user_role_user_id_fkey</td>\n",
       "      <td>FOREIGN KEY</td>\n",
       "      <td>user_id</td>\n",
       "      <td>users</td>\n",
       "      <td>keycloak_id</td>\n",
       "    </tr>\n",
       "    <tr>\n",
       "      <th>2</th>\n",
       "      <td>permissions_user_role_pkey</td>\n",
       "      <td>PRIMARY KEY</td>\n",
       "      <td>id</td>\n",
       "      <td>deprecated_permissions_user_role</td>\n",
       "      <td>id</td>\n",
       "    </tr>\n",
       "    <tr>\n",
       "      <th>3</th>\n",
       "      <td>permissions_user_role_object_type_object_id_us...</td>\n",
       "      <td>UNIQUE</td>\n",
       "      <td>object_type</td>\n",
       "      <td>deprecated_permissions_user_role</td>\n",
       "      <td>object_id</td>\n",
       "    </tr>\n",
       "    <tr>\n",
       "      <th>4</th>\n",
       "      <td>permissions_user_role_object_type_object_id_us...</td>\n",
       "      <td>UNIQUE</td>\n",
       "      <td>object_type</td>\n",
       "      <td>deprecated_permissions_user_role</td>\n",
       "      <td>object_type</td>\n",
       "    </tr>\n",
       "    <tr>\n",
       "      <th>5</th>\n",
       "      <td>permissions_user_role_object_type_object_id_us...</td>\n",
       "      <td>UNIQUE</td>\n",
       "      <td>object_type</td>\n",
       "      <td>deprecated_permissions_user_role</td>\n",
       "      <td>user_id</td>\n",
       "    </tr>\n",
       "    <tr>\n",
       "      <th>6</th>\n",
       "      <td>permissions_user_role_object_type_object_id_us...</td>\n",
       "      <td>UNIQUE</td>\n",
       "      <td>object_id</td>\n",
       "      <td>deprecated_permissions_user_role</td>\n",
       "      <td>user_id</td>\n",
       "    </tr>\n",
       "    <tr>\n",
       "      <th>7</th>\n",
       "      <td>permissions_user_role_object_type_object_id_us...</td>\n",
       "      <td>UNIQUE</td>\n",
       "      <td>object_id</td>\n",
       "      <td>deprecated_permissions_user_role</td>\n",
       "      <td>object_type</td>\n",
       "    </tr>\n",
       "    <tr>\n",
       "      <th>8</th>\n",
       "      <td>permissions_user_role_object_type_object_id_us...</td>\n",
       "      <td>UNIQUE</td>\n",
       "      <td>object_id</td>\n",
       "      <td>deprecated_permissions_user_role</td>\n",
       "      <td>object_id</td>\n",
       "    </tr>\n",
       "    <tr>\n",
       "      <th>9</th>\n",
       "      <td>permissions_user_role_object_type_object_id_us...</td>\n",
       "      <td>UNIQUE</td>\n",
       "      <td>user_id</td>\n",
       "      <td>deprecated_permissions_user_role</td>\n",
       "      <td>object_id</td>\n",
       "    </tr>\n",
       "    <tr>\n",
       "      <th>10</th>\n",
       "      <td>permissions_user_role_object_type_object_id_us...</td>\n",
       "      <td>UNIQUE</td>\n",
       "      <td>user_id</td>\n",
       "      <td>deprecated_permissions_user_role</td>\n",
       "      <td>object_type</td>\n",
       "    </tr>\n",
       "    <tr>\n",
       "      <th>11</th>\n",
       "      <td>permissions_user_role_object_type_object_id_us...</td>\n",
       "      <td>UNIQUE</td>\n",
       "      <td>user_id</td>\n",
       "      <td>deprecated_permissions_user_role</td>\n",
       "      <td>user_id</td>\n",
       "    </tr>\n",
       "  </tbody>\n",
       "</table>\n",
       "</div>"
      ],
      "text/plain": [
       "                                      constraint_name constraint_type  column_name                foreign_table_name foreign_column_name\n",
       "0                  permissions_user_role_role_id_fkey     FOREIGN KEY      role_id       deprecated_permissions_role                  id\n",
       "1                  permissions_user_role_user_id_fkey     FOREIGN KEY      user_id                             users         keycloak_id\n",
       "2                          permissions_user_role_pkey     PRIMARY KEY           id  deprecated_permissions_user_role                  id\n",
       "3   permissions_user_role_object_type_object_id_us...          UNIQUE  object_type  deprecated_permissions_user_role           object_id\n",
       "4   permissions_user_role_object_type_object_id_us...          UNIQUE  object_type  deprecated_permissions_user_role         object_type\n",
       "5   permissions_user_role_object_type_object_id_us...          UNIQUE  object_type  deprecated_permissions_user_role             user_id\n",
       "6   permissions_user_role_object_type_object_id_us...          UNIQUE    object_id  deprecated_permissions_user_role             user_id\n",
       "7   permissions_user_role_object_type_object_id_us...          UNIQUE    object_id  deprecated_permissions_user_role         object_type\n",
       "8   permissions_user_role_object_type_object_id_us...          UNIQUE    object_id  deprecated_permissions_user_role           object_id\n",
       "9   permissions_user_role_object_type_object_id_us...          UNIQUE      user_id  deprecated_permissions_user_role           object_id\n",
       "10  permissions_user_role_object_type_object_id_us...          UNIQUE      user_id  deprecated_permissions_user_role         object_type\n",
       "11  permissions_user_role_object_type_object_id_us...          UNIQUE      user_id  deprecated_permissions_user_role             user_id"
      ]
     },
     "metadata": {},
     "output_type": "display_data"
    },
    {
     "data": {
      "text/markdown": [
       "\n",
       "#### Таблица: `deprecated_section`"
      ],
      "text/plain": [
       "<IPython.core.display.Markdown object>"
      ]
     },
     "metadata": {},
     "output_type": "display_data"
    },
    {
     "data": {
      "text/markdown": [
       "\n",
       "##### Схема:"
      ],
      "text/plain": [
       "<IPython.core.display.Markdown object>"
      ]
     },
     "metadata": {},
     "output_type": "display_data"
    },
    {
     "name": "stderr",
     "output_type": "stream",
     "text": [
      "/tmp/ipykernel_450849/82215137.py:49: UserWarning: pandas only supports SQLAlchemy connectable (engine/connection) or database string URI or sqlite3 DBAPI2 connection. Other DBAPI2 objects are not tested. Please consider using SQLAlchemy.\n",
      "  df = pd.read_sql_query(query, conn)\n"
     ]
    },
    {
     "data": {
      "text/html": [
       "<div>\n",
       "<style scoped>\n",
       "    .dataframe tbody tr th:only-of-type {\n",
       "        vertical-align: middle;\n",
       "    }\n",
       "\n",
       "    .dataframe tbody tr th {\n",
       "        vertical-align: top;\n",
       "    }\n",
       "\n",
       "    .dataframe thead th {\n",
       "        text-align: right;\n",
       "    }\n",
       "</style>\n",
       "<table border=\"1\" class=\"dataframe\">\n",
       "  <thead>\n",
       "    <tr style=\"text-align: right;\">\n",
       "      <th></th>\n",
       "      <th>column_name</th>\n",
       "      <th>data_type</th>\n",
       "      <th>is_nullable</th>\n",
       "      <th>column_default</th>\n",
       "    </tr>\n",
       "  </thead>\n",
       "  <tbody>\n",
       "    <tr>\n",
       "      <th>0</th>\n",
       "      <td>id</td>\n",
       "      <td>uuid</td>\n",
       "      <td>NO</td>\n",
       "      <td>None</td>\n",
       "    </tr>\n",
       "    <tr>\n",
       "      <th>1</th>\n",
       "      <td>parent_id</td>\n",
       "      <td>uuid</td>\n",
       "      <td>YES</td>\n",
       "      <td>None</td>\n",
       "    </tr>\n",
       "    <tr>\n",
       "      <th>2</th>\n",
       "      <td>name</td>\n",
       "      <td>text</td>\n",
       "      <td>YES</td>\n",
       "      <td>None</td>\n",
       "    </tr>\n",
       "    <tr>\n",
       "      <th>3</th>\n",
       "      <td>url</td>\n",
       "      <td>text</td>\n",
       "      <td>YES</td>\n",
       "      <td>None</td>\n",
       "    </tr>\n",
       "    <tr>\n",
       "      <th>4</th>\n",
       "      <td>created_at</td>\n",
       "      <td>timestamp without time zone</td>\n",
       "      <td>YES</td>\n",
       "      <td>None</td>\n",
       "    </tr>\n",
       "    <tr>\n",
       "      <th>5</th>\n",
       "      <td>created_by</td>\n",
       "      <td>uuid</td>\n",
       "      <td>YES</td>\n",
       "      <td>None</td>\n",
       "    </tr>\n",
       "    <tr>\n",
       "      <th>6</th>\n",
       "      <td>deleted_at</td>\n",
       "      <td>timestamp without time zone</td>\n",
       "      <td>YES</td>\n",
       "      <td>None</td>\n",
       "    </tr>\n",
       "    <tr>\n",
       "      <th>7</th>\n",
       "      <td>deleted_by</td>\n",
       "      <td>uuid</td>\n",
       "      <td>YES</td>\n",
       "      <td>None</td>\n",
       "    </tr>\n",
       "    <tr>\n",
       "      <th>8</th>\n",
       "      <td>extra_data</td>\n",
       "      <td>json</td>\n",
       "      <td>YES</td>\n",
       "      <td>None</td>\n",
       "    </tr>\n",
       "    <tr>\n",
       "      <th>9</th>\n",
       "      <td>path</td>\n",
       "      <td>text</td>\n",
       "      <td>YES</td>\n",
       "      <td>None</td>\n",
       "    </tr>\n",
       "    <tr>\n",
       "      <th>10</th>\n",
       "      <td>section_id_with_default_role</td>\n",
       "      <td>uuid</td>\n",
       "      <td>YES</td>\n",
       "      <td>None</td>\n",
       "    </tr>\n",
       "  </tbody>\n",
       "</table>\n",
       "</div>"
      ],
      "text/plain": [
       "                     column_name                    data_type is_nullable column_default\n",
       "0                             id                         uuid          NO           None\n",
       "1                      parent_id                         uuid         YES           None\n",
       "2                           name                         text         YES           None\n",
       "3                            url                         text         YES           None\n",
       "4                     created_at  timestamp without time zone         YES           None\n",
       "5                     created_by                         uuid         YES           None\n",
       "6                     deleted_at  timestamp without time zone         YES           None\n",
       "7                     deleted_by                         uuid         YES           None\n",
       "8                     extra_data                         json         YES           None\n",
       "9                           path                         text         YES           None\n",
       "10  section_id_with_default_role                         uuid         YES           None"
      ]
     },
     "metadata": {},
     "output_type": "display_data"
    },
    {
     "data": {
      "text/markdown": [
       "\n",
       "##### Ограничения (PK, FK):"
      ],
      "text/plain": [
       "<IPython.core.display.Markdown object>"
      ]
     },
     "metadata": {},
     "output_type": "display_data"
    },
    {
     "name": "stderr",
     "output_type": "stream",
     "text": [
      "/tmp/ipykernel_450849/82215137.py:79: UserWarning: pandas only supports SQLAlchemy connectable (engine/connection) or database string URI or sqlite3 DBAPI2 connection. Other DBAPI2 objects are not tested. Please consider using SQLAlchemy.\n",
      "  df = pd.read_sql_query(query, conn)\n"
     ]
    },
    {
     "data": {
      "text/html": [
       "<div>\n",
       "<style scoped>\n",
       "    .dataframe tbody tr th:only-of-type {\n",
       "        vertical-align: middle;\n",
       "    }\n",
       "\n",
       "    .dataframe tbody tr th {\n",
       "        vertical-align: top;\n",
       "    }\n",
       "\n",
       "    .dataframe thead th {\n",
       "        text-align: right;\n",
       "    }\n",
       "</style>\n",
       "<table border=\"1\" class=\"dataframe\">\n",
       "  <thead>\n",
       "    <tr style=\"text-align: right;\">\n",
       "      <th></th>\n",
       "      <th>constraint_name</th>\n",
       "      <th>constraint_type</th>\n",
       "      <th>column_name</th>\n",
       "      <th>foreign_table_name</th>\n",
       "      <th>foreign_column_name</th>\n",
       "    </tr>\n",
       "  </thead>\n",
       "  <tbody>\n",
       "    <tr>\n",
       "      <th>0</th>\n",
       "      <td>section_created_by_keycloak_id_fkey</td>\n",
       "      <td>FOREIGN KEY</td>\n",
       "      <td>created_by</td>\n",
       "      <td>users</td>\n",
       "      <td>keycloak_id</td>\n",
       "    </tr>\n",
       "    <tr>\n",
       "      <th>1</th>\n",
       "      <td>section_deleted_by_keycloak_id_fkey</td>\n",
       "      <td>FOREIGN KEY</td>\n",
       "      <td>deleted_by</td>\n",
       "      <td>users</td>\n",
       "      <td>keycloak_id</td>\n",
       "    </tr>\n",
       "    <tr>\n",
       "      <th>2</th>\n",
       "      <td>section_parent_id_fkey</td>\n",
       "      <td>FOREIGN KEY</td>\n",
       "      <td>parent_id</td>\n",
       "      <td>deprecated_section</td>\n",
       "      <td>id</td>\n",
       "    </tr>\n",
       "    <tr>\n",
       "      <th>3</th>\n",
       "      <td>section_section_id_with_default_role_fkey</td>\n",
       "      <td>FOREIGN KEY</td>\n",
       "      <td>section_id_with_default_role</td>\n",
       "      <td>deprecated_section</td>\n",
       "      <td>id</td>\n",
       "    </tr>\n",
       "    <tr>\n",
       "      <th>4</th>\n",
       "      <td>section_pkey</td>\n",
       "      <td>PRIMARY KEY</td>\n",
       "      <td>id</td>\n",
       "      <td>deprecated_section</td>\n",
       "      <td>id</td>\n",
       "    </tr>\n",
       "    <tr>\n",
       "      <th>5</th>\n",
       "      <td>section_id_key</td>\n",
       "      <td>UNIQUE</td>\n",
       "      <td>id</td>\n",
       "      <td>deprecated_section</td>\n",
       "      <td>id</td>\n",
       "    </tr>\n",
       "  </tbody>\n",
       "</table>\n",
       "</div>"
      ],
      "text/plain": [
       "                             constraint_name constraint_type                   column_name  foreign_table_name foreign_column_name\n",
       "0        section_created_by_keycloak_id_fkey     FOREIGN KEY                    created_by               users         keycloak_id\n",
       "1        section_deleted_by_keycloak_id_fkey     FOREIGN KEY                    deleted_by               users         keycloak_id\n",
       "2                     section_parent_id_fkey     FOREIGN KEY                     parent_id  deprecated_section                  id\n",
       "3  section_section_id_with_default_role_fkey     FOREIGN KEY  section_id_with_default_role  deprecated_section                  id\n",
       "4                               section_pkey     PRIMARY KEY                            id  deprecated_section                  id\n",
       "5                             section_id_key          UNIQUE                            id  deprecated_section                  id"
      ]
     },
     "metadata": {},
     "output_type": "display_data"
    },
    {
     "data": {
      "text/markdown": [
       "\n",
       "#### Таблица: `deprecated_viewedpagelog`"
      ],
      "text/plain": [
       "<IPython.core.display.Markdown object>"
      ]
     },
     "metadata": {},
     "output_type": "display_data"
    },
    {
     "data": {
      "text/markdown": [
       "\n",
       "##### Схема:"
      ],
      "text/plain": [
       "<IPython.core.display.Markdown object>"
      ]
     },
     "metadata": {},
     "output_type": "display_data"
    },
    {
     "name": "stderr",
     "output_type": "stream",
     "text": [
      "/tmp/ipykernel_450849/82215137.py:49: UserWarning: pandas only supports SQLAlchemy connectable (engine/connection) or database string URI or sqlite3 DBAPI2 connection. Other DBAPI2 objects are not tested. Please consider using SQLAlchemy.\n",
      "  df = pd.read_sql_query(query, conn)\n"
     ]
    },
    {
     "data": {
      "text/html": [
       "<div>\n",
       "<style scoped>\n",
       "    .dataframe tbody tr th:only-of-type {\n",
       "        vertical-align: middle;\n",
       "    }\n",
       "\n",
       "    .dataframe tbody tr th {\n",
       "        vertical-align: top;\n",
       "    }\n",
       "\n",
       "    .dataframe thead th {\n",
       "        text-align: right;\n",
       "    }\n",
       "</style>\n",
       "<table border=\"1\" class=\"dataframe\">\n",
       "  <thead>\n",
       "    <tr style=\"text-align: right;\">\n",
       "      <th></th>\n",
       "      <th>column_name</th>\n",
       "      <th>data_type</th>\n",
       "      <th>is_nullable</th>\n",
       "      <th>column_default</th>\n",
       "    </tr>\n",
       "  </thead>\n",
       "  <tbody>\n",
       "    <tr>\n",
       "      <th>0</th>\n",
       "      <td>id</td>\n",
       "      <td>bigint</td>\n",
       "      <td>NO</td>\n",
       "      <td>nextval('viewedpagelog_id_seq'::regclass)</td>\n",
       "    </tr>\n",
       "    <tr>\n",
       "      <th>1</th>\n",
       "      <td>page_id</td>\n",
       "      <td>uuid</td>\n",
       "      <td>NO</td>\n",
       "      <td>None</td>\n",
       "    </tr>\n",
       "    <tr>\n",
       "      <th>2</th>\n",
       "      <td>user_id</td>\n",
       "      <td>uuid</td>\n",
       "      <td>NO</td>\n",
       "      <td>None</td>\n",
       "    </tr>\n",
       "    <tr>\n",
       "      <th>3</th>\n",
       "      <td>watched_at</td>\n",
       "      <td>timestamp with time zone</td>\n",
       "      <td>YES</td>\n",
       "      <td>None</td>\n",
       "    </tr>\n",
       "    <tr>\n",
       "      <th>4</th>\n",
       "      <td>created_at</td>\n",
       "      <td>timestamp with time zone</td>\n",
       "      <td>YES</td>\n",
       "      <td>None</td>\n",
       "    </tr>\n",
       "  </tbody>\n",
       "</table>\n",
       "</div>"
      ],
      "text/plain": [
       "  column_name                 data_type is_nullable                             column_default\n",
       "0          id                    bigint          NO  nextval('viewedpagelog_id_seq'::regclass)\n",
       "1     page_id                      uuid          NO                                       None\n",
       "2     user_id                      uuid          NO                                       None\n",
       "3  watched_at  timestamp with time zone         YES                                       None\n",
       "4  created_at  timestamp with time zone         YES                                       None"
      ]
     },
     "metadata": {},
     "output_type": "display_data"
    },
    {
     "data": {
      "text/markdown": [
       "\n",
       "##### Ограничения (PK, FK):"
      ],
      "text/plain": [
       "<IPython.core.display.Markdown object>"
      ]
     },
     "metadata": {},
     "output_type": "display_data"
    },
    {
     "name": "stderr",
     "output_type": "stream",
     "text": [
      "/tmp/ipykernel_450849/82215137.py:79: UserWarning: pandas only supports SQLAlchemy connectable (engine/connection) or database string URI or sqlite3 DBAPI2 connection. Other DBAPI2 objects are not tested. Please consider using SQLAlchemy.\n",
      "  df = pd.read_sql_query(query, conn)\n"
     ]
    },
    {
     "data": {
      "text/html": [
       "<div>\n",
       "<style scoped>\n",
       "    .dataframe tbody tr th:only-of-type {\n",
       "        vertical-align: middle;\n",
       "    }\n",
       "\n",
       "    .dataframe tbody tr th {\n",
       "        vertical-align: top;\n",
       "    }\n",
       "\n",
       "    .dataframe thead th {\n",
       "        text-align: right;\n",
       "    }\n",
       "</style>\n",
       "<table border=\"1\" class=\"dataframe\">\n",
       "  <thead>\n",
       "    <tr style=\"text-align: right;\">\n",
       "      <th></th>\n",
       "      <th>constraint_name</th>\n",
       "      <th>constraint_type</th>\n",
       "      <th>column_name</th>\n",
       "      <th>foreign_table_name</th>\n",
       "      <th>foreign_column_name</th>\n",
       "    </tr>\n",
       "  </thead>\n",
       "  <tbody>\n",
       "    <tr>\n",
       "      <th>0</th>\n",
       "      <td>viewedpagelog_page_id_fkey</td>\n",
       "      <td>FOREIGN KEY</td>\n",
       "      <td>page_id</td>\n",
       "      <td>deprecated_page</td>\n",
       "      <td>id</td>\n",
       "    </tr>\n",
       "    <tr>\n",
       "      <th>1</th>\n",
       "      <td>viewedpagelog_user_id_fkey</td>\n",
       "      <td>FOREIGN KEY</td>\n",
       "      <td>user_id</td>\n",
       "      <td>users</td>\n",
       "      <td>keycloak_id</td>\n",
       "    </tr>\n",
       "    <tr>\n",
       "      <th>2</th>\n",
       "      <td>viewedpagelog_pkey</td>\n",
       "      <td>PRIMARY KEY</td>\n",
       "      <td>id</td>\n",
       "      <td>deprecated_viewedpagelog</td>\n",
       "      <td>id</td>\n",
       "    </tr>\n",
       "    <tr>\n",
       "      <th>3</th>\n",
       "      <td>viewedpagelog_page_id_user_id_key</td>\n",
       "      <td>UNIQUE</td>\n",
       "      <td>page_id</td>\n",
       "      <td>deprecated_viewedpagelog</td>\n",
       "      <td>user_id</td>\n",
       "    </tr>\n",
       "    <tr>\n",
       "      <th>4</th>\n",
       "      <td>viewedpagelog_page_id_user_id_key</td>\n",
       "      <td>UNIQUE</td>\n",
       "      <td>page_id</td>\n",
       "      <td>deprecated_viewedpagelog</td>\n",
       "      <td>page_id</td>\n",
       "    </tr>\n",
       "    <tr>\n",
       "      <th>5</th>\n",
       "      <td>viewedpagelog_page_id_user_id_key</td>\n",
       "      <td>UNIQUE</td>\n",
       "      <td>user_id</td>\n",
       "      <td>deprecated_viewedpagelog</td>\n",
       "      <td>user_id</td>\n",
       "    </tr>\n",
       "    <tr>\n",
       "      <th>6</th>\n",
       "      <td>viewedpagelog_page_id_user_id_key</td>\n",
       "      <td>UNIQUE</td>\n",
       "      <td>user_id</td>\n",
       "      <td>deprecated_viewedpagelog</td>\n",
       "      <td>page_id</td>\n",
       "    </tr>\n",
       "  </tbody>\n",
       "</table>\n",
       "</div>"
      ],
      "text/plain": [
       "                     constraint_name constraint_type column_name        foreign_table_name foreign_column_name\n",
       "0         viewedpagelog_page_id_fkey     FOREIGN KEY     page_id           deprecated_page                  id\n",
       "1         viewedpagelog_user_id_fkey     FOREIGN KEY     user_id                     users         keycloak_id\n",
       "2                 viewedpagelog_pkey     PRIMARY KEY          id  deprecated_viewedpagelog                  id\n",
       "3  viewedpagelog_page_id_user_id_key          UNIQUE     page_id  deprecated_viewedpagelog             user_id\n",
       "4  viewedpagelog_page_id_user_id_key          UNIQUE     page_id  deprecated_viewedpagelog             page_id\n",
       "5  viewedpagelog_page_id_user_id_key          UNIQUE     user_id  deprecated_viewedpagelog             user_id\n",
       "6  viewedpagelog_page_id_user_id_key          UNIQUE     user_id  deprecated_viewedpagelog             page_id"
      ]
     },
     "metadata": {},
     "output_type": "display_data"
    },
    {
     "data": {
      "text/markdown": [
       "\n",
       "#### Таблица: `feedback_feedback`"
      ],
      "text/plain": [
       "<IPython.core.display.Markdown object>"
      ]
     },
     "metadata": {},
     "output_type": "display_data"
    },
    {
     "data": {
      "text/markdown": [
       "\n",
       "##### Схема:"
      ],
      "text/plain": [
       "<IPython.core.display.Markdown object>"
      ]
     },
     "metadata": {},
     "output_type": "display_data"
    },
    {
     "name": "stderr",
     "output_type": "stream",
     "text": [
      "/tmp/ipykernel_450849/82215137.py:49: UserWarning: pandas only supports SQLAlchemy connectable (engine/connection) or database string URI or sqlite3 DBAPI2 connection. Other DBAPI2 objects are not tested. Please consider using SQLAlchemy.\n",
      "  df = pd.read_sql_query(query, conn)\n"
     ]
    },
    {
     "data": {
      "text/html": [
       "<div>\n",
       "<style scoped>\n",
       "    .dataframe tbody tr th:only-of-type {\n",
       "        vertical-align: middle;\n",
       "    }\n",
       "\n",
       "    .dataframe tbody tr th {\n",
       "        vertical-align: top;\n",
       "    }\n",
       "\n",
       "    .dataframe thead th {\n",
       "        text-align: right;\n",
       "    }\n",
       "</style>\n",
       "<table border=\"1\" class=\"dataframe\">\n",
       "  <thead>\n",
       "    <tr style=\"text-align: right;\">\n",
       "      <th></th>\n",
       "      <th>column_name</th>\n",
       "      <th>data_type</th>\n",
       "      <th>is_nullable</th>\n",
       "      <th>column_default</th>\n",
       "    </tr>\n",
       "  </thead>\n",
       "  <tbody>\n",
       "    <tr>\n",
       "      <th>0</th>\n",
       "      <td>id</td>\n",
       "      <td>uuid</td>\n",
       "      <td>NO</td>\n",
       "      <td>None</td>\n",
       "    </tr>\n",
       "    <tr>\n",
       "      <th>1</th>\n",
       "      <td>page_id</td>\n",
       "      <td>uuid</td>\n",
       "      <td>NO</td>\n",
       "      <td>None</td>\n",
       "    </tr>\n",
       "    <tr>\n",
       "      <th>2</th>\n",
       "      <td>created_by_id</td>\n",
       "      <td>uuid</td>\n",
       "      <td>NO</td>\n",
       "      <td>None</td>\n",
       "    </tr>\n",
       "    <tr>\n",
       "      <th>3</th>\n",
       "      <td>body</td>\n",
       "      <td>json</td>\n",
       "      <td>NO</td>\n",
       "      <td>None</td>\n",
       "    </tr>\n",
       "    <tr>\n",
       "      <th>4</th>\n",
       "      <td>created_at</td>\n",
       "      <td>timestamp with time zone</td>\n",
       "      <td>NO</td>\n",
       "      <td>None</td>\n",
       "    </tr>\n",
       "    <tr>\n",
       "      <th>5</th>\n",
       "      <td>updated_at</td>\n",
       "      <td>timestamp with time zone</td>\n",
       "      <td>NO</td>\n",
       "      <td>None</td>\n",
       "    </tr>\n",
       "  </tbody>\n",
       "</table>\n",
       "</div>"
      ],
      "text/plain": [
       "     column_name                 data_type is_nullable column_default\n",
       "0             id                      uuid          NO           None\n",
       "1        page_id                      uuid          NO           None\n",
       "2  created_by_id                      uuid          NO           None\n",
       "3           body                      json          NO           None\n",
       "4     created_at  timestamp with time zone          NO           None\n",
       "5     updated_at  timestamp with time zone          NO           None"
      ]
     },
     "metadata": {},
     "output_type": "display_data"
    },
    {
     "data": {
      "text/markdown": [
       "\n",
       "##### Ограничения (PK, FK):"
      ],
      "text/plain": [
       "<IPython.core.display.Markdown object>"
      ]
     },
     "metadata": {},
     "output_type": "display_data"
    },
    {
     "name": "stderr",
     "output_type": "stream",
     "text": [
      "/tmp/ipykernel_450849/82215137.py:79: UserWarning: pandas only supports SQLAlchemy connectable (engine/connection) or database string URI or sqlite3 DBAPI2 connection. Other DBAPI2 objects are not tested. Please consider using SQLAlchemy.\n",
      "  df = pd.read_sql_query(query, conn)\n"
     ]
    },
    {
     "data": {
      "text/html": [
       "<div>\n",
       "<style scoped>\n",
       "    .dataframe tbody tr th:only-of-type {\n",
       "        vertical-align: middle;\n",
       "    }\n",
       "\n",
       "    .dataframe tbody tr th {\n",
       "        vertical-align: top;\n",
       "    }\n",
       "\n",
       "    .dataframe thead th {\n",
       "        text-align: right;\n",
       "    }\n",
       "</style>\n",
       "<table border=\"1\" class=\"dataframe\">\n",
       "  <thead>\n",
       "    <tr style=\"text-align: right;\">\n",
       "      <th></th>\n",
       "      <th>constraint_name</th>\n",
       "      <th>constraint_type</th>\n",
       "      <th>column_name</th>\n",
       "      <th>foreign_table_name</th>\n",
       "      <th>foreign_column_name</th>\n",
       "    </tr>\n",
       "  </thead>\n",
       "  <tbody>\n",
       "    <tr>\n",
       "      <th>0</th>\n",
       "      <td>feedback_feedback_created_by_id_fkey</td>\n",
       "      <td>FOREIGN KEY</td>\n",
       "      <td>created_by_id</td>\n",
       "      <td>users</td>\n",
       "      <td>keycloak_id</td>\n",
       "    </tr>\n",
       "    <tr>\n",
       "      <th>1</th>\n",
       "      <td>feedback_feedback_page_id_fkey</td>\n",
       "      <td>FOREIGN KEY</td>\n",
       "      <td>page_id</td>\n",
       "      <td>pages_page</td>\n",
       "      <td>id</td>\n",
       "    </tr>\n",
       "    <tr>\n",
       "      <th>2</th>\n",
       "      <td>feedback_feedback_pkey</td>\n",
       "      <td>PRIMARY KEY</td>\n",
       "      <td>id</td>\n",
       "      <td>feedback_feedback</td>\n",
       "      <td>id</td>\n",
       "    </tr>\n",
       "  </tbody>\n",
       "</table>\n",
       "</div>"
      ],
      "text/plain": [
       "                        constraint_name constraint_type    column_name foreign_table_name foreign_column_name\n",
       "0  feedback_feedback_created_by_id_fkey     FOREIGN KEY  created_by_id              users         keycloak_id\n",
       "1        feedback_feedback_page_id_fkey     FOREIGN KEY        page_id         pages_page                  id\n",
       "2                feedback_feedback_pkey     PRIMARY KEY             id  feedback_feedback                  id"
      ]
     },
     "metadata": {},
     "output_type": "display_data"
    },
    {
     "data": {
      "text/markdown": [
       "\n",
       "#### Таблица: `feedback_feedbackstatus`"
      ],
      "text/plain": [
       "<IPython.core.display.Markdown object>"
      ]
     },
     "metadata": {},
     "output_type": "display_data"
    },
    {
     "data": {
      "text/markdown": [
       "\n",
       "##### Схема:"
      ],
      "text/plain": [
       "<IPython.core.display.Markdown object>"
      ]
     },
     "metadata": {},
     "output_type": "display_data"
    },
    {
     "name": "stderr",
     "output_type": "stream",
     "text": [
      "/tmp/ipykernel_450849/82215137.py:49: UserWarning: pandas only supports SQLAlchemy connectable (engine/connection) or database string URI or sqlite3 DBAPI2 connection. Other DBAPI2 objects are not tested. Please consider using SQLAlchemy.\n",
      "  df = pd.read_sql_query(query, conn)\n"
     ]
    },
    {
     "data": {
      "text/html": [
       "<div>\n",
       "<style scoped>\n",
       "    .dataframe tbody tr th:only-of-type {\n",
       "        vertical-align: middle;\n",
       "    }\n",
       "\n",
       "    .dataframe tbody tr th {\n",
       "        vertical-align: top;\n",
       "    }\n",
       "\n",
       "    .dataframe thead th {\n",
       "        text-align: right;\n",
       "    }\n",
       "</style>\n",
       "<table border=\"1\" class=\"dataframe\">\n",
       "  <thead>\n",
       "    <tr style=\"text-align: right;\">\n",
       "      <th></th>\n",
       "      <th>column_name</th>\n",
       "      <th>data_type</th>\n",
       "      <th>is_nullable</th>\n",
       "      <th>column_default</th>\n",
       "    </tr>\n",
       "  </thead>\n",
       "  <tbody>\n",
       "    <tr>\n",
       "      <th>0</th>\n",
       "      <td>id</td>\n",
       "      <td>integer</td>\n",
       "      <td>NO</td>\n",
       "      <td>nextval('feedback_feedbackstatus_id_seq'::regc...</td>\n",
       "    </tr>\n",
       "    <tr>\n",
       "      <th>1</th>\n",
       "      <td>feedback_id</td>\n",
       "      <td>uuid</td>\n",
       "      <td>NO</td>\n",
       "      <td>None</td>\n",
       "    </tr>\n",
       "    <tr>\n",
       "      <th>2</th>\n",
       "      <td>created_by_id</td>\n",
       "      <td>uuid</td>\n",
       "      <td>NO</td>\n",
       "      <td>None</td>\n",
       "    </tr>\n",
       "    <tr>\n",
       "      <th>3</th>\n",
       "      <td>is_active</td>\n",
       "      <td>boolean</td>\n",
       "      <td>NO</td>\n",
       "      <td>None</td>\n",
       "    </tr>\n",
       "    <tr>\n",
       "      <th>4</th>\n",
       "      <td>status</td>\n",
       "      <td>character varying</td>\n",
       "      <td>NO</td>\n",
       "      <td>None</td>\n",
       "    </tr>\n",
       "    <tr>\n",
       "      <th>5</th>\n",
       "      <td>created_at</td>\n",
       "      <td>timestamp with time zone</td>\n",
       "      <td>NO</td>\n",
       "      <td>None</td>\n",
       "    </tr>\n",
       "    <tr>\n",
       "      <th>6</th>\n",
       "      <td>updated_at</td>\n",
       "      <td>timestamp with time zone</td>\n",
       "      <td>NO</td>\n",
       "      <td>None</td>\n",
       "    </tr>\n",
       "  </tbody>\n",
       "</table>\n",
       "</div>"
      ],
      "text/plain": [
       "     column_name                 data_type is_nullable                                     column_default\n",
       "0             id                   integer          NO  nextval('feedback_feedbackstatus_id_seq'::regc...\n",
       "1    feedback_id                      uuid          NO                                               None\n",
       "2  created_by_id                      uuid          NO                                               None\n",
       "3      is_active                   boolean          NO                                               None\n",
       "4         status         character varying          NO                                               None\n",
       "5     created_at  timestamp with time zone          NO                                               None\n",
       "6     updated_at  timestamp with time zone          NO                                               None"
      ]
     },
     "metadata": {},
     "output_type": "display_data"
    },
    {
     "data": {
      "text/markdown": [
       "\n",
       "##### Ограничения (PK, FK):"
      ],
      "text/plain": [
       "<IPython.core.display.Markdown object>"
      ]
     },
     "metadata": {},
     "output_type": "display_data"
    },
    {
     "name": "stderr",
     "output_type": "stream",
     "text": [
      "/tmp/ipykernel_450849/82215137.py:79: UserWarning: pandas only supports SQLAlchemy connectable (engine/connection) or database string URI or sqlite3 DBAPI2 connection. Other DBAPI2 objects are not tested. Please consider using SQLAlchemy.\n",
      "  df = pd.read_sql_query(query, conn)\n"
     ]
    },
    {
     "data": {
      "text/html": [
       "<div>\n",
       "<style scoped>\n",
       "    .dataframe tbody tr th:only-of-type {\n",
       "        vertical-align: middle;\n",
       "    }\n",
       "\n",
       "    .dataframe tbody tr th {\n",
       "        vertical-align: top;\n",
       "    }\n",
       "\n",
       "    .dataframe thead th {\n",
       "        text-align: right;\n",
       "    }\n",
       "</style>\n",
       "<table border=\"1\" class=\"dataframe\">\n",
       "  <thead>\n",
       "    <tr style=\"text-align: right;\">\n",
       "      <th></th>\n",
       "      <th>constraint_name</th>\n",
       "      <th>constraint_type</th>\n",
       "      <th>column_name</th>\n",
       "      <th>foreign_table_name</th>\n",
       "      <th>foreign_column_name</th>\n",
       "    </tr>\n",
       "  </thead>\n",
       "  <tbody>\n",
       "    <tr>\n",
       "      <th>0</th>\n",
       "      <td>feedback_feedbackstatus_created_by_id_fkey</td>\n",
       "      <td>FOREIGN KEY</td>\n",
       "      <td>created_by_id</td>\n",
       "      <td>users</td>\n",
       "      <td>keycloak_id</td>\n",
       "    </tr>\n",
       "    <tr>\n",
       "      <th>1</th>\n",
       "      <td>feedback_feedbackstatus_feedback_id_fkey</td>\n",
       "      <td>FOREIGN KEY</td>\n",
       "      <td>feedback_id</td>\n",
       "      <td>feedback_feedback</td>\n",
       "      <td>id</td>\n",
       "    </tr>\n",
       "    <tr>\n",
       "      <th>2</th>\n",
       "      <td>feedback_feedbackstatus_pkey</td>\n",
       "      <td>PRIMARY KEY</td>\n",
       "      <td>id</td>\n",
       "      <td>feedback_feedbackstatus</td>\n",
       "      <td>id</td>\n",
       "    </tr>\n",
       "  </tbody>\n",
       "</table>\n",
       "</div>"
      ],
      "text/plain": [
       "                              constraint_name constraint_type    column_name       foreign_table_name foreign_column_name\n",
       "0  feedback_feedbackstatus_created_by_id_fkey     FOREIGN KEY  created_by_id                    users         keycloak_id\n",
       "1    feedback_feedbackstatus_feedback_id_fkey     FOREIGN KEY    feedback_id        feedback_feedback                  id\n",
       "2                feedback_feedbackstatus_pkey     PRIMARY KEY             id  feedback_feedbackstatus                  id"
      ]
     },
     "metadata": {},
     "output_type": "display_data"
    },
    {
     "data": {
      "text/markdown": [
       "\n",
       "#### Таблица: `pages_favorite_page`"
      ],
      "text/plain": [
       "<IPython.core.display.Markdown object>"
      ]
     },
     "metadata": {},
     "output_type": "display_data"
    },
    {
     "data": {
      "text/markdown": [
       "\n",
       "##### Схема:"
      ],
      "text/plain": [
       "<IPython.core.display.Markdown object>"
      ]
     },
     "metadata": {},
     "output_type": "display_data"
    },
    {
     "name": "stderr",
     "output_type": "stream",
     "text": [
      "/tmp/ipykernel_450849/82215137.py:49: UserWarning: pandas only supports SQLAlchemy connectable (engine/connection) or database string URI or sqlite3 DBAPI2 connection. Other DBAPI2 objects are not tested. Please consider using SQLAlchemy.\n",
      "  df = pd.read_sql_query(query, conn)\n"
     ]
    },
    {
     "data": {
      "text/html": [
       "<div>\n",
       "<style scoped>\n",
       "    .dataframe tbody tr th:only-of-type {\n",
       "        vertical-align: middle;\n",
       "    }\n",
       "\n",
       "    .dataframe tbody tr th {\n",
       "        vertical-align: top;\n",
       "    }\n",
       "\n",
       "    .dataframe thead th {\n",
       "        text-align: right;\n",
       "    }\n",
       "</style>\n",
       "<table border=\"1\" class=\"dataframe\">\n",
       "  <thead>\n",
       "    <tr style=\"text-align: right;\">\n",
       "      <th></th>\n",
       "      <th>column_name</th>\n",
       "      <th>data_type</th>\n",
       "      <th>is_nullable</th>\n",
       "      <th>column_default</th>\n",
       "    </tr>\n",
       "  </thead>\n",
       "  <tbody>\n",
       "    <tr>\n",
       "      <th>0</th>\n",
       "      <td>id</td>\n",
       "      <td>uuid</td>\n",
       "      <td>NO</td>\n",
       "      <td>None</td>\n",
       "    </tr>\n",
       "    <tr>\n",
       "      <th>1</th>\n",
       "      <td>page_id</td>\n",
       "      <td>uuid</td>\n",
       "      <td>NO</td>\n",
       "      <td>None</td>\n",
       "    </tr>\n",
       "    <tr>\n",
       "      <th>2</th>\n",
       "      <td>user_id</td>\n",
       "      <td>uuid</td>\n",
       "      <td>NO</td>\n",
       "      <td>None</td>\n",
       "    </tr>\n",
       "    <tr>\n",
       "      <th>3</th>\n",
       "      <td>created_at</td>\n",
       "      <td>timestamp without time zone</td>\n",
       "      <td>NO</td>\n",
       "      <td>None</td>\n",
       "    </tr>\n",
       "  </tbody>\n",
       "</table>\n",
       "</div>"
      ],
      "text/plain": [
       "  column_name                    data_type is_nullable column_default\n",
       "0          id                         uuid          NO           None\n",
       "1     page_id                         uuid          NO           None\n",
       "2     user_id                         uuid          NO           None\n",
       "3  created_at  timestamp without time zone          NO           None"
      ]
     },
     "metadata": {},
     "output_type": "display_data"
    },
    {
     "data": {
      "text/markdown": [
       "\n",
       "##### Ограничения (PK, FK):"
      ],
      "text/plain": [
       "<IPython.core.display.Markdown object>"
      ]
     },
     "metadata": {},
     "output_type": "display_data"
    },
    {
     "name": "stderr",
     "output_type": "stream",
     "text": [
      "/tmp/ipykernel_450849/82215137.py:79: UserWarning: pandas only supports SQLAlchemy connectable (engine/connection) or database string URI or sqlite3 DBAPI2 connection. Other DBAPI2 objects are not tested. Please consider using SQLAlchemy.\n",
      "  df = pd.read_sql_query(query, conn)\n"
     ]
    },
    {
     "data": {
      "text/html": [
       "<div>\n",
       "<style scoped>\n",
       "    .dataframe tbody tr th:only-of-type {\n",
       "        vertical-align: middle;\n",
       "    }\n",
       "\n",
       "    .dataframe tbody tr th {\n",
       "        vertical-align: top;\n",
       "    }\n",
       "\n",
       "    .dataframe thead th {\n",
       "        text-align: right;\n",
       "    }\n",
       "</style>\n",
       "<table border=\"1\" class=\"dataframe\">\n",
       "  <thead>\n",
       "    <tr style=\"text-align: right;\">\n",
       "      <th></th>\n",
       "      <th>constraint_name</th>\n",
       "      <th>constraint_type</th>\n",
       "      <th>column_name</th>\n",
       "      <th>foreign_table_name</th>\n",
       "      <th>foreign_column_name</th>\n",
       "    </tr>\n",
       "  </thead>\n",
       "  <tbody>\n",
       "    <tr>\n",
       "      <th>0</th>\n",
       "      <td>pages_favourite_page_page_id_fkey</td>\n",
       "      <td>FOREIGN KEY</td>\n",
       "      <td>page_id</td>\n",
       "      <td>pages_page</td>\n",
       "      <td>id</td>\n",
       "    </tr>\n",
       "    <tr>\n",
       "      <th>1</th>\n",
       "      <td>pages_favourite_page_user_id_fkey</td>\n",
       "      <td>FOREIGN KEY</td>\n",
       "      <td>user_id</td>\n",
       "      <td>users</td>\n",
       "      <td>keycloak_id</td>\n",
       "    </tr>\n",
       "    <tr>\n",
       "      <th>2</th>\n",
       "      <td>pages_favourite_page_pkey</td>\n",
       "      <td>PRIMARY KEY</td>\n",
       "      <td>id</td>\n",
       "      <td>pages_favorite_page</td>\n",
       "      <td>id</td>\n",
       "    </tr>\n",
       "    <tr>\n",
       "      <th>3</th>\n",
       "      <td>pages_favorite_page_id_user_id_unique</td>\n",
       "      <td>UNIQUE</td>\n",
       "      <td>page_id</td>\n",
       "      <td>pages_favorite_page</td>\n",
       "      <td>user_id</td>\n",
       "    </tr>\n",
       "    <tr>\n",
       "      <th>4</th>\n",
       "      <td>pages_favorite_page_id_user_id_unique</td>\n",
       "      <td>UNIQUE</td>\n",
       "      <td>page_id</td>\n",
       "      <td>pages_favorite_page</td>\n",
       "      <td>page_id</td>\n",
       "    </tr>\n",
       "    <tr>\n",
       "      <th>5</th>\n",
       "      <td>pages_favorite_page_id_user_id_unique</td>\n",
       "      <td>UNIQUE</td>\n",
       "      <td>user_id</td>\n",
       "      <td>pages_favorite_page</td>\n",
       "      <td>user_id</td>\n",
       "    </tr>\n",
       "    <tr>\n",
       "      <th>6</th>\n",
       "      <td>pages_favorite_page_id_user_id_unique</td>\n",
       "      <td>UNIQUE</td>\n",
       "      <td>user_id</td>\n",
       "      <td>pages_favorite_page</td>\n",
       "      <td>page_id</td>\n",
       "    </tr>\n",
       "  </tbody>\n",
       "</table>\n",
       "</div>"
      ],
      "text/plain": [
       "                         constraint_name constraint_type column_name   foreign_table_name foreign_column_name\n",
       "0      pages_favourite_page_page_id_fkey     FOREIGN KEY     page_id           pages_page                  id\n",
       "1      pages_favourite_page_user_id_fkey     FOREIGN KEY     user_id                users         keycloak_id\n",
       "2              pages_favourite_page_pkey     PRIMARY KEY          id  pages_favorite_page                  id\n",
       "3  pages_favorite_page_id_user_id_unique          UNIQUE     page_id  pages_favorite_page             user_id\n",
       "4  pages_favorite_page_id_user_id_unique          UNIQUE     page_id  pages_favorite_page             page_id\n",
       "5  pages_favorite_page_id_user_id_unique          UNIQUE     user_id  pages_favorite_page             user_id\n",
       "6  pages_favorite_page_id_user_id_unique          UNIQUE     user_id  pages_favorite_page             page_id"
      ]
     },
     "metadata": {},
     "output_type": "display_data"
    },
    {
     "data": {
      "text/markdown": [
       "\n",
       "#### Таблица: `pages_page`"
      ],
      "text/plain": [
       "<IPython.core.display.Markdown object>"
      ]
     },
     "metadata": {},
     "output_type": "display_data"
    },
    {
     "data": {
      "text/markdown": [
       "\n",
       "##### Схема:"
      ],
      "text/plain": [
       "<IPython.core.display.Markdown object>"
      ]
     },
     "metadata": {},
     "output_type": "display_data"
    },
    {
     "name": "stderr",
     "output_type": "stream",
     "text": [
      "/tmp/ipykernel_450849/82215137.py:49: UserWarning: pandas only supports SQLAlchemy connectable (engine/connection) or database string URI or sqlite3 DBAPI2 connection. Other DBAPI2 objects are not tested. Please consider using SQLAlchemy.\n",
      "  df = pd.read_sql_query(query, conn)\n"
     ]
    },
    {
     "data": {
      "text/html": [
       "<div>\n",
       "<style scoped>\n",
       "    .dataframe tbody tr th:only-of-type {\n",
       "        vertical-align: middle;\n",
       "    }\n",
       "\n",
       "    .dataframe tbody tr th {\n",
       "        vertical-align: top;\n",
       "    }\n",
       "\n",
       "    .dataframe thead th {\n",
       "        text-align: right;\n",
       "    }\n",
       "</style>\n",
       "<table border=\"1\" class=\"dataframe\">\n",
       "  <thead>\n",
       "    <tr style=\"text-align: right;\">\n",
       "      <th></th>\n",
       "      <th>column_name</th>\n",
       "      <th>data_type</th>\n",
       "      <th>is_nullable</th>\n",
       "      <th>column_default</th>\n",
       "    </tr>\n",
       "  </thead>\n",
       "  <tbody>\n",
       "    <tr>\n",
       "      <th>0</th>\n",
       "      <td>ts_vector_name</td>\n",
       "      <td>tsvector</td>\n",
       "      <td>NO</td>\n",
       "      <td>None</td>\n",
       "    </tr>\n",
       "    <tr>\n",
       "      <th>1</th>\n",
       "      <td>ts_vector_body</td>\n",
       "      <td>tsvector</td>\n",
       "      <td>NO</td>\n",
       "      <td>None</td>\n",
       "    </tr>\n",
       "    <tr>\n",
       "      <th>2</th>\n",
       "      <td>id</td>\n",
       "      <td>uuid</td>\n",
       "      <td>NO</td>\n",
       "      <td>None</td>\n",
       "    </tr>\n",
       "    <tr>\n",
       "      <th>3</th>\n",
       "      <td>name</td>\n",
       "      <td>text</td>\n",
       "      <td>NO</td>\n",
       "      <td>None</td>\n",
       "    </tr>\n",
       "    <tr>\n",
       "      <th>4</th>\n",
       "      <td>slug</td>\n",
       "      <td>text</td>\n",
       "      <td>NO</td>\n",
       "      <td>None</td>\n",
       "    </tr>\n",
       "    <tr>\n",
       "      <th>5</th>\n",
       "      <td>body</td>\n",
       "      <td>json</td>\n",
       "      <td>YES</td>\n",
       "      <td>None</td>\n",
       "    </tr>\n",
       "    <tr>\n",
       "      <th>6</th>\n",
       "      <td>views_count</td>\n",
       "      <td>integer</td>\n",
       "      <td>NO</td>\n",
       "      <td>None</td>\n",
       "    </tr>\n",
       "    <tr>\n",
       "      <th>7</th>\n",
       "      <td>status</td>\n",
       "      <td>character varying</td>\n",
       "      <td>YES</td>\n",
       "      <td>None</td>\n",
       "    </tr>\n",
       "    <tr>\n",
       "      <th>8</th>\n",
       "      <td>is_main</td>\n",
       "      <td>boolean</td>\n",
       "      <td>NO</td>\n",
       "      <td>None</td>\n",
       "    </tr>\n",
       "    <tr>\n",
       "      <th>9</th>\n",
       "      <td>settings</td>\n",
       "      <td>jsonb</td>\n",
       "      <td>NO</td>\n",
       "      <td>'{\"is_reacted\": true, \"is_comments\": true, \"is...</td>\n",
       "    </tr>\n",
       "    <tr>\n",
       "      <th>10</th>\n",
       "      <td>created_at</td>\n",
       "      <td>timestamp with time zone</td>\n",
       "      <td>NO</td>\n",
       "      <td>None</td>\n",
       "    </tr>\n",
       "    <tr>\n",
       "      <th>11</th>\n",
       "      <td>created_by_id</td>\n",
       "      <td>uuid</td>\n",
       "      <td>YES</td>\n",
       "      <td>None</td>\n",
       "    </tr>\n",
       "    <tr>\n",
       "      <th>12</th>\n",
       "      <td>updated_at</td>\n",
       "      <td>timestamp with time zone</td>\n",
       "      <td>YES</td>\n",
       "      <td>None</td>\n",
       "    </tr>\n",
       "    <tr>\n",
       "      <th>13</th>\n",
       "      <td>updated_by_id</td>\n",
       "      <td>uuid</td>\n",
       "      <td>YES</td>\n",
       "      <td>None</td>\n",
       "    </tr>\n",
       "    <tr>\n",
       "      <th>14</th>\n",
       "      <td>parent_id</td>\n",
       "      <td>uuid</td>\n",
       "      <td>YES</td>\n",
       "      <td>None</td>\n",
       "    </tr>\n",
       "  </tbody>\n",
       "</table>\n",
       "</div>"
      ],
      "text/plain": [
       "       column_name                 data_type is_nullable                                     column_default\n",
       "0   ts_vector_name                  tsvector          NO                                               None\n",
       "1   ts_vector_body                  tsvector          NO                                               None\n",
       "2               id                      uuid          NO                                               None\n",
       "3             name                      text          NO                                               None\n",
       "4             slug                      text          NO                                               None\n",
       "5             body                      json         YES                                               None\n",
       "6      views_count                   integer          NO                                               None\n",
       "7           status         character varying         YES                                               None\n",
       "8          is_main                   boolean          NO                                               None\n",
       "9         settings                     jsonb          NO  '{\"is_reacted\": true, \"is_comments\": true, \"is...\n",
       "10      created_at  timestamp with time zone          NO                                               None\n",
       "11   created_by_id                      uuid         YES                                               None\n",
       "12      updated_at  timestamp with time zone         YES                                               None\n",
       "13   updated_by_id                      uuid         YES                                               None\n",
       "14       parent_id                      uuid         YES                                               None"
      ]
     },
     "metadata": {},
     "output_type": "display_data"
    },
    {
     "data": {
      "text/markdown": [
       "\n",
       "##### Ограничения (PK, FK):"
      ],
      "text/plain": [
       "<IPython.core.display.Markdown object>"
      ]
     },
     "metadata": {},
     "output_type": "display_data"
    },
    {
     "name": "stderr",
     "output_type": "stream",
     "text": [
      "/tmp/ipykernel_450849/82215137.py:79: UserWarning: pandas only supports SQLAlchemy connectable (engine/connection) or database string URI or sqlite3 DBAPI2 connection. Other DBAPI2 objects are not tested. Please consider using SQLAlchemy.\n",
      "  df = pd.read_sql_query(query, conn)\n"
     ]
    },
    {
     "data": {
      "text/html": [
       "<div>\n",
       "<style scoped>\n",
       "    .dataframe tbody tr th:only-of-type {\n",
       "        vertical-align: middle;\n",
       "    }\n",
       "\n",
       "    .dataframe tbody tr th {\n",
       "        vertical-align: top;\n",
       "    }\n",
       "\n",
       "    .dataframe thead th {\n",
       "        text-align: right;\n",
       "    }\n",
       "</style>\n",
       "<table border=\"1\" class=\"dataframe\">\n",
       "  <thead>\n",
       "    <tr style=\"text-align: right;\">\n",
       "      <th></th>\n",
       "      <th>constraint_name</th>\n",
       "      <th>constraint_type</th>\n",
       "      <th>column_name</th>\n",
       "      <th>foreign_table_name</th>\n",
       "      <th>foreign_column_name</th>\n",
       "    </tr>\n",
       "  </thead>\n",
       "  <tbody>\n",
       "    <tr>\n",
       "      <th>0</th>\n",
       "      <td>pages_page_created_by_id_fkey</td>\n",
       "      <td>FOREIGN KEY</td>\n",
       "      <td>created_by_id</td>\n",
       "      <td>users</td>\n",
       "      <td>keycloak_id</td>\n",
       "    </tr>\n",
       "    <tr>\n",
       "      <th>1</th>\n",
       "      <td>pages_page_parent_id_fkey</td>\n",
       "      <td>FOREIGN KEY</td>\n",
       "      <td>parent_id</td>\n",
       "      <td>pages_page</td>\n",
       "      <td>id</td>\n",
       "    </tr>\n",
       "    <tr>\n",
       "      <th>2</th>\n",
       "      <td>pages_page_updated_by_id_fkey</td>\n",
       "      <td>FOREIGN KEY</td>\n",
       "      <td>updated_by_id</td>\n",
       "      <td>users</td>\n",
       "      <td>keycloak_id</td>\n",
       "    </tr>\n",
       "    <tr>\n",
       "      <th>3</th>\n",
       "      <td>pages_page_pkey</td>\n",
       "      <td>PRIMARY KEY</td>\n",
       "      <td>id</td>\n",
       "      <td>pages_page</td>\n",
       "      <td>id</td>\n",
       "    </tr>\n",
       "    <tr>\n",
       "      <th>4</th>\n",
       "      <td>pages_page_slug_key</td>\n",
       "      <td>UNIQUE</td>\n",
       "      <td>slug</td>\n",
       "      <td>pages_page</td>\n",
       "      <td>slug</td>\n",
       "    </tr>\n",
       "  </tbody>\n",
       "</table>\n",
       "</div>"
      ],
      "text/plain": [
       "                 constraint_name constraint_type    column_name foreign_table_name foreign_column_name\n",
       "0  pages_page_created_by_id_fkey     FOREIGN KEY  created_by_id              users         keycloak_id\n",
       "1      pages_page_parent_id_fkey     FOREIGN KEY      parent_id         pages_page                  id\n",
       "2  pages_page_updated_by_id_fkey     FOREIGN KEY  updated_by_id              users         keycloak_id\n",
       "3                pages_page_pkey     PRIMARY KEY             id         pages_page                  id\n",
       "4            pages_page_slug_key          UNIQUE           slug         pages_page                slug"
      ]
     },
     "metadata": {},
     "output_type": "display_data"
    },
    {
     "data": {
      "text/markdown": [
       "\n",
       "#### Таблица: `permissions_permission`"
      ],
      "text/plain": [
       "<IPython.core.display.Markdown object>"
      ]
     },
     "metadata": {},
     "output_type": "display_data"
    },
    {
     "data": {
      "text/markdown": [
       "\n",
       "##### Схема:"
      ],
      "text/plain": [
       "<IPython.core.display.Markdown object>"
      ]
     },
     "metadata": {},
     "output_type": "display_data"
    },
    {
     "name": "stderr",
     "output_type": "stream",
     "text": [
      "/tmp/ipykernel_450849/82215137.py:49: UserWarning: pandas only supports SQLAlchemy connectable (engine/connection) or database string URI or sqlite3 DBAPI2 connection. Other DBAPI2 objects are not tested. Please consider using SQLAlchemy.\n",
      "  df = pd.read_sql_query(query, conn)\n"
     ]
    },
    {
     "data": {
      "text/html": [
       "<div>\n",
       "<style scoped>\n",
       "    .dataframe tbody tr th:only-of-type {\n",
       "        vertical-align: middle;\n",
       "    }\n",
       "\n",
       "    .dataframe tbody tr th {\n",
       "        vertical-align: top;\n",
       "    }\n",
       "\n",
       "    .dataframe thead th {\n",
       "        text-align: right;\n",
       "    }\n",
       "</style>\n",
       "<table border=\"1\" class=\"dataframe\">\n",
       "  <thead>\n",
       "    <tr style=\"text-align: right;\">\n",
       "      <th></th>\n",
       "      <th>column_name</th>\n",
       "      <th>data_type</th>\n",
       "      <th>is_nullable</th>\n",
       "      <th>column_default</th>\n",
       "    </tr>\n",
       "  </thead>\n",
       "  <tbody>\n",
       "    <tr>\n",
       "      <th>0</th>\n",
       "      <td>id</td>\n",
       "      <td>integer</td>\n",
       "      <td>NO</td>\n",
       "      <td>nextval('permissions_permission_id_seq'::regcl...</td>\n",
       "    </tr>\n",
       "    <tr>\n",
       "      <th>1</th>\n",
       "      <td>name</td>\n",
       "      <td>character varying</td>\n",
       "      <td>NO</td>\n",
       "      <td>None</td>\n",
       "    </tr>\n",
       "    <tr>\n",
       "      <th>2</th>\n",
       "      <td>display_name</td>\n",
       "      <td>character varying</td>\n",
       "      <td>NO</td>\n",
       "      <td>None</td>\n",
       "    </tr>\n",
       "    <tr>\n",
       "      <th>3</th>\n",
       "      <td>scope</td>\n",
       "      <td>character varying</td>\n",
       "      <td>NO</td>\n",
       "      <td>None</td>\n",
       "    </tr>\n",
       "    <tr>\n",
       "      <th>4</th>\n",
       "      <td>subscope</td>\n",
       "      <td>character varying</td>\n",
       "      <td>NO</td>\n",
       "      <td>None</td>\n",
       "    </tr>\n",
       "    <tr>\n",
       "      <th>5</th>\n",
       "      <td>is_forced</td>\n",
       "      <td>boolean</td>\n",
       "      <td>NO</td>\n",
       "      <td>false</td>\n",
       "    </tr>\n",
       "  </tbody>\n",
       "</table>\n",
       "</div>"
      ],
      "text/plain": [
       "    column_name          data_type is_nullable                                     column_default\n",
       "0            id            integer          NO  nextval('permissions_permission_id_seq'::regcl...\n",
       "1          name  character varying          NO                                               None\n",
       "2  display_name  character varying          NO                                               None\n",
       "3         scope  character varying          NO                                               None\n",
       "4      subscope  character varying          NO                                               None\n",
       "5     is_forced            boolean          NO                                              false"
      ]
     },
     "metadata": {},
     "output_type": "display_data"
    },
    {
     "data": {
      "text/markdown": [
       "\n",
       "##### Ограничения (PK, FK):"
      ],
      "text/plain": [
       "<IPython.core.display.Markdown object>"
      ]
     },
     "metadata": {},
     "output_type": "display_data"
    },
    {
     "name": "stderr",
     "output_type": "stream",
     "text": [
      "/tmp/ipykernel_450849/82215137.py:79: UserWarning: pandas only supports SQLAlchemy connectable (engine/connection) or database string URI or sqlite3 DBAPI2 connection. Other DBAPI2 objects are not tested. Please consider using SQLAlchemy.\n",
      "  df = pd.read_sql_query(query, conn)\n"
     ]
    },
    {
     "data": {
      "text/html": [
       "<div>\n",
       "<style scoped>\n",
       "    .dataframe tbody tr th:only-of-type {\n",
       "        vertical-align: middle;\n",
       "    }\n",
       "\n",
       "    .dataframe tbody tr th {\n",
       "        vertical-align: top;\n",
       "    }\n",
       "\n",
       "    .dataframe thead th {\n",
       "        text-align: right;\n",
       "    }\n",
       "</style>\n",
       "<table border=\"1\" class=\"dataframe\">\n",
       "  <thead>\n",
       "    <tr style=\"text-align: right;\">\n",
       "      <th></th>\n",
       "      <th>constraint_name</th>\n",
       "      <th>constraint_type</th>\n",
       "      <th>column_name</th>\n",
       "      <th>foreign_table_name</th>\n",
       "      <th>foreign_column_name</th>\n",
       "    </tr>\n",
       "  </thead>\n",
       "  <tbody>\n",
       "    <tr>\n",
       "      <th>0</th>\n",
       "      <td>permissions_permission_pkey</td>\n",
       "      <td>PRIMARY KEY</td>\n",
       "      <td>id</td>\n",
       "      <td>permissions_permission</td>\n",
       "      <td>id</td>\n",
       "    </tr>\n",
       "  </tbody>\n",
       "</table>\n",
       "</div>"
      ],
      "text/plain": [
       "               constraint_name constraint_type column_name      foreign_table_name foreign_column_name\n",
       "0  permissions_permission_pkey     PRIMARY KEY          id  permissions_permission                  id"
      ]
     },
     "metadata": {},
     "output_type": "display_data"
    },
    {
     "data": {
      "text/markdown": [
       "\n",
       "#### Таблица: `permissions_permission_to_role_association`"
      ],
      "text/plain": [
       "<IPython.core.display.Markdown object>"
      ]
     },
     "metadata": {},
     "output_type": "display_data"
    },
    {
     "data": {
      "text/markdown": [
       "\n",
       "##### Схема:"
      ],
      "text/plain": [
       "<IPython.core.display.Markdown object>"
      ]
     },
     "metadata": {},
     "output_type": "display_data"
    },
    {
     "name": "stderr",
     "output_type": "stream",
     "text": [
      "/tmp/ipykernel_450849/82215137.py:49: UserWarning: pandas only supports SQLAlchemy connectable (engine/connection) or database string URI or sqlite3 DBAPI2 connection. Other DBAPI2 objects are not tested. Please consider using SQLAlchemy.\n",
      "  df = pd.read_sql_query(query, conn)\n"
     ]
    },
    {
     "data": {
      "text/html": [
       "<div>\n",
       "<style scoped>\n",
       "    .dataframe tbody tr th:only-of-type {\n",
       "        vertical-align: middle;\n",
       "    }\n",
       "\n",
       "    .dataframe tbody tr th {\n",
       "        vertical-align: top;\n",
       "    }\n",
       "\n",
       "    .dataframe thead th {\n",
       "        text-align: right;\n",
       "    }\n",
       "</style>\n",
       "<table border=\"1\" class=\"dataframe\">\n",
       "  <thead>\n",
       "    <tr style=\"text-align: right;\">\n",
       "      <th></th>\n",
       "      <th>column_name</th>\n",
       "      <th>data_type</th>\n",
       "      <th>is_nullable</th>\n",
       "      <th>column_default</th>\n",
       "    </tr>\n",
       "  </thead>\n",
       "  <tbody>\n",
       "    <tr>\n",
       "      <th>0</th>\n",
       "      <td>role_id</td>\n",
       "      <td>integer</td>\n",
       "      <td>NO</td>\n",
       "      <td>None</td>\n",
       "    </tr>\n",
       "    <tr>\n",
       "      <th>1</th>\n",
       "      <td>permission_id</td>\n",
       "      <td>integer</td>\n",
       "      <td>NO</td>\n",
       "      <td>None</td>\n",
       "    </tr>\n",
       "  </tbody>\n",
       "</table>\n",
       "</div>"
      ],
      "text/plain": [
       "     column_name data_type is_nullable column_default\n",
       "0        role_id   integer          NO           None\n",
       "1  permission_id   integer          NO           None"
      ]
     },
     "metadata": {},
     "output_type": "display_data"
    },
    {
     "data": {
      "text/markdown": [
       "\n",
       "##### Ограничения (PK, FK):"
      ],
      "text/plain": [
       "<IPython.core.display.Markdown object>"
      ]
     },
     "metadata": {},
     "output_type": "display_data"
    },
    {
     "name": "stderr",
     "output_type": "stream",
     "text": [
      "/tmp/ipykernel_450849/82215137.py:79: UserWarning: pandas only supports SQLAlchemy connectable (engine/connection) or database string URI or sqlite3 DBAPI2 connection. Other DBAPI2 objects are not tested. Please consider using SQLAlchemy.\n",
      "  df = pd.read_sql_query(query, conn)\n"
     ]
    },
    {
     "data": {
      "text/html": [
       "<div>\n",
       "<style scoped>\n",
       "    .dataframe tbody tr th:only-of-type {\n",
       "        vertical-align: middle;\n",
       "    }\n",
       "\n",
       "    .dataframe tbody tr th {\n",
       "        vertical-align: top;\n",
       "    }\n",
       "\n",
       "    .dataframe thead th {\n",
       "        text-align: right;\n",
       "    }\n",
       "</style>\n",
       "<table border=\"1\" class=\"dataframe\">\n",
       "  <thead>\n",
       "    <tr style=\"text-align: right;\">\n",
       "      <th></th>\n",
       "      <th>constraint_name</th>\n",
       "      <th>constraint_type</th>\n",
       "      <th>column_name</th>\n",
       "      <th>foreign_table_name</th>\n",
       "      <th>foreign_column_name</th>\n",
       "    </tr>\n",
       "  </thead>\n",
       "  <tbody>\n",
       "    <tr>\n",
       "      <th>0</th>\n",
       "      <td>permissions_permission_to_role_association_per...</td>\n",
       "      <td>FOREIGN KEY</td>\n",
       "      <td>permission_id</td>\n",
       "      <td>permissions_permission</td>\n",
       "      <td>id</td>\n",
       "    </tr>\n",
       "    <tr>\n",
       "      <th>1</th>\n",
       "      <td>permissions_permission_to_role_association_rol...</td>\n",
       "      <td>FOREIGN KEY</td>\n",
       "      <td>role_id</td>\n",
       "      <td>permissions_role</td>\n",
       "      <td>id</td>\n",
       "    </tr>\n",
       "    <tr>\n",
       "      <th>2</th>\n",
       "      <td>permissions_permission_to_role_association_pkey</td>\n",
       "      <td>PRIMARY KEY</td>\n",
       "      <td>role_id</td>\n",
       "      <td>permissions_permission_to_role_association</td>\n",
       "      <td>role_id</td>\n",
       "    </tr>\n",
       "    <tr>\n",
       "      <th>3</th>\n",
       "      <td>permissions_permission_to_role_association_pkey</td>\n",
       "      <td>PRIMARY KEY</td>\n",
       "      <td>role_id</td>\n",
       "      <td>permissions_permission_to_role_association</td>\n",
       "      <td>permission_id</td>\n",
       "    </tr>\n",
       "    <tr>\n",
       "      <th>4</th>\n",
       "      <td>permissions_permission_to_role_association_pkey</td>\n",
       "      <td>PRIMARY KEY</td>\n",
       "      <td>permission_id</td>\n",
       "      <td>permissions_permission_to_role_association</td>\n",
       "      <td>role_id</td>\n",
       "    </tr>\n",
       "    <tr>\n",
       "      <th>5</th>\n",
       "      <td>permissions_permission_to_role_association_pkey</td>\n",
       "      <td>PRIMARY KEY</td>\n",
       "      <td>permission_id</td>\n",
       "      <td>permissions_permission_to_role_association</td>\n",
       "      <td>permission_id</td>\n",
       "    </tr>\n",
       "  </tbody>\n",
       "</table>\n",
       "</div>"
      ],
      "text/plain": [
       "                                     constraint_name constraint_type    column_name                          foreign_table_name foreign_column_name\n",
       "0  permissions_permission_to_role_association_per...     FOREIGN KEY  permission_id                      permissions_permission                  id\n",
       "1  permissions_permission_to_role_association_rol...     FOREIGN KEY        role_id                            permissions_role                  id\n",
       "2    permissions_permission_to_role_association_pkey     PRIMARY KEY        role_id  permissions_permission_to_role_association             role_id\n",
       "3    permissions_permission_to_role_association_pkey     PRIMARY KEY        role_id  permissions_permission_to_role_association       permission_id\n",
       "4    permissions_permission_to_role_association_pkey     PRIMARY KEY  permission_id  permissions_permission_to_role_association             role_id\n",
       "5    permissions_permission_to_role_association_pkey     PRIMARY KEY  permission_id  permissions_permission_to_role_association       permission_id"
      ]
     },
     "metadata": {},
     "output_type": "display_data"
    },
    {
     "data": {
      "text/markdown": [
       "\n",
       "#### Таблица: `permissions_role`"
      ],
      "text/plain": [
       "<IPython.core.display.Markdown object>"
      ]
     },
     "metadata": {},
     "output_type": "display_data"
    },
    {
     "data": {
      "text/markdown": [
       "\n",
       "##### Схема:"
      ],
      "text/plain": [
       "<IPython.core.display.Markdown object>"
      ]
     },
     "metadata": {},
     "output_type": "display_data"
    },
    {
     "name": "stderr",
     "output_type": "stream",
     "text": [
      "/tmp/ipykernel_450849/82215137.py:49: UserWarning: pandas only supports SQLAlchemy connectable (engine/connection) or database string URI or sqlite3 DBAPI2 connection. Other DBAPI2 objects are not tested. Please consider using SQLAlchemy.\n",
      "  df = pd.read_sql_query(query, conn)\n"
     ]
    },
    {
     "data": {
      "text/html": [
       "<div>\n",
       "<style scoped>\n",
       "    .dataframe tbody tr th:only-of-type {\n",
       "        vertical-align: middle;\n",
       "    }\n",
       "\n",
       "    .dataframe tbody tr th {\n",
       "        vertical-align: top;\n",
       "    }\n",
       "\n",
       "    .dataframe thead th {\n",
       "        text-align: right;\n",
       "    }\n",
       "</style>\n",
       "<table border=\"1\" class=\"dataframe\">\n",
       "  <thead>\n",
       "    <tr style=\"text-align: right;\">\n",
       "      <th></th>\n",
       "      <th>column_name</th>\n",
       "      <th>data_type</th>\n",
       "      <th>is_nullable</th>\n",
       "      <th>column_default</th>\n",
       "    </tr>\n",
       "  </thead>\n",
       "  <tbody>\n",
       "    <tr>\n",
       "      <th>0</th>\n",
       "      <td>id</td>\n",
       "      <td>integer</td>\n",
       "      <td>NO</td>\n",
       "      <td>nextval('permissions_role_new_id_seq'::regclass)</td>\n",
       "    </tr>\n",
       "    <tr>\n",
       "      <th>1</th>\n",
       "      <td>name</td>\n",
       "      <td>character varying</td>\n",
       "      <td>NO</td>\n",
       "      <td>None</td>\n",
       "    </tr>\n",
       "    <tr>\n",
       "      <th>2</th>\n",
       "      <td>display_name</td>\n",
       "      <td>character varying</td>\n",
       "      <td>NO</td>\n",
       "      <td>None</td>\n",
       "    </tr>\n",
       "    <tr>\n",
       "      <th>3</th>\n",
       "      <td>scope</td>\n",
       "      <td>character varying</td>\n",
       "      <td>NO</td>\n",
       "      <td>None</td>\n",
       "    </tr>\n",
       "    <tr>\n",
       "      <th>4</th>\n",
       "      <td>subscope</td>\n",
       "      <td>character varying</td>\n",
       "      <td>NO</td>\n",
       "      <td>None</td>\n",
       "    </tr>\n",
       "    <tr>\n",
       "      <th>5</th>\n",
       "      <td>is_system_defined</td>\n",
       "      <td>boolean</td>\n",
       "      <td>NO</td>\n",
       "      <td>None</td>\n",
       "    </tr>\n",
       "    <tr>\n",
       "      <th>6</th>\n",
       "      <td>is_instance_specific</td>\n",
       "      <td>boolean</td>\n",
       "      <td>NO</td>\n",
       "      <td>None</td>\n",
       "    </tr>\n",
       "  </tbody>\n",
       "</table>\n",
       "</div>"
      ],
      "text/plain": [
       "            column_name          data_type is_nullable                                    column_default\n",
       "0                    id            integer          NO  nextval('permissions_role_new_id_seq'::regclass)\n",
       "1                  name  character varying          NO                                              None\n",
       "2          display_name  character varying          NO                                              None\n",
       "3                 scope  character varying          NO                                              None\n",
       "4              subscope  character varying          NO                                              None\n",
       "5     is_system_defined            boolean          NO                                              None\n",
       "6  is_instance_specific            boolean          NO                                              None"
      ]
     },
     "metadata": {},
     "output_type": "display_data"
    },
    {
     "data": {
      "text/markdown": [
       "\n",
       "##### Ограничения (PK, FK):"
      ],
      "text/plain": [
       "<IPython.core.display.Markdown object>"
      ]
     },
     "metadata": {},
     "output_type": "display_data"
    },
    {
     "name": "stderr",
     "output_type": "stream",
     "text": [
      "/tmp/ipykernel_450849/82215137.py:79: UserWarning: pandas only supports SQLAlchemy connectable (engine/connection) or database string URI or sqlite3 DBAPI2 connection. Other DBAPI2 objects are not tested. Please consider using SQLAlchemy.\n",
      "  df = pd.read_sql_query(query, conn)\n"
     ]
    },
    {
     "data": {
      "text/html": [
       "<div>\n",
       "<style scoped>\n",
       "    .dataframe tbody tr th:only-of-type {\n",
       "        vertical-align: middle;\n",
       "    }\n",
       "\n",
       "    .dataframe tbody tr th {\n",
       "        vertical-align: top;\n",
       "    }\n",
       "\n",
       "    .dataframe thead th {\n",
       "        text-align: right;\n",
       "    }\n",
       "</style>\n",
       "<table border=\"1\" class=\"dataframe\">\n",
       "  <thead>\n",
       "    <tr style=\"text-align: right;\">\n",
       "      <th></th>\n",
       "      <th>constraint_name</th>\n",
       "      <th>constraint_type</th>\n",
       "      <th>column_name</th>\n",
       "      <th>foreign_table_name</th>\n",
       "      <th>foreign_column_name</th>\n",
       "    </tr>\n",
       "  </thead>\n",
       "  <tbody>\n",
       "    <tr>\n",
       "      <th>0</th>\n",
       "      <td>permissions_role_new_pkey</td>\n",
       "      <td>PRIMARY KEY</td>\n",
       "      <td>id</td>\n",
       "      <td>permissions_role</td>\n",
       "      <td>id</td>\n",
       "    </tr>\n",
       "    <tr>\n",
       "      <th>1</th>\n",
       "      <td>name_scope_unique_constraint</td>\n",
       "      <td>UNIQUE</td>\n",
       "      <td>name</td>\n",
       "      <td>permissions_role</td>\n",
       "      <td>scope</td>\n",
       "    </tr>\n",
       "    <tr>\n",
       "      <th>2</th>\n",
       "      <td>name_scope_unique_constraint</td>\n",
       "      <td>UNIQUE</td>\n",
       "      <td>name</td>\n",
       "      <td>permissions_role</td>\n",
       "      <td>is_instance_specific</td>\n",
       "    </tr>\n",
       "    <tr>\n",
       "      <th>3</th>\n",
       "      <td>name_scope_unique_constraint</td>\n",
       "      <td>UNIQUE</td>\n",
       "      <td>name</td>\n",
       "      <td>permissions_role</td>\n",
       "      <td>name</td>\n",
       "    </tr>\n",
       "    <tr>\n",
       "      <th>4</th>\n",
       "      <td>name_scope_unique_constraint</td>\n",
       "      <td>UNIQUE</td>\n",
       "      <td>scope</td>\n",
       "      <td>permissions_role</td>\n",
       "      <td>scope</td>\n",
       "    </tr>\n",
       "    <tr>\n",
       "      <th>5</th>\n",
       "      <td>name_scope_unique_constraint</td>\n",
       "      <td>UNIQUE</td>\n",
       "      <td>scope</td>\n",
       "      <td>permissions_role</td>\n",
       "      <td>is_instance_specific</td>\n",
       "    </tr>\n",
       "    <tr>\n",
       "      <th>6</th>\n",
       "      <td>name_scope_unique_constraint</td>\n",
       "      <td>UNIQUE</td>\n",
       "      <td>scope</td>\n",
       "      <td>permissions_role</td>\n",
       "      <td>name</td>\n",
       "    </tr>\n",
       "    <tr>\n",
       "      <th>7</th>\n",
       "      <td>name_scope_unique_constraint</td>\n",
       "      <td>UNIQUE</td>\n",
       "      <td>is_instance_specific</td>\n",
       "      <td>permissions_role</td>\n",
       "      <td>name</td>\n",
       "    </tr>\n",
       "    <tr>\n",
       "      <th>8</th>\n",
       "      <td>name_scope_unique_constraint</td>\n",
       "      <td>UNIQUE</td>\n",
       "      <td>is_instance_specific</td>\n",
       "      <td>permissions_role</td>\n",
       "      <td>scope</td>\n",
       "    </tr>\n",
       "    <tr>\n",
       "      <th>9</th>\n",
       "      <td>name_scope_unique_constraint</td>\n",
       "      <td>UNIQUE</td>\n",
       "      <td>is_instance_specific</td>\n",
       "      <td>permissions_role</td>\n",
       "      <td>is_instance_specific</td>\n",
       "    </tr>\n",
       "  </tbody>\n",
       "</table>\n",
       "</div>"
      ],
      "text/plain": [
       "                constraint_name constraint_type           column_name foreign_table_name   foreign_column_name\n",
       "0     permissions_role_new_pkey     PRIMARY KEY                    id   permissions_role                    id\n",
       "1  name_scope_unique_constraint          UNIQUE                  name   permissions_role                 scope\n",
       "2  name_scope_unique_constraint          UNIQUE                  name   permissions_role  is_instance_specific\n",
       "3  name_scope_unique_constraint          UNIQUE                  name   permissions_role                  name\n",
       "4  name_scope_unique_constraint          UNIQUE                 scope   permissions_role                 scope\n",
       "5  name_scope_unique_constraint          UNIQUE                 scope   permissions_role  is_instance_specific\n",
       "6  name_scope_unique_constraint          UNIQUE                 scope   permissions_role                  name\n",
       "7  name_scope_unique_constraint          UNIQUE  is_instance_specific   permissions_role                  name\n",
       "8  name_scope_unique_constraint          UNIQUE  is_instance_specific   permissions_role                 scope\n",
       "9  name_scope_unique_constraint          UNIQUE  is_instance_specific   permissions_role  is_instance_specific"
      ]
     },
     "metadata": {},
     "output_type": "display_data"
    },
    {
     "data": {
      "text/markdown": [
       "\n",
       "#### Таблица: `permissions_role_access_grant`"
      ],
      "text/plain": [
       "<IPython.core.display.Markdown object>"
      ]
     },
     "metadata": {},
     "output_type": "display_data"
    },
    {
     "data": {
      "text/markdown": [
       "\n",
       "##### Схема:"
      ],
      "text/plain": [
       "<IPython.core.display.Markdown object>"
      ]
     },
     "metadata": {},
     "output_type": "display_data"
    },
    {
     "name": "stderr",
     "output_type": "stream",
     "text": [
      "/tmp/ipykernel_450849/82215137.py:49: UserWarning: pandas only supports SQLAlchemy connectable (engine/connection) or database string URI or sqlite3 DBAPI2 connection. Other DBAPI2 objects are not tested. Please consider using SQLAlchemy.\n",
      "  df = pd.read_sql_query(query, conn)\n"
     ]
    },
    {
     "data": {
      "text/html": [
       "<div>\n",
       "<style scoped>\n",
       "    .dataframe tbody tr th:only-of-type {\n",
       "        vertical-align: middle;\n",
       "    }\n",
       "\n",
       "    .dataframe tbody tr th {\n",
       "        vertical-align: top;\n",
       "    }\n",
       "\n",
       "    .dataframe thead th {\n",
       "        text-align: right;\n",
       "    }\n",
       "</style>\n",
       "<table border=\"1\" class=\"dataframe\">\n",
       "  <thead>\n",
       "    <tr style=\"text-align: right;\">\n",
       "      <th></th>\n",
       "      <th>column_name</th>\n",
       "      <th>data_type</th>\n",
       "      <th>is_nullable</th>\n",
       "      <th>column_default</th>\n",
       "    </tr>\n",
       "  </thead>\n",
       "  <tbody>\n",
       "    <tr>\n",
       "      <th>0</th>\n",
       "      <td>id</td>\n",
       "      <td>integer</td>\n",
       "      <td>NO</td>\n",
       "      <td>nextval('permissions_role_access_grant_id_seq'...</td>\n",
       "    </tr>\n",
       "    <tr>\n",
       "      <th>1</th>\n",
       "      <td>role_id</td>\n",
       "      <td>integer</td>\n",
       "      <td>NO</td>\n",
       "      <td>None</td>\n",
       "    </tr>\n",
       "    <tr>\n",
       "      <th>2</th>\n",
       "      <td>user_id</td>\n",
       "      <td>uuid</td>\n",
       "      <td>YES</td>\n",
       "      <td>None</td>\n",
       "    </tr>\n",
       "    <tr>\n",
       "      <th>3</th>\n",
       "      <td>target_object_id</td>\n",
       "      <td>uuid</td>\n",
       "      <td>NO</td>\n",
       "      <td>None</td>\n",
       "    </tr>\n",
       "    <tr>\n",
       "      <th>4</th>\n",
       "      <td>target_type</td>\n",
       "      <td>character varying</td>\n",
       "      <td>NO</td>\n",
       "      <td>None</td>\n",
       "    </tr>\n",
       "    <tr>\n",
       "      <th>5</th>\n",
       "      <td>created_at</td>\n",
       "      <td>timestamp with time zone</td>\n",
       "      <td>NO</td>\n",
       "      <td>None</td>\n",
       "    </tr>\n",
       "    <tr>\n",
       "      <th>6</th>\n",
       "      <td>updated_at</td>\n",
       "      <td>timestamp with time zone</td>\n",
       "      <td>NO</td>\n",
       "      <td>None</td>\n",
       "    </tr>\n",
       "    <tr>\n",
       "      <th>7</th>\n",
       "      <td>group_id</td>\n",
       "      <td>uuid</td>\n",
       "      <td>YES</td>\n",
       "      <td>None</td>\n",
       "    </tr>\n",
       "    <tr>\n",
       "      <th>8</th>\n",
       "      <td>is_inherited</td>\n",
       "      <td>boolean</td>\n",
       "      <td>NO</td>\n",
       "      <td>false</td>\n",
       "    </tr>\n",
       "  </tbody>\n",
       "</table>\n",
       "</div>"
      ],
      "text/plain": [
       "        column_name                 data_type is_nullable                                     column_default\n",
       "0                id                   integer          NO  nextval('permissions_role_access_grant_id_seq'...\n",
       "1           role_id                   integer          NO                                               None\n",
       "2           user_id                      uuid         YES                                               None\n",
       "3  target_object_id                      uuid          NO                                               None\n",
       "4       target_type         character varying          NO                                               None\n",
       "5        created_at  timestamp with time zone          NO                                               None\n",
       "6        updated_at  timestamp with time zone          NO                                               None\n",
       "7          group_id                      uuid         YES                                               None\n",
       "8      is_inherited                   boolean          NO                                              false"
      ]
     },
     "metadata": {},
     "output_type": "display_data"
    },
    {
     "data": {
      "text/markdown": [
       "\n",
       "##### Ограничения (PK, FK):"
      ],
      "text/plain": [
       "<IPython.core.display.Markdown object>"
      ]
     },
     "metadata": {},
     "output_type": "display_data"
    },
    {
     "name": "stderr",
     "output_type": "stream",
     "text": [
      "/tmp/ipykernel_450849/82215137.py:79: UserWarning: pandas only supports SQLAlchemy connectable (engine/connection) or database string URI or sqlite3 DBAPI2 connection. Other DBAPI2 objects are not tested. Please consider using SQLAlchemy.\n",
      "  df = pd.read_sql_query(query, conn)\n"
     ]
    },
    {
     "data": {
      "text/html": [
       "<div>\n",
       "<style scoped>\n",
       "    .dataframe tbody tr th:only-of-type {\n",
       "        vertical-align: middle;\n",
       "    }\n",
       "\n",
       "    .dataframe tbody tr th {\n",
       "        vertical-align: top;\n",
       "    }\n",
       "\n",
       "    .dataframe thead th {\n",
       "        text-align: right;\n",
       "    }\n",
       "</style>\n",
       "<table border=\"1\" class=\"dataframe\">\n",
       "  <thead>\n",
       "    <tr style=\"text-align: right;\">\n",
       "      <th></th>\n",
       "      <th>constraint_name</th>\n",
       "      <th>constraint_type</th>\n",
       "      <th>column_name</th>\n",
       "      <th>foreign_table_name</th>\n",
       "      <th>foreign_column_name</th>\n",
       "    </tr>\n",
       "  </thead>\n",
       "  <tbody>\n",
       "    <tr>\n",
       "      <th>0</th>\n",
       "      <td>permissions_role_access_grant_group_id_fkey</td>\n",
       "      <td>FOREIGN KEY</td>\n",
       "      <td>group_id</td>\n",
       "      <td>roles_access_user_group</td>\n",
       "      <td>id</td>\n",
       "    </tr>\n",
       "    <tr>\n",
       "      <th>1</th>\n",
       "      <td>permissions_role_access_grant_group_id_fkey</td>\n",
       "      <td>FOREIGN KEY</td>\n",
       "      <td>group_id</td>\n",
       "      <td>roles_access_user_group</td>\n",
       "      <td>id</td>\n",
       "    </tr>\n",
       "    <tr>\n",
       "      <th>2</th>\n",
       "      <td>permissions_role_access_grant_group_id_fkey</td>\n",
       "      <td>FOREIGN KEY</td>\n",
       "      <td>group_id</td>\n",
       "      <td>roles_access_user_group</td>\n",
       "      <td>id</td>\n",
       "    </tr>\n",
       "    <tr>\n",
       "      <th>3</th>\n",
       "      <td>permissions_role_access_grant_group_id_fkey</td>\n",
       "      <td>FOREIGN KEY</td>\n",
       "      <td>group_id</td>\n",
       "      <td>roles_access_user_group</td>\n",
       "      <td>id</td>\n",
       "    </tr>\n",
       "    <tr>\n",
       "      <th>4</th>\n",
       "      <td>permissions_role_access_grant_role_id_fkey</td>\n",
       "      <td>FOREIGN KEY</td>\n",
       "      <td>role_id</td>\n",
       "      <td>permissions_role</td>\n",
       "      <td>id</td>\n",
       "    </tr>\n",
       "    <tr>\n",
       "      <th>5</th>\n",
       "      <td>permissions_role_access_grant_user_id_fkey</td>\n",
       "      <td>FOREIGN KEY</td>\n",
       "      <td>user_id</td>\n",
       "      <td>users</td>\n",
       "      <td>keycloak_id</td>\n",
       "    </tr>\n",
       "    <tr>\n",
       "      <th>6</th>\n",
       "      <td>permissions_role_access_grant_pkey</td>\n",
       "      <td>PRIMARY KEY</td>\n",
       "      <td>id</td>\n",
       "      <td>permissions_role_access_grant</td>\n",
       "      <td>id</td>\n",
       "    </tr>\n",
       "    <tr>\n",
       "      <th>7</th>\n",
       "      <td>role_access_grant_unique_assignee_role</td>\n",
       "      <td>UNIQUE</td>\n",
       "      <td>target_type</td>\n",
       "      <td>permissions_role_access_grant</td>\n",
       "      <td>user_id</td>\n",
       "    </tr>\n",
       "    <tr>\n",
       "      <th>8</th>\n",
       "      <td>role_access_grant_unique_assignee_role</td>\n",
       "      <td>UNIQUE</td>\n",
       "      <td>target_type</td>\n",
       "      <td>permissions_role_access_grant</td>\n",
       "      <td>target_object_id</td>\n",
       "    </tr>\n",
       "    <tr>\n",
       "      <th>9</th>\n",
       "      <td>role_access_grant_unique_assignee_role</td>\n",
       "      <td>UNIQUE</td>\n",
       "      <td>target_type</td>\n",
       "      <td>permissions_role_access_grant</td>\n",
       "      <td>target_type</td>\n",
       "    </tr>\n",
       "    <tr>\n",
       "      <th>10</th>\n",
       "      <td>role_access_grant_unique_assignee_role</td>\n",
       "      <td>UNIQUE</td>\n",
       "      <td>target_type</td>\n",
       "      <td>permissions_role_access_grant</td>\n",
       "      <td>group_id</td>\n",
       "    </tr>\n",
       "    <tr>\n",
       "      <th>11</th>\n",
       "      <td>role_access_grant_unique_assignee_role</td>\n",
       "      <td>UNIQUE</td>\n",
       "      <td>target_type</td>\n",
       "      <td>permissions_role_access_grant</td>\n",
       "      <td>role_id</td>\n",
       "    </tr>\n",
       "    <tr>\n",
       "      <th>12</th>\n",
       "      <td>role_access_grant_unique_assignee_role</td>\n",
       "      <td>UNIQUE</td>\n",
       "      <td>target_object_id</td>\n",
       "      <td>permissions_role_access_grant</td>\n",
       "      <td>user_id</td>\n",
       "    </tr>\n",
       "    <tr>\n",
       "      <th>13</th>\n",
       "      <td>role_access_grant_unique_assignee_role</td>\n",
       "      <td>UNIQUE</td>\n",
       "      <td>target_object_id</td>\n",
       "      <td>permissions_role_access_grant</td>\n",
       "      <td>target_object_id</td>\n",
       "    </tr>\n",
       "    <tr>\n",
       "      <th>14</th>\n",
       "      <td>role_access_grant_unique_assignee_role</td>\n",
       "      <td>UNIQUE</td>\n",
       "      <td>target_object_id</td>\n",
       "      <td>permissions_role_access_grant</td>\n",
       "      <td>target_type</td>\n",
       "    </tr>\n",
       "    <tr>\n",
       "      <th>15</th>\n",
       "      <td>role_access_grant_unique_assignee_role</td>\n",
       "      <td>UNIQUE</td>\n",
       "      <td>target_object_id</td>\n",
       "      <td>permissions_role_access_grant</td>\n",
       "      <td>group_id</td>\n",
       "    </tr>\n",
       "    <tr>\n",
       "      <th>16</th>\n",
       "      <td>role_access_grant_unique_assignee_role</td>\n",
       "      <td>UNIQUE</td>\n",
       "      <td>target_object_id</td>\n",
       "      <td>permissions_role_access_grant</td>\n",
       "      <td>role_id</td>\n",
       "    </tr>\n",
       "    <tr>\n",
       "      <th>17</th>\n",
       "      <td>role_access_grant_unique_assignee_role</td>\n",
       "      <td>UNIQUE</td>\n",
       "      <td>user_id</td>\n",
       "      <td>permissions_role_access_grant</td>\n",
       "      <td>target_object_id</td>\n",
       "    </tr>\n",
       "    <tr>\n",
       "      <th>18</th>\n",
       "      <td>role_access_grant_unique_assignee_role</td>\n",
       "      <td>UNIQUE</td>\n",
       "      <td>user_id</td>\n",
       "      <td>permissions_role_access_grant</td>\n",
       "      <td>target_type</td>\n",
       "    </tr>\n",
       "    <tr>\n",
       "      <th>19</th>\n",
       "      <td>role_access_grant_unique_assignee_role</td>\n",
       "      <td>UNIQUE</td>\n",
       "      <td>user_id</td>\n",
       "      <td>permissions_role_access_grant</td>\n",
       "      <td>group_id</td>\n",
       "    </tr>\n",
       "    <tr>\n",
       "      <th>20</th>\n",
       "      <td>role_access_grant_unique_assignee_role</td>\n",
       "      <td>UNIQUE</td>\n",
       "      <td>user_id</td>\n",
       "      <td>permissions_role_access_grant</td>\n",
       "      <td>role_id</td>\n",
       "    </tr>\n",
       "    <tr>\n",
       "      <th>21</th>\n",
       "      <td>role_access_grant_unique_assignee_role</td>\n",
       "      <td>UNIQUE</td>\n",
       "      <td>user_id</td>\n",
       "      <td>permissions_role_access_grant</td>\n",
       "      <td>user_id</td>\n",
       "    </tr>\n",
       "    <tr>\n",
       "      <th>22</th>\n",
       "      <td>role_access_grant_unique_assignee_role</td>\n",
       "      <td>UNIQUE</td>\n",
       "      <td>group_id</td>\n",
       "      <td>permissions_role_access_grant</td>\n",
       "      <td>user_id</td>\n",
       "    </tr>\n",
       "    <tr>\n",
       "      <th>23</th>\n",
       "      <td>role_access_grant_unique_assignee_role</td>\n",
       "      <td>UNIQUE</td>\n",
       "      <td>group_id</td>\n",
       "      <td>permissions_role_access_grant</td>\n",
       "      <td>target_object_id</td>\n",
       "    </tr>\n",
       "    <tr>\n",
       "      <th>24</th>\n",
       "      <td>role_access_grant_unique_assignee_role</td>\n",
       "      <td>UNIQUE</td>\n",
       "      <td>group_id</td>\n",
       "      <td>permissions_role_access_grant</td>\n",
       "      <td>target_type</td>\n",
       "    </tr>\n",
       "    <tr>\n",
       "      <th>25</th>\n",
       "      <td>role_access_grant_unique_assignee_role</td>\n",
       "      <td>UNIQUE</td>\n",
       "      <td>group_id</td>\n",
       "      <td>permissions_role_access_grant</td>\n",
       "      <td>group_id</td>\n",
       "    </tr>\n",
       "    <tr>\n",
       "      <th>26</th>\n",
       "      <td>role_access_grant_unique_assignee_role</td>\n",
       "      <td>UNIQUE</td>\n",
       "      <td>group_id</td>\n",
       "      <td>permissions_role_access_grant</td>\n",
       "      <td>role_id</td>\n",
       "    </tr>\n",
       "    <tr>\n",
       "      <th>27</th>\n",
       "      <td>role_access_grant_unique_assignee_role</td>\n",
       "      <td>UNIQUE</td>\n",
       "      <td>role_id</td>\n",
       "      <td>permissions_role_access_grant</td>\n",
       "      <td>target_type</td>\n",
       "    </tr>\n",
       "    <tr>\n",
       "      <th>28</th>\n",
       "      <td>role_access_grant_unique_assignee_role</td>\n",
       "      <td>UNIQUE</td>\n",
       "      <td>role_id</td>\n",
       "      <td>permissions_role_access_grant</td>\n",
       "      <td>target_object_id</td>\n",
       "    </tr>\n",
       "    <tr>\n",
       "      <th>29</th>\n",
       "      <td>role_access_grant_unique_assignee_role</td>\n",
       "      <td>UNIQUE</td>\n",
       "      <td>role_id</td>\n",
       "      <td>permissions_role_access_grant</td>\n",
       "      <td>user_id</td>\n",
       "    </tr>\n",
       "    <tr>\n",
       "      <th>30</th>\n",
       "      <td>role_access_grant_unique_assignee_role</td>\n",
       "      <td>UNIQUE</td>\n",
       "      <td>role_id</td>\n",
       "      <td>permissions_role_access_grant</td>\n",
       "      <td>role_id</td>\n",
       "    </tr>\n",
       "    <tr>\n",
       "      <th>31</th>\n",
       "      <td>role_access_grant_unique_assignee_role</td>\n",
       "      <td>UNIQUE</td>\n",
       "      <td>role_id</td>\n",
       "      <td>permissions_role_access_grant</td>\n",
       "      <td>group_id</td>\n",
       "    </tr>\n",
       "  </tbody>\n",
       "</table>\n",
       "</div>"
      ],
      "text/plain": [
       "                                constraint_name constraint_type       column_name             foreign_table_name foreign_column_name\n",
       "0   permissions_role_access_grant_group_id_fkey     FOREIGN KEY          group_id        roles_access_user_group                  id\n",
       "1   permissions_role_access_grant_group_id_fkey     FOREIGN KEY          group_id        roles_access_user_group                  id\n",
       "2   permissions_role_access_grant_group_id_fkey     FOREIGN KEY          group_id        roles_access_user_group                  id\n",
       "3   permissions_role_access_grant_group_id_fkey     FOREIGN KEY          group_id        roles_access_user_group                  id\n",
       "4    permissions_role_access_grant_role_id_fkey     FOREIGN KEY           role_id               permissions_role                  id\n",
       "5    permissions_role_access_grant_user_id_fkey     FOREIGN KEY           user_id                          users         keycloak_id\n",
       "6            permissions_role_access_grant_pkey     PRIMARY KEY                id  permissions_role_access_grant                  id\n",
       "7        role_access_grant_unique_assignee_role          UNIQUE       target_type  permissions_role_access_grant             user_id\n",
       "8        role_access_grant_unique_assignee_role          UNIQUE       target_type  permissions_role_access_grant    target_object_id\n",
       "9        role_access_grant_unique_assignee_role          UNIQUE       target_type  permissions_role_access_grant         target_type\n",
       "10       role_access_grant_unique_assignee_role          UNIQUE       target_type  permissions_role_access_grant            group_id\n",
       "11       role_access_grant_unique_assignee_role          UNIQUE       target_type  permissions_role_access_grant             role_id\n",
       "12       role_access_grant_unique_assignee_role          UNIQUE  target_object_id  permissions_role_access_grant             user_id\n",
       "13       role_access_grant_unique_assignee_role          UNIQUE  target_object_id  permissions_role_access_grant    target_object_id\n",
       "14       role_access_grant_unique_assignee_role          UNIQUE  target_object_id  permissions_role_access_grant         target_type\n",
       "15       role_access_grant_unique_assignee_role          UNIQUE  target_object_id  permissions_role_access_grant            group_id\n",
       "16       role_access_grant_unique_assignee_role          UNIQUE  target_object_id  permissions_role_access_grant             role_id\n",
       "17       role_access_grant_unique_assignee_role          UNIQUE           user_id  permissions_role_access_grant    target_object_id\n",
       "18       role_access_grant_unique_assignee_role          UNIQUE           user_id  permissions_role_access_grant         target_type\n",
       "19       role_access_grant_unique_assignee_role          UNIQUE           user_id  permissions_role_access_grant            group_id\n",
       "20       role_access_grant_unique_assignee_role          UNIQUE           user_id  permissions_role_access_grant             role_id\n",
       "21       role_access_grant_unique_assignee_role          UNIQUE           user_id  permissions_role_access_grant             user_id\n",
       "22       role_access_grant_unique_assignee_role          UNIQUE          group_id  permissions_role_access_grant             user_id\n",
       "23       role_access_grant_unique_assignee_role          UNIQUE          group_id  permissions_role_access_grant    target_object_id\n",
       "24       role_access_grant_unique_assignee_role          UNIQUE          group_id  permissions_role_access_grant         target_type\n",
       "25       role_access_grant_unique_assignee_role          UNIQUE          group_id  permissions_role_access_grant            group_id\n",
       "26       role_access_grant_unique_assignee_role          UNIQUE          group_id  permissions_role_access_grant             role_id\n",
       "27       role_access_grant_unique_assignee_role          UNIQUE           role_id  permissions_role_access_grant         target_type\n",
       "28       role_access_grant_unique_assignee_role          UNIQUE           role_id  permissions_role_access_grant    target_object_id\n",
       "29       role_access_grant_unique_assignee_role          UNIQUE           role_id  permissions_role_access_grant             user_id\n",
       "30       role_access_grant_unique_assignee_role          UNIQUE           role_id  permissions_role_access_grant             role_id\n",
       "31       role_access_grant_unique_assignee_role          UNIQUE           role_id  permissions_role_access_grant            group_id"
      ]
     },
     "metadata": {},
     "output_type": "display_data"
    },
    {
     "data": {
      "text/markdown": [
       "\n",
       "#### Таблица: `permissions_role_override`"
      ],
      "text/plain": [
       "<IPython.core.display.Markdown object>"
      ]
     },
     "metadata": {},
     "output_type": "display_data"
    },
    {
     "data": {
      "text/markdown": [
       "\n",
       "##### Схема:"
      ],
      "text/plain": [
       "<IPython.core.display.Markdown object>"
      ]
     },
     "metadata": {},
     "output_type": "display_data"
    },
    {
     "name": "stderr",
     "output_type": "stream",
     "text": [
      "/tmp/ipykernel_450849/82215137.py:49: UserWarning: pandas only supports SQLAlchemy connectable (engine/connection) or database string URI or sqlite3 DBAPI2 connection. Other DBAPI2 objects are not tested. Please consider using SQLAlchemy.\n",
      "  df = pd.read_sql_query(query, conn)\n"
     ]
    },
    {
     "data": {
      "text/html": [
       "<div>\n",
       "<style scoped>\n",
       "    .dataframe tbody tr th:only-of-type {\n",
       "        vertical-align: middle;\n",
       "    }\n",
       "\n",
       "    .dataframe tbody tr th {\n",
       "        vertical-align: top;\n",
       "    }\n",
       "\n",
       "    .dataframe thead th {\n",
       "        text-align: right;\n",
       "    }\n",
       "</style>\n",
       "<table border=\"1\" class=\"dataframe\">\n",
       "  <thead>\n",
       "    <tr style=\"text-align: right;\">\n",
       "      <th></th>\n",
       "      <th>column_name</th>\n",
       "      <th>data_type</th>\n",
       "      <th>is_nullable</th>\n",
       "      <th>column_default</th>\n",
       "    </tr>\n",
       "  </thead>\n",
       "  <tbody>\n",
       "    <tr>\n",
       "      <th>0</th>\n",
       "      <td>id</td>\n",
       "      <td>integer</td>\n",
       "      <td>NO</td>\n",
       "      <td>nextval('permissions_role_override_id_seq'::re...</td>\n",
       "    </tr>\n",
       "    <tr>\n",
       "      <th>1</th>\n",
       "      <td>target_type</td>\n",
       "      <td>character varying</td>\n",
       "      <td>NO</td>\n",
       "      <td>None</td>\n",
       "    </tr>\n",
       "    <tr>\n",
       "      <th>2</th>\n",
       "      <td>target_object_id</td>\n",
       "      <td>uuid</td>\n",
       "      <td>NO</td>\n",
       "      <td>None</td>\n",
       "    </tr>\n",
       "    <tr>\n",
       "      <th>3</th>\n",
       "      <td>role_ids</td>\n",
       "      <td>ARRAY</td>\n",
       "      <td>NO</td>\n",
       "      <td>None</td>\n",
       "    </tr>\n",
       "    <tr>\n",
       "      <th>4</th>\n",
       "      <td>created_at</td>\n",
       "      <td>timestamp with time zone</td>\n",
       "      <td>NO</td>\n",
       "      <td>None</td>\n",
       "    </tr>\n",
       "    <tr>\n",
       "      <th>5</th>\n",
       "      <td>updated_at</td>\n",
       "      <td>timestamp with time zone</td>\n",
       "      <td>NO</td>\n",
       "      <td>None</td>\n",
       "    </tr>\n",
       "  </tbody>\n",
       "</table>\n",
       "</div>"
      ],
      "text/plain": [
       "        column_name                 data_type is_nullable                                     column_default\n",
       "0                id                   integer          NO  nextval('permissions_role_override_id_seq'::re...\n",
       "1       target_type         character varying          NO                                               None\n",
       "2  target_object_id                      uuid          NO                                               None\n",
       "3          role_ids                     ARRAY          NO                                               None\n",
       "4        created_at  timestamp with time zone          NO                                               None\n",
       "5        updated_at  timestamp with time zone          NO                                               None"
      ]
     },
     "metadata": {},
     "output_type": "display_data"
    },
    {
     "data": {
      "text/markdown": [
       "\n",
       "##### Ограничения (PK, FK):"
      ],
      "text/plain": [
       "<IPython.core.display.Markdown object>"
      ]
     },
     "metadata": {},
     "output_type": "display_data"
    },
    {
     "name": "stderr",
     "output_type": "stream",
     "text": [
      "/tmp/ipykernel_450849/82215137.py:79: UserWarning: pandas only supports SQLAlchemy connectable (engine/connection) or database string URI or sqlite3 DBAPI2 connection. Other DBAPI2 objects are not tested. Please consider using SQLAlchemy.\n",
      "  df = pd.read_sql_query(query, conn)\n"
     ]
    },
    {
     "data": {
      "text/html": [
       "<div>\n",
       "<style scoped>\n",
       "    .dataframe tbody tr th:only-of-type {\n",
       "        vertical-align: middle;\n",
       "    }\n",
       "\n",
       "    .dataframe tbody tr th {\n",
       "        vertical-align: top;\n",
       "    }\n",
       "\n",
       "    .dataframe thead th {\n",
       "        text-align: right;\n",
       "    }\n",
       "</style>\n",
       "<table border=\"1\" class=\"dataframe\">\n",
       "  <thead>\n",
       "    <tr style=\"text-align: right;\">\n",
       "      <th></th>\n",
       "      <th>constraint_name</th>\n",
       "      <th>constraint_type</th>\n",
       "      <th>column_name</th>\n",
       "      <th>foreign_table_name</th>\n",
       "      <th>foreign_column_name</th>\n",
       "    </tr>\n",
       "  </thead>\n",
       "  <tbody>\n",
       "    <tr>\n",
       "      <th>0</th>\n",
       "      <td>permissions_role_override_pkey</td>\n",
       "      <td>PRIMARY KEY</td>\n",
       "      <td>id</td>\n",
       "      <td>permissions_role_override</td>\n",
       "      <td>id</td>\n",
       "    </tr>\n",
       "    <tr>\n",
       "      <th>1</th>\n",
       "      <td>role_override_target_unique</td>\n",
       "      <td>UNIQUE</td>\n",
       "      <td>target_type</td>\n",
       "      <td>permissions_role_override</td>\n",
       "      <td>target_type</td>\n",
       "    </tr>\n",
       "    <tr>\n",
       "      <th>2</th>\n",
       "      <td>role_override_target_unique</td>\n",
       "      <td>UNIQUE</td>\n",
       "      <td>target_type</td>\n",
       "      <td>permissions_role_override</td>\n",
       "      <td>target_object_id</td>\n",
       "    </tr>\n",
       "    <tr>\n",
       "      <th>3</th>\n",
       "      <td>role_override_target_unique</td>\n",
       "      <td>UNIQUE</td>\n",
       "      <td>target_object_id</td>\n",
       "      <td>permissions_role_override</td>\n",
       "      <td>target_type</td>\n",
       "    </tr>\n",
       "    <tr>\n",
       "      <th>4</th>\n",
       "      <td>role_override_target_unique</td>\n",
       "      <td>UNIQUE</td>\n",
       "      <td>target_object_id</td>\n",
       "      <td>permissions_role_override</td>\n",
       "      <td>target_object_id</td>\n",
       "    </tr>\n",
       "  </tbody>\n",
       "</table>\n",
       "</div>"
      ],
      "text/plain": [
       "                  constraint_name constraint_type       column_name         foreign_table_name foreign_column_name\n",
       "0  permissions_role_override_pkey     PRIMARY KEY                id  permissions_role_override                  id\n",
       "1     role_override_target_unique          UNIQUE       target_type  permissions_role_override         target_type\n",
       "2     role_override_target_unique          UNIQUE       target_type  permissions_role_override    target_object_id\n",
       "3     role_override_target_unique          UNIQUE  target_object_id  permissions_role_override         target_type\n",
       "4     role_override_target_unique          UNIQUE  target_object_id  permissions_role_override    target_object_id"
      ]
     },
     "metadata": {},
     "output_type": "display_data"
    },
    {
     "data": {
      "text/markdown": [
       "\n",
       "#### Таблица: `permissions_role_to_user`"
      ],
      "text/plain": [
       "<IPython.core.display.Markdown object>"
      ]
     },
     "metadata": {},
     "output_type": "display_data"
    },
    {
     "data": {
      "text/markdown": [
       "\n",
       "##### Схема:"
      ],
      "text/plain": [
       "<IPython.core.display.Markdown object>"
      ]
     },
     "metadata": {},
     "output_type": "display_data"
    },
    {
     "name": "stderr",
     "output_type": "stream",
     "text": [
      "/tmp/ipykernel_450849/82215137.py:49: UserWarning: pandas only supports SQLAlchemy connectable (engine/connection) or database string URI or sqlite3 DBAPI2 connection. Other DBAPI2 objects are not tested. Please consider using SQLAlchemy.\n",
      "  df = pd.read_sql_query(query, conn)\n"
     ]
    },
    {
     "data": {
      "text/html": [
       "<div>\n",
       "<style scoped>\n",
       "    .dataframe tbody tr th:only-of-type {\n",
       "        vertical-align: middle;\n",
       "    }\n",
       "\n",
       "    .dataframe tbody tr th {\n",
       "        vertical-align: top;\n",
       "    }\n",
       "\n",
       "    .dataframe thead th {\n",
       "        text-align: right;\n",
       "    }\n",
       "</style>\n",
       "<table border=\"1\" class=\"dataframe\">\n",
       "  <thead>\n",
       "    <tr style=\"text-align: right;\">\n",
       "      <th></th>\n",
       "      <th>column_name</th>\n",
       "      <th>data_type</th>\n",
       "      <th>is_nullable</th>\n",
       "      <th>column_default</th>\n",
       "    </tr>\n",
       "  </thead>\n",
       "  <tbody>\n",
       "    <tr>\n",
       "      <th>0</th>\n",
       "      <td>id</td>\n",
       "      <td>integer</td>\n",
       "      <td>NO</td>\n",
       "      <td>nextval('permissions_role_to_user_id_seq'::reg...</td>\n",
       "    </tr>\n",
       "    <tr>\n",
       "      <th>1</th>\n",
       "      <td>role_id</td>\n",
       "      <td>integer</td>\n",
       "      <td>NO</td>\n",
       "      <td>None</td>\n",
       "    </tr>\n",
       "    <tr>\n",
       "      <th>2</th>\n",
       "      <td>user_id</td>\n",
       "      <td>uuid</td>\n",
       "      <td>YES</td>\n",
       "      <td>None</td>\n",
       "    </tr>\n",
       "    <tr>\n",
       "      <th>3</th>\n",
       "      <td>created_at</td>\n",
       "      <td>timestamp with time zone</td>\n",
       "      <td>NO</td>\n",
       "      <td>None</td>\n",
       "    </tr>\n",
       "    <tr>\n",
       "      <th>4</th>\n",
       "      <td>updated_at</td>\n",
       "      <td>timestamp with time zone</td>\n",
       "      <td>NO</td>\n",
       "      <td>None</td>\n",
       "    </tr>\n",
       "    <tr>\n",
       "      <th>5</th>\n",
       "      <td>group_id</td>\n",
       "      <td>uuid</td>\n",
       "      <td>YES</td>\n",
       "      <td>None</td>\n",
       "    </tr>\n",
       "  </tbody>\n",
       "</table>\n",
       "</div>"
      ],
      "text/plain": [
       "  column_name                 data_type is_nullable                                     column_default\n",
       "0          id                   integer          NO  nextval('permissions_role_to_user_id_seq'::reg...\n",
       "1     role_id                   integer          NO                                               None\n",
       "2     user_id                      uuid         YES                                               None\n",
       "3  created_at  timestamp with time zone          NO                                               None\n",
       "4  updated_at  timestamp with time zone          NO                                               None\n",
       "5    group_id                      uuid         YES                                               None"
      ]
     },
     "metadata": {},
     "output_type": "display_data"
    },
    {
     "data": {
      "text/markdown": [
       "\n",
       "##### Ограничения (PK, FK):"
      ],
      "text/plain": [
       "<IPython.core.display.Markdown object>"
      ]
     },
     "metadata": {},
     "output_type": "display_data"
    },
    {
     "name": "stderr",
     "output_type": "stream",
     "text": [
      "/tmp/ipykernel_450849/82215137.py:79: UserWarning: pandas only supports SQLAlchemy connectable (engine/connection) or database string URI or sqlite3 DBAPI2 connection. Other DBAPI2 objects are not tested. Please consider using SQLAlchemy.\n",
      "  df = pd.read_sql_query(query, conn)\n"
     ]
    },
    {
     "data": {
      "text/html": [
       "<div>\n",
       "<style scoped>\n",
       "    .dataframe tbody tr th:only-of-type {\n",
       "        vertical-align: middle;\n",
       "    }\n",
       "\n",
       "    .dataframe tbody tr th {\n",
       "        vertical-align: top;\n",
       "    }\n",
       "\n",
       "    .dataframe thead th {\n",
       "        text-align: right;\n",
       "    }\n",
       "</style>\n",
       "<table border=\"1\" class=\"dataframe\">\n",
       "  <thead>\n",
       "    <tr style=\"text-align: right;\">\n",
       "      <th></th>\n",
       "      <th>constraint_name</th>\n",
       "      <th>constraint_type</th>\n",
       "      <th>column_name</th>\n",
       "      <th>foreign_table_name</th>\n",
       "      <th>foreign_column_name</th>\n",
       "    </tr>\n",
       "  </thead>\n",
       "  <tbody>\n",
       "    <tr>\n",
       "      <th>0</th>\n",
       "      <td>permissions_role_access_grant_group_id_fkey</td>\n",
       "      <td>FOREIGN KEY</td>\n",
       "      <td>group_id</td>\n",
       "      <td>roles_access_user_group</td>\n",
       "      <td>id</td>\n",
       "    </tr>\n",
       "    <tr>\n",
       "      <th>1</th>\n",
       "      <td>permissions_role_access_grant_group_id_fkey</td>\n",
       "      <td>FOREIGN KEY</td>\n",
       "      <td>group_id</td>\n",
       "      <td>roles_access_user_group</td>\n",
       "      <td>id</td>\n",
       "    </tr>\n",
       "    <tr>\n",
       "      <th>2</th>\n",
       "      <td>permissions_role_access_grant_group_id_fkey</td>\n",
       "      <td>FOREIGN KEY</td>\n",
       "      <td>group_id</td>\n",
       "      <td>roles_access_user_group</td>\n",
       "      <td>id</td>\n",
       "    </tr>\n",
       "    <tr>\n",
       "      <th>3</th>\n",
       "      <td>permissions_role_access_grant_group_id_fkey</td>\n",
       "      <td>FOREIGN KEY</td>\n",
       "      <td>group_id</td>\n",
       "      <td>roles_access_user_group</td>\n",
       "      <td>id</td>\n",
       "    </tr>\n",
       "    <tr>\n",
       "      <th>4</th>\n",
       "      <td>permissions_role_to_user_role_id_fkey</td>\n",
       "      <td>FOREIGN KEY</td>\n",
       "      <td>role_id</td>\n",
       "      <td>permissions_role</td>\n",
       "      <td>id</td>\n",
       "    </tr>\n",
       "    <tr>\n",
       "      <th>5</th>\n",
       "      <td>permissions_role_to_user_user_id_fkey</td>\n",
       "      <td>FOREIGN KEY</td>\n",
       "      <td>user_id</td>\n",
       "      <td>users</td>\n",
       "      <td>keycloak_id</td>\n",
       "    </tr>\n",
       "    <tr>\n",
       "      <th>6</th>\n",
       "      <td>permissions_role_to_user_pkey</td>\n",
       "      <td>PRIMARY KEY</td>\n",
       "      <td>id</td>\n",
       "      <td>permissions_role_to_user</td>\n",
       "      <td>id</td>\n",
       "    </tr>\n",
       "  </tbody>\n",
       "</table>\n",
       "</div>"
      ],
      "text/plain": [
       "                               constraint_name constraint_type column_name        foreign_table_name foreign_column_name\n",
       "0  permissions_role_access_grant_group_id_fkey     FOREIGN KEY    group_id   roles_access_user_group                  id\n",
       "1  permissions_role_access_grant_group_id_fkey     FOREIGN KEY    group_id   roles_access_user_group                  id\n",
       "2  permissions_role_access_grant_group_id_fkey     FOREIGN KEY    group_id   roles_access_user_group                  id\n",
       "3  permissions_role_access_grant_group_id_fkey     FOREIGN KEY    group_id   roles_access_user_group                  id\n",
       "4        permissions_role_to_user_role_id_fkey     FOREIGN KEY     role_id          permissions_role                  id\n",
       "5        permissions_role_to_user_user_id_fkey     FOREIGN KEY     user_id                     users         keycloak_id\n",
       "6                permissions_role_to_user_pkey     PRIMARY KEY          id  permissions_role_to_user                  id"
      ]
     },
     "metadata": {},
     "output_type": "display_data"
    },
    {
     "data": {
      "text/markdown": [
       "\n",
       "#### Таблица: `roles_access_user_group`"
      ],
      "text/plain": [
       "<IPython.core.display.Markdown object>"
      ]
     },
     "metadata": {},
     "output_type": "display_data"
    },
    {
     "data": {
      "text/markdown": [
       "\n",
       "##### Схема:"
      ],
      "text/plain": [
       "<IPython.core.display.Markdown object>"
      ]
     },
     "metadata": {},
     "output_type": "display_data"
    },
    {
     "name": "stderr",
     "output_type": "stream",
     "text": [
      "/tmp/ipykernel_450849/82215137.py:49: UserWarning: pandas only supports SQLAlchemy connectable (engine/connection) or database string URI or sqlite3 DBAPI2 connection. Other DBAPI2 objects are not tested. Please consider using SQLAlchemy.\n",
      "  df = pd.read_sql_query(query, conn)\n"
     ]
    },
    {
     "data": {
      "text/html": [
       "<div>\n",
       "<style scoped>\n",
       "    .dataframe tbody tr th:only-of-type {\n",
       "        vertical-align: middle;\n",
       "    }\n",
       "\n",
       "    .dataframe tbody tr th {\n",
       "        vertical-align: top;\n",
       "    }\n",
       "\n",
       "    .dataframe thead th {\n",
       "        text-align: right;\n",
       "    }\n",
       "</style>\n",
       "<table border=\"1\" class=\"dataframe\">\n",
       "  <thead>\n",
       "    <tr style=\"text-align: right;\">\n",
       "      <th></th>\n",
       "      <th>column_name</th>\n",
       "      <th>data_type</th>\n",
       "      <th>is_nullable</th>\n",
       "      <th>column_default</th>\n",
       "    </tr>\n",
       "  </thead>\n",
       "  <tbody>\n",
       "    <tr>\n",
       "      <th>0</th>\n",
       "      <td>id</td>\n",
       "      <td>uuid</td>\n",
       "      <td>NO</td>\n",
       "      <td>None</td>\n",
       "    </tr>\n",
       "    <tr>\n",
       "      <th>1</th>\n",
       "      <td>name</td>\n",
       "      <td>text</td>\n",
       "      <td>NO</td>\n",
       "      <td>None</td>\n",
       "    </tr>\n",
       "    <tr>\n",
       "      <th>2</th>\n",
       "      <td>display_name</td>\n",
       "      <td>text</td>\n",
       "      <td>YES</td>\n",
       "      <td>None</td>\n",
       "    </tr>\n",
       "    <tr>\n",
       "      <th>3</th>\n",
       "      <td>is_system_defined</td>\n",
       "      <td>boolean</td>\n",
       "      <td>NO</td>\n",
       "      <td>None</td>\n",
       "    </tr>\n",
       "    <tr>\n",
       "      <th>4</th>\n",
       "      <td>owner_service_name</td>\n",
       "      <td>text</td>\n",
       "      <td>NO</td>\n",
       "      <td>None</td>\n",
       "    </tr>\n",
       "    <tr>\n",
       "      <th>5</th>\n",
       "      <td>owner_service_entity_id</td>\n",
       "      <td>uuid</td>\n",
       "      <td>YES</td>\n",
       "      <td>None</td>\n",
       "    </tr>\n",
       "    <tr>\n",
       "      <th>6</th>\n",
       "      <td>parent_id</td>\n",
       "      <td>uuid</td>\n",
       "      <td>YES</td>\n",
       "      <td>None</td>\n",
       "    </tr>\n",
       "  </tbody>\n",
       "</table>\n",
       "</div>"
      ],
      "text/plain": [
       "               column_name data_type is_nullable column_default\n",
       "0                       id      uuid          NO           None\n",
       "1                     name      text          NO           None\n",
       "2             display_name      text         YES           None\n",
       "3        is_system_defined   boolean          NO           None\n",
       "4       owner_service_name      text          NO           None\n",
       "5  owner_service_entity_id      uuid         YES           None\n",
       "6                parent_id      uuid         YES           None"
      ]
     },
     "metadata": {},
     "output_type": "display_data"
    },
    {
     "data": {
      "text/markdown": [
       "\n",
       "##### Ограничения (PK, FK):"
      ],
      "text/plain": [
       "<IPython.core.display.Markdown object>"
      ]
     },
     "metadata": {},
     "output_type": "display_data"
    },
    {
     "name": "stderr",
     "output_type": "stream",
     "text": [
      "/tmp/ipykernel_450849/82215137.py:79: UserWarning: pandas only supports SQLAlchemy connectable (engine/connection) or database string URI or sqlite3 DBAPI2 connection. Other DBAPI2 objects are not tested. Please consider using SQLAlchemy.\n",
      "  df = pd.read_sql_query(query, conn)\n"
     ]
    },
    {
     "data": {
      "text/html": [
       "<div>\n",
       "<style scoped>\n",
       "    .dataframe tbody tr th:only-of-type {\n",
       "        vertical-align: middle;\n",
       "    }\n",
       "\n",
       "    .dataframe tbody tr th {\n",
       "        vertical-align: top;\n",
       "    }\n",
       "\n",
       "    .dataframe thead th {\n",
       "        text-align: right;\n",
       "    }\n",
       "</style>\n",
       "<table border=\"1\" class=\"dataframe\">\n",
       "  <thead>\n",
       "    <tr style=\"text-align: right;\">\n",
       "      <th></th>\n",
       "      <th>constraint_name</th>\n",
       "      <th>constraint_type</th>\n",
       "      <th>column_name</th>\n",
       "      <th>foreign_table_name</th>\n",
       "      <th>foreign_column_name</th>\n",
       "    </tr>\n",
       "  </thead>\n",
       "  <tbody>\n",
       "    <tr>\n",
       "      <th>0</th>\n",
       "      <td>roles_access_user_group_parent_id_fkey</td>\n",
       "      <td>FOREIGN KEY</td>\n",
       "      <td>parent_id</td>\n",
       "      <td>roles_access_user_group</td>\n",
       "      <td>id</td>\n",
       "    </tr>\n",
       "    <tr>\n",
       "      <th>1</th>\n",
       "      <td>roles_access_user_group_pkey</td>\n",
       "      <td>PRIMARY KEY</td>\n",
       "      <td>id</td>\n",
       "      <td>roles_access_user_group</td>\n",
       "      <td>id</td>\n",
       "    </tr>\n",
       "    <tr>\n",
       "      <th>2</th>\n",
       "      <td>roles_access_user_group_name_key</td>\n",
       "      <td>UNIQUE</td>\n",
       "      <td>name</td>\n",
       "      <td>roles_access_user_group</td>\n",
       "      <td>name</td>\n",
       "    </tr>\n",
       "  </tbody>\n",
       "</table>\n",
       "</div>"
      ],
      "text/plain": [
       "                          constraint_name constraint_type column_name       foreign_table_name foreign_column_name\n",
       "0  roles_access_user_group_parent_id_fkey     FOREIGN KEY   parent_id  roles_access_user_group                  id\n",
       "1            roles_access_user_group_pkey     PRIMARY KEY          id  roles_access_user_group                  id\n",
       "2        roles_access_user_group_name_key          UNIQUE        name  roles_access_user_group                name"
      ]
     },
     "metadata": {},
     "output_type": "display_data"
    },
    {
     "data": {
      "text/markdown": [
       "\n",
       "#### Таблица: `roles_access_user_to_group`"
      ],
      "text/plain": [
       "<IPython.core.display.Markdown object>"
      ]
     },
     "metadata": {},
     "output_type": "display_data"
    },
    {
     "data": {
      "text/markdown": [
       "\n",
       "##### Схема:"
      ],
      "text/plain": [
       "<IPython.core.display.Markdown object>"
      ]
     },
     "metadata": {},
     "output_type": "display_data"
    },
    {
     "name": "stderr",
     "output_type": "stream",
     "text": [
      "/tmp/ipykernel_450849/82215137.py:49: UserWarning: pandas only supports SQLAlchemy connectable (engine/connection) or database string URI or sqlite3 DBAPI2 connection. Other DBAPI2 objects are not tested. Please consider using SQLAlchemy.\n",
      "  df = pd.read_sql_query(query, conn)\n"
     ]
    },
    {
     "data": {
      "text/html": [
       "<div>\n",
       "<style scoped>\n",
       "    .dataframe tbody tr th:only-of-type {\n",
       "        vertical-align: middle;\n",
       "    }\n",
       "\n",
       "    .dataframe tbody tr th {\n",
       "        vertical-align: top;\n",
       "    }\n",
       "\n",
       "    .dataframe thead th {\n",
       "        text-align: right;\n",
       "    }\n",
       "</style>\n",
       "<table border=\"1\" class=\"dataframe\">\n",
       "  <thead>\n",
       "    <tr style=\"text-align: right;\">\n",
       "      <th></th>\n",
       "      <th>column_name</th>\n",
       "      <th>data_type</th>\n",
       "      <th>is_nullable</th>\n",
       "      <th>column_default</th>\n",
       "    </tr>\n",
       "  </thead>\n",
       "  <tbody>\n",
       "    <tr>\n",
       "      <th>0</th>\n",
       "      <td>id</td>\n",
       "      <td>integer</td>\n",
       "      <td>NO</td>\n",
       "      <td>nextval('roles_access_user_to_group_id_seq'::r...</td>\n",
       "    </tr>\n",
       "    <tr>\n",
       "      <th>1</th>\n",
       "      <td>user_keycloak_id</td>\n",
       "      <td>uuid</td>\n",
       "      <td>NO</td>\n",
       "      <td>None</td>\n",
       "    </tr>\n",
       "    <tr>\n",
       "      <th>2</th>\n",
       "      <td>user_group_id</td>\n",
       "      <td>uuid</td>\n",
       "      <td>NO</td>\n",
       "      <td>None</td>\n",
       "    </tr>\n",
       "    <tr>\n",
       "      <th>3</th>\n",
       "      <td>is_system_defined</td>\n",
       "      <td>boolean</td>\n",
       "      <td>NO</td>\n",
       "      <td>None</td>\n",
       "    </tr>\n",
       "  </tbody>\n",
       "</table>\n",
       "</div>"
      ],
      "text/plain": [
       "         column_name data_type is_nullable                                     column_default\n",
       "0                 id   integer          NO  nextval('roles_access_user_to_group_id_seq'::r...\n",
       "1   user_keycloak_id      uuid          NO                                               None\n",
       "2      user_group_id      uuid          NO                                               None\n",
       "3  is_system_defined   boolean          NO                                               None"
      ]
     },
     "metadata": {},
     "output_type": "display_data"
    },
    {
     "data": {
      "text/markdown": [
       "\n",
       "##### Ограничения (PK, FK):"
      ],
      "text/plain": [
       "<IPython.core.display.Markdown object>"
      ]
     },
     "metadata": {},
     "output_type": "display_data"
    },
    {
     "name": "stderr",
     "output_type": "stream",
     "text": [
      "/tmp/ipykernel_450849/82215137.py:79: UserWarning: pandas only supports SQLAlchemy connectable (engine/connection) or database string URI or sqlite3 DBAPI2 connection. Other DBAPI2 objects are not tested. Please consider using SQLAlchemy.\n",
      "  df = pd.read_sql_query(query, conn)\n"
     ]
    },
    {
     "data": {
      "text/html": [
       "<div>\n",
       "<style scoped>\n",
       "    .dataframe tbody tr th:only-of-type {\n",
       "        vertical-align: middle;\n",
       "    }\n",
       "\n",
       "    .dataframe tbody tr th {\n",
       "        vertical-align: top;\n",
       "    }\n",
       "\n",
       "    .dataframe thead th {\n",
       "        text-align: right;\n",
       "    }\n",
       "</style>\n",
       "<table border=\"1\" class=\"dataframe\">\n",
       "  <thead>\n",
       "    <tr style=\"text-align: right;\">\n",
       "      <th></th>\n",
       "      <th>constraint_name</th>\n",
       "      <th>constraint_type</th>\n",
       "      <th>column_name</th>\n",
       "      <th>foreign_table_name</th>\n",
       "      <th>foreign_column_name</th>\n",
       "    </tr>\n",
       "  </thead>\n",
       "  <tbody>\n",
       "    <tr>\n",
       "      <th>0</th>\n",
       "      <td>roles_access_user_to_group_user_group_id_fkey</td>\n",
       "      <td>FOREIGN KEY</td>\n",
       "      <td>user_group_id</td>\n",
       "      <td>roles_access_user_group</td>\n",
       "      <td>id</td>\n",
       "    </tr>\n",
       "    <tr>\n",
       "      <th>1</th>\n",
       "      <td>roles_access_user_to_group_pkey</td>\n",
       "      <td>PRIMARY KEY</td>\n",
       "      <td>id</td>\n",
       "      <td>roles_access_user_to_group</td>\n",
       "      <td>id</td>\n",
       "    </tr>\n",
       "    <tr>\n",
       "      <th>2</th>\n",
       "      <td>_user_keycloak_id_user_group_id_uc</td>\n",
       "      <td>UNIQUE</td>\n",
       "      <td>user_keycloak_id</td>\n",
       "      <td>roles_access_user_to_group</td>\n",
       "      <td>user_keycloak_id</td>\n",
       "    </tr>\n",
       "    <tr>\n",
       "      <th>3</th>\n",
       "      <td>_user_keycloak_id_user_group_id_uc</td>\n",
       "      <td>UNIQUE</td>\n",
       "      <td>user_keycloak_id</td>\n",
       "      <td>roles_access_user_to_group</td>\n",
       "      <td>user_group_id</td>\n",
       "    </tr>\n",
       "    <tr>\n",
       "      <th>4</th>\n",
       "      <td>_user_keycloak_id_user_group_id_uc</td>\n",
       "      <td>UNIQUE</td>\n",
       "      <td>user_group_id</td>\n",
       "      <td>roles_access_user_to_group</td>\n",
       "      <td>user_keycloak_id</td>\n",
       "    </tr>\n",
       "    <tr>\n",
       "      <th>5</th>\n",
       "      <td>_user_keycloak_id_user_group_id_uc</td>\n",
       "      <td>UNIQUE</td>\n",
       "      <td>user_group_id</td>\n",
       "      <td>roles_access_user_to_group</td>\n",
       "      <td>user_group_id</td>\n",
       "    </tr>\n",
       "  </tbody>\n",
       "</table>\n",
       "</div>"
      ],
      "text/plain": [
       "                                 constraint_name constraint_type       column_name          foreign_table_name foreign_column_name\n",
       "0  roles_access_user_to_group_user_group_id_fkey     FOREIGN KEY     user_group_id     roles_access_user_group                  id\n",
       "1                roles_access_user_to_group_pkey     PRIMARY KEY                id  roles_access_user_to_group                  id\n",
       "2             _user_keycloak_id_user_group_id_uc          UNIQUE  user_keycloak_id  roles_access_user_to_group    user_keycloak_id\n",
       "3             _user_keycloak_id_user_group_id_uc          UNIQUE  user_keycloak_id  roles_access_user_to_group       user_group_id\n",
       "4             _user_keycloak_id_user_group_id_uc          UNIQUE     user_group_id  roles_access_user_to_group    user_keycloak_id\n",
       "5             _user_keycloak_id_user_group_id_uc          UNIQUE     user_group_id  roles_access_user_to_group       user_group_id"
      ]
     },
     "metadata": {},
     "output_type": "display_data"
    },
    {
     "data": {
      "text/markdown": [
       "\n",
       "#### Таблица: `sites_serviceobject`"
      ],
      "text/plain": [
       "<IPython.core.display.Markdown object>"
      ]
     },
     "metadata": {},
     "output_type": "display_data"
    },
    {
     "data": {
      "text/markdown": [
       "\n",
       "##### Схема:"
      ],
      "text/plain": [
       "<IPython.core.display.Markdown object>"
      ]
     },
     "metadata": {},
     "output_type": "display_data"
    },
    {
     "name": "stderr",
     "output_type": "stream",
     "text": [
      "/tmp/ipykernel_450849/82215137.py:49: UserWarning: pandas only supports SQLAlchemy connectable (engine/connection) or database string URI or sqlite3 DBAPI2 connection. Other DBAPI2 objects are not tested. Please consider using SQLAlchemy.\n",
      "  df = pd.read_sql_query(query, conn)\n"
     ]
    },
    {
     "data": {
      "text/html": [
       "<div>\n",
       "<style scoped>\n",
       "    .dataframe tbody tr th:only-of-type {\n",
       "        vertical-align: middle;\n",
       "    }\n",
       "\n",
       "    .dataframe tbody tr th {\n",
       "        vertical-align: top;\n",
       "    }\n",
       "\n",
       "    .dataframe thead th {\n",
       "        text-align: right;\n",
       "    }\n",
       "</style>\n",
       "<table border=\"1\" class=\"dataframe\">\n",
       "  <thead>\n",
       "    <tr style=\"text-align: right;\">\n",
       "      <th></th>\n",
       "      <th>column_name</th>\n",
       "      <th>data_type</th>\n",
       "      <th>is_nullable</th>\n",
       "      <th>column_default</th>\n",
       "    </tr>\n",
       "  </thead>\n",
       "  <tbody>\n",
       "    <tr>\n",
       "      <th>0</th>\n",
       "      <td>id</td>\n",
       "      <td>uuid</td>\n",
       "      <td>NO</td>\n",
       "      <td>None</td>\n",
       "    </tr>\n",
       "    <tr>\n",
       "      <th>1</th>\n",
       "      <td>name</td>\n",
       "      <td>character varying</td>\n",
       "      <td>NO</td>\n",
       "      <td>None</td>\n",
       "    </tr>\n",
       "    <tr>\n",
       "      <th>2</th>\n",
       "      <td>slug</td>\n",
       "      <td>character varying</td>\n",
       "      <td>NO</td>\n",
       "      <td>None</td>\n",
       "    </tr>\n",
       "    <tr>\n",
       "      <th>3</th>\n",
       "      <td>type</td>\n",
       "      <td>character varying</td>\n",
       "      <td>NO</td>\n",
       "      <td>None</td>\n",
       "    </tr>\n",
       "    <tr>\n",
       "      <th>4</th>\n",
       "      <td>navbar_order</td>\n",
       "      <td>integer</td>\n",
       "      <td>YES</td>\n",
       "      <td>None</td>\n",
       "    </tr>\n",
       "    <tr>\n",
       "      <th>5</th>\n",
       "      <td>additional</td>\n",
       "      <td>json</td>\n",
       "      <td>NO</td>\n",
       "      <td>None</td>\n",
       "    </tr>\n",
       "    <tr>\n",
       "      <th>6</th>\n",
       "      <td>external_id</td>\n",
       "      <td>character varying</td>\n",
       "      <td>YES</td>\n",
       "      <td>None</td>\n",
       "    </tr>\n",
       "    <tr>\n",
       "      <th>7</th>\n",
       "      <td>site_id</td>\n",
       "      <td>uuid</td>\n",
       "      <td>NO</td>\n",
       "      <td>None</td>\n",
       "    </tr>\n",
       "    <tr>\n",
       "      <th>8</th>\n",
       "      <td>parent_id</td>\n",
       "      <td>uuid</td>\n",
       "      <td>YES</td>\n",
       "      <td>None</td>\n",
       "    </tr>\n",
       "  </tbody>\n",
       "</table>\n",
       "</div>"
      ],
      "text/plain": [
       "    column_name          data_type is_nullable column_default\n",
       "0            id               uuid          NO           None\n",
       "1          name  character varying          NO           None\n",
       "2          slug  character varying          NO           None\n",
       "3          type  character varying          NO           None\n",
       "4  navbar_order            integer         YES           None\n",
       "5    additional               json          NO           None\n",
       "6   external_id  character varying         YES           None\n",
       "7       site_id               uuid          NO           None\n",
       "8     parent_id               uuid         YES           None"
      ]
     },
     "metadata": {},
     "output_type": "display_data"
    },
    {
     "data": {
      "text/markdown": [
       "\n",
       "##### Ограничения (PK, FK):"
      ],
      "text/plain": [
       "<IPython.core.display.Markdown object>"
      ]
     },
     "metadata": {},
     "output_type": "display_data"
    },
    {
     "name": "stderr",
     "output_type": "stream",
     "text": [
      "/tmp/ipykernel_450849/82215137.py:79: UserWarning: pandas only supports SQLAlchemy connectable (engine/connection) or database string URI or sqlite3 DBAPI2 connection. Other DBAPI2 objects are not tested. Please consider using SQLAlchemy.\n",
      "  df = pd.read_sql_query(query, conn)\n"
     ]
    },
    {
     "data": {
      "text/html": [
       "<div>\n",
       "<style scoped>\n",
       "    .dataframe tbody tr th:only-of-type {\n",
       "        vertical-align: middle;\n",
       "    }\n",
       "\n",
       "    .dataframe tbody tr th {\n",
       "        vertical-align: top;\n",
       "    }\n",
       "\n",
       "    .dataframe thead th {\n",
       "        text-align: right;\n",
       "    }\n",
       "</style>\n",
       "<table border=\"1\" class=\"dataframe\">\n",
       "  <thead>\n",
       "    <tr style=\"text-align: right;\">\n",
       "      <th></th>\n",
       "      <th>constraint_name</th>\n",
       "      <th>constraint_type</th>\n",
       "      <th>column_name</th>\n",
       "      <th>foreign_table_name</th>\n",
       "      <th>foreign_column_name</th>\n",
       "    </tr>\n",
       "  </thead>\n",
       "  <tbody>\n",
       "    <tr>\n",
       "      <th>0</th>\n",
       "      <td>sites_serviceobject_parent_id_fkey</td>\n",
       "      <td>FOREIGN KEY</td>\n",
       "      <td>parent_id</td>\n",
       "      <td>sites_serviceobject</td>\n",
       "      <td>id</td>\n",
       "    </tr>\n",
       "    <tr>\n",
       "      <th>1</th>\n",
       "      <td>sites_serviceobject_site_id_fkey</td>\n",
       "      <td>FOREIGN KEY</td>\n",
       "      <td>site_id</td>\n",
       "      <td>sites_site</td>\n",
       "      <td>id</td>\n",
       "    </tr>\n",
       "    <tr>\n",
       "      <th>2</th>\n",
       "      <td>sites_serviceobject_pkey</td>\n",
       "      <td>PRIMARY KEY</td>\n",
       "      <td>id</td>\n",
       "      <td>sites_serviceobject</td>\n",
       "      <td>id</td>\n",
       "    </tr>\n",
       "    <tr>\n",
       "      <th>3</th>\n",
       "      <td>type_external_id_unique_constraint</td>\n",
       "      <td>UNIQUE</td>\n",
       "      <td>type</td>\n",
       "      <td>sites_serviceobject</td>\n",
       "      <td>external_id</td>\n",
       "    </tr>\n",
       "    <tr>\n",
       "      <th>4</th>\n",
       "      <td>type_external_id_unique_constraint</td>\n",
       "      <td>UNIQUE</td>\n",
       "      <td>type</td>\n",
       "      <td>sites_serviceobject</td>\n",
       "      <td>type</td>\n",
       "    </tr>\n",
       "    <tr>\n",
       "      <th>5</th>\n",
       "      <td>type_external_id_unique_constraint</td>\n",
       "      <td>UNIQUE</td>\n",
       "      <td>external_id</td>\n",
       "      <td>sites_serviceobject</td>\n",
       "      <td>type</td>\n",
       "    </tr>\n",
       "    <tr>\n",
       "      <th>6</th>\n",
       "      <td>type_external_id_unique_constraint</td>\n",
       "      <td>UNIQUE</td>\n",
       "      <td>external_id</td>\n",
       "      <td>sites_serviceobject</td>\n",
       "      <td>external_id</td>\n",
       "    </tr>\n",
       "  </tbody>\n",
       "</table>\n",
       "</div>"
      ],
      "text/plain": [
       "                      constraint_name constraint_type  column_name   foreign_table_name foreign_column_name\n",
       "0  sites_serviceobject_parent_id_fkey     FOREIGN KEY    parent_id  sites_serviceobject                  id\n",
       "1    sites_serviceobject_site_id_fkey     FOREIGN KEY      site_id           sites_site                  id\n",
       "2            sites_serviceobject_pkey     PRIMARY KEY           id  sites_serviceobject                  id\n",
       "3  type_external_id_unique_constraint          UNIQUE         type  sites_serviceobject         external_id\n",
       "4  type_external_id_unique_constraint          UNIQUE         type  sites_serviceobject                type\n",
       "5  type_external_id_unique_constraint          UNIQUE  external_id  sites_serviceobject                type\n",
       "6  type_external_id_unique_constraint          UNIQUE  external_id  sites_serviceobject         external_id"
      ]
     },
     "metadata": {},
     "output_type": "display_data"
    },
    {
     "data": {
      "text/markdown": [
       "\n",
       "#### Таблица: `sites_site`"
      ],
      "text/plain": [
       "<IPython.core.display.Markdown object>"
      ]
     },
     "metadata": {},
     "output_type": "display_data"
    },
    {
     "data": {
      "text/markdown": [
       "\n",
       "##### Схема:"
      ],
      "text/plain": [
       "<IPython.core.display.Markdown object>"
      ]
     },
     "metadata": {},
     "output_type": "display_data"
    },
    {
     "name": "stderr",
     "output_type": "stream",
     "text": [
      "/tmp/ipykernel_450849/82215137.py:49: UserWarning: pandas only supports SQLAlchemy connectable (engine/connection) or database string URI or sqlite3 DBAPI2 connection. Other DBAPI2 objects are not tested. Please consider using SQLAlchemy.\n",
      "  df = pd.read_sql_query(query, conn)\n"
     ]
    },
    {
     "data": {
      "text/html": [
       "<div>\n",
       "<style scoped>\n",
       "    .dataframe tbody tr th:only-of-type {\n",
       "        vertical-align: middle;\n",
       "    }\n",
       "\n",
       "    .dataframe tbody tr th {\n",
       "        vertical-align: top;\n",
       "    }\n",
       "\n",
       "    .dataframe thead th {\n",
       "        text-align: right;\n",
       "    }\n",
       "</style>\n",
       "<table border=\"1\" class=\"dataframe\">\n",
       "  <thead>\n",
       "    <tr style=\"text-align: right;\">\n",
       "      <th></th>\n",
       "      <th>column_name</th>\n",
       "      <th>data_type</th>\n",
       "      <th>is_nullable</th>\n",
       "      <th>column_default</th>\n",
       "    </tr>\n",
       "  </thead>\n",
       "  <tbody>\n",
       "    <tr>\n",
       "      <th>0</th>\n",
       "      <td>id</td>\n",
       "      <td>uuid</td>\n",
       "      <td>NO</td>\n",
       "      <td>None</td>\n",
       "    </tr>\n",
       "    <tr>\n",
       "      <th>1</th>\n",
       "      <td>name</td>\n",
       "      <td>character varying</td>\n",
       "      <td>NO</td>\n",
       "      <td>None</td>\n",
       "    </tr>\n",
       "    <tr>\n",
       "      <th>2</th>\n",
       "      <td>description</td>\n",
       "      <td>character varying</td>\n",
       "      <td>NO</td>\n",
       "      <td>None</td>\n",
       "    </tr>\n",
       "    <tr>\n",
       "      <th>3</th>\n",
       "      <td>slug</td>\n",
       "      <td>character varying</td>\n",
       "      <td>NO</td>\n",
       "      <td>None</td>\n",
       "    </tr>\n",
       "    <tr>\n",
       "      <th>4</th>\n",
       "      <td>status</td>\n",
       "      <td>character varying</td>\n",
       "      <td>NO</td>\n",
       "      <td>None</td>\n",
       "    </tr>\n",
       "    <tr>\n",
       "      <th>5</th>\n",
       "      <td>is_navigation_visible</td>\n",
       "      <td>boolean</td>\n",
       "      <td>NO</td>\n",
       "      <td>None</td>\n",
       "    </tr>\n",
       "    <tr>\n",
       "      <th>6</th>\n",
       "      <td>created_at</td>\n",
       "      <td>timestamp with time zone</td>\n",
       "      <td>NO</td>\n",
       "      <td>None</td>\n",
       "    </tr>\n",
       "    <tr>\n",
       "      <th>7</th>\n",
       "      <td>updated_at</td>\n",
       "      <td>timestamp with time zone</td>\n",
       "      <td>YES</td>\n",
       "      <td>None</td>\n",
       "    </tr>\n",
       "    <tr>\n",
       "      <th>8</th>\n",
       "      <td>filestorage_root_folder_id</td>\n",
       "      <td>uuid</td>\n",
       "      <td>YES</td>\n",
       "      <td>None</td>\n",
       "    </tr>\n",
       "    <tr>\n",
       "      <th>9</th>\n",
       "      <td>parent_id</td>\n",
       "      <td>uuid</td>\n",
       "      <td>YES</td>\n",
       "      <td>None</td>\n",
       "    </tr>\n",
       "    <tr>\n",
       "      <th>10</th>\n",
       "      <td>created_by_id</td>\n",
       "      <td>uuid</td>\n",
       "      <td>YES</td>\n",
       "      <td>None</td>\n",
       "    </tr>\n",
       "    <tr>\n",
       "      <th>11</th>\n",
       "      <td>updated_by_id</td>\n",
       "      <td>uuid</td>\n",
       "      <td>YES</td>\n",
       "      <td>None</td>\n",
       "    </tr>\n",
       "  </tbody>\n",
       "</table>\n",
       "</div>"
      ],
      "text/plain": [
       "                   column_name                 data_type is_nullable column_default\n",
       "0                           id                      uuid          NO           None\n",
       "1                         name         character varying          NO           None\n",
       "2                  description         character varying          NO           None\n",
       "3                         slug         character varying          NO           None\n",
       "4                       status         character varying          NO           None\n",
       "5        is_navigation_visible                   boolean          NO           None\n",
       "6                   created_at  timestamp with time zone          NO           None\n",
       "7                   updated_at  timestamp with time zone         YES           None\n",
       "8   filestorage_root_folder_id                      uuid         YES           None\n",
       "9                    parent_id                      uuid         YES           None\n",
       "10               created_by_id                      uuid         YES           None\n",
       "11               updated_by_id                      uuid         YES           None"
      ]
     },
     "metadata": {},
     "output_type": "display_data"
    },
    {
     "data": {
      "text/markdown": [
       "\n",
       "##### Ограничения (PK, FK):"
      ],
      "text/plain": [
       "<IPython.core.display.Markdown object>"
      ]
     },
     "metadata": {},
     "output_type": "display_data"
    },
    {
     "name": "stderr",
     "output_type": "stream",
     "text": [
      "/tmp/ipykernel_450849/82215137.py:79: UserWarning: pandas only supports SQLAlchemy connectable (engine/connection) or database string URI or sqlite3 DBAPI2 connection. Other DBAPI2 objects are not tested. Please consider using SQLAlchemy.\n",
      "  df = pd.read_sql_query(query, conn)\n"
     ]
    },
    {
     "data": {
      "text/html": [
       "<div>\n",
       "<style scoped>\n",
       "    .dataframe tbody tr th:only-of-type {\n",
       "        vertical-align: middle;\n",
       "    }\n",
       "\n",
       "    .dataframe tbody tr th {\n",
       "        vertical-align: top;\n",
       "    }\n",
       "\n",
       "    .dataframe thead th {\n",
       "        text-align: right;\n",
       "    }\n",
       "</style>\n",
       "<table border=\"1\" class=\"dataframe\">\n",
       "  <thead>\n",
       "    <tr style=\"text-align: right;\">\n",
       "      <th></th>\n",
       "      <th>constraint_name</th>\n",
       "      <th>constraint_type</th>\n",
       "      <th>column_name</th>\n",
       "      <th>foreign_table_name</th>\n",
       "      <th>foreign_column_name</th>\n",
       "    </tr>\n",
       "  </thead>\n",
       "  <tbody>\n",
       "    <tr>\n",
       "      <th>0</th>\n",
       "      <td>sites_site_created_by_id_fkey</td>\n",
       "      <td>FOREIGN KEY</td>\n",
       "      <td>created_by_id</td>\n",
       "      <td>users</td>\n",
       "      <td>keycloak_id</td>\n",
       "    </tr>\n",
       "    <tr>\n",
       "      <th>1</th>\n",
       "      <td>sites_site_parent_id_fkey</td>\n",
       "      <td>FOREIGN KEY</td>\n",
       "      <td>parent_id</td>\n",
       "      <td>sites_site</td>\n",
       "      <td>id</td>\n",
       "    </tr>\n",
       "    <tr>\n",
       "      <th>2</th>\n",
       "      <td>sites_site_updated_by_id_fkey</td>\n",
       "      <td>FOREIGN KEY</td>\n",
       "      <td>updated_by_id</td>\n",
       "      <td>users</td>\n",
       "      <td>keycloak_id</td>\n",
       "    </tr>\n",
       "    <tr>\n",
       "      <th>3</th>\n",
       "      <td>sites_site_pkey</td>\n",
       "      <td>PRIMARY KEY</td>\n",
       "      <td>id</td>\n",
       "      <td>sites_site</td>\n",
       "      <td>id</td>\n",
       "    </tr>\n",
       "    <tr>\n",
       "      <th>4</th>\n",
       "      <td>sites_site_name_key</td>\n",
       "      <td>UNIQUE</td>\n",
       "      <td>name</td>\n",
       "      <td>sites_site</td>\n",
       "      <td>name</td>\n",
       "    </tr>\n",
       "    <tr>\n",
       "      <th>5</th>\n",
       "      <td>sites_site_slug_key</td>\n",
       "      <td>UNIQUE</td>\n",
       "      <td>slug</td>\n",
       "      <td>sites_site</td>\n",
       "      <td>slug</td>\n",
       "    </tr>\n",
       "  </tbody>\n",
       "</table>\n",
       "</div>"
      ],
      "text/plain": [
       "                 constraint_name constraint_type    column_name foreign_table_name foreign_column_name\n",
       "0  sites_site_created_by_id_fkey     FOREIGN KEY  created_by_id              users         keycloak_id\n",
       "1      sites_site_parent_id_fkey     FOREIGN KEY      parent_id         sites_site                  id\n",
       "2  sites_site_updated_by_id_fkey     FOREIGN KEY  updated_by_id              users         keycloak_id\n",
       "3                sites_site_pkey     PRIMARY KEY             id         sites_site                  id\n",
       "4            sites_site_name_key          UNIQUE           name         sites_site                name\n",
       "5            sites_site_slug_key          UNIQUE           slug         sites_site                slug"
      ]
     },
     "metadata": {},
     "output_type": "display_data"
    },
    {
     "data": {
      "text/markdown": [
       "\n",
       "#### Таблица: `users`"
      ],
      "text/plain": [
       "<IPython.core.display.Markdown object>"
      ]
     },
     "metadata": {},
     "output_type": "display_data"
    },
    {
     "data": {
      "text/markdown": [
       "\n",
       "##### Схема:"
      ],
      "text/plain": [
       "<IPython.core.display.Markdown object>"
      ]
     },
     "metadata": {},
     "output_type": "display_data"
    },
    {
     "name": "stderr",
     "output_type": "stream",
     "text": [
      "/tmp/ipykernel_450849/82215137.py:49: UserWarning: pandas only supports SQLAlchemy connectable (engine/connection) or database string URI or sqlite3 DBAPI2 connection. Other DBAPI2 objects are not tested. Please consider using SQLAlchemy.\n",
      "  df = pd.read_sql_query(query, conn)\n"
     ]
    },
    {
     "data": {
      "text/html": [
       "<div>\n",
       "<style scoped>\n",
       "    .dataframe tbody tr th:only-of-type {\n",
       "        vertical-align: middle;\n",
       "    }\n",
       "\n",
       "    .dataframe tbody tr th {\n",
       "        vertical-align: top;\n",
       "    }\n",
       "\n",
       "    .dataframe thead th {\n",
       "        text-align: right;\n",
       "    }\n",
       "</style>\n",
       "<table border=\"1\" class=\"dataframe\">\n",
       "  <thead>\n",
       "    <tr style=\"text-align: right;\">\n",
       "      <th></th>\n",
       "      <th>column_name</th>\n",
       "      <th>data_type</th>\n",
       "      <th>is_nullable</th>\n",
       "      <th>column_default</th>\n",
       "    </tr>\n",
       "  </thead>\n",
       "  <tbody>\n",
       "    <tr>\n",
       "      <th>0</th>\n",
       "      <td>is_superuser</td>\n",
       "      <td>boolean</td>\n",
       "      <td>NO</td>\n",
       "      <td>None</td>\n",
       "    </tr>\n",
       "    <tr>\n",
       "      <th>1</th>\n",
       "      <td>keycloak_roles</td>\n",
       "      <td>ARRAY</td>\n",
       "      <td>NO</td>\n",
       "      <td>None</td>\n",
       "    </tr>\n",
       "    <tr>\n",
       "      <th>2</th>\n",
       "      <td>username</td>\n",
       "      <td>character varying</td>\n",
       "      <td>NO</td>\n",
       "      <td>None</td>\n",
       "    </tr>\n",
       "    <tr>\n",
       "      <th>3</th>\n",
       "      <td>email</td>\n",
       "      <td>character varying</td>\n",
       "      <td>NO</td>\n",
       "      <td>None</td>\n",
       "    </tr>\n",
       "    <tr>\n",
       "      <th>4</th>\n",
       "      <td>first_name</td>\n",
       "      <td>character varying</td>\n",
       "      <td>NO</td>\n",
       "      <td>None</td>\n",
       "    </tr>\n",
       "    <tr>\n",
       "      <th>5</th>\n",
       "      <td>last_name</td>\n",
       "      <td>character varying</td>\n",
       "      <td>NO</td>\n",
       "      <td>None</td>\n",
       "    </tr>\n",
       "    <tr>\n",
       "      <th>6</th>\n",
       "      <td>patronymic</td>\n",
       "      <td>character varying</td>\n",
       "      <td>NO</td>\n",
       "      <td>None</td>\n",
       "    </tr>\n",
       "    <tr>\n",
       "      <th>7</th>\n",
       "      <td>keycloak_id</td>\n",
       "      <td>uuid</td>\n",
       "      <td>YES</td>\n",
       "      <td>None</td>\n",
       "    </tr>\n",
       "    <tr>\n",
       "      <th>8</th>\n",
       "      <td>is_active</td>\n",
       "      <td>boolean</td>\n",
       "      <td>NO</td>\n",
       "      <td>None</td>\n",
       "    </tr>\n",
       "    <tr>\n",
       "      <th>9</th>\n",
       "      <td>id</td>\n",
       "      <td>integer</td>\n",
       "      <td>NO</td>\n",
       "      <td>nextval('users_id_seq'::regclass)</td>\n",
       "    </tr>\n",
       "  </tbody>\n",
       "</table>\n",
       "</div>"
      ],
      "text/plain": [
       "      column_name          data_type is_nullable                     column_default\n",
       "0    is_superuser            boolean          NO                               None\n",
       "1  keycloak_roles              ARRAY          NO                               None\n",
       "2        username  character varying          NO                               None\n",
       "3           email  character varying          NO                               None\n",
       "4      first_name  character varying          NO                               None\n",
       "5       last_name  character varying          NO                               None\n",
       "6      patronymic  character varying          NO                               None\n",
       "7     keycloak_id               uuid         YES                               None\n",
       "8       is_active            boolean          NO                               None\n",
       "9              id            integer          NO  nextval('users_id_seq'::regclass)"
      ]
     },
     "metadata": {},
     "output_type": "display_data"
    },
    {
     "data": {
      "text/markdown": [
       "\n",
       "##### Ограничения (PK, FK):"
      ],
      "text/plain": [
       "<IPython.core.display.Markdown object>"
      ]
     },
     "metadata": {},
     "output_type": "display_data"
    },
    {
     "name": "stderr",
     "output_type": "stream",
     "text": [
      "/tmp/ipykernel_450849/82215137.py:79: UserWarning: pandas only supports SQLAlchemy connectable (engine/connection) or database string URI or sqlite3 DBAPI2 connection. Other DBAPI2 objects are not tested. Please consider using SQLAlchemy.\n",
      "  df = pd.read_sql_query(query, conn)\n"
     ]
    },
    {
     "data": {
      "text/html": [
       "<div>\n",
       "<style scoped>\n",
       "    .dataframe tbody tr th:only-of-type {\n",
       "        vertical-align: middle;\n",
       "    }\n",
       "\n",
       "    .dataframe tbody tr th {\n",
       "        vertical-align: top;\n",
       "    }\n",
       "\n",
       "    .dataframe thead th {\n",
       "        text-align: right;\n",
       "    }\n",
       "</style>\n",
       "<table border=\"1\" class=\"dataframe\">\n",
       "  <thead>\n",
       "    <tr style=\"text-align: right;\">\n",
       "      <th></th>\n",
       "      <th>constraint_name</th>\n",
       "      <th>constraint_type</th>\n",
       "      <th>column_name</th>\n",
       "      <th>foreign_table_name</th>\n",
       "      <th>foreign_column_name</th>\n",
       "    </tr>\n",
       "  </thead>\n",
       "  <tbody>\n",
       "    <tr>\n",
       "      <th>0</th>\n",
       "      <td>users_pkey</td>\n",
       "      <td>PRIMARY KEY</td>\n",
       "      <td>id</td>\n",
       "      <td>users</td>\n",
       "      <td>id</td>\n",
       "    </tr>\n",
       "    <tr>\n",
       "      <th>1</th>\n",
       "      <td>users_keycloak_id_uq</td>\n",
       "      <td>UNIQUE</td>\n",
       "      <td>keycloak_id</td>\n",
       "      <td>users</td>\n",
       "      <td>keycloak_id</td>\n",
       "    </tr>\n",
       "  </tbody>\n",
       "</table>\n",
       "</div>"
      ],
      "text/plain": [
       "        constraint_name constraint_type  column_name foreign_table_name foreign_column_name\n",
       "0            users_pkey     PRIMARY KEY           id              users                  id\n",
       "1  users_keycloak_id_uq          UNIQUE  keycloak_id              users         keycloak_id"
      ]
     },
     "metadata": {},
     "output_type": "display_data"
    },
    {
     "name": "stdout",
     "output_type": "stream",
     "text": [
      "Соединение с БД 'cms' закрыто.\n"
     ]
    },
    {
     "data": {
      "text/markdown": [
       "\n",
       "## Анализ базы данных: `lists`"
      ],
      "text/plain": [
       "<IPython.core.display.Markdown object>"
      ]
     },
     "metadata": {},
     "output_type": "display_data"
    },
    {
     "name": "stdout",
     "output_type": "stream",
     "text": [
      "Успешное подключение к БД 'lists'.\n"
     ]
    },
    {
     "name": "stderr",
     "output_type": "stream",
     "text": [
      "/tmp/ipykernel_450849/82215137.py:28: UserWarning: pandas only supports SQLAlchemy connectable (engine/connection) or database string URI or sqlite3 DBAPI2 connection. Other DBAPI2 objects are not tested. Please consider using SQLAlchemy.\n",
      "  df = pd.read_sql_query(query, conn)\n"
     ]
    },
    {
     "data": {
      "text/markdown": [
       "\n",
       "### Найдено таблиц: 20"
      ],
      "text/plain": [
       "<IPython.core.display.Markdown object>"
      ]
     },
     "metadata": {},
     "output_type": "display_data"
    },
    {
     "data": {
      "text/markdown": [
       "\n",
       "#### Таблица: `admin_panel_users`"
      ],
      "text/plain": [
       "<IPython.core.display.Markdown object>"
      ]
     },
     "metadata": {},
     "output_type": "display_data"
    },
    {
     "data": {
      "text/markdown": [
       "\n",
       "##### Схема:"
      ],
      "text/plain": [
       "<IPython.core.display.Markdown object>"
      ]
     },
     "metadata": {},
     "output_type": "display_data"
    },
    {
     "name": "stderr",
     "output_type": "stream",
     "text": [
      "/tmp/ipykernel_450849/82215137.py:49: UserWarning: pandas only supports SQLAlchemy connectable (engine/connection) or database string URI or sqlite3 DBAPI2 connection. Other DBAPI2 objects are not tested. Please consider using SQLAlchemy.\n",
      "  df = pd.read_sql_query(query, conn)\n"
     ]
    },
    {
     "data": {
      "text/html": [
       "<div>\n",
       "<style scoped>\n",
       "    .dataframe tbody tr th:only-of-type {\n",
       "        vertical-align: middle;\n",
       "    }\n",
       "\n",
       "    .dataframe tbody tr th {\n",
       "        vertical-align: top;\n",
       "    }\n",
       "\n",
       "    .dataframe thead th {\n",
       "        text-align: right;\n",
       "    }\n",
       "</style>\n",
       "<table border=\"1\" class=\"dataframe\">\n",
       "  <thead>\n",
       "    <tr style=\"text-align: right;\">\n",
       "      <th></th>\n",
       "      <th>column_name</th>\n",
       "      <th>data_type</th>\n",
       "      <th>is_nullable</th>\n",
       "      <th>column_default</th>\n",
       "    </tr>\n",
       "  </thead>\n",
       "  <tbody>\n",
       "    <tr>\n",
       "      <th>0</th>\n",
       "      <td>id</td>\n",
       "      <td>integer</td>\n",
       "      <td>NO</td>\n",
       "      <td>nextval('admin_panel_users_id_seq'::regclass)</td>\n",
       "    </tr>\n",
       "    <tr>\n",
       "      <th>1</th>\n",
       "      <td>username</td>\n",
       "      <td>text</td>\n",
       "      <td>YES</td>\n",
       "      <td>None</td>\n",
       "    </tr>\n",
       "    <tr>\n",
       "      <th>2</th>\n",
       "      <td>hashed_password</td>\n",
       "      <td>text</td>\n",
       "      <td>YES</td>\n",
       "      <td>None</td>\n",
       "    </tr>\n",
       "  </tbody>\n",
       "</table>\n",
       "</div>"
      ],
      "text/plain": [
       "       column_name data_type is_nullable                                 column_default\n",
       "0               id   integer          NO  nextval('admin_panel_users_id_seq'::regclass)\n",
       "1         username      text         YES                                           None\n",
       "2  hashed_password      text         YES                                           None"
      ]
     },
     "metadata": {},
     "output_type": "display_data"
    },
    {
     "data": {
      "text/markdown": [
       "\n",
       "##### Ограничения (PK, FK):"
      ],
      "text/plain": [
       "<IPython.core.display.Markdown object>"
      ]
     },
     "metadata": {},
     "output_type": "display_data"
    },
    {
     "name": "stderr",
     "output_type": "stream",
     "text": [
      "/tmp/ipykernel_450849/82215137.py:79: UserWarning: pandas only supports SQLAlchemy connectable (engine/connection) or database string URI or sqlite3 DBAPI2 connection. Other DBAPI2 objects are not tested. Please consider using SQLAlchemy.\n",
      "  df = pd.read_sql_query(query, conn)\n"
     ]
    },
    {
     "data": {
      "text/html": [
       "<div>\n",
       "<style scoped>\n",
       "    .dataframe tbody tr th:only-of-type {\n",
       "        vertical-align: middle;\n",
       "    }\n",
       "\n",
       "    .dataframe tbody tr th {\n",
       "        vertical-align: top;\n",
       "    }\n",
       "\n",
       "    .dataframe thead th {\n",
       "        text-align: right;\n",
       "    }\n",
       "</style>\n",
       "<table border=\"1\" class=\"dataframe\">\n",
       "  <thead>\n",
       "    <tr style=\"text-align: right;\">\n",
       "      <th></th>\n",
       "      <th>constraint_name</th>\n",
       "      <th>constraint_type</th>\n",
       "      <th>column_name</th>\n",
       "      <th>foreign_table_name</th>\n",
       "      <th>foreign_column_name</th>\n",
       "    </tr>\n",
       "  </thead>\n",
       "  <tbody>\n",
       "    <tr>\n",
       "      <th>0</th>\n",
       "      <td>admin_panel_users_pkey</td>\n",
       "      <td>PRIMARY KEY</td>\n",
       "      <td>id</td>\n",
       "      <td>admin_panel_users</td>\n",
       "      <td>id</td>\n",
       "    </tr>\n",
       "    <tr>\n",
       "      <th>1</th>\n",
       "      <td>admin_panel_users_username_key</td>\n",
       "      <td>UNIQUE</td>\n",
       "      <td>username</td>\n",
       "      <td>admin_panel_users</td>\n",
       "      <td>username</td>\n",
       "    </tr>\n",
       "  </tbody>\n",
       "</table>\n",
       "</div>"
      ],
      "text/plain": [
       "                  constraint_name constraint_type column_name foreign_table_name foreign_column_name\n",
       "0          admin_panel_users_pkey     PRIMARY KEY          id  admin_panel_users                  id\n",
       "1  admin_panel_users_username_key          UNIQUE    username  admin_panel_users            username"
      ]
     },
     "metadata": {},
     "output_type": "display_data"
    },
    {
     "data": {
      "text/markdown": [
       "\n",
       "#### Таблица: `alembic_version`"
      ],
      "text/plain": [
       "<IPython.core.display.Markdown object>"
      ]
     },
     "metadata": {},
     "output_type": "display_data"
    },
    {
     "data": {
      "text/markdown": [
       "\n",
       "##### Схема:"
      ],
      "text/plain": [
       "<IPython.core.display.Markdown object>"
      ]
     },
     "metadata": {},
     "output_type": "display_data"
    },
    {
     "name": "stderr",
     "output_type": "stream",
     "text": [
      "/tmp/ipykernel_450849/82215137.py:49: UserWarning: pandas only supports SQLAlchemy connectable (engine/connection) or database string URI or sqlite3 DBAPI2 connection. Other DBAPI2 objects are not tested. Please consider using SQLAlchemy.\n",
      "  df = pd.read_sql_query(query, conn)\n"
     ]
    },
    {
     "data": {
      "text/html": [
       "<div>\n",
       "<style scoped>\n",
       "    .dataframe tbody tr th:only-of-type {\n",
       "        vertical-align: middle;\n",
       "    }\n",
       "\n",
       "    .dataframe tbody tr th {\n",
       "        vertical-align: top;\n",
       "    }\n",
       "\n",
       "    .dataframe thead th {\n",
       "        text-align: right;\n",
       "    }\n",
       "</style>\n",
       "<table border=\"1\" class=\"dataframe\">\n",
       "  <thead>\n",
       "    <tr style=\"text-align: right;\">\n",
       "      <th></th>\n",
       "      <th>column_name</th>\n",
       "      <th>data_type</th>\n",
       "      <th>is_nullable</th>\n",
       "      <th>column_default</th>\n",
       "    </tr>\n",
       "  </thead>\n",
       "  <tbody>\n",
       "    <tr>\n",
       "      <th>0</th>\n",
       "      <td>version_num</td>\n",
       "      <td>character varying</td>\n",
       "      <td>NO</td>\n",
       "      <td>None</td>\n",
       "    </tr>\n",
       "  </tbody>\n",
       "</table>\n",
       "</div>"
      ],
      "text/plain": [
       "   column_name          data_type is_nullable column_default\n",
       "0  version_num  character varying          NO           None"
      ]
     },
     "metadata": {},
     "output_type": "display_data"
    },
    {
     "data": {
      "text/markdown": [
       "\n",
       "##### Ограничения (PK, FK):"
      ],
      "text/plain": [
       "<IPython.core.display.Markdown object>"
      ]
     },
     "metadata": {},
     "output_type": "display_data"
    },
    {
     "name": "stderr",
     "output_type": "stream",
     "text": [
      "/tmp/ipykernel_450849/82215137.py:79: UserWarning: pandas only supports SQLAlchemy connectable (engine/connection) or database string URI or sqlite3 DBAPI2 connection. Other DBAPI2 objects are not tested. Please consider using SQLAlchemy.\n",
      "  df = pd.read_sql_query(query, conn)\n"
     ]
    },
    {
     "data": {
      "text/html": [
       "<div>\n",
       "<style scoped>\n",
       "    .dataframe tbody tr th:only-of-type {\n",
       "        vertical-align: middle;\n",
       "    }\n",
       "\n",
       "    .dataframe tbody tr th {\n",
       "        vertical-align: top;\n",
       "    }\n",
       "\n",
       "    .dataframe thead th {\n",
       "        text-align: right;\n",
       "    }\n",
       "</style>\n",
       "<table border=\"1\" class=\"dataframe\">\n",
       "  <thead>\n",
       "    <tr style=\"text-align: right;\">\n",
       "      <th></th>\n",
       "      <th>constraint_name</th>\n",
       "      <th>constraint_type</th>\n",
       "      <th>column_name</th>\n",
       "      <th>foreign_table_name</th>\n",
       "      <th>foreign_column_name</th>\n",
       "    </tr>\n",
       "  </thead>\n",
       "  <tbody>\n",
       "    <tr>\n",
       "      <th>0</th>\n",
       "      <td>alembic_version_pkc</td>\n",
       "      <td>PRIMARY KEY</td>\n",
       "      <td>version_num</td>\n",
       "      <td>alembic_version</td>\n",
       "      <td>version_num</td>\n",
       "    </tr>\n",
       "  </tbody>\n",
       "</table>\n",
       "</div>"
      ],
      "text/plain": [
       "       constraint_name constraint_type  column_name foreign_table_name foreign_column_name\n",
       "0  alembic_version_pkc     PRIMARY KEY  version_num    alembic_version         version_num"
      ]
     },
     "metadata": {},
     "output_type": "display_data"
    },
    {
     "data": {
      "text/markdown": [
       "\n",
       "#### Таблица: `asyncprofilesync_profileuserdata`"
      ],
      "text/plain": [
       "<IPython.core.display.Markdown object>"
      ]
     },
     "metadata": {},
     "output_type": "display_data"
    },
    {
     "data": {
      "text/markdown": [
       "\n",
       "##### Схема:"
      ],
      "text/plain": [
       "<IPython.core.display.Markdown object>"
      ]
     },
     "metadata": {},
     "output_type": "display_data"
    },
    {
     "name": "stderr",
     "output_type": "stream",
     "text": [
      "/tmp/ipykernel_450849/82215137.py:49: UserWarning: pandas only supports SQLAlchemy connectable (engine/connection) or database string URI or sqlite3 DBAPI2 connection. Other DBAPI2 objects are not tested. Please consider using SQLAlchemy.\n",
      "  df = pd.read_sql_query(query, conn)\n"
     ]
    },
    {
     "data": {
      "text/html": [
       "<div>\n",
       "<style scoped>\n",
       "    .dataframe tbody tr th:only-of-type {\n",
       "        vertical-align: middle;\n",
       "    }\n",
       "\n",
       "    .dataframe tbody tr th {\n",
       "        vertical-align: top;\n",
       "    }\n",
       "\n",
       "    .dataframe thead th {\n",
       "        text-align: right;\n",
       "    }\n",
       "</style>\n",
       "<table border=\"1\" class=\"dataframe\">\n",
       "  <thead>\n",
       "    <tr style=\"text-align: right;\">\n",
       "      <th></th>\n",
       "      <th>column_name</th>\n",
       "      <th>data_type</th>\n",
       "      <th>is_nullable</th>\n",
       "      <th>column_default</th>\n",
       "    </tr>\n",
       "  </thead>\n",
       "  <tbody>\n",
       "    <tr>\n",
       "      <th>0</th>\n",
       "      <td>id</td>\n",
       "      <td>uuid</td>\n",
       "      <td>NO</td>\n",
       "      <td>None</td>\n",
       "    </tr>\n",
       "    <tr>\n",
       "      <th>1</th>\n",
       "      <td>data</td>\n",
       "      <td>json</td>\n",
       "      <td>YES</td>\n",
       "      <td>None</td>\n",
       "    </tr>\n",
       "    <tr>\n",
       "      <th>2</th>\n",
       "      <td>keycloak_id</td>\n",
       "      <td>uuid</td>\n",
       "      <td>NO</td>\n",
       "      <td>None</td>\n",
       "    </tr>\n",
       "    <tr>\n",
       "      <th>3</th>\n",
       "      <td>username</td>\n",
       "      <td>text</td>\n",
       "      <td>YES</td>\n",
       "      <td>None</td>\n",
       "    </tr>\n",
       "    <tr>\n",
       "      <th>4</th>\n",
       "      <td>created_at</td>\n",
       "      <td>timestamp with time zone</td>\n",
       "      <td>YES</td>\n",
       "      <td>now()</td>\n",
       "    </tr>\n",
       "    <tr>\n",
       "      <th>5</th>\n",
       "      <td>updated_at</td>\n",
       "      <td>timestamp with time zone</td>\n",
       "      <td>YES</td>\n",
       "      <td>None</td>\n",
       "    </tr>\n",
       "  </tbody>\n",
       "</table>\n",
       "</div>"
      ],
      "text/plain": [
       "   column_name                 data_type is_nullable column_default\n",
       "0           id                      uuid          NO           None\n",
       "1         data                      json         YES           None\n",
       "2  keycloak_id                      uuid          NO           None\n",
       "3     username                      text         YES           None\n",
       "4   created_at  timestamp with time zone         YES          now()\n",
       "5   updated_at  timestamp with time zone         YES           None"
      ]
     },
     "metadata": {},
     "output_type": "display_data"
    },
    {
     "data": {
      "text/markdown": [
       "\n",
       "##### Ограничения (PK, FK):"
      ],
      "text/plain": [
       "<IPython.core.display.Markdown object>"
      ]
     },
     "metadata": {},
     "output_type": "display_data"
    },
    {
     "name": "stderr",
     "output_type": "stream",
     "text": [
      "/tmp/ipykernel_450849/82215137.py:79: UserWarning: pandas only supports SQLAlchemy connectable (engine/connection) or database string URI or sqlite3 DBAPI2 connection. Other DBAPI2 objects are not tested. Please consider using SQLAlchemy.\n",
      "  df = pd.read_sql_query(query, conn)\n"
     ]
    },
    {
     "data": {
      "text/html": [
       "<div>\n",
       "<style scoped>\n",
       "    .dataframe tbody tr th:only-of-type {\n",
       "        vertical-align: middle;\n",
       "    }\n",
       "\n",
       "    .dataframe tbody tr th {\n",
       "        vertical-align: top;\n",
       "    }\n",
       "\n",
       "    .dataframe thead th {\n",
       "        text-align: right;\n",
       "    }\n",
       "</style>\n",
       "<table border=\"1\" class=\"dataframe\">\n",
       "  <thead>\n",
       "    <tr style=\"text-align: right;\">\n",
       "      <th></th>\n",
       "      <th>constraint_name</th>\n",
       "      <th>constraint_type</th>\n",
       "      <th>column_name</th>\n",
       "      <th>foreign_table_name</th>\n",
       "      <th>foreign_column_name</th>\n",
       "    </tr>\n",
       "  </thead>\n",
       "  <tbody>\n",
       "    <tr>\n",
       "      <th>0</th>\n",
       "      <td>asyncprofilesync_profileuserdata_pkey</td>\n",
       "      <td>PRIMARY KEY</td>\n",
       "      <td>id</td>\n",
       "      <td>asyncprofilesync_profileuserdata</td>\n",
       "      <td>id</td>\n",
       "    </tr>\n",
       "    <tr>\n",
       "      <th>1</th>\n",
       "      <td>asyncprofilesync_profileuserdata_keycloak_id_key</td>\n",
       "      <td>UNIQUE</td>\n",
       "      <td>keycloak_id</td>\n",
       "      <td>asyncprofilesync_profileuserdata</td>\n",
       "      <td>keycloak_id</td>\n",
       "    </tr>\n",
       "  </tbody>\n",
       "</table>\n",
       "</div>"
      ],
      "text/plain": [
       "                                    constraint_name constraint_type  column_name                foreign_table_name foreign_column_name\n",
       "0             asyncprofilesync_profileuserdata_pkey     PRIMARY KEY           id  asyncprofilesync_profileuserdata                  id\n",
       "1  asyncprofilesync_profileuserdata_keycloak_id_key          UNIQUE  keycloak_id  asyncprofilesync_profileuserdata         keycloak_id"
      ]
     },
     "metadata": {},
     "output_type": "display_data"
    },
    {
     "data": {
      "text/markdown": [
       "\n",
       "#### Таблица: `commands_command`"
      ],
      "text/plain": [
       "<IPython.core.display.Markdown object>"
      ]
     },
     "metadata": {},
     "output_type": "display_data"
    },
    {
     "data": {
      "text/markdown": [
       "\n",
       "##### Схема:"
      ],
      "text/plain": [
       "<IPython.core.display.Markdown object>"
      ]
     },
     "metadata": {},
     "output_type": "display_data"
    },
    {
     "name": "stderr",
     "output_type": "stream",
     "text": [
      "/tmp/ipykernel_450849/82215137.py:49: UserWarning: pandas only supports SQLAlchemy connectable (engine/connection) or database string URI or sqlite3 DBAPI2 connection. Other DBAPI2 objects are not tested. Please consider using SQLAlchemy.\n",
      "  df = pd.read_sql_query(query, conn)\n"
     ]
    },
    {
     "data": {
      "text/html": [
       "<div>\n",
       "<style scoped>\n",
       "    .dataframe tbody tr th:only-of-type {\n",
       "        vertical-align: middle;\n",
       "    }\n",
       "\n",
       "    .dataframe tbody tr th {\n",
       "        vertical-align: top;\n",
       "    }\n",
       "\n",
       "    .dataframe thead th {\n",
       "        text-align: right;\n",
       "    }\n",
       "</style>\n",
       "<table border=\"1\" class=\"dataframe\">\n",
       "  <thead>\n",
       "    <tr style=\"text-align: right;\">\n",
       "      <th></th>\n",
       "      <th>column_name</th>\n",
       "      <th>data_type</th>\n",
       "      <th>is_nullable</th>\n",
       "      <th>column_default</th>\n",
       "    </tr>\n",
       "  </thead>\n",
       "  <tbody>\n",
       "    <tr>\n",
       "      <th>0</th>\n",
       "      <td>id</td>\n",
       "      <td>integer</td>\n",
       "      <td>NO</td>\n",
       "      <td>None</td>\n",
       "    </tr>\n",
       "    <tr>\n",
       "      <th>1</th>\n",
       "      <td>module_name</td>\n",
       "      <td>text</td>\n",
       "      <td>NO</td>\n",
       "      <td>None</td>\n",
       "    </tr>\n",
       "    <tr>\n",
       "      <th>2</th>\n",
       "      <td>name</td>\n",
       "      <td>text</td>\n",
       "      <td>NO</td>\n",
       "      <td>None</td>\n",
       "    </tr>\n",
       "    <tr>\n",
       "      <th>3</th>\n",
       "      <td>created_at</td>\n",
       "      <td>timestamp with time zone</td>\n",
       "      <td>NO</td>\n",
       "      <td>None</td>\n",
       "    </tr>\n",
       "  </tbody>\n",
       "</table>\n",
       "</div>"
      ],
      "text/plain": [
       "   column_name                 data_type is_nullable column_default\n",
       "0           id                   integer          NO           None\n",
       "1  module_name                      text          NO           None\n",
       "2         name                      text          NO           None\n",
       "3   created_at  timestamp with time zone          NO           None"
      ]
     },
     "metadata": {},
     "output_type": "display_data"
    },
    {
     "data": {
      "text/markdown": [
       "\n",
       "##### Ограничения (PK, FK):"
      ],
      "text/plain": [
       "<IPython.core.display.Markdown object>"
      ]
     },
     "metadata": {},
     "output_type": "display_data"
    },
    {
     "name": "stderr",
     "output_type": "stream",
     "text": [
      "/tmp/ipykernel_450849/82215137.py:79: UserWarning: pandas only supports SQLAlchemy connectable (engine/connection) or database string URI or sqlite3 DBAPI2 connection. Other DBAPI2 objects are not tested. Please consider using SQLAlchemy.\n",
      "  df = pd.read_sql_query(query, conn)\n"
     ]
    },
    {
     "data": {
      "text/html": [
       "<div>\n",
       "<style scoped>\n",
       "    .dataframe tbody tr th:only-of-type {\n",
       "        vertical-align: middle;\n",
       "    }\n",
       "\n",
       "    .dataframe tbody tr th {\n",
       "        vertical-align: top;\n",
       "    }\n",
       "\n",
       "    .dataframe thead th {\n",
       "        text-align: right;\n",
       "    }\n",
       "</style>\n",
       "<table border=\"1\" class=\"dataframe\">\n",
       "  <thead>\n",
       "    <tr style=\"text-align: right;\">\n",
       "      <th></th>\n",
       "      <th>constraint_name</th>\n",
       "      <th>constraint_type</th>\n",
       "      <th>column_name</th>\n",
       "      <th>foreign_table_name</th>\n",
       "      <th>foreign_column_name</th>\n",
       "    </tr>\n",
       "  </thead>\n",
       "  <tbody>\n",
       "    <tr>\n",
       "      <th>0</th>\n",
       "      <td>commands_command_pkey</td>\n",
       "      <td>PRIMARY KEY</td>\n",
       "      <td>id</td>\n",
       "      <td>commands_command</td>\n",
       "      <td>id</td>\n",
       "    </tr>\n",
       "    <tr>\n",
       "      <th>1</th>\n",
       "      <td>commands_command_name_module_name_key</td>\n",
       "      <td>UNIQUE</td>\n",
       "      <td>name</td>\n",
       "      <td>commands_command</td>\n",
       "      <td>module_name</td>\n",
       "    </tr>\n",
       "    <tr>\n",
       "      <th>2</th>\n",
       "      <td>commands_command_name_module_name_key</td>\n",
       "      <td>UNIQUE</td>\n",
       "      <td>name</td>\n",
       "      <td>commands_command</td>\n",
       "      <td>name</td>\n",
       "    </tr>\n",
       "    <tr>\n",
       "      <th>3</th>\n",
       "      <td>commands_command_name_module_name_key</td>\n",
       "      <td>UNIQUE</td>\n",
       "      <td>module_name</td>\n",
       "      <td>commands_command</td>\n",
       "      <td>module_name</td>\n",
       "    </tr>\n",
       "    <tr>\n",
       "      <th>4</th>\n",
       "      <td>commands_command_name_module_name_key</td>\n",
       "      <td>UNIQUE</td>\n",
       "      <td>module_name</td>\n",
       "      <td>commands_command</td>\n",
       "      <td>name</td>\n",
       "    </tr>\n",
       "  </tbody>\n",
       "</table>\n",
       "</div>"
      ],
      "text/plain": [
       "                         constraint_name constraint_type  column_name foreign_table_name foreign_column_name\n",
       "0                  commands_command_pkey     PRIMARY KEY           id   commands_command                  id\n",
       "1  commands_command_name_module_name_key          UNIQUE         name   commands_command         module_name\n",
       "2  commands_command_name_module_name_key          UNIQUE         name   commands_command                name\n",
       "3  commands_command_name_module_name_key          UNIQUE  module_name   commands_command         module_name\n",
       "4  commands_command_name_module_name_key          UNIQUE  module_name   commands_command                name"
      ]
     },
     "metadata": {},
     "output_type": "display_data"
    },
    {
     "data": {
      "text/markdown": [
       "\n",
       "#### Таблица: `commands_run`"
      ],
      "text/plain": [
       "<IPython.core.display.Markdown object>"
      ]
     },
     "metadata": {},
     "output_type": "display_data"
    },
    {
     "data": {
      "text/markdown": [
       "\n",
       "##### Схема:"
      ],
      "text/plain": [
       "<IPython.core.display.Markdown object>"
      ]
     },
     "metadata": {},
     "output_type": "display_data"
    },
    {
     "name": "stderr",
     "output_type": "stream",
     "text": [
      "/tmp/ipykernel_450849/82215137.py:49: UserWarning: pandas only supports SQLAlchemy connectable (engine/connection) or database string URI or sqlite3 DBAPI2 connection. Other DBAPI2 objects are not tested. Please consider using SQLAlchemy.\n",
      "  df = pd.read_sql_query(query, conn)\n"
     ]
    },
    {
     "data": {
      "text/html": [
       "<div>\n",
       "<style scoped>\n",
       "    .dataframe tbody tr th:only-of-type {\n",
       "        vertical-align: middle;\n",
       "    }\n",
       "\n",
       "    .dataframe tbody tr th {\n",
       "        vertical-align: top;\n",
       "    }\n",
       "\n",
       "    .dataframe thead th {\n",
       "        text-align: right;\n",
       "    }\n",
       "</style>\n",
       "<table border=\"1\" class=\"dataframe\">\n",
       "  <thead>\n",
       "    <tr style=\"text-align: right;\">\n",
       "      <th></th>\n",
       "      <th>column_name</th>\n",
       "      <th>data_type</th>\n",
       "      <th>is_nullable</th>\n",
       "      <th>column_default</th>\n",
       "    </tr>\n",
       "  </thead>\n",
       "  <tbody>\n",
       "    <tr>\n",
       "      <th>0</th>\n",
       "      <td>id</td>\n",
       "      <td>integer</td>\n",
       "      <td>NO</td>\n",
       "      <td>None</td>\n",
       "    </tr>\n",
       "    <tr>\n",
       "      <th>1</th>\n",
       "      <td>args</td>\n",
       "      <td>ARRAY</td>\n",
       "      <td>YES</td>\n",
       "      <td>None</td>\n",
       "    </tr>\n",
       "    <tr>\n",
       "      <th>2</th>\n",
       "      <td>kwargs</td>\n",
       "      <td>jsonb</td>\n",
       "      <td>YES</td>\n",
       "      <td>None</td>\n",
       "    </tr>\n",
       "    <tr>\n",
       "      <th>3</th>\n",
       "      <td>command_id</td>\n",
       "      <td>integer</td>\n",
       "      <td>YES</td>\n",
       "      <td>None</td>\n",
       "    </tr>\n",
       "    <tr>\n",
       "      <th>4</th>\n",
       "      <td>started_at</td>\n",
       "      <td>timestamp with time zone</td>\n",
       "      <td>YES</td>\n",
       "      <td>None</td>\n",
       "    </tr>\n",
       "    <tr>\n",
       "      <th>5</th>\n",
       "      <td>finished_at</td>\n",
       "      <td>timestamp with time zone</td>\n",
       "      <td>YES</td>\n",
       "      <td>None</td>\n",
       "    </tr>\n",
       "    <tr>\n",
       "      <th>6</th>\n",
       "      <td>error</td>\n",
       "      <td>text</td>\n",
       "      <td>YES</td>\n",
       "      <td>None</td>\n",
       "    </tr>\n",
       "    <tr>\n",
       "      <th>7</th>\n",
       "      <td>status</td>\n",
       "      <td>character varying</td>\n",
       "      <td>YES</td>\n",
       "      <td>None</td>\n",
       "    </tr>\n",
       "  </tbody>\n",
       "</table>\n",
       "</div>"
      ],
      "text/plain": [
       "   column_name                 data_type is_nullable column_default\n",
       "0           id                   integer          NO           None\n",
       "1         args                     ARRAY         YES           None\n",
       "2       kwargs                     jsonb         YES           None\n",
       "3   command_id                   integer         YES           None\n",
       "4   started_at  timestamp with time zone         YES           None\n",
       "5  finished_at  timestamp with time zone         YES           None\n",
       "6        error                      text         YES           None\n",
       "7       status         character varying         YES           None"
      ]
     },
     "metadata": {},
     "output_type": "display_data"
    },
    {
     "data": {
      "text/markdown": [
       "\n",
       "##### Ограничения (PK, FK):"
      ],
      "text/plain": [
       "<IPython.core.display.Markdown object>"
      ]
     },
     "metadata": {},
     "output_type": "display_data"
    },
    {
     "name": "stderr",
     "output_type": "stream",
     "text": [
      "/tmp/ipykernel_450849/82215137.py:79: UserWarning: pandas only supports SQLAlchemy connectable (engine/connection) or database string URI or sqlite3 DBAPI2 connection. Other DBAPI2 objects are not tested. Please consider using SQLAlchemy.\n",
      "  df = pd.read_sql_query(query, conn)\n"
     ]
    },
    {
     "data": {
      "text/html": [
       "<div>\n",
       "<style scoped>\n",
       "    .dataframe tbody tr th:only-of-type {\n",
       "        vertical-align: middle;\n",
       "    }\n",
       "\n",
       "    .dataframe tbody tr th {\n",
       "        vertical-align: top;\n",
       "    }\n",
       "\n",
       "    .dataframe thead th {\n",
       "        text-align: right;\n",
       "    }\n",
       "</style>\n",
       "<table border=\"1\" class=\"dataframe\">\n",
       "  <thead>\n",
       "    <tr style=\"text-align: right;\">\n",
       "      <th></th>\n",
       "      <th>constraint_name</th>\n",
       "      <th>constraint_type</th>\n",
       "      <th>column_name</th>\n",
       "      <th>foreign_table_name</th>\n",
       "      <th>foreign_column_name</th>\n",
       "    </tr>\n",
       "  </thead>\n",
       "  <tbody>\n",
       "    <tr>\n",
       "      <th>0</th>\n",
       "      <td>commands_run_command_id_fkey</td>\n",
       "      <td>FOREIGN KEY</td>\n",
       "      <td>command_id</td>\n",
       "      <td>commands_command</td>\n",
       "      <td>id</td>\n",
       "    </tr>\n",
       "    <tr>\n",
       "      <th>1</th>\n",
       "      <td>commands_run_pkey</td>\n",
       "      <td>PRIMARY KEY</td>\n",
       "      <td>id</td>\n",
       "      <td>commands_run</td>\n",
       "      <td>id</td>\n",
       "    </tr>\n",
       "  </tbody>\n",
       "</table>\n",
       "</div>"
      ],
      "text/plain": [
       "                constraint_name constraint_type column_name foreign_table_name foreign_column_name\n",
       "0  commands_run_command_id_fkey     FOREIGN KEY  command_id   commands_command                  id\n",
       "1             commands_run_pkey     PRIMARY KEY          id       commands_run                  id"
      ]
     },
     "metadata": {},
     "output_type": "display_data"
    },
    {
     "data": {
      "text/markdown": [
       "\n",
       "#### Таблица: `dictionaries_dictionary`"
      ],
      "text/plain": [
       "<IPython.core.display.Markdown object>"
      ]
     },
     "metadata": {},
     "output_type": "display_data"
    },
    {
     "data": {
      "text/markdown": [
       "\n",
       "##### Схема:"
      ],
      "text/plain": [
       "<IPython.core.display.Markdown object>"
      ]
     },
     "metadata": {},
     "output_type": "display_data"
    },
    {
     "name": "stderr",
     "output_type": "stream",
     "text": [
      "/tmp/ipykernel_450849/82215137.py:49: UserWarning: pandas only supports SQLAlchemy connectable (engine/connection) or database string URI or sqlite3 DBAPI2 connection. Other DBAPI2 objects are not tested. Please consider using SQLAlchemy.\n",
      "  df = pd.read_sql_query(query, conn)\n"
     ]
    },
    {
     "data": {
      "text/html": [
       "<div>\n",
       "<style scoped>\n",
       "    .dataframe tbody tr th:only-of-type {\n",
       "        vertical-align: middle;\n",
       "    }\n",
       "\n",
       "    .dataframe tbody tr th {\n",
       "        vertical-align: top;\n",
       "    }\n",
       "\n",
       "    .dataframe thead th {\n",
       "        text-align: right;\n",
       "    }\n",
       "</style>\n",
       "<table border=\"1\" class=\"dataframe\">\n",
       "  <thead>\n",
       "    <tr style=\"text-align: right;\">\n",
       "      <th></th>\n",
       "      <th>column_name</th>\n",
       "      <th>data_type</th>\n",
       "      <th>is_nullable</th>\n",
       "      <th>column_default</th>\n",
       "    </tr>\n",
       "  </thead>\n",
       "  <tbody>\n",
       "    <tr>\n",
       "      <th>0</th>\n",
       "      <td>id</td>\n",
       "      <td>integer</td>\n",
       "      <td>NO</td>\n",
       "      <td>nextval('dictionaries_dictionary_id_seq'::regc...</td>\n",
       "    </tr>\n",
       "    <tr>\n",
       "      <th>1</th>\n",
       "      <td>dictionary_type</td>\n",
       "      <td>text</td>\n",
       "      <td>NO</td>\n",
       "      <td>None</td>\n",
       "    </tr>\n",
       "    <tr>\n",
       "      <th>2</th>\n",
       "      <td>dictionary_value_id</td>\n",
       "      <td>uuid</td>\n",
       "      <td>NO</td>\n",
       "      <td>None</td>\n",
       "    </tr>\n",
       "    <tr>\n",
       "      <th>3</th>\n",
       "      <td>dictionary_value</td>\n",
       "      <td>character varying</td>\n",
       "      <td>NO</td>\n",
       "      <td>None</td>\n",
       "    </tr>\n",
       "    <tr>\n",
       "      <th>4</th>\n",
       "      <td>created_at</td>\n",
       "      <td>timestamp with time zone</td>\n",
       "      <td>NO</td>\n",
       "      <td>None</td>\n",
       "    </tr>\n",
       "    <tr>\n",
       "      <th>5</th>\n",
       "      <td>updated_at</td>\n",
       "      <td>timestamp with time zone</td>\n",
       "      <td>YES</td>\n",
       "      <td>None</td>\n",
       "    </tr>\n",
       "  </tbody>\n",
       "</table>\n",
       "</div>"
      ],
      "text/plain": [
       "           column_name                 data_type is_nullable                                     column_default\n",
       "0                   id                   integer          NO  nextval('dictionaries_dictionary_id_seq'::regc...\n",
       "1      dictionary_type                      text          NO                                               None\n",
       "2  dictionary_value_id                      uuid          NO                                               None\n",
       "3     dictionary_value         character varying          NO                                               None\n",
       "4           created_at  timestamp with time zone          NO                                               None\n",
       "5           updated_at  timestamp with time zone         YES                                               None"
      ]
     },
     "metadata": {},
     "output_type": "display_data"
    },
    {
     "data": {
      "text/markdown": [
       "\n",
       "##### Ограничения (PK, FK):"
      ],
      "text/plain": [
       "<IPython.core.display.Markdown object>"
      ]
     },
     "metadata": {},
     "output_type": "display_data"
    },
    {
     "name": "stderr",
     "output_type": "stream",
     "text": [
      "/tmp/ipykernel_450849/82215137.py:79: UserWarning: pandas only supports SQLAlchemy connectable (engine/connection) or database string URI or sqlite3 DBAPI2 connection. Other DBAPI2 objects are not tested. Please consider using SQLAlchemy.\n",
      "  df = pd.read_sql_query(query, conn)\n"
     ]
    },
    {
     "data": {
      "text/html": [
       "<div>\n",
       "<style scoped>\n",
       "    .dataframe tbody tr th:only-of-type {\n",
       "        vertical-align: middle;\n",
       "    }\n",
       "\n",
       "    .dataframe tbody tr th {\n",
       "        vertical-align: top;\n",
       "    }\n",
       "\n",
       "    .dataframe thead th {\n",
       "        text-align: right;\n",
       "    }\n",
       "</style>\n",
       "<table border=\"1\" class=\"dataframe\">\n",
       "  <thead>\n",
       "    <tr style=\"text-align: right;\">\n",
       "      <th></th>\n",
       "      <th>constraint_name</th>\n",
       "      <th>constraint_type</th>\n",
       "      <th>column_name</th>\n",
       "      <th>foreign_table_name</th>\n",
       "      <th>foreign_column_name</th>\n",
       "    </tr>\n",
       "  </thead>\n",
       "  <tbody>\n",
       "    <tr>\n",
       "      <th>0</th>\n",
       "      <td>dictionaries_dictionary_pkey</td>\n",
       "      <td>PRIMARY KEY</td>\n",
       "      <td>id</td>\n",
       "      <td>dictionaries_dictionary</td>\n",
       "      <td>id</td>\n",
       "    </tr>\n",
       "    <tr>\n",
       "      <th>1</th>\n",
       "      <td>dictionaries_dictionary_dictionary_value_id_key</td>\n",
       "      <td>UNIQUE</td>\n",
       "      <td>dictionary_value_id</td>\n",
       "      <td>dictionaries_dictionary</td>\n",
       "      <td>dictionary_value_id</td>\n",
       "    </tr>\n",
       "  </tbody>\n",
       "</table>\n",
       "</div>"
      ],
      "text/plain": [
       "                                   constraint_name constraint_type          column_name       foreign_table_name  foreign_column_name\n",
       "0                     dictionaries_dictionary_pkey     PRIMARY KEY                   id  dictionaries_dictionary                   id\n",
       "1  dictionaries_dictionary_dictionary_value_id_key          UNIQUE  dictionary_value_id  dictionaries_dictionary  dictionary_value_id"
      ]
     },
     "metadata": {},
     "output_type": "display_data"
    },
    {
     "data": {
      "text/markdown": [
       "\n",
       "#### Таблица: `files_file`"
      ],
      "text/plain": [
       "<IPython.core.display.Markdown object>"
      ]
     },
     "metadata": {},
     "output_type": "display_data"
    },
    {
     "data": {
      "text/markdown": [
       "\n",
       "##### Схема:"
      ],
      "text/plain": [
       "<IPython.core.display.Markdown object>"
      ]
     },
     "metadata": {},
     "output_type": "display_data"
    },
    {
     "name": "stderr",
     "output_type": "stream",
     "text": [
      "/tmp/ipykernel_450849/82215137.py:49: UserWarning: pandas only supports SQLAlchemy connectable (engine/connection) or database string URI or sqlite3 DBAPI2 connection. Other DBAPI2 objects are not tested. Please consider using SQLAlchemy.\n",
      "  df = pd.read_sql_query(query, conn)\n"
     ]
    },
    {
     "data": {
      "text/html": [
       "<div>\n",
       "<style scoped>\n",
       "    .dataframe tbody tr th:only-of-type {\n",
       "        vertical-align: middle;\n",
       "    }\n",
       "\n",
       "    .dataframe tbody tr th {\n",
       "        vertical-align: top;\n",
       "    }\n",
       "\n",
       "    .dataframe thead th {\n",
       "        text-align: right;\n",
       "    }\n",
       "</style>\n",
       "<table border=\"1\" class=\"dataframe\">\n",
       "  <thead>\n",
       "    <tr style=\"text-align: right;\">\n",
       "      <th></th>\n",
       "      <th>column_name</th>\n",
       "      <th>data_type</th>\n",
       "      <th>is_nullable</th>\n",
       "      <th>column_default</th>\n",
       "    </tr>\n",
       "  </thead>\n",
       "  <tbody>\n",
       "    <tr>\n",
       "      <th>0</th>\n",
       "      <td>id</td>\n",
       "      <td>integer</td>\n",
       "      <td>NO</td>\n",
       "      <td>nextval('files_file_id_seq'::regclass)</td>\n",
       "    </tr>\n",
       "    <tr>\n",
       "      <th>1</th>\n",
       "      <td>name</td>\n",
       "      <td>text</td>\n",
       "      <td>NO</td>\n",
       "      <td>None</td>\n",
       "    </tr>\n",
       "    <tr>\n",
       "      <th>2</th>\n",
       "      <td>storage_object_id</td>\n",
       "      <td>uuid</td>\n",
       "      <td>NO</td>\n",
       "      <td>None</td>\n",
       "    </tr>\n",
       "    <tr>\n",
       "      <th>3</th>\n",
       "      <td>file_data</td>\n",
       "      <td>jsonb</td>\n",
       "      <td>YES</td>\n",
       "      <td>None</td>\n",
       "    </tr>\n",
       "    <tr>\n",
       "      <th>4</th>\n",
       "      <td>created_at</td>\n",
       "      <td>timestamp with time zone</td>\n",
       "      <td>NO</td>\n",
       "      <td>None</td>\n",
       "    </tr>\n",
       "    <tr>\n",
       "      <th>5</th>\n",
       "      <td>updated_at</td>\n",
       "      <td>timestamp with time zone</td>\n",
       "      <td>YES</td>\n",
       "      <td>None</td>\n",
       "    </tr>\n",
       "  </tbody>\n",
       "</table>\n",
       "</div>"
      ],
      "text/plain": [
       "         column_name                 data_type is_nullable                          column_default\n",
       "0                 id                   integer          NO  nextval('files_file_id_seq'::regclass)\n",
       "1               name                      text          NO                                    None\n",
       "2  storage_object_id                      uuid          NO                                    None\n",
       "3          file_data                     jsonb         YES                                    None\n",
       "4         created_at  timestamp with time zone          NO                                    None\n",
       "5         updated_at  timestamp with time zone         YES                                    None"
      ]
     },
     "metadata": {},
     "output_type": "display_data"
    },
    {
     "data": {
      "text/markdown": [
       "\n",
       "##### Ограничения (PK, FK):"
      ],
      "text/plain": [
       "<IPython.core.display.Markdown object>"
      ]
     },
     "metadata": {},
     "output_type": "display_data"
    },
    {
     "name": "stderr",
     "output_type": "stream",
     "text": [
      "/tmp/ipykernel_450849/82215137.py:79: UserWarning: pandas only supports SQLAlchemy connectable (engine/connection) or database string URI or sqlite3 DBAPI2 connection. Other DBAPI2 objects are not tested. Please consider using SQLAlchemy.\n",
      "  df = pd.read_sql_query(query, conn)\n"
     ]
    },
    {
     "data": {
      "text/html": [
       "<div>\n",
       "<style scoped>\n",
       "    .dataframe tbody tr th:only-of-type {\n",
       "        vertical-align: middle;\n",
       "    }\n",
       "\n",
       "    .dataframe tbody tr th {\n",
       "        vertical-align: top;\n",
       "    }\n",
       "\n",
       "    .dataframe thead th {\n",
       "        text-align: right;\n",
       "    }\n",
       "</style>\n",
       "<table border=\"1\" class=\"dataframe\">\n",
       "  <thead>\n",
       "    <tr style=\"text-align: right;\">\n",
       "      <th></th>\n",
       "      <th>constraint_name</th>\n",
       "      <th>constraint_type</th>\n",
       "      <th>column_name</th>\n",
       "      <th>foreign_table_name</th>\n",
       "      <th>foreign_column_name</th>\n",
       "    </tr>\n",
       "  </thead>\n",
       "  <tbody>\n",
       "    <tr>\n",
       "      <th>0</th>\n",
       "      <td>files_file_pkey</td>\n",
       "      <td>PRIMARY KEY</td>\n",
       "      <td>id</td>\n",
       "      <td>files_file</td>\n",
       "      <td>id</td>\n",
       "    </tr>\n",
       "    <tr>\n",
       "      <th>1</th>\n",
       "      <td>files_file_storage_object_id_key</td>\n",
       "      <td>UNIQUE</td>\n",
       "      <td>storage_object_id</td>\n",
       "      <td>files_file</td>\n",
       "      <td>storage_object_id</td>\n",
       "    </tr>\n",
       "  </tbody>\n",
       "</table>\n",
       "</div>"
      ],
      "text/plain": [
       "                    constraint_name constraint_type        column_name foreign_table_name foreign_column_name\n",
       "0                   files_file_pkey     PRIMARY KEY                 id         files_file                  id\n",
       "1  files_file_storage_object_id_key          UNIQUE  storage_object_id         files_file   storage_object_id"
      ]
     },
     "metadata": {},
     "output_type": "display_data"
    },
    {
     "data": {
      "text/markdown": [
       "\n",
       "#### Таблица: `lists_list`"
      ],
      "text/plain": [
       "<IPython.core.display.Markdown object>"
      ]
     },
     "metadata": {},
     "output_type": "display_data"
    },
    {
     "data": {
      "text/markdown": [
       "\n",
       "##### Схема:"
      ],
      "text/plain": [
       "<IPython.core.display.Markdown object>"
      ]
     },
     "metadata": {},
     "output_type": "display_data"
    },
    {
     "name": "stderr",
     "output_type": "stream",
     "text": [
      "/tmp/ipykernel_450849/82215137.py:49: UserWarning: pandas only supports SQLAlchemy connectable (engine/connection) or database string URI or sqlite3 DBAPI2 connection. Other DBAPI2 objects are not tested. Please consider using SQLAlchemy.\n",
      "  df = pd.read_sql_query(query, conn)\n"
     ]
    },
    {
     "data": {
      "text/html": [
       "<div>\n",
       "<style scoped>\n",
       "    .dataframe tbody tr th:only-of-type {\n",
       "        vertical-align: middle;\n",
       "    }\n",
       "\n",
       "    .dataframe tbody tr th {\n",
       "        vertical-align: top;\n",
       "    }\n",
       "\n",
       "    .dataframe thead th {\n",
       "        text-align: right;\n",
       "    }\n",
       "</style>\n",
       "<table border=\"1\" class=\"dataframe\">\n",
       "  <thead>\n",
       "    <tr style=\"text-align: right;\">\n",
       "      <th></th>\n",
       "      <th>column_name</th>\n",
       "      <th>data_type</th>\n",
       "      <th>is_nullable</th>\n",
       "      <th>column_default</th>\n",
       "    </tr>\n",
       "  </thead>\n",
       "  <tbody>\n",
       "    <tr>\n",
       "      <th>0</th>\n",
       "      <td>id</td>\n",
       "      <td>integer</td>\n",
       "      <td>NO</td>\n",
       "      <td>nextval('lists_list_id_seq'::regclass)</td>\n",
       "    </tr>\n",
       "    <tr>\n",
       "      <th>1</th>\n",
       "      <td>name</td>\n",
       "      <td>character varying</td>\n",
       "      <td>NO</td>\n",
       "      <td>None</td>\n",
       "    </tr>\n",
       "    <tr>\n",
       "      <th>2</th>\n",
       "      <td>description</td>\n",
       "      <td>character varying</td>\n",
       "      <td>NO</td>\n",
       "      <td>None</td>\n",
       "    </tr>\n",
       "    <tr>\n",
       "      <th>3</th>\n",
       "      <td>slug</td>\n",
       "      <td>character varying</td>\n",
       "      <td>NO</td>\n",
       "      <td>None</td>\n",
       "    </tr>\n",
       "    <tr>\n",
       "      <th>4</th>\n",
       "      <td>status</td>\n",
       "      <td>character varying</td>\n",
       "      <td>NO</td>\n",
       "      <td>None</td>\n",
       "    </tr>\n",
       "    <tr>\n",
       "      <th>5</th>\n",
       "      <td>created_at</td>\n",
       "      <td>timestamp with time zone</td>\n",
       "      <td>NO</td>\n",
       "      <td>None</td>\n",
       "    </tr>\n",
       "    <tr>\n",
       "      <th>6</th>\n",
       "      <td>updated_at</td>\n",
       "      <td>timestamp with time zone</td>\n",
       "      <td>YES</td>\n",
       "      <td>None</td>\n",
       "    </tr>\n",
       "    <tr>\n",
       "      <th>7</th>\n",
       "      <td>created_by_id</td>\n",
       "      <td>uuid</td>\n",
       "      <td>YES</td>\n",
       "      <td>None</td>\n",
       "    </tr>\n",
       "    <tr>\n",
       "      <th>8</th>\n",
       "      <td>updated_by_id</td>\n",
       "      <td>uuid</td>\n",
       "      <td>YES</td>\n",
       "      <td>None</td>\n",
       "    </tr>\n",
       "    <tr>\n",
       "      <th>9</th>\n",
       "      <td>site_id</td>\n",
       "      <td>uuid</td>\n",
       "      <td>YES</td>\n",
       "      <td>None</td>\n",
       "    </tr>\n",
       "    <tr>\n",
       "      <th>10</th>\n",
       "      <td>notifications_settings</td>\n",
       "      <td>jsonb</td>\n",
       "      <td>YES</td>\n",
       "      <td>None</td>\n",
       "    </tr>\n",
       "  </tbody>\n",
       "</table>\n",
       "</div>"
      ],
      "text/plain": [
       "               column_name                 data_type is_nullable                          column_default\n",
       "0                       id                   integer          NO  nextval('lists_list_id_seq'::regclass)\n",
       "1                     name         character varying          NO                                    None\n",
       "2              description         character varying          NO                                    None\n",
       "3                     slug         character varying          NO                                    None\n",
       "4                   status         character varying          NO                                    None\n",
       "5               created_at  timestamp with time zone          NO                                    None\n",
       "6               updated_at  timestamp with time zone         YES                                    None\n",
       "7            created_by_id                      uuid         YES                                    None\n",
       "8            updated_by_id                      uuid         YES                                    None\n",
       "9                  site_id                      uuid         YES                                    None\n",
       "10  notifications_settings                     jsonb         YES                                    None"
      ]
     },
     "metadata": {},
     "output_type": "display_data"
    },
    {
     "data": {
      "text/markdown": [
       "\n",
       "##### Ограничения (PK, FK):"
      ],
      "text/plain": [
       "<IPython.core.display.Markdown object>"
      ]
     },
     "metadata": {},
     "output_type": "display_data"
    },
    {
     "name": "stderr",
     "output_type": "stream",
     "text": [
      "/tmp/ipykernel_450849/82215137.py:79: UserWarning: pandas only supports SQLAlchemy connectable (engine/connection) or database string URI or sqlite3 DBAPI2 connection. Other DBAPI2 objects are not tested. Please consider using SQLAlchemy.\n",
      "  df = pd.read_sql_query(query, conn)\n"
     ]
    },
    {
     "data": {
      "text/html": [
       "<div>\n",
       "<style scoped>\n",
       "    .dataframe tbody tr th:only-of-type {\n",
       "        vertical-align: middle;\n",
       "    }\n",
       "\n",
       "    .dataframe tbody tr th {\n",
       "        vertical-align: top;\n",
       "    }\n",
       "\n",
       "    .dataframe thead th {\n",
       "        text-align: right;\n",
       "    }\n",
       "</style>\n",
       "<table border=\"1\" class=\"dataframe\">\n",
       "  <thead>\n",
       "    <tr style=\"text-align: right;\">\n",
       "      <th></th>\n",
       "      <th>constraint_name</th>\n",
       "      <th>constraint_type</th>\n",
       "      <th>column_name</th>\n",
       "      <th>foreign_table_name</th>\n",
       "      <th>foreign_column_name</th>\n",
       "    </tr>\n",
       "  </thead>\n",
       "  <tbody>\n",
       "    <tr>\n",
       "      <th>0</th>\n",
       "      <td>fk_list_created_by_id</td>\n",
       "      <td>FOREIGN KEY</td>\n",
       "      <td>created_by_id</td>\n",
       "      <td>users_user</td>\n",
       "      <td>keycloak_id</td>\n",
       "    </tr>\n",
       "    <tr>\n",
       "      <th>1</th>\n",
       "      <td>fk_list_updated_by_id</td>\n",
       "      <td>FOREIGN KEY</td>\n",
       "      <td>updated_by_id</td>\n",
       "      <td>users_user</td>\n",
       "      <td>keycloak_id</td>\n",
       "    </tr>\n",
       "    <tr>\n",
       "      <th>2</th>\n",
       "      <td>lists_list_pkey</td>\n",
       "      <td>PRIMARY KEY</td>\n",
       "      <td>id</td>\n",
       "      <td>lists_list</td>\n",
       "      <td>id</td>\n",
       "    </tr>\n",
       "    <tr>\n",
       "      <th>3</th>\n",
       "      <td>unique_name_per_site</td>\n",
       "      <td>UNIQUE</td>\n",
       "      <td>name</td>\n",
       "      <td>lists_list</td>\n",
       "      <td>site_id</td>\n",
       "    </tr>\n",
       "    <tr>\n",
       "      <th>4</th>\n",
       "      <td>unique_name_per_site</td>\n",
       "      <td>UNIQUE</td>\n",
       "      <td>name</td>\n",
       "      <td>lists_list</td>\n",
       "      <td>name</td>\n",
       "    </tr>\n",
       "    <tr>\n",
       "      <th>5</th>\n",
       "      <td>unique_name_per_site</td>\n",
       "      <td>UNIQUE</td>\n",
       "      <td>site_id</td>\n",
       "      <td>lists_list</td>\n",
       "      <td>name</td>\n",
       "    </tr>\n",
       "    <tr>\n",
       "      <th>6</th>\n",
       "      <td>unique_name_per_site</td>\n",
       "      <td>UNIQUE</td>\n",
       "      <td>site_id</td>\n",
       "      <td>lists_list</td>\n",
       "      <td>site_id</td>\n",
       "    </tr>\n",
       "    <tr>\n",
       "      <th>7</th>\n",
       "      <td>unique_slug</td>\n",
       "      <td>UNIQUE</td>\n",
       "      <td>slug</td>\n",
       "      <td>lists_list</td>\n",
       "      <td>slug</td>\n",
       "    </tr>\n",
       "  </tbody>\n",
       "</table>\n",
       "</div>"
      ],
      "text/plain": [
       "         constraint_name constraint_type    column_name foreign_table_name foreign_column_name\n",
       "0  fk_list_created_by_id     FOREIGN KEY  created_by_id         users_user         keycloak_id\n",
       "1  fk_list_updated_by_id     FOREIGN KEY  updated_by_id         users_user         keycloak_id\n",
       "2        lists_list_pkey     PRIMARY KEY             id         lists_list                  id\n",
       "3   unique_name_per_site          UNIQUE           name         lists_list             site_id\n",
       "4   unique_name_per_site          UNIQUE           name         lists_list                name\n",
       "5   unique_name_per_site          UNIQUE        site_id         lists_list                name\n",
       "6   unique_name_per_site          UNIQUE        site_id         lists_list             site_id\n",
       "7            unique_slug          UNIQUE           slug         lists_list                slug"
      ]
     },
     "metadata": {},
     "output_type": "display_data"
    },
    {
     "data": {
      "text/markdown": [
       "\n",
       "#### Таблица: `lists_list_column`"
      ],
      "text/plain": [
       "<IPython.core.display.Markdown object>"
      ]
     },
     "metadata": {},
     "output_type": "display_data"
    },
    {
     "data": {
      "text/markdown": [
       "\n",
       "##### Схема:"
      ],
      "text/plain": [
       "<IPython.core.display.Markdown object>"
      ]
     },
     "metadata": {},
     "output_type": "display_data"
    },
    {
     "name": "stderr",
     "output_type": "stream",
     "text": [
      "/tmp/ipykernel_450849/82215137.py:49: UserWarning: pandas only supports SQLAlchemy connectable (engine/connection) or database string URI or sqlite3 DBAPI2 connection. Other DBAPI2 objects are not tested. Please consider using SQLAlchemy.\n",
      "  df = pd.read_sql_query(query, conn)\n"
     ]
    },
    {
     "data": {
      "text/html": [
       "<div>\n",
       "<style scoped>\n",
       "    .dataframe tbody tr th:only-of-type {\n",
       "        vertical-align: middle;\n",
       "    }\n",
       "\n",
       "    .dataframe tbody tr th {\n",
       "        vertical-align: top;\n",
       "    }\n",
       "\n",
       "    .dataframe thead th {\n",
       "        text-align: right;\n",
       "    }\n",
       "</style>\n",
       "<table border=\"1\" class=\"dataframe\">\n",
       "  <thead>\n",
       "    <tr style=\"text-align: right;\">\n",
       "      <th></th>\n",
       "      <th>column_name</th>\n",
       "      <th>data_type</th>\n",
       "      <th>is_nullable</th>\n",
       "      <th>column_default</th>\n",
       "    </tr>\n",
       "  </thead>\n",
       "  <tbody>\n",
       "    <tr>\n",
       "      <th>0</th>\n",
       "      <td>id</td>\n",
       "      <td>integer</td>\n",
       "      <td>NO</td>\n",
       "      <td>nextval('lists_list_column_id_seq'::regclass)</td>\n",
       "    </tr>\n",
       "    <tr>\n",
       "      <th>1</th>\n",
       "      <td>name</td>\n",
       "      <td>character varying</td>\n",
       "      <td>NO</td>\n",
       "      <td>None</td>\n",
       "    </tr>\n",
       "    <tr>\n",
       "      <th>2</th>\n",
       "      <td>field_type</td>\n",
       "      <td>character varying</td>\n",
       "      <td>NO</td>\n",
       "      <td>None</td>\n",
       "    </tr>\n",
       "    <tr>\n",
       "      <th>3</th>\n",
       "      <td>field_options</td>\n",
       "      <td>jsonb</td>\n",
       "      <td>NO</td>\n",
       "      <td>None</td>\n",
       "    </tr>\n",
       "    <tr>\n",
       "      <th>4</th>\n",
       "      <td>priority</td>\n",
       "      <td>integer</td>\n",
       "      <td>NO</td>\n",
       "      <td>None</td>\n",
       "    </tr>\n",
       "    <tr>\n",
       "      <th>5</th>\n",
       "      <td>is_required</td>\n",
       "      <td>boolean</td>\n",
       "      <td>NO</td>\n",
       "      <td>None</td>\n",
       "    </tr>\n",
       "    <tr>\n",
       "      <th>6</th>\n",
       "      <td>list_id</td>\n",
       "      <td>integer</td>\n",
       "      <td>NO</td>\n",
       "      <td>None</td>\n",
       "    </tr>\n",
       "    <tr>\n",
       "      <th>7</th>\n",
       "      <td>created_at</td>\n",
       "      <td>timestamp with time zone</td>\n",
       "      <td>NO</td>\n",
       "      <td>None</td>\n",
       "    </tr>\n",
       "    <tr>\n",
       "      <th>8</th>\n",
       "      <td>updated_at</td>\n",
       "      <td>timestamp with time zone</td>\n",
       "      <td>YES</td>\n",
       "      <td>None</td>\n",
       "    </tr>\n",
       "    <tr>\n",
       "      <th>9</th>\n",
       "      <td>created_by_id</td>\n",
       "      <td>uuid</td>\n",
       "      <td>YES</td>\n",
       "      <td>None</td>\n",
       "    </tr>\n",
       "    <tr>\n",
       "      <th>10</th>\n",
       "      <td>updated_by_id</td>\n",
       "      <td>uuid</td>\n",
       "      <td>YES</td>\n",
       "      <td>None</td>\n",
       "    </tr>\n",
       "    <tr>\n",
       "      <th>11</th>\n",
       "      <td>is_visible</td>\n",
       "      <td>boolean</td>\n",
       "      <td>NO</td>\n",
       "      <td>true</td>\n",
       "    </tr>\n",
       "    <tr>\n",
       "      <th>12</th>\n",
       "      <td>state_history</td>\n",
       "      <td>jsonb</td>\n",
       "      <td>YES</td>\n",
       "      <td>None</td>\n",
       "    </tr>\n",
       "  </tbody>\n",
       "</table>\n",
       "</div>"
      ],
      "text/plain": [
       "      column_name                 data_type is_nullable                                 column_default\n",
       "0              id                   integer          NO  nextval('lists_list_column_id_seq'::regclass)\n",
       "1            name         character varying          NO                                           None\n",
       "2      field_type         character varying          NO                                           None\n",
       "3   field_options                     jsonb          NO                                           None\n",
       "4        priority                   integer          NO                                           None\n",
       "5     is_required                   boolean          NO                                           None\n",
       "6         list_id                   integer          NO                                           None\n",
       "7      created_at  timestamp with time zone          NO                                           None\n",
       "8      updated_at  timestamp with time zone         YES                                           None\n",
       "9   created_by_id                      uuid         YES                                           None\n",
       "10  updated_by_id                      uuid         YES                                           None\n",
       "11     is_visible                   boolean          NO                                           true\n",
       "12  state_history                     jsonb         YES                                           None"
      ]
     },
     "metadata": {},
     "output_type": "display_data"
    },
    {
     "data": {
      "text/markdown": [
       "\n",
       "##### Ограничения (PK, FK):"
      ],
      "text/plain": [
       "<IPython.core.display.Markdown object>"
      ]
     },
     "metadata": {},
     "output_type": "display_data"
    },
    {
     "name": "stderr",
     "output_type": "stream",
     "text": [
      "/tmp/ipykernel_450849/82215137.py:79: UserWarning: pandas only supports SQLAlchemy connectable (engine/connection) or database string URI or sqlite3 DBAPI2 connection. Other DBAPI2 objects are not tested. Please consider using SQLAlchemy.\n",
      "  df = pd.read_sql_query(query, conn)\n"
     ]
    },
    {
     "data": {
      "text/html": [
       "<div>\n",
       "<style scoped>\n",
       "    .dataframe tbody tr th:only-of-type {\n",
       "        vertical-align: middle;\n",
       "    }\n",
       "\n",
       "    .dataframe tbody tr th {\n",
       "        vertical-align: top;\n",
       "    }\n",
       "\n",
       "    .dataframe thead th {\n",
       "        text-align: right;\n",
       "    }\n",
       "</style>\n",
       "<table border=\"1\" class=\"dataframe\">\n",
       "  <thead>\n",
       "    <tr style=\"text-align: right;\">\n",
       "      <th></th>\n",
       "      <th>constraint_name</th>\n",
       "      <th>constraint_type</th>\n",
       "      <th>column_name</th>\n",
       "      <th>foreign_table_name</th>\n",
       "      <th>foreign_column_name</th>\n",
       "    </tr>\n",
       "  </thead>\n",
       "  <tbody>\n",
       "    <tr>\n",
       "      <th>0</th>\n",
       "      <td>fk_lists_list_column_created_by_id</td>\n",
       "      <td>FOREIGN KEY</td>\n",
       "      <td>created_by_id</td>\n",
       "      <td>users_user</td>\n",
       "      <td>keycloak_id</td>\n",
       "    </tr>\n",
       "    <tr>\n",
       "      <th>1</th>\n",
       "      <td>fk_lists_list_column_updated_by_id</td>\n",
       "      <td>FOREIGN KEY</td>\n",
       "      <td>updated_by_id</td>\n",
       "      <td>users_user</td>\n",
       "      <td>keycloak_id</td>\n",
       "    </tr>\n",
       "    <tr>\n",
       "      <th>2</th>\n",
       "      <td>lists_list_column_list_id_fkey</td>\n",
       "      <td>FOREIGN KEY</td>\n",
       "      <td>list_id</td>\n",
       "      <td>lists_list</td>\n",
       "      <td>id</td>\n",
       "    </tr>\n",
       "    <tr>\n",
       "      <th>3</th>\n",
       "      <td>lists_list_column_pkey</td>\n",
       "      <td>PRIMARY KEY</td>\n",
       "      <td>id</td>\n",
       "      <td>lists_list_column</td>\n",
       "      <td>id</td>\n",
       "    </tr>\n",
       "  </tbody>\n",
       "</table>\n",
       "</div>"
      ],
      "text/plain": [
       "                      constraint_name constraint_type    column_name foreign_table_name foreign_column_name\n",
       "0  fk_lists_list_column_created_by_id     FOREIGN KEY  created_by_id         users_user         keycloak_id\n",
       "1  fk_lists_list_column_updated_by_id     FOREIGN KEY  updated_by_id         users_user         keycloak_id\n",
       "2      lists_list_column_list_id_fkey     FOREIGN KEY        list_id         lists_list                  id\n",
       "3              lists_list_column_pkey     PRIMARY KEY             id  lists_list_column                  id"
      ]
     },
     "metadata": {},
     "output_type": "display_data"
    },
    {
     "data": {
      "text/markdown": [
       "\n",
       "#### Таблица: `lists_list_group`"
      ],
      "text/plain": [
       "<IPython.core.display.Markdown object>"
      ]
     },
     "metadata": {},
     "output_type": "display_data"
    },
    {
     "data": {
      "text/markdown": [
       "\n",
       "##### Схема:"
      ],
      "text/plain": [
       "<IPython.core.display.Markdown object>"
      ]
     },
     "metadata": {},
     "output_type": "display_data"
    },
    {
     "name": "stderr",
     "output_type": "stream",
     "text": [
      "/tmp/ipykernel_450849/82215137.py:49: UserWarning: pandas only supports SQLAlchemy connectable (engine/connection) or database string URI or sqlite3 DBAPI2 connection. Other DBAPI2 objects are not tested. Please consider using SQLAlchemy.\n",
      "  df = pd.read_sql_query(query, conn)\n"
     ]
    },
    {
     "data": {
      "text/html": [
       "<div>\n",
       "<style scoped>\n",
       "    .dataframe tbody tr th:only-of-type {\n",
       "        vertical-align: middle;\n",
       "    }\n",
       "\n",
       "    .dataframe tbody tr th {\n",
       "        vertical-align: top;\n",
       "    }\n",
       "\n",
       "    .dataframe thead th {\n",
       "        text-align: right;\n",
       "    }\n",
       "</style>\n",
       "<table border=\"1\" class=\"dataframe\">\n",
       "  <thead>\n",
       "    <tr style=\"text-align: right;\">\n",
       "      <th></th>\n",
       "      <th>column_name</th>\n",
       "      <th>data_type</th>\n",
       "      <th>is_nullable</th>\n",
       "      <th>column_default</th>\n",
       "    </tr>\n",
       "  </thead>\n",
       "  <tbody>\n",
       "    <tr>\n",
       "      <th>0</th>\n",
       "      <td>id</td>\n",
       "      <td>integer</td>\n",
       "      <td>NO</td>\n",
       "      <td>nextval('lists_list_group_id_seq'::regclass)</td>\n",
       "    </tr>\n",
       "    <tr>\n",
       "      <th>1</th>\n",
       "      <td>name</td>\n",
       "      <td>character varying</td>\n",
       "      <td>NO</td>\n",
       "      <td>None</td>\n",
       "    </tr>\n",
       "    <tr>\n",
       "      <th>2</th>\n",
       "      <td>group_type</td>\n",
       "      <td>character varying</td>\n",
       "      <td>NO</td>\n",
       "      <td>None</td>\n",
       "    </tr>\n",
       "    <tr>\n",
       "      <th>3</th>\n",
       "      <td>group_by_column_id</td>\n",
       "      <td>integer</td>\n",
       "      <td>YES</td>\n",
       "      <td>None</td>\n",
       "    </tr>\n",
       "    <tr>\n",
       "      <th>4</th>\n",
       "      <td>group_by_row_id</td>\n",
       "      <td>integer</td>\n",
       "      <td>YES</td>\n",
       "      <td>None</td>\n",
       "    </tr>\n",
       "    <tr>\n",
       "      <th>5</th>\n",
       "      <td>list_id</td>\n",
       "      <td>integer</td>\n",
       "      <td>NO</td>\n",
       "      <td>None</td>\n",
       "    </tr>\n",
       "    <tr>\n",
       "      <th>6</th>\n",
       "      <td>created_at</td>\n",
       "      <td>timestamp with time zone</td>\n",
       "      <td>NO</td>\n",
       "      <td>None</td>\n",
       "    </tr>\n",
       "    <tr>\n",
       "      <th>7</th>\n",
       "      <td>updated_at</td>\n",
       "      <td>timestamp with time zone</td>\n",
       "      <td>YES</td>\n",
       "      <td>None</td>\n",
       "    </tr>\n",
       "    <tr>\n",
       "      <th>8</th>\n",
       "      <td>created_by_id</td>\n",
       "      <td>uuid</td>\n",
       "      <td>YES</td>\n",
       "      <td>None</td>\n",
       "    </tr>\n",
       "    <tr>\n",
       "      <th>9</th>\n",
       "      <td>updated_by_id</td>\n",
       "      <td>uuid</td>\n",
       "      <td>YES</td>\n",
       "      <td>None</td>\n",
       "    </tr>\n",
       "  </tbody>\n",
       "</table>\n",
       "</div>"
      ],
      "text/plain": [
       "          column_name                 data_type is_nullable                                column_default\n",
       "0                  id                   integer          NO  nextval('lists_list_group_id_seq'::regclass)\n",
       "1                name         character varying          NO                                          None\n",
       "2          group_type         character varying          NO                                          None\n",
       "3  group_by_column_id                   integer         YES                                          None\n",
       "4     group_by_row_id                   integer         YES                                          None\n",
       "5             list_id                   integer          NO                                          None\n",
       "6          created_at  timestamp with time zone          NO                                          None\n",
       "7          updated_at  timestamp with time zone         YES                                          None\n",
       "8       created_by_id                      uuid         YES                                          None\n",
       "9       updated_by_id                      uuid         YES                                          None"
      ]
     },
     "metadata": {},
     "output_type": "display_data"
    },
    {
     "data": {
      "text/markdown": [
       "\n",
       "##### Ограничения (PK, FK):"
      ],
      "text/plain": [
       "<IPython.core.display.Markdown object>"
      ]
     },
     "metadata": {},
     "output_type": "display_data"
    },
    {
     "name": "stderr",
     "output_type": "stream",
     "text": [
      "/tmp/ipykernel_450849/82215137.py:79: UserWarning: pandas only supports SQLAlchemy connectable (engine/connection) or database string URI or sqlite3 DBAPI2 connection. Other DBAPI2 objects are not tested. Please consider using SQLAlchemy.\n",
      "  df = pd.read_sql_query(query, conn)\n"
     ]
    },
    {
     "data": {
      "text/html": [
       "<div>\n",
       "<style scoped>\n",
       "    .dataframe tbody tr th:only-of-type {\n",
       "        vertical-align: middle;\n",
       "    }\n",
       "\n",
       "    .dataframe tbody tr th {\n",
       "        vertical-align: top;\n",
       "    }\n",
       "\n",
       "    .dataframe thead th {\n",
       "        text-align: right;\n",
       "    }\n",
       "</style>\n",
       "<table border=\"1\" class=\"dataframe\">\n",
       "  <thead>\n",
       "    <tr style=\"text-align: right;\">\n",
       "      <th></th>\n",
       "      <th>constraint_name</th>\n",
       "      <th>constraint_type</th>\n",
       "      <th>column_name</th>\n",
       "      <th>foreign_table_name</th>\n",
       "      <th>foreign_column_name</th>\n",
       "    </tr>\n",
       "  </thead>\n",
       "  <tbody>\n",
       "    <tr>\n",
       "      <th>0</th>\n",
       "      <td>lists_list_group_created_by_id_fkey</td>\n",
       "      <td>FOREIGN KEY</td>\n",
       "      <td>created_by_id</td>\n",
       "      <td>users_user</td>\n",
       "      <td>keycloak_id</td>\n",
       "    </tr>\n",
       "    <tr>\n",
       "      <th>1</th>\n",
       "      <td>lists_list_group_list_id_fkey</td>\n",
       "      <td>FOREIGN KEY</td>\n",
       "      <td>list_id</td>\n",
       "      <td>lists_list</td>\n",
       "      <td>id</td>\n",
       "    </tr>\n",
       "    <tr>\n",
       "      <th>2</th>\n",
       "      <td>lists_list_group_updated_by_id_fkey</td>\n",
       "      <td>FOREIGN KEY</td>\n",
       "      <td>updated_by_id</td>\n",
       "      <td>users_user</td>\n",
       "      <td>keycloak_id</td>\n",
       "    </tr>\n",
       "    <tr>\n",
       "      <th>3</th>\n",
       "      <td>lists_list_group_pkey</td>\n",
       "      <td>PRIMARY KEY</td>\n",
       "      <td>id</td>\n",
       "      <td>lists_list_group</td>\n",
       "      <td>id</td>\n",
       "    </tr>\n",
       "  </tbody>\n",
       "</table>\n",
       "</div>"
      ],
      "text/plain": [
       "                       constraint_name constraint_type    column_name foreign_table_name foreign_column_name\n",
       "0  lists_list_group_created_by_id_fkey     FOREIGN KEY  created_by_id         users_user         keycloak_id\n",
       "1        lists_list_group_list_id_fkey     FOREIGN KEY        list_id         lists_list                  id\n",
       "2  lists_list_group_updated_by_id_fkey     FOREIGN KEY  updated_by_id         users_user         keycloak_id\n",
       "3                lists_list_group_pkey     PRIMARY KEY             id   lists_list_group                  id"
      ]
     },
     "metadata": {},
     "output_type": "display_data"
    },
    {
     "data": {
      "text/markdown": [
       "\n",
       "#### Таблица: `lists_list_row`"
      ],
      "text/plain": [
       "<IPython.core.display.Markdown object>"
      ]
     },
     "metadata": {},
     "output_type": "display_data"
    },
    {
     "data": {
      "text/markdown": [
       "\n",
       "##### Схема:"
      ],
      "text/plain": [
       "<IPython.core.display.Markdown object>"
      ]
     },
     "metadata": {},
     "output_type": "display_data"
    },
    {
     "name": "stderr",
     "output_type": "stream",
     "text": [
      "/tmp/ipykernel_450849/82215137.py:49: UserWarning: pandas only supports SQLAlchemy connectable (engine/connection) or database string URI or sqlite3 DBAPI2 connection. Other DBAPI2 objects are not tested. Please consider using SQLAlchemy.\n",
      "  df = pd.read_sql_query(query, conn)\n"
     ]
    },
    {
     "data": {
      "text/html": [
       "<div>\n",
       "<style scoped>\n",
       "    .dataframe tbody tr th:only-of-type {\n",
       "        vertical-align: middle;\n",
       "    }\n",
       "\n",
       "    .dataframe tbody tr th {\n",
       "        vertical-align: top;\n",
       "    }\n",
       "\n",
       "    .dataframe thead th {\n",
       "        text-align: right;\n",
       "    }\n",
       "</style>\n",
       "<table border=\"1\" class=\"dataframe\">\n",
       "  <thead>\n",
       "    <tr style=\"text-align: right;\">\n",
       "      <th></th>\n",
       "      <th>column_name</th>\n",
       "      <th>data_type</th>\n",
       "      <th>is_nullable</th>\n",
       "      <th>column_default</th>\n",
       "    </tr>\n",
       "  </thead>\n",
       "  <tbody>\n",
       "    <tr>\n",
       "      <th>0</th>\n",
       "      <td>id</td>\n",
       "      <td>integer</td>\n",
       "      <td>NO</td>\n",
       "      <td>nextval('lists_list_row_id_seq'::regclass)</td>\n",
       "    </tr>\n",
       "    <tr>\n",
       "      <th>1</th>\n",
       "      <td>list_id</td>\n",
       "      <td>integer</td>\n",
       "      <td>NO</td>\n",
       "      <td>None</td>\n",
       "    </tr>\n",
       "    <tr>\n",
       "      <th>2</th>\n",
       "      <td>row_values</td>\n",
       "      <td>jsonb</td>\n",
       "      <td>NO</td>\n",
       "      <td>None</td>\n",
       "    </tr>\n",
       "    <tr>\n",
       "      <th>3</th>\n",
       "      <td>created_at</td>\n",
       "      <td>timestamp with time zone</td>\n",
       "      <td>NO</td>\n",
       "      <td>None</td>\n",
       "    </tr>\n",
       "    <tr>\n",
       "      <th>4</th>\n",
       "      <td>updated_at</td>\n",
       "      <td>timestamp with time zone</td>\n",
       "      <td>YES</td>\n",
       "      <td>None</td>\n",
       "    </tr>\n",
       "    <tr>\n",
       "      <th>5</th>\n",
       "      <td>created_by_id</td>\n",
       "      <td>uuid</td>\n",
       "      <td>YES</td>\n",
       "      <td>None</td>\n",
       "    </tr>\n",
       "    <tr>\n",
       "      <th>6</th>\n",
       "      <td>updated_by_id</td>\n",
       "      <td>uuid</td>\n",
       "      <td>YES</td>\n",
       "      <td>None</td>\n",
       "    </tr>\n",
       "    <tr>\n",
       "      <th>7</th>\n",
       "      <td>group_id</td>\n",
       "      <td>integer</td>\n",
       "      <td>YES</td>\n",
       "      <td>None</td>\n",
       "    </tr>\n",
       "    <tr>\n",
       "      <th>8</th>\n",
       "      <td>position_primary</td>\n",
       "      <td>integer</td>\n",
       "      <td>NO</td>\n",
       "      <td>None</td>\n",
       "    </tr>\n",
       "    <tr>\n",
       "      <th>9</th>\n",
       "      <td>position_secondary</td>\n",
       "      <td>integer</td>\n",
       "      <td>NO</td>\n",
       "      <td>None</td>\n",
       "    </tr>\n",
       "  </tbody>\n",
       "</table>\n",
       "</div>"
      ],
      "text/plain": [
       "          column_name                 data_type is_nullable                              column_default\n",
       "0                  id                   integer          NO  nextval('lists_list_row_id_seq'::regclass)\n",
       "1             list_id                   integer          NO                                        None\n",
       "2          row_values                     jsonb          NO                                        None\n",
       "3          created_at  timestamp with time zone          NO                                        None\n",
       "4          updated_at  timestamp with time zone         YES                                        None\n",
       "5       created_by_id                      uuid         YES                                        None\n",
       "6       updated_by_id                      uuid         YES                                        None\n",
       "7            group_id                   integer         YES                                        None\n",
       "8    position_primary                   integer          NO                                        None\n",
       "9  position_secondary                   integer          NO                                        None"
      ]
     },
     "metadata": {},
     "output_type": "display_data"
    },
    {
     "data": {
      "text/markdown": [
       "\n",
       "##### Ограничения (PK, FK):"
      ],
      "text/plain": [
       "<IPython.core.display.Markdown object>"
      ]
     },
     "metadata": {},
     "output_type": "display_data"
    },
    {
     "name": "stderr",
     "output_type": "stream",
     "text": [
      "/tmp/ipykernel_450849/82215137.py:79: UserWarning: pandas only supports SQLAlchemy connectable (engine/connection) or database string URI or sqlite3 DBAPI2 connection. Other DBAPI2 objects are not tested. Please consider using SQLAlchemy.\n",
      "  df = pd.read_sql_query(query, conn)\n"
     ]
    },
    {
     "data": {
      "text/html": [
       "<div>\n",
       "<style scoped>\n",
       "    .dataframe tbody tr th:only-of-type {\n",
       "        vertical-align: middle;\n",
       "    }\n",
       "\n",
       "    .dataframe tbody tr th {\n",
       "        vertical-align: top;\n",
       "    }\n",
       "\n",
       "    .dataframe thead th {\n",
       "        text-align: right;\n",
       "    }\n",
       "</style>\n",
       "<table border=\"1\" class=\"dataframe\">\n",
       "  <thead>\n",
       "    <tr style=\"text-align: right;\">\n",
       "      <th></th>\n",
       "      <th>constraint_name</th>\n",
       "      <th>constraint_type</th>\n",
       "      <th>column_name</th>\n",
       "      <th>foreign_table_name</th>\n",
       "      <th>foreign_column_name</th>\n",
       "    </tr>\n",
       "  </thead>\n",
       "  <tbody>\n",
       "    <tr>\n",
       "      <th>0</th>\n",
       "      <td>fk_lists_list_row_created_by_id</td>\n",
       "      <td>FOREIGN KEY</td>\n",
       "      <td>created_by_id</td>\n",
       "      <td>users_user</td>\n",
       "      <td>keycloak_id</td>\n",
       "    </tr>\n",
       "    <tr>\n",
       "      <th>1</th>\n",
       "      <td>fk_lists_list_row_group_id</td>\n",
       "      <td>FOREIGN KEY</td>\n",
       "      <td>group_id</td>\n",
       "      <td>lists_list_group</td>\n",
       "      <td>id</td>\n",
       "    </tr>\n",
       "    <tr>\n",
       "      <th>2</th>\n",
       "      <td>fk_lists_list_row_updated_by_id</td>\n",
       "      <td>FOREIGN KEY</td>\n",
       "      <td>updated_by_id</td>\n",
       "      <td>users_user</td>\n",
       "      <td>keycloak_id</td>\n",
       "    </tr>\n",
       "    <tr>\n",
       "      <th>3</th>\n",
       "      <td>lists_list_row_list_id_fkey</td>\n",
       "      <td>FOREIGN KEY</td>\n",
       "      <td>list_id</td>\n",
       "      <td>lists_list</td>\n",
       "      <td>id</td>\n",
       "    </tr>\n",
       "    <tr>\n",
       "      <th>4</th>\n",
       "      <td>lists_list_row_pkey</td>\n",
       "      <td>PRIMARY KEY</td>\n",
       "      <td>id</td>\n",
       "      <td>lists_list_row</td>\n",
       "      <td>id</td>\n",
       "    </tr>\n",
       "  </tbody>\n",
       "</table>\n",
       "</div>"
      ],
      "text/plain": [
       "                   constraint_name constraint_type    column_name foreign_table_name foreign_column_name\n",
       "0  fk_lists_list_row_created_by_id     FOREIGN KEY  created_by_id         users_user         keycloak_id\n",
       "1       fk_lists_list_row_group_id     FOREIGN KEY       group_id   lists_list_group                  id\n",
       "2  fk_lists_list_row_updated_by_id     FOREIGN KEY  updated_by_id         users_user         keycloak_id\n",
       "3      lists_list_row_list_id_fkey     FOREIGN KEY        list_id         lists_list                  id\n",
       "4              lists_list_row_pkey     PRIMARY KEY             id     lists_list_row                  id"
      ]
     },
     "metadata": {},
     "output_type": "display_data"
    },
    {
     "data": {
      "text/markdown": [
       "\n",
       "#### Таблица: `permissions_permission`"
      ],
      "text/plain": [
       "<IPython.core.display.Markdown object>"
      ]
     },
     "metadata": {},
     "output_type": "display_data"
    },
    {
     "data": {
      "text/markdown": [
       "\n",
       "##### Схема:"
      ],
      "text/plain": [
       "<IPython.core.display.Markdown object>"
      ]
     },
     "metadata": {},
     "output_type": "display_data"
    },
    {
     "name": "stderr",
     "output_type": "stream",
     "text": [
      "/tmp/ipykernel_450849/82215137.py:49: UserWarning: pandas only supports SQLAlchemy connectable (engine/connection) or database string URI or sqlite3 DBAPI2 connection. Other DBAPI2 objects are not tested. Please consider using SQLAlchemy.\n",
      "  df = pd.read_sql_query(query, conn)\n"
     ]
    },
    {
     "data": {
      "text/html": [
       "<div>\n",
       "<style scoped>\n",
       "    .dataframe tbody tr th:only-of-type {\n",
       "        vertical-align: middle;\n",
       "    }\n",
       "\n",
       "    .dataframe tbody tr th {\n",
       "        vertical-align: top;\n",
       "    }\n",
       "\n",
       "    .dataframe thead th {\n",
       "        text-align: right;\n",
       "    }\n",
       "</style>\n",
       "<table border=\"1\" class=\"dataframe\">\n",
       "  <thead>\n",
       "    <tr style=\"text-align: right;\">\n",
       "      <th></th>\n",
       "      <th>column_name</th>\n",
       "      <th>data_type</th>\n",
       "      <th>is_nullable</th>\n",
       "      <th>column_default</th>\n",
       "    </tr>\n",
       "  </thead>\n",
       "  <tbody>\n",
       "    <tr>\n",
       "      <th>0</th>\n",
       "      <td>id</td>\n",
       "      <td>integer</td>\n",
       "      <td>NO</td>\n",
       "      <td>nextval('permissions_permission_id_seq'::regcl...</td>\n",
       "    </tr>\n",
       "    <tr>\n",
       "      <th>1</th>\n",
       "      <td>name</td>\n",
       "      <td>character varying</td>\n",
       "      <td>NO</td>\n",
       "      <td>None</td>\n",
       "    </tr>\n",
       "    <tr>\n",
       "      <th>2</th>\n",
       "      <td>display_name</td>\n",
       "      <td>character varying</td>\n",
       "      <td>NO</td>\n",
       "      <td>None</td>\n",
       "    </tr>\n",
       "    <tr>\n",
       "      <th>3</th>\n",
       "      <td>scope</td>\n",
       "      <td>character varying</td>\n",
       "      <td>NO</td>\n",
       "      <td>None</td>\n",
       "    </tr>\n",
       "    <tr>\n",
       "      <th>4</th>\n",
       "      <td>subscope</td>\n",
       "      <td>character varying</td>\n",
       "      <td>NO</td>\n",
       "      <td>None</td>\n",
       "    </tr>\n",
       "  </tbody>\n",
       "</table>\n",
       "</div>"
      ],
      "text/plain": [
       "    column_name          data_type is_nullable                                     column_default\n",
       "0            id            integer          NO  nextval('permissions_permission_id_seq'::regcl...\n",
       "1          name  character varying          NO                                               None\n",
       "2  display_name  character varying          NO                                               None\n",
       "3         scope  character varying          NO                                               None\n",
       "4      subscope  character varying          NO                                               None"
      ]
     },
     "metadata": {},
     "output_type": "display_data"
    },
    {
     "data": {
      "text/markdown": [
       "\n",
       "##### Ограничения (PK, FK):"
      ],
      "text/plain": [
       "<IPython.core.display.Markdown object>"
      ]
     },
     "metadata": {},
     "output_type": "display_data"
    },
    {
     "name": "stderr",
     "output_type": "stream",
     "text": [
      "/tmp/ipykernel_450849/82215137.py:79: UserWarning: pandas only supports SQLAlchemy connectable (engine/connection) or database string URI or sqlite3 DBAPI2 connection. Other DBAPI2 objects are not tested. Please consider using SQLAlchemy.\n",
      "  df = pd.read_sql_query(query, conn)\n"
     ]
    },
    {
     "data": {
      "text/html": [
       "<div>\n",
       "<style scoped>\n",
       "    .dataframe tbody tr th:only-of-type {\n",
       "        vertical-align: middle;\n",
       "    }\n",
       "\n",
       "    .dataframe tbody tr th {\n",
       "        vertical-align: top;\n",
       "    }\n",
       "\n",
       "    .dataframe thead th {\n",
       "        text-align: right;\n",
       "    }\n",
       "</style>\n",
       "<table border=\"1\" class=\"dataframe\">\n",
       "  <thead>\n",
       "    <tr style=\"text-align: right;\">\n",
       "      <th></th>\n",
       "      <th>constraint_name</th>\n",
       "      <th>constraint_type</th>\n",
       "      <th>column_name</th>\n",
       "      <th>foreign_table_name</th>\n",
       "      <th>foreign_column_name</th>\n",
       "    </tr>\n",
       "  </thead>\n",
       "  <tbody>\n",
       "    <tr>\n",
       "      <th>0</th>\n",
       "      <td>permissions_permission_pkey</td>\n",
       "      <td>PRIMARY KEY</td>\n",
       "      <td>id</td>\n",
       "      <td>permissions_permission</td>\n",
       "      <td>id</td>\n",
       "    </tr>\n",
       "  </tbody>\n",
       "</table>\n",
       "</div>"
      ],
      "text/plain": [
       "               constraint_name constraint_type column_name      foreign_table_name foreign_column_name\n",
       "0  permissions_permission_pkey     PRIMARY KEY          id  permissions_permission                  id"
      ]
     },
     "metadata": {},
     "output_type": "display_data"
    },
    {
     "data": {
      "text/markdown": [
       "\n",
       "#### Таблица: `permissions_permission_to_role_association`"
      ],
      "text/plain": [
       "<IPython.core.display.Markdown object>"
      ]
     },
     "metadata": {},
     "output_type": "display_data"
    },
    {
     "data": {
      "text/markdown": [
       "\n",
       "##### Схема:"
      ],
      "text/plain": [
       "<IPython.core.display.Markdown object>"
      ]
     },
     "metadata": {},
     "output_type": "display_data"
    },
    {
     "name": "stderr",
     "output_type": "stream",
     "text": [
      "/tmp/ipykernel_450849/82215137.py:49: UserWarning: pandas only supports SQLAlchemy connectable (engine/connection) or database string URI or sqlite3 DBAPI2 connection. Other DBAPI2 objects are not tested. Please consider using SQLAlchemy.\n",
      "  df = pd.read_sql_query(query, conn)\n"
     ]
    },
    {
     "data": {
      "text/html": [
       "<div>\n",
       "<style scoped>\n",
       "    .dataframe tbody tr th:only-of-type {\n",
       "        vertical-align: middle;\n",
       "    }\n",
       "\n",
       "    .dataframe tbody tr th {\n",
       "        vertical-align: top;\n",
       "    }\n",
       "\n",
       "    .dataframe thead th {\n",
       "        text-align: right;\n",
       "    }\n",
       "</style>\n",
       "<table border=\"1\" class=\"dataframe\">\n",
       "  <thead>\n",
       "    <tr style=\"text-align: right;\">\n",
       "      <th></th>\n",
       "      <th>column_name</th>\n",
       "      <th>data_type</th>\n",
       "      <th>is_nullable</th>\n",
       "      <th>column_default</th>\n",
       "    </tr>\n",
       "  </thead>\n",
       "  <tbody>\n",
       "    <tr>\n",
       "      <th>0</th>\n",
       "      <td>role_id</td>\n",
       "      <td>integer</td>\n",
       "      <td>NO</td>\n",
       "      <td>None</td>\n",
       "    </tr>\n",
       "    <tr>\n",
       "      <th>1</th>\n",
       "      <td>permission_id</td>\n",
       "      <td>integer</td>\n",
       "      <td>NO</td>\n",
       "      <td>None</td>\n",
       "    </tr>\n",
       "  </tbody>\n",
       "</table>\n",
       "</div>"
      ],
      "text/plain": [
       "     column_name data_type is_nullable column_default\n",
       "0        role_id   integer          NO           None\n",
       "1  permission_id   integer          NO           None"
      ]
     },
     "metadata": {},
     "output_type": "display_data"
    },
    {
     "data": {
      "text/markdown": [
       "\n",
       "##### Ограничения (PK, FK):"
      ],
      "text/plain": [
       "<IPython.core.display.Markdown object>"
      ]
     },
     "metadata": {},
     "output_type": "display_data"
    },
    {
     "name": "stderr",
     "output_type": "stream",
     "text": [
      "/tmp/ipykernel_450849/82215137.py:79: UserWarning: pandas only supports SQLAlchemy connectable (engine/connection) or database string URI or sqlite3 DBAPI2 connection. Other DBAPI2 objects are not tested. Please consider using SQLAlchemy.\n",
      "  df = pd.read_sql_query(query, conn)\n"
     ]
    },
    {
     "data": {
      "text/html": [
       "<div>\n",
       "<style scoped>\n",
       "    .dataframe tbody tr th:only-of-type {\n",
       "        vertical-align: middle;\n",
       "    }\n",
       "\n",
       "    .dataframe tbody tr th {\n",
       "        vertical-align: top;\n",
       "    }\n",
       "\n",
       "    .dataframe thead th {\n",
       "        text-align: right;\n",
       "    }\n",
       "</style>\n",
       "<table border=\"1\" class=\"dataframe\">\n",
       "  <thead>\n",
       "    <tr style=\"text-align: right;\">\n",
       "      <th></th>\n",
       "      <th>constraint_name</th>\n",
       "      <th>constraint_type</th>\n",
       "      <th>column_name</th>\n",
       "      <th>foreign_table_name</th>\n",
       "      <th>foreign_column_name</th>\n",
       "    </tr>\n",
       "  </thead>\n",
       "  <tbody>\n",
       "    <tr>\n",
       "      <th>0</th>\n",
       "      <td>permissions_permission_to_role_association_per...</td>\n",
       "      <td>FOREIGN KEY</td>\n",
       "      <td>permission_id</td>\n",
       "      <td>permissions_permission</td>\n",
       "      <td>id</td>\n",
       "    </tr>\n",
       "    <tr>\n",
       "      <th>1</th>\n",
       "      <td>permissions_permission_to_role_association_rol...</td>\n",
       "      <td>FOREIGN KEY</td>\n",
       "      <td>role_id</td>\n",
       "      <td>permissions_role</td>\n",
       "      <td>id</td>\n",
       "    </tr>\n",
       "    <tr>\n",
       "      <th>2</th>\n",
       "      <td>permissions_permission_to_role_association_pkey</td>\n",
       "      <td>PRIMARY KEY</td>\n",
       "      <td>role_id</td>\n",
       "      <td>permissions_permission_to_role_association</td>\n",
       "      <td>role_id</td>\n",
       "    </tr>\n",
       "    <tr>\n",
       "      <th>3</th>\n",
       "      <td>permissions_permission_to_role_association_pkey</td>\n",
       "      <td>PRIMARY KEY</td>\n",
       "      <td>role_id</td>\n",
       "      <td>permissions_permission_to_role_association</td>\n",
       "      <td>permission_id</td>\n",
       "    </tr>\n",
       "    <tr>\n",
       "      <th>4</th>\n",
       "      <td>permissions_permission_to_role_association_pkey</td>\n",
       "      <td>PRIMARY KEY</td>\n",
       "      <td>permission_id</td>\n",
       "      <td>permissions_permission_to_role_association</td>\n",
       "      <td>role_id</td>\n",
       "    </tr>\n",
       "    <tr>\n",
       "      <th>5</th>\n",
       "      <td>permissions_permission_to_role_association_pkey</td>\n",
       "      <td>PRIMARY KEY</td>\n",
       "      <td>permission_id</td>\n",
       "      <td>permissions_permission_to_role_association</td>\n",
       "      <td>permission_id</td>\n",
       "    </tr>\n",
       "  </tbody>\n",
       "</table>\n",
       "</div>"
      ],
      "text/plain": [
       "                                     constraint_name constraint_type    column_name                          foreign_table_name foreign_column_name\n",
       "0  permissions_permission_to_role_association_per...     FOREIGN KEY  permission_id                      permissions_permission                  id\n",
       "1  permissions_permission_to_role_association_rol...     FOREIGN KEY        role_id                            permissions_role                  id\n",
       "2    permissions_permission_to_role_association_pkey     PRIMARY KEY        role_id  permissions_permission_to_role_association             role_id\n",
       "3    permissions_permission_to_role_association_pkey     PRIMARY KEY        role_id  permissions_permission_to_role_association       permission_id\n",
       "4    permissions_permission_to_role_association_pkey     PRIMARY KEY  permission_id  permissions_permission_to_role_association             role_id\n",
       "5    permissions_permission_to_role_association_pkey     PRIMARY KEY  permission_id  permissions_permission_to_role_association       permission_id"
      ]
     },
     "metadata": {},
     "output_type": "display_data"
    },
    {
     "data": {
      "text/markdown": [
       "\n",
       "#### Таблица: `permissions_role`"
      ],
      "text/plain": [
       "<IPython.core.display.Markdown object>"
      ]
     },
     "metadata": {},
     "output_type": "display_data"
    },
    {
     "data": {
      "text/markdown": [
       "\n",
       "##### Схема:"
      ],
      "text/plain": [
       "<IPython.core.display.Markdown object>"
      ]
     },
     "metadata": {},
     "output_type": "display_data"
    },
    {
     "name": "stderr",
     "output_type": "stream",
     "text": [
      "/tmp/ipykernel_450849/82215137.py:49: UserWarning: pandas only supports SQLAlchemy connectable (engine/connection) or database string URI or sqlite3 DBAPI2 connection. Other DBAPI2 objects are not tested. Please consider using SQLAlchemy.\n",
      "  df = pd.read_sql_query(query, conn)\n"
     ]
    },
    {
     "data": {
      "text/html": [
       "<div>\n",
       "<style scoped>\n",
       "    .dataframe tbody tr th:only-of-type {\n",
       "        vertical-align: middle;\n",
       "    }\n",
       "\n",
       "    .dataframe tbody tr th {\n",
       "        vertical-align: top;\n",
       "    }\n",
       "\n",
       "    .dataframe thead th {\n",
       "        text-align: right;\n",
       "    }\n",
       "</style>\n",
       "<table border=\"1\" class=\"dataframe\">\n",
       "  <thead>\n",
       "    <tr style=\"text-align: right;\">\n",
       "      <th></th>\n",
       "      <th>column_name</th>\n",
       "      <th>data_type</th>\n",
       "      <th>is_nullable</th>\n",
       "      <th>column_default</th>\n",
       "    </tr>\n",
       "  </thead>\n",
       "  <tbody>\n",
       "    <tr>\n",
       "      <th>0</th>\n",
       "      <td>id</td>\n",
       "      <td>integer</td>\n",
       "      <td>NO</td>\n",
       "      <td>nextval('permissions_role_id_seq'::regclass)</td>\n",
       "    </tr>\n",
       "    <tr>\n",
       "      <th>1</th>\n",
       "      <td>name</td>\n",
       "      <td>character varying</td>\n",
       "      <td>NO</td>\n",
       "      <td>None</td>\n",
       "    </tr>\n",
       "    <tr>\n",
       "      <th>2</th>\n",
       "      <td>display_name</td>\n",
       "      <td>character varying</td>\n",
       "      <td>NO</td>\n",
       "      <td>None</td>\n",
       "    </tr>\n",
       "    <tr>\n",
       "      <th>3</th>\n",
       "      <td>scope</td>\n",
       "      <td>character varying</td>\n",
       "      <td>NO</td>\n",
       "      <td>None</td>\n",
       "    </tr>\n",
       "    <tr>\n",
       "      <th>4</th>\n",
       "      <td>subscope</td>\n",
       "      <td>character varying</td>\n",
       "      <td>NO</td>\n",
       "      <td>None</td>\n",
       "    </tr>\n",
       "    <tr>\n",
       "      <th>5</th>\n",
       "      <td>is_system_defined</td>\n",
       "      <td>boolean</td>\n",
       "      <td>NO</td>\n",
       "      <td>None</td>\n",
       "    </tr>\n",
       "  </tbody>\n",
       "</table>\n",
       "</div>"
      ],
      "text/plain": [
       "         column_name          data_type is_nullable                                column_default\n",
       "0                 id            integer          NO  nextval('permissions_role_id_seq'::regclass)\n",
       "1               name  character varying          NO                                          None\n",
       "2       display_name  character varying          NO                                          None\n",
       "3              scope  character varying          NO                                          None\n",
       "4           subscope  character varying          NO                                          None\n",
       "5  is_system_defined            boolean          NO                                          None"
      ]
     },
     "metadata": {},
     "output_type": "display_data"
    },
    {
     "data": {
      "text/markdown": [
       "\n",
       "##### Ограничения (PK, FK):"
      ],
      "text/plain": [
       "<IPython.core.display.Markdown object>"
      ]
     },
     "metadata": {},
     "output_type": "display_data"
    },
    {
     "name": "stderr",
     "output_type": "stream",
     "text": [
      "/tmp/ipykernel_450849/82215137.py:79: UserWarning: pandas only supports SQLAlchemy connectable (engine/connection) or database string URI or sqlite3 DBAPI2 connection. Other DBAPI2 objects are not tested. Please consider using SQLAlchemy.\n",
      "  df = pd.read_sql_query(query, conn)\n"
     ]
    },
    {
     "data": {
      "text/html": [
       "<div>\n",
       "<style scoped>\n",
       "    .dataframe tbody tr th:only-of-type {\n",
       "        vertical-align: middle;\n",
       "    }\n",
       "\n",
       "    .dataframe tbody tr th {\n",
       "        vertical-align: top;\n",
       "    }\n",
       "\n",
       "    .dataframe thead th {\n",
       "        text-align: right;\n",
       "    }\n",
       "</style>\n",
       "<table border=\"1\" class=\"dataframe\">\n",
       "  <thead>\n",
       "    <tr style=\"text-align: right;\">\n",
       "      <th></th>\n",
       "      <th>constraint_name</th>\n",
       "      <th>constraint_type</th>\n",
       "      <th>column_name</th>\n",
       "      <th>foreign_table_name</th>\n",
       "      <th>foreign_column_name</th>\n",
       "    </tr>\n",
       "  </thead>\n",
       "  <tbody>\n",
       "    <tr>\n",
       "      <th>0</th>\n",
       "      <td>permissions_role_pkey</td>\n",
       "      <td>PRIMARY KEY</td>\n",
       "      <td>id</td>\n",
       "      <td>permissions_role</td>\n",
       "      <td>id</td>\n",
       "    </tr>\n",
       "    <tr>\n",
       "      <th>1</th>\n",
       "      <td>permissions_role_name_key</td>\n",
       "      <td>UNIQUE</td>\n",
       "      <td>name</td>\n",
       "      <td>permissions_role</td>\n",
       "      <td>name</td>\n",
       "    </tr>\n",
       "  </tbody>\n",
       "</table>\n",
       "</div>"
      ],
      "text/plain": [
       "             constraint_name constraint_type column_name foreign_table_name foreign_column_name\n",
       "0      permissions_role_pkey     PRIMARY KEY          id   permissions_role                  id\n",
       "1  permissions_role_name_key          UNIQUE        name   permissions_role                name"
      ]
     },
     "metadata": {},
     "output_type": "display_data"
    },
    {
     "data": {
      "text/markdown": [
       "\n",
       "#### Таблица: `permissions_role_access_grant`"
      ],
      "text/plain": [
       "<IPython.core.display.Markdown object>"
      ]
     },
     "metadata": {},
     "output_type": "display_data"
    },
    {
     "data": {
      "text/markdown": [
       "\n",
       "##### Схема:"
      ],
      "text/plain": [
       "<IPython.core.display.Markdown object>"
      ]
     },
     "metadata": {},
     "output_type": "display_data"
    },
    {
     "name": "stderr",
     "output_type": "stream",
     "text": [
      "/tmp/ipykernel_450849/82215137.py:49: UserWarning: pandas only supports SQLAlchemy connectable (engine/connection) or database string URI or sqlite3 DBAPI2 connection. Other DBAPI2 objects are not tested. Please consider using SQLAlchemy.\n",
      "  df = pd.read_sql_query(query, conn)\n"
     ]
    },
    {
     "data": {
      "text/html": [
       "<div>\n",
       "<style scoped>\n",
       "    .dataframe tbody tr th:only-of-type {\n",
       "        vertical-align: middle;\n",
       "    }\n",
       "\n",
       "    .dataframe tbody tr th {\n",
       "        vertical-align: top;\n",
       "    }\n",
       "\n",
       "    .dataframe thead th {\n",
       "        text-align: right;\n",
       "    }\n",
       "</style>\n",
       "<table border=\"1\" class=\"dataframe\">\n",
       "  <thead>\n",
       "    <tr style=\"text-align: right;\">\n",
       "      <th></th>\n",
       "      <th>column_name</th>\n",
       "      <th>data_type</th>\n",
       "      <th>is_nullable</th>\n",
       "      <th>column_default</th>\n",
       "    </tr>\n",
       "  </thead>\n",
       "  <tbody>\n",
       "    <tr>\n",
       "      <th>0</th>\n",
       "      <td>id</td>\n",
       "      <td>integer</td>\n",
       "      <td>NO</td>\n",
       "      <td>nextval('permissions_role_access_grant_id_seq'...</td>\n",
       "    </tr>\n",
       "    <tr>\n",
       "      <th>1</th>\n",
       "      <td>role_id</td>\n",
       "      <td>integer</td>\n",
       "      <td>NO</td>\n",
       "      <td>None</td>\n",
       "    </tr>\n",
       "    <tr>\n",
       "      <th>2</th>\n",
       "      <td>user_id</td>\n",
       "      <td>uuid</td>\n",
       "      <td>YES</td>\n",
       "      <td>None</td>\n",
       "    </tr>\n",
       "    <tr>\n",
       "      <th>3</th>\n",
       "      <td>target_object_id</td>\n",
       "      <td>integer</td>\n",
       "      <td>NO</td>\n",
       "      <td>None</td>\n",
       "    </tr>\n",
       "    <tr>\n",
       "      <th>4</th>\n",
       "      <td>target_type</td>\n",
       "      <td>character varying</td>\n",
       "      <td>NO</td>\n",
       "      <td>None</td>\n",
       "    </tr>\n",
       "    <tr>\n",
       "      <th>5</th>\n",
       "      <td>created_at</td>\n",
       "      <td>timestamp with time zone</td>\n",
       "      <td>NO</td>\n",
       "      <td>None</td>\n",
       "    </tr>\n",
       "    <tr>\n",
       "      <th>6</th>\n",
       "      <td>updated_at</td>\n",
       "      <td>timestamp with time zone</td>\n",
       "      <td>NO</td>\n",
       "      <td>None</td>\n",
       "    </tr>\n",
       "    <tr>\n",
       "      <th>7</th>\n",
       "      <td>user_group_id</td>\n",
       "      <td>uuid</td>\n",
       "      <td>YES</td>\n",
       "      <td>None</td>\n",
       "    </tr>\n",
       "  </tbody>\n",
       "</table>\n",
       "</div>"
      ],
      "text/plain": [
       "        column_name                 data_type is_nullable                                     column_default\n",
       "0                id                   integer          NO  nextval('permissions_role_access_grant_id_seq'...\n",
       "1           role_id                   integer          NO                                               None\n",
       "2           user_id                      uuid         YES                                               None\n",
       "3  target_object_id                   integer          NO                                               None\n",
       "4       target_type         character varying          NO                                               None\n",
       "5        created_at  timestamp with time zone          NO                                               None\n",
       "6        updated_at  timestamp with time zone          NO                                               None\n",
       "7     user_group_id                      uuid         YES                                               None"
      ]
     },
     "metadata": {},
     "output_type": "display_data"
    },
    {
     "data": {
      "text/markdown": [
       "\n",
       "##### Ограничения (PK, FK):"
      ],
      "text/plain": [
       "<IPython.core.display.Markdown object>"
      ]
     },
     "metadata": {},
     "output_type": "display_data"
    },
    {
     "name": "stderr",
     "output_type": "stream",
     "text": [
      "/tmp/ipykernel_450849/82215137.py:79: UserWarning: pandas only supports SQLAlchemy connectable (engine/connection) or database string URI or sqlite3 DBAPI2 connection. Other DBAPI2 objects are not tested. Please consider using SQLAlchemy.\n",
      "  df = pd.read_sql_query(query, conn)\n"
     ]
    },
    {
     "data": {
      "text/html": [
       "<div>\n",
       "<style scoped>\n",
       "    .dataframe tbody tr th:only-of-type {\n",
       "        vertical-align: middle;\n",
       "    }\n",
       "\n",
       "    .dataframe tbody tr th {\n",
       "        vertical-align: top;\n",
       "    }\n",
       "\n",
       "    .dataframe thead th {\n",
       "        text-align: right;\n",
       "    }\n",
       "</style>\n",
       "<table border=\"1\" class=\"dataframe\">\n",
       "  <thead>\n",
       "    <tr style=\"text-align: right;\">\n",
       "      <th></th>\n",
       "      <th>constraint_name</th>\n",
       "      <th>constraint_type</th>\n",
       "      <th>column_name</th>\n",
       "      <th>foreign_table_name</th>\n",
       "      <th>foreign_column_name</th>\n",
       "    </tr>\n",
       "  </thead>\n",
       "  <tbody>\n",
       "    <tr>\n",
       "      <th>0</th>\n",
       "      <td>permissions_role_access_grant_role_id_fkey</td>\n",
       "      <td>FOREIGN KEY</td>\n",
       "      <td>role_id</td>\n",
       "      <td>permissions_role</td>\n",
       "      <td>id</td>\n",
       "    </tr>\n",
       "    <tr>\n",
       "      <th>1</th>\n",
       "      <td>permissions_role_access_grant_user_group_id_fkey</td>\n",
       "      <td>FOREIGN KEY</td>\n",
       "      <td>user_group_id</td>\n",
       "      <td>roles_access_user_group</td>\n",
       "      <td>id</td>\n",
       "    </tr>\n",
       "    <tr>\n",
       "      <th>2</th>\n",
       "      <td>permissions_role_access_grant_user_id_fkey</td>\n",
       "      <td>FOREIGN KEY</td>\n",
       "      <td>user_id</td>\n",
       "      <td>users_user</td>\n",
       "      <td>keycloak_id</td>\n",
       "    </tr>\n",
       "    <tr>\n",
       "      <th>3</th>\n",
       "      <td>permissions_role_access_grant_pkey</td>\n",
       "      <td>PRIMARY KEY</td>\n",
       "      <td>id</td>\n",
       "      <td>permissions_role_access_grant</td>\n",
       "      <td>id</td>\n",
       "    </tr>\n",
       "  </tbody>\n",
       "</table>\n",
       "</div>"
      ],
      "text/plain": [
       "                                    constraint_name constraint_type    column_name             foreign_table_name foreign_column_name\n",
       "0        permissions_role_access_grant_role_id_fkey     FOREIGN KEY        role_id               permissions_role                  id\n",
       "1  permissions_role_access_grant_user_group_id_fkey     FOREIGN KEY  user_group_id        roles_access_user_group                  id\n",
       "2        permissions_role_access_grant_user_id_fkey     FOREIGN KEY        user_id                     users_user         keycloak_id\n",
       "3                permissions_role_access_grant_pkey     PRIMARY KEY             id  permissions_role_access_grant                  id"
      ]
     },
     "metadata": {},
     "output_type": "display_data"
    },
    {
     "data": {
      "text/markdown": [
       "\n",
       "#### Таблица: `permissions_role_override`"
      ],
      "text/plain": [
       "<IPython.core.display.Markdown object>"
      ]
     },
     "metadata": {},
     "output_type": "display_data"
    },
    {
     "data": {
      "text/markdown": [
       "\n",
       "##### Схема:"
      ],
      "text/plain": [
       "<IPython.core.display.Markdown object>"
      ]
     },
     "metadata": {},
     "output_type": "display_data"
    },
    {
     "name": "stderr",
     "output_type": "stream",
     "text": [
      "/tmp/ipykernel_450849/82215137.py:49: UserWarning: pandas only supports SQLAlchemy connectable (engine/connection) or database string URI or sqlite3 DBAPI2 connection. Other DBAPI2 objects are not tested. Please consider using SQLAlchemy.\n",
      "  df = pd.read_sql_query(query, conn)\n"
     ]
    },
    {
     "data": {
      "text/html": [
       "<div>\n",
       "<style scoped>\n",
       "    .dataframe tbody tr th:only-of-type {\n",
       "        vertical-align: middle;\n",
       "    }\n",
       "\n",
       "    .dataframe tbody tr th {\n",
       "        vertical-align: top;\n",
       "    }\n",
       "\n",
       "    .dataframe thead th {\n",
       "        text-align: right;\n",
       "    }\n",
       "</style>\n",
       "<table border=\"1\" class=\"dataframe\">\n",
       "  <thead>\n",
       "    <tr style=\"text-align: right;\">\n",
       "      <th></th>\n",
       "      <th>column_name</th>\n",
       "      <th>data_type</th>\n",
       "      <th>is_nullable</th>\n",
       "      <th>column_default</th>\n",
       "    </tr>\n",
       "  </thead>\n",
       "  <tbody>\n",
       "    <tr>\n",
       "      <th>0</th>\n",
       "      <td>id</td>\n",
       "      <td>integer</td>\n",
       "      <td>NO</td>\n",
       "      <td>nextval('permissions_role_override_id_seq'::re...</td>\n",
       "    </tr>\n",
       "    <tr>\n",
       "      <th>1</th>\n",
       "      <td>target_object_id</td>\n",
       "      <td>integer</td>\n",
       "      <td>NO</td>\n",
       "      <td>None</td>\n",
       "    </tr>\n",
       "    <tr>\n",
       "      <th>2</th>\n",
       "      <td>target_type</td>\n",
       "      <td>character varying</td>\n",
       "      <td>NO</td>\n",
       "      <td>None</td>\n",
       "    </tr>\n",
       "    <tr>\n",
       "      <th>3</th>\n",
       "      <td>roles</td>\n",
       "      <td>ARRAY</td>\n",
       "      <td>NO</td>\n",
       "      <td>None</td>\n",
       "    </tr>\n",
       "  </tbody>\n",
       "</table>\n",
       "</div>"
      ],
      "text/plain": [
       "        column_name          data_type is_nullable                                     column_default\n",
       "0                id            integer          NO  nextval('permissions_role_override_id_seq'::re...\n",
       "1  target_object_id            integer          NO                                               None\n",
       "2       target_type  character varying          NO                                               None\n",
       "3             roles              ARRAY          NO                                               None"
      ]
     },
     "metadata": {},
     "output_type": "display_data"
    },
    {
     "data": {
      "text/markdown": [
       "\n",
       "##### Ограничения (PK, FK):"
      ],
      "text/plain": [
       "<IPython.core.display.Markdown object>"
      ]
     },
     "metadata": {},
     "output_type": "display_data"
    },
    {
     "name": "stderr",
     "output_type": "stream",
     "text": [
      "/tmp/ipykernel_450849/82215137.py:79: UserWarning: pandas only supports SQLAlchemy connectable (engine/connection) or database string URI or sqlite3 DBAPI2 connection. Other DBAPI2 objects are not tested. Please consider using SQLAlchemy.\n",
      "  df = pd.read_sql_query(query, conn)\n"
     ]
    },
    {
     "data": {
      "text/html": [
       "<div>\n",
       "<style scoped>\n",
       "    .dataframe tbody tr th:only-of-type {\n",
       "        vertical-align: middle;\n",
       "    }\n",
       "\n",
       "    .dataframe tbody tr th {\n",
       "        vertical-align: top;\n",
       "    }\n",
       "\n",
       "    .dataframe thead th {\n",
       "        text-align: right;\n",
       "    }\n",
       "</style>\n",
       "<table border=\"1\" class=\"dataframe\">\n",
       "  <thead>\n",
       "    <tr style=\"text-align: right;\">\n",
       "      <th></th>\n",
       "      <th>constraint_name</th>\n",
       "      <th>constraint_type</th>\n",
       "      <th>column_name</th>\n",
       "      <th>foreign_table_name</th>\n",
       "      <th>foreign_column_name</th>\n",
       "    </tr>\n",
       "  </thead>\n",
       "  <tbody>\n",
       "    <tr>\n",
       "      <th>0</th>\n",
       "      <td>permissions_role_override_pkey</td>\n",
       "      <td>PRIMARY KEY</td>\n",
       "      <td>id</td>\n",
       "      <td>permissions_role_override</td>\n",
       "      <td>id</td>\n",
       "    </tr>\n",
       "    <tr>\n",
       "      <th>1</th>\n",
       "      <td>target_id_target_type_unique_constraint</td>\n",
       "      <td>UNIQUE</td>\n",
       "      <td>target_object_id</td>\n",
       "      <td>permissions_role_override</td>\n",
       "      <td>target_object_id</td>\n",
       "    </tr>\n",
       "    <tr>\n",
       "      <th>2</th>\n",
       "      <td>target_id_target_type_unique_constraint</td>\n",
       "      <td>UNIQUE</td>\n",
       "      <td>target_object_id</td>\n",
       "      <td>permissions_role_override</td>\n",
       "      <td>target_type</td>\n",
       "    </tr>\n",
       "    <tr>\n",
       "      <th>3</th>\n",
       "      <td>target_id_target_type_unique_constraint</td>\n",
       "      <td>UNIQUE</td>\n",
       "      <td>target_type</td>\n",
       "      <td>permissions_role_override</td>\n",
       "      <td>target_object_id</td>\n",
       "    </tr>\n",
       "    <tr>\n",
       "      <th>4</th>\n",
       "      <td>target_id_target_type_unique_constraint</td>\n",
       "      <td>UNIQUE</td>\n",
       "      <td>target_type</td>\n",
       "      <td>permissions_role_override</td>\n",
       "      <td>target_type</td>\n",
       "    </tr>\n",
       "  </tbody>\n",
       "</table>\n",
       "</div>"
      ],
      "text/plain": [
       "                           constraint_name constraint_type       column_name         foreign_table_name foreign_column_name\n",
       "0           permissions_role_override_pkey     PRIMARY KEY                id  permissions_role_override                  id\n",
       "1  target_id_target_type_unique_constraint          UNIQUE  target_object_id  permissions_role_override    target_object_id\n",
       "2  target_id_target_type_unique_constraint          UNIQUE  target_object_id  permissions_role_override         target_type\n",
       "3  target_id_target_type_unique_constraint          UNIQUE       target_type  permissions_role_override    target_object_id\n",
       "4  target_id_target_type_unique_constraint          UNIQUE       target_type  permissions_role_override         target_type"
      ]
     },
     "metadata": {},
     "output_type": "display_data"
    },
    {
     "data": {
      "text/markdown": [
       "\n",
       "#### Таблица: `permissions_role_to_user`"
      ],
      "text/plain": [
       "<IPython.core.display.Markdown object>"
      ]
     },
     "metadata": {},
     "output_type": "display_data"
    },
    {
     "data": {
      "text/markdown": [
       "\n",
       "##### Схема:"
      ],
      "text/plain": [
       "<IPython.core.display.Markdown object>"
      ]
     },
     "metadata": {},
     "output_type": "display_data"
    },
    {
     "name": "stderr",
     "output_type": "stream",
     "text": [
      "/tmp/ipykernel_450849/82215137.py:49: UserWarning: pandas only supports SQLAlchemy connectable (engine/connection) or database string URI or sqlite3 DBAPI2 connection. Other DBAPI2 objects are not tested. Please consider using SQLAlchemy.\n",
      "  df = pd.read_sql_query(query, conn)\n"
     ]
    },
    {
     "data": {
      "text/html": [
       "<div>\n",
       "<style scoped>\n",
       "    .dataframe tbody tr th:only-of-type {\n",
       "        vertical-align: middle;\n",
       "    }\n",
       "\n",
       "    .dataframe tbody tr th {\n",
       "        vertical-align: top;\n",
       "    }\n",
       "\n",
       "    .dataframe thead th {\n",
       "        text-align: right;\n",
       "    }\n",
       "</style>\n",
       "<table border=\"1\" class=\"dataframe\">\n",
       "  <thead>\n",
       "    <tr style=\"text-align: right;\">\n",
       "      <th></th>\n",
       "      <th>column_name</th>\n",
       "      <th>data_type</th>\n",
       "      <th>is_nullable</th>\n",
       "      <th>column_default</th>\n",
       "    </tr>\n",
       "  </thead>\n",
       "  <tbody>\n",
       "    <tr>\n",
       "      <th>0</th>\n",
       "      <td>id</td>\n",
       "      <td>integer</td>\n",
       "      <td>NO</td>\n",
       "      <td>nextval('permissions_role_to_user_id_seq'::reg...</td>\n",
       "    </tr>\n",
       "    <tr>\n",
       "      <th>1</th>\n",
       "      <td>role_id</td>\n",
       "      <td>integer</td>\n",
       "      <td>NO</td>\n",
       "      <td>None</td>\n",
       "    </tr>\n",
       "    <tr>\n",
       "      <th>2</th>\n",
       "      <td>user_id</td>\n",
       "      <td>uuid</td>\n",
       "      <td>NO</td>\n",
       "      <td>None</td>\n",
       "    </tr>\n",
       "    <tr>\n",
       "      <th>3</th>\n",
       "      <td>created_at</td>\n",
       "      <td>timestamp with time zone</td>\n",
       "      <td>NO</td>\n",
       "      <td>None</td>\n",
       "    </tr>\n",
       "    <tr>\n",
       "      <th>4</th>\n",
       "      <td>updated_at</td>\n",
       "      <td>timestamp with time zone</td>\n",
       "      <td>NO</td>\n",
       "      <td>None</td>\n",
       "    </tr>\n",
       "  </tbody>\n",
       "</table>\n",
       "</div>"
      ],
      "text/plain": [
       "  column_name                 data_type is_nullable                                     column_default\n",
       "0          id                   integer          NO  nextval('permissions_role_to_user_id_seq'::reg...\n",
       "1     role_id                   integer          NO                                               None\n",
       "2     user_id                      uuid          NO                                               None\n",
       "3  created_at  timestamp with time zone          NO                                               None\n",
       "4  updated_at  timestamp with time zone          NO                                               None"
      ]
     },
     "metadata": {},
     "output_type": "display_data"
    },
    {
     "data": {
      "text/markdown": [
       "\n",
       "##### Ограничения (PK, FK):"
      ],
      "text/plain": [
       "<IPython.core.display.Markdown object>"
      ]
     },
     "metadata": {},
     "output_type": "display_data"
    },
    {
     "name": "stderr",
     "output_type": "stream",
     "text": [
      "/tmp/ipykernel_450849/82215137.py:79: UserWarning: pandas only supports SQLAlchemy connectable (engine/connection) or database string URI or sqlite3 DBAPI2 connection. Other DBAPI2 objects are not tested. Please consider using SQLAlchemy.\n",
      "  df = pd.read_sql_query(query, conn)\n"
     ]
    },
    {
     "data": {
      "text/html": [
       "<div>\n",
       "<style scoped>\n",
       "    .dataframe tbody tr th:only-of-type {\n",
       "        vertical-align: middle;\n",
       "    }\n",
       "\n",
       "    .dataframe tbody tr th {\n",
       "        vertical-align: top;\n",
       "    }\n",
       "\n",
       "    .dataframe thead th {\n",
       "        text-align: right;\n",
       "    }\n",
       "</style>\n",
       "<table border=\"1\" class=\"dataframe\">\n",
       "  <thead>\n",
       "    <tr style=\"text-align: right;\">\n",
       "      <th></th>\n",
       "      <th>constraint_name</th>\n",
       "      <th>constraint_type</th>\n",
       "      <th>column_name</th>\n",
       "      <th>foreign_table_name</th>\n",
       "      <th>foreign_column_name</th>\n",
       "    </tr>\n",
       "  </thead>\n",
       "  <tbody>\n",
       "    <tr>\n",
       "      <th>0</th>\n",
       "      <td>permissions_role_to_user_role_id_fkey</td>\n",
       "      <td>FOREIGN KEY</td>\n",
       "      <td>role_id</td>\n",
       "      <td>permissions_role</td>\n",
       "      <td>id</td>\n",
       "    </tr>\n",
       "    <tr>\n",
       "      <th>1</th>\n",
       "      <td>permissions_role_to_user_user_id_fkey</td>\n",
       "      <td>FOREIGN KEY</td>\n",
       "      <td>user_id</td>\n",
       "      <td>users_user</td>\n",
       "      <td>keycloak_id</td>\n",
       "    </tr>\n",
       "    <tr>\n",
       "      <th>2</th>\n",
       "      <td>permissions_role_to_user_pkey</td>\n",
       "      <td>PRIMARY KEY</td>\n",
       "      <td>id</td>\n",
       "      <td>permissions_role_to_user</td>\n",
       "      <td>id</td>\n",
       "    </tr>\n",
       "  </tbody>\n",
       "</table>\n",
       "</div>"
      ],
      "text/plain": [
       "                         constraint_name constraint_type column_name        foreign_table_name foreign_column_name\n",
       "0  permissions_role_to_user_role_id_fkey     FOREIGN KEY     role_id          permissions_role                  id\n",
       "1  permissions_role_to_user_user_id_fkey     FOREIGN KEY     user_id                users_user         keycloak_id\n",
       "2          permissions_role_to_user_pkey     PRIMARY KEY          id  permissions_role_to_user                  id"
      ]
     },
     "metadata": {},
     "output_type": "display_data"
    },
    {
     "data": {
      "text/markdown": [
       "\n",
       "#### Таблица: `roles_access_user_group`"
      ],
      "text/plain": [
       "<IPython.core.display.Markdown object>"
      ]
     },
     "metadata": {},
     "output_type": "display_data"
    },
    {
     "data": {
      "text/markdown": [
       "\n",
       "##### Схема:"
      ],
      "text/plain": [
       "<IPython.core.display.Markdown object>"
      ]
     },
     "metadata": {},
     "output_type": "display_data"
    },
    {
     "name": "stderr",
     "output_type": "stream",
     "text": [
      "/tmp/ipykernel_450849/82215137.py:49: UserWarning: pandas only supports SQLAlchemy connectable (engine/connection) or database string URI or sqlite3 DBAPI2 connection. Other DBAPI2 objects are not tested. Please consider using SQLAlchemy.\n",
      "  df = pd.read_sql_query(query, conn)\n"
     ]
    },
    {
     "data": {
      "text/html": [
       "<div>\n",
       "<style scoped>\n",
       "    .dataframe tbody tr th:only-of-type {\n",
       "        vertical-align: middle;\n",
       "    }\n",
       "\n",
       "    .dataframe tbody tr th {\n",
       "        vertical-align: top;\n",
       "    }\n",
       "\n",
       "    .dataframe thead th {\n",
       "        text-align: right;\n",
       "    }\n",
       "</style>\n",
       "<table border=\"1\" class=\"dataframe\">\n",
       "  <thead>\n",
       "    <tr style=\"text-align: right;\">\n",
       "      <th></th>\n",
       "      <th>column_name</th>\n",
       "      <th>data_type</th>\n",
       "      <th>is_nullable</th>\n",
       "      <th>column_default</th>\n",
       "    </tr>\n",
       "  </thead>\n",
       "  <tbody>\n",
       "    <tr>\n",
       "      <th>0</th>\n",
       "      <td>id</td>\n",
       "      <td>uuid</td>\n",
       "      <td>NO</td>\n",
       "      <td>None</td>\n",
       "    </tr>\n",
       "    <tr>\n",
       "      <th>1</th>\n",
       "      <td>name</td>\n",
       "      <td>text</td>\n",
       "      <td>NO</td>\n",
       "      <td>None</td>\n",
       "    </tr>\n",
       "    <tr>\n",
       "      <th>2</th>\n",
       "      <td>display_name</td>\n",
       "      <td>text</td>\n",
       "      <td>YES</td>\n",
       "      <td>None</td>\n",
       "    </tr>\n",
       "    <tr>\n",
       "      <th>3</th>\n",
       "      <td>is_system_defined</td>\n",
       "      <td>boolean</td>\n",
       "      <td>NO</td>\n",
       "      <td>None</td>\n",
       "    </tr>\n",
       "    <tr>\n",
       "      <th>4</th>\n",
       "      <td>owner_service_name</td>\n",
       "      <td>text</td>\n",
       "      <td>NO</td>\n",
       "      <td>None</td>\n",
       "    </tr>\n",
       "    <tr>\n",
       "      <th>5</th>\n",
       "      <td>owner_service_entity_id</td>\n",
       "      <td>uuid</td>\n",
       "      <td>YES</td>\n",
       "      <td>None</td>\n",
       "    </tr>\n",
       "    <tr>\n",
       "      <th>6</th>\n",
       "      <td>parent_id</td>\n",
       "      <td>uuid</td>\n",
       "      <td>YES</td>\n",
       "      <td>None</td>\n",
       "    </tr>\n",
       "  </tbody>\n",
       "</table>\n",
       "</div>"
      ],
      "text/plain": [
       "               column_name data_type is_nullable column_default\n",
       "0                       id      uuid          NO           None\n",
       "1                     name      text          NO           None\n",
       "2             display_name      text         YES           None\n",
       "3        is_system_defined   boolean          NO           None\n",
       "4       owner_service_name      text          NO           None\n",
       "5  owner_service_entity_id      uuid         YES           None\n",
       "6                parent_id      uuid         YES           None"
      ]
     },
     "metadata": {},
     "output_type": "display_data"
    },
    {
     "data": {
      "text/markdown": [
       "\n",
       "##### Ограничения (PK, FK):"
      ],
      "text/plain": [
       "<IPython.core.display.Markdown object>"
      ]
     },
     "metadata": {},
     "output_type": "display_data"
    },
    {
     "name": "stderr",
     "output_type": "stream",
     "text": [
      "/tmp/ipykernel_450849/82215137.py:79: UserWarning: pandas only supports SQLAlchemy connectable (engine/connection) or database string URI or sqlite3 DBAPI2 connection. Other DBAPI2 objects are not tested. Please consider using SQLAlchemy.\n",
      "  df = pd.read_sql_query(query, conn)\n"
     ]
    },
    {
     "data": {
      "text/html": [
       "<div>\n",
       "<style scoped>\n",
       "    .dataframe tbody tr th:only-of-type {\n",
       "        vertical-align: middle;\n",
       "    }\n",
       "\n",
       "    .dataframe tbody tr th {\n",
       "        vertical-align: top;\n",
       "    }\n",
       "\n",
       "    .dataframe thead th {\n",
       "        text-align: right;\n",
       "    }\n",
       "</style>\n",
       "<table border=\"1\" class=\"dataframe\">\n",
       "  <thead>\n",
       "    <tr style=\"text-align: right;\">\n",
       "      <th></th>\n",
       "      <th>constraint_name</th>\n",
       "      <th>constraint_type</th>\n",
       "      <th>column_name</th>\n",
       "      <th>foreign_table_name</th>\n",
       "      <th>foreign_column_name</th>\n",
       "    </tr>\n",
       "  </thead>\n",
       "  <tbody>\n",
       "    <tr>\n",
       "      <th>0</th>\n",
       "      <td>roles_access_user_group_parent_id_fkey</td>\n",
       "      <td>FOREIGN KEY</td>\n",
       "      <td>parent_id</td>\n",
       "      <td>roles_access_user_group</td>\n",
       "      <td>id</td>\n",
       "    </tr>\n",
       "    <tr>\n",
       "      <th>1</th>\n",
       "      <td>roles_access_user_group_pkey</td>\n",
       "      <td>PRIMARY KEY</td>\n",
       "      <td>id</td>\n",
       "      <td>roles_access_user_group</td>\n",
       "      <td>id</td>\n",
       "    </tr>\n",
       "    <tr>\n",
       "      <th>2</th>\n",
       "      <td>roles_access_user_group_name_key</td>\n",
       "      <td>UNIQUE</td>\n",
       "      <td>name</td>\n",
       "      <td>roles_access_user_group</td>\n",
       "      <td>name</td>\n",
       "    </tr>\n",
       "  </tbody>\n",
       "</table>\n",
       "</div>"
      ],
      "text/plain": [
       "                          constraint_name constraint_type column_name       foreign_table_name foreign_column_name\n",
       "0  roles_access_user_group_parent_id_fkey     FOREIGN KEY   parent_id  roles_access_user_group                  id\n",
       "1            roles_access_user_group_pkey     PRIMARY KEY          id  roles_access_user_group                  id\n",
       "2        roles_access_user_group_name_key          UNIQUE        name  roles_access_user_group                name"
      ]
     },
     "metadata": {},
     "output_type": "display_data"
    },
    {
     "data": {
      "text/markdown": [
       "\n",
       "#### Таблица: `roles_access_user_to_group`"
      ],
      "text/plain": [
       "<IPython.core.display.Markdown object>"
      ]
     },
     "metadata": {},
     "output_type": "display_data"
    },
    {
     "data": {
      "text/markdown": [
       "\n",
       "##### Схема:"
      ],
      "text/plain": [
       "<IPython.core.display.Markdown object>"
      ]
     },
     "metadata": {},
     "output_type": "display_data"
    },
    {
     "name": "stderr",
     "output_type": "stream",
     "text": [
      "/tmp/ipykernel_450849/82215137.py:49: UserWarning: pandas only supports SQLAlchemy connectable (engine/connection) or database string URI or sqlite3 DBAPI2 connection. Other DBAPI2 objects are not tested. Please consider using SQLAlchemy.\n",
      "  df = pd.read_sql_query(query, conn)\n"
     ]
    },
    {
     "data": {
      "text/html": [
       "<div>\n",
       "<style scoped>\n",
       "    .dataframe tbody tr th:only-of-type {\n",
       "        vertical-align: middle;\n",
       "    }\n",
       "\n",
       "    .dataframe tbody tr th {\n",
       "        vertical-align: top;\n",
       "    }\n",
       "\n",
       "    .dataframe thead th {\n",
       "        text-align: right;\n",
       "    }\n",
       "</style>\n",
       "<table border=\"1\" class=\"dataframe\">\n",
       "  <thead>\n",
       "    <tr style=\"text-align: right;\">\n",
       "      <th></th>\n",
       "      <th>column_name</th>\n",
       "      <th>data_type</th>\n",
       "      <th>is_nullable</th>\n",
       "      <th>column_default</th>\n",
       "    </tr>\n",
       "  </thead>\n",
       "  <tbody>\n",
       "    <tr>\n",
       "      <th>0</th>\n",
       "      <td>id</td>\n",
       "      <td>integer</td>\n",
       "      <td>NO</td>\n",
       "      <td>nextval('roles_access_user_to_group_id_seq'::r...</td>\n",
       "    </tr>\n",
       "    <tr>\n",
       "      <th>1</th>\n",
       "      <td>user_keycloak_id</td>\n",
       "      <td>uuid</td>\n",
       "      <td>NO</td>\n",
       "      <td>None</td>\n",
       "    </tr>\n",
       "    <tr>\n",
       "      <th>2</th>\n",
       "      <td>user_group_id</td>\n",
       "      <td>uuid</td>\n",
       "      <td>NO</td>\n",
       "      <td>None</td>\n",
       "    </tr>\n",
       "    <tr>\n",
       "      <th>3</th>\n",
       "      <td>is_system_defined</td>\n",
       "      <td>boolean</td>\n",
       "      <td>NO</td>\n",
       "      <td>None</td>\n",
       "    </tr>\n",
       "  </tbody>\n",
       "</table>\n",
       "</div>"
      ],
      "text/plain": [
       "         column_name data_type is_nullable                                     column_default\n",
       "0                 id   integer          NO  nextval('roles_access_user_to_group_id_seq'::r...\n",
       "1   user_keycloak_id      uuid          NO                                               None\n",
       "2      user_group_id      uuid          NO                                               None\n",
       "3  is_system_defined   boolean          NO                                               None"
      ]
     },
     "metadata": {},
     "output_type": "display_data"
    },
    {
     "data": {
      "text/markdown": [
       "\n",
       "##### Ограничения (PK, FK):"
      ],
      "text/plain": [
       "<IPython.core.display.Markdown object>"
      ]
     },
     "metadata": {},
     "output_type": "display_data"
    },
    {
     "name": "stderr",
     "output_type": "stream",
     "text": [
      "/tmp/ipykernel_450849/82215137.py:79: UserWarning: pandas only supports SQLAlchemy connectable (engine/connection) or database string URI or sqlite3 DBAPI2 connection. Other DBAPI2 objects are not tested. Please consider using SQLAlchemy.\n",
      "  df = pd.read_sql_query(query, conn)\n"
     ]
    },
    {
     "data": {
      "text/html": [
       "<div>\n",
       "<style scoped>\n",
       "    .dataframe tbody tr th:only-of-type {\n",
       "        vertical-align: middle;\n",
       "    }\n",
       "\n",
       "    .dataframe tbody tr th {\n",
       "        vertical-align: top;\n",
       "    }\n",
       "\n",
       "    .dataframe thead th {\n",
       "        text-align: right;\n",
       "    }\n",
       "</style>\n",
       "<table border=\"1\" class=\"dataframe\">\n",
       "  <thead>\n",
       "    <tr style=\"text-align: right;\">\n",
       "      <th></th>\n",
       "      <th>constraint_name</th>\n",
       "      <th>constraint_type</th>\n",
       "      <th>column_name</th>\n",
       "      <th>foreign_table_name</th>\n",
       "      <th>foreign_column_name</th>\n",
       "    </tr>\n",
       "  </thead>\n",
       "  <tbody>\n",
       "    <tr>\n",
       "      <th>0</th>\n",
       "      <td>roles_access_user_to_group_user_group_id_fkey</td>\n",
       "      <td>FOREIGN KEY</td>\n",
       "      <td>user_group_id</td>\n",
       "      <td>roles_access_user_group</td>\n",
       "      <td>id</td>\n",
       "    </tr>\n",
       "    <tr>\n",
       "      <th>1</th>\n",
       "      <td>roles_access_user_to_group_pkey</td>\n",
       "      <td>PRIMARY KEY</td>\n",
       "      <td>id</td>\n",
       "      <td>roles_access_user_to_group</td>\n",
       "      <td>id</td>\n",
       "    </tr>\n",
       "    <tr>\n",
       "      <th>2</th>\n",
       "      <td>_user_keycloak_id_user_group_id_uc</td>\n",
       "      <td>UNIQUE</td>\n",
       "      <td>user_keycloak_id</td>\n",
       "      <td>roles_access_user_to_group</td>\n",
       "      <td>user_keycloak_id</td>\n",
       "    </tr>\n",
       "    <tr>\n",
       "      <th>3</th>\n",
       "      <td>_user_keycloak_id_user_group_id_uc</td>\n",
       "      <td>UNIQUE</td>\n",
       "      <td>user_keycloak_id</td>\n",
       "      <td>roles_access_user_to_group</td>\n",
       "      <td>user_group_id</td>\n",
       "    </tr>\n",
       "    <tr>\n",
       "      <th>4</th>\n",
       "      <td>_user_keycloak_id_user_group_id_uc</td>\n",
       "      <td>UNIQUE</td>\n",
       "      <td>user_group_id</td>\n",
       "      <td>roles_access_user_to_group</td>\n",
       "      <td>user_keycloak_id</td>\n",
       "    </tr>\n",
       "    <tr>\n",
       "      <th>5</th>\n",
       "      <td>_user_keycloak_id_user_group_id_uc</td>\n",
       "      <td>UNIQUE</td>\n",
       "      <td>user_group_id</td>\n",
       "      <td>roles_access_user_to_group</td>\n",
       "      <td>user_group_id</td>\n",
       "    </tr>\n",
       "  </tbody>\n",
       "</table>\n",
       "</div>"
      ],
      "text/plain": [
       "                                 constraint_name constraint_type       column_name          foreign_table_name foreign_column_name\n",
       "0  roles_access_user_to_group_user_group_id_fkey     FOREIGN KEY     user_group_id     roles_access_user_group                  id\n",
       "1                roles_access_user_to_group_pkey     PRIMARY KEY                id  roles_access_user_to_group                  id\n",
       "2             _user_keycloak_id_user_group_id_uc          UNIQUE  user_keycloak_id  roles_access_user_to_group    user_keycloak_id\n",
       "3             _user_keycloak_id_user_group_id_uc          UNIQUE  user_keycloak_id  roles_access_user_to_group       user_group_id\n",
       "4             _user_keycloak_id_user_group_id_uc          UNIQUE     user_group_id  roles_access_user_to_group    user_keycloak_id\n",
       "5             _user_keycloak_id_user_group_id_uc          UNIQUE     user_group_id  roles_access_user_to_group       user_group_id"
      ]
     },
     "metadata": {},
     "output_type": "display_data"
    },
    {
     "data": {
      "text/markdown": [
       "\n",
       "#### Таблица: `users_user`"
      ],
      "text/plain": [
       "<IPython.core.display.Markdown object>"
      ]
     },
     "metadata": {},
     "output_type": "display_data"
    },
    {
     "data": {
      "text/markdown": [
       "\n",
       "##### Схема:"
      ],
      "text/plain": [
       "<IPython.core.display.Markdown object>"
      ]
     },
     "metadata": {},
     "output_type": "display_data"
    },
    {
     "name": "stderr",
     "output_type": "stream",
     "text": [
      "/tmp/ipykernel_450849/82215137.py:49: UserWarning: pandas only supports SQLAlchemy connectable (engine/connection) or database string URI or sqlite3 DBAPI2 connection. Other DBAPI2 objects are not tested. Please consider using SQLAlchemy.\n",
      "  df = pd.read_sql_query(query, conn)\n"
     ]
    },
    {
     "data": {
      "text/html": [
       "<div>\n",
       "<style scoped>\n",
       "    .dataframe tbody tr th:only-of-type {\n",
       "        vertical-align: middle;\n",
       "    }\n",
       "\n",
       "    .dataframe tbody tr th {\n",
       "        vertical-align: top;\n",
       "    }\n",
       "\n",
       "    .dataframe thead th {\n",
       "        text-align: right;\n",
       "    }\n",
       "</style>\n",
       "<table border=\"1\" class=\"dataframe\">\n",
       "  <thead>\n",
       "    <tr style=\"text-align: right;\">\n",
       "      <th></th>\n",
       "      <th>column_name</th>\n",
       "      <th>data_type</th>\n",
       "      <th>is_nullable</th>\n",
       "      <th>column_default</th>\n",
       "    </tr>\n",
       "  </thead>\n",
       "  <tbody>\n",
       "    <tr>\n",
       "      <th>0</th>\n",
       "      <td>id</td>\n",
       "      <td>integer</td>\n",
       "      <td>NO</td>\n",
       "      <td>nextval('users_user_id_seq'::regclass)</td>\n",
       "    </tr>\n",
       "    <tr>\n",
       "      <th>1</th>\n",
       "      <td>username</td>\n",
       "      <td>character varying</td>\n",
       "      <td>NO</td>\n",
       "      <td>None</td>\n",
       "    </tr>\n",
       "    <tr>\n",
       "      <th>2</th>\n",
       "      <td>email</td>\n",
       "      <td>character varying</td>\n",
       "      <td>NO</td>\n",
       "      <td>None</td>\n",
       "    </tr>\n",
       "    <tr>\n",
       "      <th>3</th>\n",
       "      <td>first_name</td>\n",
       "      <td>character varying</td>\n",
       "      <td>NO</td>\n",
       "      <td>None</td>\n",
       "    </tr>\n",
       "    <tr>\n",
       "      <th>4</th>\n",
       "      <td>last_name</td>\n",
       "      <td>character varying</td>\n",
       "      <td>NO</td>\n",
       "      <td>None</td>\n",
       "    </tr>\n",
       "    <tr>\n",
       "      <th>5</th>\n",
       "      <td>patronymic</td>\n",
       "      <td>character varying</td>\n",
       "      <td>NO</td>\n",
       "      <td>None</td>\n",
       "    </tr>\n",
       "    <tr>\n",
       "      <th>6</th>\n",
       "      <td>keycloak_id</td>\n",
       "      <td>uuid</td>\n",
       "      <td>YES</td>\n",
       "      <td>None</td>\n",
       "    </tr>\n",
       "    <tr>\n",
       "      <th>7</th>\n",
       "      <td>keycloak_roles</td>\n",
       "      <td>ARRAY</td>\n",
       "      <td>NO</td>\n",
       "      <td>None</td>\n",
       "    </tr>\n",
       "    <tr>\n",
       "      <th>8</th>\n",
       "      <td>is_superuser</td>\n",
       "      <td>boolean</td>\n",
       "      <td>NO</td>\n",
       "      <td>None</td>\n",
       "    </tr>\n",
       "    <tr>\n",
       "      <th>9</th>\n",
       "      <td>is_active</td>\n",
       "      <td>boolean</td>\n",
       "      <td>NO</td>\n",
       "      <td>None</td>\n",
       "    </tr>\n",
       "  </tbody>\n",
       "</table>\n",
       "</div>"
      ],
      "text/plain": [
       "      column_name          data_type is_nullable                          column_default\n",
       "0              id            integer          NO  nextval('users_user_id_seq'::regclass)\n",
       "1        username  character varying          NO                                    None\n",
       "2           email  character varying          NO                                    None\n",
       "3      first_name  character varying          NO                                    None\n",
       "4       last_name  character varying          NO                                    None\n",
       "5      patronymic  character varying          NO                                    None\n",
       "6     keycloak_id               uuid         YES                                    None\n",
       "7  keycloak_roles              ARRAY          NO                                    None\n",
       "8    is_superuser            boolean          NO                                    None\n",
       "9       is_active            boolean          NO                                    None"
      ]
     },
     "metadata": {},
     "output_type": "display_data"
    },
    {
     "data": {
      "text/markdown": [
       "\n",
       "##### Ограничения (PK, FK):"
      ],
      "text/plain": [
       "<IPython.core.display.Markdown object>"
      ]
     },
     "metadata": {},
     "output_type": "display_data"
    },
    {
     "name": "stderr",
     "output_type": "stream",
     "text": [
      "/tmp/ipykernel_450849/82215137.py:79: UserWarning: pandas only supports SQLAlchemy connectable (engine/connection) or database string URI or sqlite3 DBAPI2 connection. Other DBAPI2 objects are not tested. Please consider using SQLAlchemy.\n",
      "  df = pd.read_sql_query(query, conn)\n"
     ]
    },
    {
     "data": {
      "text/html": [
       "<div>\n",
       "<style scoped>\n",
       "    .dataframe tbody tr th:only-of-type {\n",
       "        vertical-align: middle;\n",
       "    }\n",
       "\n",
       "    .dataframe tbody tr th {\n",
       "        vertical-align: top;\n",
       "    }\n",
       "\n",
       "    .dataframe thead th {\n",
       "        text-align: right;\n",
       "    }\n",
       "</style>\n",
       "<table border=\"1\" class=\"dataframe\">\n",
       "  <thead>\n",
       "    <tr style=\"text-align: right;\">\n",
       "      <th></th>\n",
       "      <th>constraint_name</th>\n",
       "      <th>constraint_type</th>\n",
       "      <th>column_name</th>\n",
       "      <th>foreign_table_name</th>\n",
       "      <th>foreign_column_name</th>\n",
       "    </tr>\n",
       "  </thead>\n",
       "  <tbody>\n",
       "    <tr>\n",
       "      <th>0</th>\n",
       "      <td>users_user_pkey</td>\n",
       "      <td>PRIMARY KEY</td>\n",
       "      <td>id</td>\n",
       "      <td>users_user</td>\n",
       "      <td>id</td>\n",
       "    </tr>\n",
       "    <tr>\n",
       "      <th>1</th>\n",
       "      <td>users_user_keycloak_id_key</td>\n",
       "      <td>UNIQUE</td>\n",
       "      <td>keycloak_id</td>\n",
       "      <td>users_user</td>\n",
       "      <td>keycloak_id</td>\n",
       "    </tr>\n",
       "  </tbody>\n",
       "</table>\n",
       "</div>"
      ],
      "text/plain": [
       "              constraint_name constraint_type  column_name foreign_table_name foreign_column_name\n",
       "0             users_user_pkey     PRIMARY KEY           id         users_user                  id\n",
       "1  users_user_keycloak_id_key          UNIQUE  keycloak_id         users_user         keycloak_id"
      ]
     },
     "metadata": {},
     "output_type": "display_data"
    },
    {
     "name": "stdout",
     "output_type": "stream",
     "text": [
      "Соединение с БД 'lists' закрыто.\n"
     ]
    },
    {
     "data": {
      "text/markdown": [
       "\n",
       "## Анализ базы данных: `filestorage`"
      ],
      "text/plain": [
       "<IPython.core.display.Markdown object>"
      ]
     },
     "metadata": {},
     "output_type": "display_data"
    },
    {
     "name": "stderr",
     "output_type": "stream",
     "text": [
      "/tmp/ipykernel_450849/82215137.py:28: UserWarning: pandas only supports SQLAlchemy connectable (engine/connection) or database string URI or sqlite3 DBAPI2 connection. Other DBAPI2 objects are not tested. Please consider using SQLAlchemy.\n",
      "  df = pd.read_sql_query(query, conn)\n"
     ]
    },
    {
     "name": "stdout",
     "output_type": "stream",
     "text": [
      "Успешное подключение к БД 'filestorage'.\n"
     ]
    },
    {
     "data": {
      "text/markdown": [
       "\n",
       "### Найдено таблиц: 63"
      ],
      "text/plain": [
       "<IPython.core.display.Markdown object>"
      ]
     },
     "metadata": {},
     "output_type": "display_data"
    },
    {
     "data": {
      "text/markdown": [
       "\n",
       "#### Таблица: `activity_streams_action`"
      ],
      "text/plain": [
       "<IPython.core.display.Markdown object>"
      ]
     },
     "metadata": {},
     "output_type": "display_data"
    },
    {
     "data": {
      "text/markdown": [
       "\n",
       "##### Схема:"
      ],
      "text/plain": [
       "<IPython.core.display.Markdown object>"
      ]
     },
     "metadata": {},
     "output_type": "display_data"
    },
    {
     "name": "stderr",
     "output_type": "stream",
     "text": [
      "/tmp/ipykernel_450849/82215137.py:49: UserWarning: pandas only supports SQLAlchemy connectable (engine/connection) or database string URI or sqlite3 DBAPI2 connection. Other DBAPI2 objects are not tested. Please consider using SQLAlchemy.\n",
      "  df = pd.read_sql_query(query, conn)\n"
     ]
    },
    {
     "data": {
      "text/html": [
       "<div>\n",
       "<style scoped>\n",
       "    .dataframe tbody tr th:only-of-type {\n",
       "        vertical-align: middle;\n",
       "    }\n",
       "\n",
       "    .dataframe tbody tr th {\n",
       "        vertical-align: top;\n",
       "    }\n",
       "\n",
       "    .dataframe thead th {\n",
       "        text-align: right;\n",
       "    }\n",
       "</style>\n",
       "<table border=\"1\" class=\"dataframe\">\n",
       "  <thead>\n",
       "    <tr style=\"text-align: right;\">\n",
       "      <th></th>\n",
       "      <th>column_name</th>\n",
       "      <th>data_type</th>\n",
       "      <th>is_nullable</th>\n",
       "      <th>column_default</th>\n",
       "    </tr>\n",
       "  </thead>\n",
       "  <tbody>\n",
       "    <tr>\n",
       "      <th>0</th>\n",
       "      <td>id</td>\n",
       "      <td>bigint</td>\n",
       "      <td>NO</td>\n",
       "      <td>nextval('activity_streams_action_id_seq'::regc...</td>\n",
       "    </tr>\n",
       "    <tr>\n",
       "      <th>1</th>\n",
       "      <td>type</td>\n",
       "      <td>character varying</td>\n",
       "      <td>NO</td>\n",
       "      <td>None</td>\n",
       "    </tr>\n",
       "    <tr>\n",
       "      <th>2</th>\n",
       "      <td>object_id</td>\n",
       "      <td>character varying</td>\n",
       "      <td>NO</td>\n",
       "      <td>None</td>\n",
       "    </tr>\n",
       "    <tr>\n",
       "      <th>3</th>\n",
       "      <td>context</td>\n",
       "      <td>jsonb</td>\n",
       "      <td>NO</td>\n",
       "      <td>None</td>\n",
       "    </tr>\n",
       "    <tr>\n",
       "      <th>4</th>\n",
       "      <td>created_at</td>\n",
       "      <td>timestamp with time zone</td>\n",
       "      <td>NO</td>\n",
       "      <td>None</td>\n",
       "    </tr>\n",
       "    <tr>\n",
       "      <th>5</th>\n",
       "      <td>actor_id</td>\n",
       "      <td>integer</td>\n",
       "      <td>YES</td>\n",
       "      <td>None</td>\n",
       "    </tr>\n",
       "    <tr>\n",
       "      <th>6</th>\n",
       "      <td>object_content_type_id</td>\n",
       "      <td>integer</td>\n",
       "      <td>NO</td>\n",
       "      <td>None</td>\n",
       "    </tr>\n",
       "    <tr>\n",
       "      <th>7</th>\n",
       "      <td>target_id</td>\n",
       "      <td>uuid</td>\n",
       "      <td>NO</td>\n",
       "      <td>None</td>\n",
       "    </tr>\n",
       "  </tbody>\n",
       "</table>\n",
       "</div>"
      ],
      "text/plain": [
       "              column_name                 data_type is_nullable                                     column_default\n",
       "0                      id                    bigint          NO  nextval('activity_streams_action_id_seq'::regc...\n",
       "1                    type         character varying          NO                                               None\n",
       "2               object_id         character varying          NO                                               None\n",
       "3                 context                     jsonb          NO                                               None\n",
       "4              created_at  timestamp with time zone          NO                                               None\n",
       "5                actor_id                   integer         YES                                               None\n",
       "6  object_content_type_id                   integer          NO                                               None\n",
       "7               target_id                      uuid          NO                                               None"
      ]
     },
     "metadata": {},
     "output_type": "display_data"
    },
    {
     "data": {
      "text/markdown": [
       "\n",
       "##### Ограничения (PK, FK):"
      ],
      "text/plain": [
       "<IPython.core.display.Markdown object>"
      ]
     },
     "metadata": {},
     "output_type": "display_data"
    },
    {
     "name": "stderr",
     "output_type": "stream",
     "text": [
      "/tmp/ipykernel_450849/82215137.py:79: UserWarning: pandas only supports SQLAlchemy connectable (engine/connection) or database string URI or sqlite3 DBAPI2 connection. Other DBAPI2 objects are not tested. Please consider using SQLAlchemy.\n",
      "  df = pd.read_sql_query(query, conn)\n"
     ]
    },
    {
     "data": {
      "text/html": [
       "<div>\n",
       "<style scoped>\n",
       "    .dataframe tbody tr th:only-of-type {\n",
       "        vertical-align: middle;\n",
       "    }\n",
       "\n",
       "    .dataframe tbody tr th {\n",
       "        vertical-align: top;\n",
       "    }\n",
       "\n",
       "    .dataframe thead th {\n",
       "        text-align: right;\n",
       "    }\n",
       "</style>\n",
       "<table border=\"1\" class=\"dataframe\">\n",
       "  <thead>\n",
       "    <tr style=\"text-align: right;\">\n",
       "      <th></th>\n",
       "      <th>constraint_name</th>\n",
       "      <th>constraint_type</th>\n",
       "      <th>column_name</th>\n",
       "      <th>foreign_table_name</th>\n",
       "      <th>foreign_column_name</th>\n",
       "    </tr>\n",
       "  </thead>\n",
       "  <tbody>\n",
       "    <tr>\n",
       "      <th>0</th>\n",
       "      <td>activity_streams_act_object_content_type__63ab...</td>\n",
       "      <td>FOREIGN KEY</td>\n",
       "      <td>object_content_type_id</td>\n",
       "      <td>django_content_type</td>\n",
       "      <td>id</td>\n",
       "    </tr>\n",
       "    <tr>\n",
       "      <th>1</th>\n",
       "      <td>activity_streams_act_target_id_6a51ca72_fk_sto...</td>\n",
       "      <td>FOREIGN KEY</td>\n",
       "      <td>target_id</td>\n",
       "      <td>storage_storageobject</td>\n",
       "      <td>id</td>\n",
       "    </tr>\n",
       "    <tr>\n",
       "      <th>2</th>\n",
       "      <td>activity_streams_action_actor_id_18e79cce_fk_a...</td>\n",
       "      <td>FOREIGN KEY</td>\n",
       "      <td>actor_id</td>\n",
       "      <td>auth_user</td>\n",
       "      <td>id</td>\n",
       "    </tr>\n",
       "    <tr>\n",
       "      <th>3</th>\n",
       "      <td>activity_streams_action_pkey</td>\n",
       "      <td>PRIMARY KEY</td>\n",
       "      <td>id</td>\n",
       "      <td>activity_streams_action</td>\n",
       "      <td>id</td>\n",
       "    </tr>\n",
       "  </tbody>\n",
       "</table>\n",
       "</div>"
      ],
      "text/plain": [
       "                                     constraint_name constraint_type             column_name       foreign_table_name foreign_column_name\n",
       "0  activity_streams_act_object_content_type__63ab...     FOREIGN KEY  object_content_type_id      django_content_type                  id\n",
       "1  activity_streams_act_target_id_6a51ca72_fk_sto...     FOREIGN KEY               target_id    storage_storageobject                  id\n",
       "2  activity_streams_action_actor_id_18e79cce_fk_a...     FOREIGN KEY                actor_id                auth_user                  id\n",
       "3                       activity_streams_action_pkey     PRIMARY KEY                      id  activity_streams_action                  id"
      ]
     },
     "metadata": {},
     "output_type": "display_data"
    },
    {
     "data": {
      "text/markdown": [
       "\n",
       "#### Таблица: `auth_group`"
      ],
      "text/plain": [
       "<IPython.core.display.Markdown object>"
      ]
     },
     "metadata": {},
     "output_type": "display_data"
    },
    {
     "data": {
      "text/markdown": [
       "\n",
       "##### Схема:"
      ],
      "text/plain": [
       "<IPython.core.display.Markdown object>"
      ]
     },
     "metadata": {},
     "output_type": "display_data"
    },
    {
     "name": "stderr",
     "output_type": "stream",
     "text": [
      "/tmp/ipykernel_450849/82215137.py:49: UserWarning: pandas only supports SQLAlchemy connectable (engine/connection) or database string URI or sqlite3 DBAPI2 connection. Other DBAPI2 objects are not tested. Please consider using SQLAlchemy.\n",
      "  df = pd.read_sql_query(query, conn)\n"
     ]
    },
    {
     "data": {
      "text/html": [
       "<div>\n",
       "<style scoped>\n",
       "    .dataframe tbody tr th:only-of-type {\n",
       "        vertical-align: middle;\n",
       "    }\n",
       "\n",
       "    .dataframe tbody tr th {\n",
       "        vertical-align: top;\n",
       "    }\n",
       "\n",
       "    .dataframe thead th {\n",
       "        text-align: right;\n",
       "    }\n",
       "</style>\n",
       "<table border=\"1\" class=\"dataframe\">\n",
       "  <thead>\n",
       "    <tr style=\"text-align: right;\">\n",
       "      <th></th>\n",
       "      <th>column_name</th>\n",
       "      <th>data_type</th>\n",
       "      <th>is_nullable</th>\n",
       "      <th>column_default</th>\n",
       "    </tr>\n",
       "  </thead>\n",
       "  <tbody>\n",
       "    <tr>\n",
       "      <th>0</th>\n",
       "      <td>id</td>\n",
       "      <td>integer</td>\n",
       "      <td>NO</td>\n",
       "      <td>nextval('auth_group_id_seq'::regclass)</td>\n",
       "    </tr>\n",
       "    <tr>\n",
       "      <th>1</th>\n",
       "      <td>name</td>\n",
       "      <td>character varying</td>\n",
       "      <td>NO</td>\n",
       "      <td>None</td>\n",
       "    </tr>\n",
       "  </tbody>\n",
       "</table>\n",
       "</div>"
      ],
      "text/plain": [
       "  column_name          data_type is_nullable                          column_default\n",
       "0          id            integer          NO  nextval('auth_group_id_seq'::regclass)\n",
       "1        name  character varying          NO                                    None"
      ]
     },
     "metadata": {},
     "output_type": "display_data"
    },
    {
     "data": {
      "text/markdown": [
       "\n",
       "##### Ограничения (PK, FK):"
      ],
      "text/plain": [
       "<IPython.core.display.Markdown object>"
      ]
     },
     "metadata": {},
     "output_type": "display_data"
    },
    {
     "name": "stderr",
     "output_type": "stream",
     "text": [
      "/tmp/ipykernel_450849/82215137.py:79: UserWarning: pandas only supports SQLAlchemy connectable (engine/connection) or database string URI or sqlite3 DBAPI2 connection. Other DBAPI2 objects are not tested. Please consider using SQLAlchemy.\n",
      "  df = pd.read_sql_query(query, conn)\n"
     ]
    },
    {
     "data": {
      "text/html": [
       "<div>\n",
       "<style scoped>\n",
       "    .dataframe tbody tr th:only-of-type {\n",
       "        vertical-align: middle;\n",
       "    }\n",
       "\n",
       "    .dataframe tbody tr th {\n",
       "        vertical-align: top;\n",
       "    }\n",
       "\n",
       "    .dataframe thead th {\n",
       "        text-align: right;\n",
       "    }\n",
       "</style>\n",
       "<table border=\"1\" class=\"dataframe\">\n",
       "  <thead>\n",
       "    <tr style=\"text-align: right;\">\n",
       "      <th></th>\n",
       "      <th>constraint_name</th>\n",
       "      <th>constraint_type</th>\n",
       "      <th>column_name</th>\n",
       "      <th>foreign_table_name</th>\n",
       "      <th>foreign_column_name</th>\n",
       "    </tr>\n",
       "  </thead>\n",
       "  <tbody>\n",
       "    <tr>\n",
       "      <th>0</th>\n",
       "      <td>auth_group_pkey</td>\n",
       "      <td>PRIMARY KEY</td>\n",
       "      <td>id</td>\n",
       "      <td>auth_group</td>\n",
       "      <td>id</td>\n",
       "    </tr>\n",
       "    <tr>\n",
       "      <th>1</th>\n",
       "      <td>auth_group_name_key</td>\n",
       "      <td>UNIQUE</td>\n",
       "      <td>name</td>\n",
       "      <td>auth_group</td>\n",
       "      <td>name</td>\n",
       "    </tr>\n",
       "  </tbody>\n",
       "</table>\n",
       "</div>"
      ],
      "text/plain": [
       "       constraint_name constraint_type column_name foreign_table_name foreign_column_name\n",
       "0      auth_group_pkey     PRIMARY KEY          id         auth_group                  id\n",
       "1  auth_group_name_key          UNIQUE        name         auth_group                name"
      ]
     },
     "metadata": {},
     "output_type": "display_data"
    },
    {
     "data": {
      "text/markdown": [
       "\n",
       "#### Таблица: `auth_group_permissions`"
      ],
      "text/plain": [
       "<IPython.core.display.Markdown object>"
      ]
     },
     "metadata": {},
     "output_type": "display_data"
    },
    {
     "data": {
      "text/markdown": [
       "\n",
       "##### Схема:"
      ],
      "text/plain": [
       "<IPython.core.display.Markdown object>"
      ]
     },
     "metadata": {},
     "output_type": "display_data"
    },
    {
     "name": "stderr",
     "output_type": "stream",
     "text": [
      "/tmp/ipykernel_450849/82215137.py:49: UserWarning: pandas only supports SQLAlchemy connectable (engine/connection) or database string URI or sqlite3 DBAPI2 connection. Other DBAPI2 objects are not tested. Please consider using SQLAlchemy.\n",
      "  df = pd.read_sql_query(query, conn)\n"
     ]
    },
    {
     "data": {
      "text/html": [
       "<div>\n",
       "<style scoped>\n",
       "    .dataframe tbody tr th:only-of-type {\n",
       "        vertical-align: middle;\n",
       "    }\n",
       "\n",
       "    .dataframe tbody tr th {\n",
       "        vertical-align: top;\n",
       "    }\n",
       "\n",
       "    .dataframe thead th {\n",
       "        text-align: right;\n",
       "    }\n",
       "</style>\n",
       "<table border=\"1\" class=\"dataframe\">\n",
       "  <thead>\n",
       "    <tr style=\"text-align: right;\">\n",
       "      <th></th>\n",
       "      <th>column_name</th>\n",
       "      <th>data_type</th>\n",
       "      <th>is_nullable</th>\n",
       "      <th>column_default</th>\n",
       "    </tr>\n",
       "  </thead>\n",
       "  <tbody>\n",
       "    <tr>\n",
       "      <th>0</th>\n",
       "      <td>id</td>\n",
       "      <td>bigint</td>\n",
       "      <td>NO</td>\n",
       "      <td>nextval('auth_group_permissions_id_seq'::regcl...</td>\n",
       "    </tr>\n",
       "    <tr>\n",
       "      <th>1</th>\n",
       "      <td>group_id</td>\n",
       "      <td>integer</td>\n",
       "      <td>NO</td>\n",
       "      <td>None</td>\n",
       "    </tr>\n",
       "    <tr>\n",
       "      <th>2</th>\n",
       "      <td>permission_id</td>\n",
       "      <td>integer</td>\n",
       "      <td>NO</td>\n",
       "      <td>None</td>\n",
       "    </tr>\n",
       "  </tbody>\n",
       "</table>\n",
       "</div>"
      ],
      "text/plain": [
       "     column_name data_type is_nullable                                     column_default\n",
       "0             id    bigint          NO  nextval('auth_group_permissions_id_seq'::regcl...\n",
       "1       group_id   integer          NO                                               None\n",
       "2  permission_id   integer          NO                                               None"
      ]
     },
     "metadata": {},
     "output_type": "display_data"
    },
    {
     "data": {
      "text/markdown": [
       "\n",
       "##### Ограничения (PK, FK):"
      ],
      "text/plain": [
       "<IPython.core.display.Markdown object>"
      ]
     },
     "metadata": {},
     "output_type": "display_data"
    },
    {
     "name": "stderr",
     "output_type": "stream",
     "text": [
      "/tmp/ipykernel_450849/82215137.py:79: UserWarning: pandas only supports SQLAlchemy connectable (engine/connection) or database string URI or sqlite3 DBAPI2 connection. Other DBAPI2 objects are not tested. Please consider using SQLAlchemy.\n",
      "  df = pd.read_sql_query(query, conn)\n"
     ]
    },
    {
     "data": {
      "text/html": [
       "<div>\n",
       "<style scoped>\n",
       "    .dataframe tbody tr th:only-of-type {\n",
       "        vertical-align: middle;\n",
       "    }\n",
       "\n",
       "    .dataframe tbody tr th {\n",
       "        vertical-align: top;\n",
       "    }\n",
       "\n",
       "    .dataframe thead th {\n",
       "        text-align: right;\n",
       "    }\n",
       "</style>\n",
       "<table border=\"1\" class=\"dataframe\">\n",
       "  <thead>\n",
       "    <tr style=\"text-align: right;\">\n",
       "      <th></th>\n",
       "      <th>constraint_name</th>\n",
       "      <th>constraint_type</th>\n",
       "      <th>column_name</th>\n",
       "      <th>foreign_table_name</th>\n",
       "      <th>foreign_column_name</th>\n",
       "    </tr>\n",
       "  </thead>\n",
       "  <tbody>\n",
       "    <tr>\n",
       "      <th>0</th>\n",
       "      <td>auth_group_permissio_permission_id_84c5c92e_fk...</td>\n",
       "      <td>FOREIGN KEY</td>\n",
       "      <td>permission_id</td>\n",
       "      <td>auth_permission</td>\n",
       "      <td>id</td>\n",
       "    </tr>\n",
       "    <tr>\n",
       "      <th>1</th>\n",
       "      <td>auth_group_permissions_group_id_b120cbf9_fk_au...</td>\n",
       "      <td>FOREIGN KEY</td>\n",
       "      <td>group_id</td>\n",
       "      <td>auth_group</td>\n",
       "      <td>id</td>\n",
       "    </tr>\n",
       "    <tr>\n",
       "      <th>2</th>\n",
       "      <td>auth_group_permissions_pkey</td>\n",
       "      <td>PRIMARY KEY</td>\n",
       "      <td>id</td>\n",
       "      <td>auth_group_permissions</td>\n",
       "      <td>id</td>\n",
       "    </tr>\n",
       "    <tr>\n",
       "      <th>3</th>\n",
       "      <td>auth_group_permissions_group_id_permission_id_...</td>\n",
       "      <td>UNIQUE</td>\n",
       "      <td>group_id</td>\n",
       "      <td>auth_group_permissions</td>\n",
       "      <td>permission_id</td>\n",
       "    </tr>\n",
       "    <tr>\n",
       "      <th>4</th>\n",
       "      <td>auth_group_permissions_group_id_permission_id_...</td>\n",
       "      <td>UNIQUE</td>\n",
       "      <td>group_id</td>\n",
       "      <td>auth_group_permissions</td>\n",
       "      <td>group_id</td>\n",
       "    </tr>\n",
       "    <tr>\n",
       "      <th>5</th>\n",
       "      <td>auth_group_permissions_group_id_permission_id_...</td>\n",
       "      <td>UNIQUE</td>\n",
       "      <td>permission_id</td>\n",
       "      <td>auth_group_permissions</td>\n",
       "      <td>group_id</td>\n",
       "    </tr>\n",
       "    <tr>\n",
       "      <th>6</th>\n",
       "      <td>auth_group_permissions_group_id_permission_id_...</td>\n",
       "      <td>UNIQUE</td>\n",
       "      <td>permission_id</td>\n",
       "      <td>auth_group_permissions</td>\n",
       "      <td>permission_id</td>\n",
       "    </tr>\n",
       "  </tbody>\n",
       "</table>\n",
       "</div>"
      ],
      "text/plain": [
       "                                     constraint_name constraint_type    column_name      foreign_table_name foreign_column_name\n",
       "0  auth_group_permissio_permission_id_84c5c92e_fk...     FOREIGN KEY  permission_id         auth_permission                  id\n",
       "1  auth_group_permissions_group_id_b120cbf9_fk_au...     FOREIGN KEY       group_id              auth_group                  id\n",
       "2                        auth_group_permissions_pkey     PRIMARY KEY             id  auth_group_permissions                  id\n",
       "3  auth_group_permissions_group_id_permission_id_...          UNIQUE       group_id  auth_group_permissions       permission_id\n",
       "4  auth_group_permissions_group_id_permission_id_...          UNIQUE       group_id  auth_group_permissions            group_id\n",
       "5  auth_group_permissions_group_id_permission_id_...          UNIQUE  permission_id  auth_group_permissions            group_id\n",
       "6  auth_group_permissions_group_id_permission_id_...          UNIQUE  permission_id  auth_group_permissions       permission_id"
      ]
     },
     "metadata": {},
     "output_type": "display_data"
    },
    {
     "data": {
      "text/markdown": [
       "\n",
       "#### Таблица: `auth_permission`"
      ],
      "text/plain": [
       "<IPython.core.display.Markdown object>"
      ]
     },
     "metadata": {},
     "output_type": "display_data"
    },
    {
     "data": {
      "text/markdown": [
       "\n",
       "##### Схема:"
      ],
      "text/plain": [
       "<IPython.core.display.Markdown object>"
      ]
     },
     "metadata": {},
     "output_type": "display_data"
    },
    {
     "name": "stderr",
     "output_type": "stream",
     "text": [
      "/tmp/ipykernel_450849/82215137.py:49: UserWarning: pandas only supports SQLAlchemy connectable (engine/connection) or database string URI or sqlite3 DBAPI2 connection. Other DBAPI2 objects are not tested. Please consider using SQLAlchemy.\n",
      "  df = pd.read_sql_query(query, conn)\n"
     ]
    },
    {
     "data": {
      "text/html": [
       "<div>\n",
       "<style scoped>\n",
       "    .dataframe tbody tr th:only-of-type {\n",
       "        vertical-align: middle;\n",
       "    }\n",
       "\n",
       "    .dataframe tbody tr th {\n",
       "        vertical-align: top;\n",
       "    }\n",
       "\n",
       "    .dataframe thead th {\n",
       "        text-align: right;\n",
       "    }\n",
       "</style>\n",
       "<table border=\"1\" class=\"dataframe\">\n",
       "  <thead>\n",
       "    <tr style=\"text-align: right;\">\n",
       "      <th></th>\n",
       "      <th>column_name</th>\n",
       "      <th>data_type</th>\n",
       "      <th>is_nullable</th>\n",
       "      <th>column_default</th>\n",
       "    </tr>\n",
       "  </thead>\n",
       "  <tbody>\n",
       "    <tr>\n",
       "      <th>0</th>\n",
       "      <td>id</td>\n",
       "      <td>integer</td>\n",
       "      <td>NO</td>\n",
       "      <td>nextval('auth_permission_id_seq'::regclass)</td>\n",
       "    </tr>\n",
       "    <tr>\n",
       "      <th>1</th>\n",
       "      <td>name</td>\n",
       "      <td>character varying</td>\n",
       "      <td>NO</td>\n",
       "      <td>None</td>\n",
       "    </tr>\n",
       "    <tr>\n",
       "      <th>2</th>\n",
       "      <td>content_type_id</td>\n",
       "      <td>integer</td>\n",
       "      <td>NO</td>\n",
       "      <td>None</td>\n",
       "    </tr>\n",
       "    <tr>\n",
       "      <th>3</th>\n",
       "      <td>codename</td>\n",
       "      <td>character varying</td>\n",
       "      <td>NO</td>\n",
       "      <td>None</td>\n",
       "    </tr>\n",
       "  </tbody>\n",
       "</table>\n",
       "</div>"
      ],
      "text/plain": [
       "       column_name          data_type is_nullable                               column_default\n",
       "0               id            integer          NO  nextval('auth_permission_id_seq'::regclass)\n",
       "1             name  character varying          NO                                         None\n",
       "2  content_type_id            integer          NO                                         None\n",
       "3         codename  character varying          NO                                         None"
      ]
     },
     "metadata": {},
     "output_type": "display_data"
    },
    {
     "data": {
      "text/markdown": [
       "\n",
       "##### Ограничения (PK, FK):"
      ],
      "text/plain": [
       "<IPython.core.display.Markdown object>"
      ]
     },
     "metadata": {},
     "output_type": "display_data"
    },
    {
     "name": "stderr",
     "output_type": "stream",
     "text": [
      "/tmp/ipykernel_450849/82215137.py:79: UserWarning: pandas only supports SQLAlchemy connectable (engine/connection) or database string URI or sqlite3 DBAPI2 connection. Other DBAPI2 objects are not tested. Please consider using SQLAlchemy.\n",
      "  df = pd.read_sql_query(query, conn)\n"
     ]
    },
    {
     "data": {
      "text/html": [
       "<div>\n",
       "<style scoped>\n",
       "    .dataframe tbody tr th:only-of-type {\n",
       "        vertical-align: middle;\n",
       "    }\n",
       "\n",
       "    .dataframe tbody tr th {\n",
       "        vertical-align: top;\n",
       "    }\n",
       "\n",
       "    .dataframe thead th {\n",
       "        text-align: right;\n",
       "    }\n",
       "</style>\n",
       "<table border=\"1\" class=\"dataframe\">\n",
       "  <thead>\n",
       "    <tr style=\"text-align: right;\">\n",
       "      <th></th>\n",
       "      <th>constraint_name</th>\n",
       "      <th>constraint_type</th>\n",
       "      <th>column_name</th>\n",
       "      <th>foreign_table_name</th>\n",
       "      <th>foreign_column_name</th>\n",
       "    </tr>\n",
       "  </thead>\n",
       "  <tbody>\n",
       "    <tr>\n",
       "      <th>0</th>\n",
       "      <td>auth_permission_content_type_id_2f476e4b_fk_dj...</td>\n",
       "      <td>FOREIGN KEY</td>\n",
       "      <td>content_type_id</td>\n",
       "      <td>django_content_type</td>\n",
       "      <td>id</td>\n",
       "    </tr>\n",
       "    <tr>\n",
       "      <th>1</th>\n",
       "      <td>auth_permission_pkey</td>\n",
       "      <td>PRIMARY KEY</td>\n",
       "      <td>id</td>\n",
       "      <td>auth_permission</td>\n",
       "      <td>id</td>\n",
       "    </tr>\n",
       "    <tr>\n",
       "      <th>2</th>\n",
       "      <td>auth_permission_content_type_id_codename_01ab3...</td>\n",
       "      <td>UNIQUE</td>\n",
       "      <td>content_type_id</td>\n",
       "      <td>auth_permission</td>\n",
       "      <td>content_type_id</td>\n",
       "    </tr>\n",
       "    <tr>\n",
       "      <th>3</th>\n",
       "      <td>auth_permission_content_type_id_codename_01ab3...</td>\n",
       "      <td>UNIQUE</td>\n",
       "      <td>content_type_id</td>\n",
       "      <td>auth_permission</td>\n",
       "      <td>codename</td>\n",
       "    </tr>\n",
       "    <tr>\n",
       "      <th>4</th>\n",
       "      <td>auth_permission_content_type_id_codename_01ab3...</td>\n",
       "      <td>UNIQUE</td>\n",
       "      <td>codename</td>\n",
       "      <td>auth_permission</td>\n",
       "      <td>content_type_id</td>\n",
       "    </tr>\n",
       "    <tr>\n",
       "      <th>5</th>\n",
       "      <td>auth_permission_content_type_id_codename_01ab3...</td>\n",
       "      <td>UNIQUE</td>\n",
       "      <td>codename</td>\n",
       "      <td>auth_permission</td>\n",
       "      <td>codename</td>\n",
       "    </tr>\n",
       "  </tbody>\n",
       "</table>\n",
       "</div>"
      ],
      "text/plain": [
       "                                     constraint_name constraint_type      column_name   foreign_table_name foreign_column_name\n",
       "0  auth_permission_content_type_id_2f476e4b_fk_dj...     FOREIGN KEY  content_type_id  django_content_type                  id\n",
       "1                               auth_permission_pkey     PRIMARY KEY               id      auth_permission                  id\n",
       "2  auth_permission_content_type_id_codename_01ab3...          UNIQUE  content_type_id      auth_permission     content_type_id\n",
       "3  auth_permission_content_type_id_codename_01ab3...          UNIQUE  content_type_id      auth_permission            codename\n",
       "4  auth_permission_content_type_id_codename_01ab3...          UNIQUE         codename      auth_permission     content_type_id\n",
       "5  auth_permission_content_type_id_codename_01ab3...          UNIQUE         codename      auth_permission            codename"
      ]
     },
     "metadata": {},
     "output_type": "display_data"
    },
    {
     "data": {
      "text/markdown": [
       "\n",
       "#### Таблица: `auth_user`"
      ],
      "text/plain": [
       "<IPython.core.display.Markdown object>"
      ]
     },
     "metadata": {},
     "output_type": "display_data"
    },
    {
     "data": {
      "text/markdown": [
       "\n",
       "##### Схема:"
      ],
      "text/plain": [
       "<IPython.core.display.Markdown object>"
      ]
     },
     "metadata": {},
     "output_type": "display_data"
    },
    {
     "name": "stderr",
     "output_type": "stream",
     "text": [
      "/tmp/ipykernel_450849/82215137.py:49: UserWarning: pandas only supports SQLAlchemy connectable (engine/connection) or database string URI or sqlite3 DBAPI2 connection. Other DBAPI2 objects are not tested. Please consider using SQLAlchemy.\n",
      "  df = pd.read_sql_query(query, conn)\n"
     ]
    },
    {
     "data": {
      "text/html": [
       "<div>\n",
       "<style scoped>\n",
       "    .dataframe tbody tr th:only-of-type {\n",
       "        vertical-align: middle;\n",
       "    }\n",
       "\n",
       "    .dataframe tbody tr th {\n",
       "        vertical-align: top;\n",
       "    }\n",
       "\n",
       "    .dataframe thead th {\n",
       "        text-align: right;\n",
       "    }\n",
       "</style>\n",
       "<table border=\"1\" class=\"dataframe\">\n",
       "  <thead>\n",
       "    <tr style=\"text-align: right;\">\n",
       "      <th></th>\n",
       "      <th>column_name</th>\n",
       "      <th>data_type</th>\n",
       "      <th>is_nullable</th>\n",
       "      <th>column_default</th>\n",
       "    </tr>\n",
       "  </thead>\n",
       "  <tbody>\n",
       "    <tr>\n",
       "      <th>0</th>\n",
       "      <td>id</td>\n",
       "      <td>integer</td>\n",
       "      <td>NO</td>\n",
       "      <td>nextval('auth_user_id_seq'::regclass)</td>\n",
       "    </tr>\n",
       "    <tr>\n",
       "      <th>1</th>\n",
       "      <td>password</td>\n",
       "      <td>character varying</td>\n",
       "      <td>NO</td>\n",
       "      <td>None</td>\n",
       "    </tr>\n",
       "    <tr>\n",
       "      <th>2</th>\n",
       "      <td>last_login</td>\n",
       "      <td>timestamp with time zone</td>\n",
       "      <td>YES</td>\n",
       "      <td>None</td>\n",
       "    </tr>\n",
       "    <tr>\n",
       "      <th>3</th>\n",
       "      <td>is_superuser</td>\n",
       "      <td>boolean</td>\n",
       "      <td>NO</td>\n",
       "      <td>None</td>\n",
       "    </tr>\n",
       "    <tr>\n",
       "      <th>4</th>\n",
       "      <td>username</td>\n",
       "      <td>character varying</td>\n",
       "      <td>NO</td>\n",
       "      <td>None</td>\n",
       "    </tr>\n",
       "    <tr>\n",
       "      <th>5</th>\n",
       "      <td>first_name</td>\n",
       "      <td>character varying</td>\n",
       "      <td>NO</td>\n",
       "      <td>None</td>\n",
       "    </tr>\n",
       "    <tr>\n",
       "      <th>6</th>\n",
       "      <td>last_name</td>\n",
       "      <td>character varying</td>\n",
       "      <td>NO</td>\n",
       "      <td>None</td>\n",
       "    </tr>\n",
       "    <tr>\n",
       "      <th>7</th>\n",
       "      <td>email</td>\n",
       "      <td>character varying</td>\n",
       "      <td>NO</td>\n",
       "      <td>None</td>\n",
       "    </tr>\n",
       "    <tr>\n",
       "      <th>8</th>\n",
       "      <td>is_staff</td>\n",
       "      <td>boolean</td>\n",
       "      <td>NO</td>\n",
       "      <td>None</td>\n",
       "    </tr>\n",
       "    <tr>\n",
       "      <th>9</th>\n",
       "      <td>is_active</td>\n",
       "      <td>boolean</td>\n",
       "      <td>NO</td>\n",
       "      <td>None</td>\n",
       "    </tr>\n",
       "    <tr>\n",
       "      <th>10</th>\n",
       "      <td>date_joined</td>\n",
       "      <td>timestamp with time zone</td>\n",
       "      <td>NO</td>\n",
       "      <td>None</td>\n",
       "    </tr>\n",
       "  </tbody>\n",
       "</table>\n",
       "</div>"
      ],
      "text/plain": [
       "     column_name                 data_type is_nullable                         column_default\n",
       "0             id                   integer          NO  nextval('auth_user_id_seq'::regclass)\n",
       "1       password         character varying          NO                                   None\n",
       "2     last_login  timestamp with time zone         YES                                   None\n",
       "3   is_superuser                   boolean          NO                                   None\n",
       "4       username         character varying          NO                                   None\n",
       "5     first_name         character varying          NO                                   None\n",
       "6      last_name         character varying          NO                                   None\n",
       "7          email         character varying          NO                                   None\n",
       "8       is_staff                   boolean          NO                                   None\n",
       "9      is_active                   boolean          NO                                   None\n",
       "10   date_joined  timestamp with time zone          NO                                   None"
      ]
     },
     "metadata": {},
     "output_type": "display_data"
    },
    {
     "data": {
      "text/markdown": [
       "\n",
       "##### Ограничения (PK, FK):"
      ],
      "text/plain": [
       "<IPython.core.display.Markdown object>"
      ]
     },
     "metadata": {},
     "output_type": "display_data"
    },
    {
     "name": "stderr",
     "output_type": "stream",
     "text": [
      "/tmp/ipykernel_450849/82215137.py:79: UserWarning: pandas only supports SQLAlchemy connectable (engine/connection) or database string URI or sqlite3 DBAPI2 connection. Other DBAPI2 objects are not tested. Please consider using SQLAlchemy.\n",
      "  df = pd.read_sql_query(query, conn)\n"
     ]
    },
    {
     "data": {
      "text/html": [
       "<div>\n",
       "<style scoped>\n",
       "    .dataframe tbody tr th:only-of-type {\n",
       "        vertical-align: middle;\n",
       "    }\n",
       "\n",
       "    .dataframe tbody tr th {\n",
       "        vertical-align: top;\n",
       "    }\n",
       "\n",
       "    .dataframe thead th {\n",
       "        text-align: right;\n",
       "    }\n",
       "</style>\n",
       "<table border=\"1\" class=\"dataframe\">\n",
       "  <thead>\n",
       "    <tr style=\"text-align: right;\">\n",
       "      <th></th>\n",
       "      <th>constraint_name</th>\n",
       "      <th>constraint_type</th>\n",
       "      <th>column_name</th>\n",
       "      <th>foreign_table_name</th>\n",
       "      <th>foreign_column_name</th>\n",
       "    </tr>\n",
       "  </thead>\n",
       "  <tbody>\n",
       "    <tr>\n",
       "      <th>0</th>\n",
       "      <td>auth_user_pkey</td>\n",
       "      <td>PRIMARY KEY</td>\n",
       "      <td>id</td>\n",
       "      <td>auth_user</td>\n",
       "      <td>id</td>\n",
       "    </tr>\n",
       "    <tr>\n",
       "      <th>1</th>\n",
       "      <td>auth_user_username_key</td>\n",
       "      <td>UNIQUE</td>\n",
       "      <td>username</td>\n",
       "      <td>auth_user</td>\n",
       "      <td>username</td>\n",
       "    </tr>\n",
       "  </tbody>\n",
       "</table>\n",
       "</div>"
      ],
      "text/plain": [
       "          constraint_name constraint_type column_name foreign_table_name foreign_column_name\n",
       "0          auth_user_pkey     PRIMARY KEY          id          auth_user                  id\n",
       "1  auth_user_username_key          UNIQUE    username          auth_user            username"
      ]
     },
     "metadata": {},
     "output_type": "display_data"
    },
    {
     "data": {
      "text/markdown": [
       "\n",
       "#### Таблица: `auth_user_groups`"
      ],
      "text/plain": [
       "<IPython.core.display.Markdown object>"
      ]
     },
     "metadata": {},
     "output_type": "display_data"
    },
    {
     "data": {
      "text/markdown": [
       "\n",
       "##### Схема:"
      ],
      "text/plain": [
       "<IPython.core.display.Markdown object>"
      ]
     },
     "metadata": {},
     "output_type": "display_data"
    },
    {
     "name": "stderr",
     "output_type": "stream",
     "text": [
      "/tmp/ipykernel_450849/82215137.py:49: UserWarning: pandas only supports SQLAlchemy connectable (engine/connection) or database string URI or sqlite3 DBAPI2 connection. Other DBAPI2 objects are not tested. Please consider using SQLAlchemy.\n",
      "  df = pd.read_sql_query(query, conn)\n"
     ]
    },
    {
     "data": {
      "text/html": [
       "<div>\n",
       "<style scoped>\n",
       "    .dataframe tbody tr th:only-of-type {\n",
       "        vertical-align: middle;\n",
       "    }\n",
       "\n",
       "    .dataframe tbody tr th {\n",
       "        vertical-align: top;\n",
       "    }\n",
       "\n",
       "    .dataframe thead th {\n",
       "        text-align: right;\n",
       "    }\n",
       "</style>\n",
       "<table border=\"1\" class=\"dataframe\">\n",
       "  <thead>\n",
       "    <tr style=\"text-align: right;\">\n",
       "      <th></th>\n",
       "      <th>column_name</th>\n",
       "      <th>data_type</th>\n",
       "      <th>is_nullable</th>\n",
       "      <th>column_default</th>\n",
       "    </tr>\n",
       "  </thead>\n",
       "  <tbody>\n",
       "    <tr>\n",
       "      <th>0</th>\n",
       "      <td>id</td>\n",
       "      <td>bigint</td>\n",
       "      <td>NO</td>\n",
       "      <td>nextval('auth_user_groups_id_seq'::regclass)</td>\n",
       "    </tr>\n",
       "    <tr>\n",
       "      <th>1</th>\n",
       "      <td>user_id</td>\n",
       "      <td>integer</td>\n",
       "      <td>NO</td>\n",
       "      <td>None</td>\n",
       "    </tr>\n",
       "    <tr>\n",
       "      <th>2</th>\n",
       "      <td>group_id</td>\n",
       "      <td>integer</td>\n",
       "      <td>NO</td>\n",
       "      <td>None</td>\n",
       "    </tr>\n",
       "  </tbody>\n",
       "</table>\n",
       "</div>"
      ],
      "text/plain": [
       "  column_name data_type is_nullable                                column_default\n",
       "0          id    bigint          NO  nextval('auth_user_groups_id_seq'::regclass)\n",
       "1     user_id   integer          NO                                          None\n",
       "2    group_id   integer          NO                                          None"
      ]
     },
     "metadata": {},
     "output_type": "display_data"
    },
    {
     "data": {
      "text/markdown": [
       "\n",
       "##### Ограничения (PK, FK):"
      ],
      "text/plain": [
       "<IPython.core.display.Markdown object>"
      ]
     },
     "metadata": {},
     "output_type": "display_data"
    },
    {
     "name": "stderr",
     "output_type": "stream",
     "text": [
      "/tmp/ipykernel_450849/82215137.py:79: UserWarning: pandas only supports SQLAlchemy connectable (engine/connection) or database string URI or sqlite3 DBAPI2 connection. Other DBAPI2 objects are not tested. Please consider using SQLAlchemy.\n",
      "  df = pd.read_sql_query(query, conn)\n"
     ]
    },
    {
     "data": {
      "text/html": [
       "<div>\n",
       "<style scoped>\n",
       "    .dataframe tbody tr th:only-of-type {\n",
       "        vertical-align: middle;\n",
       "    }\n",
       "\n",
       "    .dataframe tbody tr th {\n",
       "        vertical-align: top;\n",
       "    }\n",
       "\n",
       "    .dataframe thead th {\n",
       "        text-align: right;\n",
       "    }\n",
       "</style>\n",
       "<table border=\"1\" class=\"dataframe\">\n",
       "  <thead>\n",
       "    <tr style=\"text-align: right;\">\n",
       "      <th></th>\n",
       "      <th>constraint_name</th>\n",
       "      <th>constraint_type</th>\n",
       "      <th>column_name</th>\n",
       "      <th>foreign_table_name</th>\n",
       "      <th>foreign_column_name</th>\n",
       "    </tr>\n",
       "  </thead>\n",
       "  <tbody>\n",
       "    <tr>\n",
       "      <th>0</th>\n",
       "      <td>auth_user_groups_group_id_97559544_fk_auth_gro...</td>\n",
       "      <td>FOREIGN KEY</td>\n",
       "      <td>group_id</td>\n",
       "      <td>auth_group</td>\n",
       "      <td>id</td>\n",
       "    </tr>\n",
       "    <tr>\n",
       "      <th>1</th>\n",
       "      <td>auth_user_groups_user_id_6a12ed8b_fk_auth_user_id</td>\n",
       "      <td>FOREIGN KEY</td>\n",
       "      <td>user_id</td>\n",
       "      <td>auth_user</td>\n",
       "      <td>id</td>\n",
       "    </tr>\n",
       "    <tr>\n",
       "      <th>2</th>\n",
       "      <td>auth_user_groups_pkey</td>\n",
       "      <td>PRIMARY KEY</td>\n",
       "      <td>id</td>\n",
       "      <td>auth_user_groups</td>\n",
       "      <td>id</td>\n",
       "    </tr>\n",
       "    <tr>\n",
       "      <th>3</th>\n",
       "      <td>auth_user_groups_user_id_group_id_94350c0c_uniq</td>\n",
       "      <td>UNIQUE</td>\n",
       "      <td>user_id</td>\n",
       "      <td>auth_user_groups</td>\n",
       "      <td>group_id</td>\n",
       "    </tr>\n",
       "    <tr>\n",
       "      <th>4</th>\n",
       "      <td>auth_user_groups_user_id_group_id_94350c0c_uniq</td>\n",
       "      <td>UNIQUE</td>\n",
       "      <td>user_id</td>\n",
       "      <td>auth_user_groups</td>\n",
       "      <td>user_id</td>\n",
       "    </tr>\n",
       "    <tr>\n",
       "      <th>5</th>\n",
       "      <td>auth_user_groups_user_id_group_id_94350c0c_uniq</td>\n",
       "      <td>UNIQUE</td>\n",
       "      <td>group_id</td>\n",
       "      <td>auth_user_groups</td>\n",
       "      <td>user_id</td>\n",
       "    </tr>\n",
       "    <tr>\n",
       "      <th>6</th>\n",
       "      <td>auth_user_groups_user_id_group_id_94350c0c_uniq</td>\n",
       "      <td>UNIQUE</td>\n",
       "      <td>group_id</td>\n",
       "      <td>auth_user_groups</td>\n",
       "      <td>group_id</td>\n",
       "    </tr>\n",
       "  </tbody>\n",
       "</table>\n",
       "</div>"
      ],
      "text/plain": [
       "                                     constraint_name constraint_type column_name foreign_table_name foreign_column_name\n",
       "0  auth_user_groups_group_id_97559544_fk_auth_gro...     FOREIGN KEY    group_id         auth_group                  id\n",
       "1  auth_user_groups_user_id_6a12ed8b_fk_auth_user_id     FOREIGN KEY     user_id          auth_user                  id\n",
       "2                              auth_user_groups_pkey     PRIMARY KEY          id   auth_user_groups                  id\n",
       "3    auth_user_groups_user_id_group_id_94350c0c_uniq          UNIQUE     user_id   auth_user_groups            group_id\n",
       "4    auth_user_groups_user_id_group_id_94350c0c_uniq          UNIQUE     user_id   auth_user_groups             user_id\n",
       "5    auth_user_groups_user_id_group_id_94350c0c_uniq          UNIQUE    group_id   auth_user_groups             user_id\n",
       "6    auth_user_groups_user_id_group_id_94350c0c_uniq          UNIQUE    group_id   auth_user_groups            group_id"
      ]
     },
     "metadata": {},
     "output_type": "display_data"
    },
    {
     "data": {
      "text/markdown": [
       "\n",
       "#### Таблица: `auth_user_user_permissions`"
      ],
      "text/plain": [
       "<IPython.core.display.Markdown object>"
      ]
     },
     "metadata": {},
     "output_type": "display_data"
    },
    {
     "data": {
      "text/markdown": [
       "\n",
       "##### Схема:"
      ],
      "text/plain": [
       "<IPython.core.display.Markdown object>"
      ]
     },
     "metadata": {},
     "output_type": "display_data"
    },
    {
     "name": "stderr",
     "output_type": "stream",
     "text": [
      "/tmp/ipykernel_450849/82215137.py:49: UserWarning: pandas only supports SQLAlchemy connectable (engine/connection) or database string URI or sqlite3 DBAPI2 connection. Other DBAPI2 objects are not tested. Please consider using SQLAlchemy.\n",
      "  df = pd.read_sql_query(query, conn)\n"
     ]
    },
    {
     "data": {
      "text/html": [
       "<div>\n",
       "<style scoped>\n",
       "    .dataframe tbody tr th:only-of-type {\n",
       "        vertical-align: middle;\n",
       "    }\n",
       "\n",
       "    .dataframe tbody tr th {\n",
       "        vertical-align: top;\n",
       "    }\n",
       "\n",
       "    .dataframe thead th {\n",
       "        text-align: right;\n",
       "    }\n",
       "</style>\n",
       "<table border=\"1\" class=\"dataframe\">\n",
       "  <thead>\n",
       "    <tr style=\"text-align: right;\">\n",
       "      <th></th>\n",
       "      <th>column_name</th>\n",
       "      <th>data_type</th>\n",
       "      <th>is_nullable</th>\n",
       "      <th>column_default</th>\n",
       "    </tr>\n",
       "  </thead>\n",
       "  <tbody>\n",
       "    <tr>\n",
       "      <th>0</th>\n",
       "      <td>id</td>\n",
       "      <td>bigint</td>\n",
       "      <td>NO</td>\n",
       "      <td>nextval('auth_user_user_permissions_id_seq'::r...</td>\n",
       "    </tr>\n",
       "    <tr>\n",
       "      <th>1</th>\n",
       "      <td>user_id</td>\n",
       "      <td>integer</td>\n",
       "      <td>NO</td>\n",
       "      <td>None</td>\n",
       "    </tr>\n",
       "    <tr>\n",
       "      <th>2</th>\n",
       "      <td>permission_id</td>\n",
       "      <td>integer</td>\n",
       "      <td>NO</td>\n",
       "      <td>None</td>\n",
       "    </tr>\n",
       "  </tbody>\n",
       "</table>\n",
       "</div>"
      ],
      "text/plain": [
       "     column_name data_type is_nullable                                     column_default\n",
       "0             id    bigint          NO  nextval('auth_user_user_permissions_id_seq'::r...\n",
       "1        user_id   integer          NO                                               None\n",
       "2  permission_id   integer          NO                                               None"
      ]
     },
     "metadata": {},
     "output_type": "display_data"
    },
    {
     "data": {
      "text/markdown": [
       "\n",
       "##### Ограничения (PK, FK):"
      ],
      "text/plain": [
       "<IPython.core.display.Markdown object>"
      ]
     },
     "metadata": {},
     "output_type": "display_data"
    },
    {
     "name": "stderr",
     "output_type": "stream",
     "text": [
      "/tmp/ipykernel_450849/82215137.py:79: UserWarning: pandas only supports SQLAlchemy connectable (engine/connection) or database string URI or sqlite3 DBAPI2 connection. Other DBAPI2 objects are not tested. Please consider using SQLAlchemy.\n",
      "  df = pd.read_sql_query(query, conn)\n"
     ]
    },
    {
     "data": {
      "text/html": [
       "<div>\n",
       "<style scoped>\n",
       "    .dataframe tbody tr th:only-of-type {\n",
       "        vertical-align: middle;\n",
       "    }\n",
       "\n",
       "    .dataframe tbody tr th {\n",
       "        vertical-align: top;\n",
       "    }\n",
       "\n",
       "    .dataframe thead th {\n",
       "        text-align: right;\n",
       "    }\n",
       "</style>\n",
       "<table border=\"1\" class=\"dataframe\">\n",
       "  <thead>\n",
       "    <tr style=\"text-align: right;\">\n",
       "      <th></th>\n",
       "      <th>constraint_name</th>\n",
       "      <th>constraint_type</th>\n",
       "      <th>column_name</th>\n",
       "      <th>foreign_table_name</th>\n",
       "      <th>foreign_column_name</th>\n",
       "    </tr>\n",
       "  </thead>\n",
       "  <tbody>\n",
       "    <tr>\n",
       "      <th>0</th>\n",
       "      <td>auth_user_user_permi_permission_id_1fbb5f2c_fk...</td>\n",
       "      <td>FOREIGN KEY</td>\n",
       "      <td>permission_id</td>\n",
       "      <td>auth_permission</td>\n",
       "      <td>id</td>\n",
       "    </tr>\n",
       "    <tr>\n",
       "      <th>1</th>\n",
       "      <td>auth_user_user_permissions_user_id_a95ead1b_fk...</td>\n",
       "      <td>FOREIGN KEY</td>\n",
       "      <td>user_id</td>\n",
       "      <td>auth_user</td>\n",
       "      <td>id</td>\n",
       "    </tr>\n",
       "    <tr>\n",
       "      <th>2</th>\n",
       "      <td>auth_user_user_permissions_pkey</td>\n",
       "      <td>PRIMARY KEY</td>\n",
       "      <td>id</td>\n",
       "      <td>auth_user_user_permissions</td>\n",
       "      <td>id</td>\n",
       "    </tr>\n",
       "    <tr>\n",
       "      <th>3</th>\n",
       "      <td>auth_user_user_permissions_user_id_permission_...</td>\n",
       "      <td>UNIQUE</td>\n",
       "      <td>user_id</td>\n",
       "      <td>auth_user_user_permissions</td>\n",
       "      <td>permission_id</td>\n",
       "    </tr>\n",
       "    <tr>\n",
       "      <th>4</th>\n",
       "      <td>auth_user_user_permissions_user_id_permission_...</td>\n",
       "      <td>UNIQUE</td>\n",
       "      <td>user_id</td>\n",
       "      <td>auth_user_user_permissions</td>\n",
       "      <td>user_id</td>\n",
       "    </tr>\n",
       "    <tr>\n",
       "      <th>5</th>\n",
       "      <td>auth_user_user_permissions_user_id_permission_...</td>\n",
       "      <td>UNIQUE</td>\n",
       "      <td>permission_id</td>\n",
       "      <td>auth_user_user_permissions</td>\n",
       "      <td>user_id</td>\n",
       "    </tr>\n",
       "    <tr>\n",
       "      <th>6</th>\n",
       "      <td>auth_user_user_permissions_user_id_permission_...</td>\n",
       "      <td>UNIQUE</td>\n",
       "      <td>permission_id</td>\n",
       "      <td>auth_user_user_permissions</td>\n",
       "      <td>permission_id</td>\n",
       "    </tr>\n",
       "  </tbody>\n",
       "</table>\n",
       "</div>"
      ],
      "text/plain": [
       "                                     constraint_name constraint_type    column_name          foreign_table_name foreign_column_name\n",
       "0  auth_user_user_permi_permission_id_1fbb5f2c_fk...     FOREIGN KEY  permission_id             auth_permission                  id\n",
       "1  auth_user_user_permissions_user_id_a95ead1b_fk...     FOREIGN KEY        user_id                   auth_user                  id\n",
       "2                    auth_user_user_permissions_pkey     PRIMARY KEY             id  auth_user_user_permissions                  id\n",
       "3  auth_user_user_permissions_user_id_permission_...          UNIQUE        user_id  auth_user_user_permissions       permission_id\n",
       "4  auth_user_user_permissions_user_id_permission_...          UNIQUE        user_id  auth_user_user_permissions             user_id\n",
       "5  auth_user_user_permissions_user_id_permission_...          UNIQUE  permission_id  auth_user_user_permissions             user_id\n",
       "6  auth_user_user_permissions_user_id_permission_...          UNIQUE  permission_id  auth_user_user_permissions       permission_id"
      ]
     },
     "metadata": {},
     "output_type": "display_data"
    },
    {
     "data": {
      "text/markdown": [
       "\n",
       "#### Таблица: `django_admin_log`"
      ],
      "text/plain": [
       "<IPython.core.display.Markdown object>"
      ]
     },
     "metadata": {},
     "output_type": "display_data"
    },
    {
     "data": {
      "text/markdown": [
       "\n",
       "##### Схема:"
      ],
      "text/plain": [
       "<IPython.core.display.Markdown object>"
      ]
     },
     "metadata": {},
     "output_type": "display_data"
    },
    {
     "name": "stderr",
     "output_type": "stream",
     "text": [
      "/tmp/ipykernel_450849/82215137.py:49: UserWarning: pandas only supports SQLAlchemy connectable (engine/connection) or database string URI or sqlite3 DBAPI2 connection. Other DBAPI2 objects are not tested. Please consider using SQLAlchemy.\n",
      "  df = pd.read_sql_query(query, conn)\n"
     ]
    },
    {
     "data": {
      "text/html": [
       "<div>\n",
       "<style scoped>\n",
       "    .dataframe tbody tr th:only-of-type {\n",
       "        vertical-align: middle;\n",
       "    }\n",
       "\n",
       "    .dataframe tbody tr th {\n",
       "        vertical-align: top;\n",
       "    }\n",
       "\n",
       "    .dataframe thead th {\n",
       "        text-align: right;\n",
       "    }\n",
       "</style>\n",
       "<table border=\"1\" class=\"dataframe\">\n",
       "  <thead>\n",
       "    <tr style=\"text-align: right;\">\n",
       "      <th></th>\n",
       "      <th>column_name</th>\n",
       "      <th>data_type</th>\n",
       "      <th>is_nullable</th>\n",
       "      <th>column_default</th>\n",
       "    </tr>\n",
       "  </thead>\n",
       "  <tbody>\n",
       "    <tr>\n",
       "      <th>0</th>\n",
       "      <td>id</td>\n",
       "      <td>integer</td>\n",
       "      <td>NO</td>\n",
       "      <td>nextval('django_admin_log_id_seq'::regclass)</td>\n",
       "    </tr>\n",
       "    <tr>\n",
       "      <th>1</th>\n",
       "      <td>action_time</td>\n",
       "      <td>timestamp with time zone</td>\n",
       "      <td>NO</td>\n",
       "      <td>None</td>\n",
       "    </tr>\n",
       "    <tr>\n",
       "      <th>2</th>\n",
       "      <td>object_id</td>\n",
       "      <td>text</td>\n",
       "      <td>YES</td>\n",
       "      <td>None</td>\n",
       "    </tr>\n",
       "    <tr>\n",
       "      <th>3</th>\n",
       "      <td>object_repr</td>\n",
       "      <td>character varying</td>\n",
       "      <td>NO</td>\n",
       "      <td>None</td>\n",
       "    </tr>\n",
       "    <tr>\n",
       "      <th>4</th>\n",
       "      <td>action_flag</td>\n",
       "      <td>smallint</td>\n",
       "      <td>NO</td>\n",
       "      <td>None</td>\n",
       "    </tr>\n",
       "    <tr>\n",
       "      <th>5</th>\n",
       "      <td>change_message</td>\n",
       "      <td>text</td>\n",
       "      <td>NO</td>\n",
       "      <td>None</td>\n",
       "    </tr>\n",
       "    <tr>\n",
       "      <th>6</th>\n",
       "      <td>content_type_id</td>\n",
       "      <td>integer</td>\n",
       "      <td>YES</td>\n",
       "      <td>None</td>\n",
       "    </tr>\n",
       "    <tr>\n",
       "      <th>7</th>\n",
       "      <td>user_id</td>\n",
       "      <td>integer</td>\n",
       "      <td>NO</td>\n",
       "      <td>None</td>\n",
       "    </tr>\n",
       "  </tbody>\n",
       "</table>\n",
       "</div>"
      ],
      "text/plain": [
       "       column_name                 data_type is_nullable                                column_default\n",
       "0               id                   integer          NO  nextval('django_admin_log_id_seq'::regclass)\n",
       "1      action_time  timestamp with time zone          NO                                          None\n",
       "2        object_id                      text         YES                                          None\n",
       "3      object_repr         character varying          NO                                          None\n",
       "4      action_flag                  smallint          NO                                          None\n",
       "5   change_message                      text          NO                                          None\n",
       "6  content_type_id                   integer         YES                                          None\n",
       "7          user_id                   integer          NO                                          None"
      ]
     },
     "metadata": {},
     "output_type": "display_data"
    },
    {
     "data": {
      "text/markdown": [
       "\n",
       "##### Ограничения (PK, FK):"
      ],
      "text/plain": [
       "<IPython.core.display.Markdown object>"
      ]
     },
     "metadata": {},
     "output_type": "display_data"
    },
    {
     "name": "stderr",
     "output_type": "stream",
     "text": [
      "/tmp/ipykernel_450849/82215137.py:79: UserWarning: pandas only supports SQLAlchemy connectable (engine/connection) or database string URI or sqlite3 DBAPI2 connection. Other DBAPI2 objects are not tested. Please consider using SQLAlchemy.\n",
      "  df = pd.read_sql_query(query, conn)\n"
     ]
    },
    {
     "data": {
      "text/html": [
       "<div>\n",
       "<style scoped>\n",
       "    .dataframe tbody tr th:only-of-type {\n",
       "        vertical-align: middle;\n",
       "    }\n",
       "\n",
       "    .dataframe tbody tr th {\n",
       "        vertical-align: top;\n",
       "    }\n",
       "\n",
       "    .dataframe thead th {\n",
       "        text-align: right;\n",
       "    }\n",
       "</style>\n",
       "<table border=\"1\" class=\"dataframe\">\n",
       "  <thead>\n",
       "    <tr style=\"text-align: right;\">\n",
       "      <th></th>\n",
       "      <th>constraint_name</th>\n",
       "      <th>constraint_type</th>\n",
       "      <th>column_name</th>\n",
       "      <th>foreign_table_name</th>\n",
       "      <th>foreign_column_name</th>\n",
       "    </tr>\n",
       "  </thead>\n",
       "  <tbody>\n",
       "    <tr>\n",
       "      <th>0</th>\n",
       "      <td>django_admin_log_content_type_id_c4bce8eb_fk_d...</td>\n",
       "      <td>FOREIGN KEY</td>\n",
       "      <td>content_type_id</td>\n",
       "      <td>django_content_type</td>\n",
       "      <td>id</td>\n",
       "    </tr>\n",
       "    <tr>\n",
       "      <th>1</th>\n",
       "      <td>django_admin_log_user_id_c564eba6_fk_auth_user_id</td>\n",
       "      <td>FOREIGN KEY</td>\n",
       "      <td>user_id</td>\n",
       "      <td>auth_user</td>\n",
       "      <td>id</td>\n",
       "    </tr>\n",
       "    <tr>\n",
       "      <th>2</th>\n",
       "      <td>django_admin_log_pkey</td>\n",
       "      <td>PRIMARY KEY</td>\n",
       "      <td>id</td>\n",
       "      <td>django_admin_log</td>\n",
       "      <td>id</td>\n",
       "    </tr>\n",
       "  </tbody>\n",
       "</table>\n",
       "</div>"
      ],
      "text/plain": [
       "                                     constraint_name constraint_type      column_name   foreign_table_name foreign_column_name\n",
       "0  django_admin_log_content_type_id_c4bce8eb_fk_d...     FOREIGN KEY  content_type_id  django_content_type                  id\n",
       "1  django_admin_log_user_id_c564eba6_fk_auth_user_id     FOREIGN KEY          user_id            auth_user                  id\n",
       "2                              django_admin_log_pkey     PRIMARY KEY               id     django_admin_log                  id"
      ]
     },
     "metadata": {},
     "output_type": "display_data"
    },
    {
     "data": {
      "text/markdown": [
       "\n",
       "#### Таблица: `django_celery_beat_clockedschedule`"
      ],
      "text/plain": [
       "<IPython.core.display.Markdown object>"
      ]
     },
     "metadata": {},
     "output_type": "display_data"
    },
    {
     "data": {
      "text/markdown": [
       "\n",
       "##### Схема:"
      ],
      "text/plain": [
       "<IPython.core.display.Markdown object>"
      ]
     },
     "metadata": {},
     "output_type": "display_data"
    },
    {
     "name": "stderr",
     "output_type": "stream",
     "text": [
      "/tmp/ipykernel_450849/82215137.py:49: UserWarning: pandas only supports SQLAlchemy connectable (engine/connection) or database string URI or sqlite3 DBAPI2 connection. Other DBAPI2 objects are not tested. Please consider using SQLAlchemy.\n",
      "  df = pd.read_sql_query(query, conn)\n"
     ]
    },
    {
     "data": {
      "text/html": [
       "<div>\n",
       "<style scoped>\n",
       "    .dataframe tbody tr th:only-of-type {\n",
       "        vertical-align: middle;\n",
       "    }\n",
       "\n",
       "    .dataframe tbody tr th {\n",
       "        vertical-align: top;\n",
       "    }\n",
       "\n",
       "    .dataframe thead th {\n",
       "        text-align: right;\n",
       "    }\n",
       "</style>\n",
       "<table border=\"1\" class=\"dataframe\">\n",
       "  <thead>\n",
       "    <tr style=\"text-align: right;\">\n",
       "      <th></th>\n",
       "      <th>column_name</th>\n",
       "      <th>data_type</th>\n",
       "      <th>is_nullable</th>\n",
       "      <th>column_default</th>\n",
       "    </tr>\n",
       "  </thead>\n",
       "  <tbody>\n",
       "    <tr>\n",
       "      <th>0</th>\n",
       "      <td>id</td>\n",
       "      <td>integer</td>\n",
       "      <td>NO</td>\n",
       "      <td>nextval('django_celery_beat_clockedschedule_id...</td>\n",
       "    </tr>\n",
       "    <tr>\n",
       "      <th>1</th>\n",
       "      <td>clocked_time</td>\n",
       "      <td>timestamp with time zone</td>\n",
       "      <td>NO</td>\n",
       "      <td>None</td>\n",
       "    </tr>\n",
       "  </tbody>\n",
       "</table>\n",
       "</div>"
      ],
      "text/plain": [
       "    column_name                 data_type is_nullable                                     column_default\n",
       "0            id                   integer          NO  nextval('django_celery_beat_clockedschedule_id...\n",
       "1  clocked_time  timestamp with time zone          NO                                               None"
      ]
     },
     "metadata": {},
     "output_type": "display_data"
    },
    {
     "data": {
      "text/markdown": [
       "\n",
       "##### Ограничения (PK, FK):"
      ],
      "text/plain": [
       "<IPython.core.display.Markdown object>"
      ]
     },
     "metadata": {},
     "output_type": "display_data"
    },
    {
     "name": "stderr",
     "output_type": "stream",
     "text": [
      "/tmp/ipykernel_450849/82215137.py:79: UserWarning: pandas only supports SQLAlchemy connectable (engine/connection) or database string URI or sqlite3 DBAPI2 connection. Other DBAPI2 objects are not tested. Please consider using SQLAlchemy.\n",
      "  df = pd.read_sql_query(query, conn)\n"
     ]
    },
    {
     "data": {
      "text/html": [
       "<div>\n",
       "<style scoped>\n",
       "    .dataframe tbody tr th:only-of-type {\n",
       "        vertical-align: middle;\n",
       "    }\n",
       "\n",
       "    .dataframe tbody tr th {\n",
       "        vertical-align: top;\n",
       "    }\n",
       "\n",
       "    .dataframe thead th {\n",
       "        text-align: right;\n",
       "    }\n",
       "</style>\n",
       "<table border=\"1\" class=\"dataframe\">\n",
       "  <thead>\n",
       "    <tr style=\"text-align: right;\">\n",
       "      <th></th>\n",
       "      <th>constraint_name</th>\n",
       "      <th>constraint_type</th>\n",
       "      <th>column_name</th>\n",
       "      <th>foreign_table_name</th>\n",
       "      <th>foreign_column_name</th>\n",
       "    </tr>\n",
       "  </thead>\n",
       "  <tbody>\n",
       "    <tr>\n",
       "      <th>0</th>\n",
       "      <td>django_celery_beat_clockedschedule_pkey</td>\n",
       "      <td>PRIMARY KEY</td>\n",
       "      <td>id</td>\n",
       "      <td>django_celery_beat_clockedschedule</td>\n",
       "      <td>id</td>\n",
       "    </tr>\n",
       "  </tbody>\n",
       "</table>\n",
       "</div>"
      ],
      "text/plain": [
       "                           constraint_name constraint_type column_name                  foreign_table_name foreign_column_name\n",
       "0  django_celery_beat_clockedschedule_pkey     PRIMARY KEY          id  django_celery_beat_clockedschedule                  id"
      ]
     },
     "metadata": {},
     "output_type": "display_data"
    },
    {
     "data": {
      "text/markdown": [
       "\n",
       "#### Таблица: `django_celery_beat_crontabschedule`"
      ],
      "text/plain": [
       "<IPython.core.display.Markdown object>"
      ]
     },
     "metadata": {},
     "output_type": "display_data"
    },
    {
     "data": {
      "text/markdown": [
       "\n",
       "##### Схема:"
      ],
      "text/plain": [
       "<IPython.core.display.Markdown object>"
      ]
     },
     "metadata": {},
     "output_type": "display_data"
    },
    {
     "name": "stderr",
     "output_type": "stream",
     "text": [
      "/tmp/ipykernel_450849/82215137.py:49: UserWarning: pandas only supports SQLAlchemy connectable (engine/connection) or database string URI or sqlite3 DBAPI2 connection. Other DBAPI2 objects are not tested. Please consider using SQLAlchemy.\n",
      "  df = pd.read_sql_query(query, conn)\n"
     ]
    },
    {
     "data": {
      "text/html": [
       "<div>\n",
       "<style scoped>\n",
       "    .dataframe tbody tr th:only-of-type {\n",
       "        vertical-align: middle;\n",
       "    }\n",
       "\n",
       "    .dataframe tbody tr th {\n",
       "        vertical-align: top;\n",
       "    }\n",
       "\n",
       "    .dataframe thead th {\n",
       "        text-align: right;\n",
       "    }\n",
       "</style>\n",
       "<table border=\"1\" class=\"dataframe\">\n",
       "  <thead>\n",
       "    <tr style=\"text-align: right;\">\n",
       "      <th></th>\n",
       "      <th>column_name</th>\n",
       "      <th>data_type</th>\n",
       "      <th>is_nullable</th>\n",
       "      <th>column_default</th>\n",
       "    </tr>\n",
       "  </thead>\n",
       "  <tbody>\n",
       "    <tr>\n",
       "      <th>0</th>\n",
       "      <td>id</td>\n",
       "      <td>integer</td>\n",
       "      <td>NO</td>\n",
       "      <td>nextval('django_celery_beat_crontabschedule_id...</td>\n",
       "    </tr>\n",
       "    <tr>\n",
       "      <th>1</th>\n",
       "      <td>minute</td>\n",
       "      <td>character varying</td>\n",
       "      <td>NO</td>\n",
       "      <td>None</td>\n",
       "    </tr>\n",
       "    <tr>\n",
       "      <th>2</th>\n",
       "      <td>hour</td>\n",
       "      <td>character varying</td>\n",
       "      <td>NO</td>\n",
       "      <td>None</td>\n",
       "    </tr>\n",
       "    <tr>\n",
       "      <th>3</th>\n",
       "      <td>day_of_week</td>\n",
       "      <td>character varying</td>\n",
       "      <td>NO</td>\n",
       "      <td>None</td>\n",
       "    </tr>\n",
       "    <tr>\n",
       "      <th>4</th>\n",
       "      <td>day_of_month</td>\n",
       "      <td>character varying</td>\n",
       "      <td>NO</td>\n",
       "      <td>None</td>\n",
       "    </tr>\n",
       "    <tr>\n",
       "      <th>5</th>\n",
       "      <td>month_of_year</td>\n",
       "      <td>character varying</td>\n",
       "      <td>NO</td>\n",
       "      <td>None</td>\n",
       "    </tr>\n",
       "    <tr>\n",
       "      <th>6</th>\n",
       "      <td>timezone</td>\n",
       "      <td>character varying</td>\n",
       "      <td>NO</td>\n",
       "      <td>None</td>\n",
       "    </tr>\n",
       "  </tbody>\n",
       "</table>\n",
       "</div>"
      ],
      "text/plain": [
       "     column_name          data_type is_nullable                                     column_default\n",
       "0             id            integer          NO  nextval('django_celery_beat_crontabschedule_id...\n",
       "1         minute  character varying          NO                                               None\n",
       "2           hour  character varying          NO                                               None\n",
       "3    day_of_week  character varying          NO                                               None\n",
       "4   day_of_month  character varying          NO                                               None\n",
       "5  month_of_year  character varying          NO                                               None\n",
       "6       timezone  character varying          NO                                               None"
      ]
     },
     "metadata": {},
     "output_type": "display_data"
    },
    {
     "data": {
      "text/markdown": [
       "\n",
       "##### Ограничения (PK, FK):"
      ],
      "text/plain": [
       "<IPython.core.display.Markdown object>"
      ]
     },
     "metadata": {},
     "output_type": "display_data"
    },
    {
     "name": "stderr",
     "output_type": "stream",
     "text": [
      "/tmp/ipykernel_450849/82215137.py:79: UserWarning: pandas only supports SQLAlchemy connectable (engine/connection) or database string URI or sqlite3 DBAPI2 connection. Other DBAPI2 objects are not tested. Please consider using SQLAlchemy.\n",
      "  df = pd.read_sql_query(query, conn)\n"
     ]
    },
    {
     "data": {
      "text/html": [
       "<div>\n",
       "<style scoped>\n",
       "    .dataframe tbody tr th:only-of-type {\n",
       "        vertical-align: middle;\n",
       "    }\n",
       "\n",
       "    .dataframe tbody tr th {\n",
       "        vertical-align: top;\n",
       "    }\n",
       "\n",
       "    .dataframe thead th {\n",
       "        text-align: right;\n",
       "    }\n",
       "</style>\n",
       "<table border=\"1\" class=\"dataframe\">\n",
       "  <thead>\n",
       "    <tr style=\"text-align: right;\">\n",
       "      <th></th>\n",
       "      <th>constraint_name</th>\n",
       "      <th>constraint_type</th>\n",
       "      <th>column_name</th>\n",
       "      <th>foreign_table_name</th>\n",
       "      <th>foreign_column_name</th>\n",
       "    </tr>\n",
       "  </thead>\n",
       "  <tbody>\n",
       "    <tr>\n",
       "      <th>0</th>\n",
       "      <td>django_celery_beat_crontabschedule_pkey</td>\n",
       "      <td>PRIMARY KEY</td>\n",
       "      <td>id</td>\n",
       "      <td>django_celery_beat_crontabschedule</td>\n",
       "      <td>id</td>\n",
       "    </tr>\n",
       "  </tbody>\n",
       "</table>\n",
       "</div>"
      ],
      "text/plain": [
       "                           constraint_name constraint_type column_name                  foreign_table_name foreign_column_name\n",
       "0  django_celery_beat_crontabschedule_pkey     PRIMARY KEY          id  django_celery_beat_crontabschedule                  id"
      ]
     },
     "metadata": {},
     "output_type": "display_data"
    },
    {
     "data": {
      "text/markdown": [
       "\n",
       "#### Таблица: `django_celery_beat_intervalschedule`"
      ],
      "text/plain": [
       "<IPython.core.display.Markdown object>"
      ]
     },
     "metadata": {},
     "output_type": "display_data"
    },
    {
     "data": {
      "text/markdown": [
       "\n",
       "##### Схема:"
      ],
      "text/plain": [
       "<IPython.core.display.Markdown object>"
      ]
     },
     "metadata": {},
     "output_type": "display_data"
    },
    {
     "name": "stderr",
     "output_type": "stream",
     "text": [
      "/tmp/ipykernel_450849/82215137.py:49: UserWarning: pandas only supports SQLAlchemy connectable (engine/connection) or database string URI or sqlite3 DBAPI2 connection. Other DBAPI2 objects are not tested. Please consider using SQLAlchemy.\n",
      "  df = pd.read_sql_query(query, conn)\n"
     ]
    },
    {
     "data": {
      "text/html": [
       "<div>\n",
       "<style scoped>\n",
       "    .dataframe tbody tr th:only-of-type {\n",
       "        vertical-align: middle;\n",
       "    }\n",
       "\n",
       "    .dataframe tbody tr th {\n",
       "        vertical-align: top;\n",
       "    }\n",
       "\n",
       "    .dataframe thead th {\n",
       "        text-align: right;\n",
       "    }\n",
       "</style>\n",
       "<table border=\"1\" class=\"dataframe\">\n",
       "  <thead>\n",
       "    <tr style=\"text-align: right;\">\n",
       "      <th></th>\n",
       "      <th>column_name</th>\n",
       "      <th>data_type</th>\n",
       "      <th>is_nullable</th>\n",
       "      <th>column_default</th>\n",
       "    </tr>\n",
       "  </thead>\n",
       "  <tbody>\n",
       "    <tr>\n",
       "      <th>0</th>\n",
       "      <td>id</td>\n",
       "      <td>integer</td>\n",
       "      <td>NO</td>\n",
       "      <td>nextval('django_celery_beat_intervalschedule_i...</td>\n",
       "    </tr>\n",
       "    <tr>\n",
       "      <th>1</th>\n",
       "      <td>every</td>\n",
       "      <td>integer</td>\n",
       "      <td>NO</td>\n",
       "      <td>None</td>\n",
       "    </tr>\n",
       "    <tr>\n",
       "      <th>2</th>\n",
       "      <td>period</td>\n",
       "      <td>character varying</td>\n",
       "      <td>NO</td>\n",
       "      <td>None</td>\n",
       "    </tr>\n",
       "  </tbody>\n",
       "</table>\n",
       "</div>"
      ],
      "text/plain": [
       "  column_name          data_type is_nullable                                     column_default\n",
       "0          id            integer          NO  nextval('django_celery_beat_intervalschedule_i...\n",
       "1       every            integer          NO                                               None\n",
       "2      period  character varying          NO                                               None"
      ]
     },
     "metadata": {},
     "output_type": "display_data"
    },
    {
     "data": {
      "text/markdown": [
       "\n",
       "##### Ограничения (PK, FK):"
      ],
      "text/plain": [
       "<IPython.core.display.Markdown object>"
      ]
     },
     "metadata": {},
     "output_type": "display_data"
    },
    {
     "name": "stderr",
     "output_type": "stream",
     "text": [
      "/tmp/ipykernel_450849/82215137.py:79: UserWarning: pandas only supports SQLAlchemy connectable (engine/connection) or database string URI or sqlite3 DBAPI2 connection. Other DBAPI2 objects are not tested. Please consider using SQLAlchemy.\n",
      "  df = pd.read_sql_query(query, conn)\n"
     ]
    },
    {
     "data": {
      "text/html": [
       "<div>\n",
       "<style scoped>\n",
       "    .dataframe tbody tr th:only-of-type {\n",
       "        vertical-align: middle;\n",
       "    }\n",
       "\n",
       "    .dataframe tbody tr th {\n",
       "        vertical-align: top;\n",
       "    }\n",
       "\n",
       "    .dataframe thead th {\n",
       "        text-align: right;\n",
       "    }\n",
       "</style>\n",
       "<table border=\"1\" class=\"dataframe\">\n",
       "  <thead>\n",
       "    <tr style=\"text-align: right;\">\n",
       "      <th></th>\n",
       "      <th>constraint_name</th>\n",
       "      <th>constraint_type</th>\n",
       "      <th>column_name</th>\n",
       "      <th>foreign_table_name</th>\n",
       "      <th>foreign_column_name</th>\n",
       "    </tr>\n",
       "  </thead>\n",
       "  <tbody>\n",
       "    <tr>\n",
       "      <th>0</th>\n",
       "      <td>django_celery_beat_intervalschedule_pkey</td>\n",
       "      <td>PRIMARY KEY</td>\n",
       "      <td>id</td>\n",
       "      <td>django_celery_beat_intervalschedule</td>\n",
       "      <td>id</td>\n",
       "    </tr>\n",
       "  </tbody>\n",
       "</table>\n",
       "</div>"
      ],
      "text/plain": [
       "                            constraint_name constraint_type column_name                   foreign_table_name foreign_column_name\n",
       "0  django_celery_beat_intervalschedule_pkey     PRIMARY KEY          id  django_celery_beat_intervalschedule                  id"
      ]
     },
     "metadata": {},
     "output_type": "display_data"
    },
    {
     "data": {
      "text/markdown": [
       "\n",
       "#### Таблица: `django_celery_beat_periodictask`"
      ],
      "text/plain": [
       "<IPython.core.display.Markdown object>"
      ]
     },
     "metadata": {},
     "output_type": "display_data"
    },
    {
     "data": {
      "text/markdown": [
       "\n",
       "##### Схема:"
      ],
      "text/plain": [
       "<IPython.core.display.Markdown object>"
      ]
     },
     "metadata": {},
     "output_type": "display_data"
    },
    {
     "name": "stderr",
     "output_type": "stream",
     "text": [
      "/tmp/ipykernel_450849/82215137.py:49: UserWarning: pandas only supports SQLAlchemy connectable (engine/connection) or database string URI or sqlite3 DBAPI2 connection. Other DBAPI2 objects are not tested. Please consider using SQLAlchemy.\n",
      "  df = pd.read_sql_query(query, conn)\n"
     ]
    },
    {
     "data": {
      "text/html": [
       "<div>\n",
       "<style scoped>\n",
       "    .dataframe tbody tr th:only-of-type {\n",
       "        vertical-align: middle;\n",
       "    }\n",
       "\n",
       "    .dataframe tbody tr th {\n",
       "        vertical-align: top;\n",
       "    }\n",
       "\n",
       "    .dataframe thead th {\n",
       "        text-align: right;\n",
       "    }\n",
       "</style>\n",
       "<table border=\"1\" class=\"dataframe\">\n",
       "  <thead>\n",
       "    <tr style=\"text-align: right;\">\n",
       "      <th></th>\n",
       "      <th>column_name</th>\n",
       "      <th>data_type</th>\n",
       "      <th>is_nullable</th>\n",
       "      <th>column_default</th>\n",
       "    </tr>\n",
       "  </thead>\n",
       "  <tbody>\n",
       "    <tr>\n",
       "      <th>0</th>\n",
       "      <td>id</td>\n",
       "      <td>integer</td>\n",
       "      <td>NO</td>\n",
       "      <td>nextval('django_celery_beat_periodictask_id_se...</td>\n",
       "    </tr>\n",
       "    <tr>\n",
       "      <th>1</th>\n",
       "      <td>name</td>\n",
       "      <td>character varying</td>\n",
       "      <td>NO</td>\n",
       "      <td>None</td>\n",
       "    </tr>\n",
       "    <tr>\n",
       "      <th>2</th>\n",
       "      <td>task</td>\n",
       "      <td>character varying</td>\n",
       "      <td>NO</td>\n",
       "      <td>None</td>\n",
       "    </tr>\n",
       "    <tr>\n",
       "      <th>3</th>\n",
       "      <td>args</td>\n",
       "      <td>text</td>\n",
       "      <td>NO</td>\n",
       "      <td>None</td>\n",
       "    </tr>\n",
       "    <tr>\n",
       "      <th>4</th>\n",
       "      <td>kwargs</td>\n",
       "      <td>text</td>\n",
       "      <td>NO</td>\n",
       "      <td>None</td>\n",
       "    </tr>\n",
       "    <tr>\n",
       "      <th>5</th>\n",
       "      <td>queue</td>\n",
       "      <td>character varying</td>\n",
       "      <td>YES</td>\n",
       "      <td>None</td>\n",
       "    </tr>\n",
       "    <tr>\n",
       "      <th>6</th>\n",
       "      <td>exchange</td>\n",
       "      <td>character varying</td>\n",
       "      <td>YES</td>\n",
       "      <td>None</td>\n",
       "    </tr>\n",
       "    <tr>\n",
       "      <th>7</th>\n",
       "      <td>routing_key</td>\n",
       "      <td>character varying</td>\n",
       "      <td>YES</td>\n",
       "      <td>None</td>\n",
       "    </tr>\n",
       "    <tr>\n",
       "      <th>8</th>\n",
       "      <td>expires</td>\n",
       "      <td>timestamp with time zone</td>\n",
       "      <td>YES</td>\n",
       "      <td>None</td>\n",
       "    </tr>\n",
       "    <tr>\n",
       "      <th>9</th>\n",
       "      <td>enabled</td>\n",
       "      <td>boolean</td>\n",
       "      <td>NO</td>\n",
       "      <td>None</td>\n",
       "    </tr>\n",
       "    <tr>\n",
       "      <th>10</th>\n",
       "      <td>last_run_at</td>\n",
       "      <td>timestamp with time zone</td>\n",
       "      <td>YES</td>\n",
       "      <td>None</td>\n",
       "    </tr>\n",
       "    <tr>\n",
       "      <th>11</th>\n",
       "      <td>total_run_count</td>\n",
       "      <td>integer</td>\n",
       "      <td>NO</td>\n",
       "      <td>None</td>\n",
       "    </tr>\n",
       "    <tr>\n",
       "      <th>12</th>\n",
       "      <td>date_changed</td>\n",
       "      <td>timestamp with time zone</td>\n",
       "      <td>NO</td>\n",
       "      <td>None</td>\n",
       "    </tr>\n",
       "    <tr>\n",
       "      <th>13</th>\n",
       "      <td>description</td>\n",
       "      <td>text</td>\n",
       "      <td>NO</td>\n",
       "      <td>None</td>\n",
       "    </tr>\n",
       "    <tr>\n",
       "      <th>14</th>\n",
       "      <td>crontab_id</td>\n",
       "      <td>integer</td>\n",
       "      <td>YES</td>\n",
       "      <td>None</td>\n",
       "    </tr>\n",
       "    <tr>\n",
       "      <th>15</th>\n",
       "      <td>interval_id</td>\n",
       "      <td>integer</td>\n",
       "      <td>YES</td>\n",
       "      <td>None</td>\n",
       "    </tr>\n",
       "    <tr>\n",
       "      <th>16</th>\n",
       "      <td>solar_id</td>\n",
       "      <td>integer</td>\n",
       "      <td>YES</td>\n",
       "      <td>None</td>\n",
       "    </tr>\n",
       "    <tr>\n",
       "      <th>17</th>\n",
       "      <td>one_off</td>\n",
       "      <td>boolean</td>\n",
       "      <td>NO</td>\n",
       "      <td>None</td>\n",
       "    </tr>\n",
       "    <tr>\n",
       "      <th>18</th>\n",
       "      <td>start_time</td>\n",
       "      <td>timestamp with time zone</td>\n",
       "      <td>YES</td>\n",
       "      <td>None</td>\n",
       "    </tr>\n",
       "    <tr>\n",
       "      <th>19</th>\n",
       "      <td>priority</td>\n",
       "      <td>integer</td>\n",
       "      <td>YES</td>\n",
       "      <td>None</td>\n",
       "    </tr>\n",
       "    <tr>\n",
       "      <th>20</th>\n",
       "      <td>headers</td>\n",
       "      <td>text</td>\n",
       "      <td>NO</td>\n",
       "      <td>None</td>\n",
       "    </tr>\n",
       "    <tr>\n",
       "      <th>21</th>\n",
       "      <td>clocked_id</td>\n",
       "      <td>integer</td>\n",
       "      <td>YES</td>\n",
       "      <td>None</td>\n",
       "    </tr>\n",
       "    <tr>\n",
       "      <th>22</th>\n",
       "      <td>expire_seconds</td>\n",
       "      <td>integer</td>\n",
       "      <td>YES</td>\n",
       "      <td>None</td>\n",
       "    </tr>\n",
       "  </tbody>\n",
       "</table>\n",
       "</div>"
      ],
      "text/plain": [
       "        column_name                 data_type is_nullable                                     column_default\n",
       "0                id                   integer          NO  nextval('django_celery_beat_periodictask_id_se...\n",
       "1              name         character varying          NO                                               None\n",
       "2              task         character varying          NO                                               None\n",
       "3              args                      text          NO                                               None\n",
       "4            kwargs                      text          NO                                               None\n",
       "5             queue         character varying         YES                                               None\n",
       "6          exchange         character varying         YES                                               None\n",
       "7       routing_key         character varying         YES                                               None\n",
       "8           expires  timestamp with time zone         YES                                               None\n",
       "9           enabled                   boolean          NO                                               None\n",
       "10      last_run_at  timestamp with time zone         YES                                               None\n",
       "11  total_run_count                   integer          NO                                               None\n",
       "12     date_changed  timestamp with time zone          NO                                               None\n",
       "13      description                      text          NO                                               None\n",
       "14       crontab_id                   integer         YES                                               None\n",
       "15      interval_id                   integer         YES                                               None\n",
       "16         solar_id                   integer         YES                                               None\n",
       "17          one_off                   boolean          NO                                               None\n",
       "18       start_time  timestamp with time zone         YES                                               None\n",
       "19         priority                   integer         YES                                               None\n",
       "20          headers                      text          NO                                               None\n",
       "21       clocked_id                   integer         YES                                               None\n",
       "22   expire_seconds                   integer         YES                                               None"
      ]
     },
     "metadata": {},
     "output_type": "display_data"
    },
    {
     "data": {
      "text/markdown": [
       "\n",
       "##### Ограничения (PK, FK):"
      ],
      "text/plain": [
       "<IPython.core.display.Markdown object>"
      ]
     },
     "metadata": {},
     "output_type": "display_data"
    },
    {
     "name": "stderr",
     "output_type": "stream",
     "text": [
      "/tmp/ipykernel_450849/82215137.py:79: UserWarning: pandas only supports SQLAlchemy connectable (engine/connection) or database string URI or sqlite3 DBAPI2 connection. Other DBAPI2 objects are not tested. Please consider using SQLAlchemy.\n",
      "  df = pd.read_sql_query(query, conn)\n"
     ]
    },
    {
     "data": {
      "text/html": [
       "<div>\n",
       "<style scoped>\n",
       "    .dataframe tbody tr th:only-of-type {\n",
       "        vertical-align: middle;\n",
       "    }\n",
       "\n",
       "    .dataframe tbody tr th {\n",
       "        vertical-align: top;\n",
       "    }\n",
       "\n",
       "    .dataframe thead th {\n",
       "        text-align: right;\n",
       "    }\n",
       "</style>\n",
       "<table border=\"1\" class=\"dataframe\">\n",
       "  <thead>\n",
       "    <tr style=\"text-align: right;\">\n",
       "      <th></th>\n",
       "      <th>constraint_name</th>\n",
       "      <th>constraint_type</th>\n",
       "      <th>column_name</th>\n",
       "      <th>foreign_table_name</th>\n",
       "      <th>foreign_column_name</th>\n",
       "    </tr>\n",
       "  </thead>\n",
       "  <tbody>\n",
       "    <tr>\n",
       "      <th>0</th>\n",
       "      <td>django_celery_beat_p_clocked_id_47a69f82_fk_dj...</td>\n",
       "      <td>FOREIGN KEY</td>\n",
       "      <td>clocked_id</td>\n",
       "      <td>django_celery_beat_clockedschedule</td>\n",
       "      <td>id</td>\n",
       "    </tr>\n",
       "    <tr>\n",
       "      <th>1</th>\n",
       "      <td>django_celery_beat_p_crontab_id_d3cba168_fk_dj...</td>\n",
       "      <td>FOREIGN KEY</td>\n",
       "      <td>crontab_id</td>\n",
       "      <td>django_celery_beat_crontabschedule</td>\n",
       "      <td>id</td>\n",
       "    </tr>\n",
       "    <tr>\n",
       "      <th>2</th>\n",
       "      <td>django_celery_beat_p_interval_id_a8ca27da_fk_d...</td>\n",
       "      <td>FOREIGN KEY</td>\n",
       "      <td>interval_id</td>\n",
       "      <td>django_celery_beat_intervalschedule</td>\n",
       "      <td>id</td>\n",
       "    </tr>\n",
       "    <tr>\n",
       "      <th>3</th>\n",
       "      <td>django_celery_beat_p_solar_id_a87ce72c_fk_djan...</td>\n",
       "      <td>FOREIGN KEY</td>\n",
       "      <td>solar_id</td>\n",
       "      <td>django_celery_beat_solarschedule</td>\n",
       "      <td>id</td>\n",
       "    </tr>\n",
       "    <tr>\n",
       "      <th>4</th>\n",
       "      <td>django_celery_beat_periodictask_pkey</td>\n",
       "      <td>PRIMARY KEY</td>\n",
       "      <td>id</td>\n",
       "      <td>django_celery_beat_periodictask</td>\n",
       "      <td>id</td>\n",
       "    </tr>\n",
       "    <tr>\n",
       "      <th>5</th>\n",
       "      <td>django_celery_beat_periodictask_name_key</td>\n",
       "      <td>UNIQUE</td>\n",
       "      <td>name</td>\n",
       "      <td>django_celery_beat_periodictask</td>\n",
       "      <td>name</td>\n",
       "    </tr>\n",
       "  </tbody>\n",
       "</table>\n",
       "</div>"
      ],
      "text/plain": [
       "                                     constraint_name constraint_type  column_name                   foreign_table_name foreign_column_name\n",
       "0  django_celery_beat_p_clocked_id_47a69f82_fk_dj...     FOREIGN KEY   clocked_id   django_celery_beat_clockedschedule                  id\n",
       "1  django_celery_beat_p_crontab_id_d3cba168_fk_dj...     FOREIGN KEY   crontab_id   django_celery_beat_crontabschedule                  id\n",
       "2  django_celery_beat_p_interval_id_a8ca27da_fk_d...     FOREIGN KEY  interval_id  django_celery_beat_intervalschedule                  id\n",
       "3  django_celery_beat_p_solar_id_a87ce72c_fk_djan...     FOREIGN KEY     solar_id     django_celery_beat_solarschedule                  id\n",
       "4               django_celery_beat_periodictask_pkey     PRIMARY KEY           id      django_celery_beat_periodictask                  id\n",
       "5           django_celery_beat_periodictask_name_key          UNIQUE         name      django_celery_beat_periodictask                name"
      ]
     },
     "metadata": {},
     "output_type": "display_data"
    },
    {
     "data": {
      "text/markdown": [
       "\n",
       "#### Таблица: `django_celery_beat_periodictasks`"
      ],
      "text/plain": [
       "<IPython.core.display.Markdown object>"
      ]
     },
     "metadata": {},
     "output_type": "display_data"
    },
    {
     "data": {
      "text/markdown": [
       "\n",
       "##### Схема:"
      ],
      "text/plain": [
       "<IPython.core.display.Markdown object>"
      ]
     },
     "metadata": {},
     "output_type": "display_data"
    },
    {
     "name": "stderr",
     "output_type": "stream",
     "text": [
      "/tmp/ipykernel_450849/82215137.py:49: UserWarning: pandas only supports SQLAlchemy connectable (engine/connection) or database string URI or sqlite3 DBAPI2 connection. Other DBAPI2 objects are not tested. Please consider using SQLAlchemy.\n",
      "  df = pd.read_sql_query(query, conn)\n"
     ]
    },
    {
     "data": {
      "text/html": [
       "<div>\n",
       "<style scoped>\n",
       "    .dataframe tbody tr th:only-of-type {\n",
       "        vertical-align: middle;\n",
       "    }\n",
       "\n",
       "    .dataframe tbody tr th {\n",
       "        vertical-align: top;\n",
       "    }\n",
       "\n",
       "    .dataframe thead th {\n",
       "        text-align: right;\n",
       "    }\n",
       "</style>\n",
       "<table border=\"1\" class=\"dataframe\">\n",
       "  <thead>\n",
       "    <tr style=\"text-align: right;\">\n",
       "      <th></th>\n",
       "      <th>column_name</th>\n",
       "      <th>data_type</th>\n",
       "      <th>is_nullable</th>\n",
       "      <th>column_default</th>\n",
       "    </tr>\n",
       "  </thead>\n",
       "  <tbody>\n",
       "    <tr>\n",
       "      <th>0</th>\n",
       "      <td>ident</td>\n",
       "      <td>smallint</td>\n",
       "      <td>NO</td>\n",
       "      <td>None</td>\n",
       "    </tr>\n",
       "    <tr>\n",
       "      <th>1</th>\n",
       "      <td>last_update</td>\n",
       "      <td>timestamp with time zone</td>\n",
       "      <td>NO</td>\n",
       "      <td>None</td>\n",
       "    </tr>\n",
       "  </tbody>\n",
       "</table>\n",
       "</div>"
      ],
      "text/plain": [
       "   column_name                 data_type is_nullable column_default\n",
       "0        ident                  smallint          NO           None\n",
       "1  last_update  timestamp with time zone          NO           None"
      ]
     },
     "metadata": {},
     "output_type": "display_data"
    },
    {
     "data": {
      "text/markdown": [
       "\n",
       "##### Ограничения (PK, FK):"
      ],
      "text/plain": [
       "<IPython.core.display.Markdown object>"
      ]
     },
     "metadata": {},
     "output_type": "display_data"
    },
    {
     "name": "stderr",
     "output_type": "stream",
     "text": [
      "/tmp/ipykernel_450849/82215137.py:79: UserWarning: pandas only supports SQLAlchemy connectable (engine/connection) or database string URI or sqlite3 DBAPI2 connection. Other DBAPI2 objects are not tested. Please consider using SQLAlchemy.\n",
      "  df = pd.read_sql_query(query, conn)\n"
     ]
    },
    {
     "data": {
      "text/html": [
       "<div>\n",
       "<style scoped>\n",
       "    .dataframe tbody tr th:only-of-type {\n",
       "        vertical-align: middle;\n",
       "    }\n",
       "\n",
       "    .dataframe tbody tr th {\n",
       "        vertical-align: top;\n",
       "    }\n",
       "\n",
       "    .dataframe thead th {\n",
       "        text-align: right;\n",
       "    }\n",
       "</style>\n",
       "<table border=\"1\" class=\"dataframe\">\n",
       "  <thead>\n",
       "    <tr style=\"text-align: right;\">\n",
       "      <th></th>\n",
       "      <th>constraint_name</th>\n",
       "      <th>constraint_type</th>\n",
       "      <th>column_name</th>\n",
       "      <th>foreign_table_name</th>\n",
       "      <th>foreign_column_name</th>\n",
       "    </tr>\n",
       "  </thead>\n",
       "  <tbody>\n",
       "    <tr>\n",
       "      <th>0</th>\n",
       "      <td>django_celery_beat_periodictasks_pkey</td>\n",
       "      <td>PRIMARY KEY</td>\n",
       "      <td>ident</td>\n",
       "      <td>django_celery_beat_periodictasks</td>\n",
       "      <td>ident</td>\n",
       "    </tr>\n",
       "  </tbody>\n",
       "</table>\n",
       "</div>"
      ],
      "text/plain": [
       "                         constraint_name constraint_type column_name                foreign_table_name foreign_column_name\n",
       "0  django_celery_beat_periodictasks_pkey     PRIMARY KEY       ident  django_celery_beat_periodictasks               ident"
      ]
     },
     "metadata": {},
     "output_type": "display_data"
    },
    {
     "data": {
      "text/markdown": [
       "\n",
       "#### Таблица: `django_celery_beat_solarschedule`"
      ],
      "text/plain": [
       "<IPython.core.display.Markdown object>"
      ]
     },
     "metadata": {},
     "output_type": "display_data"
    },
    {
     "data": {
      "text/markdown": [
       "\n",
       "##### Схема:"
      ],
      "text/plain": [
       "<IPython.core.display.Markdown object>"
      ]
     },
     "metadata": {},
     "output_type": "display_data"
    },
    {
     "name": "stderr",
     "output_type": "stream",
     "text": [
      "/tmp/ipykernel_450849/82215137.py:49: UserWarning: pandas only supports SQLAlchemy connectable (engine/connection) or database string URI or sqlite3 DBAPI2 connection. Other DBAPI2 objects are not tested. Please consider using SQLAlchemy.\n",
      "  df = pd.read_sql_query(query, conn)\n"
     ]
    },
    {
     "data": {
      "text/html": [
       "<div>\n",
       "<style scoped>\n",
       "    .dataframe tbody tr th:only-of-type {\n",
       "        vertical-align: middle;\n",
       "    }\n",
       "\n",
       "    .dataframe tbody tr th {\n",
       "        vertical-align: top;\n",
       "    }\n",
       "\n",
       "    .dataframe thead th {\n",
       "        text-align: right;\n",
       "    }\n",
       "</style>\n",
       "<table border=\"1\" class=\"dataframe\">\n",
       "  <thead>\n",
       "    <tr style=\"text-align: right;\">\n",
       "      <th></th>\n",
       "      <th>column_name</th>\n",
       "      <th>data_type</th>\n",
       "      <th>is_nullable</th>\n",
       "      <th>column_default</th>\n",
       "    </tr>\n",
       "  </thead>\n",
       "  <tbody>\n",
       "    <tr>\n",
       "      <th>0</th>\n",
       "      <td>id</td>\n",
       "      <td>integer</td>\n",
       "      <td>NO</td>\n",
       "      <td>nextval('django_celery_beat_solarschedule_id_s...</td>\n",
       "    </tr>\n",
       "    <tr>\n",
       "      <th>1</th>\n",
       "      <td>event</td>\n",
       "      <td>character varying</td>\n",
       "      <td>NO</td>\n",
       "      <td>None</td>\n",
       "    </tr>\n",
       "    <tr>\n",
       "      <th>2</th>\n",
       "      <td>latitude</td>\n",
       "      <td>numeric</td>\n",
       "      <td>NO</td>\n",
       "      <td>None</td>\n",
       "    </tr>\n",
       "    <tr>\n",
       "      <th>3</th>\n",
       "      <td>longitude</td>\n",
       "      <td>numeric</td>\n",
       "      <td>NO</td>\n",
       "      <td>None</td>\n",
       "    </tr>\n",
       "  </tbody>\n",
       "</table>\n",
       "</div>"
      ],
      "text/plain": [
       "  column_name          data_type is_nullable                                     column_default\n",
       "0          id            integer          NO  nextval('django_celery_beat_solarschedule_id_s...\n",
       "1       event  character varying          NO                                               None\n",
       "2    latitude            numeric          NO                                               None\n",
       "3   longitude            numeric          NO                                               None"
      ]
     },
     "metadata": {},
     "output_type": "display_data"
    },
    {
     "data": {
      "text/markdown": [
       "\n",
       "##### Ограничения (PK, FK):"
      ],
      "text/plain": [
       "<IPython.core.display.Markdown object>"
      ]
     },
     "metadata": {},
     "output_type": "display_data"
    },
    {
     "name": "stderr",
     "output_type": "stream",
     "text": [
      "/tmp/ipykernel_450849/82215137.py:79: UserWarning: pandas only supports SQLAlchemy connectable (engine/connection) or database string URI or sqlite3 DBAPI2 connection. Other DBAPI2 objects are not tested. Please consider using SQLAlchemy.\n",
      "  df = pd.read_sql_query(query, conn)\n"
     ]
    },
    {
     "data": {
      "text/html": [
       "<div>\n",
       "<style scoped>\n",
       "    .dataframe tbody tr th:only-of-type {\n",
       "        vertical-align: middle;\n",
       "    }\n",
       "\n",
       "    .dataframe tbody tr th {\n",
       "        vertical-align: top;\n",
       "    }\n",
       "\n",
       "    .dataframe thead th {\n",
       "        text-align: right;\n",
       "    }\n",
       "</style>\n",
       "<table border=\"1\" class=\"dataframe\">\n",
       "  <thead>\n",
       "    <tr style=\"text-align: right;\">\n",
       "      <th></th>\n",
       "      <th>constraint_name</th>\n",
       "      <th>constraint_type</th>\n",
       "      <th>column_name</th>\n",
       "      <th>foreign_table_name</th>\n",
       "      <th>foreign_column_name</th>\n",
       "    </tr>\n",
       "  </thead>\n",
       "  <tbody>\n",
       "    <tr>\n",
       "      <th>0</th>\n",
       "      <td>django_celery_beat_solarschedule_pkey</td>\n",
       "      <td>PRIMARY KEY</td>\n",
       "      <td>id</td>\n",
       "      <td>django_celery_beat_solarschedule</td>\n",
       "      <td>id</td>\n",
       "    </tr>\n",
       "    <tr>\n",
       "      <th>1</th>\n",
       "      <td>django_celery_beat_solar_event_latitude_longit...</td>\n",
       "      <td>UNIQUE</td>\n",
       "      <td>event</td>\n",
       "      <td>django_celery_beat_solarschedule</td>\n",
       "      <td>latitude</td>\n",
       "    </tr>\n",
       "    <tr>\n",
       "      <th>2</th>\n",
       "      <td>django_celery_beat_solar_event_latitude_longit...</td>\n",
       "      <td>UNIQUE</td>\n",
       "      <td>event</td>\n",
       "      <td>django_celery_beat_solarschedule</td>\n",
       "      <td>longitude</td>\n",
       "    </tr>\n",
       "    <tr>\n",
       "      <th>3</th>\n",
       "      <td>django_celery_beat_solar_event_latitude_longit...</td>\n",
       "      <td>UNIQUE</td>\n",
       "      <td>event</td>\n",
       "      <td>django_celery_beat_solarschedule</td>\n",
       "      <td>event</td>\n",
       "    </tr>\n",
       "    <tr>\n",
       "      <th>4</th>\n",
       "      <td>django_celery_beat_solar_event_latitude_longit...</td>\n",
       "      <td>UNIQUE</td>\n",
       "      <td>latitude</td>\n",
       "      <td>django_celery_beat_solarschedule</td>\n",
       "      <td>latitude</td>\n",
       "    </tr>\n",
       "    <tr>\n",
       "      <th>5</th>\n",
       "      <td>django_celery_beat_solar_event_latitude_longit...</td>\n",
       "      <td>UNIQUE</td>\n",
       "      <td>latitude</td>\n",
       "      <td>django_celery_beat_solarschedule</td>\n",
       "      <td>longitude</td>\n",
       "    </tr>\n",
       "    <tr>\n",
       "      <th>6</th>\n",
       "      <td>django_celery_beat_solar_event_latitude_longit...</td>\n",
       "      <td>UNIQUE</td>\n",
       "      <td>latitude</td>\n",
       "      <td>django_celery_beat_solarschedule</td>\n",
       "      <td>event</td>\n",
       "    </tr>\n",
       "    <tr>\n",
       "      <th>7</th>\n",
       "      <td>django_celery_beat_solar_event_latitude_longit...</td>\n",
       "      <td>UNIQUE</td>\n",
       "      <td>longitude</td>\n",
       "      <td>django_celery_beat_solarschedule</td>\n",
       "      <td>event</td>\n",
       "    </tr>\n",
       "    <tr>\n",
       "      <th>8</th>\n",
       "      <td>django_celery_beat_solar_event_latitude_longit...</td>\n",
       "      <td>UNIQUE</td>\n",
       "      <td>longitude</td>\n",
       "      <td>django_celery_beat_solarschedule</td>\n",
       "      <td>latitude</td>\n",
       "    </tr>\n",
       "    <tr>\n",
       "      <th>9</th>\n",
       "      <td>django_celery_beat_solar_event_latitude_longit...</td>\n",
       "      <td>UNIQUE</td>\n",
       "      <td>longitude</td>\n",
       "      <td>django_celery_beat_solarschedule</td>\n",
       "      <td>longitude</td>\n",
       "    </tr>\n",
       "  </tbody>\n",
       "</table>\n",
       "</div>"
      ],
      "text/plain": [
       "                                     constraint_name constraint_type column_name                foreign_table_name foreign_column_name\n",
       "0              django_celery_beat_solarschedule_pkey     PRIMARY KEY          id  django_celery_beat_solarschedule                  id\n",
       "1  django_celery_beat_solar_event_latitude_longit...          UNIQUE       event  django_celery_beat_solarschedule            latitude\n",
       "2  django_celery_beat_solar_event_latitude_longit...          UNIQUE       event  django_celery_beat_solarschedule           longitude\n",
       "3  django_celery_beat_solar_event_latitude_longit...          UNIQUE       event  django_celery_beat_solarschedule               event\n",
       "4  django_celery_beat_solar_event_latitude_longit...          UNIQUE    latitude  django_celery_beat_solarschedule            latitude\n",
       "5  django_celery_beat_solar_event_latitude_longit...          UNIQUE    latitude  django_celery_beat_solarschedule           longitude\n",
       "6  django_celery_beat_solar_event_latitude_longit...          UNIQUE    latitude  django_celery_beat_solarschedule               event\n",
       "7  django_celery_beat_solar_event_latitude_longit...          UNIQUE   longitude  django_celery_beat_solarschedule               event\n",
       "8  django_celery_beat_solar_event_latitude_longit...          UNIQUE   longitude  django_celery_beat_solarschedule            latitude\n",
       "9  django_celery_beat_solar_event_latitude_longit...          UNIQUE   longitude  django_celery_beat_solarschedule           longitude"
      ]
     },
     "metadata": {},
     "output_type": "display_data"
    },
    {
     "data": {
      "text/markdown": [
       "\n",
       "#### Таблица: `django_content_type`"
      ],
      "text/plain": [
       "<IPython.core.display.Markdown object>"
      ]
     },
     "metadata": {},
     "output_type": "display_data"
    },
    {
     "data": {
      "text/markdown": [
       "\n",
       "##### Схема:"
      ],
      "text/plain": [
       "<IPython.core.display.Markdown object>"
      ]
     },
     "metadata": {},
     "output_type": "display_data"
    },
    {
     "name": "stderr",
     "output_type": "stream",
     "text": [
      "/tmp/ipykernel_450849/82215137.py:49: UserWarning: pandas only supports SQLAlchemy connectable (engine/connection) or database string URI or sqlite3 DBAPI2 connection. Other DBAPI2 objects are not tested. Please consider using SQLAlchemy.\n",
      "  df = pd.read_sql_query(query, conn)\n"
     ]
    },
    {
     "data": {
      "text/html": [
       "<div>\n",
       "<style scoped>\n",
       "    .dataframe tbody tr th:only-of-type {\n",
       "        vertical-align: middle;\n",
       "    }\n",
       "\n",
       "    .dataframe tbody tr th {\n",
       "        vertical-align: top;\n",
       "    }\n",
       "\n",
       "    .dataframe thead th {\n",
       "        text-align: right;\n",
       "    }\n",
       "</style>\n",
       "<table border=\"1\" class=\"dataframe\">\n",
       "  <thead>\n",
       "    <tr style=\"text-align: right;\">\n",
       "      <th></th>\n",
       "      <th>column_name</th>\n",
       "      <th>data_type</th>\n",
       "      <th>is_nullable</th>\n",
       "      <th>column_default</th>\n",
       "    </tr>\n",
       "  </thead>\n",
       "  <tbody>\n",
       "    <tr>\n",
       "      <th>0</th>\n",
       "      <td>id</td>\n",
       "      <td>integer</td>\n",
       "      <td>NO</td>\n",
       "      <td>nextval('django_content_type_id_seq'::regclass)</td>\n",
       "    </tr>\n",
       "    <tr>\n",
       "      <th>1</th>\n",
       "      <td>app_label</td>\n",
       "      <td>character varying</td>\n",
       "      <td>NO</td>\n",
       "      <td>None</td>\n",
       "    </tr>\n",
       "    <tr>\n",
       "      <th>2</th>\n",
       "      <td>model</td>\n",
       "      <td>character varying</td>\n",
       "      <td>NO</td>\n",
       "      <td>None</td>\n",
       "    </tr>\n",
       "  </tbody>\n",
       "</table>\n",
       "</div>"
      ],
      "text/plain": [
       "  column_name          data_type is_nullable                                   column_default\n",
       "0          id            integer          NO  nextval('django_content_type_id_seq'::regclass)\n",
       "1   app_label  character varying          NO                                             None\n",
       "2       model  character varying          NO                                             None"
      ]
     },
     "metadata": {},
     "output_type": "display_data"
    },
    {
     "data": {
      "text/markdown": [
       "\n",
       "##### Ограничения (PK, FK):"
      ],
      "text/plain": [
       "<IPython.core.display.Markdown object>"
      ]
     },
     "metadata": {},
     "output_type": "display_data"
    },
    {
     "name": "stderr",
     "output_type": "stream",
     "text": [
      "/tmp/ipykernel_450849/82215137.py:79: UserWarning: pandas only supports SQLAlchemy connectable (engine/connection) or database string URI or sqlite3 DBAPI2 connection. Other DBAPI2 objects are not tested. Please consider using SQLAlchemy.\n",
      "  df = pd.read_sql_query(query, conn)\n"
     ]
    },
    {
     "data": {
      "text/html": [
       "<div>\n",
       "<style scoped>\n",
       "    .dataframe tbody tr th:only-of-type {\n",
       "        vertical-align: middle;\n",
       "    }\n",
       "\n",
       "    .dataframe tbody tr th {\n",
       "        vertical-align: top;\n",
       "    }\n",
       "\n",
       "    .dataframe thead th {\n",
       "        text-align: right;\n",
       "    }\n",
       "</style>\n",
       "<table border=\"1\" class=\"dataframe\">\n",
       "  <thead>\n",
       "    <tr style=\"text-align: right;\">\n",
       "      <th></th>\n",
       "      <th>constraint_name</th>\n",
       "      <th>constraint_type</th>\n",
       "      <th>column_name</th>\n",
       "      <th>foreign_table_name</th>\n",
       "      <th>foreign_column_name</th>\n",
       "    </tr>\n",
       "  </thead>\n",
       "  <tbody>\n",
       "    <tr>\n",
       "      <th>0</th>\n",
       "      <td>django_content_type_pkey</td>\n",
       "      <td>PRIMARY KEY</td>\n",
       "      <td>id</td>\n",
       "      <td>django_content_type</td>\n",
       "      <td>id</td>\n",
       "    </tr>\n",
       "    <tr>\n",
       "      <th>1</th>\n",
       "      <td>django_content_type_app_label_model_76bd3d3b_uniq</td>\n",
       "      <td>UNIQUE</td>\n",
       "      <td>app_label</td>\n",
       "      <td>django_content_type</td>\n",
       "      <td>app_label</td>\n",
       "    </tr>\n",
       "    <tr>\n",
       "      <th>2</th>\n",
       "      <td>django_content_type_app_label_model_76bd3d3b_uniq</td>\n",
       "      <td>UNIQUE</td>\n",
       "      <td>app_label</td>\n",
       "      <td>django_content_type</td>\n",
       "      <td>model</td>\n",
       "    </tr>\n",
       "    <tr>\n",
       "      <th>3</th>\n",
       "      <td>django_content_type_app_label_model_76bd3d3b_uniq</td>\n",
       "      <td>UNIQUE</td>\n",
       "      <td>model</td>\n",
       "      <td>django_content_type</td>\n",
       "      <td>app_label</td>\n",
       "    </tr>\n",
       "    <tr>\n",
       "      <th>4</th>\n",
       "      <td>django_content_type_app_label_model_76bd3d3b_uniq</td>\n",
       "      <td>UNIQUE</td>\n",
       "      <td>model</td>\n",
       "      <td>django_content_type</td>\n",
       "      <td>model</td>\n",
       "    </tr>\n",
       "  </tbody>\n",
       "</table>\n",
       "</div>"
      ],
      "text/plain": [
       "                                     constraint_name constraint_type column_name   foreign_table_name foreign_column_name\n",
       "0                           django_content_type_pkey     PRIMARY KEY          id  django_content_type                  id\n",
       "1  django_content_type_app_label_model_76bd3d3b_uniq          UNIQUE   app_label  django_content_type           app_label\n",
       "2  django_content_type_app_label_model_76bd3d3b_uniq          UNIQUE   app_label  django_content_type               model\n",
       "3  django_content_type_app_label_model_76bd3d3b_uniq          UNIQUE       model  django_content_type           app_label\n",
       "4  django_content_type_app_label_model_76bd3d3b_uniq          UNIQUE       model  django_content_type               model"
      ]
     },
     "metadata": {},
     "output_type": "display_data"
    },
    {
     "data": {
      "text/markdown": [
       "\n",
       "#### Таблица: `django_migrations`"
      ],
      "text/plain": [
       "<IPython.core.display.Markdown object>"
      ]
     },
     "metadata": {},
     "output_type": "display_data"
    },
    {
     "data": {
      "text/markdown": [
       "\n",
       "##### Схема:"
      ],
      "text/plain": [
       "<IPython.core.display.Markdown object>"
      ]
     },
     "metadata": {},
     "output_type": "display_data"
    },
    {
     "name": "stderr",
     "output_type": "stream",
     "text": [
      "/tmp/ipykernel_450849/82215137.py:49: UserWarning: pandas only supports SQLAlchemy connectable (engine/connection) or database string URI or sqlite3 DBAPI2 connection. Other DBAPI2 objects are not tested. Please consider using SQLAlchemy.\n",
      "  df = pd.read_sql_query(query, conn)\n"
     ]
    },
    {
     "data": {
      "text/html": [
       "<div>\n",
       "<style scoped>\n",
       "    .dataframe tbody tr th:only-of-type {\n",
       "        vertical-align: middle;\n",
       "    }\n",
       "\n",
       "    .dataframe tbody tr th {\n",
       "        vertical-align: top;\n",
       "    }\n",
       "\n",
       "    .dataframe thead th {\n",
       "        text-align: right;\n",
       "    }\n",
       "</style>\n",
       "<table border=\"1\" class=\"dataframe\">\n",
       "  <thead>\n",
       "    <tr style=\"text-align: right;\">\n",
       "      <th></th>\n",
       "      <th>column_name</th>\n",
       "      <th>data_type</th>\n",
       "      <th>is_nullable</th>\n",
       "      <th>column_default</th>\n",
       "    </tr>\n",
       "  </thead>\n",
       "  <tbody>\n",
       "    <tr>\n",
       "      <th>0</th>\n",
       "      <td>id</td>\n",
       "      <td>bigint</td>\n",
       "      <td>NO</td>\n",
       "      <td>nextval('django_migrations_id_seq'::regclass)</td>\n",
       "    </tr>\n",
       "    <tr>\n",
       "      <th>1</th>\n",
       "      <td>app</td>\n",
       "      <td>character varying</td>\n",
       "      <td>NO</td>\n",
       "      <td>None</td>\n",
       "    </tr>\n",
       "    <tr>\n",
       "      <th>2</th>\n",
       "      <td>name</td>\n",
       "      <td>character varying</td>\n",
       "      <td>NO</td>\n",
       "      <td>None</td>\n",
       "    </tr>\n",
       "    <tr>\n",
       "      <th>3</th>\n",
       "      <td>applied</td>\n",
       "      <td>timestamp with time zone</td>\n",
       "      <td>NO</td>\n",
       "      <td>None</td>\n",
       "    </tr>\n",
       "  </tbody>\n",
       "</table>\n",
       "</div>"
      ],
      "text/plain": [
       "  column_name                 data_type is_nullable                                 column_default\n",
       "0          id                    bigint          NO  nextval('django_migrations_id_seq'::regclass)\n",
       "1         app         character varying          NO                                           None\n",
       "2        name         character varying          NO                                           None\n",
       "3     applied  timestamp with time zone          NO                                           None"
      ]
     },
     "metadata": {},
     "output_type": "display_data"
    },
    {
     "data": {
      "text/markdown": [
       "\n",
       "##### Ограничения (PK, FK):"
      ],
      "text/plain": [
       "<IPython.core.display.Markdown object>"
      ]
     },
     "metadata": {},
     "output_type": "display_data"
    },
    {
     "name": "stderr",
     "output_type": "stream",
     "text": [
      "/tmp/ipykernel_450849/82215137.py:79: UserWarning: pandas only supports SQLAlchemy connectable (engine/connection) or database string URI or sqlite3 DBAPI2 connection. Other DBAPI2 objects are not tested. Please consider using SQLAlchemy.\n",
      "  df = pd.read_sql_query(query, conn)\n"
     ]
    },
    {
     "data": {
      "text/html": [
       "<div>\n",
       "<style scoped>\n",
       "    .dataframe tbody tr th:only-of-type {\n",
       "        vertical-align: middle;\n",
       "    }\n",
       "\n",
       "    .dataframe tbody tr th {\n",
       "        vertical-align: top;\n",
       "    }\n",
       "\n",
       "    .dataframe thead th {\n",
       "        text-align: right;\n",
       "    }\n",
       "</style>\n",
       "<table border=\"1\" class=\"dataframe\">\n",
       "  <thead>\n",
       "    <tr style=\"text-align: right;\">\n",
       "      <th></th>\n",
       "      <th>constraint_name</th>\n",
       "      <th>constraint_type</th>\n",
       "      <th>column_name</th>\n",
       "      <th>foreign_table_name</th>\n",
       "      <th>foreign_column_name</th>\n",
       "    </tr>\n",
       "  </thead>\n",
       "  <tbody>\n",
       "    <tr>\n",
       "      <th>0</th>\n",
       "      <td>django_migrations_pkey</td>\n",
       "      <td>PRIMARY KEY</td>\n",
       "      <td>id</td>\n",
       "      <td>django_migrations</td>\n",
       "      <td>id</td>\n",
       "    </tr>\n",
       "  </tbody>\n",
       "</table>\n",
       "</div>"
      ],
      "text/plain": [
       "          constraint_name constraint_type column_name foreign_table_name foreign_column_name\n",
       "0  django_migrations_pkey     PRIMARY KEY          id  django_migrations                  id"
      ]
     },
     "metadata": {},
     "output_type": "display_data"
    },
    {
     "data": {
      "text/markdown": [
       "\n",
       "#### Таблица: `django_session`"
      ],
      "text/plain": [
       "<IPython.core.display.Markdown object>"
      ]
     },
     "metadata": {},
     "output_type": "display_data"
    },
    {
     "data": {
      "text/markdown": [
       "\n",
       "##### Схема:"
      ],
      "text/plain": [
       "<IPython.core.display.Markdown object>"
      ]
     },
     "metadata": {},
     "output_type": "display_data"
    },
    {
     "name": "stderr",
     "output_type": "stream",
     "text": [
      "/tmp/ipykernel_450849/82215137.py:49: UserWarning: pandas only supports SQLAlchemy connectable (engine/connection) or database string URI or sqlite3 DBAPI2 connection. Other DBAPI2 objects are not tested. Please consider using SQLAlchemy.\n",
      "  df = pd.read_sql_query(query, conn)\n"
     ]
    },
    {
     "data": {
      "text/html": [
       "<div>\n",
       "<style scoped>\n",
       "    .dataframe tbody tr th:only-of-type {\n",
       "        vertical-align: middle;\n",
       "    }\n",
       "\n",
       "    .dataframe tbody tr th {\n",
       "        vertical-align: top;\n",
       "    }\n",
       "\n",
       "    .dataframe thead th {\n",
       "        text-align: right;\n",
       "    }\n",
       "</style>\n",
       "<table border=\"1\" class=\"dataframe\">\n",
       "  <thead>\n",
       "    <tr style=\"text-align: right;\">\n",
       "      <th></th>\n",
       "      <th>column_name</th>\n",
       "      <th>data_type</th>\n",
       "      <th>is_nullable</th>\n",
       "      <th>column_default</th>\n",
       "    </tr>\n",
       "  </thead>\n",
       "  <tbody>\n",
       "    <tr>\n",
       "      <th>0</th>\n",
       "      <td>session_key</td>\n",
       "      <td>character varying</td>\n",
       "      <td>NO</td>\n",
       "      <td>None</td>\n",
       "    </tr>\n",
       "    <tr>\n",
       "      <th>1</th>\n",
       "      <td>session_data</td>\n",
       "      <td>text</td>\n",
       "      <td>NO</td>\n",
       "      <td>None</td>\n",
       "    </tr>\n",
       "    <tr>\n",
       "      <th>2</th>\n",
       "      <td>expire_date</td>\n",
       "      <td>timestamp with time zone</td>\n",
       "      <td>NO</td>\n",
       "      <td>None</td>\n",
       "    </tr>\n",
       "  </tbody>\n",
       "</table>\n",
       "</div>"
      ],
      "text/plain": [
       "    column_name                 data_type is_nullable column_default\n",
       "0   session_key         character varying          NO           None\n",
       "1  session_data                      text          NO           None\n",
       "2   expire_date  timestamp with time zone          NO           None"
      ]
     },
     "metadata": {},
     "output_type": "display_data"
    },
    {
     "data": {
      "text/markdown": [
       "\n",
       "##### Ограничения (PK, FK):"
      ],
      "text/plain": [
       "<IPython.core.display.Markdown object>"
      ]
     },
     "metadata": {},
     "output_type": "display_data"
    },
    {
     "name": "stderr",
     "output_type": "stream",
     "text": [
      "/tmp/ipykernel_450849/82215137.py:79: UserWarning: pandas only supports SQLAlchemy connectable (engine/connection) or database string URI or sqlite3 DBAPI2 connection. Other DBAPI2 objects are not tested. Please consider using SQLAlchemy.\n",
      "  df = pd.read_sql_query(query, conn)\n"
     ]
    },
    {
     "data": {
      "text/html": [
       "<div>\n",
       "<style scoped>\n",
       "    .dataframe tbody tr th:only-of-type {\n",
       "        vertical-align: middle;\n",
       "    }\n",
       "\n",
       "    .dataframe tbody tr th {\n",
       "        vertical-align: top;\n",
       "    }\n",
       "\n",
       "    .dataframe thead th {\n",
       "        text-align: right;\n",
       "    }\n",
       "</style>\n",
       "<table border=\"1\" class=\"dataframe\">\n",
       "  <thead>\n",
       "    <tr style=\"text-align: right;\">\n",
       "      <th></th>\n",
       "      <th>constraint_name</th>\n",
       "      <th>constraint_type</th>\n",
       "      <th>column_name</th>\n",
       "      <th>foreign_table_name</th>\n",
       "      <th>foreign_column_name</th>\n",
       "    </tr>\n",
       "  </thead>\n",
       "  <tbody>\n",
       "    <tr>\n",
       "      <th>0</th>\n",
       "      <td>django_session_pkey</td>\n",
       "      <td>PRIMARY KEY</td>\n",
       "      <td>session_key</td>\n",
       "      <td>django_session</td>\n",
       "      <td>session_key</td>\n",
       "    </tr>\n",
       "  </tbody>\n",
       "</table>\n",
       "</div>"
      ],
      "text/plain": [
       "       constraint_name constraint_type  column_name foreign_table_name foreign_column_name\n",
       "0  django_session_pkey     PRIMARY KEY  session_key     django_session         session_key"
      ]
     },
     "metadata": {},
     "output_type": "display_data"
    },
    {
     "data": {
      "text/markdown": [
       "\n",
       "#### Таблица: `django_site`"
      ],
      "text/plain": [
       "<IPython.core.display.Markdown object>"
      ]
     },
     "metadata": {},
     "output_type": "display_data"
    },
    {
     "data": {
      "text/markdown": [
       "\n",
       "##### Схема:"
      ],
      "text/plain": [
       "<IPython.core.display.Markdown object>"
      ]
     },
     "metadata": {},
     "output_type": "display_data"
    },
    {
     "name": "stderr",
     "output_type": "stream",
     "text": [
      "/tmp/ipykernel_450849/82215137.py:49: UserWarning: pandas only supports SQLAlchemy connectable (engine/connection) or database string URI or sqlite3 DBAPI2 connection. Other DBAPI2 objects are not tested. Please consider using SQLAlchemy.\n",
      "  df = pd.read_sql_query(query, conn)\n"
     ]
    },
    {
     "data": {
      "text/html": [
       "<div>\n",
       "<style scoped>\n",
       "    .dataframe tbody tr th:only-of-type {\n",
       "        vertical-align: middle;\n",
       "    }\n",
       "\n",
       "    .dataframe tbody tr th {\n",
       "        vertical-align: top;\n",
       "    }\n",
       "\n",
       "    .dataframe thead th {\n",
       "        text-align: right;\n",
       "    }\n",
       "</style>\n",
       "<table border=\"1\" class=\"dataframe\">\n",
       "  <thead>\n",
       "    <tr style=\"text-align: right;\">\n",
       "      <th></th>\n",
       "      <th>column_name</th>\n",
       "      <th>data_type</th>\n",
       "      <th>is_nullable</th>\n",
       "      <th>column_default</th>\n",
       "    </tr>\n",
       "  </thead>\n",
       "  <tbody>\n",
       "    <tr>\n",
       "      <th>0</th>\n",
       "      <td>id</td>\n",
       "      <td>integer</td>\n",
       "      <td>NO</td>\n",
       "      <td>nextval('django_site_id_seq'::regclass)</td>\n",
       "    </tr>\n",
       "    <tr>\n",
       "      <th>1</th>\n",
       "      <td>domain</td>\n",
       "      <td>character varying</td>\n",
       "      <td>NO</td>\n",
       "      <td>None</td>\n",
       "    </tr>\n",
       "    <tr>\n",
       "      <th>2</th>\n",
       "      <td>name</td>\n",
       "      <td>character varying</td>\n",
       "      <td>NO</td>\n",
       "      <td>None</td>\n",
       "    </tr>\n",
       "  </tbody>\n",
       "</table>\n",
       "</div>"
      ],
      "text/plain": [
       "  column_name          data_type is_nullable                           column_default\n",
       "0          id            integer          NO  nextval('django_site_id_seq'::regclass)\n",
       "1      domain  character varying          NO                                     None\n",
       "2        name  character varying          NO                                     None"
      ]
     },
     "metadata": {},
     "output_type": "display_data"
    },
    {
     "data": {
      "text/markdown": [
       "\n",
       "##### Ограничения (PK, FK):"
      ],
      "text/plain": [
       "<IPython.core.display.Markdown object>"
      ]
     },
     "metadata": {},
     "output_type": "display_data"
    },
    {
     "name": "stderr",
     "output_type": "stream",
     "text": [
      "/tmp/ipykernel_450849/82215137.py:79: UserWarning: pandas only supports SQLAlchemy connectable (engine/connection) or database string URI or sqlite3 DBAPI2 connection. Other DBAPI2 objects are not tested. Please consider using SQLAlchemy.\n",
      "  df = pd.read_sql_query(query, conn)\n"
     ]
    },
    {
     "data": {
      "text/html": [
       "<div>\n",
       "<style scoped>\n",
       "    .dataframe tbody tr th:only-of-type {\n",
       "        vertical-align: middle;\n",
       "    }\n",
       "\n",
       "    .dataframe tbody tr th {\n",
       "        vertical-align: top;\n",
       "    }\n",
       "\n",
       "    .dataframe thead th {\n",
       "        text-align: right;\n",
       "    }\n",
       "</style>\n",
       "<table border=\"1\" class=\"dataframe\">\n",
       "  <thead>\n",
       "    <tr style=\"text-align: right;\">\n",
       "      <th></th>\n",
       "      <th>constraint_name</th>\n",
       "      <th>constraint_type</th>\n",
       "      <th>column_name</th>\n",
       "      <th>foreign_table_name</th>\n",
       "      <th>foreign_column_name</th>\n",
       "    </tr>\n",
       "  </thead>\n",
       "  <tbody>\n",
       "    <tr>\n",
       "      <th>0</th>\n",
       "      <td>django_site_pkey</td>\n",
       "      <td>PRIMARY KEY</td>\n",
       "      <td>id</td>\n",
       "      <td>django_site</td>\n",
       "      <td>id</td>\n",
       "    </tr>\n",
       "    <tr>\n",
       "      <th>1</th>\n",
       "      <td>django_site_domain_a2e37b91_uniq</td>\n",
       "      <td>UNIQUE</td>\n",
       "      <td>domain</td>\n",
       "      <td>django_site</td>\n",
       "      <td>domain</td>\n",
       "    </tr>\n",
       "  </tbody>\n",
       "</table>\n",
       "</div>"
      ],
      "text/plain": [
       "                    constraint_name constraint_type column_name foreign_table_name foreign_column_name\n",
       "0                  django_site_pkey     PRIMARY KEY          id        django_site                  id\n",
       "1  django_site_domain_a2e37b91_uniq          UNIQUE      domain        django_site              domain"
      ]
     },
     "metadata": {},
     "output_type": "display_data"
    },
    {
     "data": {
      "text/markdown": [
       "\n",
       "#### Таблица: `extensions_folderpermittedextensions`"
      ],
      "text/plain": [
       "<IPython.core.display.Markdown object>"
      ]
     },
     "metadata": {},
     "output_type": "display_data"
    },
    {
     "data": {
      "text/markdown": [
       "\n",
       "##### Схема:"
      ],
      "text/plain": [
       "<IPython.core.display.Markdown object>"
      ]
     },
     "metadata": {},
     "output_type": "display_data"
    },
    {
     "name": "stderr",
     "output_type": "stream",
     "text": [
      "/tmp/ipykernel_450849/82215137.py:49: UserWarning: pandas only supports SQLAlchemy connectable (engine/connection) or database string URI or sqlite3 DBAPI2 connection. Other DBAPI2 objects are not tested. Please consider using SQLAlchemy.\n",
      "  df = pd.read_sql_query(query, conn)\n"
     ]
    },
    {
     "data": {
      "text/html": [
       "<div>\n",
       "<style scoped>\n",
       "    .dataframe tbody tr th:only-of-type {\n",
       "        vertical-align: middle;\n",
       "    }\n",
       "\n",
       "    .dataframe tbody tr th {\n",
       "        vertical-align: top;\n",
       "    }\n",
       "\n",
       "    .dataframe thead th {\n",
       "        text-align: right;\n",
       "    }\n",
       "</style>\n",
       "<table border=\"1\" class=\"dataframe\">\n",
       "  <thead>\n",
       "    <tr style=\"text-align: right;\">\n",
       "      <th></th>\n",
       "      <th>column_name</th>\n",
       "      <th>data_type</th>\n",
       "      <th>is_nullable</th>\n",
       "      <th>column_default</th>\n",
       "    </tr>\n",
       "  </thead>\n",
       "  <tbody>\n",
       "    <tr>\n",
       "      <th>0</th>\n",
       "      <td>id</td>\n",
       "      <td>bigint</td>\n",
       "      <td>NO</td>\n",
       "      <td>nextval('extensions_folderpermittedextensions_...</td>\n",
       "    </tr>\n",
       "    <tr>\n",
       "      <th>1</th>\n",
       "      <td>image</td>\n",
       "      <td>ARRAY</td>\n",
       "      <td>NO</td>\n",
       "      <td>None</td>\n",
       "    </tr>\n",
       "    <tr>\n",
       "      <th>2</th>\n",
       "      <td>video</td>\n",
       "      <td>ARRAY</td>\n",
       "      <td>NO</td>\n",
       "      <td>None</td>\n",
       "    </tr>\n",
       "    <tr>\n",
       "      <th>3</th>\n",
       "      <td>storage_object_id</td>\n",
       "      <td>uuid</td>\n",
       "      <td>NO</td>\n",
       "      <td>None</td>\n",
       "    </tr>\n",
       "  </tbody>\n",
       "</table>\n",
       "</div>"
      ],
      "text/plain": [
       "         column_name data_type is_nullable                                     column_default\n",
       "0                 id    bigint          NO  nextval('extensions_folderpermittedextensions_...\n",
       "1              image     ARRAY          NO                                               None\n",
       "2              video     ARRAY          NO                                               None\n",
       "3  storage_object_id      uuid          NO                                               None"
      ]
     },
     "metadata": {},
     "output_type": "display_data"
    },
    {
     "data": {
      "text/markdown": [
       "\n",
       "##### Ограничения (PK, FK):"
      ],
      "text/plain": [
       "<IPython.core.display.Markdown object>"
      ]
     },
     "metadata": {},
     "output_type": "display_data"
    },
    {
     "name": "stderr",
     "output_type": "stream",
     "text": [
      "/tmp/ipykernel_450849/82215137.py:79: UserWarning: pandas only supports SQLAlchemy connectable (engine/connection) or database string URI or sqlite3 DBAPI2 connection. Other DBAPI2 objects are not tested. Please consider using SQLAlchemy.\n",
      "  df = pd.read_sql_query(query, conn)\n"
     ]
    },
    {
     "data": {
      "text/html": [
       "<div>\n",
       "<style scoped>\n",
       "    .dataframe tbody tr th:only-of-type {\n",
       "        vertical-align: middle;\n",
       "    }\n",
       "\n",
       "    .dataframe tbody tr th {\n",
       "        vertical-align: top;\n",
       "    }\n",
       "\n",
       "    .dataframe thead th {\n",
       "        text-align: right;\n",
       "    }\n",
       "</style>\n",
       "<table border=\"1\" class=\"dataframe\">\n",
       "  <thead>\n",
       "    <tr style=\"text-align: right;\">\n",
       "      <th></th>\n",
       "      <th>constraint_name</th>\n",
       "      <th>constraint_type</th>\n",
       "      <th>column_name</th>\n",
       "      <th>foreign_table_name</th>\n",
       "      <th>foreign_column_name</th>\n",
       "    </tr>\n",
       "  </thead>\n",
       "  <tbody>\n",
       "    <tr>\n",
       "      <th>0</th>\n",
       "      <td>extensions_folderper_storage_object_id_161d172...</td>\n",
       "      <td>FOREIGN KEY</td>\n",
       "      <td>storage_object_id</td>\n",
       "      <td>storage_storageobject</td>\n",
       "      <td>id</td>\n",
       "    </tr>\n",
       "    <tr>\n",
       "      <th>1</th>\n",
       "      <td>extensions_folderpermittedextensions_pkey</td>\n",
       "      <td>PRIMARY KEY</td>\n",
       "      <td>id</td>\n",
       "      <td>extensions_folderpermittedextensions</td>\n",
       "      <td>id</td>\n",
       "    </tr>\n",
       "    <tr>\n",
       "      <th>2</th>\n",
       "      <td>extensions_folderpermitt_storage_object_id_161...</td>\n",
       "      <td>UNIQUE</td>\n",
       "      <td>storage_object_id</td>\n",
       "      <td>extensions_folderpermittedextensions</td>\n",
       "      <td>storage_object_id</td>\n",
       "    </tr>\n",
       "  </tbody>\n",
       "</table>\n",
       "</div>"
      ],
      "text/plain": [
       "                                     constraint_name constraint_type        column_name                    foreign_table_name foreign_column_name\n",
       "0  extensions_folderper_storage_object_id_161d172...     FOREIGN KEY  storage_object_id                 storage_storageobject                  id\n",
       "1          extensions_folderpermittedextensions_pkey     PRIMARY KEY                 id  extensions_folderpermittedextensions                  id\n",
       "2  extensions_folderpermitt_storage_object_id_161...          UNIQUE  storage_object_id  extensions_folderpermittedextensions   storage_object_id"
      ]
     },
     "metadata": {},
     "output_type": "display_data"
    },
    {
     "data": {
      "text/markdown": [
       "\n",
       "#### Таблица: `filestorage_attachment`"
      ],
      "text/plain": [
       "<IPython.core.display.Markdown object>"
      ]
     },
     "metadata": {},
     "output_type": "display_data"
    },
    {
     "data": {
      "text/markdown": [
       "\n",
       "##### Схема:"
      ],
      "text/plain": [
       "<IPython.core.display.Markdown object>"
      ]
     },
     "metadata": {},
     "output_type": "display_data"
    },
    {
     "name": "stderr",
     "output_type": "stream",
     "text": [
      "/tmp/ipykernel_450849/82215137.py:49: UserWarning: pandas only supports SQLAlchemy connectable (engine/connection) or database string URI or sqlite3 DBAPI2 connection. Other DBAPI2 objects are not tested. Please consider using SQLAlchemy.\n",
      "  df = pd.read_sql_query(query, conn)\n"
     ]
    },
    {
     "data": {
      "text/html": [
       "<div>\n",
       "<style scoped>\n",
       "    .dataframe tbody tr th:only-of-type {\n",
       "        vertical-align: middle;\n",
       "    }\n",
       "\n",
       "    .dataframe tbody tr th {\n",
       "        vertical-align: top;\n",
       "    }\n",
       "\n",
       "    .dataframe thead th {\n",
       "        text-align: right;\n",
       "    }\n",
       "</style>\n",
       "<table border=\"1\" class=\"dataframe\">\n",
       "  <thead>\n",
       "    <tr style=\"text-align: right;\">\n",
       "      <th></th>\n",
       "      <th>column_name</th>\n",
       "      <th>data_type</th>\n",
       "      <th>is_nullable</th>\n",
       "      <th>column_default</th>\n",
       "    </tr>\n",
       "  </thead>\n",
       "  <tbody>\n",
       "    <tr>\n",
       "      <th>0</th>\n",
       "      <td>id</td>\n",
       "      <td>bigint</td>\n",
       "      <td>NO</td>\n",
       "      <td>nextval('filestorage_attachment_id_seq'::regcl...</td>\n",
       "    </tr>\n",
       "    <tr>\n",
       "      <th>1</th>\n",
       "      <td>object_id</td>\n",
       "      <td>integer</td>\n",
       "      <td>YES</td>\n",
       "      <td>None</td>\n",
       "    </tr>\n",
       "    <tr>\n",
       "      <th>2</th>\n",
       "      <td>content_type</td>\n",
       "      <td>text</td>\n",
       "      <td>YES</td>\n",
       "      <td>None</td>\n",
       "    </tr>\n",
       "    <tr>\n",
       "      <th>3</th>\n",
       "      <td>visible</td>\n",
       "      <td>boolean</td>\n",
       "      <td>NO</td>\n",
       "      <td>None</td>\n",
       "    </tr>\n",
       "    <tr>\n",
       "      <th>4</th>\n",
       "      <td>name</td>\n",
       "      <td>text</td>\n",
       "      <td>NO</td>\n",
       "      <td>None</td>\n",
       "    </tr>\n",
       "    <tr>\n",
       "      <th>5</th>\n",
       "      <td>attachment_file</td>\n",
       "      <td>character varying</td>\n",
       "      <td>NO</td>\n",
       "      <td>None</td>\n",
       "    </tr>\n",
       "    <tr>\n",
       "      <th>6</th>\n",
       "      <td>image</td>\n",
       "      <td>boolean</td>\n",
       "      <td>NO</td>\n",
       "      <td>None</td>\n",
       "    </tr>\n",
       "    <tr>\n",
       "      <th>7</th>\n",
       "      <td>created</td>\n",
       "      <td>timestamp with time zone</td>\n",
       "      <td>NO</td>\n",
       "      <td>None</td>\n",
       "    </tr>\n",
       "    <tr>\n",
       "      <th>8</th>\n",
       "      <td>modified</td>\n",
       "      <td>timestamp with time zone</td>\n",
       "      <td>NO</td>\n",
       "      <td>None</td>\n",
       "    </tr>\n",
       "    <tr>\n",
       "      <th>9</th>\n",
       "      <td>order</td>\n",
       "      <td>smallint</td>\n",
       "      <td>NO</td>\n",
       "      <td>None</td>\n",
       "    </tr>\n",
       "    <tr>\n",
       "      <th>10</th>\n",
       "      <td>mime</td>\n",
       "      <td>character varying</td>\n",
       "      <td>YES</td>\n",
       "      <td>None</td>\n",
       "    </tr>\n",
       "    <tr>\n",
       "      <th>11</th>\n",
       "      <td>is_deleted</td>\n",
       "      <td>boolean</td>\n",
       "      <td>NO</td>\n",
       "      <td>None</td>\n",
       "    </tr>\n",
       "    <tr>\n",
       "      <th>12</th>\n",
       "      <td>attachment_preview</td>\n",
       "      <td>character varying</td>\n",
       "      <td>YES</td>\n",
       "      <td>None</td>\n",
       "    </tr>\n",
       "    <tr>\n",
       "      <th>13</th>\n",
       "      <td>tags</td>\n",
       "      <td>character varying</td>\n",
       "      <td>NO</td>\n",
       "      <td>None</td>\n",
       "    </tr>\n",
       "    <tr>\n",
       "      <th>14</th>\n",
       "      <td>file_size</td>\n",
       "      <td>integer</td>\n",
       "      <td>YES</td>\n",
       "      <td>None</td>\n",
       "    </tr>\n",
       "    <tr>\n",
       "      <th>15</th>\n",
       "      <td>task_id</td>\n",
       "      <td>character varying</td>\n",
       "      <td>NO</td>\n",
       "      <td>None</td>\n",
       "    </tr>\n",
       "    <tr>\n",
       "      <th>16</th>\n",
       "      <td>is_processed</td>\n",
       "      <td>boolean</td>\n",
       "      <td>NO</td>\n",
       "      <td>None</td>\n",
       "    </tr>\n",
       "    <tr>\n",
       "      <th>17</th>\n",
       "      <td>created_by_id</td>\n",
       "      <td>integer</td>\n",
       "      <td>NO</td>\n",
       "      <td>None</td>\n",
       "    </tr>\n",
       "    <tr>\n",
       "      <th>18</th>\n",
       "      <td>link_type</td>\n",
       "      <td>text</td>\n",
       "      <td>YES</td>\n",
       "      <td>None</td>\n",
       "    </tr>\n",
       "    <tr>\n",
       "      <th>19</th>\n",
       "      <td>uuid</td>\n",
       "      <td>uuid</td>\n",
       "      <td>NO</td>\n",
       "      <td>None</td>\n",
       "    </tr>\n",
       "    <tr>\n",
       "      <th>20</th>\n",
       "      <td>updated_by_id</td>\n",
       "      <td>integer</td>\n",
       "      <td>NO</td>\n",
       "      <td>None</td>\n",
       "    </tr>\n",
       "    <tr>\n",
       "      <th>21</th>\n",
       "      <td>description</td>\n",
       "      <td>text</td>\n",
       "      <td>YES</td>\n",
       "      <td>None</td>\n",
       "    </tr>\n",
       "    <tr>\n",
       "      <th>22</th>\n",
       "      <td>info</td>\n",
       "      <td>jsonb</td>\n",
       "      <td>YES</td>\n",
       "      <td>None</td>\n",
       "    </tr>\n",
       "    <tr>\n",
       "      <th>23</th>\n",
       "      <td>folder_id</td>\n",
       "      <td>bigint</td>\n",
       "      <td>YES</td>\n",
       "      <td>None</td>\n",
       "    </tr>\n",
       "    <tr>\n",
       "      <th>24</th>\n",
       "      <td>user_default_role_id</td>\n",
       "      <td>bigint</td>\n",
       "      <td>YES</td>\n",
       "      <td>None</td>\n",
       "    </tr>\n",
       "  </tbody>\n",
       "</table>\n",
       "</div>"
      ],
      "text/plain": [
       "             column_name                 data_type is_nullable                                     column_default\n",
       "0                     id                    bigint          NO  nextval('filestorage_attachment_id_seq'::regcl...\n",
       "1              object_id                   integer         YES                                               None\n",
       "2           content_type                      text         YES                                               None\n",
       "3                visible                   boolean          NO                                               None\n",
       "4                   name                      text          NO                                               None\n",
       "5        attachment_file         character varying          NO                                               None\n",
       "6                  image                   boolean          NO                                               None\n",
       "7                created  timestamp with time zone          NO                                               None\n",
       "8               modified  timestamp with time zone          NO                                               None\n",
       "9                  order                  smallint          NO                                               None\n",
       "10                  mime         character varying         YES                                               None\n",
       "11            is_deleted                   boolean          NO                                               None\n",
       "12    attachment_preview         character varying         YES                                               None\n",
       "13                  tags         character varying          NO                                               None\n",
       "14             file_size                   integer         YES                                               None\n",
       "15               task_id         character varying          NO                                               None\n",
       "16          is_processed                   boolean          NO                                               None\n",
       "17         created_by_id                   integer          NO                                               None\n",
       "18             link_type                      text         YES                                               None\n",
       "19                  uuid                      uuid          NO                                               None\n",
       "20         updated_by_id                   integer          NO                                               None\n",
       "21           description                      text         YES                                               None\n",
       "22                  info                     jsonb         YES                                               None\n",
       "23             folder_id                    bigint         YES                                               None\n",
       "24  user_default_role_id                    bigint         YES                                               None"
      ]
     },
     "metadata": {},
     "output_type": "display_data"
    },
    {
     "data": {
      "text/markdown": [
       "\n",
       "##### Ограничения (PK, FK):"
      ],
      "text/plain": [
       "<IPython.core.display.Markdown object>"
      ]
     },
     "metadata": {},
     "output_type": "display_data"
    },
    {
     "name": "stderr",
     "output_type": "stream",
     "text": [
      "/tmp/ipykernel_450849/82215137.py:79: UserWarning: pandas only supports SQLAlchemy connectable (engine/connection) or database string URI or sqlite3 DBAPI2 connection. Other DBAPI2 objects are not tested. Please consider using SQLAlchemy.\n",
      "  df = pd.read_sql_query(query, conn)\n"
     ]
    },
    {
     "data": {
      "text/html": [
       "<div>\n",
       "<style scoped>\n",
       "    .dataframe tbody tr th:only-of-type {\n",
       "        vertical-align: middle;\n",
       "    }\n",
       "\n",
       "    .dataframe tbody tr th {\n",
       "        vertical-align: top;\n",
       "    }\n",
       "\n",
       "    .dataframe thead th {\n",
       "        text-align: right;\n",
       "    }\n",
       "</style>\n",
       "<table border=\"1\" class=\"dataframe\">\n",
       "  <thead>\n",
       "    <tr style=\"text-align: right;\">\n",
       "      <th></th>\n",
       "      <th>constraint_name</th>\n",
       "      <th>constraint_type</th>\n",
       "      <th>column_name</th>\n",
       "      <th>foreign_table_name</th>\n",
       "      <th>foreign_column_name</th>\n",
       "    </tr>\n",
       "  </thead>\n",
       "  <tbody>\n",
       "    <tr>\n",
       "      <th>0</th>\n",
       "      <td>filestorage_attachme_user_default_role_id_97fb...</td>\n",
       "      <td>FOREIGN KEY</td>\n",
       "      <td>user_default_role_id</td>\n",
       "      <td>role_model_genericrole</td>\n",
       "      <td>id</td>\n",
       "    </tr>\n",
       "    <tr>\n",
       "      <th>1</th>\n",
       "      <td>filestorage_attachment_created_by_id_66682e7a_...</td>\n",
       "      <td>FOREIGN KEY</td>\n",
       "      <td>created_by_id</td>\n",
       "      <td>auth_user</td>\n",
       "      <td>id</td>\n",
       "    </tr>\n",
       "    <tr>\n",
       "      <th>2</th>\n",
       "      <td>filestorage_attachment_folder_id_8dc853b3_fk</td>\n",
       "      <td>FOREIGN KEY</td>\n",
       "      <td>folder_id</td>\n",
       "      <td>filestorage_folder</td>\n",
       "      <td>id</td>\n",
       "    </tr>\n",
       "    <tr>\n",
       "      <th>3</th>\n",
       "      <td>filestorage_attachment_updated_by_id_1e6e3133_...</td>\n",
       "      <td>FOREIGN KEY</td>\n",
       "      <td>updated_by_id</td>\n",
       "      <td>auth_user</td>\n",
       "      <td>id</td>\n",
       "    </tr>\n",
       "    <tr>\n",
       "      <th>4</th>\n",
       "      <td>filestorage_attachment_pkey</td>\n",
       "      <td>PRIMARY KEY</td>\n",
       "      <td>id</td>\n",
       "      <td>filestorage_attachment</td>\n",
       "      <td>id</td>\n",
       "    </tr>\n",
       "    <tr>\n",
       "      <th>5</th>\n",
       "      <td>filestorage_attachment_uuid_636a3fbc_uniq</td>\n",
       "      <td>UNIQUE</td>\n",
       "      <td>uuid</td>\n",
       "      <td>filestorage_attachment</td>\n",
       "      <td>uuid</td>\n",
       "    </tr>\n",
       "  </tbody>\n",
       "</table>\n",
       "</div>"
      ],
      "text/plain": [
       "                                     constraint_name constraint_type           column_name      foreign_table_name foreign_column_name\n",
       "0  filestorage_attachme_user_default_role_id_97fb...     FOREIGN KEY  user_default_role_id  role_model_genericrole                  id\n",
       "1  filestorage_attachment_created_by_id_66682e7a_...     FOREIGN KEY         created_by_id               auth_user                  id\n",
       "2       filestorage_attachment_folder_id_8dc853b3_fk     FOREIGN KEY             folder_id      filestorage_folder                  id\n",
       "3  filestorage_attachment_updated_by_id_1e6e3133_...     FOREIGN KEY         updated_by_id               auth_user                  id\n",
       "4                        filestorage_attachment_pkey     PRIMARY KEY                    id  filestorage_attachment                  id\n",
       "5          filestorage_attachment_uuid_636a3fbc_uniq          UNIQUE                  uuid  filestorage_attachment                uuid"
      ]
     },
     "metadata": {},
     "output_type": "display_data"
    },
    {
     "data": {
      "text/markdown": [
       "\n",
       "#### Таблица: `filestorage_attachmentimage`"
      ],
      "text/plain": [
       "<IPython.core.display.Markdown object>"
      ]
     },
     "metadata": {},
     "output_type": "display_data"
    },
    {
     "data": {
      "text/markdown": [
       "\n",
       "##### Схема:"
      ],
      "text/plain": [
       "<IPython.core.display.Markdown object>"
      ]
     },
     "metadata": {},
     "output_type": "display_data"
    },
    {
     "name": "stderr",
     "output_type": "stream",
     "text": [
      "/tmp/ipykernel_450849/82215137.py:49: UserWarning: pandas only supports SQLAlchemy connectable (engine/connection) or database string URI or sqlite3 DBAPI2 connection. Other DBAPI2 objects are not tested. Please consider using SQLAlchemy.\n",
      "  df = pd.read_sql_query(query, conn)\n"
     ]
    },
    {
     "data": {
      "text/html": [
       "<div>\n",
       "<style scoped>\n",
       "    .dataframe tbody tr th:only-of-type {\n",
       "        vertical-align: middle;\n",
       "    }\n",
       "\n",
       "    .dataframe tbody tr th {\n",
       "        vertical-align: top;\n",
       "    }\n",
       "\n",
       "    .dataframe thead th {\n",
       "        text-align: right;\n",
       "    }\n",
       "</style>\n",
       "<table border=\"1\" class=\"dataframe\">\n",
       "  <thead>\n",
       "    <tr style=\"text-align: right;\">\n",
       "      <th></th>\n",
       "      <th>column_name</th>\n",
       "      <th>data_type</th>\n",
       "      <th>is_nullable</th>\n",
       "      <th>column_default</th>\n",
       "    </tr>\n",
       "  </thead>\n",
       "  <tbody>\n",
       "    <tr>\n",
       "      <th>0</th>\n",
       "      <td>id</td>\n",
       "      <td>bigint</td>\n",
       "      <td>NO</td>\n",
       "      <td>nextval('filestorage_attachmentimage_id_seq'::...</td>\n",
       "    </tr>\n",
       "    <tr>\n",
       "      <th>1</th>\n",
       "      <td>content_type</td>\n",
       "      <td>text</td>\n",
       "      <td>YES</td>\n",
       "      <td>None</td>\n",
       "    </tr>\n",
       "    <tr>\n",
       "      <th>2</th>\n",
       "      <td>object_id</td>\n",
       "      <td>integer</td>\n",
       "      <td>YES</td>\n",
       "      <td>None</td>\n",
       "    </tr>\n",
       "    <tr>\n",
       "      <th>3</th>\n",
       "      <td>image_file</td>\n",
       "      <td>character varying</td>\n",
       "      <td>NO</td>\n",
       "      <td>None</td>\n",
       "    </tr>\n",
       "    <tr>\n",
       "      <th>4</th>\n",
       "      <td>image_file_large</td>\n",
       "      <td>character varying</td>\n",
       "      <td>NO</td>\n",
       "      <td>None</td>\n",
       "    </tr>\n",
       "    <tr>\n",
       "      <th>5</th>\n",
       "      <td>created</td>\n",
       "      <td>timestamp with time zone</td>\n",
       "      <td>NO</td>\n",
       "      <td>None</td>\n",
       "    </tr>\n",
       "    <tr>\n",
       "      <th>6</th>\n",
       "      <td>modified</td>\n",
       "      <td>timestamp with time zone</td>\n",
       "      <td>NO</td>\n",
       "      <td>None</td>\n",
       "    </tr>\n",
       "    <tr>\n",
       "      <th>7</th>\n",
       "      <td>order</td>\n",
       "      <td>smallint</td>\n",
       "      <td>NO</td>\n",
       "      <td>None</td>\n",
       "    </tr>\n",
       "    <tr>\n",
       "      <th>8</th>\n",
       "      <td>is_deleted</td>\n",
       "      <td>boolean</td>\n",
       "      <td>NO</td>\n",
       "      <td>None</td>\n",
       "    </tr>\n",
       "    <tr>\n",
       "      <th>9</th>\n",
       "      <td>file_size</td>\n",
       "      <td>integer</td>\n",
       "      <td>YES</td>\n",
       "      <td>None</td>\n",
       "    </tr>\n",
       "    <tr>\n",
       "      <th>10</th>\n",
       "      <td>created_by_id</td>\n",
       "      <td>integer</td>\n",
       "      <td>NO</td>\n",
       "      <td>None</td>\n",
       "    </tr>\n",
       "  </tbody>\n",
       "</table>\n",
       "</div>"
      ],
      "text/plain": [
       "         column_name                 data_type is_nullable                                     column_default\n",
       "0                 id                    bigint          NO  nextval('filestorage_attachmentimage_id_seq'::...\n",
       "1       content_type                      text         YES                                               None\n",
       "2          object_id                   integer         YES                                               None\n",
       "3         image_file         character varying          NO                                               None\n",
       "4   image_file_large         character varying          NO                                               None\n",
       "5            created  timestamp with time zone          NO                                               None\n",
       "6           modified  timestamp with time zone          NO                                               None\n",
       "7              order                  smallint          NO                                               None\n",
       "8         is_deleted                   boolean          NO                                               None\n",
       "9          file_size                   integer         YES                                               None\n",
       "10     created_by_id                   integer          NO                                               None"
      ]
     },
     "metadata": {},
     "output_type": "display_data"
    },
    {
     "data": {
      "text/markdown": [
       "\n",
       "##### Ограничения (PK, FK):"
      ],
      "text/plain": [
       "<IPython.core.display.Markdown object>"
      ]
     },
     "metadata": {},
     "output_type": "display_data"
    },
    {
     "name": "stderr",
     "output_type": "stream",
     "text": [
      "/tmp/ipykernel_450849/82215137.py:79: UserWarning: pandas only supports SQLAlchemy connectable (engine/connection) or database string URI or sqlite3 DBAPI2 connection. Other DBAPI2 objects are not tested. Please consider using SQLAlchemy.\n",
      "  df = pd.read_sql_query(query, conn)\n"
     ]
    },
    {
     "data": {
      "text/html": [
       "<div>\n",
       "<style scoped>\n",
       "    .dataframe tbody tr th:only-of-type {\n",
       "        vertical-align: middle;\n",
       "    }\n",
       "\n",
       "    .dataframe tbody tr th {\n",
       "        vertical-align: top;\n",
       "    }\n",
       "\n",
       "    .dataframe thead th {\n",
       "        text-align: right;\n",
       "    }\n",
       "</style>\n",
       "<table border=\"1\" class=\"dataframe\">\n",
       "  <thead>\n",
       "    <tr style=\"text-align: right;\">\n",
       "      <th></th>\n",
       "      <th>constraint_name</th>\n",
       "      <th>constraint_type</th>\n",
       "      <th>column_name</th>\n",
       "      <th>foreign_table_name</th>\n",
       "      <th>foreign_column_name</th>\n",
       "    </tr>\n",
       "  </thead>\n",
       "  <tbody>\n",
       "    <tr>\n",
       "      <th>0</th>\n",
       "      <td>filestorage_attachme_created_by_id_92a59c81_fk...</td>\n",
       "      <td>FOREIGN KEY</td>\n",
       "      <td>created_by_id</td>\n",
       "      <td>auth_user</td>\n",
       "      <td>id</td>\n",
       "    </tr>\n",
       "    <tr>\n",
       "      <th>1</th>\n",
       "      <td>filestorage_attachmentimage_pkey</td>\n",
       "      <td>PRIMARY KEY</td>\n",
       "      <td>id</td>\n",
       "      <td>filestorage_attachmentimage</td>\n",
       "      <td>id</td>\n",
       "    </tr>\n",
       "  </tbody>\n",
       "</table>\n",
       "</div>"
      ],
      "text/plain": [
       "                                     constraint_name constraint_type    column_name           foreign_table_name foreign_column_name\n",
       "0  filestorage_attachme_created_by_id_92a59c81_fk...     FOREIGN KEY  created_by_id                    auth_user                  id\n",
       "1                   filestorage_attachmentimage_pkey     PRIMARY KEY             id  filestorage_attachmentimage                  id"
      ]
     },
     "metadata": {},
     "output_type": "display_data"
    },
    {
     "data": {
      "text/markdown": [
       "\n",
       "#### Таблица: `filestorage_folder`"
      ],
      "text/plain": [
       "<IPython.core.display.Markdown object>"
      ]
     },
     "metadata": {},
     "output_type": "display_data"
    },
    {
     "data": {
      "text/markdown": [
       "\n",
       "##### Схема:"
      ],
      "text/plain": [
       "<IPython.core.display.Markdown object>"
      ]
     },
     "metadata": {},
     "output_type": "display_data"
    },
    {
     "name": "stderr",
     "output_type": "stream",
     "text": [
      "/tmp/ipykernel_450849/82215137.py:49: UserWarning: pandas only supports SQLAlchemy connectable (engine/connection) or database string URI or sqlite3 DBAPI2 connection. Other DBAPI2 objects are not tested. Please consider using SQLAlchemy.\n",
      "  df = pd.read_sql_query(query, conn)\n"
     ]
    },
    {
     "data": {
      "text/html": [
       "<div>\n",
       "<style scoped>\n",
       "    .dataframe tbody tr th:only-of-type {\n",
       "        vertical-align: middle;\n",
       "    }\n",
       "\n",
       "    .dataframe tbody tr th {\n",
       "        vertical-align: top;\n",
       "    }\n",
       "\n",
       "    .dataframe thead th {\n",
       "        text-align: right;\n",
       "    }\n",
       "</style>\n",
       "<table border=\"1\" class=\"dataframe\">\n",
       "  <thead>\n",
       "    <tr style=\"text-align: right;\">\n",
       "      <th></th>\n",
       "      <th>column_name</th>\n",
       "      <th>data_type</th>\n",
       "      <th>is_nullable</th>\n",
       "      <th>column_default</th>\n",
       "    </tr>\n",
       "  </thead>\n",
       "  <tbody>\n",
       "    <tr>\n",
       "      <th>0</th>\n",
       "      <td>id</td>\n",
       "      <td>bigint</td>\n",
       "      <td>NO</td>\n",
       "      <td>nextval('filestorage_folder_id_seq'::regclass)</td>\n",
       "    </tr>\n",
       "    <tr>\n",
       "      <th>1</th>\n",
       "      <td>content_type</td>\n",
       "      <td>text</td>\n",
       "      <td>YES</td>\n",
       "      <td>None</td>\n",
       "    </tr>\n",
       "    <tr>\n",
       "      <th>2</th>\n",
       "      <td>object_id</td>\n",
       "      <td>integer</td>\n",
       "      <td>YES</td>\n",
       "      <td>None</td>\n",
       "    </tr>\n",
       "    <tr>\n",
       "      <th>3</th>\n",
       "      <td>name</td>\n",
       "      <td>character varying</td>\n",
       "      <td>NO</td>\n",
       "      <td>None</td>\n",
       "    </tr>\n",
       "    <tr>\n",
       "      <th>4</th>\n",
       "      <td>lft</td>\n",
       "      <td>integer</td>\n",
       "      <td>NO</td>\n",
       "      <td>None</td>\n",
       "    </tr>\n",
       "    <tr>\n",
       "      <th>5</th>\n",
       "      <td>rght</td>\n",
       "      <td>integer</td>\n",
       "      <td>NO</td>\n",
       "      <td>None</td>\n",
       "    </tr>\n",
       "    <tr>\n",
       "      <th>6</th>\n",
       "      <td>tree_id</td>\n",
       "      <td>integer</td>\n",
       "      <td>NO</td>\n",
       "      <td>None</td>\n",
       "    </tr>\n",
       "    <tr>\n",
       "      <th>7</th>\n",
       "      <td>level</td>\n",
       "      <td>integer</td>\n",
       "      <td>NO</td>\n",
       "      <td>None</td>\n",
       "    </tr>\n",
       "    <tr>\n",
       "      <th>8</th>\n",
       "      <td>parent_id</td>\n",
       "      <td>bigint</td>\n",
       "      <td>YES</td>\n",
       "      <td>None</td>\n",
       "    </tr>\n",
       "    <tr>\n",
       "      <th>9</th>\n",
       "      <td>link_type</td>\n",
       "      <td>text</td>\n",
       "      <td>YES</td>\n",
       "      <td>None</td>\n",
       "    </tr>\n",
       "    <tr>\n",
       "      <th>10</th>\n",
       "      <td>created</td>\n",
       "      <td>timestamp with time zone</td>\n",
       "      <td>NO</td>\n",
       "      <td>None</td>\n",
       "    </tr>\n",
       "    <tr>\n",
       "      <th>11</th>\n",
       "      <td>created_by_id</td>\n",
       "      <td>integer</td>\n",
       "      <td>YES</td>\n",
       "      <td>None</td>\n",
       "    </tr>\n",
       "    <tr>\n",
       "      <th>12</th>\n",
       "      <td>modified</td>\n",
       "      <td>timestamp with time zone</td>\n",
       "      <td>NO</td>\n",
       "      <td>None</td>\n",
       "    </tr>\n",
       "    <tr>\n",
       "      <th>13</th>\n",
       "      <td>updated_by_id</td>\n",
       "      <td>integer</td>\n",
       "      <td>YES</td>\n",
       "      <td>None</td>\n",
       "    </tr>\n",
       "    <tr>\n",
       "      <th>14</th>\n",
       "      <td>info</td>\n",
       "      <td>jsonb</td>\n",
       "      <td>YES</td>\n",
       "      <td>None</td>\n",
       "    </tr>\n",
       "    <tr>\n",
       "      <th>15</th>\n",
       "      <td>user_default_role_id</td>\n",
       "      <td>bigint</td>\n",
       "      <td>YES</td>\n",
       "      <td>None</td>\n",
       "    </tr>\n",
       "  </tbody>\n",
       "</table>\n",
       "</div>"
      ],
      "text/plain": [
       "             column_name                 data_type is_nullable                                  column_default\n",
       "0                     id                    bigint          NO  nextval('filestorage_folder_id_seq'::regclass)\n",
       "1           content_type                      text         YES                                            None\n",
       "2              object_id                   integer         YES                                            None\n",
       "3                   name         character varying          NO                                            None\n",
       "4                    lft                   integer          NO                                            None\n",
       "5                   rght                   integer          NO                                            None\n",
       "6                tree_id                   integer          NO                                            None\n",
       "7                  level                   integer          NO                                            None\n",
       "8              parent_id                    bigint         YES                                            None\n",
       "9              link_type                      text         YES                                            None\n",
       "10               created  timestamp with time zone          NO                                            None\n",
       "11         created_by_id                   integer         YES                                            None\n",
       "12              modified  timestamp with time zone          NO                                            None\n",
       "13         updated_by_id                   integer         YES                                            None\n",
       "14                  info                     jsonb         YES                                            None\n",
       "15  user_default_role_id                    bigint         YES                                            None"
      ]
     },
     "metadata": {},
     "output_type": "display_data"
    },
    {
     "data": {
      "text/markdown": [
       "\n",
       "##### Ограничения (PK, FK):"
      ],
      "text/plain": [
       "<IPython.core.display.Markdown object>"
      ]
     },
     "metadata": {},
     "output_type": "display_data"
    },
    {
     "name": "stderr",
     "output_type": "stream",
     "text": [
      "/tmp/ipykernel_450849/82215137.py:79: UserWarning: pandas only supports SQLAlchemy connectable (engine/connection) or database string URI or sqlite3 DBAPI2 connection. Other DBAPI2 objects are not tested. Please consider using SQLAlchemy.\n",
      "  df = pd.read_sql_query(query, conn)\n"
     ]
    },
    {
     "data": {
      "text/html": [
       "<div>\n",
       "<style scoped>\n",
       "    .dataframe tbody tr th:only-of-type {\n",
       "        vertical-align: middle;\n",
       "    }\n",
       "\n",
       "    .dataframe tbody tr th {\n",
       "        vertical-align: top;\n",
       "    }\n",
       "\n",
       "    .dataframe thead th {\n",
       "        text-align: right;\n",
       "    }\n",
       "</style>\n",
       "<table border=\"1\" class=\"dataframe\">\n",
       "  <thead>\n",
       "    <tr style=\"text-align: right;\">\n",
       "      <th></th>\n",
       "      <th>constraint_name</th>\n",
       "      <th>constraint_type</th>\n",
       "      <th>column_name</th>\n",
       "      <th>foreign_table_name</th>\n",
       "      <th>foreign_column_name</th>\n",
       "    </tr>\n",
       "  </thead>\n",
       "  <tbody>\n",
       "    <tr>\n",
       "      <th>0</th>\n",
       "      <td>filestorage_folder_created_by_id_0e762583_fk_a...</td>\n",
       "      <td>FOREIGN KEY</td>\n",
       "      <td>created_by_id</td>\n",
       "      <td>auth_user</td>\n",
       "      <td>id</td>\n",
       "    </tr>\n",
       "    <tr>\n",
       "      <th>1</th>\n",
       "      <td>filestorage_folder_parent_id_cf12a51a_fk</td>\n",
       "      <td>FOREIGN KEY</td>\n",
       "      <td>parent_id</td>\n",
       "      <td>filestorage_folder</td>\n",
       "      <td>id</td>\n",
       "    </tr>\n",
       "    <tr>\n",
       "      <th>2</th>\n",
       "      <td>filestorage_folder_updated_by_id_51794494_fk_a...</td>\n",
       "      <td>FOREIGN KEY</td>\n",
       "      <td>updated_by_id</td>\n",
       "      <td>auth_user</td>\n",
       "      <td>id</td>\n",
       "    </tr>\n",
       "    <tr>\n",
       "      <th>3</th>\n",
       "      <td>filestorage_folder_user_default_role_id_4db4fd...</td>\n",
       "      <td>FOREIGN KEY</td>\n",
       "      <td>user_default_role_id</td>\n",
       "      <td>role_model_genericrole</td>\n",
       "      <td>id</td>\n",
       "    </tr>\n",
       "    <tr>\n",
       "      <th>4</th>\n",
       "      <td>filestorage_folder_pkey</td>\n",
       "      <td>PRIMARY KEY</td>\n",
       "      <td>id</td>\n",
       "      <td>filestorage_folder</td>\n",
       "      <td>id</td>\n",
       "    </tr>\n",
       "    <tr>\n",
       "      <th>5</th>\n",
       "      <td>filestorage_folder_content_type_object_id_n_56...</td>\n",
       "      <td>UNIQUE</td>\n",
       "      <td>content_type</td>\n",
       "      <td>filestorage_folder</td>\n",
       "      <td>content_type</td>\n",
       "    </tr>\n",
       "    <tr>\n",
       "      <th>6</th>\n",
       "      <td>filestorage_folder_content_type_object_id_n_56...</td>\n",
       "      <td>UNIQUE</td>\n",
       "      <td>content_type</td>\n",
       "      <td>filestorage_folder</td>\n",
       "      <td>object_id</td>\n",
       "    </tr>\n",
       "    <tr>\n",
       "      <th>7</th>\n",
       "      <td>filestorage_folder_content_type_object_id_n_56...</td>\n",
       "      <td>UNIQUE</td>\n",
       "      <td>content_type</td>\n",
       "      <td>filestorage_folder</td>\n",
       "      <td>name</td>\n",
       "    </tr>\n",
       "    <tr>\n",
       "      <th>8</th>\n",
       "      <td>filestorage_folder_content_type_object_id_n_56...</td>\n",
       "      <td>UNIQUE</td>\n",
       "      <td>content_type</td>\n",
       "      <td>filestorage_folder</td>\n",
       "      <td>parent_id</td>\n",
       "    </tr>\n",
       "    <tr>\n",
       "      <th>9</th>\n",
       "      <td>filestorage_folder_content_type_object_id_n_56...</td>\n",
       "      <td>UNIQUE</td>\n",
       "      <td>object_id</td>\n",
       "      <td>filestorage_folder</td>\n",
       "      <td>object_id</td>\n",
       "    </tr>\n",
       "    <tr>\n",
       "      <th>10</th>\n",
       "      <td>filestorage_folder_content_type_object_id_n_56...</td>\n",
       "      <td>UNIQUE</td>\n",
       "      <td>object_id</td>\n",
       "      <td>filestorage_folder</td>\n",
       "      <td>name</td>\n",
       "    </tr>\n",
       "    <tr>\n",
       "      <th>11</th>\n",
       "      <td>filestorage_folder_content_type_object_id_n_56...</td>\n",
       "      <td>UNIQUE</td>\n",
       "      <td>object_id</td>\n",
       "      <td>filestorage_folder</td>\n",
       "      <td>parent_id</td>\n",
       "    </tr>\n",
       "    <tr>\n",
       "      <th>12</th>\n",
       "      <td>filestorage_folder_content_type_object_id_n_56...</td>\n",
       "      <td>UNIQUE</td>\n",
       "      <td>object_id</td>\n",
       "      <td>filestorage_folder</td>\n",
       "      <td>content_type</td>\n",
       "    </tr>\n",
       "    <tr>\n",
       "      <th>13</th>\n",
       "      <td>filestorage_folder_content_type_object_id_n_56...</td>\n",
       "      <td>UNIQUE</td>\n",
       "      <td>name</td>\n",
       "      <td>filestorage_folder</td>\n",
       "      <td>object_id</td>\n",
       "    </tr>\n",
       "    <tr>\n",
       "      <th>14</th>\n",
       "      <td>filestorage_folder_content_type_object_id_n_56...</td>\n",
       "      <td>UNIQUE</td>\n",
       "      <td>name</td>\n",
       "      <td>filestorage_folder</td>\n",
       "      <td>name</td>\n",
       "    </tr>\n",
       "    <tr>\n",
       "      <th>15</th>\n",
       "      <td>filestorage_folder_content_type_object_id_n_56...</td>\n",
       "      <td>UNIQUE</td>\n",
       "      <td>name</td>\n",
       "      <td>filestorage_folder</td>\n",
       "      <td>parent_id</td>\n",
       "    </tr>\n",
       "    <tr>\n",
       "      <th>16</th>\n",
       "      <td>filestorage_folder_content_type_object_id_n_56...</td>\n",
       "      <td>UNIQUE</td>\n",
       "      <td>name</td>\n",
       "      <td>filestorage_folder</td>\n",
       "      <td>content_type</td>\n",
       "    </tr>\n",
       "    <tr>\n",
       "      <th>17</th>\n",
       "      <td>filestorage_folder_content_type_object_id_n_56...</td>\n",
       "      <td>UNIQUE</td>\n",
       "      <td>parent_id</td>\n",
       "      <td>filestorage_folder</td>\n",
       "      <td>parent_id</td>\n",
       "    </tr>\n",
       "    <tr>\n",
       "      <th>18</th>\n",
       "      <td>filestorage_folder_content_type_object_id_n_56...</td>\n",
       "      <td>UNIQUE</td>\n",
       "      <td>parent_id</td>\n",
       "      <td>filestorage_folder</td>\n",
       "      <td>name</td>\n",
       "    </tr>\n",
       "    <tr>\n",
       "      <th>19</th>\n",
       "      <td>filestorage_folder_content_type_object_id_n_56...</td>\n",
       "      <td>UNIQUE</td>\n",
       "      <td>parent_id</td>\n",
       "      <td>filestorage_folder</td>\n",
       "      <td>object_id</td>\n",
       "    </tr>\n",
       "    <tr>\n",
       "      <th>20</th>\n",
       "      <td>filestorage_folder_content_type_object_id_n_56...</td>\n",
       "      <td>UNIQUE</td>\n",
       "      <td>parent_id</td>\n",
       "      <td>filestorage_folder</td>\n",
       "      <td>content_type</td>\n",
       "    </tr>\n",
       "  </tbody>\n",
       "</table>\n",
       "</div>"
      ],
      "text/plain": [
       "                                      constraint_name constraint_type           column_name      foreign_table_name foreign_column_name\n",
       "0   filestorage_folder_created_by_id_0e762583_fk_a...     FOREIGN KEY         created_by_id               auth_user                  id\n",
       "1            filestorage_folder_parent_id_cf12a51a_fk     FOREIGN KEY             parent_id      filestorage_folder                  id\n",
       "2   filestorage_folder_updated_by_id_51794494_fk_a...     FOREIGN KEY         updated_by_id               auth_user                  id\n",
       "3   filestorage_folder_user_default_role_id_4db4fd...     FOREIGN KEY  user_default_role_id  role_model_genericrole                  id\n",
       "4                             filestorage_folder_pkey     PRIMARY KEY                    id      filestorage_folder                  id\n",
       "5   filestorage_folder_content_type_object_id_n_56...          UNIQUE          content_type      filestorage_folder        content_type\n",
       "6   filestorage_folder_content_type_object_id_n_56...          UNIQUE          content_type      filestorage_folder           object_id\n",
       "7   filestorage_folder_content_type_object_id_n_56...          UNIQUE          content_type      filestorage_folder                name\n",
       "8   filestorage_folder_content_type_object_id_n_56...          UNIQUE          content_type      filestorage_folder           parent_id\n",
       "9   filestorage_folder_content_type_object_id_n_56...          UNIQUE             object_id      filestorage_folder           object_id\n",
       "10  filestorage_folder_content_type_object_id_n_56...          UNIQUE             object_id      filestorage_folder                name\n",
       "11  filestorage_folder_content_type_object_id_n_56...          UNIQUE             object_id      filestorage_folder           parent_id\n",
       "12  filestorage_folder_content_type_object_id_n_56...          UNIQUE             object_id      filestorage_folder        content_type\n",
       "13  filestorage_folder_content_type_object_id_n_56...          UNIQUE                  name      filestorage_folder           object_id\n",
       "14  filestorage_folder_content_type_object_id_n_56...          UNIQUE                  name      filestorage_folder                name\n",
       "15  filestorage_folder_content_type_object_id_n_56...          UNIQUE                  name      filestorage_folder           parent_id\n",
       "16  filestorage_folder_content_type_object_id_n_56...          UNIQUE                  name      filestorage_folder        content_type\n",
       "17  filestorage_folder_content_type_object_id_n_56...          UNIQUE             parent_id      filestorage_folder           parent_id\n",
       "18  filestorage_folder_content_type_object_id_n_56...          UNIQUE             parent_id      filestorage_folder                name\n",
       "19  filestorage_folder_content_type_object_id_n_56...          UNIQUE             parent_id      filestorage_folder           object_id\n",
       "20  filestorage_folder_content_type_object_id_n_56...          UNIQUE             parent_id      filestorage_folder        content_type"
      ]
     },
     "metadata": {},
     "output_type": "display_data"
    },
    {
     "data": {
      "text/markdown": [
       "\n",
       "#### Таблица: `filestorage_forbiddenextension`"
      ],
      "text/plain": [
       "<IPython.core.display.Markdown object>"
      ]
     },
     "metadata": {},
     "output_type": "display_data"
    },
    {
     "data": {
      "text/markdown": [
       "\n",
       "##### Схема:"
      ],
      "text/plain": [
       "<IPython.core.display.Markdown object>"
      ]
     },
     "metadata": {},
     "output_type": "display_data"
    },
    {
     "name": "stderr",
     "output_type": "stream",
     "text": [
      "/tmp/ipykernel_450849/82215137.py:49: UserWarning: pandas only supports SQLAlchemy connectable (engine/connection) or database string URI or sqlite3 DBAPI2 connection. Other DBAPI2 objects are not tested. Please consider using SQLAlchemy.\n",
      "  df = pd.read_sql_query(query, conn)\n"
     ]
    },
    {
     "data": {
      "text/html": [
       "<div>\n",
       "<style scoped>\n",
       "    .dataframe tbody tr th:only-of-type {\n",
       "        vertical-align: middle;\n",
       "    }\n",
       "\n",
       "    .dataframe tbody tr th {\n",
       "        vertical-align: top;\n",
       "    }\n",
       "\n",
       "    .dataframe thead th {\n",
       "        text-align: right;\n",
       "    }\n",
       "</style>\n",
       "<table border=\"1\" class=\"dataframe\">\n",
       "  <thead>\n",
       "    <tr style=\"text-align: right;\">\n",
       "      <th></th>\n",
       "      <th>column_name</th>\n",
       "      <th>data_type</th>\n",
       "      <th>is_nullable</th>\n",
       "      <th>column_default</th>\n",
       "    </tr>\n",
       "  </thead>\n",
       "  <tbody>\n",
       "    <tr>\n",
       "      <th>0</th>\n",
       "      <td>id</td>\n",
       "      <td>bigint</td>\n",
       "      <td>NO</td>\n",
       "      <td>nextval('filestorage_forbiddenextension_id_seq...</td>\n",
       "    </tr>\n",
       "    <tr>\n",
       "      <th>1</th>\n",
       "      <td>name</td>\n",
       "      <td>character varying</td>\n",
       "      <td>NO</td>\n",
       "      <td>None</td>\n",
       "    </tr>\n",
       "    <tr>\n",
       "      <th>2</th>\n",
       "      <td>forbidden_for_mobile</td>\n",
       "      <td>boolean</td>\n",
       "      <td>NO</td>\n",
       "      <td>None</td>\n",
       "    </tr>\n",
       "    <tr>\n",
       "      <th>3</th>\n",
       "      <td>forbidden_for_pc</td>\n",
       "      <td>boolean</td>\n",
       "      <td>NO</td>\n",
       "      <td>None</td>\n",
       "    </tr>\n",
       "  </tbody>\n",
       "</table>\n",
       "</div>"
      ],
      "text/plain": [
       "            column_name          data_type is_nullable                                     column_default\n",
       "0                    id             bigint          NO  nextval('filestorage_forbiddenextension_id_seq...\n",
       "1                  name  character varying          NO                                               None\n",
       "2  forbidden_for_mobile            boolean          NO                                               None\n",
       "3      forbidden_for_pc            boolean          NO                                               None"
      ]
     },
     "metadata": {},
     "output_type": "display_data"
    },
    {
     "data": {
      "text/markdown": [
       "\n",
       "##### Ограничения (PK, FK):"
      ],
      "text/plain": [
       "<IPython.core.display.Markdown object>"
      ]
     },
     "metadata": {},
     "output_type": "display_data"
    },
    {
     "name": "stderr",
     "output_type": "stream",
     "text": [
      "/tmp/ipykernel_450849/82215137.py:79: UserWarning: pandas only supports SQLAlchemy connectable (engine/connection) or database string URI or sqlite3 DBAPI2 connection. Other DBAPI2 objects are not tested. Please consider using SQLAlchemy.\n",
      "  df = pd.read_sql_query(query, conn)\n"
     ]
    },
    {
     "data": {
      "text/html": [
       "<div>\n",
       "<style scoped>\n",
       "    .dataframe tbody tr th:only-of-type {\n",
       "        vertical-align: middle;\n",
       "    }\n",
       "\n",
       "    .dataframe tbody tr th {\n",
       "        vertical-align: top;\n",
       "    }\n",
       "\n",
       "    .dataframe thead th {\n",
       "        text-align: right;\n",
       "    }\n",
       "</style>\n",
       "<table border=\"1\" class=\"dataframe\">\n",
       "  <thead>\n",
       "    <tr style=\"text-align: right;\">\n",
       "      <th></th>\n",
       "      <th>constraint_name</th>\n",
       "      <th>constraint_type</th>\n",
       "      <th>column_name</th>\n",
       "      <th>foreign_table_name</th>\n",
       "      <th>foreign_column_name</th>\n",
       "    </tr>\n",
       "  </thead>\n",
       "  <tbody>\n",
       "    <tr>\n",
       "      <th>0</th>\n",
       "      <td>filestorage_forbiddenextension_pkey</td>\n",
       "      <td>PRIMARY KEY</td>\n",
       "      <td>id</td>\n",
       "      <td>filestorage_forbiddenextension</td>\n",
       "      <td>id</td>\n",
       "    </tr>\n",
       "    <tr>\n",
       "      <th>1</th>\n",
       "      <td>filestorage_forbiddenextension_name_key</td>\n",
       "      <td>UNIQUE</td>\n",
       "      <td>name</td>\n",
       "      <td>filestorage_forbiddenextension</td>\n",
       "      <td>name</td>\n",
       "    </tr>\n",
       "  </tbody>\n",
       "</table>\n",
       "</div>"
      ],
      "text/plain": [
       "                           constraint_name constraint_type column_name              foreign_table_name foreign_column_name\n",
       "0      filestorage_forbiddenextension_pkey     PRIMARY KEY          id  filestorage_forbiddenextension                  id\n",
       "1  filestorage_forbiddenextension_name_key          UNIQUE        name  filestorage_forbiddenextension                name"
      ]
     },
     "metadata": {},
     "output_type": "display_data"
    },
    {
     "data": {
      "text/markdown": [
       "\n",
       "#### Таблица: `filestorage_forbiddenfilecharacter`"
      ],
      "text/plain": [
       "<IPython.core.display.Markdown object>"
      ]
     },
     "metadata": {},
     "output_type": "display_data"
    },
    {
     "data": {
      "text/markdown": [
       "\n",
       "##### Схема:"
      ],
      "text/plain": [
       "<IPython.core.display.Markdown object>"
      ]
     },
     "metadata": {},
     "output_type": "display_data"
    },
    {
     "name": "stderr",
     "output_type": "stream",
     "text": [
      "/tmp/ipykernel_450849/82215137.py:49: UserWarning: pandas only supports SQLAlchemy connectable (engine/connection) or database string URI or sqlite3 DBAPI2 connection. Other DBAPI2 objects are not tested. Please consider using SQLAlchemy.\n",
      "  df = pd.read_sql_query(query, conn)\n"
     ]
    },
    {
     "data": {
      "text/html": [
       "<div>\n",
       "<style scoped>\n",
       "    .dataframe tbody tr th:only-of-type {\n",
       "        vertical-align: middle;\n",
       "    }\n",
       "\n",
       "    .dataframe tbody tr th {\n",
       "        vertical-align: top;\n",
       "    }\n",
       "\n",
       "    .dataframe thead th {\n",
       "        text-align: right;\n",
       "    }\n",
       "</style>\n",
       "<table border=\"1\" class=\"dataframe\">\n",
       "  <thead>\n",
       "    <tr style=\"text-align: right;\">\n",
       "      <th></th>\n",
       "      <th>column_name</th>\n",
       "      <th>data_type</th>\n",
       "      <th>is_nullable</th>\n",
       "      <th>column_default</th>\n",
       "    </tr>\n",
       "  </thead>\n",
       "  <tbody>\n",
       "    <tr>\n",
       "      <th>0</th>\n",
       "      <td>id</td>\n",
       "      <td>bigint</td>\n",
       "      <td>NO</td>\n",
       "      <td>nextval('filestorage_forbiddenfilecharacter_id...</td>\n",
       "    </tr>\n",
       "    <tr>\n",
       "      <th>1</th>\n",
       "      <td>character</td>\n",
       "      <td>character varying</td>\n",
       "      <td>NO</td>\n",
       "      <td>None</td>\n",
       "    </tr>\n",
       "  </tbody>\n",
       "</table>\n",
       "</div>"
      ],
      "text/plain": [
       "  column_name          data_type is_nullable                                     column_default\n",
       "0          id             bigint          NO  nextval('filestorage_forbiddenfilecharacter_id...\n",
       "1   character  character varying          NO                                               None"
      ]
     },
     "metadata": {},
     "output_type": "display_data"
    },
    {
     "data": {
      "text/markdown": [
       "\n",
       "##### Ограничения (PK, FK):"
      ],
      "text/plain": [
       "<IPython.core.display.Markdown object>"
      ]
     },
     "metadata": {},
     "output_type": "display_data"
    },
    {
     "name": "stderr",
     "output_type": "stream",
     "text": [
      "/tmp/ipykernel_450849/82215137.py:79: UserWarning: pandas only supports SQLAlchemy connectable (engine/connection) or database string URI or sqlite3 DBAPI2 connection. Other DBAPI2 objects are not tested. Please consider using SQLAlchemy.\n",
      "  df = pd.read_sql_query(query, conn)\n"
     ]
    },
    {
     "data": {
      "text/html": [
       "<div>\n",
       "<style scoped>\n",
       "    .dataframe tbody tr th:only-of-type {\n",
       "        vertical-align: middle;\n",
       "    }\n",
       "\n",
       "    .dataframe tbody tr th {\n",
       "        vertical-align: top;\n",
       "    }\n",
       "\n",
       "    .dataframe thead th {\n",
       "        text-align: right;\n",
       "    }\n",
       "</style>\n",
       "<table border=\"1\" class=\"dataframe\">\n",
       "  <thead>\n",
       "    <tr style=\"text-align: right;\">\n",
       "      <th></th>\n",
       "      <th>constraint_name</th>\n",
       "      <th>constraint_type</th>\n",
       "      <th>column_name</th>\n",
       "      <th>foreign_table_name</th>\n",
       "      <th>foreign_column_name</th>\n",
       "    </tr>\n",
       "  </thead>\n",
       "  <tbody>\n",
       "    <tr>\n",
       "      <th>0</th>\n",
       "      <td>filestorage_forbiddenfilecharacter_pkey</td>\n",
       "      <td>PRIMARY KEY</td>\n",
       "      <td>id</td>\n",
       "      <td>filestorage_forbiddenfilecharacter</td>\n",
       "      <td>id</td>\n",
       "    </tr>\n",
       "    <tr>\n",
       "      <th>1</th>\n",
       "      <td>filestorage_forbiddenfilecharacter_character_key</td>\n",
       "      <td>UNIQUE</td>\n",
       "      <td>character</td>\n",
       "      <td>filestorage_forbiddenfilecharacter</td>\n",
       "      <td>character</td>\n",
       "    </tr>\n",
       "  </tbody>\n",
       "</table>\n",
       "</div>"
      ],
      "text/plain": [
       "                                    constraint_name constraint_type column_name                  foreign_table_name foreign_column_name\n",
       "0           filestorage_forbiddenfilecharacter_pkey     PRIMARY KEY          id  filestorage_forbiddenfilecharacter                  id\n",
       "1  filestorage_forbiddenfilecharacter_character_key          UNIQUE   character  filestorage_forbiddenfilecharacter           character"
      ]
     },
     "metadata": {},
     "output_type": "display_data"
    },
    {
     "data": {
      "text/markdown": [
       "\n",
       "#### Таблица: `filestorage_forbiddenfilename`"
      ],
      "text/plain": [
       "<IPython.core.display.Markdown object>"
      ]
     },
     "metadata": {},
     "output_type": "display_data"
    },
    {
     "data": {
      "text/markdown": [
       "\n",
       "##### Схема:"
      ],
      "text/plain": [
       "<IPython.core.display.Markdown object>"
      ]
     },
     "metadata": {},
     "output_type": "display_data"
    },
    {
     "name": "stderr",
     "output_type": "stream",
     "text": [
      "/tmp/ipykernel_450849/82215137.py:49: UserWarning: pandas only supports SQLAlchemy connectable (engine/connection) or database string URI or sqlite3 DBAPI2 connection. Other DBAPI2 objects are not tested. Please consider using SQLAlchemy.\n",
      "  df = pd.read_sql_query(query, conn)\n"
     ]
    },
    {
     "data": {
      "text/html": [
       "<div>\n",
       "<style scoped>\n",
       "    .dataframe tbody tr th:only-of-type {\n",
       "        vertical-align: middle;\n",
       "    }\n",
       "\n",
       "    .dataframe tbody tr th {\n",
       "        vertical-align: top;\n",
       "    }\n",
       "\n",
       "    .dataframe thead th {\n",
       "        text-align: right;\n",
       "    }\n",
       "</style>\n",
       "<table border=\"1\" class=\"dataframe\">\n",
       "  <thead>\n",
       "    <tr style=\"text-align: right;\">\n",
       "      <th></th>\n",
       "      <th>column_name</th>\n",
       "      <th>data_type</th>\n",
       "      <th>is_nullable</th>\n",
       "      <th>column_default</th>\n",
       "    </tr>\n",
       "  </thead>\n",
       "  <tbody>\n",
       "    <tr>\n",
       "      <th>0</th>\n",
       "      <td>id</td>\n",
       "      <td>bigint</td>\n",
       "      <td>NO</td>\n",
       "      <td>nextval('filestorage_forbiddenfilename_id_seq'...</td>\n",
       "    </tr>\n",
       "    <tr>\n",
       "      <th>1</th>\n",
       "      <td>filename</td>\n",
       "      <td>character varying</td>\n",
       "      <td>NO</td>\n",
       "      <td>None</td>\n",
       "    </tr>\n",
       "  </tbody>\n",
       "</table>\n",
       "</div>"
      ],
      "text/plain": [
       "  column_name          data_type is_nullable                                     column_default\n",
       "0          id             bigint          NO  nextval('filestorage_forbiddenfilename_id_seq'...\n",
       "1    filename  character varying          NO                                               None"
      ]
     },
     "metadata": {},
     "output_type": "display_data"
    },
    {
     "data": {
      "text/markdown": [
       "\n",
       "##### Ограничения (PK, FK):"
      ],
      "text/plain": [
       "<IPython.core.display.Markdown object>"
      ]
     },
     "metadata": {},
     "output_type": "display_data"
    },
    {
     "name": "stderr",
     "output_type": "stream",
     "text": [
      "/tmp/ipykernel_450849/82215137.py:79: UserWarning: pandas only supports SQLAlchemy connectable (engine/connection) or database string URI or sqlite3 DBAPI2 connection. Other DBAPI2 objects are not tested. Please consider using SQLAlchemy.\n",
      "  df = pd.read_sql_query(query, conn)\n"
     ]
    },
    {
     "data": {
      "text/html": [
       "<div>\n",
       "<style scoped>\n",
       "    .dataframe tbody tr th:only-of-type {\n",
       "        vertical-align: middle;\n",
       "    }\n",
       "\n",
       "    .dataframe tbody tr th {\n",
       "        vertical-align: top;\n",
       "    }\n",
       "\n",
       "    .dataframe thead th {\n",
       "        text-align: right;\n",
       "    }\n",
       "</style>\n",
       "<table border=\"1\" class=\"dataframe\">\n",
       "  <thead>\n",
       "    <tr style=\"text-align: right;\">\n",
       "      <th></th>\n",
       "      <th>constraint_name</th>\n",
       "      <th>constraint_type</th>\n",
       "      <th>column_name</th>\n",
       "      <th>foreign_table_name</th>\n",
       "      <th>foreign_column_name</th>\n",
       "    </tr>\n",
       "  </thead>\n",
       "  <tbody>\n",
       "    <tr>\n",
       "      <th>0</th>\n",
       "      <td>filestorage_forbiddenfilename_pkey</td>\n",
       "      <td>PRIMARY KEY</td>\n",
       "      <td>id</td>\n",
       "      <td>filestorage_forbiddenfilename</td>\n",
       "      <td>id</td>\n",
       "    </tr>\n",
       "    <tr>\n",
       "      <th>1</th>\n",
       "      <td>filestorage_forbiddenfilename_filename_key</td>\n",
       "      <td>UNIQUE</td>\n",
       "      <td>filename</td>\n",
       "      <td>filestorage_forbiddenfilename</td>\n",
       "      <td>filename</td>\n",
       "    </tr>\n",
       "  </tbody>\n",
       "</table>\n",
       "</div>"
      ],
      "text/plain": [
       "                              constraint_name constraint_type column_name             foreign_table_name foreign_column_name\n",
       "0          filestorage_forbiddenfilename_pkey     PRIMARY KEY          id  filestorage_forbiddenfilename                  id\n",
       "1  filestorage_forbiddenfilename_filename_key          UNIQUE    filename  filestorage_forbiddenfilename            filename"
      ]
     },
     "metadata": {},
     "output_type": "display_data"
    },
    {
     "data": {
      "text/markdown": [
       "\n",
       "#### Таблица: `keycloak_rolepermissions`"
      ],
      "text/plain": [
       "<IPython.core.display.Markdown object>"
      ]
     },
     "metadata": {},
     "output_type": "display_data"
    },
    {
     "data": {
      "text/markdown": [
       "\n",
       "##### Схема:"
      ],
      "text/plain": [
       "<IPython.core.display.Markdown object>"
      ]
     },
     "metadata": {},
     "output_type": "display_data"
    },
    {
     "name": "stderr",
     "output_type": "stream",
     "text": [
      "/tmp/ipykernel_450849/82215137.py:49: UserWarning: pandas only supports SQLAlchemy connectable (engine/connection) or database string URI or sqlite3 DBAPI2 connection. Other DBAPI2 objects are not tested. Please consider using SQLAlchemy.\n",
      "  df = pd.read_sql_query(query, conn)\n"
     ]
    },
    {
     "data": {
      "text/html": [
       "<div>\n",
       "<style scoped>\n",
       "    .dataframe tbody tr th:only-of-type {\n",
       "        vertical-align: middle;\n",
       "    }\n",
       "\n",
       "    .dataframe tbody tr th {\n",
       "        vertical-align: top;\n",
       "    }\n",
       "\n",
       "    .dataframe thead th {\n",
       "        text-align: right;\n",
       "    }\n",
       "</style>\n",
       "<table border=\"1\" class=\"dataframe\">\n",
       "  <thead>\n",
       "    <tr style=\"text-align: right;\">\n",
       "      <th></th>\n",
       "      <th>column_name</th>\n",
       "      <th>data_type</th>\n",
       "      <th>is_nullable</th>\n",
       "      <th>column_default</th>\n",
       "    </tr>\n",
       "  </thead>\n",
       "  <tbody>\n",
       "    <tr>\n",
       "      <th>0</th>\n",
       "      <td>id</td>\n",
       "      <td>integer</td>\n",
       "      <td>NO</td>\n",
       "      <td>nextval('keycloak_rolepermissions_id_seq'::reg...</td>\n",
       "    </tr>\n",
       "    <tr>\n",
       "      <th>1</th>\n",
       "      <td>keycloak_role</td>\n",
       "      <td>character varying</td>\n",
       "      <td>NO</td>\n",
       "      <td>None</td>\n",
       "    </tr>\n",
       "  </tbody>\n",
       "</table>\n",
       "</div>"
      ],
      "text/plain": [
       "     column_name          data_type is_nullable                                     column_default\n",
       "0             id            integer          NO  nextval('keycloak_rolepermissions_id_seq'::reg...\n",
       "1  keycloak_role  character varying          NO                                               None"
      ]
     },
     "metadata": {},
     "output_type": "display_data"
    },
    {
     "data": {
      "text/markdown": [
       "\n",
       "##### Ограничения (PK, FK):"
      ],
      "text/plain": [
       "<IPython.core.display.Markdown object>"
      ]
     },
     "metadata": {},
     "output_type": "display_data"
    },
    {
     "name": "stderr",
     "output_type": "stream",
     "text": [
      "/tmp/ipykernel_450849/82215137.py:79: UserWarning: pandas only supports SQLAlchemy connectable (engine/connection) or database string URI or sqlite3 DBAPI2 connection. Other DBAPI2 objects are not tested. Please consider using SQLAlchemy.\n",
      "  df = pd.read_sql_query(query, conn)\n"
     ]
    },
    {
     "data": {
      "text/html": [
       "<div>\n",
       "<style scoped>\n",
       "    .dataframe tbody tr th:only-of-type {\n",
       "        vertical-align: middle;\n",
       "    }\n",
       "\n",
       "    .dataframe tbody tr th {\n",
       "        vertical-align: top;\n",
       "    }\n",
       "\n",
       "    .dataframe thead th {\n",
       "        text-align: right;\n",
       "    }\n",
       "</style>\n",
       "<table border=\"1\" class=\"dataframe\">\n",
       "  <thead>\n",
       "    <tr style=\"text-align: right;\">\n",
       "      <th></th>\n",
       "      <th>constraint_name</th>\n",
       "      <th>constraint_type</th>\n",
       "      <th>column_name</th>\n",
       "      <th>foreign_table_name</th>\n",
       "      <th>foreign_column_name</th>\n",
       "    </tr>\n",
       "  </thead>\n",
       "  <tbody>\n",
       "    <tr>\n",
       "      <th>0</th>\n",
       "      <td>keycloak_rolepermissions_pkey</td>\n",
       "      <td>PRIMARY KEY</td>\n",
       "      <td>id</td>\n",
       "      <td>keycloak_rolepermissions</td>\n",
       "      <td>id</td>\n",
       "    </tr>\n",
       "  </tbody>\n",
       "</table>\n",
       "</div>"
      ],
      "text/plain": [
       "                 constraint_name constraint_type column_name        foreign_table_name foreign_column_name\n",
       "0  keycloak_rolepermissions_pkey     PRIMARY KEY          id  keycloak_rolepermissions                  id"
      ]
     },
     "metadata": {},
     "output_type": "display_data"
    },
    {
     "data": {
      "text/markdown": [
       "\n",
       "#### Таблица: `keycloak_rolepermissions_permissions`"
      ],
      "text/plain": [
       "<IPython.core.display.Markdown object>"
      ]
     },
     "metadata": {},
     "output_type": "display_data"
    },
    {
     "data": {
      "text/markdown": [
       "\n",
       "##### Схема:"
      ],
      "text/plain": [
       "<IPython.core.display.Markdown object>"
      ]
     },
     "metadata": {},
     "output_type": "display_data"
    },
    {
     "name": "stderr",
     "output_type": "stream",
     "text": [
      "/tmp/ipykernel_450849/82215137.py:49: UserWarning: pandas only supports SQLAlchemy connectable (engine/connection) or database string URI or sqlite3 DBAPI2 connection. Other DBAPI2 objects are not tested. Please consider using SQLAlchemy.\n",
      "  df = pd.read_sql_query(query, conn)\n"
     ]
    },
    {
     "data": {
      "text/html": [
       "<div>\n",
       "<style scoped>\n",
       "    .dataframe tbody tr th:only-of-type {\n",
       "        vertical-align: middle;\n",
       "    }\n",
       "\n",
       "    .dataframe tbody tr th {\n",
       "        vertical-align: top;\n",
       "    }\n",
       "\n",
       "    .dataframe thead th {\n",
       "        text-align: right;\n",
       "    }\n",
       "</style>\n",
       "<table border=\"1\" class=\"dataframe\">\n",
       "  <thead>\n",
       "    <tr style=\"text-align: right;\">\n",
       "      <th></th>\n",
       "      <th>column_name</th>\n",
       "      <th>data_type</th>\n",
       "      <th>is_nullable</th>\n",
       "      <th>column_default</th>\n",
       "    </tr>\n",
       "  </thead>\n",
       "  <tbody>\n",
       "    <tr>\n",
       "      <th>0</th>\n",
       "      <td>id</td>\n",
       "      <td>bigint</td>\n",
       "      <td>NO</td>\n",
       "      <td>nextval('keycloak_rolepermissions_permissions_...</td>\n",
       "    </tr>\n",
       "    <tr>\n",
       "      <th>1</th>\n",
       "      <td>rolepermissions_id</td>\n",
       "      <td>integer</td>\n",
       "      <td>NO</td>\n",
       "      <td>None</td>\n",
       "    </tr>\n",
       "    <tr>\n",
       "      <th>2</th>\n",
       "      <td>permission_id</td>\n",
       "      <td>integer</td>\n",
       "      <td>NO</td>\n",
       "      <td>None</td>\n",
       "    </tr>\n",
       "  </tbody>\n",
       "</table>\n",
       "</div>"
      ],
      "text/plain": [
       "          column_name data_type is_nullable                                     column_default\n",
       "0                  id    bigint          NO  nextval('keycloak_rolepermissions_permissions_...\n",
       "1  rolepermissions_id   integer          NO                                               None\n",
       "2       permission_id   integer          NO                                               None"
      ]
     },
     "metadata": {},
     "output_type": "display_data"
    },
    {
     "data": {
      "text/markdown": [
       "\n",
       "##### Ограничения (PK, FK):"
      ],
      "text/plain": [
       "<IPython.core.display.Markdown object>"
      ]
     },
     "metadata": {},
     "output_type": "display_data"
    },
    {
     "name": "stderr",
     "output_type": "stream",
     "text": [
      "/tmp/ipykernel_450849/82215137.py:79: UserWarning: pandas only supports SQLAlchemy connectable (engine/connection) or database string URI or sqlite3 DBAPI2 connection. Other DBAPI2 objects are not tested. Please consider using SQLAlchemy.\n",
      "  df = pd.read_sql_query(query, conn)\n"
     ]
    },
    {
     "data": {
      "text/html": [
       "<div>\n",
       "<style scoped>\n",
       "    .dataframe tbody tr th:only-of-type {\n",
       "        vertical-align: middle;\n",
       "    }\n",
       "\n",
       "    .dataframe tbody tr th {\n",
       "        vertical-align: top;\n",
       "    }\n",
       "\n",
       "    .dataframe thead th {\n",
       "        text-align: right;\n",
       "    }\n",
       "</style>\n",
       "<table border=\"1\" class=\"dataframe\">\n",
       "  <thead>\n",
       "    <tr style=\"text-align: right;\">\n",
       "      <th></th>\n",
       "      <th>constraint_name</th>\n",
       "      <th>constraint_type</th>\n",
       "      <th>column_name</th>\n",
       "      <th>foreign_table_name</th>\n",
       "      <th>foreign_column_name</th>\n",
       "    </tr>\n",
       "  </thead>\n",
       "  <tbody>\n",
       "    <tr>\n",
       "      <th>0</th>\n",
       "      <td>keycloak_rolepermiss_permission_id_c7eb30c1_fk...</td>\n",
       "      <td>FOREIGN KEY</td>\n",
       "      <td>permission_id</td>\n",
       "      <td>auth_permission</td>\n",
       "      <td>id</td>\n",
       "    </tr>\n",
       "    <tr>\n",
       "      <th>1</th>\n",
       "      <td>keycloak_rolepermiss_rolepermissions_id_56dabd...</td>\n",
       "      <td>FOREIGN KEY</td>\n",
       "      <td>rolepermissions_id</td>\n",
       "      <td>keycloak_rolepermissions</td>\n",
       "      <td>id</td>\n",
       "    </tr>\n",
       "    <tr>\n",
       "      <th>2</th>\n",
       "      <td>keycloak_rolepermissions_permissions_pkey</td>\n",
       "      <td>PRIMARY KEY</td>\n",
       "      <td>id</td>\n",
       "      <td>keycloak_rolepermissions_permissions</td>\n",
       "      <td>id</td>\n",
       "    </tr>\n",
       "    <tr>\n",
       "      <th>3</th>\n",
       "      <td>keycloak_rolepermissions_rolepermissions_id_pe...</td>\n",
       "      <td>UNIQUE</td>\n",
       "      <td>rolepermissions_id</td>\n",
       "      <td>keycloak_rolepermissions_permissions</td>\n",
       "      <td>permission_id</td>\n",
       "    </tr>\n",
       "    <tr>\n",
       "      <th>4</th>\n",
       "      <td>keycloak_rolepermissions_rolepermissions_id_pe...</td>\n",
       "      <td>UNIQUE</td>\n",
       "      <td>rolepermissions_id</td>\n",
       "      <td>keycloak_rolepermissions_permissions</td>\n",
       "      <td>rolepermissions_id</td>\n",
       "    </tr>\n",
       "    <tr>\n",
       "      <th>5</th>\n",
       "      <td>keycloak_rolepermissions_rolepermissions_id_pe...</td>\n",
       "      <td>UNIQUE</td>\n",
       "      <td>permission_id</td>\n",
       "      <td>keycloak_rolepermissions_permissions</td>\n",
       "      <td>rolepermissions_id</td>\n",
       "    </tr>\n",
       "    <tr>\n",
       "      <th>6</th>\n",
       "      <td>keycloak_rolepermissions_rolepermissions_id_pe...</td>\n",
       "      <td>UNIQUE</td>\n",
       "      <td>permission_id</td>\n",
       "      <td>keycloak_rolepermissions_permissions</td>\n",
       "      <td>permission_id</td>\n",
       "    </tr>\n",
       "  </tbody>\n",
       "</table>\n",
       "</div>"
      ],
      "text/plain": [
       "                                     constraint_name constraint_type         column_name                    foreign_table_name foreign_column_name\n",
       "0  keycloak_rolepermiss_permission_id_c7eb30c1_fk...     FOREIGN KEY       permission_id                       auth_permission                  id\n",
       "1  keycloak_rolepermiss_rolepermissions_id_56dabd...     FOREIGN KEY  rolepermissions_id              keycloak_rolepermissions                  id\n",
       "2          keycloak_rolepermissions_permissions_pkey     PRIMARY KEY                  id  keycloak_rolepermissions_permissions                  id\n",
       "3  keycloak_rolepermissions_rolepermissions_id_pe...          UNIQUE  rolepermissions_id  keycloak_rolepermissions_permissions       permission_id\n",
       "4  keycloak_rolepermissions_rolepermissions_id_pe...          UNIQUE  rolepermissions_id  keycloak_rolepermissions_permissions  rolepermissions_id\n",
       "5  keycloak_rolepermissions_rolepermissions_id_pe...          UNIQUE       permission_id  keycloak_rolepermissions_permissions  rolepermissions_id\n",
       "6  keycloak_rolepermissions_rolepermissions_id_pe...          UNIQUE       permission_id  keycloak_rolepermissions_permissions       permission_id"
      ]
     },
     "metadata": {},
     "output_type": "display_data"
    },
    {
     "data": {
      "text/markdown": [
       "\n",
       "#### Таблица: `keycloak_userprofilekeycloak`"
      ],
      "text/plain": [
       "<IPython.core.display.Markdown object>"
      ]
     },
     "metadata": {},
     "output_type": "display_data"
    },
    {
     "data": {
      "text/markdown": [
       "\n",
       "##### Схема:"
      ],
      "text/plain": [
       "<IPython.core.display.Markdown object>"
      ]
     },
     "metadata": {},
     "output_type": "display_data"
    },
    {
     "name": "stderr",
     "output_type": "stream",
     "text": [
      "/tmp/ipykernel_450849/82215137.py:49: UserWarning: pandas only supports SQLAlchemy connectable (engine/connection) or database string URI or sqlite3 DBAPI2 connection. Other DBAPI2 objects are not tested. Please consider using SQLAlchemy.\n",
      "  df = pd.read_sql_query(query, conn)\n"
     ]
    },
    {
     "data": {
      "text/html": [
       "<div>\n",
       "<style scoped>\n",
       "    .dataframe tbody tr th:only-of-type {\n",
       "        vertical-align: middle;\n",
       "    }\n",
       "\n",
       "    .dataframe tbody tr th {\n",
       "        vertical-align: top;\n",
       "    }\n",
       "\n",
       "    .dataframe thead th {\n",
       "        text-align: right;\n",
       "    }\n",
       "</style>\n",
       "<table border=\"1\" class=\"dataframe\">\n",
       "  <thead>\n",
       "    <tr style=\"text-align: right;\">\n",
       "      <th></th>\n",
       "      <th>column_name</th>\n",
       "      <th>data_type</th>\n",
       "      <th>is_nullable</th>\n",
       "      <th>column_default</th>\n",
       "    </tr>\n",
       "  </thead>\n",
       "  <tbody>\n",
       "    <tr>\n",
       "      <th>0</th>\n",
       "      <td>id</td>\n",
       "      <td>integer</td>\n",
       "      <td>NO</td>\n",
       "      <td>nextval('keycloak_userprofilekeycloak_id_seq':...</td>\n",
       "    </tr>\n",
       "    <tr>\n",
       "      <th>1</th>\n",
       "      <td>keycloak_id</td>\n",
       "      <td>character varying</td>\n",
       "      <td>NO</td>\n",
       "      <td>None</td>\n",
       "    </tr>\n",
       "    <tr>\n",
       "      <th>2</th>\n",
       "      <td>keycloak_roles</td>\n",
       "      <td>character varying</td>\n",
       "      <td>YES</td>\n",
       "      <td>None</td>\n",
       "    </tr>\n",
       "    <tr>\n",
       "      <th>3</th>\n",
       "      <td>user_id</td>\n",
       "      <td>integer</td>\n",
       "      <td>NO</td>\n",
       "      <td>None</td>\n",
       "    </tr>\n",
       "    <tr>\n",
       "      <th>4</th>\n",
       "      <td>roles_and_permissions_as_dict</td>\n",
       "      <td>text</td>\n",
       "      <td>YES</td>\n",
       "      <td>None</td>\n",
       "    </tr>\n",
       "  </tbody>\n",
       "</table>\n",
       "</div>"
      ],
      "text/plain": [
       "                     column_name          data_type is_nullable                                     column_default\n",
       "0                             id            integer          NO  nextval('keycloak_userprofilekeycloak_id_seq':...\n",
       "1                    keycloak_id  character varying          NO                                               None\n",
       "2                 keycloak_roles  character varying         YES                                               None\n",
       "3                        user_id            integer          NO                                               None\n",
       "4  roles_and_permissions_as_dict               text         YES                                               None"
      ]
     },
     "metadata": {},
     "output_type": "display_data"
    },
    {
     "data": {
      "text/markdown": [
       "\n",
       "##### Ограничения (PK, FK):"
      ],
      "text/plain": [
       "<IPython.core.display.Markdown object>"
      ]
     },
     "metadata": {},
     "output_type": "display_data"
    },
    {
     "name": "stderr",
     "output_type": "stream",
     "text": [
      "/tmp/ipykernel_450849/82215137.py:79: UserWarning: pandas only supports SQLAlchemy connectable (engine/connection) or database string URI or sqlite3 DBAPI2 connection. Other DBAPI2 objects are not tested. Please consider using SQLAlchemy.\n",
      "  df = pd.read_sql_query(query, conn)\n"
     ]
    },
    {
     "data": {
      "text/html": [
       "<div>\n",
       "<style scoped>\n",
       "    .dataframe tbody tr th:only-of-type {\n",
       "        vertical-align: middle;\n",
       "    }\n",
       "\n",
       "    .dataframe tbody tr th {\n",
       "        vertical-align: top;\n",
       "    }\n",
       "\n",
       "    .dataframe thead th {\n",
       "        text-align: right;\n",
       "    }\n",
       "</style>\n",
       "<table border=\"1\" class=\"dataframe\">\n",
       "  <thead>\n",
       "    <tr style=\"text-align: right;\">\n",
       "      <th></th>\n",
       "      <th>constraint_name</th>\n",
       "      <th>constraint_type</th>\n",
       "      <th>column_name</th>\n",
       "      <th>foreign_table_name</th>\n",
       "      <th>foreign_column_name</th>\n",
       "    </tr>\n",
       "  </thead>\n",
       "  <tbody>\n",
       "    <tr>\n",
       "      <th>0</th>\n",
       "      <td>keycloak_userprofilekeycloak_user_id_c0e21bb7_...</td>\n",
       "      <td>FOREIGN KEY</td>\n",
       "      <td>user_id</td>\n",
       "      <td>auth_user</td>\n",
       "      <td>id</td>\n",
       "    </tr>\n",
       "    <tr>\n",
       "      <th>1</th>\n",
       "      <td>keycloak_userprofilekeycloak_pkey</td>\n",
       "      <td>PRIMARY KEY</td>\n",
       "      <td>id</td>\n",
       "      <td>keycloak_userprofilekeycloak</td>\n",
       "      <td>id</td>\n",
       "    </tr>\n",
       "    <tr>\n",
       "      <th>2</th>\n",
       "      <td>keycloak_userprofilekeycloak_keycloak_id_58dff...</td>\n",
       "      <td>UNIQUE</td>\n",
       "      <td>keycloak_id</td>\n",
       "      <td>keycloak_userprofilekeycloak</td>\n",
       "      <td>keycloak_id</td>\n",
       "    </tr>\n",
       "    <tr>\n",
       "      <th>3</th>\n",
       "      <td>keycloak_userprofilekeycloak_user_id_key</td>\n",
       "      <td>UNIQUE</td>\n",
       "      <td>user_id</td>\n",
       "      <td>keycloak_userprofilekeycloak</td>\n",
       "      <td>user_id</td>\n",
       "    </tr>\n",
       "  </tbody>\n",
       "</table>\n",
       "</div>"
      ],
      "text/plain": [
       "                                     constraint_name constraint_type  column_name            foreign_table_name foreign_column_name\n",
       "0  keycloak_userprofilekeycloak_user_id_c0e21bb7_...     FOREIGN KEY      user_id                     auth_user                  id\n",
       "1                  keycloak_userprofilekeycloak_pkey     PRIMARY KEY           id  keycloak_userprofilekeycloak                  id\n",
       "2  keycloak_userprofilekeycloak_keycloak_id_58dff...          UNIQUE  keycloak_id  keycloak_userprofilekeycloak         keycloak_id\n",
       "3           keycloak_userprofilekeycloak_user_id_key          UNIQUE      user_id  keycloak_userprofilekeycloak             user_id"
      ]
     },
     "metadata": {},
     "output_type": "display_data"
    },
    {
     "data": {
      "text/markdown": [
       "\n",
       "#### Таблица: `management_commands_command`"
      ],
      "text/plain": [
       "<IPython.core.display.Markdown object>"
      ]
     },
     "metadata": {},
     "output_type": "display_data"
    },
    {
     "data": {
      "text/markdown": [
       "\n",
       "##### Схема:"
      ],
      "text/plain": [
       "<IPython.core.display.Markdown object>"
      ]
     },
     "metadata": {},
     "output_type": "display_data"
    },
    {
     "name": "stderr",
     "output_type": "stream",
     "text": [
      "/tmp/ipykernel_450849/82215137.py:49: UserWarning: pandas only supports SQLAlchemy connectable (engine/connection) or database string URI or sqlite3 DBAPI2 connection. Other DBAPI2 objects are not tested. Please consider using SQLAlchemy.\n",
      "  df = pd.read_sql_query(query, conn)\n"
     ]
    },
    {
     "data": {
      "text/html": [
       "<div>\n",
       "<style scoped>\n",
       "    .dataframe tbody tr th:only-of-type {\n",
       "        vertical-align: middle;\n",
       "    }\n",
       "\n",
       "    .dataframe tbody tr th {\n",
       "        vertical-align: top;\n",
       "    }\n",
       "\n",
       "    .dataframe thead th {\n",
       "        text-align: right;\n",
       "    }\n",
       "</style>\n",
       "<table border=\"1\" class=\"dataframe\">\n",
       "  <thead>\n",
       "    <tr style=\"text-align: right;\">\n",
       "      <th></th>\n",
       "      <th>column_name</th>\n",
       "      <th>data_type</th>\n",
       "      <th>is_nullable</th>\n",
       "      <th>column_default</th>\n",
       "    </tr>\n",
       "  </thead>\n",
       "  <tbody>\n",
       "    <tr>\n",
       "      <th>0</th>\n",
       "      <td>id</td>\n",
       "      <td>bigint</td>\n",
       "      <td>NO</td>\n",
       "      <td>nextval('management_commands_command_id_seq'::...</td>\n",
       "    </tr>\n",
       "    <tr>\n",
       "      <th>1</th>\n",
       "      <td>module_name</td>\n",
       "      <td>text</td>\n",
       "      <td>NO</td>\n",
       "      <td>None</td>\n",
       "    </tr>\n",
       "    <tr>\n",
       "      <th>2</th>\n",
       "      <td>name</td>\n",
       "      <td>text</td>\n",
       "      <td>NO</td>\n",
       "      <td>None</td>\n",
       "    </tr>\n",
       "    <tr>\n",
       "      <th>3</th>\n",
       "      <td>created_at</td>\n",
       "      <td>timestamp with time zone</td>\n",
       "      <td>NO</td>\n",
       "      <td>None</td>\n",
       "    </tr>\n",
       "  </tbody>\n",
       "</table>\n",
       "</div>"
      ],
      "text/plain": [
       "   column_name                 data_type is_nullable                                     column_default\n",
       "0           id                    bigint          NO  nextval('management_commands_command_id_seq'::...\n",
       "1  module_name                      text          NO                                               None\n",
       "2         name                      text          NO                                               None\n",
       "3   created_at  timestamp with time zone          NO                                               None"
      ]
     },
     "metadata": {},
     "output_type": "display_data"
    },
    {
     "data": {
      "text/markdown": [
       "\n",
       "##### Ограничения (PK, FK):"
      ],
      "text/plain": [
       "<IPython.core.display.Markdown object>"
      ]
     },
     "metadata": {},
     "output_type": "display_data"
    },
    {
     "name": "stderr",
     "output_type": "stream",
     "text": [
      "/tmp/ipykernel_450849/82215137.py:79: UserWarning: pandas only supports SQLAlchemy connectable (engine/connection) or database string URI or sqlite3 DBAPI2 connection. Other DBAPI2 objects are not tested. Please consider using SQLAlchemy.\n",
      "  df = pd.read_sql_query(query, conn)\n"
     ]
    },
    {
     "data": {
      "text/html": [
       "<div>\n",
       "<style scoped>\n",
       "    .dataframe tbody tr th:only-of-type {\n",
       "        vertical-align: middle;\n",
       "    }\n",
       "\n",
       "    .dataframe tbody tr th {\n",
       "        vertical-align: top;\n",
       "    }\n",
       "\n",
       "    .dataframe thead th {\n",
       "        text-align: right;\n",
       "    }\n",
       "</style>\n",
       "<table border=\"1\" class=\"dataframe\">\n",
       "  <thead>\n",
       "    <tr style=\"text-align: right;\">\n",
       "      <th></th>\n",
       "      <th>constraint_name</th>\n",
       "      <th>constraint_type</th>\n",
       "      <th>column_name</th>\n",
       "      <th>foreign_table_name</th>\n",
       "      <th>foreign_column_name</th>\n",
       "    </tr>\n",
       "  </thead>\n",
       "  <tbody>\n",
       "    <tr>\n",
       "      <th>0</th>\n",
       "      <td>management_commands_command_pkey</td>\n",
       "      <td>PRIMARY KEY</td>\n",
       "      <td>id</td>\n",
       "      <td>management_commands_command</td>\n",
       "      <td>id</td>\n",
       "    </tr>\n",
       "    <tr>\n",
       "      <th>1</th>\n",
       "      <td>management_commands_command_name_module_name_0...</td>\n",
       "      <td>UNIQUE</td>\n",
       "      <td>name</td>\n",
       "      <td>management_commands_command</td>\n",
       "      <td>module_name</td>\n",
       "    </tr>\n",
       "    <tr>\n",
       "      <th>2</th>\n",
       "      <td>management_commands_command_name_module_name_0...</td>\n",
       "      <td>UNIQUE</td>\n",
       "      <td>name</td>\n",
       "      <td>management_commands_command</td>\n",
       "      <td>name</td>\n",
       "    </tr>\n",
       "    <tr>\n",
       "      <th>3</th>\n",
       "      <td>management_commands_command_name_module_name_0...</td>\n",
       "      <td>UNIQUE</td>\n",
       "      <td>module_name</td>\n",
       "      <td>management_commands_command</td>\n",
       "      <td>module_name</td>\n",
       "    </tr>\n",
       "    <tr>\n",
       "      <th>4</th>\n",
       "      <td>management_commands_command_name_module_name_0...</td>\n",
       "      <td>UNIQUE</td>\n",
       "      <td>module_name</td>\n",
       "      <td>management_commands_command</td>\n",
       "      <td>name</td>\n",
       "    </tr>\n",
       "  </tbody>\n",
       "</table>\n",
       "</div>"
      ],
      "text/plain": [
       "                                     constraint_name constraint_type  column_name           foreign_table_name foreign_column_name\n",
       "0                   management_commands_command_pkey     PRIMARY KEY           id  management_commands_command                  id\n",
       "1  management_commands_command_name_module_name_0...          UNIQUE         name  management_commands_command         module_name\n",
       "2  management_commands_command_name_module_name_0...          UNIQUE         name  management_commands_command                name\n",
       "3  management_commands_command_name_module_name_0...          UNIQUE  module_name  management_commands_command         module_name\n",
       "4  management_commands_command_name_module_name_0...          UNIQUE  module_name  management_commands_command                name"
      ]
     },
     "metadata": {},
     "output_type": "display_data"
    },
    {
     "data": {
      "text/markdown": [
       "\n",
       "#### Таблица: `management_commands_commandrun`"
      ],
      "text/plain": [
       "<IPython.core.display.Markdown object>"
      ]
     },
     "metadata": {},
     "output_type": "display_data"
    },
    {
     "data": {
      "text/markdown": [
       "\n",
       "##### Схема:"
      ],
      "text/plain": [
       "<IPython.core.display.Markdown object>"
      ]
     },
     "metadata": {},
     "output_type": "display_data"
    },
    {
     "name": "stderr",
     "output_type": "stream",
     "text": [
      "/tmp/ipykernel_450849/82215137.py:49: UserWarning: pandas only supports SQLAlchemy connectable (engine/connection) or database string URI or sqlite3 DBAPI2 connection. Other DBAPI2 objects are not tested. Please consider using SQLAlchemy.\n",
      "  df = pd.read_sql_query(query, conn)\n"
     ]
    },
    {
     "data": {
      "text/html": [
       "<div>\n",
       "<style scoped>\n",
       "    .dataframe tbody tr th:only-of-type {\n",
       "        vertical-align: middle;\n",
       "    }\n",
       "\n",
       "    .dataframe tbody tr th {\n",
       "        vertical-align: top;\n",
       "    }\n",
       "\n",
       "    .dataframe thead th {\n",
       "        text-align: right;\n",
       "    }\n",
       "</style>\n",
       "<table border=\"1\" class=\"dataframe\">\n",
       "  <thead>\n",
       "    <tr style=\"text-align: right;\">\n",
       "      <th></th>\n",
       "      <th>column_name</th>\n",
       "      <th>data_type</th>\n",
       "      <th>is_nullable</th>\n",
       "      <th>column_default</th>\n",
       "    </tr>\n",
       "  </thead>\n",
       "  <tbody>\n",
       "    <tr>\n",
       "      <th>0</th>\n",
       "      <td>id</td>\n",
       "      <td>bigint</td>\n",
       "      <td>NO</td>\n",
       "      <td>nextval('management_commands_commandrun_id_seq...</td>\n",
       "    </tr>\n",
       "    <tr>\n",
       "      <th>1</th>\n",
       "      <td>args</td>\n",
       "      <td>ARRAY</td>\n",
       "      <td>NO</td>\n",
       "      <td>None</td>\n",
       "    </tr>\n",
       "    <tr>\n",
       "      <th>2</th>\n",
       "      <td>kwargs</td>\n",
       "      <td>jsonb</td>\n",
       "      <td>NO</td>\n",
       "      <td>None</td>\n",
       "    </tr>\n",
       "    <tr>\n",
       "      <th>3</th>\n",
       "      <td>started_at</td>\n",
       "      <td>timestamp with time zone</td>\n",
       "      <td>YES</td>\n",
       "      <td>None</td>\n",
       "    </tr>\n",
       "    <tr>\n",
       "      <th>4</th>\n",
       "      <td>finished_at</td>\n",
       "      <td>timestamp with time zone</td>\n",
       "      <td>YES</td>\n",
       "      <td>None</td>\n",
       "    </tr>\n",
       "    <tr>\n",
       "      <th>5</th>\n",
       "      <td>error</td>\n",
       "      <td>text</td>\n",
       "      <td>NO</td>\n",
       "      <td>None</td>\n",
       "    </tr>\n",
       "    <tr>\n",
       "      <th>6</th>\n",
       "      <td>status</td>\n",
       "      <td>character varying</td>\n",
       "      <td>NO</td>\n",
       "      <td>None</td>\n",
       "    </tr>\n",
       "    <tr>\n",
       "      <th>7</th>\n",
       "      <td>command_id</td>\n",
       "      <td>bigint</td>\n",
       "      <td>NO</td>\n",
       "      <td>None</td>\n",
       "    </tr>\n",
       "  </tbody>\n",
       "</table>\n",
       "</div>"
      ],
      "text/plain": [
       "   column_name                 data_type is_nullable                                     column_default\n",
       "0           id                    bigint          NO  nextval('management_commands_commandrun_id_seq...\n",
       "1         args                     ARRAY          NO                                               None\n",
       "2       kwargs                     jsonb          NO                                               None\n",
       "3   started_at  timestamp with time zone         YES                                               None\n",
       "4  finished_at  timestamp with time zone         YES                                               None\n",
       "5        error                      text          NO                                               None\n",
       "6       status         character varying          NO                                               None\n",
       "7   command_id                    bigint          NO                                               None"
      ]
     },
     "metadata": {},
     "output_type": "display_data"
    },
    {
     "data": {
      "text/markdown": [
       "\n",
       "##### Ограничения (PK, FK):"
      ],
      "text/plain": [
       "<IPython.core.display.Markdown object>"
      ]
     },
     "metadata": {},
     "output_type": "display_data"
    },
    {
     "name": "stderr",
     "output_type": "stream",
     "text": [
      "/tmp/ipykernel_450849/82215137.py:79: UserWarning: pandas only supports SQLAlchemy connectable (engine/connection) or database string URI or sqlite3 DBAPI2 connection. Other DBAPI2 objects are not tested. Please consider using SQLAlchemy.\n",
      "  df = pd.read_sql_query(query, conn)\n"
     ]
    },
    {
     "data": {
      "text/html": [
       "<div>\n",
       "<style scoped>\n",
       "    .dataframe tbody tr th:only-of-type {\n",
       "        vertical-align: middle;\n",
       "    }\n",
       "\n",
       "    .dataframe tbody tr th {\n",
       "        vertical-align: top;\n",
       "    }\n",
       "\n",
       "    .dataframe thead th {\n",
       "        text-align: right;\n",
       "    }\n",
       "</style>\n",
       "<table border=\"1\" class=\"dataframe\">\n",
       "  <thead>\n",
       "    <tr style=\"text-align: right;\">\n",
       "      <th></th>\n",
       "      <th>constraint_name</th>\n",
       "      <th>constraint_type</th>\n",
       "      <th>column_name</th>\n",
       "      <th>foreign_table_name</th>\n",
       "      <th>foreign_column_name</th>\n",
       "    </tr>\n",
       "  </thead>\n",
       "  <tbody>\n",
       "    <tr>\n",
       "      <th>0</th>\n",
       "      <td>management_commands__command_id_c776902b_fk_ma...</td>\n",
       "      <td>FOREIGN KEY</td>\n",
       "      <td>command_id</td>\n",
       "      <td>management_commands_command</td>\n",
       "      <td>id</td>\n",
       "    </tr>\n",
       "    <tr>\n",
       "      <th>1</th>\n",
       "      <td>management_commands_commandrun_pkey</td>\n",
       "      <td>PRIMARY KEY</td>\n",
       "      <td>id</td>\n",
       "      <td>management_commands_commandrun</td>\n",
       "      <td>id</td>\n",
       "    </tr>\n",
       "  </tbody>\n",
       "</table>\n",
       "</div>"
      ],
      "text/plain": [
       "                                     constraint_name constraint_type column_name              foreign_table_name foreign_column_name\n",
       "0  management_commands__command_id_c776902b_fk_ma...     FOREIGN KEY  command_id     management_commands_command                  id\n",
       "1                management_commands_commandrun_pkey     PRIMARY KEY          id  management_commands_commandrun                  id"
      ]
     },
     "metadata": {},
     "output_type": "display_data"
    },
    {
     "data": {
      "text/markdown": [
       "\n",
       "#### Таблица: `oauth2_provider_accesstoken`"
      ],
      "text/plain": [
       "<IPython.core.display.Markdown object>"
      ]
     },
     "metadata": {},
     "output_type": "display_data"
    },
    {
     "data": {
      "text/markdown": [
       "\n",
       "##### Схема:"
      ],
      "text/plain": [
       "<IPython.core.display.Markdown object>"
      ]
     },
     "metadata": {},
     "output_type": "display_data"
    },
    {
     "name": "stderr",
     "output_type": "stream",
     "text": [
      "/tmp/ipykernel_450849/82215137.py:49: UserWarning: pandas only supports SQLAlchemy connectable (engine/connection) or database string URI or sqlite3 DBAPI2 connection. Other DBAPI2 objects are not tested. Please consider using SQLAlchemy.\n",
      "  df = pd.read_sql_query(query, conn)\n"
     ]
    },
    {
     "data": {
      "text/html": [
       "<div>\n",
       "<style scoped>\n",
       "    .dataframe tbody tr th:only-of-type {\n",
       "        vertical-align: middle;\n",
       "    }\n",
       "\n",
       "    .dataframe tbody tr th {\n",
       "        vertical-align: top;\n",
       "    }\n",
       "\n",
       "    .dataframe thead th {\n",
       "        text-align: right;\n",
       "    }\n",
       "</style>\n",
       "<table border=\"1\" class=\"dataframe\">\n",
       "  <thead>\n",
       "    <tr style=\"text-align: right;\">\n",
       "      <th></th>\n",
       "      <th>column_name</th>\n",
       "      <th>data_type</th>\n",
       "      <th>is_nullable</th>\n",
       "      <th>column_default</th>\n",
       "    </tr>\n",
       "  </thead>\n",
       "  <tbody>\n",
       "    <tr>\n",
       "      <th>0</th>\n",
       "      <td>id</td>\n",
       "      <td>bigint</td>\n",
       "      <td>NO</td>\n",
       "      <td>nextval('oauth2_provider_accesstoken_id_seq'::...</td>\n",
       "    </tr>\n",
       "    <tr>\n",
       "      <th>1</th>\n",
       "      <td>token</td>\n",
       "      <td>character varying</td>\n",
       "      <td>NO</td>\n",
       "      <td>None</td>\n",
       "    </tr>\n",
       "    <tr>\n",
       "      <th>2</th>\n",
       "      <td>expires</td>\n",
       "      <td>timestamp with time zone</td>\n",
       "      <td>NO</td>\n",
       "      <td>None</td>\n",
       "    </tr>\n",
       "    <tr>\n",
       "      <th>3</th>\n",
       "      <td>scope</td>\n",
       "      <td>text</td>\n",
       "      <td>NO</td>\n",
       "      <td>None</td>\n",
       "    </tr>\n",
       "    <tr>\n",
       "      <th>4</th>\n",
       "      <td>application_id</td>\n",
       "      <td>bigint</td>\n",
       "      <td>YES</td>\n",
       "      <td>None</td>\n",
       "    </tr>\n",
       "    <tr>\n",
       "      <th>5</th>\n",
       "      <td>user_id</td>\n",
       "      <td>integer</td>\n",
       "      <td>YES</td>\n",
       "      <td>None</td>\n",
       "    </tr>\n",
       "    <tr>\n",
       "      <th>6</th>\n",
       "      <td>created</td>\n",
       "      <td>timestamp with time zone</td>\n",
       "      <td>NO</td>\n",
       "      <td>None</td>\n",
       "    </tr>\n",
       "    <tr>\n",
       "      <th>7</th>\n",
       "      <td>updated</td>\n",
       "      <td>timestamp with time zone</td>\n",
       "      <td>NO</td>\n",
       "      <td>None</td>\n",
       "    </tr>\n",
       "    <tr>\n",
       "      <th>8</th>\n",
       "      <td>source_refresh_token_id</td>\n",
       "      <td>bigint</td>\n",
       "      <td>YES</td>\n",
       "      <td>None</td>\n",
       "    </tr>\n",
       "    <tr>\n",
       "      <th>9</th>\n",
       "      <td>id_token_id</td>\n",
       "      <td>bigint</td>\n",
       "      <td>YES</td>\n",
       "      <td>None</td>\n",
       "    </tr>\n",
       "  </tbody>\n",
       "</table>\n",
       "</div>"
      ],
      "text/plain": [
       "               column_name                 data_type is_nullable                                     column_default\n",
       "0                       id                    bigint          NO  nextval('oauth2_provider_accesstoken_id_seq'::...\n",
       "1                    token         character varying          NO                                               None\n",
       "2                  expires  timestamp with time zone          NO                                               None\n",
       "3                    scope                      text          NO                                               None\n",
       "4           application_id                    bigint         YES                                               None\n",
       "5                  user_id                   integer         YES                                               None\n",
       "6                  created  timestamp with time zone          NO                                               None\n",
       "7                  updated  timestamp with time zone          NO                                               None\n",
       "8  source_refresh_token_id                    bigint         YES                                               None\n",
       "9              id_token_id                    bigint         YES                                               None"
      ]
     },
     "metadata": {},
     "output_type": "display_data"
    },
    {
     "data": {
      "text/markdown": [
       "\n",
       "##### Ограничения (PK, FK):"
      ],
      "text/plain": [
       "<IPython.core.display.Markdown object>"
      ]
     },
     "metadata": {},
     "output_type": "display_data"
    },
    {
     "name": "stderr",
     "output_type": "stream",
     "text": [
      "/tmp/ipykernel_450849/82215137.py:79: UserWarning: pandas only supports SQLAlchemy connectable (engine/connection) or database string URI or sqlite3 DBAPI2 connection. Other DBAPI2 objects are not tested. Please consider using SQLAlchemy.\n",
      "  df = pd.read_sql_query(query, conn)\n"
     ]
    },
    {
     "data": {
      "text/html": [
       "<div>\n",
       "<style scoped>\n",
       "    .dataframe tbody tr th:only-of-type {\n",
       "        vertical-align: middle;\n",
       "    }\n",
       "\n",
       "    .dataframe tbody tr th {\n",
       "        vertical-align: top;\n",
       "    }\n",
       "\n",
       "    .dataframe thead th {\n",
       "        text-align: right;\n",
       "    }\n",
       "</style>\n",
       "<table border=\"1\" class=\"dataframe\">\n",
       "  <thead>\n",
       "    <tr style=\"text-align: right;\">\n",
       "      <th></th>\n",
       "      <th>constraint_name</th>\n",
       "      <th>constraint_type</th>\n",
       "      <th>column_name</th>\n",
       "      <th>foreign_table_name</th>\n",
       "      <th>foreign_column_name</th>\n",
       "    </tr>\n",
       "  </thead>\n",
       "  <tbody>\n",
       "    <tr>\n",
       "      <th>0</th>\n",
       "      <td>oauth2_provider_acce_application_id_b22886e1_f...</td>\n",
       "      <td>FOREIGN KEY</td>\n",
       "      <td>application_id</td>\n",
       "      <td>oauth2_provider_application</td>\n",
       "      <td>id</td>\n",
       "    </tr>\n",
       "    <tr>\n",
       "      <th>1</th>\n",
       "      <td>oauth2_provider_acce_id_token_id_85db651b_fk_o...</td>\n",
       "      <td>FOREIGN KEY</td>\n",
       "      <td>id_token_id</td>\n",
       "      <td>oauth2_provider_idtoken</td>\n",
       "      <td>id</td>\n",
       "    </tr>\n",
       "    <tr>\n",
       "      <th>2</th>\n",
       "      <td>oauth2_provider_acce_source_refresh_token_e66f...</td>\n",
       "      <td>FOREIGN KEY</td>\n",
       "      <td>source_refresh_token_id</td>\n",
       "      <td>oauth2_provider_refreshtoken</td>\n",
       "      <td>id</td>\n",
       "    </tr>\n",
       "    <tr>\n",
       "      <th>3</th>\n",
       "      <td>oauth2_provider_accesstoken_user_id_6e4c9a65_f...</td>\n",
       "      <td>FOREIGN KEY</td>\n",
       "      <td>user_id</td>\n",
       "      <td>auth_user</td>\n",
       "      <td>id</td>\n",
       "    </tr>\n",
       "    <tr>\n",
       "      <th>4</th>\n",
       "      <td>oauth2_provider_accesstoken_pkey</td>\n",
       "      <td>PRIMARY KEY</td>\n",
       "      <td>id</td>\n",
       "      <td>oauth2_provider_accesstoken</td>\n",
       "      <td>id</td>\n",
       "    </tr>\n",
       "    <tr>\n",
       "      <th>5</th>\n",
       "      <td>oauth2_provider_accesstoken_id_token_id_key</td>\n",
       "      <td>UNIQUE</td>\n",
       "      <td>id_token_id</td>\n",
       "      <td>oauth2_provider_accesstoken</td>\n",
       "      <td>id_token_id</td>\n",
       "    </tr>\n",
       "    <tr>\n",
       "      <th>6</th>\n",
       "      <td>oauth2_provider_accesstoken_source_refresh_tok...</td>\n",
       "      <td>UNIQUE</td>\n",
       "      <td>source_refresh_token_id</td>\n",
       "      <td>oauth2_provider_accesstoken</td>\n",
       "      <td>source_refresh_token_id</td>\n",
       "    </tr>\n",
       "    <tr>\n",
       "      <th>7</th>\n",
       "      <td>oauth2_provider_accesstoken_token_key</td>\n",
       "      <td>UNIQUE</td>\n",
       "      <td>token</td>\n",
       "      <td>oauth2_provider_accesstoken</td>\n",
       "      <td>token</td>\n",
       "    </tr>\n",
       "  </tbody>\n",
       "</table>\n",
       "</div>"
      ],
      "text/plain": [
       "                                     constraint_name constraint_type              column_name            foreign_table_name      foreign_column_name\n",
       "0  oauth2_provider_acce_application_id_b22886e1_f...     FOREIGN KEY           application_id   oauth2_provider_application                       id\n",
       "1  oauth2_provider_acce_id_token_id_85db651b_fk_o...     FOREIGN KEY              id_token_id       oauth2_provider_idtoken                       id\n",
       "2  oauth2_provider_acce_source_refresh_token_e66f...     FOREIGN KEY  source_refresh_token_id  oauth2_provider_refreshtoken                       id\n",
       "3  oauth2_provider_accesstoken_user_id_6e4c9a65_f...     FOREIGN KEY                  user_id                     auth_user                       id\n",
       "4                   oauth2_provider_accesstoken_pkey     PRIMARY KEY                       id   oauth2_provider_accesstoken                       id\n",
       "5        oauth2_provider_accesstoken_id_token_id_key          UNIQUE              id_token_id   oauth2_provider_accesstoken              id_token_id\n",
       "6  oauth2_provider_accesstoken_source_refresh_tok...          UNIQUE  source_refresh_token_id   oauth2_provider_accesstoken  source_refresh_token_id\n",
       "7              oauth2_provider_accesstoken_token_key          UNIQUE                    token   oauth2_provider_accesstoken                    token"
      ]
     },
     "metadata": {},
     "output_type": "display_data"
    },
    {
     "data": {
      "text/markdown": [
       "\n",
       "#### Таблица: `oauth2_provider_application`"
      ],
      "text/plain": [
       "<IPython.core.display.Markdown object>"
      ]
     },
     "metadata": {},
     "output_type": "display_data"
    },
    {
     "data": {
      "text/markdown": [
       "\n",
       "##### Схема:"
      ],
      "text/plain": [
       "<IPython.core.display.Markdown object>"
      ]
     },
     "metadata": {},
     "output_type": "display_data"
    },
    {
     "name": "stderr",
     "output_type": "stream",
     "text": [
      "/tmp/ipykernel_450849/82215137.py:49: UserWarning: pandas only supports SQLAlchemy connectable (engine/connection) or database string URI or sqlite3 DBAPI2 connection. Other DBAPI2 objects are not tested. Please consider using SQLAlchemy.\n",
      "  df = pd.read_sql_query(query, conn)\n"
     ]
    },
    {
     "data": {
      "text/html": [
       "<div>\n",
       "<style scoped>\n",
       "    .dataframe tbody tr th:only-of-type {\n",
       "        vertical-align: middle;\n",
       "    }\n",
       "\n",
       "    .dataframe tbody tr th {\n",
       "        vertical-align: top;\n",
       "    }\n",
       "\n",
       "    .dataframe thead th {\n",
       "        text-align: right;\n",
       "    }\n",
       "</style>\n",
       "<table border=\"1\" class=\"dataframe\">\n",
       "  <thead>\n",
       "    <tr style=\"text-align: right;\">\n",
       "      <th></th>\n",
       "      <th>column_name</th>\n",
       "      <th>data_type</th>\n",
       "      <th>is_nullable</th>\n",
       "      <th>column_default</th>\n",
       "    </tr>\n",
       "  </thead>\n",
       "  <tbody>\n",
       "    <tr>\n",
       "      <th>0</th>\n",
       "      <td>id</td>\n",
       "      <td>bigint</td>\n",
       "      <td>NO</td>\n",
       "      <td>nextval('oauth2_provider_application_id_seq'::...</td>\n",
       "    </tr>\n",
       "    <tr>\n",
       "      <th>1</th>\n",
       "      <td>client_id</td>\n",
       "      <td>character varying</td>\n",
       "      <td>NO</td>\n",
       "      <td>None</td>\n",
       "    </tr>\n",
       "    <tr>\n",
       "      <th>2</th>\n",
       "      <td>redirect_uris</td>\n",
       "      <td>text</td>\n",
       "      <td>NO</td>\n",
       "      <td>None</td>\n",
       "    </tr>\n",
       "    <tr>\n",
       "      <th>3</th>\n",
       "      <td>client_type</td>\n",
       "      <td>character varying</td>\n",
       "      <td>NO</td>\n",
       "      <td>None</td>\n",
       "    </tr>\n",
       "    <tr>\n",
       "      <th>4</th>\n",
       "      <td>authorization_grant_type</td>\n",
       "      <td>character varying</td>\n",
       "      <td>NO</td>\n",
       "      <td>None</td>\n",
       "    </tr>\n",
       "    <tr>\n",
       "      <th>5</th>\n",
       "      <td>client_secret</td>\n",
       "      <td>character varying</td>\n",
       "      <td>NO</td>\n",
       "      <td>None</td>\n",
       "    </tr>\n",
       "    <tr>\n",
       "      <th>6</th>\n",
       "      <td>name</td>\n",
       "      <td>character varying</td>\n",
       "      <td>NO</td>\n",
       "      <td>None</td>\n",
       "    </tr>\n",
       "    <tr>\n",
       "      <th>7</th>\n",
       "      <td>user_id</td>\n",
       "      <td>integer</td>\n",
       "      <td>YES</td>\n",
       "      <td>None</td>\n",
       "    </tr>\n",
       "    <tr>\n",
       "      <th>8</th>\n",
       "      <td>skip_authorization</td>\n",
       "      <td>boolean</td>\n",
       "      <td>NO</td>\n",
       "      <td>None</td>\n",
       "    </tr>\n",
       "    <tr>\n",
       "      <th>9</th>\n",
       "      <td>created</td>\n",
       "      <td>timestamp with time zone</td>\n",
       "      <td>NO</td>\n",
       "      <td>None</td>\n",
       "    </tr>\n",
       "    <tr>\n",
       "      <th>10</th>\n",
       "      <td>updated</td>\n",
       "      <td>timestamp with time zone</td>\n",
       "      <td>NO</td>\n",
       "      <td>None</td>\n",
       "    </tr>\n",
       "    <tr>\n",
       "      <th>11</th>\n",
       "      <td>algorithm</td>\n",
       "      <td>character varying</td>\n",
       "      <td>NO</td>\n",
       "      <td>None</td>\n",
       "    </tr>\n",
       "  </tbody>\n",
       "</table>\n",
       "</div>"
      ],
      "text/plain": [
       "                 column_name                 data_type is_nullable                                     column_default\n",
       "0                         id                    bigint          NO  nextval('oauth2_provider_application_id_seq'::...\n",
       "1                  client_id         character varying          NO                                               None\n",
       "2              redirect_uris                      text          NO                                               None\n",
       "3                client_type         character varying          NO                                               None\n",
       "4   authorization_grant_type         character varying          NO                                               None\n",
       "5              client_secret         character varying          NO                                               None\n",
       "6                       name         character varying          NO                                               None\n",
       "7                    user_id                   integer         YES                                               None\n",
       "8         skip_authorization                   boolean          NO                                               None\n",
       "9                    created  timestamp with time zone          NO                                               None\n",
       "10                   updated  timestamp with time zone          NO                                               None\n",
       "11                 algorithm         character varying          NO                                               None"
      ]
     },
     "metadata": {},
     "output_type": "display_data"
    },
    {
     "data": {
      "text/markdown": [
       "\n",
       "##### Ограничения (PK, FK):"
      ],
      "text/plain": [
       "<IPython.core.display.Markdown object>"
      ]
     },
     "metadata": {},
     "output_type": "display_data"
    },
    {
     "name": "stderr",
     "output_type": "stream",
     "text": [
      "/tmp/ipykernel_450849/82215137.py:79: UserWarning: pandas only supports SQLAlchemy connectable (engine/connection) or database string URI or sqlite3 DBAPI2 connection. Other DBAPI2 objects are not tested. Please consider using SQLAlchemy.\n",
      "  df = pd.read_sql_query(query, conn)\n"
     ]
    },
    {
     "data": {
      "text/html": [
       "<div>\n",
       "<style scoped>\n",
       "    .dataframe tbody tr th:only-of-type {\n",
       "        vertical-align: middle;\n",
       "    }\n",
       "\n",
       "    .dataframe tbody tr th {\n",
       "        vertical-align: top;\n",
       "    }\n",
       "\n",
       "    .dataframe thead th {\n",
       "        text-align: right;\n",
       "    }\n",
       "</style>\n",
       "<table border=\"1\" class=\"dataframe\">\n",
       "  <thead>\n",
       "    <tr style=\"text-align: right;\">\n",
       "      <th></th>\n",
       "      <th>constraint_name</th>\n",
       "      <th>constraint_type</th>\n",
       "      <th>column_name</th>\n",
       "      <th>foreign_table_name</th>\n",
       "      <th>foreign_column_name</th>\n",
       "    </tr>\n",
       "  </thead>\n",
       "  <tbody>\n",
       "    <tr>\n",
       "      <th>0</th>\n",
       "      <td>oauth2_provider_application_user_id_79829054_f...</td>\n",
       "      <td>FOREIGN KEY</td>\n",
       "      <td>user_id</td>\n",
       "      <td>auth_user</td>\n",
       "      <td>id</td>\n",
       "    </tr>\n",
       "    <tr>\n",
       "      <th>1</th>\n",
       "      <td>oauth2_provider_application_pkey</td>\n",
       "      <td>PRIMARY KEY</td>\n",
       "      <td>id</td>\n",
       "      <td>oauth2_provider_application</td>\n",
       "      <td>id</td>\n",
       "    </tr>\n",
       "    <tr>\n",
       "      <th>2</th>\n",
       "      <td>oauth2_provider_application_client_id_key</td>\n",
       "      <td>UNIQUE</td>\n",
       "      <td>client_id</td>\n",
       "      <td>oauth2_provider_application</td>\n",
       "      <td>client_id</td>\n",
       "    </tr>\n",
       "  </tbody>\n",
       "</table>\n",
       "</div>"
      ],
      "text/plain": [
       "                                     constraint_name constraint_type column_name           foreign_table_name foreign_column_name\n",
       "0  oauth2_provider_application_user_id_79829054_f...     FOREIGN KEY     user_id                    auth_user                  id\n",
       "1                   oauth2_provider_application_pkey     PRIMARY KEY          id  oauth2_provider_application                  id\n",
       "2          oauth2_provider_application_client_id_key          UNIQUE   client_id  oauth2_provider_application           client_id"
      ]
     },
     "metadata": {},
     "output_type": "display_data"
    },
    {
     "data": {
      "text/markdown": [
       "\n",
       "#### Таблица: `oauth2_provider_grant`"
      ],
      "text/plain": [
       "<IPython.core.display.Markdown object>"
      ]
     },
     "metadata": {},
     "output_type": "display_data"
    },
    {
     "data": {
      "text/markdown": [
       "\n",
       "##### Схема:"
      ],
      "text/plain": [
       "<IPython.core.display.Markdown object>"
      ]
     },
     "metadata": {},
     "output_type": "display_data"
    },
    {
     "name": "stderr",
     "output_type": "stream",
     "text": [
      "/tmp/ipykernel_450849/82215137.py:49: UserWarning: pandas only supports SQLAlchemy connectable (engine/connection) or database string URI or sqlite3 DBAPI2 connection. Other DBAPI2 objects are not tested. Please consider using SQLAlchemy.\n",
      "  df = pd.read_sql_query(query, conn)\n"
     ]
    },
    {
     "data": {
      "text/html": [
       "<div>\n",
       "<style scoped>\n",
       "    .dataframe tbody tr th:only-of-type {\n",
       "        vertical-align: middle;\n",
       "    }\n",
       "\n",
       "    .dataframe tbody tr th {\n",
       "        vertical-align: top;\n",
       "    }\n",
       "\n",
       "    .dataframe thead th {\n",
       "        text-align: right;\n",
       "    }\n",
       "</style>\n",
       "<table border=\"1\" class=\"dataframe\">\n",
       "  <thead>\n",
       "    <tr style=\"text-align: right;\">\n",
       "      <th></th>\n",
       "      <th>column_name</th>\n",
       "      <th>data_type</th>\n",
       "      <th>is_nullable</th>\n",
       "      <th>column_default</th>\n",
       "    </tr>\n",
       "  </thead>\n",
       "  <tbody>\n",
       "    <tr>\n",
       "      <th>0</th>\n",
       "      <td>id</td>\n",
       "      <td>bigint</td>\n",
       "      <td>NO</td>\n",
       "      <td>nextval('oauth2_provider_grant_id_seq'::regclass)</td>\n",
       "    </tr>\n",
       "    <tr>\n",
       "      <th>1</th>\n",
       "      <td>code</td>\n",
       "      <td>character varying</td>\n",
       "      <td>NO</td>\n",
       "      <td>None</td>\n",
       "    </tr>\n",
       "    <tr>\n",
       "      <th>2</th>\n",
       "      <td>expires</td>\n",
       "      <td>timestamp with time zone</td>\n",
       "      <td>NO</td>\n",
       "      <td>None</td>\n",
       "    </tr>\n",
       "    <tr>\n",
       "      <th>3</th>\n",
       "      <td>redirect_uri</td>\n",
       "      <td>text</td>\n",
       "      <td>NO</td>\n",
       "      <td>None</td>\n",
       "    </tr>\n",
       "    <tr>\n",
       "      <th>4</th>\n",
       "      <td>scope</td>\n",
       "      <td>text</td>\n",
       "      <td>NO</td>\n",
       "      <td>None</td>\n",
       "    </tr>\n",
       "    <tr>\n",
       "      <th>5</th>\n",
       "      <td>application_id</td>\n",
       "      <td>bigint</td>\n",
       "      <td>NO</td>\n",
       "      <td>None</td>\n",
       "    </tr>\n",
       "    <tr>\n",
       "      <th>6</th>\n",
       "      <td>user_id</td>\n",
       "      <td>integer</td>\n",
       "      <td>NO</td>\n",
       "      <td>None</td>\n",
       "    </tr>\n",
       "    <tr>\n",
       "      <th>7</th>\n",
       "      <td>created</td>\n",
       "      <td>timestamp with time zone</td>\n",
       "      <td>NO</td>\n",
       "      <td>None</td>\n",
       "    </tr>\n",
       "    <tr>\n",
       "      <th>8</th>\n",
       "      <td>updated</td>\n",
       "      <td>timestamp with time zone</td>\n",
       "      <td>NO</td>\n",
       "      <td>None</td>\n",
       "    </tr>\n",
       "    <tr>\n",
       "      <th>9</th>\n",
       "      <td>code_challenge</td>\n",
       "      <td>character varying</td>\n",
       "      <td>NO</td>\n",
       "      <td>None</td>\n",
       "    </tr>\n",
       "    <tr>\n",
       "      <th>10</th>\n",
       "      <td>code_challenge_method</td>\n",
       "      <td>character varying</td>\n",
       "      <td>NO</td>\n",
       "      <td>None</td>\n",
       "    </tr>\n",
       "    <tr>\n",
       "      <th>11</th>\n",
       "      <td>nonce</td>\n",
       "      <td>character varying</td>\n",
       "      <td>NO</td>\n",
       "      <td>None</td>\n",
       "    </tr>\n",
       "    <tr>\n",
       "      <th>12</th>\n",
       "      <td>claims</td>\n",
       "      <td>text</td>\n",
       "      <td>NO</td>\n",
       "      <td>None</td>\n",
       "    </tr>\n",
       "  </tbody>\n",
       "</table>\n",
       "</div>"
      ],
      "text/plain": [
       "              column_name                 data_type is_nullable                                     column_default\n",
       "0                      id                    bigint          NO  nextval('oauth2_provider_grant_id_seq'::regclass)\n",
       "1                    code         character varying          NO                                               None\n",
       "2                 expires  timestamp with time zone          NO                                               None\n",
       "3            redirect_uri                      text          NO                                               None\n",
       "4                   scope                      text          NO                                               None\n",
       "5          application_id                    bigint          NO                                               None\n",
       "6                 user_id                   integer          NO                                               None\n",
       "7                 created  timestamp with time zone          NO                                               None\n",
       "8                 updated  timestamp with time zone          NO                                               None\n",
       "9          code_challenge         character varying          NO                                               None\n",
       "10  code_challenge_method         character varying          NO                                               None\n",
       "11                  nonce         character varying          NO                                               None\n",
       "12                 claims                      text          NO                                               None"
      ]
     },
     "metadata": {},
     "output_type": "display_data"
    },
    {
     "data": {
      "text/markdown": [
       "\n",
       "##### Ограничения (PK, FK):"
      ],
      "text/plain": [
       "<IPython.core.display.Markdown object>"
      ]
     },
     "metadata": {},
     "output_type": "display_data"
    },
    {
     "name": "stderr",
     "output_type": "stream",
     "text": [
      "/tmp/ipykernel_450849/82215137.py:79: UserWarning: pandas only supports SQLAlchemy connectable (engine/connection) or database string URI or sqlite3 DBAPI2 connection. Other DBAPI2 objects are not tested. Please consider using SQLAlchemy.\n",
      "  df = pd.read_sql_query(query, conn)\n"
     ]
    },
    {
     "data": {
      "text/html": [
       "<div>\n",
       "<style scoped>\n",
       "    .dataframe tbody tr th:only-of-type {\n",
       "        vertical-align: middle;\n",
       "    }\n",
       "\n",
       "    .dataframe tbody tr th {\n",
       "        vertical-align: top;\n",
       "    }\n",
       "\n",
       "    .dataframe thead th {\n",
       "        text-align: right;\n",
       "    }\n",
       "</style>\n",
       "<table border=\"1\" class=\"dataframe\">\n",
       "  <thead>\n",
       "    <tr style=\"text-align: right;\">\n",
       "      <th></th>\n",
       "      <th>constraint_name</th>\n",
       "      <th>constraint_type</th>\n",
       "      <th>column_name</th>\n",
       "      <th>foreign_table_name</th>\n",
       "      <th>foreign_column_name</th>\n",
       "    </tr>\n",
       "  </thead>\n",
       "  <tbody>\n",
       "    <tr>\n",
       "      <th>0</th>\n",
       "      <td>oauth2_provider_gran_application_id_81923564_f...</td>\n",
       "      <td>FOREIGN KEY</td>\n",
       "      <td>application_id</td>\n",
       "      <td>oauth2_provider_application</td>\n",
       "      <td>id</td>\n",
       "    </tr>\n",
       "    <tr>\n",
       "      <th>1</th>\n",
       "      <td>oauth2_provider_grant_user_id_e8f62af8_fk_auth...</td>\n",
       "      <td>FOREIGN KEY</td>\n",
       "      <td>user_id</td>\n",
       "      <td>auth_user</td>\n",
       "      <td>id</td>\n",
       "    </tr>\n",
       "    <tr>\n",
       "      <th>2</th>\n",
       "      <td>oauth2_provider_grant_pkey</td>\n",
       "      <td>PRIMARY KEY</td>\n",
       "      <td>id</td>\n",
       "      <td>oauth2_provider_grant</td>\n",
       "      <td>id</td>\n",
       "    </tr>\n",
       "    <tr>\n",
       "      <th>3</th>\n",
       "      <td>oauth2_provider_grant_code_key</td>\n",
       "      <td>UNIQUE</td>\n",
       "      <td>code</td>\n",
       "      <td>oauth2_provider_grant</td>\n",
       "      <td>code</td>\n",
       "    </tr>\n",
       "  </tbody>\n",
       "</table>\n",
       "</div>"
      ],
      "text/plain": [
       "                                     constraint_name constraint_type     column_name           foreign_table_name foreign_column_name\n",
       "0  oauth2_provider_gran_application_id_81923564_f...     FOREIGN KEY  application_id  oauth2_provider_application                  id\n",
       "1  oauth2_provider_grant_user_id_e8f62af8_fk_auth...     FOREIGN KEY         user_id                    auth_user                  id\n",
       "2                         oauth2_provider_grant_pkey     PRIMARY KEY              id        oauth2_provider_grant                  id\n",
       "3                     oauth2_provider_grant_code_key          UNIQUE            code        oauth2_provider_grant                code"
      ]
     },
     "metadata": {},
     "output_type": "display_data"
    },
    {
     "data": {
      "text/markdown": [
       "\n",
       "#### Таблица: `oauth2_provider_idtoken`"
      ],
      "text/plain": [
       "<IPython.core.display.Markdown object>"
      ]
     },
     "metadata": {},
     "output_type": "display_data"
    },
    {
     "data": {
      "text/markdown": [
       "\n",
       "##### Схема:"
      ],
      "text/plain": [
       "<IPython.core.display.Markdown object>"
      ]
     },
     "metadata": {},
     "output_type": "display_data"
    },
    {
     "name": "stderr",
     "output_type": "stream",
     "text": [
      "/tmp/ipykernel_450849/82215137.py:49: UserWarning: pandas only supports SQLAlchemy connectable (engine/connection) or database string URI or sqlite3 DBAPI2 connection. Other DBAPI2 objects are not tested. Please consider using SQLAlchemy.\n",
      "  df = pd.read_sql_query(query, conn)\n"
     ]
    },
    {
     "data": {
      "text/html": [
       "<div>\n",
       "<style scoped>\n",
       "    .dataframe tbody tr th:only-of-type {\n",
       "        vertical-align: middle;\n",
       "    }\n",
       "\n",
       "    .dataframe tbody tr th {\n",
       "        vertical-align: top;\n",
       "    }\n",
       "\n",
       "    .dataframe thead th {\n",
       "        text-align: right;\n",
       "    }\n",
       "</style>\n",
       "<table border=\"1\" class=\"dataframe\">\n",
       "  <thead>\n",
       "    <tr style=\"text-align: right;\">\n",
       "      <th></th>\n",
       "      <th>column_name</th>\n",
       "      <th>data_type</th>\n",
       "      <th>is_nullable</th>\n",
       "      <th>column_default</th>\n",
       "    </tr>\n",
       "  </thead>\n",
       "  <tbody>\n",
       "    <tr>\n",
       "      <th>0</th>\n",
       "      <td>id</td>\n",
       "      <td>bigint</td>\n",
       "      <td>NO</td>\n",
       "      <td>nextval('oauth2_provider_idtoken_id_seq'::regc...</td>\n",
       "    </tr>\n",
       "    <tr>\n",
       "      <th>1</th>\n",
       "      <td>jti</td>\n",
       "      <td>uuid</td>\n",
       "      <td>NO</td>\n",
       "      <td>None</td>\n",
       "    </tr>\n",
       "    <tr>\n",
       "      <th>2</th>\n",
       "      <td>expires</td>\n",
       "      <td>timestamp with time zone</td>\n",
       "      <td>NO</td>\n",
       "      <td>None</td>\n",
       "    </tr>\n",
       "    <tr>\n",
       "      <th>3</th>\n",
       "      <td>scope</td>\n",
       "      <td>text</td>\n",
       "      <td>NO</td>\n",
       "      <td>None</td>\n",
       "    </tr>\n",
       "    <tr>\n",
       "      <th>4</th>\n",
       "      <td>created</td>\n",
       "      <td>timestamp with time zone</td>\n",
       "      <td>NO</td>\n",
       "      <td>None</td>\n",
       "    </tr>\n",
       "    <tr>\n",
       "      <th>5</th>\n",
       "      <td>updated</td>\n",
       "      <td>timestamp with time zone</td>\n",
       "      <td>NO</td>\n",
       "      <td>None</td>\n",
       "    </tr>\n",
       "    <tr>\n",
       "      <th>6</th>\n",
       "      <td>application_id</td>\n",
       "      <td>bigint</td>\n",
       "      <td>YES</td>\n",
       "      <td>None</td>\n",
       "    </tr>\n",
       "    <tr>\n",
       "      <th>7</th>\n",
       "      <td>user_id</td>\n",
       "      <td>integer</td>\n",
       "      <td>YES</td>\n",
       "      <td>None</td>\n",
       "    </tr>\n",
       "  </tbody>\n",
       "</table>\n",
       "</div>"
      ],
      "text/plain": [
       "      column_name                 data_type is_nullable                                     column_default\n",
       "0              id                    bigint          NO  nextval('oauth2_provider_idtoken_id_seq'::regc...\n",
       "1             jti                      uuid          NO                                               None\n",
       "2         expires  timestamp with time zone          NO                                               None\n",
       "3           scope                      text          NO                                               None\n",
       "4         created  timestamp with time zone          NO                                               None\n",
       "5         updated  timestamp with time zone          NO                                               None\n",
       "6  application_id                    bigint         YES                                               None\n",
       "7         user_id                   integer         YES                                               None"
      ]
     },
     "metadata": {},
     "output_type": "display_data"
    },
    {
     "data": {
      "text/markdown": [
       "\n",
       "##### Ограничения (PK, FK):"
      ],
      "text/plain": [
       "<IPython.core.display.Markdown object>"
      ]
     },
     "metadata": {},
     "output_type": "display_data"
    },
    {
     "name": "stderr",
     "output_type": "stream",
     "text": [
      "/tmp/ipykernel_450849/82215137.py:79: UserWarning: pandas only supports SQLAlchemy connectable (engine/connection) or database string URI or sqlite3 DBAPI2 connection. Other DBAPI2 objects are not tested. Please consider using SQLAlchemy.\n",
      "  df = pd.read_sql_query(query, conn)\n"
     ]
    },
    {
     "data": {
      "text/html": [
       "<div>\n",
       "<style scoped>\n",
       "    .dataframe tbody tr th:only-of-type {\n",
       "        vertical-align: middle;\n",
       "    }\n",
       "\n",
       "    .dataframe tbody tr th {\n",
       "        vertical-align: top;\n",
       "    }\n",
       "\n",
       "    .dataframe thead th {\n",
       "        text-align: right;\n",
       "    }\n",
       "</style>\n",
       "<table border=\"1\" class=\"dataframe\">\n",
       "  <thead>\n",
       "    <tr style=\"text-align: right;\">\n",
       "      <th></th>\n",
       "      <th>constraint_name</th>\n",
       "      <th>constraint_type</th>\n",
       "      <th>column_name</th>\n",
       "      <th>foreign_table_name</th>\n",
       "      <th>foreign_column_name</th>\n",
       "    </tr>\n",
       "  </thead>\n",
       "  <tbody>\n",
       "    <tr>\n",
       "      <th>0</th>\n",
       "      <td>oauth2_provider_idto_application_id_08c5ff4f_f...</td>\n",
       "      <td>FOREIGN KEY</td>\n",
       "      <td>application_id</td>\n",
       "      <td>oauth2_provider_application</td>\n",
       "      <td>id</td>\n",
       "    </tr>\n",
       "    <tr>\n",
       "      <th>1</th>\n",
       "      <td>oauth2_provider_idtoken_user_id_dd512b59_fk_au...</td>\n",
       "      <td>FOREIGN KEY</td>\n",
       "      <td>user_id</td>\n",
       "      <td>auth_user</td>\n",
       "      <td>id</td>\n",
       "    </tr>\n",
       "    <tr>\n",
       "      <th>2</th>\n",
       "      <td>oauth2_provider_idtoken_pkey</td>\n",
       "      <td>PRIMARY KEY</td>\n",
       "      <td>id</td>\n",
       "      <td>oauth2_provider_idtoken</td>\n",
       "      <td>id</td>\n",
       "    </tr>\n",
       "    <tr>\n",
       "      <th>3</th>\n",
       "      <td>oauth2_provider_idtoken_jti_key</td>\n",
       "      <td>UNIQUE</td>\n",
       "      <td>jti</td>\n",
       "      <td>oauth2_provider_idtoken</td>\n",
       "      <td>jti</td>\n",
       "    </tr>\n",
       "  </tbody>\n",
       "</table>\n",
       "</div>"
      ],
      "text/plain": [
       "                                     constraint_name constraint_type     column_name           foreign_table_name foreign_column_name\n",
       "0  oauth2_provider_idto_application_id_08c5ff4f_f...     FOREIGN KEY  application_id  oauth2_provider_application                  id\n",
       "1  oauth2_provider_idtoken_user_id_dd512b59_fk_au...     FOREIGN KEY         user_id                    auth_user                  id\n",
       "2                       oauth2_provider_idtoken_pkey     PRIMARY KEY              id      oauth2_provider_idtoken                  id\n",
       "3                    oauth2_provider_idtoken_jti_key          UNIQUE             jti      oauth2_provider_idtoken                 jti"
      ]
     },
     "metadata": {},
     "output_type": "display_data"
    },
    {
     "data": {
      "text/markdown": [
       "\n",
       "#### Таблица: `oauth2_provider_refreshtoken`"
      ],
      "text/plain": [
       "<IPython.core.display.Markdown object>"
      ]
     },
     "metadata": {},
     "output_type": "display_data"
    },
    {
     "data": {
      "text/markdown": [
       "\n",
       "##### Схема:"
      ],
      "text/plain": [
       "<IPython.core.display.Markdown object>"
      ]
     },
     "metadata": {},
     "output_type": "display_data"
    },
    {
     "name": "stderr",
     "output_type": "stream",
     "text": [
      "/tmp/ipykernel_450849/82215137.py:49: UserWarning: pandas only supports SQLAlchemy connectable (engine/connection) or database string URI or sqlite3 DBAPI2 connection. Other DBAPI2 objects are not tested. Please consider using SQLAlchemy.\n",
      "  df = pd.read_sql_query(query, conn)\n"
     ]
    },
    {
     "data": {
      "text/html": [
       "<div>\n",
       "<style scoped>\n",
       "    .dataframe tbody tr th:only-of-type {\n",
       "        vertical-align: middle;\n",
       "    }\n",
       "\n",
       "    .dataframe tbody tr th {\n",
       "        vertical-align: top;\n",
       "    }\n",
       "\n",
       "    .dataframe thead th {\n",
       "        text-align: right;\n",
       "    }\n",
       "</style>\n",
       "<table border=\"1\" class=\"dataframe\">\n",
       "  <thead>\n",
       "    <tr style=\"text-align: right;\">\n",
       "      <th></th>\n",
       "      <th>column_name</th>\n",
       "      <th>data_type</th>\n",
       "      <th>is_nullable</th>\n",
       "      <th>column_default</th>\n",
       "    </tr>\n",
       "  </thead>\n",
       "  <tbody>\n",
       "    <tr>\n",
       "      <th>0</th>\n",
       "      <td>id</td>\n",
       "      <td>bigint</td>\n",
       "      <td>NO</td>\n",
       "      <td>nextval('oauth2_provider_refreshtoken_id_seq':...</td>\n",
       "    </tr>\n",
       "    <tr>\n",
       "      <th>1</th>\n",
       "      <td>token</td>\n",
       "      <td>character varying</td>\n",
       "      <td>NO</td>\n",
       "      <td>None</td>\n",
       "    </tr>\n",
       "    <tr>\n",
       "      <th>2</th>\n",
       "      <td>access_token_id</td>\n",
       "      <td>bigint</td>\n",
       "      <td>YES</td>\n",
       "      <td>None</td>\n",
       "    </tr>\n",
       "    <tr>\n",
       "      <th>3</th>\n",
       "      <td>application_id</td>\n",
       "      <td>bigint</td>\n",
       "      <td>NO</td>\n",
       "      <td>None</td>\n",
       "    </tr>\n",
       "    <tr>\n",
       "      <th>4</th>\n",
       "      <td>user_id</td>\n",
       "      <td>integer</td>\n",
       "      <td>NO</td>\n",
       "      <td>None</td>\n",
       "    </tr>\n",
       "    <tr>\n",
       "      <th>5</th>\n",
       "      <td>created</td>\n",
       "      <td>timestamp with time zone</td>\n",
       "      <td>NO</td>\n",
       "      <td>None</td>\n",
       "    </tr>\n",
       "    <tr>\n",
       "      <th>6</th>\n",
       "      <td>updated</td>\n",
       "      <td>timestamp with time zone</td>\n",
       "      <td>NO</td>\n",
       "      <td>None</td>\n",
       "    </tr>\n",
       "    <tr>\n",
       "      <th>7</th>\n",
       "      <td>revoked</td>\n",
       "      <td>timestamp with time zone</td>\n",
       "      <td>YES</td>\n",
       "      <td>None</td>\n",
       "    </tr>\n",
       "  </tbody>\n",
       "</table>\n",
       "</div>"
      ],
      "text/plain": [
       "       column_name                 data_type is_nullable                                     column_default\n",
       "0               id                    bigint          NO  nextval('oauth2_provider_refreshtoken_id_seq':...\n",
       "1            token         character varying          NO                                               None\n",
       "2  access_token_id                    bigint         YES                                               None\n",
       "3   application_id                    bigint          NO                                               None\n",
       "4          user_id                   integer          NO                                               None\n",
       "5          created  timestamp with time zone          NO                                               None\n",
       "6          updated  timestamp with time zone          NO                                               None\n",
       "7          revoked  timestamp with time zone         YES                                               None"
      ]
     },
     "metadata": {},
     "output_type": "display_data"
    },
    {
     "data": {
      "text/markdown": [
       "\n",
       "##### Ограничения (PK, FK):"
      ],
      "text/plain": [
       "<IPython.core.display.Markdown object>"
      ]
     },
     "metadata": {},
     "output_type": "display_data"
    },
    {
     "name": "stderr",
     "output_type": "stream",
     "text": [
      "/tmp/ipykernel_450849/82215137.py:79: UserWarning: pandas only supports SQLAlchemy connectable (engine/connection) or database string URI or sqlite3 DBAPI2 connection. Other DBAPI2 objects are not tested. Please consider using SQLAlchemy.\n",
      "  df = pd.read_sql_query(query, conn)\n"
     ]
    },
    {
     "data": {
      "text/html": [
       "<div>\n",
       "<style scoped>\n",
       "    .dataframe tbody tr th:only-of-type {\n",
       "        vertical-align: middle;\n",
       "    }\n",
       "\n",
       "    .dataframe tbody tr th {\n",
       "        vertical-align: top;\n",
       "    }\n",
       "\n",
       "    .dataframe thead th {\n",
       "        text-align: right;\n",
       "    }\n",
       "</style>\n",
       "<table border=\"1\" class=\"dataframe\">\n",
       "  <thead>\n",
       "    <tr style=\"text-align: right;\">\n",
       "      <th></th>\n",
       "      <th>constraint_name</th>\n",
       "      <th>constraint_type</th>\n",
       "      <th>column_name</th>\n",
       "      <th>foreign_table_name</th>\n",
       "      <th>foreign_column_name</th>\n",
       "    </tr>\n",
       "  </thead>\n",
       "  <tbody>\n",
       "    <tr>\n",
       "      <th>0</th>\n",
       "      <td>oauth2_provider_refr_access_token_id_775e84e8_...</td>\n",
       "      <td>FOREIGN KEY</td>\n",
       "      <td>access_token_id</td>\n",
       "      <td>oauth2_provider_accesstoken</td>\n",
       "      <td>id</td>\n",
       "    </tr>\n",
       "    <tr>\n",
       "      <th>1</th>\n",
       "      <td>oauth2_provider_refr_application_id_2d1c311b_f...</td>\n",
       "      <td>FOREIGN KEY</td>\n",
       "      <td>application_id</td>\n",
       "      <td>oauth2_provider_application</td>\n",
       "      <td>id</td>\n",
       "    </tr>\n",
       "    <tr>\n",
       "      <th>2</th>\n",
       "      <td>oauth2_provider_refreshtoken_user_id_da837fce_...</td>\n",
       "      <td>FOREIGN KEY</td>\n",
       "      <td>user_id</td>\n",
       "      <td>auth_user</td>\n",
       "      <td>id</td>\n",
       "    </tr>\n",
       "    <tr>\n",
       "      <th>3</th>\n",
       "      <td>oauth2_provider_refreshtoken_pkey</td>\n",
       "      <td>PRIMARY KEY</td>\n",
       "      <td>id</td>\n",
       "      <td>oauth2_provider_refreshtoken</td>\n",
       "      <td>id</td>\n",
       "    </tr>\n",
       "    <tr>\n",
       "      <th>4</th>\n",
       "      <td>oauth2_provider_refreshtoken_access_token_id_key</td>\n",
       "      <td>UNIQUE</td>\n",
       "      <td>access_token_id</td>\n",
       "      <td>oauth2_provider_refreshtoken</td>\n",
       "      <td>access_token_id</td>\n",
       "    </tr>\n",
       "    <tr>\n",
       "      <th>5</th>\n",
       "      <td>oauth2_provider_refreshtoken_token_revoked_af8...</td>\n",
       "      <td>UNIQUE</td>\n",
       "      <td>token</td>\n",
       "      <td>oauth2_provider_refreshtoken</td>\n",
       "      <td>revoked</td>\n",
       "    </tr>\n",
       "    <tr>\n",
       "      <th>6</th>\n",
       "      <td>oauth2_provider_refreshtoken_token_revoked_af8...</td>\n",
       "      <td>UNIQUE</td>\n",
       "      <td>token</td>\n",
       "      <td>oauth2_provider_refreshtoken</td>\n",
       "      <td>token</td>\n",
       "    </tr>\n",
       "    <tr>\n",
       "      <th>7</th>\n",
       "      <td>oauth2_provider_refreshtoken_token_revoked_af8...</td>\n",
       "      <td>UNIQUE</td>\n",
       "      <td>revoked</td>\n",
       "      <td>oauth2_provider_refreshtoken</td>\n",
       "      <td>revoked</td>\n",
       "    </tr>\n",
       "    <tr>\n",
       "      <th>8</th>\n",
       "      <td>oauth2_provider_refreshtoken_token_revoked_af8...</td>\n",
       "      <td>UNIQUE</td>\n",
       "      <td>revoked</td>\n",
       "      <td>oauth2_provider_refreshtoken</td>\n",
       "      <td>token</td>\n",
       "    </tr>\n",
       "  </tbody>\n",
       "</table>\n",
       "</div>"
      ],
      "text/plain": [
       "                                     constraint_name constraint_type      column_name            foreign_table_name foreign_column_name\n",
       "0  oauth2_provider_refr_access_token_id_775e84e8_...     FOREIGN KEY  access_token_id   oauth2_provider_accesstoken                  id\n",
       "1  oauth2_provider_refr_application_id_2d1c311b_f...     FOREIGN KEY   application_id   oauth2_provider_application                  id\n",
       "2  oauth2_provider_refreshtoken_user_id_da837fce_...     FOREIGN KEY          user_id                     auth_user                  id\n",
       "3                  oauth2_provider_refreshtoken_pkey     PRIMARY KEY               id  oauth2_provider_refreshtoken                  id\n",
       "4   oauth2_provider_refreshtoken_access_token_id_key          UNIQUE  access_token_id  oauth2_provider_refreshtoken     access_token_id\n",
       "5  oauth2_provider_refreshtoken_token_revoked_af8...          UNIQUE            token  oauth2_provider_refreshtoken             revoked\n",
       "6  oauth2_provider_refreshtoken_token_revoked_af8...          UNIQUE            token  oauth2_provider_refreshtoken               token\n",
       "7  oauth2_provider_refreshtoken_token_revoked_af8...          UNIQUE          revoked  oauth2_provider_refreshtoken             revoked\n",
       "8  oauth2_provider_refreshtoken_token_revoked_af8...          UNIQUE          revoked  oauth2_provider_refreshtoken               token"
      ]
     },
     "metadata": {},
     "output_type": "display_data"
    },
    {
     "data": {
      "text/markdown": [
       "\n",
       "#### Таблица: `permission_defaultrole`"
      ],
      "text/plain": [
       "<IPython.core.display.Markdown object>"
      ]
     },
     "metadata": {},
     "output_type": "display_data"
    },
    {
     "data": {
      "text/markdown": [
       "\n",
       "##### Схема:"
      ],
      "text/plain": [
       "<IPython.core.display.Markdown object>"
      ]
     },
     "metadata": {},
     "output_type": "display_data"
    },
    {
     "name": "stderr",
     "output_type": "stream",
     "text": [
      "/tmp/ipykernel_450849/82215137.py:49: UserWarning: pandas only supports SQLAlchemy connectable (engine/connection) or database string URI or sqlite3 DBAPI2 connection. Other DBAPI2 objects are not tested. Please consider using SQLAlchemy.\n",
      "  df = pd.read_sql_query(query, conn)\n"
     ]
    },
    {
     "data": {
      "text/html": [
       "<div>\n",
       "<style scoped>\n",
       "    .dataframe tbody tr th:only-of-type {\n",
       "        vertical-align: middle;\n",
       "    }\n",
       "\n",
       "    .dataframe tbody tr th {\n",
       "        vertical-align: top;\n",
       "    }\n",
       "\n",
       "    .dataframe thead th {\n",
       "        text-align: right;\n",
       "    }\n",
       "</style>\n",
       "<table border=\"1\" class=\"dataframe\">\n",
       "  <thead>\n",
       "    <tr style=\"text-align: right;\">\n",
       "      <th></th>\n",
       "      <th>column_name</th>\n",
       "      <th>data_type</th>\n",
       "      <th>is_nullable</th>\n",
       "      <th>column_default</th>\n",
       "    </tr>\n",
       "  </thead>\n",
       "  <tbody>\n",
       "    <tr>\n",
       "      <th>0</th>\n",
       "      <td>id</td>\n",
       "      <td>bigint</td>\n",
       "      <td>NO</td>\n",
       "      <td>nextval('permission_defaultrole_id_seq'::regcl...</td>\n",
       "    </tr>\n",
       "    <tr>\n",
       "      <th>1</th>\n",
       "      <td>role_id</td>\n",
       "      <td>bigint</td>\n",
       "      <td>NO</td>\n",
       "      <td>None</td>\n",
       "    </tr>\n",
       "    <tr>\n",
       "      <th>2</th>\n",
       "      <td>storage_object_id</td>\n",
       "      <td>uuid</td>\n",
       "      <td>NO</td>\n",
       "      <td>None</td>\n",
       "    </tr>\n",
       "  </tbody>\n",
       "</table>\n",
       "</div>"
      ],
      "text/plain": [
       "         column_name data_type is_nullable                                     column_default\n",
       "0                 id    bigint          NO  nextval('permission_defaultrole_id_seq'::regcl...\n",
       "1            role_id    bigint          NO                                               None\n",
       "2  storage_object_id      uuid          NO                                               None"
      ]
     },
     "metadata": {},
     "output_type": "display_data"
    },
    {
     "data": {
      "text/markdown": [
       "\n",
       "##### Ограничения (PK, FK):"
      ],
      "text/plain": [
       "<IPython.core.display.Markdown object>"
      ]
     },
     "metadata": {},
     "output_type": "display_data"
    },
    {
     "name": "stderr",
     "output_type": "stream",
     "text": [
      "/tmp/ipykernel_450849/82215137.py:79: UserWarning: pandas only supports SQLAlchemy connectable (engine/connection) or database string URI or sqlite3 DBAPI2 connection. Other DBAPI2 objects are not tested. Please consider using SQLAlchemy.\n",
      "  df = pd.read_sql_query(query, conn)\n"
     ]
    },
    {
     "data": {
      "text/html": [
       "<div>\n",
       "<style scoped>\n",
       "    .dataframe tbody tr th:only-of-type {\n",
       "        vertical-align: middle;\n",
       "    }\n",
       "\n",
       "    .dataframe tbody tr th {\n",
       "        vertical-align: top;\n",
       "    }\n",
       "\n",
       "    .dataframe thead th {\n",
       "        text-align: right;\n",
       "    }\n",
       "</style>\n",
       "<table border=\"1\" class=\"dataframe\">\n",
       "  <thead>\n",
       "    <tr style=\"text-align: right;\">\n",
       "      <th></th>\n",
       "      <th>constraint_name</th>\n",
       "      <th>constraint_type</th>\n",
       "      <th>column_name</th>\n",
       "      <th>foreign_table_name</th>\n",
       "      <th>foreign_column_name</th>\n",
       "    </tr>\n",
       "  </thead>\n",
       "  <tbody>\n",
       "    <tr>\n",
       "      <th>0</th>\n",
       "      <td>permission_defaultro_storage_object_id_db888e0...</td>\n",
       "      <td>FOREIGN KEY</td>\n",
       "      <td>storage_object_id</td>\n",
       "      <td>storage_storageobject</td>\n",
       "      <td>id</td>\n",
       "    </tr>\n",
       "    <tr>\n",
       "      <th>1</th>\n",
       "      <td>permission_defaultrole_role_id_bebae9e9_fk_per...</td>\n",
       "      <td>FOREIGN KEY</td>\n",
       "      <td>role_id</td>\n",
       "      <td>permission_role</td>\n",
       "      <td>id</td>\n",
       "    </tr>\n",
       "    <tr>\n",
       "      <th>2</th>\n",
       "      <td>permission_defaultrole_pkey</td>\n",
       "      <td>PRIMARY KEY</td>\n",
       "      <td>id</td>\n",
       "      <td>permission_defaultrole</td>\n",
       "      <td>id</td>\n",
       "    </tr>\n",
       "    <tr>\n",
       "      <th>3</th>\n",
       "      <td>permission_defaultrole_storage_object_id_key</td>\n",
       "      <td>UNIQUE</td>\n",
       "      <td>storage_object_id</td>\n",
       "      <td>permission_defaultrole</td>\n",
       "      <td>storage_object_id</td>\n",
       "    </tr>\n",
       "  </tbody>\n",
       "</table>\n",
       "</div>"
      ],
      "text/plain": [
       "                                     constraint_name constraint_type        column_name      foreign_table_name foreign_column_name\n",
       "0  permission_defaultro_storage_object_id_db888e0...     FOREIGN KEY  storage_object_id   storage_storageobject                  id\n",
       "1  permission_defaultrole_role_id_bebae9e9_fk_per...     FOREIGN KEY            role_id         permission_role                  id\n",
       "2                        permission_defaultrole_pkey     PRIMARY KEY                 id  permission_defaultrole                  id\n",
       "3       permission_defaultrole_storage_object_id_key          UNIQUE  storage_object_id  permission_defaultrole   storage_object_id"
      ]
     },
     "metadata": {},
     "output_type": "display_data"
    },
    {
     "data": {
      "text/markdown": [
       "\n",
       "#### Таблица: `permission_role`"
      ],
      "text/plain": [
       "<IPython.core.display.Markdown object>"
      ]
     },
     "metadata": {},
     "output_type": "display_data"
    },
    {
     "data": {
      "text/markdown": [
       "\n",
       "##### Схема:"
      ],
      "text/plain": [
       "<IPython.core.display.Markdown object>"
      ]
     },
     "metadata": {},
     "output_type": "display_data"
    },
    {
     "name": "stderr",
     "output_type": "stream",
     "text": [
      "/tmp/ipykernel_450849/82215137.py:49: UserWarning: pandas only supports SQLAlchemy connectable (engine/connection) or database string URI or sqlite3 DBAPI2 connection. Other DBAPI2 objects are not tested. Please consider using SQLAlchemy.\n",
      "  df = pd.read_sql_query(query, conn)\n"
     ]
    },
    {
     "data": {
      "text/html": [
       "<div>\n",
       "<style scoped>\n",
       "    .dataframe tbody tr th:only-of-type {\n",
       "        vertical-align: middle;\n",
       "    }\n",
       "\n",
       "    .dataframe tbody tr th {\n",
       "        vertical-align: top;\n",
       "    }\n",
       "\n",
       "    .dataframe thead th {\n",
       "        text-align: right;\n",
       "    }\n",
       "</style>\n",
       "<table border=\"1\" class=\"dataframe\">\n",
       "  <thead>\n",
       "    <tr style=\"text-align: right;\">\n",
       "      <th></th>\n",
       "      <th>column_name</th>\n",
       "      <th>data_type</th>\n",
       "      <th>is_nullable</th>\n",
       "      <th>column_default</th>\n",
       "    </tr>\n",
       "  </thead>\n",
       "  <tbody>\n",
       "    <tr>\n",
       "      <th>0</th>\n",
       "      <td>id</td>\n",
       "      <td>bigint</td>\n",
       "      <td>NO</td>\n",
       "      <td>nextval('permission_role_id_seq'::regclass)</td>\n",
       "    </tr>\n",
       "    <tr>\n",
       "      <th>1</th>\n",
       "      <td>name</td>\n",
       "      <td>character varying</td>\n",
       "      <td>NO</td>\n",
       "      <td>None</td>\n",
       "    </tr>\n",
       "    <tr>\n",
       "      <th>2</th>\n",
       "      <td>permissions</td>\n",
       "      <td>ARRAY</td>\n",
       "      <td>NO</td>\n",
       "      <td>None</td>\n",
       "    </tr>\n",
       "    <tr>\n",
       "      <th>3</th>\n",
       "      <td>own_permissions</td>\n",
       "      <td>ARRAY</td>\n",
       "      <td>NO</td>\n",
       "      <td>None</td>\n",
       "    </tr>\n",
       "  </tbody>\n",
       "</table>\n",
       "</div>"
      ],
      "text/plain": [
       "       column_name          data_type is_nullable                               column_default\n",
       "0               id             bigint          NO  nextval('permission_role_id_seq'::regclass)\n",
       "1             name  character varying          NO                                         None\n",
       "2      permissions              ARRAY          NO                                         None\n",
       "3  own_permissions              ARRAY          NO                                         None"
      ]
     },
     "metadata": {},
     "output_type": "display_data"
    },
    {
     "data": {
      "text/markdown": [
       "\n",
       "##### Ограничения (PK, FK):"
      ],
      "text/plain": [
       "<IPython.core.display.Markdown object>"
      ]
     },
     "metadata": {},
     "output_type": "display_data"
    },
    {
     "name": "stderr",
     "output_type": "stream",
     "text": [
      "/tmp/ipykernel_450849/82215137.py:79: UserWarning: pandas only supports SQLAlchemy connectable (engine/connection) or database string URI or sqlite3 DBAPI2 connection. Other DBAPI2 objects are not tested. Please consider using SQLAlchemy.\n",
      "  df = pd.read_sql_query(query, conn)\n"
     ]
    },
    {
     "data": {
      "text/html": [
       "<div>\n",
       "<style scoped>\n",
       "    .dataframe tbody tr th:only-of-type {\n",
       "        vertical-align: middle;\n",
       "    }\n",
       "\n",
       "    .dataframe tbody tr th {\n",
       "        vertical-align: top;\n",
       "    }\n",
       "\n",
       "    .dataframe thead th {\n",
       "        text-align: right;\n",
       "    }\n",
       "</style>\n",
       "<table border=\"1\" class=\"dataframe\">\n",
       "  <thead>\n",
       "    <tr style=\"text-align: right;\">\n",
       "      <th></th>\n",
       "      <th>constraint_name</th>\n",
       "      <th>constraint_type</th>\n",
       "      <th>column_name</th>\n",
       "      <th>foreign_table_name</th>\n",
       "      <th>foreign_column_name</th>\n",
       "    </tr>\n",
       "  </thead>\n",
       "  <tbody>\n",
       "    <tr>\n",
       "      <th>0</th>\n",
       "      <td>permission_role_pkey</td>\n",
       "      <td>PRIMARY KEY</td>\n",
       "      <td>id</td>\n",
       "      <td>permission_role</td>\n",
       "      <td>id</td>\n",
       "    </tr>\n",
       "    <tr>\n",
       "      <th>1</th>\n",
       "      <td>permission_role_name_key</td>\n",
       "      <td>UNIQUE</td>\n",
       "      <td>name</td>\n",
       "      <td>permission_role</td>\n",
       "      <td>name</td>\n",
       "    </tr>\n",
       "  </tbody>\n",
       "</table>\n",
       "</div>"
      ],
      "text/plain": [
       "            constraint_name constraint_type column_name foreign_table_name foreign_column_name\n",
       "0      permission_role_pkey     PRIMARY KEY          id    permission_role                  id\n",
       "1  permission_role_name_key          UNIQUE        name    permission_role                name"
      ]
     },
     "metadata": {},
     "output_type": "display_data"
    },
    {
     "data": {
      "text/markdown": [
       "\n",
       "#### Таблица: `permission_userrole`"
      ],
      "text/plain": [
       "<IPython.core.display.Markdown object>"
      ]
     },
     "metadata": {},
     "output_type": "display_data"
    },
    {
     "data": {
      "text/markdown": [
       "\n",
       "##### Схема:"
      ],
      "text/plain": [
       "<IPython.core.display.Markdown object>"
      ]
     },
     "metadata": {},
     "output_type": "display_data"
    },
    {
     "name": "stderr",
     "output_type": "stream",
     "text": [
      "/tmp/ipykernel_450849/82215137.py:49: UserWarning: pandas only supports SQLAlchemy connectable (engine/connection) or database string URI or sqlite3 DBAPI2 connection. Other DBAPI2 objects are not tested. Please consider using SQLAlchemy.\n",
      "  df = pd.read_sql_query(query, conn)\n"
     ]
    },
    {
     "data": {
      "text/html": [
       "<div>\n",
       "<style scoped>\n",
       "    .dataframe tbody tr th:only-of-type {\n",
       "        vertical-align: middle;\n",
       "    }\n",
       "\n",
       "    .dataframe tbody tr th {\n",
       "        vertical-align: top;\n",
       "    }\n",
       "\n",
       "    .dataframe thead th {\n",
       "        text-align: right;\n",
       "    }\n",
       "</style>\n",
       "<table border=\"1\" class=\"dataframe\">\n",
       "  <thead>\n",
       "    <tr style=\"text-align: right;\">\n",
       "      <th></th>\n",
       "      <th>column_name</th>\n",
       "      <th>data_type</th>\n",
       "      <th>is_nullable</th>\n",
       "      <th>column_default</th>\n",
       "    </tr>\n",
       "  </thead>\n",
       "  <tbody>\n",
       "    <tr>\n",
       "      <th>0</th>\n",
       "      <td>id</td>\n",
       "      <td>bigint</td>\n",
       "      <td>NO</td>\n",
       "      <td>nextval('permission_userrole_id_seq'::regclass)</td>\n",
       "    </tr>\n",
       "    <tr>\n",
       "      <th>1</th>\n",
       "      <td>user_uid</td>\n",
       "      <td>uuid</td>\n",
       "      <td>NO</td>\n",
       "      <td>None</td>\n",
       "    </tr>\n",
       "    <tr>\n",
       "      <th>2</th>\n",
       "      <td>role_id</td>\n",
       "      <td>bigint</td>\n",
       "      <td>NO</td>\n",
       "      <td>None</td>\n",
       "    </tr>\n",
       "    <tr>\n",
       "      <th>3</th>\n",
       "      <td>storage_object_id</td>\n",
       "      <td>uuid</td>\n",
       "      <td>NO</td>\n",
       "      <td>None</td>\n",
       "    </tr>\n",
       "  </tbody>\n",
       "</table>\n",
       "</div>"
      ],
      "text/plain": [
       "         column_name data_type is_nullable                                   column_default\n",
       "0                 id    bigint          NO  nextval('permission_userrole_id_seq'::regclass)\n",
       "1           user_uid      uuid          NO                                             None\n",
       "2            role_id    bigint          NO                                             None\n",
       "3  storage_object_id      uuid          NO                                             None"
      ]
     },
     "metadata": {},
     "output_type": "display_data"
    },
    {
     "data": {
      "text/markdown": [
       "\n",
       "##### Ограничения (PK, FK):"
      ],
      "text/plain": [
       "<IPython.core.display.Markdown object>"
      ]
     },
     "metadata": {},
     "output_type": "display_data"
    },
    {
     "name": "stderr",
     "output_type": "stream",
     "text": [
      "/tmp/ipykernel_450849/82215137.py:79: UserWarning: pandas only supports SQLAlchemy connectable (engine/connection) or database string URI or sqlite3 DBAPI2 connection. Other DBAPI2 objects are not tested. Please consider using SQLAlchemy.\n",
      "  df = pd.read_sql_query(query, conn)\n"
     ]
    },
    {
     "data": {
      "text/html": [
       "<div>\n",
       "<style scoped>\n",
       "    .dataframe tbody tr th:only-of-type {\n",
       "        vertical-align: middle;\n",
       "    }\n",
       "\n",
       "    .dataframe tbody tr th {\n",
       "        vertical-align: top;\n",
       "    }\n",
       "\n",
       "    .dataframe thead th {\n",
       "        text-align: right;\n",
       "    }\n",
       "</style>\n",
       "<table border=\"1\" class=\"dataframe\">\n",
       "  <thead>\n",
       "    <tr style=\"text-align: right;\">\n",
       "      <th></th>\n",
       "      <th>constraint_name</th>\n",
       "      <th>constraint_type</th>\n",
       "      <th>column_name</th>\n",
       "      <th>foreign_table_name</th>\n",
       "      <th>foreign_column_name</th>\n",
       "    </tr>\n",
       "  </thead>\n",
       "  <tbody>\n",
       "    <tr>\n",
       "      <th>0</th>\n",
       "      <td>permission_userrole_role_id_2b983e07_fk_permis...</td>\n",
       "      <td>FOREIGN KEY</td>\n",
       "      <td>role_id</td>\n",
       "      <td>permission_role</td>\n",
       "      <td>id</td>\n",
       "    </tr>\n",
       "    <tr>\n",
       "      <th>1</th>\n",
       "      <td>permission_userrole_storage_object_id_44460fe6...</td>\n",
       "      <td>FOREIGN KEY</td>\n",
       "      <td>storage_object_id</td>\n",
       "      <td>storage_storageobject</td>\n",
       "      <td>id</td>\n",
       "    </tr>\n",
       "    <tr>\n",
       "      <th>2</th>\n",
       "      <td>permission_userrole_pkey</td>\n",
       "      <td>PRIMARY KEY</td>\n",
       "      <td>id</td>\n",
       "      <td>permission_userrole</td>\n",
       "      <td>id</td>\n",
       "    </tr>\n",
       "    <tr>\n",
       "      <th>3</th>\n",
       "      <td>permission_userrole_user_uid_storage_object_id...</td>\n",
       "      <td>UNIQUE</td>\n",
       "      <td>user_uid</td>\n",
       "      <td>permission_userrole</td>\n",
       "      <td>storage_object_id</td>\n",
       "    </tr>\n",
       "    <tr>\n",
       "      <th>4</th>\n",
       "      <td>permission_userrole_user_uid_storage_object_id...</td>\n",
       "      <td>UNIQUE</td>\n",
       "      <td>user_uid</td>\n",
       "      <td>permission_userrole</td>\n",
       "      <td>user_uid</td>\n",
       "    </tr>\n",
       "    <tr>\n",
       "      <th>5</th>\n",
       "      <td>permission_userrole_user_uid_storage_object_id...</td>\n",
       "      <td>UNIQUE</td>\n",
       "      <td>storage_object_id</td>\n",
       "      <td>permission_userrole</td>\n",
       "      <td>user_uid</td>\n",
       "    </tr>\n",
       "    <tr>\n",
       "      <th>6</th>\n",
       "      <td>permission_userrole_user_uid_storage_object_id...</td>\n",
       "      <td>UNIQUE</td>\n",
       "      <td>storage_object_id</td>\n",
       "      <td>permission_userrole</td>\n",
       "      <td>storage_object_id</td>\n",
       "    </tr>\n",
       "  </tbody>\n",
       "</table>\n",
       "</div>"
      ],
      "text/plain": [
       "                                     constraint_name constraint_type        column_name     foreign_table_name foreign_column_name\n",
       "0  permission_userrole_role_id_2b983e07_fk_permis...     FOREIGN KEY            role_id        permission_role                  id\n",
       "1  permission_userrole_storage_object_id_44460fe6...     FOREIGN KEY  storage_object_id  storage_storageobject                  id\n",
       "2                           permission_userrole_pkey     PRIMARY KEY                 id    permission_userrole                  id\n",
       "3  permission_userrole_user_uid_storage_object_id...          UNIQUE           user_uid    permission_userrole   storage_object_id\n",
       "4  permission_userrole_user_uid_storage_object_id...          UNIQUE           user_uid    permission_userrole            user_uid\n",
       "5  permission_userrole_user_uid_storage_object_id...          UNIQUE  storage_object_id    permission_userrole            user_uid\n",
       "6  permission_userrole_user_uid_storage_object_id...          UNIQUE  storage_object_id    permission_userrole   storage_object_id"
      ]
     },
     "metadata": {},
     "output_type": "display_data"
    },
    {
     "data": {
      "text/markdown": [
       "\n",
       "#### Таблица: `permissions_v2_permission`"
      ],
      "text/plain": [
       "<IPython.core.display.Markdown object>"
      ]
     },
     "metadata": {},
     "output_type": "display_data"
    },
    {
     "data": {
      "text/markdown": [
       "\n",
       "##### Схема:"
      ],
      "text/plain": [
       "<IPython.core.display.Markdown object>"
      ]
     },
     "metadata": {},
     "output_type": "display_data"
    },
    {
     "name": "stderr",
     "output_type": "stream",
     "text": [
      "/tmp/ipykernel_450849/82215137.py:49: UserWarning: pandas only supports SQLAlchemy connectable (engine/connection) or database string URI or sqlite3 DBAPI2 connection. Other DBAPI2 objects are not tested. Please consider using SQLAlchemy.\n",
      "  df = pd.read_sql_query(query, conn)\n"
     ]
    },
    {
     "data": {
      "text/html": [
       "<div>\n",
       "<style scoped>\n",
       "    .dataframe tbody tr th:only-of-type {\n",
       "        vertical-align: middle;\n",
       "    }\n",
       "\n",
       "    .dataframe tbody tr th {\n",
       "        vertical-align: top;\n",
       "    }\n",
       "\n",
       "    .dataframe thead th {\n",
       "        text-align: right;\n",
       "    }\n",
       "</style>\n",
       "<table border=\"1\" class=\"dataframe\">\n",
       "  <thead>\n",
       "    <tr style=\"text-align: right;\">\n",
       "      <th></th>\n",
       "      <th>column_name</th>\n",
       "      <th>data_type</th>\n",
       "      <th>is_nullable</th>\n",
       "      <th>column_default</th>\n",
       "    </tr>\n",
       "  </thead>\n",
       "  <tbody>\n",
       "    <tr>\n",
       "      <th>0</th>\n",
       "      <td>id</td>\n",
       "      <td>bigint</td>\n",
       "      <td>NO</td>\n",
       "      <td>nextval('permissions_v2_permission_id_seq'::re...</td>\n",
       "    </tr>\n",
       "    <tr>\n",
       "      <th>1</th>\n",
       "      <td>name</td>\n",
       "      <td>character varying</td>\n",
       "      <td>NO</td>\n",
       "      <td>None</td>\n",
       "    </tr>\n",
       "    <tr>\n",
       "      <th>2</th>\n",
       "      <td>display_name</td>\n",
       "      <td>character varying</td>\n",
       "      <td>NO</td>\n",
       "      <td>None</td>\n",
       "    </tr>\n",
       "    <tr>\n",
       "      <th>3</th>\n",
       "      <td>scope</td>\n",
       "      <td>character varying</td>\n",
       "      <td>NO</td>\n",
       "      <td>None</td>\n",
       "    </tr>\n",
       "    <tr>\n",
       "      <th>4</th>\n",
       "      <td>subscope</td>\n",
       "      <td>character varying</td>\n",
       "      <td>NO</td>\n",
       "      <td>None</td>\n",
       "    </tr>\n",
       "  </tbody>\n",
       "</table>\n",
       "</div>"
      ],
      "text/plain": [
       "    column_name          data_type is_nullable                                     column_default\n",
       "0            id             bigint          NO  nextval('permissions_v2_permission_id_seq'::re...\n",
       "1          name  character varying          NO                                               None\n",
       "2  display_name  character varying          NO                                               None\n",
       "3         scope  character varying          NO                                               None\n",
       "4      subscope  character varying          NO                                               None"
      ]
     },
     "metadata": {},
     "output_type": "display_data"
    },
    {
     "data": {
      "text/markdown": [
       "\n",
       "##### Ограничения (PK, FK):"
      ],
      "text/plain": [
       "<IPython.core.display.Markdown object>"
      ]
     },
     "metadata": {},
     "output_type": "display_data"
    },
    {
     "name": "stderr",
     "output_type": "stream",
     "text": [
      "/tmp/ipykernel_450849/82215137.py:79: UserWarning: pandas only supports SQLAlchemy connectable (engine/connection) or database string URI or sqlite3 DBAPI2 connection. Other DBAPI2 objects are not tested. Please consider using SQLAlchemy.\n",
      "  df = pd.read_sql_query(query, conn)\n"
     ]
    },
    {
     "data": {
      "text/html": [
       "<div>\n",
       "<style scoped>\n",
       "    .dataframe tbody tr th:only-of-type {\n",
       "        vertical-align: middle;\n",
       "    }\n",
       "\n",
       "    .dataframe tbody tr th {\n",
       "        vertical-align: top;\n",
       "    }\n",
       "\n",
       "    .dataframe thead th {\n",
       "        text-align: right;\n",
       "    }\n",
       "</style>\n",
       "<table border=\"1\" class=\"dataframe\">\n",
       "  <thead>\n",
       "    <tr style=\"text-align: right;\">\n",
       "      <th></th>\n",
       "      <th>constraint_name</th>\n",
       "      <th>constraint_type</th>\n",
       "      <th>column_name</th>\n",
       "      <th>foreign_table_name</th>\n",
       "      <th>foreign_column_name</th>\n",
       "    </tr>\n",
       "  </thead>\n",
       "  <tbody>\n",
       "    <tr>\n",
       "      <th>0</th>\n",
       "      <td>permissions_v2_permission_pkey</td>\n",
       "      <td>PRIMARY KEY</td>\n",
       "      <td>id</td>\n",
       "      <td>permissions_v2_permission</td>\n",
       "      <td>id</td>\n",
       "    </tr>\n",
       "  </tbody>\n",
       "</table>\n",
       "</div>"
      ],
      "text/plain": [
       "                  constraint_name constraint_type column_name         foreign_table_name foreign_column_name\n",
       "0  permissions_v2_permission_pkey     PRIMARY KEY          id  permissions_v2_permission                  id"
      ]
     },
     "metadata": {},
     "output_type": "display_data"
    },
    {
     "data": {
      "text/markdown": [
       "\n",
       "#### Таблица: `permissions_v2_permissiontoroleassociation`"
      ],
      "text/plain": [
       "<IPython.core.display.Markdown object>"
      ]
     },
     "metadata": {},
     "output_type": "display_data"
    },
    {
     "data": {
      "text/markdown": [
       "\n",
       "##### Схема:"
      ],
      "text/plain": [
       "<IPython.core.display.Markdown object>"
      ]
     },
     "metadata": {},
     "output_type": "display_data"
    },
    {
     "name": "stderr",
     "output_type": "stream",
     "text": [
      "/tmp/ipykernel_450849/82215137.py:49: UserWarning: pandas only supports SQLAlchemy connectable (engine/connection) or database string URI or sqlite3 DBAPI2 connection. Other DBAPI2 objects are not tested. Please consider using SQLAlchemy.\n",
      "  df = pd.read_sql_query(query, conn)\n"
     ]
    },
    {
     "data": {
      "text/html": [
       "<div>\n",
       "<style scoped>\n",
       "    .dataframe tbody tr th:only-of-type {\n",
       "        vertical-align: middle;\n",
       "    }\n",
       "\n",
       "    .dataframe tbody tr th {\n",
       "        vertical-align: top;\n",
       "    }\n",
       "\n",
       "    .dataframe thead th {\n",
       "        text-align: right;\n",
       "    }\n",
       "</style>\n",
       "<table border=\"1\" class=\"dataframe\">\n",
       "  <thead>\n",
       "    <tr style=\"text-align: right;\">\n",
       "      <th></th>\n",
       "      <th>column_name</th>\n",
       "      <th>data_type</th>\n",
       "      <th>is_nullable</th>\n",
       "      <th>column_default</th>\n",
       "    </tr>\n",
       "  </thead>\n",
       "  <tbody>\n",
       "    <tr>\n",
       "      <th>0</th>\n",
       "      <td>id</td>\n",
       "      <td>bigint</td>\n",
       "      <td>NO</td>\n",
       "      <td>nextval('permissions_v2_permissiontoroleassoci...</td>\n",
       "    </tr>\n",
       "    <tr>\n",
       "      <th>1</th>\n",
       "      <td>permission_id</td>\n",
       "      <td>bigint</td>\n",
       "      <td>NO</td>\n",
       "      <td>None</td>\n",
       "    </tr>\n",
       "    <tr>\n",
       "      <th>2</th>\n",
       "      <td>role_id</td>\n",
       "      <td>bigint</td>\n",
       "      <td>NO</td>\n",
       "      <td>None</td>\n",
       "    </tr>\n",
       "  </tbody>\n",
       "</table>\n",
       "</div>"
      ],
      "text/plain": [
       "     column_name data_type is_nullable                                     column_default\n",
       "0             id    bigint          NO  nextval('permissions_v2_permissiontoroleassoci...\n",
       "1  permission_id    bigint          NO                                               None\n",
       "2        role_id    bigint          NO                                               None"
      ]
     },
     "metadata": {},
     "output_type": "display_data"
    },
    {
     "data": {
      "text/markdown": [
       "\n",
       "##### Ограничения (PK, FK):"
      ],
      "text/plain": [
       "<IPython.core.display.Markdown object>"
      ]
     },
     "metadata": {},
     "output_type": "display_data"
    },
    {
     "name": "stderr",
     "output_type": "stream",
     "text": [
      "/tmp/ipykernel_450849/82215137.py:79: UserWarning: pandas only supports SQLAlchemy connectable (engine/connection) or database string URI or sqlite3 DBAPI2 connection. Other DBAPI2 objects are not tested. Please consider using SQLAlchemy.\n",
      "  df = pd.read_sql_query(query, conn)\n"
     ]
    },
    {
     "data": {
      "text/html": [
       "<div>\n",
       "<style scoped>\n",
       "    .dataframe tbody tr th:only-of-type {\n",
       "        vertical-align: middle;\n",
       "    }\n",
       "\n",
       "    .dataframe tbody tr th {\n",
       "        vertical-align: top;\n",
       "    }\n",
       "\n",
       "    .dataframe thead th {\n",
       "        text-align: right;\n",
       "    }\n",
       "</style>\n",
       "<table border=\"1\" class=\"dataframe\">\n",
       "  <thead>\n",
       "    <tr style=\"text-align: right;\">\n",
       "      <th></th>\n",
       "      <th>constraint_name</th>\n",
       "      <th>constraint_type</th>\n",
       "      <th>column_name</th>\n",
       "      <th>foreign_table_name</th>\n",
       "      <th>foreign_column_name</th>\n",
       "    </tr>\n",
       "  </thead>\n",
       "  <tbody>\n",
       "    <tr>\n",
       "      <th>0</th>\n",
       "      <td>permissions_v2_permi_permission_id_f7970233_fk...</td>\n",
       "      <td>FOREIGN KEY</td>\n",
       "      <td>permission_id</td>\n",
       "      <td>permissions_v2_permission</td>\n",
       "      <td>id</td>\n",
       "    </tr>\n",
       "    <tr>\n",
       "      <th>1</th>\n",
       "      <td>permissions_v2_permi_role_id_1759345d_fk_permi...</td>\n",
       "      <td>FOREIGN KEY</td>\n",
       "      <td>role_id</td>\n",
       "      <td>permissions_v2_role</td>\n",
       "      <td>id</td>\n",
       "    </tr>\n",
       "    <tr>\n",
       "      <th>2</th>\n",
       "      <td>permissions_v2_permissiontoroleassociation_pkey</td>\n",
       "      <td>PRIMARY KEY</td>\n",
       "      <td>id</td>\n",
       "      <td>permissions_v2_permissiontoroleassociation</td>\n",
       "      <td>id</td>\n",
       "    </tr>\n",
       "  </tbody>\n",
       "</table>\n",
       "</div>"
      ],
      "text/plain": [
       "                                     constraint_name constraint_type    column_name                          foreign_table_name foreign_column_name\n",
       "0  permissions_v2_permi_permission_id_f7970233_fk...     FOREIGN KEY  permission_id                   permissions_v2_permission                  id\n",
       "1  permissions_v2_permi_role_id_1759345d_fk_permi...     FOREIGN KEY        role_id                         permissions_v2_role                  id\n",
       "2    permissions_v2_permissiontoroleassociation_pkey     PRIMARY KEY             id  permissions_v2_permissiontoroleassociation                  id"
      ]
     },
     "metadata": {},
     "output_type": "display_data"
    },
    {
     "data": {
      "text/markdown": [
       "\n",
       "#### Таблица: `permissions_v2_role`"
      ],
      "text/plain": [
       "<IPython.core.display.Markdown object>"
      ]
     },
     "metadata": {},
     "output_type": "display_data"
    },
    {
     "data": {
      "text/markdown": [
       "\n",
       "##### Схема:"
      ],
      "text/plain": [
       "<IPython.core.display.Markdown object>"
      ]
     },
     "metadata": {},
     "output_type": "display_data"
    },
    {
     "name": "stderr",
     "output_type": "stream",
     "text": [
      "/tmp/ipykernel_450849/82215137.py:49: UserWarning: pandas only supports SQLAlchemy connectable (engine/connection) or database string URI or sqlite3 DBAPI2 connection. Other DBAPI2 objects are not tested. Please consider using SQLAlchemy.\n",
      "  df = pd.read_sql_query(query, conn)\n"
     ]
    },
    {
     "data": {
      "text/html": [
       "<div>\n",
       "<style scoped>\n",
       "    .dataframe tbody tr th:only-of-type {\n",
       "        vertical-align: middle;\n",
       "    }\n",
       "\n",
       "    .dataframe tbody tr th {\n",
       "        vertical-align: top;\n",
       "    }\n",
       "\n",
       "    .dataframe thead th {\n",
       "        text-align: right;\n",
       "    }\n",
       "</style>\n",
       "<table border=\"1\" class=\"dataframe\">\n",
       "  <thead>\n",
       "    <tr style=\"text-align: right;\">\n",
       "      <th></th>\n",
       "      <th>column_name</th>\n",
       "      <th>data_type</th>\n",
       "      <th>is_nullable</th>\n",
       "      <th>column_default</th>\n",
       "    </tr>\n",
       "  </thead>\n",
       "  <tbody>\n",
       "    <tr>\n",
       "      <th>0</th>\n",
       "      <td>id</td>\n",
       "      <td>bigint</td>\n",
       "      <td>NO</td>\n",
       "      <td>nextval('permissions_v2_role_id_seq'::regclass)</td>\n",
       "    </tr>\n",
       "    <tr>\n",
       "      <th>1</th>\n",
       "      <td>name</td>\n",
       "      <td>character varying</td>\n",
       "      <td>NO</td>\n",
       "      <td>None</td>\n",
       "    </tr>\n",
       "    <tr>\n",
       "      <th>2</th>\n",
       "      <td>display_name</td>\n",
       "      <td>character varying</td>\n",
       "      <td>NO</td>\n",
       "      <td>None</td>\n",
       "    </tr>\n",
       "    <tr>\n",
       "      <th>3</th>\n",
       "      <td>scope</td>\n",
       "      <td>character varying</td>\n",
       "      <td>NO</td>\n",
       "      <td>None</td>\n",
       "    </tr>\n",
       "    <tr>\n",
       "      <th>4</th>\n",
       "      <td>subscope</td>\n",
       "      <td>character varying</td>\n",
       "      <td>NO</td>\n",
       "      <td>None</td>\n",
       "    </tr>\n",
       "    <tr>\n",
       "      <th>5</th>\n",
       "      <td>is_system_defined</td>\n",
       "      <td>boolean</td>\n",
       "      <td>NO</td>\n",
       "      <td>None</td>\n",
       "    </tr>\n",
       "    <tr>\n",
       "      <th>6</th>\n",
       "      <td>is_instance_specific</td>\n",
       "      <td>boolean</td>\n",
       "      <td>NO</td>\n",
       "      <td>None</td>\n",
       "    </tr>\n",
       "    <tr>\n",
       "      <th>7</th>\n",
       "      <td>description</td>\n",
       "      <td>jsonb</td>\n",
       "      <td>NO</td>\n",
       "      <td>None</td>\n",
       "    </tr>\n",
       "    <tr>\n",
       "      <th>8</th>\n",
       "      <td>is_visible</td>\n",
       "      <td>boolean</td>\n",
       "      <td>NO</td>\n",
       "      <td>None</td>\n",
       "    </tr>\n",
       "  </tbody>\n",
       "</table>\n",
       "</div>"
      ],
      "text/plain": [
       "            column_name          data_type is_nullable                                   column_default\n",
       "0                    id             bigint          NO  nextval('permissions_v2_role_id_seq'::regclass)\n",
       "1                  name  character varying          NO                                             None\n",
       "2          display_name  character varying          NO                                             None\n",
       "3                 scope  character varying          NO                                             None\n",
       "4              subscope  character varying          NO                                             None\n",
       "5     is_system_defined            boolean          NO                                             None\n",
       "6  is_instance_specific            boolean          NO                                             None\n",
       "7           description              jsonb          NO                                             None\n",
       "8            is_visible            boolean          NO                                             None"
      ]
     },
     "metadata": {},
     "output_type": "display_data"
    },
    {
     "data": {
      "text/markdown": [
       "\n",
       "##### Ограничения (PK, FK):"
      ],
      "text/plain": [
       "<IPython.core.display.Markdown object>"
      ]
     },
     "metadata": {},
     "output_type": "display_data"
    },
    {
     "name": "stderr",
     "output_type": "stream",
     "text": [
      "/tmp/ipykernel_450849/82215137.py:79: UserWarning: pandas only supports SQLAlchemy connectable (engine/connection) or database string URI or sqlite3 DBAPI2 connection. Other DBAPI2 objects are not tested. Please consider using SQLAlchemy.\n",
      "  df = pd.read_sql_query(query, conn)\n"
     ]
    },
    {
     "data": {
      "text/html": [
       "<div>\n",
       "<style scoped>\n",
       "    .dataframe tbody tr th:only-of-type {\n",
       "        vertical-align: middle;\n",
       "    }\n",
       "\n",
       "    .dataframe tbody tr th {\n",
       "        vertical-align: top;\n",
       "    }\n",
       "\n",
       "    .dataframe thead th {\n",
       "        text-align: right;\n",
       "    }\n",
       "</style>\n",
       "<table border=\"1\" class=\"dataframe\">\n",
       "  <thead>\n",
       "    <tr style=\"text-align: right;\">\n",
       "      <th></th>\n",
       "      <th>constraint_name</th>\n",
       "      <th>constraint_type</th>\n",
       "      <th>column_name</th>\n",
       "      <th>foreign_table_name</th>\n",
       "      <th>foreign_column_name</th>\n",
       "    </tr>\n",
       "  </thead>\n",
       "  <tbody>\n",
       "    <tr>\n",
       "      <th>0</th>\n",
       "      <td>permissions_v2_role_pkey</td>\n",
       "      <td>PRIMARY KEY</td>\n",
       "      <td>id</td>\n",
       "      <td>permissions_v2_role</td>\n",
       "      <td>id</td>\n",
       "    </tr>\n",
       "  </tbody>\n",
       "</table>\n",
       "</div>"
      ],
      "text/plain": [
       "            constraint_name constraint_type column_name   foreign_table_name foreign_column_name\n",
       "0  permissions_v2_role_pkey     PRIMARY KEY          id  permissions_v2_role                  id"
      ]
     },
     "metadata": {},
     "output_type": "display_data"
    },
    {
     "data": {
      "text/markdown": [
       "\n",
       "#### Таблица: `permissions_v2_roleaccessgrant`"
      ],
      "text/plain": [
       "<IPython.core.display.Markdown object>"
      ]
     },
     "metadata": {},
     "output_type": "display_data"
    },
    {
     "data": {
      "text/markdown": [
       "\n",
       "##### Схема:"
      ],
      "text/plain": [
       "<IPython.core.display.Markdown object>"
      ]
     },
     "metadata": {},
     "output_type": "display_data"
    },
    {
     "name": "stderr",
     "output_type": "stream",
     "text": [
      "/tmp/ipykernel_450849/82215137.py:49: UserWarning: pandas only supports SQLAlchemy connectable (engine/connection) or database string URI or sqlite3 DBAPI2 connection. Other DBAPI2 objects are not tested. Please consider using SQLAlchemy.\n",
      "  df = pd.read_sql_query(query, conn)\n"
     ]
    },
    {
     "data": {
      "text/html": [
       "<div>\n",
       "<style scoped>\n",
       "    .dataframe tbody tr th:only-of-type {\n",
       "        vertical-align: middle;\n",
       "    }\n",
       "\n",
       "    .dataframe tbody tr th {\n",
       "        vertical-align: top;\n",
       "    }\n",
       "\n",
       "    .dataframe thead th {\n",
       "        text-align: right;\n",
       "    }\n",
       "</style>\n",
       "<table border=\"1\" class=\"dataframe\">\n",
       "  <thead>\n",
       "    <tr style=\"text-align: right;\">\n",
       "      <th></th>\n",
       "      <th>column_name</th>\n",
       "      <th>data_type</th>\n",
       "      <th>is_nullable</th>\n",
       "      <th>column_default</th>\n",
       "    </tr>\n",
       "  </thead>\n",
       "  <tbody>\n",
       "    <tr>\n",
       "      <th>0</th>\n",
       "      <td>id</td>\n",
       "      <td>bigint</td>\n",
       "      <td>NO</td>\n",
       "      <td>nextval('permissions_v2_roleaccessgrant_id_seq...</td>\n",
       "    </tr>\n",
       "    <tr>\n",
       "      <th>1</th>\n",
       "      <td>created_at</td>\n",
       "      <td>timestamp with time zone</td>\n",
       "      <td>NO</td>\n",
       "      <td>None</td>\n",
       "    </tr>\n",
       "    <tr>\n",
       "      <th>2</th>\n",
       "      <td>updated_at</td>\n",
       "      <td>timestamp with time zone</td>\n",
       "      <td>NO</td>\n",
       "      <td>None</td>\n",
       "    </tr>\n",
       "    <tr>\n",
       "      <th>3</th>\n",
       "      <td>role_id</td>\n",
       "      <td>bigint</td>\n",
       "      <td>NO</td>\n",
       "      <td>None</td>\n",
       "    </tr>\n",
       "    <tr>\n",
       "      <th>4</th>\n",
       "      <td>user_id</td>\n",
       "      <td>integer</td>\n",
       "      <td>YES</td>\n",
       "      <td>None</td>\n",
       "    </tr>\n",
       "    <tr>\n",
       "      <th>5</th>\n",
       "      <td>is_inherited</td>\n",
       "      <td>boolean</td>\n",
       "      <td>NO</td>\n",
       "      <td>None</td>\n",
       "    </tr>\n",
       "    <tr>\n",
       "      <th>6</th>\n",
       "      <td>storage_object_id</td>\n",
       "      <td>uuid</td>\n",
       "      <td>NO</td>\n",
       "      <td>None</td>\n",
       "    </tr>\n",
       "    <tr>\n",
       "      <th>7</th>\n",
       "      <td>group_id</td>\n",
       "      <td>uuid</td>\n",
       "      <td>YES</td>\n",
       "      <td>None</td>\n",
       "    </tr>\n",
       "  </tbody>\n",
       "</table>\n",
       "</div>"
      ],
      "text/plain": [
       "         column_name                 data_type is_nullable                                     column_default\n",
       "0                 id                    bigint          NO  nextval('permissions_v2_roleaccessgrant_id_seq...\n",
       "1         created_at  timestamp with time zone          NO                                               None\n",
       "2         updated_at  timestamp with time zone          NO                                               None\n",
       "3            role_id                    bigint          NO                                               None\n",
       "4            user_id                   integer         YES                                               None\n",
       "5       is_inherited                   boolean          NO                                               None\n",
       "6  storage_object_id                      uuid          NO                                               None\n",
       "7           group_id                      uuid         YES                                               None"
      ]
     },
     "metadata": {},
     "output_type": "display_data"
    },
    {
     "data": {
      "text/markdown": [
       "\n",
       "##### Ограничения (PK, FK):"
      ],
      "text/plain": [
       "<IPython.core.display.Markdown object>"
      ]
     },
     "metadata": {},
     "output_type": "display_data"
    },
    {
     "name": "stderr",
     "output_type": "stream",
     "text": [
      "/tmp/ipykernel_450849/82215137.py:79: UserWarning: pandas only supports SQLAlchemy connectable (engine/connection) or database string URI or sqlite3 DBAPI2 connection. Other DBAPI2 objects are not tested. Please consider using SQLAlchemy.\n",
      "  df = pd.read_sql_query(query, conn)\n"
     ]
    },
    {
     "data": {
      "text/html": [
       "<div>\n",
       "<style scoped>\n",
       "    .dataframe tbody tr th:only-of-type {\n",
       "        vertical-align: middle;\n",
       "    }\n",
       "\n",
       "    .dataframe tbody tr th {\n",
       "        vertical-align: top;\n",
       "    }\n",
       "\n",
       "    .dataframe thead th {\n",
       "        text-align: right;\n",
       "    }\n",
       "</style>\n",
       "<table border=\"1\" class=\"dataframe\">\n",
       "  <thead>\n",
       "    <tr style=\"text-align: right;\">\n",
       "      <th></th>\n",
       "      <th>constraint_name</th>\n",
       "      <th>constraint_type</th>\n",
       "      <th>column_name</th>\n",
       "      <th>foreign_table_name</th>\n",
       "      <th>foreign_column_name</th>\n",
       "    </tr>\n",
       "  </thead>\n",
       "  <tbody>\n",
       "    <tr>\n",
       "      <th>0</th>\n",
       "      <td>permissions_v2_rolea_group_id_3f27193a_fk_role...</td>\n",
       "      <td>FOREIGN KEY</td>\n",
       "      <td>group_id</td>\n",
       "      <td>roles_access_usergroup</td>\n",
       "      <td>id</td>\n",
       "    </tr>\n",
       "    <tr>\n",
       "      <th>1</th>\n",
       "      <td>permissions_v2_rolea_role_id_3e703124_fk_permi...</td>\n",
       "      <td>FOREIGN KEY</td>\n",
       "      <td>role_id</td>\n",
       "      <td>permissions_v2_role</td>\n",
       "      <td>id</td>\n",
       "    </tr>\n",
       "    <tr>\n",
       "      <th>2</th>\n",
       "      <td>permissions_v2_rolea_storage_object_id_31ef93b...</td>\n",
       "      <td>FOREIGN KEY</td>\n",
       "      <td>storage_object_id</td>\n",
       "      <td>storage_storageobject</td>\n",
       "      <td>id</td>\n",
       "    </tr>\n",
       "    <tr>\n",
       "      <th>3</th>\n",
       "      <td>permissions_v2_roleaccessgrant_user_id_cfc056b...</td>\n",
       "      <td>FOREIGN KEY</td>\n",
       "      <td>user_id</td>\n",
       "      <td>auth_user</td>\n",
       "      <td>id</td>\n",
       "    </tr>\n",
       "    <tr>\n",
       "      <th>4</th>\n",
       "      <td>permissions_v2_roleaccessgrant_pkey</td>\n",
       "      <td>PRIMARY KEY</td>\n",
       "      <td>id</td>\n",
       "      <td>permissions_v2_roleaccessgrant</td>\n",
       "      <td>id</td>\n",
       "    </tr>\n",
       "  </tbody>\n",
       "</table>\n",
       "</div>"
      ],
      "text/plain": [
       "                                     constraint_name constraint_type        column_name              foreign_table_name foreign_column_name\n",
       "0  permissions_v2_rolea_group_id_3f27193a_fk_role...     FOREIGN KEY           group_id          roles_access_usergroup                  id\n",
       "1  permissions_v2_rolea_role_id_3e703124_fk_permi...     FOREIGN KEY            role_id             permissions_v2_role                  id\n",
       "2  permissions_v2_rolea_storage_object_id_31ef93b...     FOREIGN KEY  storage_object_id           storage_storageobject                  id\n",
       "3  permissions_v2_roleaccessgrant_user_id_cfc056b...     FOREIGN KEY            user_id                       auth_user                  id\n",
       "4                permissions_v2_roleaccessgrant_pkey     PRIMARY KEY                 id  permissions_v2_roleaccessgrant                  id"
      ]
     },
     "metadata": {},
     "output_type": "display_data"
    },
    {
     "data": {
      "text/markdown": [
       "\n",
       "#### Таблица: `permissions_v2_roleoverride`"
      ],
      "text/plain": [
       "<IPython.core.display.Markdown object>"
      ]
     },
     "metadata": {},
     "output_type": "display_data"
    },
    {
     "data": {
      "text/markdown": [
       "\n",
       "##### Схема:"
      ],
      "text/plain": [
       "<IPython.core.display.Markdown object>"
      ]
     },
     "metadata": {},
     "output_type": "display_data"
    },
    {
     "name": "stderr",
     "output_type": "stream",
     "text": [
      "/tmp/ipykernel_450849/82215137.py:49: UserWarning: pandas only supports SQLAlchemy connectable (engine/connection) or database string URI or sqlite3 DBAPI2 connection. Other DBAPI2 objects are not tested. Please consider using SQLAlchemy.\n",
      "  df = pd.read_sql_query(query, conn)\n"
     ]
    },
    {
     "data": {
      "text/html": [
       "<div>\n",
       "<style scoped>\n",
       "    .dataframe tbody tr th:only-of-type {\n",
       "        vertical-align: middle;\n",
       "    }\n",
       "\n",
       "    .dataframe tbody tr th {\n",
       "        vertical-align: top;\n",
       "    }\n",
       "\n",
       "    .dataframe thead th {\n",
       "        text-align: right;\n",
       "    }\n",
       "</style>\n",
       "<table border=\"1\" class=\"dataframe\">\n",
       "  <thead>\n",
       "    <tr style=\"text-align: right;\">\n",
       "      <th></th>\n",
       "      <th>column_name</th>\n",
       "      <th>data_type</th>\n",
       "      <th>is_nullable</th>\n",
       "      <th>column_default</th>\n",
       "    </tr>\n",
       "  </thead>\n",
       "  <tbody>\n",
       "    <tr>\n",
       "      <th>0</th>\n",
       "      <td>id</td>\n",
       "      <td>bigint</td>\n",
       "      <td>NO</td>\n",
       "      <td>nextval('permissions_v2_roleoverride_id_seq'::...</td>\n",
       "    </tr>\n",
       "    <tr>\n",
       "      <th>1</th>\n",
       "      <td>role_ids</td>\n",
       "      <td>ARRAY</td>\n",
       "      <td>NO</td>\n",
       "      <td>None</td>\n",
       "    </tr>\n",
       "    <tr>\n",
       "      <th>2</th>\n",
       "      <td>storage_object_id</td>\n",
       "      <td>uuid</td>\n",
       "      <td>NO</td>\n",
       "      <td>None</td>\n",
       "    </tr>\n",
       "  </tbody>\n",
       "</table>\n",
       "</div>"
      ],
      "text/plain": [
       "         column_name data_type is_nullable                                     column_default\n",
       "0                 id    bigint          NO  nextval('permissions_v2_roleoverride_id_seq'::...\n",
       "1           role_ids     ARRAY          NO                                               None\n",
       "2  storage_object_id      uuid          NO                                               None"
      ]
     },
     "metadata": {},
     "output_type": "display_data"
    },
    {
     "data": {
      "text/markdown": [
       "\n",
       "##### Ограничения (PK, FK):"
      ],
      "text/plain": [
       "<IPython.core.display.Markdown object>"
      ]
     },
     "metadata": {},
     "output_type": "display_data"
    },
    {
     "name": "stderr",
     "output_type": "stream",
     "text": [
      "/tmp/ipykernel_450849/82215137.py:79: UserWarning: pandas only supports SQLAlchemy connectable (engine/connection) or database string URI or sqlite3 DBAPI2 connection. Other DBAPI2 objects are not tested. Please consider using SQLAlchemy.\n",
      "  df = pd.read_sql_query(query, conn)\n"
     ]
    },
    {
     "data": {
      "text/html": [
       "<div>\n",
       "<style scoped>\n",
       "    .dataframe tbody tr th:only-of-type {\n",
       "        vertical-align: middle;\n",
       "    }\n",
       "\n",
       "    .dataframe tbody tr th {\n",
       "        vertical-align: top;\n",
       "    }\n",
       "\n",
       "    .dataframe thead th {\n",
       "        text-align: right;\n",
       "    }\n",
       "</style>\n",
       "<table border=\"1\" class=\"dataframe\">\n",
       "  <thead>\n",
       "    <tr style=\"text-align: right;\">\n",
       "      <th></th>\n",
       "      <th>constraint_name</th>\n",
       "      <th>constraint_type</th>\n",
       "      <th>column_name</th>\n",
       "      <th>foreign_table_name</th>\n",
       "      <th>foreign_column_name</th>\n",
       "    </tr>\n",
       "  </thead>\n",
       "  <tbody>\n",
       "    <tr>\n",
       "      <th>0</th>\n",
       "      <td>permissions_v2_roleo_storage_object_id_b8cc662...</td>\n",
       "      <td>FOREIGN KEY</td>\n",
       "      <td>storage_object_id</td>\n",
       "      <td>storage_storageobject</td>\n",
       "      <td>id</td>\n",
       "    </tr>\n",
       "    <tr>\n",
       "      <th>1</th>\n",
       "      <td>permissions_v2_roleoverride_pkey</td>\n",
       "      <td>PRIMARY KEY</td>\n",
       "      <td>id</td>\n",
       "      <td>permissions_v2_roleoverride</td>\n",
       "      <td>id</td>\n",
       "    </tr>\n",
       "    <tr>\n",
       "      <th>2</th>\n",
       "      <td>permissions_v2_roleoverride_storage_object_id_key</td>\n",
       "      <td>UNIQUE</td>\n",
       "      <td>storage_object_id</td>\n",
       "      <td>permissions_v2_roleoverride</td>\n",
       "      <td>storage_object_id</td>\n",
       "    </tr>\n",
       "  </tbody>\n",
       "</table>\n",
       "</div>"
      ],
      "text/plain": [
       "                                     constraint_name constraint_type        column_name           foreign_table_name foreign_column_name\n",
       "0  permissions_v2_roleo_storage_object_id_b8cc662...     FOREIGN KEY  storage_object_id        storage_storageobject                  id\n",
       "1                   permissions_v2_roleoverride_pkey     PRIMARY KEY                 id  permissions_v2_roleoverride                  id\n",
       "2  permissions_v2_roleoverride_storage_object_id_key          UNIQUE  storage_object_id  permissions_v2_roleoverride   storage_object_id"
      ]
     },
     "metadata": {},
     "output_type": "display_data"
    },
    {
     "data": {
      "text/markdown": [
       "\n",
       "#### Таблица: `permissions_v2_roletouser`"
      ],
      "text/plain": [
       "<IPython.core.display.Markdown object>"
      ]
     },
     "metadata": {},
     "output_type": "display_data"
    },
    {
     "data": {
      "text/markdown": [
       "\n",
       "##### Схема:"
      ],
      "text/plain": [
       "<IPython.core.display.Markdown object>"
      ]
     },
     "metadata": {},
     "output_type": "display_data"
    },
    {
     "name": "stderr",
     "output_type": "stream",
     "text": [
      "/tmp/ipykernel_450849/82215137.py:49: UserWarning: pandas only supports SQLAlchemy connectable (engine/connection) or database string URI or sqlite3 DBAPI2 connection. Other DBAPI2 objects are not tested. Please consider using SQLAlchemy.\n",
      "  df = pd.read_sql_query(query, conn)\n"
     ]
    },
    {
     "data": {
      "text/html": [
       "<div>\n",
       "<style scoped>\n",
       "    .dataframe tbody tr th:only-of-type {\n",
       "        vertical-align: middle;\n",
       "    }\n",
       "\n",
       "    .dataframe tbody tr th {\n",
       "        vertical-align: top;\n",
       "    }\n",
       "\n",
       "    .dataframe thead th {\n",
       "        text-align: right;\n",
       "    }\n",
       "</style>\n",
       "<table border=\"1\" class=\"dataframe\">\n",
       "  <thead>\n",
       "    <tr style=\"text-align: right;\">\n",
       "      <th></th>\n",
       "      <th>column_name</th>\n",
       "      <th>data_type</th>\n",
       "      <th>is_nullable</th>\n",
       "      <th>column_default</th>\n",
       "    </tr>\n",
       "  </thead>\n",
       "  <tbody>\n",
       "    <tr>\n",
       "      <th>0</th>\n",
       "      <td>id</td>\n",
       "      <td>bigint</td>\n",
       "      <td>NO</td>\n",
       "      <td>nextval('permissions_v2_roletouser_id_seq'::re...</td>\n",
       "    </tr>\n",
       "    <tr>\n",
       "      <th>1</th>\n",
       "      <td>role_id</td>\n",
       "      <td>bigint</td>\n",
       "      <td>NO</td>\n",
       "      <td>None</td>\n",
       "    </tr>\n",
       "    <tr>\n",
       "      <th>2</th>\n",
       "      <td>user_id</td>\n",
       "      <td>integer</td>\n",
       "      <td>YES</td>\n",
       "      <td>None</td>\n",
       "    </tr>\n",
       "    <tr>\n",
       "      <th>3</th>\n",
       "      <td>group_id</td>\n",
       "      <td>uuid</td>\n",
       "      <td>YES</td>\n",
       "      <td>None</td>\n",
       "    </tr>\n",
       "  </tbody>\n",
       "</table>\n",
       "</div>"
      ],
      "text/plain": [
       "  column_name data_type is_nullable                                     column_default\n",
       "0          id    bigint          NO  nextval('permissions_v2_roletouser_id_seq'::re...\n",
       "1     role_id    bigint          NO                                               None\n",
       "2     user_id   integer         YES                                               None\n",
       "3    group_id      uuid         YES                                               None"
      ]
     },
     "metadata": {},
     "output_type": "display_data"
    },
    {
     "data": {
      "text/markdown": [
       "\n",
       "##### Ограничения (PK, FK):"
      ],
      "text/plain": [
       "<IPython.core.display.Markdown object>"
      ]
     },
     "metadata": {},
     "output_type": "display_data"
    },
    {
     "name": "stderr",
     "output_type": "stream",
     "text": [
      "/tmp/ipykernel_450849/82215137.py:79: UserWarning: pandas only supports SQLAlchemy connectable (engine/connection) or database string URI or sqlite3 DBAPI2 connection. Other DBAPI2 objects are not tested. Please consider using SQLAlchemy.\n",
      "  df = pd.read_sql_query(query, conn)\n"
     ]
    },
    {
     "data": {
      "text/html": [
       "<div>\n",
       "<style scoped>\n",
       "    .dataframe tbody tr th:only-of-type {\n",
       "        vertical-align: middle;\n",
       "    }\n",
       "\n",
       "    .dataframe tbody tr th {\n",
       "        vertical-align: top;\n",
       "    }\n",
       "\n",
       "    .dataframe thead th {\n",
       "        text-align: right;\n",
       "    }\n",
       "</style>\n",
       "<table border=\"1\" class=\"dataframe\">\n",
       "  <thead>\n",
       "    <tr style=\"text-align: right;\">\n",
       "      <th></th>\n",
       "      <th>constraint_name</th>\n",
       "      <th>constraint_type</th>\n",
       "      <th>column_name</th>\n",
       "      <th>foreign_table_name</th>\n",
       "      <th>foreign_column_name</th>\n",
       "    </tr>\n",
       "  </thead>\n",
       "  <tbody>\n",
       "    <tr>\n",
       "      <th>0</th>\n",
       "      <td>permissions_v2_rolet_group_id_252277b1_fk_role...</td>\n",
       "      <td>FOREIGN KEY</td>\n",
       "      <td>group_id</td>\n",
       "      <td>roles_access_usergroup</td>\n",
       "      <td>id</td>\n",
       "    </tr>\n",
       "    <tr>\n",
       "      <th>1</th>\n",
       "      <td>permissions_v2_rolet_role_id_b749610b_fk_permi...</td>\n",
       "      <td>FOREIGN KEY</td>\n",
       "      <td>role_id</td>\n",
       "      <td>permissions_v2_role</td>\n",
       "      <td>id</td>\n",
       "    </tr>\n",
       "    <tr>\n",
       "      <th>2</th>\n",
       "      <td>permissions_v2_roletouser_user_id_833af028_fk_...</td>\n",
       "      <td>FOREIGN KEY</td>\n",
       "      <td>user_id</td>\n",
       "      <td>auth_user</td>\n",
       "      <td>id</td>\n",
       "    </tr>\n",
       "    <tr>\n",
       "      <th>3</th>\n",
       "      <td>permissions_v2_roletouser_pkey</td>\n",
       "      <td>PRIMARY KEY</td>\n",
       "      <td>id</td>\n",
       "      <td>permissions_v2_roletouser</td>\n",
       "      <td>id</td>\n",
       "    </tr>\n",
       "  </tbody>\n",
       "</table>\n",
       "</div>"
      ],
      "text/plain": [
       "                                     constraint_name constraint_type column_name         foreign_table_name foreign_column_name\n",
       "0  permissions_v2_rolet_group_id_252277b1_fk_role...     FOREIGN KEY    group_id     roles_access_usergroup                  id\n",
       "1  permissions_v2_rolet_role_id_b749610b_fk_permi...     FOREIGN KEY     role_id        permissions_v2_role                  id\n",
       "2  permissions_v2_roletouser_user_id_833af028_fk_...     FOREIGN KEY     user_id                  auth_user                  id\n",
       "3                     permissions_v2_roletouser_pkey     PRIMARY KEY          id  permissions_v2_roletouser                  id"
      ]
     },
     "metadata": {},
     "output_type": "display_data"
    },
    {
     "data": {
      "text/markdown": [
       "\n",
       "#### Таблица: `profile_sync_profileuserdata`"
      ],
      "text/plain": [
       "<IPython.core.display.Markdown object>"
      ]
     },
     "metadata": {},
     "output_type": "display_data"
    },
    {
     "data": {
      "text/markdown": [
       "\n",
       "##### Схема:"
      ],
      "text/plain": [
       "<IPython.core.display.Markdown object>"
      ]
     },
     "metadata": {},
     "output_type": "display_data"
    },
    {
     "name": "stderr",
     "output_type": "stream",
     "text": [
      "/tmp/ipykernel_450849/82215137.py:49: UserWarning: pandas only supports SQLAlchemy connectable (engine/connection) or database string URI or sqlite3 DBAPI2 connection. Other DBAPI2 objects are not tested. Please consider using SQLAlchemy.\n",
      "  df = pd.read_sql_query(query, conn)\n"
     ]
    },
    {
     "data": {
      "text/html": [
       "<div>\n",
       "<style scoped>\n",
       "    .dataframe tbody tr th:only-of-type {\n",
       "        vertical-align: middle;\n",
       "    }\n",
       "\n",
       "    .dataframe tbody tr th {\n",
       "        vertical-align: top;\n",
       "    }\n",
       "\n",
       "    .dataframe thead th {\n",
       "        text-align: right;\n",
       "    }\n",
       "</style>\n",
       "<table border=\"1\" class=\"dataframe\">\n",
       "  <thead>\n",
       "    <tr style=\"text-align: right;\">\n",
       "      <th></th>\n",
       "      <th>column_name</th>\n",
       "      <th>data_type</th>\n",
       "      <th>is_nullable</th>\n",
       "      <th>column_default</th>\n",
       "    </tr>\n",
       "  </thead>\n",
       "  <tbody>\n",
       "    <tr>\n",
       "      <th>0</th>\n",
       "      <td>id</td>\n",
       "      <td>integer</td>\n",
       "      <td>NO</td>\n",
       "      <td>nextval('profile_sync_profileuserdata_id_seq':...</td>\n",
       "    </tr>\n",
       "    <tr>\n",
       "      <th>1</th>\n",
       "      <td>data</td>\n",
       "      <td>jsonb</td>\n",
       "      <td>NO</td>\n",
       "      <td>None</td>\n",
       "    </tr>\n",
       "    <tr>\n",
       "      <th>2</th>\n",
       "      <td>keycloak_id</td>\n",
       "      <td>character varying</td>\n",
       "      <td>NO</td>\n",
       "      <td>None</td>\n",
       "    </tr>\n",
       "    <tr>\n",
       "      <th>3</th>\n",
       "      <td>created_at</td>\n",
       "      <td>timestamp with time zone</td>\n",
       "      <td>NO</td>\n",
       "      <td>None</td>\n",
       "    </tr>\n",
       "    <tr>\n",
       "      <th>4</th>\n",
       "      <td>updated_at</td>\n",
       "      <td>timestamp with time zone</td>\n",
       "      <td>NO</td>\n",
       "      <td>None</td>\n",
       "    </tr>\n",
       "    <tr>\n",
       "      <th>5</th>\n",
       "      <td>user_id</td>\n",
       "      <td>integer</td>\n",
       "      <td>YES</td>\n",
       "      <td>None</td>\n",
       "    </tr>\n",
       "    <tr>\n",
       "      <th>6</th>\n",
       "      <td>username</td>\n",
       "      <td>character varying</td>\n",
       "      <td>YES</td>\n",
       "      <td>None</td>\n",
       "    </tr>\n",
       "    <tr>\n",
       "      <th>7</th>\n",
       "      <td>boss_keycloak_id</td>\n",
       "      <td>character varying</td>\n",
       "      <td>YES</td>\n",
       "      <td>None</td>\n",
       "    </tr>\n",
       "    <tr>\n",
       "      <th>8</th>\n",
       "      <td>agreement_kedo_date</td>\n",
       "      <td>date</td>\n",
       "      <td>YES</td>\n",
       "      <td>None</td>\n",
       "    </tr>\n",
       "    <tr>\n",
       "      <th>9</th>\n",
       "      <td>search_field</td>\n",
       "      <td>character varying</td>\n",
       "      <td>YES</td>\n",
       "      <td>None</td>\n",
       "    </tr>\n",
       "    <tr>\n",
       "      <th>10</th>\n",
       "      <td>position</td>\n",
       "      <td>character varying</td>\n",
       "      <td>YES</td>\n",
       "      <td>None</td>\n",
       "    </tr>\n",
       "  </tbody>\n",
       "</table>\n",
       "</div>"
      ],
      "text/plain": [
       "            column_name                 data_type is_nullable                                     column_default\n",
       "0                    id                   integer          NO  nextval('profile_sync_profileuserdata_id_seq':...\n",
       "1                  data                     jsonb          NO                                               None\n",
       "2           keycloak_id         character varying          NO                                               None\n",
       "3            created_at  timestamp with time zone          NO                                               None\n",
       "4            updated_at  timestamp with time zone          NO                                               None\n",
       "5               user_id                   integer         YES                                               None\n",
       "6              username         character varying         YES                                               None\n",
       "7      boss_keycloak_id         character varying         YES                                               None\n",
       "8   agreement_kedo_date                      date         YES                                               None\n",
       "9          search_field         character varying         YES                                               None\n",
       "10             position         character varying         YES                                               None"
      ]
     },
     "metadata": {},
     "output_type": "display_data"
    },
    {
     "data": {
      "text/markdown": [
       "\n",
       "##### Ограничения (PK, FK):"
      ],
      "text/plain": [
       "<IPython.core.display.Markdown object>"
      ]
     },
     "metadata": {},
     "output_type": "display_data"
    },
    {
     "name": "stderr",
     "output_type": "stream",
     "text": [
      "/tmp/ipykernel_450849/82215137.py:79: UserWarning: pandas only supports SQLAlchemy connectable (engine/connection) or database string URI or sqlite3 DBAPI2 connection. Other DBAPI2 objects are not tested. Please consider using SQLAlchemy.\n",
      "  df = pd.read_sql_query(query, conn)\n"
     ]
    },
    {
     "data": {
      "text/html": [
       "<div>\n",
       "<style scoped>\n",
       "    .dataframe tbody tr th:only-of-type {\n",
       "        vertical-align: middle;\n",
       "    }\n",
       "\n",
       "    .dataframe tbody tr th {\n",
       "        vertical-align: top;\n",
       "    }\n",
       "\n",
       "    .dataframe thead th {\n",
       "        text-align: right;\n",
       "    }\n",
       "</style>\n",
       "<table border=\"1\" class=\"dataframe\">\n",
       "  <thead>\n",
       "    <tr style=\"text-align: right;\">\n",
       "      <th></th>\n",
       "      <th>constraint_name</th>\n",
       "      <th>constraint_type</th>\n",
       "      <th>column_name</th>\n",
       "      <th>foreign_table_name</th>\n",
       "      <th>foreign_column_name</th>\n",
       "    </tr>\n",
       "  </thead>\n",
       "  <tbody>\n",
       "    <tr>\n",
       "      <th>0</th>\n",
       "      <td>profile_sync_profileuserdata_user_id_2c1242e1_...</td>\n",
       "      <td>FOREIGN KEY</td>\n",
       "      <td>user_id</td>\n",
       "      <td>auth_user</td>\n",
       "      <td>id</td>\n",
       "    </tr>\n",
       "    <tr>\n",
       "      <th>1</th>\n",
       "      <td>profile_sync_profileuserdata_pkey</td>\n",
       "      <td>PRIMARY KEY</td>\n",
       "      <td>id</td>\n",
       "      <td>profile_sync_profileuserdata</td>\n",
       "      <td>id</td>\n",
       "    </tr>\n",
       "    <tr>\n",
       "      <th>2</th>\n",
       "      <td>profile_sync_profileuserdata_keycloak_id_key</td>\n",
       "      <td>UNIQUE</td>\n",
       "      <td>keycloak_id</td>\n",
       "      <td>profile_sync_profileuserdata</td>\n",
       "      <td>keycloak_id</td>\n",
       "    </tr>\n",
       "    <tr>\n",
       "      <th>3</th>\n",
       "      <td>profile_sync_profileuserdata_user_id_key</td>\n",
       "      <td>UNIQUE</td>\n",
       "      <td>user_id</td>\n",
       "      <td>profile_sync_profileuserdata</td>\n",
       "      <td>user_id</td>\n",
       "    </tr>\n",
       "  </tbody>\n",
       "</table>\n",
       "</div>"
      ],
      "text/plain": [
       "                                     constraint_name constraint_type  column_name            foreign_table_name foreign_column_name\n",
       "0  profile_sync_profileuserdata_user_id_2c1242e1_...     FOREIGN KEY      user_id                     auth_user                  id\n",
       "1                  profile_sync_profileuserdata_pkey     PRIMARY KEY           id  profile_sync_profileuserdata                  id\n",
       "2       profile_sync_profileuserdata_keycloak_id_key          UNIQUE  keycloak_id  profile_sync_profileuserdata         keycloak_id\n",
       "3           profile_sync_profileuserdata_user_id_key          UNIQUE      user_id  profile_sync_profileuserdata             user_id"
      ]
     },
     "metadata": {},
     "output_type": "display_data"
    },
    {
     "data": {
      "text/markdown": [
       "\n",
       "#### Таблица: `reactions_deprecatedreaction`"
      ],
      "text/plain": [
       "<IPython.core.display.Markdown object>"
      ]
     },
     "metadata": {},
     "output_type": "display_data"
    },
    {
     "data": {
      "text/markdown": [
       "\n",
       "##### Схема:"
      ],
      "text/plain": [
       "<IPython.core.display.Markdown object>"
      ]
     },
     "metadata": {},
     "output_type": "display_data"
    },
    {
     "name": "stderr",
     "output_type": "stream",
     "text": [
      "/tmp/ipykernel_450849/82215137.py:49: UserWarning: pandas only supports SQLAlchemy connectable (engine/connection) or database string URI or sqlite3 DBAPI2 connection. Other DBAPI2 objects are not tested. Please consider using SQLAlchemy.\n",
      "  df = pd.read_sql_query(query, conn)\n"
     ]
    },
    {
     "data": {
      "text/html": [
       "<div>\n",
       "<style scoped>\n",
       "    .dataframe tbody tr th:only-of-type {\n",
       "        vertical-align: middle;\n",
       "    }\n",
       "\n",
       "    .dataframe tbody tr th {\n",
       "        vertical-align: top;\n",
       "    }\n",
       "\n",
       "    .dataframe thead th {\n",
       "        text-align: right;\n",
       "    }\n",
       "</style>\n",
       "<table border=\"1\" class=\"dataframe\">\n",
       "  <thead>\n",
       "    <tr style=\"text-align: right;\">\n",
       "      <th></th>\n",
       "      <th>column_name</th>\n",
       "      <th>data_type</th>\n",
       "      <th>is_nullable</th>\n",
       "      <th>column_default</th>\n",
       "    </tr>\n",
       "  </thead>\n",
       "  <tbody>\n",
       "    <tr>\n",
       "      <th>0</th>\n",
       "      <td>id</td>\n",
       "      <td>bigint</td>\n",
       "      <td>NO</td>\n",
       "      <td>nextval('reactions_reaction_id_seq'::regclass)</td>\n",
       "    </tr>\n",
       "    <tr>\n",
       "      <th>1</th>\n",
       "      <td>emoji_uuid</td>\n",
       "      <td>uuid</td>\n",
       "      <td>NO</td>\n",
       "      <td>None</td>\n",
       "    </tr>\n",
       "    <tr>\n",
       "      <th>2</th>\n",
       "      <td>created_at</td>\n",
       "      <td>timestamp with time zone</td>\n",
       "      <td>NO</td>\n",
       "      <td>None</td>\n",
       "    </tr>\n",
       "    <tr>\n",
       "      <th>3</th>\n",
       "      <td>storage_object_id</td>\n",
       "      <td>uuid</td>\n",
       "      <td>NO</td>\n",
       "      <td>None</td>\n",
       "    </tr>\n",
       "    <tr>\n",
       "      <th>4</th>\n",
       "      <td>user_id</td>\n",
       "      <td>integer</td>\n",
       "      <td>NO</td>\n",
       "      <td>None</td>\n",
       "    </tr>\n",
       "  </tbody>\n",
       "</table>\n",
       "</div>"
      ],
      "text/plain": [
       "         column_name                 data_type is_nullable                                  column_default\n",
       "0                 id                    bigint          NO  nextval('reactions_reaction_id_seq'::regclass)\n",
       "1         emoji_uuid                      uuid          NO                                            None\n",
       "2         created_at  timestamp with time zone          NO                                            None\n",
       "3  storage_object_id                      uuid          NO                                            None\n",
       "4            user_id                   integer          NO                                            None"
      ]
     },
     "metadata": {},
     "output_type": "display_data"
    },
    {
     "data": {
      "text/markdown": [
       "\n",
       "##### Ограничения (PK, FK):"
      ],
      "text/plain": [
       "<IPython.core.display.Markdown object>"
      ]
     },
     "metadata": {},
     "output_type": "display_data"
    },
    {
     "name": "stderr",
     "output_type": "stream",
     "text": [
      "/tmp/ipykernel_450849/82215137.py:79: UserWarning: pandas only supports SQLAlchemy connectable (engine/connection) or database string URI or sqlite3 DBAPI2 connection. Other DBAPI2 objects are not tested. Please consider using SQLAlchemy.\n",
      "  df = pd.read_sql_query(query, conn)\n"
     ]
    },
    {
     "data": {
      "text/html": [
       "<div>\n",
       "<style scoped>\n",
       "    .dataframe tbody tr th:only-of-type {\n",
       "        vertical-align: middle;\n",
       "    }\n",
       "\n",
       "    .dataframe tbody tr th {\n",
       "        vertical-align: top;\n",
       "    }\n",
       "\n",
       "    .dataframe thead th {\n",
       "        text-align: right;\n",
       "    }\n",
       "</style>\n",
       "<table border=\"1\" class=\"dataframe\">\n",
       "  <thead>\n",
       "    <tr style=\"text-align: right;\">\n",
       "      <th></th>\n",
       "      <th>constraint_name</th>\n",
       "      <th>constraint_type</th>\n",
       "      <th>column_name</th>\n",
       "      <th>foreign_table_name</th>\n",
       "      <th>foreign_column_name</th>\n",
       "    </tr>\n",
       "  </thead>\n",
       "  <tbody>\n",
       "    <tr>\n",
       "      <th>0</th>\n",
       "      <td>reactions_reaction_storage_object_id_19f40b3d_...</td>\n",
       "      <td>FOREIGN KEY</td>\n",
       "      <td>storage_object_id</td>\n",
       "      <td>storage_storageobject</td>\n",
       "      <td>id</td>\n",
       "    </tr>\n",
       "    <tr>\n",
       "      <th>1</th>\n",
       "      <td>reactions_reaction_user_id_f387ba6a_fk_auth_us...</td>\n",
       "      <td>FOREIGN KEY</td>\n",
       "      <td>user_id</td>\n",
       "      <td>auth_user</td>\n",
       "      <td>id</td>\n",
       "    </tr>\n",
       "    <tr>\n",
       "      <th>2</th>\n",
       "      <td>reactions_reaction_pkey</td>\n",
       "      <td>PRIMARY KEY</td>\n",
       "      <td>id</td>\n",
       "      <td>reactions_deprecatedreaction</td>\n",
       "      <td>id</td>\n",
       "    </tr>\n",
       "    <tr>\n",
       "      <th>3</th>\n",
       "      <td>reactions_reaction_user_id_storage_object_id_8...</td>\n",
       "      <td>UNIQUE</td>\n",
       "      <td>user_id</td>\n",
       "      <td>reactions_deprecatedreaction</td>\n",
       "      <td>user_id</td>\n",
       "    </tr>\n",
       "    <tr>\n",
       "      <th>4</th>\n",
       "      <td>reactions_reaction_user_id_storage_object_id_8...</td>\n",
       "      <td>UNIQUE</td>\n",
       "      <td>user_id</td>\n",
       "      <td>reactions_deprecatedreaction</td>\n",
       "      <td>storage_object_id</td>\n",
       "    </tr>\n",
       "    <tr>\n",
       "      <th>5</th>\n",
       "      <td>reactions_reaction_user_id_storage_object_id_8...</td>\n",
       "      <td>UNIQUE</td>\n",
       "      <td>storage_object_id</td>\n",
       "      <td>reactions_deprecatedreaction</td>\n",
       "      <td>storage_object_id</td>\n",
       "    </tr>\n",
       "    <tr>\n",
       "      <th>6</th>\n",
       "      <td>reactions_reaction_user_id_storage_object_id_8...</td>\n",
       "      <td>UNIQUE</td>\n",
       "      <td>storage_object_id</td>\n",
       "      <td>reactions_deprecatedreaction</td>\n",
       "      <td>user_id</td>\n",
       "    </tr>\n",
       "  </tbody>\n",
       "</table>\n",
       "</div>"
      ],
      "text/plain": [
       "                                     constraint_name constraint_type        column_name            foreign_table_name foreign_column_name\n",
       "0  reactions_reaction_storage_object_id_19f40b3d_...     FOREIGN KEY  storage_object_id         storage_storageobject                  id\n",
       "1  reactions_reaction_user_id_f387ba6a_fk_auth_us...     FOREIGN KEY            user_id                     auth_user                  id\n",
       "2                            reactions_reaction_pkey     PRIMARY KEY                 id  reactions_deprecatedreaction                  id\n",
       "3  reactions_reaction_user_id_storage_object_id_8...          UNIQUE            user_id  reactions_deprecatedreaction             user_id\n",
       "4  reactions_reaction_user_id_storage_object_id_8...          UNIQUE            user_id  reactions_deprecatedreaction   storage_object_id\n",
       "5  reactions_reaction_user_id_storage_object_id_8...          UNIQUE  storage_object_id  reactions_deprecatedreaction   storage_object_id\n",
       "6  reactions_reaction_user_id_storage_object_id_8...          UNIQUE  storage_object_id  reactions_deprecatedreaction             user_id"
      ]
     },
     "metadata": {},
     "output_type": "display_data"
    },
    {
     "data": {
      "text/markdown": [
       "\n",
       "#### Таблица: `reactions_favorite`"
      ],
      "text/plain": [
       "<IPython.core.display.Markdown object>"
      ]
     },
     "metadata": {},
     "output_type": "display_data"
    },
    {
     "data": {
      "text/markdown": [
       "\n",
       "##### Схема:"
      ],
      "text/plain": [
       "<IPython.core.display.Markdown object>"
      ]
     },
     "metadata": {},
     "output_type": "display_data"
    },
    {
     "name": "stderr",
     "output_type": "stream",
     "text": [
      "/tmp/ipykernel_450849/82215137.py:49: UserWarning: pandas only supports SQLAlchemy connectable (engine/connection) or database string URI or sqlite3 DBAPI2 connection. Other DBAPI2 objects are not tested. Please consider using SQLAlchemy.\n",
      "  df = pd.read_sql_query(query, conn)\n"
     ]
    },
    {
     "data": {
      "text/html": [
       "<div>\n",
       "<style scoped>\n",
       "    .dataframe tbody tr th:only-of-type {\n",
       "        vertical-align: middle;\n",
       "    }\n",
       "\n",
       "    .dataframe tbody tr th {\n",
       "        vertical-align: top;\n",
       "    }\n",
       "\n",
       "    .dataframe thead th {\n",
       "        text-align: right;\n",
       "    }\n",
       "</style>\n",
       "<table border=\"1\" class=\"dataframe\">\n",
       "  <thead>\n",
       "    <tr style=\"text-align: right;\">\n",
       "      <th></th>\n",
       "      <th>column_name</th>\n",
       "      <th>data_type</th>\n",
       "      <th>is_nullable</th>\n",
       "      <th>column_default</th>\n",
       "    </tr>\n",
       "  </thead>\n",
       "  <tbody>\n",
       "    <tr>\n",
       "      <th>0</th>\n",
       "      <td>id</td>\n",
       "      <td>bigint</td>\n",
       "      <td>NO</td>\n",
       "      <td>nextval('reactions_favorite_id_seq'::regclass)</td>\n",
       "    </tr>\n",
       "    <tr>\n",
       "      <th>1</th>\n",
       "      <td>created_at</td>\n",
       "      <td>timestamp with time zone</td>\n",
       "      <td>NO</td>\n",
       "      <td>None</td>\n",
       "    </tr>\n",
       "    <tr>\n",
       "      <th>2</th>\n",
       "      <td>storage_object_id</td>\n",
       "      <td>uuid</td>\n",
       "      <td>NO</td>\n",
       "      <td>None</td>\n",
       "    </tr>\n",
       "    <tr>\n",
       "      <th>3</th>\n",
       "      <td>user_id</td>\n",
       "      <td>integer</td>\n",
       "      <td>NO</td>\n",
       "      <td>None</td>\n",
       "    </tr>\n",
       "  </tbody>\n",
       "</table>\n",
       "</div>"
      ],
      "text/plain": [
       "         column_name                 data_type is_nullable                                  column_default\n",
       "0                 id                    bigint          NO  nextval('reactions_favorite_id_seq'::regclass)\n",
       "1         created_at  timestamp with time zone          NO                                            None\n",
       "2  storage_object_id                      uuid          NO                                            None\n",
       "3            user_id                   integer          NO                                            None"
      ]
     },
     "metadata": {},
     "output_type": "display_data"
    },
    {
     "data": {
      "text/markdown": [
       "\n",
       "##### Ограничения (PK, FK):"
      ],
      "text/plain": [
       "<IPython.core.display.Markdown object>"
      ]
     },
     "metadata": {},
     "output_type": "display_data"
    },
    {
     "name": "stderr",
     "output_type": "stream",
     "text": [
      "/tmp/ipykernel_450849/82215137.py:79: UserWarning: pandas only supports SQLAlchemy connectable (engine/connection) or database string URI or sqlite3 DBAPI2 connection. Other DBAPI2 objects are not tested. Please consider using SQLAlchemy.\n",
      "  df = pd.read_sql_query(query, conn)\n"
     ]
    },
    {
     "data": {
      "text/html": [
       "<div>\n",
       "<style scoped>\n",
       "    .dataframe tbody tr th:only-of-type {\n",
       "        vertical-align: middle;\n",
       "    }\n",
       "\n",
       "    .dataframe tbody tr th {\n",
       "        vertical-align: top;\n",
       "    }\n",
       "\n",
       "    .dataframe thead th {\n",
       "        text-align: right;\n",
       "    }\n",
       "</style>\n",
       "<table border=\"1\" class=\"dataframe\">\n",
       "  <thead>\n",
       "    <tr style=\"text-align: right;\">\n",
       "      <th></th>\n",
       "      <th>constraint_name</th>\n",
       "      <th>constraint_type</th>\n",
       "      <th>column_name</th>\n",
       "      <th>foreign_table_name</th>\n",
       "      <th>foreign_column_name</th>\n",
       "    </tr>\n",
       "  </thead>\n",
       "  <tbody>\n",
       "    <tr>\n",
       "      <th>0</th>\n",
       "      <td>reactions_favorite_storage_object_id_e644fa59_...</td>\n",
       "      <td>FOREIGN KEY</td>\n",
       "      <td>storage_object_id</td>\n",
       "      <td>storage_storageobject</td>\n",
       "      <td>id</td>\n",
       "    </tr>\n",
       "    <tr>\n",
       "      <th>1</th>\n",
       "      <td>reactions_favorite_user_id_2d85c519_fk_auth_us...</td>\n",
       "      <td>FOREIGN KEY</td>\n",
       "      <td>user_id</td>\n",
       "      <td>auth_user</td>\n",
       "      <td>id</td>\n",
       "    </tr>\n",
       "    <tr>\n",
       "      <th>2</th>\n",
       "      <td>reactions_favorite_pkey</td>\n",
       "      <td>PRIMARY KEY</td>\n",
       "      <td>id</td>\n",
       "      <td>reactions_favorite</td>\n",
       "      <td>id</td>\n",
       "    </tr>\n",
       "    <tr>\n",
       "      <th>3</th>\n",
       "      <td>reactions_favorite_user_id_storage_object_id_7...</td>\n",
       "      <td>UNIQUE</td>\n",
       "      <td>user_id</td>\n",
       "      <td>reactions_favorite</td>\n",
       "      <td>user_id</td>\n",
       "    </tr>\n",
       "    <tr>\n",
       "      <th>4</th>\n",
       "      <td>reactions_favorite_user_id_storage_object_id_7...</td>\n",
       "      <td>UNIQUE</td>\n",
       "      <td>user_id</td>\n",
       "      <td>reactions_favorite</td>\n",
       "      <td>storage_object_id</td>\n",
       "    </tr>\n",
       "    <tr>\n",
       "      <th>5</th>\n",
       "      <td>reactions_favorite_user_id_storage_object_id_7...</td>\n",
       "      <td>UNIQUE</td>\n",
       "      <td>storage_object_id</td>\n",
       "      <td>reactions_favorite</td>\n",
       "      <td>storage_object_id</td>\n",
       "    </tr>\n",
       "    <tr>\n",
       "      <th>6</th>\n",
       "      <td>reactions_favorite_user_id_storage_object_id_7...</td>\n",
       "      <td>UNIQUE</td>\n",
       "      <td>storage_object_id</td>\n",
       "      <td>reactions_favorite</td>\n",
       "      <td>user_id</td>\n",
       "    </tr>\n",
       "  </tbody>\n",
       "</table>\n",
       "</div>"
      ],
      "text/plain": [
       "                                     constraint_name constraint_type        column_name     foreign_table_name foreign_column_name\n",
       "0  reactions_favorite_storage_object_id_e644fa59_...     FOREIGN KEY  storage_object_id  storage_storageobject                  id\n",
       "1  reactions_favorite_user_id_2d85c519_fk_auth_us...     FOREIGN KEY            user_id              auth_user                  id\n",
       "2                            reactions_favorite_pkey     PRIMARY KEY                 id     reactions_favorite                  id\n",
       "3  reactions_favorite_user_id_storage_object_id_7...          UNIQUE            user_id     reactions_favorite             user_id\n",
       "4  reactions_favorite_user_id_storage_object_id_7...          UNIQUE            user_id     reactions_favorite   storage_object_id\n",
       "5  reactions_favorite_user_id_storage_object_id_7...          UNIQUE  storage_object_id     reactions_favorite   storage_object_id\n",
       "6  reactions_favorite_user_id_storage_object_id_7...          UNIQUE  storage_object_id     reactions_favorite             user_id"
      ]
     },
     "metadata": {},
     "output_type": "display_data"
    },
    {
     "data": {
      "text/markdown": [
       "\n",
       "#### Таблица: `reactions_subscription`"
      ],
      "text/plain": [
       "<IPython.core.display.Markdown object>"
      ]
     },
     "metadata": {},
     "output_type": "display_data"
    },
    {
     "data": {
      "text/markdown": [
       "\n",
       "##### Схема:"
      ],
      "text/plain": [
       "<IPython.core.display.Markdown object>"
      ]
     },
     "metadata": {},
     "output_type": "display_data"
    },
    {
     "name": "stderr",
     "output_type": "stream",
     "text": [
      "/tmp/ipykernel_450849/82215137.py:49: UserWarning: pandas only supports SQLAlchemy connectable (engine/connection) or database string URI or sqlite3 DBAPI2 connection. Other DBAPI2 objects are not tested. Please consider using SQLAlchemy.\n",
      "  df = pd.read_sql_query(query, conn)\n"
     ]
    },
    {
     "data": {
      "text/html": [
       "<div>\n",
       "<style scoped>\n",
       "    .dataframe tbody tr th:only-of-type {\n",
       "        vertical-align: middle;\n",
       "    }\n",
       "\n",
       "    .dataframe tbody tr th {\n",
       "        vertical-align: top;\n",
       "    }\n",
       "\n",
       "    .dataframe thead th {\n",
       "        text-align: right;\n",
       "    }\n",
       "</style>\n",
       "<table border=\"1\" class=\"dataframe\">\n",
       "  <thead>\n",
       "    <tr style=\"text-align: right;\">\n",
       "      <th></th>\n",
       "      <th>column_name</th>\n",
       "      <th>data_type</th>\n",
       "      <th>is_nullable</th>\n",
       "      <th>column_default</th>\n",
       "    </tr>\n",
       "  </thead>\n",
       "  <tbody>\n",
       "    <tr>\n",
       "      <th>0</th>\n",
       "      <td>id</td>\n",
       "      <td>bigint</td>\n",
       "      <td>NO</td>\n",
       "      <td>nextval('reactions_subscription_id_seq'::regcl...</td>\n",
       "    </tr>\n",
       "    <tr>\n",
       "      <th>1</th>\n",
       "      <td>created_at</td>\n",
       "      <td>timestamp with time zone</td>\n",
       "      <td>NO</td>\n",
       "      <td>None</td>\n",
       "    </tr>\n",
       "    <tr>\n",
       "      <th>2</th>\n",
       "      <td>storage_object_id</td>\n",
       "      <td>uuid</td>\n",
       "      <td>NO</td>\n",
       "      <td>None</td>\n",
       "    </tr>\n",
       "    <tr>\n",
       "      <th>3</th>\n",
       "      <td>user_id</td>\n",
       "      <td>integer</td>\n",
       "      <td>NO</td>\n",
       "      <td>None</td>\n",
       "    </tr>\n",
       "  </tbody>\n",
       "</table>\n",
       "</div>"
      ],
      "text/plain": [
       "         column_name                 data_type is_nullable                                     column_default\n",
       "0                 id                    bigint          NO  nextval('reactions_subscription_id_seq'::regcl...\n",
       "1         created_at  timestamp with time zone          NO                                               None\n",
       "2  storage_object_id                      uuid          NO                                               None\n",
       "3            user_id                   integer          NO                                               None"
      ]
     },
     "metadata": {},
     "output_type": "display_data"
    },
    {
     "data": {
      "text/markdown": [
       "\n",
       "##### Ограничения (PK, FK):"
      ],
      "text/plain": [
       "<IPython.core.display.Markdown object>"
      ]
     },
     "metadata": {},
     "output_type": "display_data"
    },
    {
     "name": "stderr",
     "output_type": "stream",
     "text": [
      "/tmp/ipykernel_450849/82215137.py:79: UserWarning: pandas only supports SQLAlchemy connectable (engine/connection) or database string URI or sqlite3 DBAPI2 connection. Other DBAPI2 objects are not tested. Please consider using SQLAlchemy.\n",
      "  df = pd.read_sql_query(query, conn)\n"
     ]
    },
    {
     "data": {
      "text/html": [
       "<div>\n",
       "<style scoped>\n",
       "    .dataframe tbody tr th:only-of-type {\n",
       "        vertical-align: middle;\n",
       "    }\n",
       "\n",
       "    .dataframe tbody tr th {\n",
       "        vertical-align: top;\n",
       "    }\n",
       "\n",
       "    .dataframe thead th {\n",
       "        text-align: right;\n",
       "    }\n",
       "</style>\n",
       "<table border=\"1\" class=\"dataframe\">\n",
       "  <thead>\n",
       "    <tr style=\"text-align: right;\">\n",
       "      <th></th>\n",
       "      <th>constraint_name</th>\n",
       "      <th>constraint_type</th>\n",
       "      <th>column_name</th>\n",
       "      <th>foreign_table_name</th>\n",
       "      <th>foreign_column_name</th>\n",
       "    </tr>\n",
       "  </thead>\n",
       "  <tbody>\n",
       "    <tr>\n",
       "      <th>0</th>\n",
       "      <td>reactions_subscripti_storage_object_id_b487f30...</td>\n",
       "      <td>FOREIGN KEY</td>\n",
       "      <td>storage_object_id</td>\n",
       "      <td>storage_storageobject</td>\n",
       "      <td>id</td>\n",
       "    </tr>\n",
       "    <tr>\n",
       "      <th>1</th>\n",
       "      <td>reactions_subscription_user_id_5894e10c_fk_aut...</td>\n",
       "      <td>FOREIGN KEY</td>\n",
       "      <td>user_id</td>\n",
       "      <td>auth_user</td>\n",
       "      <td>id</td>\n",
       "    </tr>\n",
       "    <tr>\n",
       "      <th>2</th>\n",
       "      <td>reactions_subscription_pkey</td>\n",
       "      <td>PRIMARY KEY</td>\n",
       "      <td>id</td>\n",
       "      <td>reactions_subscription</td>\n",
       "      <td>id</td>\n",
       "    </tr>\n",
       "  </tbody>\n",
       "</table>\n",
       "</div>"
      ],
      "text/plain": [
       "                                     constraint_name constraint_type        column_name      foreign_table_name foreign_column_name\n",
       "0  reactions_subscripti_storage_object_id_b487f30...     FOREIGN KEY  storage_object_id   storage_storageobject                  id\n",
       "1  reactions_subscription_user_id_5894e10c_fk_aut...     FOREIGN KEY            user_id               auth_user                  id\n",
       "2                        reactions_subscription_pkey     PRIMARY KEY                 id  reactions_subscription                  id"
      ]
     },
     "metadata": {},
     "output_type": "display_data"
    },
    {
     "data": {
      "text/markdown": [
       "\n",
       "#### Таблица: `role_model_genericpermission`"
      ],
      "text/plain": [
       "<IPython.core.display.Markdown object>"
      ]
     },
     "metadata": {},
     "output_type": "display_data"
    },
    {
     "data": {
      "text/markdown": [
       "\n",
       "##### Схема:"
      ],
      "text/plain": [
       "<IPython.core.display.Markdown object>"
      ]
     },
     "metadata": {},
     "output_type": "display_data"
    },
    {
     "name": "stderr",
     "output_type": "stream",
     "text": [
      "/tmp/ipykernel_450849/82215137.py:49: UserWarning: pandas only supports SQLAlchemy connectable (engine/connection) or database string URI or sqlite3 DBAPI2 connection. Other DBAPI2 objects are not tested. Please consider using SQLAlchemy.\n",
      "  df = pd.read_sql_query(query, conn)\n"
     ]
    },
    {
     "data": {
      "text/html": [
       "<div>\n",
       "<style scoped>\n",
       "    .dataframe tbody tr th:only-of-type {\n",
       "        vertical-align: middle;\n",
       "    }\n",
       "\n",
       "    .dataframe tbody tr th {\n",
       "        vertical-align: top;\n",
       "    }\n",
       "\n",
       "    .dataframe thead th {\n",
       "        text-align: right;\n",
       "    }\n",
       "</style>\n",
       "<table border=\"1\" class=\"dataframe\">\n",
       "  <thead>\n",
       "    <tr style=\"text-align: right;\">\n",
       "      <th></th>\n",
       "      <th>column_name</th>\n",
       "      <th>data_type</th>\n",
       "      <th>is_nullable</th>\n",
       "      <th>column_default</th>\n",
       "    </tr>\n",
       "  </thead>\n",
       "  <tbody>\n",
       "    <tr>\n",
       "      <th>0</th>\n",
       "      <td>id</td>\n",
       "      <td>bigint</td>\n",
       "      <td>NO</td>\n",
       "      <td>nextval('role_model_genericpermission_id_seq':...</td>\n",
       "    </tr>\n",
       "    <tr>\n",
       "      <th>1</th>\n",
       "      <td>codename</td>\n",
       "      <td>character varying</td>\n",
       "      <td>NO</td>\n",
       "      <td>None</td>\n",
       "    </tr>\n",
       "  </tbody>\n",
       "</table>\n",
       "</div>"
      ],
      "text/plain": [
       "  column_name          data_type is_nullable                                     column_default\n",
       "0          id             bigint          NO  nextval('role_model_genericpermission_id_seq':...\n",
       "1    codename  character varying          NO                                               None"
      ]
     },
     "metadata": {},
     "output_type": "display_data"
    },
    {
     "data": {
      "text/markdown": [
       "\n",
       "##### Ограничения (PK, FK):"
      ],
      "text/plain": [
       "<IPython.core.display.Markdown object>"
      ]
     },
     "metadata": {},
     "output_type": "display_data"
    },
    {
     "name": "stderr",
     "output_type": "stream",
     "text": [
      "/tmp/ipykernel_450849/82215137.py:79: UserWarning: pandas only supports SQLAlchemy connectable (engine/connection) or database string URI or sqlite3 DBAPI2 connection. Other DBAPI2 objects are not tested. Please consider using SQLAlchemy.\n",
      "  df = pd.read_sql_query(query, conn)\n"
     ]
    },
    {
     "data": {
      "text/html": [
       "<div>\n",
       "<style scoped>\n",
       "    .dataframe tbody tr th:only-of-type {\n",
       "        vertical-align: middle;\n",
       "    }\n",
       "\n",
       "    .dataframe tbody tr th {\n",
       "        vertical-align: top;\n",
       "    }\n",
       "\n",
       "    .dataframe thead th {\n",
       "        text-align: right;\n",
       "    }\n",
       "</style>\n",
       "<table border=\"1\" class=\"dataframe\">\n",
       "  <thead>\n",
       "    <tr style=\"text-align: right;\">\n",
       "      <th></th>\n",
       "      <th>constraint_name</th>\n",
       "      <th>constraint_type</th>\n",
       "      <th>column_name</th>\n",
       "      <th>foreign_table_name</th>\n",
       "      <th>foreign_column_name</th>\n",
       "    </tr>\n",
       "  </thead>\n",
       "  <tbody>\n",
       "    <tr>\n",
       "      <th>0</th>\n",
       "      <td>role_model_genericpermission_pkey</td>\n",
       "      <td>PRIMARY KEY</td>\n",
       "      <td>id</td>\n",
       "      <td>role_model_genericpermission</td>\n",
       "      <td>id</td>\n",
       "    </tr>\n",
       "    <tr>\n",
       "      <th>1</th>\n",
       "      <td>role_model_genericpermission_codename_key</td>\n",
       "      <td>UNIQUE</td>\n",
       "      <td>codename</td>\n",
       "      <td>role_model_genericpermission</td>\n",
       "      <td>codename</td>\n",
       "    </tr>\n",
       "  </tbody>\n",
       "</table>\n",
       "</div>"
      ],
      "text/plain": [
       "                             constraint_name constraint_type column_name            foreign_table_name foreign_column_name\n",
       "0          role_model_genericpermission_pkey     PRIMARY KEY          id  role_model_genericpermission                  id\n",
       "1  role_model_genericpermission_codename_key          UNIQUE    codename  role_model_genericpermission            codename"
      ]
     },
     "metadata": {},
     "output_type": "display_data"
    },
    {
     "data": {
      "text/markdown": [
       "\n",
       "#### Таблица: `role_model_genericrole`"
      ],
      "text/plain": [
       "<IPython.core.display.Markdown object>"
      ]
     },
     "metadata": {},
     "output_type": "display_data"
    },
    {
     "data": {
      "text/markdown": [
       "\n",
       "##### Схема:"
      ],
      "text/plain": [
       "<IPython.core.display.Markdown object>"
      ]
     },
     "metadata": {},
     "output_type": "display_data"
    },
    {
     "name": "stderr",
     "output_type": "stream",
     "text": [
      "/tmp/ipykernel_450849/82215137.py:49: UserWarning: pandas only supports SQLAlchemy connectable (engine/connection) or database string URI or sqlite3 DBAPI2 connection. Other DBAPI2 objects are not tested. Please consider using SQLAlchemy.\n",
      "  df = pd.read_sql_query(query, conn)\n"
     ]
    },
    {
     "data": {
      "text/html": [
       "<div>\n",
       "<style scoped>\n",
       "    .dataframe tbody tr th:only-of-type {\n",
       "        vertical-align: middle;\n",
       "    }\n",
       "\n",
       "    .dataframe tbody tr th {\n",
       "        vertical-align: top;\n",
       "    }\n",
       "\n",
       "    .dataframe thead th {\n",
       "        text-align: right;\n",
       "    }\n",
       "</style>\n",
       "<table border=\"1\" class=\"dataframe\">\n",
       "  <thead>\n",
       "    <tr style=\"text-align: right;\">\n",
       "      <th></th>\n",
       "      <th>column_name</th>\n",
       "      <th>data_type</th>\n",
       "      <th>is_nullable</th>\n",
       "      <th>column_default</th>\n",
       "    </tr>\n",
       "  </thead>\n",
       "  <tbody>\n",
       "    <tr>\n",
       "      <th>0</th>\n",
       "      <td>id</td>\n",
       "      <td>bigint</td>\n",
       "      <td>NO</td>\n",
       "      <td>nextval('role_model_genericrole_id_seq'::regcl...</td>\n",
       "    </tr>\n",
       "    <tr>\n",
       "      <th>1</th>\n",
       "      <td>name</td>\n",
       "      <td>character varying</td>\n",
       "      <td>NO</td>\n",
       "      <td>None</td>\n",
       "    </tr>\n",
       "  </tbody>\n",
       "</table>\n",
       "</div>"
      ],
      "text/plain": [
       "  column_name          data_type is_nullable                                     column_default\n",
       "0          id             bigint          NO  nextval('role_model_genericrole_id_seq'::regcl...\n",
       "1        name  character varying          NO                                               None"
      ]
     },
     "metadata": {},
     "output_type": "display_data"
    },
    {
     "data": {
      "text/markdown": [
       "\n",
       "##### Ограничения (PK, FK):"
      ],
      "text/plain": [
       "<IPython.core.display.Markdown object>"
      ]
     },
     "metadata": {},
     "output_type": "display_data"
    },
    {
     "name": "stderr",
     "output_type": "stream",
     "text": [
      "/tmp/ipykernel_450849/82215137.py:79: UserWarning: pandas only supports SQLAlchemy connectable (engine/connection) or database string URI or sqlite3 DBAPI2 connection. Other DBAPI2 objects are not tested. Please consider using SQLAlchemy.\n",
      "  df = pd.read_sql_query(query, conn)\n"
     ]
    },
    {
     "data": {
      "text/html": [
       "<div>\n",
       "<style scoped>\n",
       "    .dataframe tbody tr th:only-of-type {\n",
       "        vertical-align: middle;\n",
       "    }\n",
       "\n",
       "    .dataframe tbody tr th {\n",
       "        vertical-align: top;\n",
       "    }\n",
       "\n",
       "    .dataframe thead th {\n",
       "        text-align: right;\n",
       "    }\n",
       "</style>\n",
       "<table border=\"1\" class=\"dataframe\">\n",
       "  <thead>\n",
       "    <tr style=\"text-align: right;\">\n",
       "      <th></th>\n",
       "      <th>constraint_name</th>\n",
       "      <th>constraint_type</th>\n",
       "      <th>column_name</th>\n",
       "      <th>foreign_table_name</th>\n",
       "      <th>foreign_column_name</th>\n",
       "    </tr>\n",
       "  </thead>\n",
       "  <tbody>\n",
       "    <tr>\n",
       "      <th>0</th>\n",
       "      <td>role_model_genericrole_pkey</td>\n",
       "      <td>PRIMARY KEY</td>\n",
       "      <td>id</td>\n",
       "      <td>role_model_genericrole</td>\n",
       "      <td>id</td>\n",
       "    </tr>\n",
       "    <tr>\n",
       "      <th>1</th>\n",
       "      <td>role_model_genericrole_name_key</td>\n",
       "      <td>UNIQUE</td>\n",
       "      <td>name</td>\n",
       "      <td>role_model_genericrole</td>\n",
       "      <td>name</td>\n",
       "    </tr>\n",
       "  </tbody>\n",
       "</table>\n",
       "</div>"
      ],
      "text/plain": [
       "                   constraint_name constraint_type column_name      foreign_table_name foreign_column_name\n",
       "0      role_model_genericrole_pkey     PRIMARY KEY          id  role_model_genericrole                  id\n",
       "1  role_model_genericrole_name_key          UNIQUE        name  role_model_genericrole                name"
      ]
     },
     "metadata": {},
     "output_type": "display_data"
    },
    {
     "data": {
      "text/markdown": [
       "\n",
       "#### Таблица: `role_model_genericrole_permissions`"
      ],
      "text/plain": [
       "<IPython.core.display.Markdown object>"
      ]
     },
     "metadata": {},
     "output_type": "display_data"
    },
    {
     "data": {
      "text/markdown": [
       "\n",
       "##### Схема:"
      ],
      "text/plain": [
       "<IPython.core.display.Markdown object>"
      ]
     },
     "metadata": {},
     "output_type": "display_data"
    },
    {
     "name": "stderr",
     "output_type": "stream",
     "text": [
      "/tmp/ipykernel_450849/82215137.py:49: UserWarning: pandas only supports SQLAlchemy connectable (engine/connection) or database string URI or sqlite3 DBAPI2 connection. Other DBAPI2 objects are not tested. Please consider using SQLAlchemy.\n",
      "  df = pd.read_sql_query(query, conn)\n"
     ]
    },
    {
     "data": {
      "text/html": [
       "<div>\n",
       "<style scoped>\n",
       "    .dataframe tbody tr th:only-of-type {\n",
       "        vertical-align: middle;\n",
       "    }\n",
       "\n",
       "    .dataframe tbody tr th {\n",
       "        vertical-align: top;\n",
       "    }\n",
       "\n",
       "    .dataframe thead th {\n",
       "        text-align: right;\n",
       "    }\n",
       "</style>\n",
       "<table border=\"1\" class=\"dataframe\">\n",
       "  <thead>\n",
       "    <tr style=\"text-align: right;\">\n",
       "      <th></th>\n",
       "      <th>column_name</th>\n",
       "      <th>data_type</th>\n",
       "      <th>is_nullable</th>\n",
       "      <th>column_default</th>\n",
       "    </tr>\n",
       "  </thead>\n",
       "  <tbody>\n",
       "    <tr>\n",
       "      <th>0</th>\n",
       "      <td>id</td>\n",
       "      <td>bigint</td>\n",
       "      <td>NO</td>\n",
       "      <td>nextval('role_model_genericrole_permissions_id...</td>\n",
       "    </tr>\n",
       "    <tr>\n",
       "      <th>1</th>\n",
       "      <td>genericrole_id</td>\n",
       "      <td>bigint</td>\n",
       "      <td>NO</td>\n",
       "      <td>None</td>\n",
       "    </tr>\n",
       "    <tr>\n",
       "      <th>2</th>\n",
       "      <td>genericpermission_id</td>\n",
       "      <td>bigint</td>\n",
       "      <td>NO</td>\n",
       "      <td>None</td>\n",
       "    </tr>\n",
       "  </tbody>\n",
       "</table>\n",
       "</div>"
      ],
      "text/plain": [
       "            column_name data_type is_nullable                                     column_default\n",
       "0                    id    bigint          NO  nextval('role_model_genericrole_permissions_id...\n",
       "1        genericrole_id    bigint          NO                                               None\n",
       "2  genericpermission_id    bigint          NO                                               None"
      ]
     },
     "metadata": {},
     "output_type": "display_data"
    },
    {
     "data": {
      "text/markdown": [
       "\n",
       "##### Ограничения (PK, FK):"
      ],
      "text/plain": [
       "<IPython.core.display.Markdown object>"
      ]
     },
     "metadata": {},
     "output_type": "display_data"
    },
    {
     "name": "stderr",
     "output_type": "stream",
     "text": [
      "/tmp/ipykernel_450849/82215137.py:79: UserWarning: pandas only supports SQLAlchemy connectable (engine/connection) or database string URI or sqlite3 DBAPI2 connection. Other DBAPI2 objects are not tested. Please consider using SQLAlchemy.\n",
      "  df = pd.read_sql_query(query, conn)\n"
     ]
    },
    {
     "data": {
      "text/html": [
       "<div>\n",
       "<style scoped>\n",
       "    .dataframe tbody tr th:only-of-type {\n",
       "        vertical-align: middle;\n",
       "    }\n",
       "\n",
       "    .dataframe tbody tr th {\n",
       "        vertical-align: top;\n",
       "    }\n",
       "\n",
       "    .dataframe thead th {\n",
       "        text-align: right;\n",
       "    }\n",
       "</style>\n",
       "<table border=\"1\" class=\"dataframe\">\n",
       "  <thead>\n",
       "    <tr style=\"text-align: right;\">\n",
       "      <th></th>\n",
       "      <th>constraint_name</th>\n",
       "      <th>constraint_type</th>\n",
       "      <th>column_name</th>\n",
       "      <th>foreign_table_name</th>\n",
       "      <th>foreign_column_name</th>\n",
       "    </tr>\n",
       "  </thead>\n",
       "  <tbody>\n",
       "    <tr>\n",
       "      <th>0</th>\n",
       "      <td>role_model_genericrole_permissions_pkey</td>\n",
       "      <td>PRIMARY KEY</td>\n",
       "      <td>id</td>\n",
       "      <td>role_model_genericrole_permissions</td>\n",
       "      <td>id</td>\n",
       "    </tr>\n",
       "    <tr>\n",
       "      <th>1</th>\n",
       "      <td>role_model_genericrole_p_genericrole_id_generi...</td>\n",
       "      <td>UNIQUE</td>\n",
       "      <td>genericrole_id</td>\n",
       "      <td>role_model_genericrole_permissions</td>\n",
       "      <td>genericrole_id</td>\n",
       "    </tr>\n",
       "    <tr>\n",
       "      <th>2</th>\n",
       "      <td>role_model_genericrole_p_genericrole_id_generi...</td>\n",
       "      <td>UNIQUE</td>\n",
       "      <td>genericrole_id</td>\n",
       "      <td>role_model_genericrole_permissions</td>\n",
       "      <td>genericpermission_id</td>\n",
       "    </tr>\n",
       "    <tr>\n",
       "      <th>3</th>\n",
       "      <td>role_model_genericrole_p_genericrole_id_generi...</td>\n",
       "      <td>UNIQUE</td>\n",
       "      <td>genericpermission_id</td>\n",
       "      <td>role_model_genericrole_permissions</td>\n",
       "      <td>genericrole_id</td>\n",
       "    </tr>\n",
       "    <tr>\n",
       "      <th>4</th>\n",
       "      <td>role_model_genericrole_p_genericrole_id_generi...</td>\n",
       "      <td>UNIQUE</td>\n",
       "      <td>genericpermission_id</td>\n",
       "      <td>role_model_genericrole_permissions</td>\n",
       "      <td>genericpermission_id</td>\n",
       "    </tr>\n",
       "  </tbody>\n",
       "</table>\n",
       "</div>"
      ],
      "text/plain": [
       "                                     constraint_name constraint_type           column_name                  foreign_table_name   foreign_column_name\n",
       "0            role_model_genericrole_permissions_pkey     PRIMARY KEY                    id  role_model_genericrole_permissions                    id\n",
       "1  role_model_genericrole_p_genericrole_id_generi...          UNIQUE        genericrole_id  role_model_genericrole_permissions        genericrole_id\n",
       "2  role_model_genericrole_p_genericrole_id_generi...          UNIQUE        genericrole_id  role_model_genericrole_permissions  genericpermission_id\n",
       "3  role_model_genericrole_p_genericrole_id_generi...          UNIQUE  genericpermission_id  role_model_genericrole_permissions        genericrole_id\n",
       "4  role_model_genericrole_p_genericrole_id_generi...          UNIQUE  genericpermission_id  role_model_genericrole_permissions  genericpermission_id"
      ]
     },
     "metadata": {},
     "output_type": "display_data"
    },
    {
     "data": {
      "text/markdown": [
       "\n",
       "#### Таблица: `role_model_genericuserrole`"
      ],
      "text/plain": [
       "<IPython.core.display.Markdown object>"
      ]
     },
     "metadata": {},
     "output_type": "display_data"
    },
    {
     "data": {
      "text/markdown": [
       "\n",
       "##### Схема:"
      ],
      "text/plain": [
       "<IPython.core.display.Markdown object>"
      ]
     },
     "metadata": {},
     "output_type": "display_data"
    },
    {
     "name": "stderr",
     "output_type": "stream",
     "text": [
      "/tmp/ipykernel_450849/82215137.py:49: UserWarning: pandas only supports SQLAlchemy connectable (engine/connection) or database string URI or sqlite3 DBAPI2 connection. Other DBAPI2 objects are not tested. Please consider using SQLAlchemy.\n",
      "  df = pd.read_sql_query(query, conn)\n"
     ]
    },
    {
     "data": {
      "text/html": [
       "<div>\n",
       "<style scoped>\n",
       "    .dataframe tbody tr th:only-of-type {\n",
       "        vertical-align: middle;\n",
       "    }\n",
       "\n",
       "    .dataframe tbody tr th {\n",
       "        vertical-align: top;\n",
       "    }\n",
       "\n",
       "    .dataframe thead th {\n",
       "        text-align: right;\n",
       "    }\n",
       "</style>\n",
       "<table border=\"1\" class=\"dataframe\">\n",
       "  <thead>\n",
       "    <tr style=\"text-align: right;\">\n",
       "      <th></th>\n",
       "      <th>column_name</th>\n",
       "      <th>data_type</th>\n",
       "      <th>is_nullable</th>\n",
       "      <th>column_default</th>\n",
       "    </tr>\n",
       "  </thead>\n",
       "  <tbody>\n",
       "    <tr>\n",
       "      <th>0</th>\n",
       "      <td>id</td>\n",
       "      <td>bigint</td>\n",
       "      <td>NO</td>\n",
       "      <td>nextval('role_model_genericuserrole_id_seq'::r...</td>\n",
       "    </tr>\n",
       "    <tr>\n",
       "      <th>1</th>\n",
       "      <td>object_id</td>\n",
       "      <td>integer</td>\n",
       "      <td>NO</td>\n",
       "      <td>None</td>\n",
       "    </tr>\n",
       "    <tr>\n",
       "      <th>2</th>\n",
       "      <td>content_type_id</td>\n",
       "      <td>integer</td>\n",
       "      <td>NO</td>\n",
       "      <td>None</td>\n",
       "    </tr>\n",
       "    <tr>\n",
       "      <th>3</th>\n",
       "      <td>role_id</td>\n",
       "      <td>bigint</td>\n",
       "      <td>NO</td>\n",
       "      <td>None</td>\n",
       "    </tr>\n",
       "    <tr>\n",
       "      <th>4</th>\n",
       "      <td>user_uid</td>\n",
       "      <td>uuid</td>\n",
       "      <td>YES</td>\n",
       "      <td>None</td>\n",
       "    </tr>\n",
       "  </tbody>\n",
       "</table>\n",
       "</div>"
      ],
      "text/plain": [
       "       column_name data_type is_nullable                                     column_default\n",
       "0               id    bigint          NO  nextval('role_model_genericuserrole_id_seq'::r...\n",
       "1        object_id   integer          NO                                               None\n",
       "2  content_type_id   integer          NO                                               None\n",
       "3          role_id    bigint          NO                                               None\n",
       "4         user_uid      uuid         YES                                               None"
      ]
     },
     "metadata": {},
     "output_type": "display_data"
    },
    {
     "data": {
      "text/markdown": [
       "\n",
       "##### Ограничения (PK, FK):"
      ],
      "text/plain": [
       "<IPython.core.display.Markdown object>"
      ]
     },
     "metadata": {},
     "output_type": "display_data"
    },
    {
     "name": "stderr",
     "output_type": "stream",
     "text": [
      "/tmp/ipykernel_450849/82215137.py:79: UserWarning: pandas only supports SQLAlchemy connectable (engine/connection) or database string URI or sqlite3 DBAPI2 connection. Other DBAPI2 objects are not tested. Please consider using SQLAlchemy.\n",
      "  df = pd.read_sql_query(query, conn)\n"
     ]
    },
    {
     "data": {
      "text/html": [
       "<div>\n",
       "<style scoped>\n",
       "    .dataframe tbody tr th:only-of-type {\n",
       "        vertical-align: middle;\n",
       "    }\n",
       "\n",
       "    .dataframe tbody tr th {\n",
       "        vertical-align: top;\n",
       "    }\n",
       "\n",
       "    .dataframe thead th {\n",
       "        text-align: right;\n",
       "    }\n",
       "</style>\n",
       "<table border=\"1\" class=\"dataframe\">\n",
       "  <thead>\n",
       "    <tr style=\"text-align: right;\">\n",
       "      <th></th>\n",
       "      <th>constraint_name</th>\n",
       "      <th>constraint_type</th>\n",
       "      <th>column_name</th>\n",
       "      <th>foreign_table_name</th>\n",
       "      <th>foreign_column_name</th>\n",
       "    </tr>\n",
       "  </thead>\n",
       "  <tbody>\n",
       "    <tr>\n",
       "      <th>0</th>\n",
       "      <td>role_model_genericus_content_type_id_17ebadb0_...</td>\n",
       "      <td>FOREIGN KEY</td>\n",
       "      <td>content_type_id</td>\n",
       "      <td>django_content_type</td>\n",
       "      <td>id</td>\n",
       "    </tr>\n",
       "    <tr>\n",
       "      <th>1</th>\n",
       "      <td>role_model_genericuserrole_role_id_87f6a9d8_fk</td>\n",
       "      <td>FOREIGN KEY</td>\n",
       "      <td>role_id</td>\n",
       "      <td>role_model_genericrole</td>\n",
       "      <td>id</td>\n",
       "    </tr>\n",
       "    <tr>\n",
       "      <th>2</th>\n",
       "      <td>role_model_genericuserrole_pkey</td>\n",
       "      <td>PRIMARY KEY</td>\n",
       "      <td>id</td>\n",
       "      <td>role_model_genericuserrole</td>\n",
       "      <td>id</td>\n",
       "    </tr>\n",
       "    <tr>\n",
       "      <th>3</th>\n",
       "      <td>role_model_genericuserro_user_uid_role_id_cont...</td>\n",
       "      <td>UNIQUE</td>\n",
       "      <td>user_uid</td>\n",
       "      <td>role_model_genericuserrole</td>\n",
       "      <td>user_uid</td>\n",
       "    </tr>\n",
       "    <tr>\n",
       "      <th>4</th>\n",
       "      <td>role_model_genericuserro_user_uid_role_id_cont...</td>\n",
       "      <td>UNIQUE</td>\n",
       "      <td>user_uid</td>\n",
       "      <td>role_model_genericuserrole</td>\n",
       "      <td>object_id</td>\n",
       "    </tr>\n",
       "    <tr>\n",
       "      <th>5</th>\n",
       "      <td>role_model_genericuserro_user_uid_role_id_cont...</td>\n",
       "      <td>UNIQUE</td>\n",
       "      <td>user_uid</td>\n",
       "      <td>role_model_genericuserrole</td>\n",
       "      <td>content_type_id</td>\n",
       "    </tr>\n",
       "    <tr>\n",
       "      <th>6</th>\n",
       "      <td>role_model_genericuserro_user_uid_role_id_cont...</td>\n",
       "      <td>UNIQUE</td>\n",
       "      <td>user_uid</td>\n",
       "      <td>role_model_genericuserrole</td>\n",
       "      <td>role_id</td>\n",
       "    </tr>\n",
       "    <tr>\n",
       "      <th>7</th>\n",
       "      <td>role_model_genericuserro_user_uid_role_id_cont...</td>\n",
       "      <td>UNIQUE</td>\n",
       "      <td>role_id</td>\n",
       "      <td>role_model_genericuserrole</td>\n",
       "      <td>user_uid</td>\n",
       "    </tr>\n",
       "    <tr>\n",
       "      <th>8</th>\n",
       "      <td>role_model_genericuserro_user_uid_role_id_cont...</td>\n",
       "      <td>UNIQUE</td>\n",
       "      <td>role_id</td>\n",
       "      <td>role_model_genericuserrole</td>\n",
       "      <td>role_id</td>\n",
       "    </tr>\n",
       "    <tr>\n",
       "      <th>9</th>\n",
       "      <td>role_model_genericuserro_user_uid_role_id_cont...</td>\n",
       "      <td>UNIQUE</td>\n",
       "      <td>role_id</td>\n",
       "      <td>role_model_genericuserrole</td>\n",
       "      <td>content_type_id</td>\n",
       "    </tr>\n",
       "    <tr>\n",
       "      <th>10</th>\n",
       "      <td>role_model_genericuserro_user_uid_role_id_cont...</td>\n",
       "      <td>UNIQUE</td>\n",
       "      <td>role_id</td>\n",
       "      <td>role_model_genericuserrole</td>\n",
       "      <td>object_id</td>\n",
       "    </tr>\n",
       "    <tr>\n",
       "      <th>11</th>\n",
       "      <td>role_model_genericuserro_user_uid_role_id_cont...</td>\n",
       "      <td>UNIQUE</td>\n",
       "      <td>content_type_id</td>\n",
       "      <td>role_model_genericuserrole</td>\n",
       "      <td>user_uid</td>\n",
       "    </tr>\n",
       "    <tr>\n",
       "      <th>12</th>\n",
       "      <td>role_model_genericuserro_user_uid_role_id_cont...</td>\n",
       "      <td>UNIQUE</td>\n",
       "      <td>content_type_id</td>\n",
       "      <td>role_model_genericuserrole</td>\n",
       "      <td>object_id</td>\n",
       "    </tr>\n",
       "    <tr>\n",
       "      <th>13</th>\n",
       "      <td>role_model_genericuserro_user_uid_role_id_cont...</td>\n",
       "      <td>UNIQUE</td>\n",
       "      <td>content_type_id</td>\n",
       "      <td>role_model_genericuserrole</td>\n",
       "      <td>content_type_id</td>\n",
       "    </tr>\n",
       "    <tr>\n",
       "      <th>14</th>\n",
       "      <td>role_model_genericuserro_user_uid_role_id_cont...</td>\n",
       "      <td>UNIQUE</td>\n",
       "      <td>content_type_id</td>\n",
       "      <td>role_model_genericuserrole</td>\n",
       "      <td>role_id</td>\n",
       "    </tr>\n",
       "    <tr>\n",
       "      <th>15</th>\n",
       "      <td>role_model_genericuserro_user_uid_role_id_cont...</td>\n",
       "      <td>UNIQUE</td>\n",
       "      <td>object_id</td>\n",
       "      <td>role_model_genericuserrole</td>\n",
       "      <td>user_uid</td>\n",
       "    </tr>\n",
       "    <tr>\n",
       "      <th>16</th>\n",
       "      <td>role_model_genericuserro_user_uid_role_id_cont...</td>\n",
       "      <td>UNIQUE</td>\n",
       "      <td>object_id</td>\n",
       "      <td>role_model_genericuserrole</td>\n",
       "      <td>object_id</td>\n",
       "    </tr>\n",
       "    <tr>\n",
       "      <th>17</th>\n",
       "      <td>role_model_genericuserro_user_uid_role_id_cont...</td>\n",
       "      <td>UNIQUE</td>\n",
       "      <td>object_id</td>\n",
       "      <td>role_model_genericuserrole</td>\n",
       "      <td>content_type_id</td>\n",
       "    </tr>\n",
       "    <tr>\n",
       "      <th>18</th>\n",
       "      <td>role_model_genericuserro_user_uid_role_id_cont...</td>\n",
       "      <td>UNIQUE</td>\n",
       "      <td>object_id</td>\n",
       "      <td>role_model_genericuserrole</td>\n",
       "      <td>role_id</td>\n",
       "    </tr>\n",
       "  </tbody>\n",
       "</table>\n",
       "</div>"
      ],
      "text/plain": [
       "                                      constraint_name constraint_type      column_name          foreign_table_name foreign_column_name\n",
       "0   role_model_genericus_content_type_id_17ebadb0_...     FOREIGN KEY  content_type_id         django_content_type                  id\n",
       "1      role_model_genericuserrole_role_id_87f6a9d8_fk     FOREIGN KEY          role_id      role_model_genericrole                  id\n",
       "2                     role_model_genericuserrole_pkey     PRIMARY KEY               id  role_model_genericuserrole                  id\n",
       "3   role_model_genericuserro_user_uid_role_id_cont...          UNIQUE         user_uid  role_model_genericuserrole            user_uid\n",
       "4   role_model_genericuserro_user_uid_role_id_cont...          UNIQUE         user_uid  role_model_genericuserrole           object_id\n",
       "5   role_model_genericuserro_user_uid_role_id_cont...          UNIQUE         user_uid  role_model_genericuserrole     content_type_id\n",
       "6   role_model_genericuserro_user_uid_role_id_cont...          UNIQUE         user_uid  role_model_genericuserrole             role_id\n",
       "7   role_model_genericuserro_user_uid_role_id_cont...          UNIQUE          role_id  role_model_genericuserrole            user_uid\n",
       "8   role_model_genericuserro_user_uid_role_id_cont...          UNIQUE          role_id  role_model_genericuserrole             role_id\n",
       "9   role_model_genericuserro_user_uid_role_id_cont...          UNIQUE          role_id  role_model_genericuserrole     content_type_id\n",
       "10  role_model_genericuserro_user_uid_role_id_cont...          UNIQUE          role_id  role_model_genericuserrole           object_id\n",
       "11  role_model_genericuserro_user_uid_role_id_cont...          UNIQUE  content_type_id  role_model_genericuserrole            user_uid\n",
       "12  role_model_genericuserro_user_uid_role_id_cont...          UNIQUE  content_type_id  role_model_genericuserrole           object_id\n",
       "13  role_model_genericuserro_user_uid_role_id_cont...          UNIQUE  content_type_id  role_model_genericuserrole     content_type_id\n",
       "14  role_model_genericuserro_user_uid_role_id_cont...          UNIQUE  content_type_id  role_model_genericuserrole             role_id\n",
       "15  role_model_genericuserro_user_uid_role_id_cont...          UNIQUE        object_id  role_model_genericuserrole            user_uid\n",
       "16  role_model_genericuserro_user_uid_role_id_cont...          UNIQUE        object_id  role_model_genericuserrole           object_id\n",
       "17  role_model_genericuserro_user_uid_role_id_cont...          UNIQUE        object_id  role_model_genericuserrole     content_type_id\n",
       "18  role_model_genericuserro_user_uid_role_id_cont...          UNIQUE        object_id  role_model_genericuserrole             role_id"
      ]
     },
     "metadata": {},
     "output_type": "display_data"
    },
    {
     "data": {
      "text/markdown": [
       "\n",
       "#### Таблица: `roles_access_usergroup`"
      ],
      "text/plain": [
       "<IPython.core.display.Markdown object>"
      ]
     },
     "metadata": {},
     "output_type": "display_data"
    },
    {
     "data": {
      "text/markdown": [
       "\n",
       "##### Схема:"
      ],
      "text/plain": [
       "<IPython.core.display.Markdown object>"
      ]
     },
     "metadata": {},
     "output_type": "display_data"
    },
    {
     "name": "stderr",
     "output_type": "stream",
     "text": [
      "/tmp/ipykernel_450849/82215137.py:49: UserWarning: pandas only supports SQLAlchemy connectable (engine/connection) or database string URI or sqlite3 DBAPI2 connection. Other DBAPI2 objects are not tested. Please consider using SQLAlchemy.\n",
      "  df = pd.read_sql_query(query, conn)\n"
     ]
    },
    {
     "data": {
      "text/html": [
       "<div>\n",
       "<style scoped>\n",
       "    .dataframe tbody tr th:only-of-type {\n",
       "        vertical-align: middle;\n",
       "    }\n",
       "\n",
       "    .dataframe tbody tr th {\n",
       "        vertical-align: top;\n",
       "    }\n",
       "\n",
       "    .dataframe thead th {\n",
       "        text-align: right;\n",
       "    }\n",
       "</style>\n",
       "<table border=\"1\" class=\"dataframe\">\n",
       "  <thead>\n",
       "    <tr style=\"text-align: right;\">\n",
       "      <th></th>\n",
       "      <th>column_name</th>\n",
       "      <th>data_type</th>\n",
       "      <th>is_nullable</th>\n",
       "      <th>column_default</th>\n",
       "    </tr>\n",
       "  </thead>\n",
       "  <tbody>\n",
       "    <tr>\n",
       "      <th>0</th>\n",
       "      <td>id</td>\n",
       "      <td>uuid</td>\n",
       "      <td>NO</td>\n",
       "      <td>None</td>\n",
       "    </tr>\n",
       "    <tr>\n",
       "      <th>1</th>\n",
       "      <td>name</td>\n",
       "      <td>text</td>\n",
       "      <td>NO</td>\n",
       "      <td>None</td>\n",
       "    </tr>\n",
       "    <tr>\n",
       "      <th>2</th>\n",
       "      <td>display_name</td>\n",
       "      <td>text</td>\n",
       "      <td>YES</td>\n",
       "      <td>None</td>\n",
       "    </tr>\n",
       "    <tr>\n",
       "      <th>3</th>\n",
       "      <td>is_system_defined</td>\n",
       "      <td>boolean</td>\n",
       "      <td>NO</td>\n",
       "      <td>None</td>\n",
       "    </tr>\n",
       "    <tr>\n",
       "      <th>4</th>\n",
       "      <td>owner_service_name</td>\n",
       "      <td>text</td>\n",
       "      <td>NO</td>\n",
       "      <td>None</td>\n",
       "    </tr>\n",
       "    <tr>\n",
       "      <th>5</th>\n",
       "      <td>owner_service_entity_id</td>\n",
       "      <td>uuid</td>\n",
       "      <td>YES</td>\n",
       "      <td>None</td>\n",
       "    </tr>\n",
       "    <tr>\n",
       "      <th>6</th>\n",
       "      <td>parent_id</td>\n",
       "      <td>uuid</td>\n",
       "      <td>YES</td>\n",
       "      <td>None</td>\n",
       "    </tr>\n",
       "  </tbody>\n",
       "</table>\n",
       "</div>"
      ],
      "text/plain": [
       "               column_name data_type is_nullable column_default\n",
       "0                       id      uuid          NO           None\n",
       "1                     name      text          NO           None\n",
       "2             display_name      text         YES           None\n",
       "3        is_system_defined   boolean          NO           None\n",
       "4       owner_service_name      text          NO           None\n",
       "5  owner_service_entity_id      uuid         YES           None\n",
       "6                parent_id      uuid         YES           None"
      ]
     },
     "metadata": {},
     "output_type": "display_data"
    },
    {
     "data": {
      "text/markdown": [
       "\n",
       "##### Ограничения (PK, FK):"
      ],
      "text/plain": [
       "<IPython.core.display.Markdown object>"
      ]
     },
     "metadata": {},
     "output_type": "display_data"
    },
    {
     "name": "stderr",
     "output_type": "stream",
     "text": [
      "/tmp/ipykernel_450849/82215137.py:79: UserWarning: pandas only supports SQLAlchemy connectable (engine/connection) or database string URI or sqlite3 DBAPI2 connection. Other DBAPI2 objects are not tested. Please consider using SQLAlchemy.\n",
      "  df = pd.read_sql_query(query, conn)\n"
     ]
    },
    {
     "data": {
      "text/html": [
       "<div>\n",
       "<style scoped>\n",
       "    .dataframe tbody tr th:only-of-type {\n",
       "        vertical-align: middle;\n",
       "    }\n",
       "\n",
       "    .dataframe tbody tr th {\n",
       "        vertical-align: top;\n",
       "    }\n",
       "\n",
       "    .dataframe thead th {\n",
       "        text-align: right;\n",
       "    }\n",
       "</style>\n",
       "<table border=\"1\" class=\"dataframe\">\n",
       "  <thead>\n",
       "    <tr style=\"text-align: right;\">\n",
       "      <th></th>\n",
       "      <th>constraint_name</th>\n",
       "      <th>constraint_type</th>\n",
       "      <th>column_name</th>\n",
       "      <th>foreign_table_name</th>\n",
       "      <th>foreign_column_name</th>\n",
       "    </tr>\n",
       "  </thead>\n",
       "  <tbody>\n",
       "    <tr>\n",
       "      <th>0</th>\n",
       "      <td>roles_access_usergro_parent_id_545af45f_fk_rol...</td>\n",
       "      <td>FOREIGN KEY</td>\n",
       "      <td>parent_id</td>\n",
       "      <td>roles_access_usergroup</td>\n",
       "      <td>id</td>\n",
       "    </tr>\n",
       "    <tr>\n",
       "      <th>1</th>\n",
       "      <td>roles_access_usergroup_pkey</td>\n",
       "      <td>PRIMARY KEY</td>\n",
       "      <td>id</td>\n",
       "      <td>roles_access_usergroup</td>\n",
       "      <td>id</td>\n",
       "    </tr>\n",
       "    <tr>\n",
       "      <th>2</th>\n",
       "      <td>roles_access_usergroup_name_key</td>\n",
       "      <td>UNIQUE</td>\n",
       "      <td>name</td>\n",
       "      <td>roles_access_usergroup</td>\n",
       "      <td>name</td>\n",
       "    </tr>\n",
       "    <tr>\n",
       "      <th>3</th>\n",
       "      <td>roles_access_usergroup_owner_service_name_owne...</td>\n",
       "      <td>UNIQUE</td>\n",
       "      <td>owner_service_name</td>\n",
       "      <td>roles_access_usergroup</td>\n",
       "      <td>owner_service_entity_id</td>\n",
       "    </tr>\n",
       "    <tr>\n",
       "      <th>4</th>\n",
       "      <td>roles_access_usergroup_owner_service_name_owne...</td>\n",
       "      <td>UNIQUE</td>\n",
       "      <td>owner_service_name</td>\n",
       "      <td>roles_access_usergroup</td>\n",
       "      <td>owner_service_name</td>\n",
       "    </tr>\n",
       "    <tr>\n",
       "      <th>5</th>\n",
       "      <td>roles_access_usergroup_owner_service_name_owne...</td>\n",
       "      <td>UNIQUE</td>\n",
       "      <td>owner_service_entity_id</td>\n",
       "      <td>roles_access_usergroup</td>\n",
       "      <td>owner_service_name</td>\n",
       "    </tr>\n",
       "    <tr>\n",
       "      <th>6</th>\n",
       "      <td>roles_access_usergroup_owner_service_name_owne...</td>\n",
       "      <td>UNIQUE</td>\n",
       "      <td>owner_service_entity_id</td>\n",
       "      <td>roles_access_usergroup</td>\n",
       "      <td>owner_service_entity_id</td>\n",
       "    </tr>\n",
       "  </tbody>\n",
       "</table>\n",
       "</div>"
      ],
      "text/plain": [
       "                                     constraint_name constraint_type              column_name      foreign_table_name      foreign_column_name\n",
       "0  roles_access_usergro_parent_id_545af45f_fk_rol...     FOREIGN KEY                parent_id  roles_access_usergroup                       id\n",
       "1                        roles_access_usergroup_pkey     PRIMARY KEY                       id  roles_access_usergroup                       id\n",
       "2                    roles_access_usergroup_name_key          UNIQUE                     name  roles_access_usergroup                     name\n",
       "3  roles_access_usergroup_owner_service_name_owne...          UNIQUE       owner_service_name  roles_access_usergroup  owner_service_entity_id\n",
       "4  roles_access_usergroup_owner_service_name_owne...          UNIQUE       owner_service_name  roles_access_usergroup       owner_service_name\n",
       "5  roles_access_usergroup_owner_service_name_owne...          UNIQUE  owner_service_entity_id  roles_access_usergroup       owner_service_name\n",
       "6  roles_access_usergroup_owner_service_name_owne...          UNIQUE  owner_service_entity_id  roles_access_usergroup  owner_service_entity_id"
      ]
     },
     "metadata": {},
     "output_type": "display_data"
    },
    {
     "data": {
      "text/markdown": [
       "\n",
       "#### Таблица: `roles_access_usertogroup`"
      ],
      "text/plain": [
       "<IPython.core.display.Markdown object>"
      ]
     },
     "metadata": {},
     "output_type": "display_data"
    },
    {
     "data": {
      "text/markdown": [
       "\n",
       "##### Схема:"
      ],
      "text/plain": [
       "<IPython.core.display.Markdown object>"
      ]
     },
     "metadata": {},
     "output_type": "display_data"
    },
    {
     "name": "stderr",
     "output_type": "stream",
     "text": [
      "/tmp/ipykernel_450849/82215137.py:49: UserWarning: pandas only supports SQLAlchemy connectable (engine/connection) or database string URI or sqlite3 DBAPI2 connection. Other DBAPI2 objects are not tested. Please consider using SQLAlchemy.\n",
      "  df = pd.read_sql_query(query, conn)\n"
     ]
    },
    {
     "data": {
      "text/html": [
       "<div>\n",
       "<style scoped>\n",
       "    .dataframe tbody tr th:only-of-type {\n",
       "        vertical-align: middle;\n",
       "    }\n",
       "\n",
       "    .dataframe tbody tr th {\n",
       "        vertical-align: top;\n",
       "    }\n",
       "\n",
       "    .dataframe thead th {\n",
       "        text-align: right;\n",
       "    }\n",
       "</style>\n",
       "<table border=\"1\" class=\"dataframe\">\n",
       "  <thead>\n",
       "    <tr style=\"text-align: right;\">\n",
       "      <th></th>\n",
       "      <th>column_name</th>\n",
       "      <th>data_type</th>\n",
       "      <th>is_nullable</th>\n",
       "      <th>column_default</th>\n",
       "    </tr>\n",
       "  </thead>\n",
       "  <tbody>\n",
       "    <tr>\n",
       "      <th>0</th>\n",
       "      <td>id</td>\n",
       "      <td>bigint</td>\n",
       "      <td>NO</td>\n",
       "      <td>nextval('roles_access_usertogroup_id_seq'::reg...</td>\n",
       "    </tr>\n",
       "    <tr>\n",
       "      <th>1</th>\n",
       "      <td>user_keycloak_id</td>\n",
       "      <td>uuid</td>\n",
       "      <td>NO</td>\n",
       "      <td>None</td>\n",
       "    </tr>\n",
       "    <tr>\n",
       "      <th>2</th>\n",
       "      <td>is_system_defined</td>\n",
       "      <td>boolean</td>\n",
       "      <td>NO</td>\n",
       "      <td>None</td>\n",
       "    </tr>\n",
       "    <tr>\n",
       "      <th>3</th>\n",
       "      <td>user_group_id</td>\n",
       "      <td>uuid</td>\n",
       "      <td>NO</td>\n",
       "      <td>None</td>\n",
       "    </tr>\n",
       "  </tbody>\n",
       "</table>\n",
       "</div>"
      ],
      "text/plain": [
       "         column_name data_type is_nullable                                     column_default\n",
       "0                 id    bigint          NO  nextval('roles_access_usertogroup_id_seq'::reg...\n",
       "1   user_keycloak_id      uuid          NO                                               None\n",
       "2  is_system_defined   boolean          NO                                               None\n",
       "3      user_group_id      uuid          NO                                               None"
      ]
     },
     "metadata": {},
     "output_type": "display_data"
    },
    {
     "data": {
      "text/markdown": [
       "\n",
       "##### Ограничения (PK, FK):"
      ],
      "text/plain": [
       "<IPython.core.display.Markdown object>"
      ]
     },
     "metadata": {},
     "output_type": "display_data"
    },
    {
     "name": "stderr",
     "output_type": "stream",
     "text": [
      "/tmp/ipykernel_450849/82215137.py:79: UserWarning: pandas only supports SQLAlchemy connectable (engine/connection) or database string URI or sqlite3 DBAPI2 connection. Other DBAPI2 objects are not tested. Please consider using SQLAlchemy.\n",
      "  df = pd.read_sql_query(query, conn)\n"
     ]
    },
    {
     "data": {
      "text/html": [
       "<div>\n",
       "<style scoped>\n",
       "    .dataframe tbody tr th:only-of-type {\n",
       "        vertical-align: middle;\n",
       "    }\n",
       "\n",
       "    .dataframe tbody tr th {\n",
       "        vertical-align: top;\n",
       "    }\n",
       "\n",
       "    .dataframe thead th {\n",
       "        text-align: right;\n",
       "    }\n",
       "</style>\n",
       "<table border=\"1\" class=\"dataframe\">\n",
       "  <thead>\n",
       "    <tr style=\"text-align: right;\">\n",
       "      <th></th>\n",
       "      <th>constraint_name</th>\n",
       "      <th>constraint_type</th>\n",
       "      <th>column_name</th>\n",
       "      <th>foreign_table_name</th>\n",
       "      <th>foreign_column_name</th>\n",
       "    </tr>\n",
       "  </thead>\n",
       "  <tbody>\n",
       "    <tr>\n",
       "      <th>0</th>\n",
       "      <td>roles_access_usertog_user_group_id_b140230d_fk...</td>\n",
       "      <td>FOREIGN KEY</td>\n",
       "      <td>user_group_id</td>\n",
       "      <td>roles_access_usergroup</td>\n",
       "      <td>id</td>\n",
       "    </tr>\n",
       "    <tr>\n",
       "      <th>1</th>\n",
       "      <td>roles_access_usertogroup_pkey</td>\n",
       "      <td>PRIMARY KEY</td>\n",
       "      <td>id</td>\n",
       "      <td>roles_access_usertogroup</td>\n",
       "      <td>id</td>\n",
       "    </tr>\n",
       "    <tr>\n",
       "      <th>2</th>\n",
       "      <td>roles_access_usertogroup_user_keycloak_id_user...</td>\n",
       "      <td>UNIQUE</td>\n",
       "      <td>user_keycloak_id</td>\n",
       "      <td>roles_access_usertogroup</td>\n",
       "      <td>user_keycloak_id</td>\n",
       "    </tr>\n",
       "    <tr>\n",
       "      <th>3</th>\n",
       "      <td>roles_access_usertogroup_user_keycloak_id_user...</td>\n",
       "      <td>UNIQUE</td>\n",
       "      <td>user_keycloak_id</td>\n",
       "      <td>roles_access_usertogroup</td>\n",
       "      <td>user_group_id</td>\n",
       "    </tr>\n",
       "    <tr>\n",
       "      <th>4</th>\n",
       "      <td>roles_access_usertogroup_user_keycloak_id_user...</td>\n",
       "      <td>UNIQUE</td>\n",
       "      <td>user_group_id</td>\n",
       "      <td>roles_access_usertogroup</td>\n",
       "      <td>user_keycloak_id</td>\n",
       "    </tr>\n",
       "    <tr>\n",
       "      <th>5</th>\n",
       "      <td>roles_access_usertogroup_user_keycloak_id_user...</td>\n",
       "      <td>UNIQUE</td>\n",
       "      <td>user_group_id</td>\n",
       "      <td>roles_access_usertogroup</td>\n",
       "      <td>user_group_id</td>\n",
       "    </tr>\n",
       "  </tbody>\n",
       "</table>\n",
       "</div>"
      ],
      "text/plain": [
       "                                     constraint_name constraint_type       column_name        foreign_table_name foreign_column_name\n",
       "0  roles_access_usertog_user_group_id_b140230d_fk...     FOREIGN KEY     user_group_id    roles_access_usergroup                  id\n",
       "1                      roles_access_usertogroup_pkey     PRIMARY KEY                id  roles_access_usertogroup                  id\n",
       "2  roles_access_usertogroup_user_keycloak_id_user...          UNIQUE  user_keycloak_id  roles_access_usertogroup    user_keycloak_id\n",
       "3  roles_access_usertogroup_user_keycloak_id_user...          UNIQUE  user_keycloak_id  roles_access_usertogroup       user_group_id\n",
       "4  roles_access_usertogroup_user_keycloak_id_user...          UNIQUE     user_group_id  roles_access_usertogroup    user_keycloak_id\n",
       "5  roles_access_usertogroup_user_keycloak_id_user...          UNIQUE     user_group_id  roles_access_usertogroup       user_group_id"
      ]
     },
     "metadata": {},
     "output_type": "display_data"
    },
    {
     "data": {
      "text/markdown": [
       "\n",
       "#### Таблица: `storage_category`"
      ],
      "text/plain": [
       "<IPython.core.display.Markdown object>"
      ]
     },
     "metadata": {},
     "output_type": "display_data"
    },
    {
     "data": {
      "text/markdown": [
       "\n",
       "##### Схема:"
      ],
      "text/plain": [
       "<IPython.core.display.Markdown object>"
      ]
     },
     "metadata": {},
     "output_type": "display_data"
    },
    {
     "name": "stderr",
     "output_type": "stream",
     "text": [
      "/tmp/ipykernel_450849/82215137.py:49: UserWarning: pandas only supports SQLAlchemy connectable (engine/connection) or database string URI or sqlite3 DBAPI2 connection. Other DBAPI2 objects are not tested. Please consider using SQLAlchemy.\n",
      "  df = pd.read_sql_query(query, conn)\n"
     ]
    },
    {
     "data": {
      "text/html": [
       "<div>\n",
       "<style scoped>\n",
       "    .dataframe tbody tr th:only-of-type {\n",
       "        vertical-align: middle;\n",
       "    }\n",
       "\n",
       "    .dataframe tbody tr th {\n",
       "        vertical-align: top;\n",
       "    }\n",
       "\n",
       "    .dataframe thead th {\n",
       "        text-align: right;\n",
       "    }\n",
       "</style>\n",
       "<table border=\"1\" class=\"dataframe\">\n",
       "  <thead>\n",
       "    <tr style=\"text-align: right;\">\n",
       "      <th></th>\n",
       "      <th>column_name</th>\n",
       "      <th>data_type</th>\n",
       "      <th>is_nullable</th>\n",
       "      <th>column_default</th>\n",
       "    </tr>\n",
       "  </thead>\n",
       "  <tbody>\n",
       "    <tr>\n",
       "      <th>0</th>\n",
       "      <td>id</td>\n",
       "      <td>bigint</td>\n",
       "      <td>NO</td>\n",
       "      <td>nextval('storage_category_id_seq'::regclass)</td>\n",
       "    </tr>\n",
       "    <tr>\n",
       "      <th>1</th>\n",
       "      <td>name</td>\n",
       "      <td>character varying</td>\n",
       "      <td>NO</td>\n",
       "      <td>None</td>\n",
       "    </tr>\n",
       "    <tr>\n",
       "      <th>2</th>\n",
       "      <td>root_folder_id</td>\n",
       "      <td>uuid</td>\n",
       "      <td>YES</td>\n",
       "      <td>None</td>\n",
       "    </tr>\n",
       "  </tbody>\n",
       "</table>\n",
       "</div>"
      ],
      "text/plain": [
       "      column_name          data_type is_nullable                                column_default\n",
       "0              id             bigint          NO  nextval('storage_category_id_seq'::regclass)\n",
       "1            name  character varying          NO                                          None\n",
       "2  root_folder_id               uuid         YES                                          None"
      ]
     },
     "metadata": {},
     "output_type": "display_data"
    },
    {
     "data": {
      "text/markdown": [
       "\n",
       "##### Ограничения (PK, FK):"
      ],
      "text/plain": [
       "<IPython.core.display.Markdown object>"
      ]
     },
     "metadata": {},
     "output_type": "display_data"
    },
    {
     "name": "stderr",
     "output_type": "stream",
     "text": [
      "/tmp/ipykernel_450849/82215137.py:79: UserWarning: pandas only supports SQLAlchemy connectable (engine/connection) or database string URI or sqlite3 DBAPI2 connection. Other DBAPI2 objects are not tested. Please consider using SQLAlchemy.\n",
      "  df = pd.read_sql_query(query, conn)\n"
     ]
    },
    {
     "data": {
      "text/html": [
       "<div>\n",
       "<style scoped>\n",
       "    .dataframe tbody tr th:only-of-type {\n",
       "        vertical-align: middle;\n",
       "    }\n",
       "\n",
       "    .dataframe tbody tr th {\n",
       "        vertical-align: top;\n",
       "    }\n",
       "\n",
       "    .dataframe thead th {\n",
       "        text-align: right;\n",
       "    }\n",
       "</style>\n",
       "<table border=\"1\" class=\"dataframe\">\n",
       "  <thead>\n",
       "    <tr style=\"text-align: right;\">\n",
       "      <th></th>\n",
       "      <th>constraint_name</th>\n",
       "      <th>constraint_type</th>\n",
       "      <th>column_name</th>\n",
       "      <th>foreign_table_name</th>\n",
       "      <th>foreign_column_name</th>\n",
       "    </tr>\n",
       "  </thead>\n",
       "  <tbody>\n",
       "    <tr>\n",
       "      <th>0</th>\n",
       "      <td>storage_category_root_folder_id_62693899_fk_st...</td>\n",
       "      <td>FOREIGN KEY</td>\n",
       "      <td>root_folder_id</td>\n",
       "      <td>storage_storageobject</td>\n",
       "      <td>id</td>\n",
       "    </tr>\n",
       "    <tr>\n",
       "      <th>1</th>\n",
       "      <td>storage_category_pkey</td>\n",
       "      <td>PRIMARY KEY</td>\n",
       "      <td>id</td>\n",
       "      <td>storage_category</td>\n",
       "      <td>id</td>\n",
       "    </tr>\n",
       "    <tr>\n",
       "      <th>2</th>\n",
       "      <td>storage_category_name_root_folder_id_01723182_...</td>\n",
       "      <td>UNIQUE</td>\n",
       "      <td>name</td>\n",
       "      <td>storage_category</td>\n",
       "      <td>name</td>\n",
       "    </tr>\n",
       "    <tr>\n",
       "      <th>3</th>\n",
       "      <td>storage_category_name_root_folder_id_01723182_...</td>\n",
       "      <td>UNIQUE</td>\n",
       "      <td>name</td>\n",
       "      <td>storage_category</td>\n",
       "      <td>root_folder_id</td>\n",
       "    </tr>\n",
       "    <tr>\n",
       "      <th>4</th>\n",
       "      <td>storage_category_name_root_folder_id_01723182_...</td>\n",
       "      <td>UNIQUE</td>\n",
       "      <td>root_folder_id</td>\n",
       "      <td>storage_category</td>\n",
       "      <td>name</td>\n",
       "    </tr>\n",
       "    <tr>\n",
       "      <th>5</th>\n",
       "      <td>storage_category_name_root_folder_id_01723182_...</td>\n",
       "      <td>UNIQUE</td>\n",
       "      <td>root_folder_id</td>\n",
       "      <td>storage_category</td>\n",
       "      <td>root_folder_id</td>\n",
       "    </tr>\n",
       "  </tbody>\n",
       "</table>\n",
       "</div>"
      ],
      "text/plain": [
       "                                     constraint_name constraint_type     column_name     foreign_table_name foreign_column_name\n",
       "0  storage_category_root_folder_id_62693899_fk_st...     FOREIGN KEY  root_folder_id  storage_storageobject                  id\n",
       "1                              storage_category_pkey     PRIMARY KEY              id       storage_category                  id\n",
       "2  storage_category_name_root_folder_id_01723182_...          UNIQUE            name       storage_category                name\n",
       "3  storage_category_name_root_folder_id_01723182_...          UNIQUE            name       storage_category      root_folder_id\n",
       "4  storage_category_name_root_folder_id_01723182_...          UNIQUE  root_folder_id       storage_category                name\n",
       "5  storage_category_name_root_folder_id_01723182_...          UNIQUE  root_folder_id       storage_category      root_folder_id"
      ]
     },
     "metadata": {},
     "output_type": "display_data"
    },
    {
     "data": {
      "text/markdown": [
       "\n",
       "#### Таблица: `storage_objectview`"
      ],
      "text/plain": [
       "<IPython.core.display.Markdown object>"
      ]
     },
     "metadata": {},
     "output_type": "display_data"
    },
    {
     "data": {
      "text/markdown": [
       "\n",
       "##### Схема:"
      ],
      "text/plain": [
       "<IPython.core.display.Markdown object>"
      ]
     },
     "metadata": {},
     "output_type": "display_data"
    },
    {
     "name": "stderr",
     "output_type": "stream",
     "text": [
      "/tmp/ipykernel_450849/82215137.py:49: UserWarning: pandas only supports SQLAlchemy connectable (engine/connection) or database string URI or sqlite3 DBAPI2 connection. Other DBAPI2 objects are not tested. Please consider using SQLAlchemy.\n",
      "  df = pd.read_sql_query(query, conn)\n"
     ]
    },
    {
     "data": {
      "text/html": [
       "<div>\n",
       "<style scoped>\n",
       "    .dataframe tbody tr th:only-of-type {\n",
       "        vertical-align: middle;\n",
       "    }\n",
       "\n",
       "    .dataframe tbody tr th {\n",
       "        vertical-align: top;\n",
       "    }\n",
       "\n",
       "    .dataframe thead th {\n",
       "        text-align: right;\n",
       "    }\n",
       "</style>\n",
       "<table border=\"1\" class=\"dataframe\">\n",
       "  <thead>\n",
       "    <tr style=\"text-align: right;\">\n",
       "      <th></th>\n",
       "      <th>column_name</th>\n",
       "      <th>data_type</th>\n",
       "      <th>is_nullable</th>\n",
       "      <th>column_default</th>\n",
       "    </tr>\n",
       "  </thead>\n",
       "  <tbody>\n",
       "    <tr>\n",
       "      <th>0</th>\n",
       "      <td>id</td>\n",
       "      <td>bigint</td>\n",
       "      <td>NO</td>\n",
       "      <td>nextval('storage_objectview_id_seq'::regclass)</td>\n",
       "    </tr>\n",
       "    <tr>\n",
       "      <th>1</th>\n",
       "      <td>storage_object_id</td>\n",
       "      <td>uuid</td>\n",
       "      <td>NO</td>\n",
       "      <td>None</td>\n",
       "    </tr>\n",
       "    <tr>\n",
       "      <th>2</th>\n",
       "      <td>user_id</td>\n",
       "      <td>integer</td>\n",
       "      <td>NO</td>\n",
       "      <td>None</td>\n",
       "    </tr>\n",
       "    <tr>\n",
       "      <th>3</th>\n",
       "      <td>created_at</td>\n",
       "      <td>timestamp with time zone</td>\n",
       "      <td>NO</td>\n",
       "      <td>None</td>\n",
       "    </tr>\n",
       "  </tbody>\n",
       "</table>\n",
       "</div>"
      ],
      "text/plain": [
       "         column_name                 data_type is_nullable                                  column_default\n",
       "0                 id                    bigint          NO  nextval('storage_objectview_id_seq'::regclass)\n",
       "1  storage_object_id                      uuid          NO                                            None\n",
       "2            user_id                   integer          NO                                            None\n",
       "3         created_at  timestamp with time zone          NO                                            None"
      ]
     },
     "metadata": {},
     "output_type": "display_data"
    },
    {
     "data": {
      "text/markdown": [
       "\n",
       "##### Ограничения (PK, FK):"
      ],
      "text/plain": [
       "<IPython.core.display.Markdown object>"
      ]
     },
     "metadata": {},
     "output_type": "display_data"
    },
    {
     "name": "stderr",
     "output_type": "stream",
     "text": [
      "/tmp/ipykernel_450849/82215137.py:79: UserWarning: pandas only supports SQLAlchemy connectable (engine/connection) or database string URI or sqlite3 DBAPI2 connection. Other DBAPI2 objects are not tested. Please consider using SQLAlchemy.\n",
      "  df = pd.read_sql_query(query, conn)\n"
     ]
    },
    {
     "data": {
      "text/html": [
       "<div>\n",
       "<style scoped>\n",
       "    .dataframe tbody tr th:only-of-type {\n",
       "        vertical-align: middle;\n",
       "    }\n",
       "\n",
       "    .dataframe tbody tr th {\n",
       "        vertical-align: top;\n",
       "    }\n",
       "\n",
       "    .dataframe thead th {\n",
       "        text-align: right;\n",
       "    }\n",
       "</style>\n",
       "<table border=\"1\" class=\"dataframe\">\n",
       "  <thead>\n",
       "    <tr style=\"text-align: right;\">\n",
       "      <th></th>\n",
       "      <th>constraint_name</th>\n",
       "      <th>constraint_type</th>\n",
       "      <th>column_name</th>\n",
       "      <th>foreign_table_name</th>\n",
       "      <th>foreign_column_name</th>\n",
       "    </tr>\n",
       "  </thead>\n",
       "  <tbody>\n",
       "    <tr>\n",
       "      <th>0</th>\n",
       "      <td>storage_objectview_storage_object_id_471c8fb3_...</td>\n",
       "      <td>FOREIGN KEY</td>\n",
       "      <td>storage_object_id</td>\n",
       "      <td>storage_storageobject</td>\n",
       "      <td>id</td>\n",
       "    </tr>\n",
       "    <tr>\n",
       "      <th>1</th>\n",
       "      <td>storage_objectview_user_id_d8cb5591_fk_auth_us...</td>\n",
       "      <td>FOREIGN KEY</td>\n",
       "      <td>user_id</td>\n",
       "      <td>auth_user</td>\n",
       "      <td>id</td>\n",
       "    </tr>\n",
       "    <tr>\n",
       "      <th>2</th>\n",
       "      <td>storage_objectview_pkey</td>\n",
       "      <td>PRIMARY KEY</td>\n",
       "      <td>id</td>\n",
       "      <td>storage_objectview</td>\n",
       "      <td>id</td>\n",
       "    </tr>\n",
       "  </tbody>\n",
       "</table>\n",
       "</div>"
      ],
      "text/plain": [
       "                                     constraint_name constraint_type        column_name     foreign_table_name foreign_column_name\n",
       "0  storage_objectview_storage_object_id_471c8fb3_...     FOREIGN KEY  storage_object_id  storage_storageobject                  id\n",
       "1  storage_objectview_user_id_d8cb5591_fk_auth_us...     FOREIGN KEY            user_id              auth_user                  id\n",
       "2                            storage_objectview_pkey     PRIMARY KEY                 id     storage_objectview                  id"
      ]
     },
     "metadata": {},
     "output_type": "display_data"
    },
    {
     "data": {
      "text/markdown": [
       "\n",
       "#### Таблица: `storage_storageobject`"
      ],
      "text/plain": [
       "<IPython.core.display.Markdown object>"
      ]
     },
     "metadata": {},
     "output_type": "display_data"
    },
    {
     "data": {
      "text/markdown": [
       "\n",
       "##### Схема:"
      ],
      "text/plain": [
       "<IPython.core.display.Markdown object>"
      ]
     },
     "metadata": {},
     "output_type": "display_data"
    },
    {
     "name": "stderr",
     "output_type": "stream",
     "text": [
      "/tmp/ipykernel_450849/82215137.py:49: UserWarning: pandas only supports SQLAlchemy connectable (engine/connection) or database string URI or sqlite3 DBAPI2 connection. Other DBAPI2 objects are not tested. Please consider using SQLAlchemy.\n",
      "  df = pd.read_sql_query(query, conn)\n"
     ]
    },
    {
     "data": {
      "text/html": [
       "<div>\n",
       "<style scoped>\n",
       "    .dataframe tbody tr th:only-of-type {\n",
       "        vertical-align: middle;\n",
       "    }\n",
       "\n",
       "    .dataframe tbody tr th {\n",
       "        vertical-align: top;\n",
       "    }\n",
       "\n",
       "    .dataframe thead th {\n",
       "        text-align: right;\n",
       "    }\n",
       "</style>\n",
       "<table border=\"1\" class=\"dataframe\">\n",
       "  <thead>\n",
       "    <tr style=\"text-align: right;\">\n",
       "      <th></th>\n",
       "      <th>column_name</th>\n",
       "      <th>data_type</th>\n",
       "      <th>is_nullable</th>\n",
       "      <th>column_default</th>\n",
       "    </tr>\n",
       "  </thead>\n",
       "  <tbody>\n",
       "    <tr>\n",
       "      <th>0</th>\n",
       "      <td>id</td>\n",
       "      <td>uuid</td>\n",
       "      <td>NO</td>\n",
       "      <td>None</td>\n",
       "    </tr>\n",
       "    <tr>\n",
       "      <th>1</th>\n",
       "      <td>type</td>\n",
       "      <td>smallint</td>\n",
       "      <td>NO</td>\n",
       "      <td>None</td>\n",
       "    </tr>\n",
       "    <tr>\n",
       "      <th>2</th>\n",
       "      <td>name</td>\n",
       "      <td>text</td>\n",
       "      <td>NO</td>\n",
       "      <td>None</td>\n",
       "    </tr>\n",
       "    <tr>\n",
       "      <th>3</th>\n",
       "      <td>description</td>\n",
       "      <td>character varying</td>\n",
       "      <td>NO</td>\n",
       "      <td>None</td>\n",
       "    </tr>\n",
       "    <tr>\n",
       "      <th>4</th>\n",
       "      <td>deprecated_tags</td>\n",
       "      <td>ARRAY</td>\n",
       "      <td>YES</td>\n",
       "      <td>None</td>\n",
       "    </tr>\n",
       "    <tr>\n",
       "      <th>5</th>\n",
       "      <td>size</td>\n",
       "      <td>integer</td>\n",
       "      <td>YES</td>\n",
       "      <td>None</td>\n",
       "    </tr>\n",
       "    <tr>\n",
       "      <th>6</th>\n",
       "      <td>additional</td>\n",
       "      <td>jsonb</td>\n",
       "      <td>YES</td>\n",
       "      <td>None</td>\n",
       "    </tr>\n",
       "    <tr>\n",
       "      <th>7</th>\n",
       "      <td>created_at</td>\n",
       "      <td>timestamp with time zone</td>\n",
       "      <td>NO</td>\n",
       "      <td>None</td>\n",
       "    </tr>\n",
       "    <tr>\n",
       "      <th>8</th>\n",
       "      <td>updated_at</td>\n",
       "      <td>timestamp with time zone</td>\n",
       "      <td>NO</td>\n",
       "      <td>None</td>\n",
       "    </tr>\n",
       "    <tr>\n",
       "      <th>9</th>\n",
       "      <td>deleted_at</td>\n",
       "      <td>timestamp with time zone</td>\n",
       "      <td>YES</td>\n",
       "      <td>None</td>\n",
       "    </tr>\n",
       "    <tr>\n",
       "      <th>10</th>\n",
       "      <td>created_by_id</td>\n",
       "      <td>integer</td>\n",
       "      <td>YES</td>\n",
       "      <td>None</td>\n",
       "    </tr>\n",
       "    <tr>\n",
       "      <th>11</th>\n",
       "      <td>parent_id</td>\n",
       "      <td>uuid</td>\n",
       "      <td>YES</td>\n",
       "      <td>None</td>\n",
       "    </tr>\n",
       "    <tr>\n",
       "      <th>12</th>\n",
       "      <td>updated_by_id</td>\n",
       "      <td>integer</td>\n",
       "      <td>YES</td>\n",
       "      <td>None</td>\n",
       "    </tr>\n",
       "    <tr>\n",
       "      <th>13</th>\n",
       "      <td>version_id</td>\n",
       "      <td>bigint</td>\n",
       "      <td>YES</td>\n",
       "      <td>None</td>\n",
       "    </tr>\n",
       "    <tr>\n",
       "      <th>14</th>\n",
       "      <td>object_with_role_id</td>\n",
       "      <td>uuid</td>\n",
       "      <td>YES</td>\n",
       "      <td>None</td>\n",
       "    </tr>\n",
       "    <tr>\n",
       "      <th>15</th>\n",
       "      <td>deleted_by_id</td>\n",
       "      <td>integer</td>\n",
       "      <td>YES</td>\n",
       "      <td>None</td>\n",
       "    </tr>\n",
       "    <tr>\n",
       "      <th>16</th>\n",
       "      <td>context_folder_id</td>\n",
       "      <td>uuid</td>\n",
       "      <td>YES</td>\n",
       "      <td>None</td>\n",
       "    </tr>\n",
       "    <tr>\n",
       "      <th>17</th>\n",
       "      <td>object_with_extensions_id</td>\n",
       "      <td>uuid</td>\n",
       "      <td>YES</td>\n",
       "      <td>None</td>\n",
       "    </tr>\n",
       "    <tr>\n",
       "      <th>18</th>\n",
       "      <td>site_id</td>\n",
       "      <td>uuid</td>\n",
       "      <td>YES</td>\n",
       "      <td>None</td>\n",
       "    </tr>\n",
       "    <tr>\n",
       "      <th>19</th>\n",
       "      <td>slug</td>\n",
       "      <td>character varying</td>\n",
       "      <td>YES</td>\n",
       "      <td>None</td>\n",
       "    </tr>\n",
       "    <tr>\n",
       "      <th>20</th>\n",
       "      <td>file_storage_display_type</td>\n",
       "      <td>character varying</td>\n",
       "      <td>NO</td>\n",
       "      <td>None</td>\n",
       "    </tr>\n",
       "  </tbody>\n",
       "</table>\n",
       "</div>"
      ],
      "text/plain": [
       "                  column_name                 data_type is_nullable column_default\n",
       "0                          id                      uuid          NO           None\n",
       "1                        type                  smallint          NO           None\n",
       "2                        name                      text          NO           None\n",
       "3                 description         character varying          NO           None\n",
       "4             deprecated_tags                     ARRAY         YES           None\n",
       "5                        size                   integer         YES           None\n",
       "6                  additional                     jsonb         YES           None\n",
       "7                  created_at  timestamp with time zone          NO           None\n",
       "8                  updated_at  timestamp with time zone          NO           None\n",
       "9                  deleted_at  timestamp with time zone         YES           None\n",
       "10              created_by_id                   integer         YES           None\n",
       "11                  parent_id                      uuid         YES           None\n",
       "12              updated_by_id                   integer         YES           None\n",
       "13                 version_id                    bigint         YES           None\n",
       "14        object_with_role_id                      uuid         YES           None\n",
       "15              deleted_by_id                   integer         YES           None\n",
       "16          context_folder_id                      uuid         YES           None\n",
       "17  object_with_extensions_id                      uuid         YES           None\n",
       "18                    site_id                      uuid         YES           None\n",
       "19                       slug         character varying         YES           None\n",
       "20  file_storage_display_type         character varying          NO           None"
      ]
     },
     "metadata": {},
     "output_type": "display_data"
    },
    {
     "data": {
      "text/markdown": [
       "\n",
       "##### Ограничения (PK, FK):"
      ],
      "text/plain": [
       "<IPython.core.display.Markdown object>"
      ]
     },
     "metadata": {},
     "output_type": "display_data"
    },
    {
     "name": "stderr",
     "output_type": "stream",
     "text": [
      "/tmp/ipykernel_450849/82215137.py:79: UserWarning: pandas only supports SQLAlchemy connectable (engine/connection) or database string URI or sqlite3 DBAPI2 connection. Other DBAPI2 objects are not tested. Please consider using SQLAlchemy.\n",
      "  df = pd.read_sql_query(query, conn)\n"
     ]
    },
    {
     "data": {
      "text/html": [
       "<div>\n",
       "<style scoped>\n",
       "    .dataframe tbody tr th:only-of-type {\n",
       "        vertical-align: middle;\n",
       "    }\n",
       "\n",
       "    .dataframe tbody tr th {\n",
       "        vertical-align: top;\n",
       "    }\n",
       "\n",
       "    .dataframe thead th {\n",
       "        text-align: right;\n",
       "    }\n",
       "</style>\n",
       "<table border=\"1\" class=\"dataframe\">\n",
       "  <thead>\n",
       "    <tr style=\"text-align: right;\">\n",
       "      <th></th>\n",
       "      <th>constraint_name</th>\n",
       "      <th>constraint_type</th>\n",
       "      <th>column_name</th>\n",
       "      <th>foreign_table_name</th>\n",
       "      <th>foreign_column_name</th>\n",
       "    </tr>\n",
       "  </thead>\n",
       "  <tbody>\n",
       "    <tr>\n",
       "      <th>0</th>\n",
       "      <td>storage_storageobjec_context_folder_id_80b0031...</td>\n",
       "      <td>FOREIGN KEY</td>\n",
       "      <td>context_folder_id</td>\n",
       "      <td>storage_storageobject</td>\n",
       "      <td>id</td>\n",
       "    </tr>\n",
       "    <tr>\n",
       "      <th>1</th>\n",
       "      <td>storage_storageobjec_object_with_extensio_cc7e...</td>\n",
       "      <td>FOREIGN KEY</td>\n",
       "      <td>object_with_extensions_id</td>\n",
       "      <td>storage_storageobject</td>\n",
       "      <td>id</td>\n",
       "    </tr>\n",
       "    <tr>\n",
       "      <th>2</th>\n",
       "      <td>storage_storageobjec_object_with_role_id_06e5a...</td>\n",
       "      <td>FOREIGN KEY</td>\n",
       "      <td>object_with_role_id</td>\n",
       "      <td>storage_storageobject</td>\n",
       "      <td>id</td>\n",
       "    </tr>\n",
       "    <tr>\n",
       "      <th>3</th>\n",
       "      <td>storage_storageobjec_parent_id_3d2ea0e3_fk_sto...</td>\n",
       "      <td>FOREIGN KEY</td>\n",
       "      <td>parent_id</td>\n",
       "      <td>storage_storageobject</td>\n",
       "      <td>id</td>\n",
       "    </tr>\n",
       "    <tr>\n",
       "      <th>4</th>\n",
       "      <td>storage_storageobject_created_by_id_cd86e2b9_f...</td>\n",
       "      <td>FOREIGN KEY</td>\n",
       "      <td>created_by_id</td>\n",
       "      <td>auth_user</td>\n",
       "      <td>id</td>\n",
       "    </tr>\n",
       "    <tr>\n",
       "      <th>5</th>\n",
       "      <td>storage_storageobject_deleted_by_id_88cd3053_f...</td>\n",
       "      <td>FOREIGN KEY</td>\n",
       "      <td>deleted_by_id</td>\n",
       "      <td>auth_user</td>\n",
       "      <td>id</td>\n",
       "    </tr>\n",
       "    <tr>\n",
       "      <th>6</th>\n",
       "      <td>storage_storageobject_updated_by_id_aa02b6a5_f...</td>\n",
       "      <td>FOREIGN KEY</td>\n",
       "      <td>updated_by_id</td>\n",
       "      <td>auth_user</td>\n",
       "      <td>id</td>\n",
       "    </tr>\n",
       "    <tr>\n",
       "      <th>7</th>\n",
       "      <td>storage_storageobject_version_id_511c715f_fk_s...</td>\n",
       "      <td>FOREIGN KEY</td>\n",
       "      <td>version_id</td>\n",
       "      <td>storage_version</td>\n",
       "      <td>id</td>\n",
       "    </tr>\n",
       "    <tr>\n",
       "      <th>8</th>\n",
       "      <td>storage_storageobject_pkey</td>\n",
       "      <td>PRIMARY KEY</td>\n",
       "      <td>id</td>\n",
       "      <td>storage_storageobject</td>\n",
       "      <td>id</td>\n",
       "    </tr>\n",
       "    <tr>\n",
       "      <th>9</th>\n",
       "      <td>storage_storageobject_version_id_key</td>\n",
       "      <td>UNIQUE</td>\n",
       "      <td>version_id</td>\n",
       "      <td>storage_storageobject</td>\n",
       "      <td>version_id</td>\n",
       "    </tr>\n",
       "  </tbody>\n",
       "</table>\n",
       "</div>"
      ],
      "text/plain": [
       "                                     constraint_name constraint_type                column_name     foreign_table_name foreign_column_name\n",
       "0  storage_storageobjec_context_folder_id_80b0031...     FOREIGN KEY          context_folder_id  storage_storageobject                  id\n",
       "1  storage_storageobjec_object_with_extensio_cc7e...     FOREIGN KEY  object_with_extensions_id  storage_storageobject                  id\n",
       "2  storage_storageobjec_object_with_role_id_06e5a...     FOREIGN KEY        object_with_role_id  storage_storageobject                  id\n",
       "3  storage_storageobjec_parent_id_3d2ea0e3_fk_sto...     FOREIGN KEY                  parent_id  storage_storageobject                  id\n",
       "4  storage_storageobject_created_by_id_cd86e2b9_f...     FOREIGN KEY              created_by_id              auth_user                  id\n",
       "5  storage_storageobject_deleted_by_id_88cd3053_f...     FOREIGN KEY              deleted_by_id              auth_user                  id\n",
       "6  storage_storageobject_updated_by_id_aa02b6a5_f...     FOREIGN KEY              updated_by_id              auth_user                  id\n",
       "7  storage_storageobject_version_id_511c715f_fk_s...     FOREIGN KEY                 version_id        storage_version                  id\n",
       "8                         storage_storageobject_pkey     PRIMARY KEY                         id  storage_storageobject                  id\n",
       "9               storage_storageobject_version_id_key          UNIQUE                 version_id  storage_storageobject          version_id"
      ]
     },
     "metadata": {},
     "output_type": "display_data"
    },
    {
     "data": {
      "text/markdown": [
       "\n",
       "#### Таблица: `storage_storageobject_categories`"
      ],
      "text/plain": [
       "<IPython.core.display.Markdown object>"
      ]
     },
     "metadata": {},
     "output_type": "display_data"
    },
    {
     "data": {
      "text/markdown": [
       "\n",
       "##### Схема:"
      ],
      "text/plain": [
       "<IPython.core.display.Markdown object>"
      ]
     },
     "metadata": {},
     "output_type": "display_data"
    },
    {
     "name": "stderr",
     "output_type": "stream",
     "text": [
      "/tmp/ipykernel_450849/82215137.py:49: UserWarning: pandas only supports SQLAlchemy connectable (engine/connection) or database string URI or sqlite3 DBAPI2 connection. Other DBAPI2 objects are not tested. Please consider using SQLAlchemy.\n",
      "  df = pd.read_sql_query(query, conn)\n"
     ]
    },
    {
     "data": {
      "text/html": [
       "<div>\n",
       "<style scoped>\n",
       "    .dataframe tbody tr th:only-of-type {\n",
       "        vertical-align: middle;\n",
       "    }\n",
       "\n",
       "    .dataframe tbody tr th {\n",
       "        vertical-align: top;\n",
       "    }\n",
       "\n",
       "    .dataframe thead th {\n",
       "        text-align: right;\n",
       "    }\n",
       "</style>\n",
       "<table border=\"1\" class=\"dataframe\">\n",
       "  <thead>\n",
       "    <tr style=\"text-align: right;\">\n",
       "      <th></th>\n",
       "      <th>column_name</th>\n",
       "      <th>data_type</th>\n",
       "      <th>is_nullable</th>\n",
       "      <th>column_default</th>\n",
       "    </tr>\n",
       "  </thead>\n",
       "  <tbody>\n",
       "    <tr>\n",
       "      <th>0</th>\n",
       "      <td>id</td>\n",
       "      <td>bigint</td>\n",
       "      <td>NO</td>\n",
       "      <td>nextval('storage_storageobject_categories_id_s...</td>\n",
       "    </tr>\n",
       "    <tr>\n",
       "      <th>1</th>\n",
       "      <td>storageobject_id</td>\n",
       "      <td>uuid</td>\n",
       "      <td>NO</td>\n",
       "      <td>None</td>\n",
       "    </tr>\n",
       "    <tr>\n",
       "      <th>2</th>\n",
       "      <td>category_id</td>\n",
       "      <td>bigint</td>\n",
       "      <td>NO</td>\n",
       "      <td>None</td>\n",
       "    </tr>\n",
       "  </tbody>\n",
       "</table>\n",
       "</div>"
      ],
      "text/plain": [
       "        column_name data_type is_nullable                                     column_default\n",
       "0                id    bigint          NO  nextval('storage_storageobject_categories_id_s...\n",
       "1  storageobject_id      uuid          NO                                               None\n",
       "2       category_id    bigint          NO                                               None"
      ]
     },
     "metadata": {},
     "output_type": "display_data"
    },
    {
     "data": {
      "text/markdown": [
       "\n",
       "##### Ограничения (PK, FK):"
      ],
      "text/plain": [
       "<IPython.core.display.Markdown object>"
      ]
     },
     "metadata": {},
     "output_type": "display_data"
    },
    {
     "name": "stderr",
     "output_type": "stream",
     "text": [
      "/tmp/ipykernel_450849/82215137.py:79: UserWarning: pandas only supports SQLAlchemy connectable (engine/connection) or database string URI or sqlite3 DBAPI2 connection. Other DBAPI2 objects are not tested. Please consider using SQLAlchemy.\n",
      "  df = pd.read_sql_query(query, conn)\n"
     ]
    },
    {
     "data": {
      "text/html": [
       "<div>\n",
       "<style scoped>\n",
       "    .dataframe tbody tr th:only-of-type {\n",
       "        vertical-align: middle;\n",
       "    }\n",
       "\n",
       "    .dataframe tbody tr th {\n",
       "        vertical-align: top;\n",
       "    }\n",
       "\n",
       "    .dataframe thead th {\n",
       "        text-align: right;\n",
       "    }\n",
       "</style>\n",
       "<table border=\"1\" class=\"dataframe\">\n",
       "  <thead>\n",
       "    <tr style=\"text-align: right;\">\n",
       "      <th></th>\n",
       "      <th>constraint_name</th>\n",
       "      <th>constraint_type</th>\n",
       "      <th>column_name</th>\n",
       "      <th>foreign_table_name</th>\n",
       "      <th>foreign_column_name</th>\n",
       "    </tr>\n",
       "  </thead>\n",
       "  <tbody>\n",
       "    <tr>\n",
       "      <th>0</th>\n",
       "      <td>storage_storageobjec_category_id_978aeab8_fk_s...</td>\n",
       "      <td>FOREIGN KEY</td>\n",
       "      <td>category_id</td>\n",
       "      <td>storage_category</td>\n",
       "      <td>id</td>\n",
       "    </tr>\n",
       "    <tr>\n",
       "      <th>1</th>\n",
       "      <td>storage_storageobjec_storageobject_id_bc7d8fbe...</td>\n",
       "      <td>FOREIGN KEY</td>\n",
       "      <td>storageobject_id</td>\n",
       "      <td>storage_storageobject</td>\n",
       "      <td>id</td>\n",
       "    </tr>\n",
       "    <tr>\n",
       "      <th>2</th>\n",
       "      <td>storage_storageobject_categories_pkey</td>\n",
       "      <td>PRIMARY KEY</td>\n",
       "      <td>id</td>\n",
       "      <td>storage_storageobject_categories</td>\n",
       "      <td>id</td>\n",
       "    </tr>\n",
       "    <tr>\n",
       "      <th>3</th>\n",
       "      <td>storage_storageobject_ca_storageobject_id_cate...</td>\n",
       "      <td>UNIQUE</td>\n",
       "      <td>storageobject_id</td>\n",
       "      <td>storage_storageobject_categories</td>\n",
       "      <td>category_id</td>\n",
       "    </tr>\n",
       "    <tr>\n",
       "      <th>4</th>\n",
       "      <td>storage_storageobject_ca_storageobject_id_cate...</td>\n",
       "      <td>UNIQUE</td>\n",
       "      <td>storageobject_id</td>\n",
       "      <td>storage_storageobject_categories</td>\n",
       "      <td>storageobject_id</td>\n",
       "    </tr>\n",
       "    <tr>\n",
       "      <th>5</th>\n",
       "      <td>storage_storageobject_ca_storageobject_id_cate...</td>\n",
       "      <td>UNIQUE</td>\n",
       "      <td>category_id</td>\n",
       "      <td>storage_storageobject_categories</td>\n",
       "      <td>category_id</td>\n",
       "    </tr>\n",
       "    <tr>\n",
       "      <th>6</th>\n",
       "      <td>storage_storageobject_ca_storageobject_id_cate...</td>\n",
       "      <td>UNIQUE</td>\n",
       "      <td>category_id</td>\n",
       "      <td>storage_storageobject_categories</td>\n",
       "      <td>storageobject_id</td>\n",
       "    </tr>\n",
       "  </tbody>\n",
       "</table>\n",
       "</div>"
      ],
      "text/plain": [
       "                                     constraint_name constraint_type       column_name                foreign_table_name foreign_column_name\n",
       "0  storage_storageobjec_category_id_978aeab8_fk_s...     FOREIGN KEY       category_id                  storage_category                  id\n",
       "1  storage_storageobjec_storageobject_id_bc7d8fbe...     FOREIGN KEY  storageobject_id             storage_storageobject                  id\n",
       "2              storage_storageobject_categories_pkey     PRIMARY KEY                id  storage_storageobject_categories                  id\n",
       "3  storage_storageobject_ca_storageobject_id_cate...          UNIQUE  storageobject_id  storage_storageobject_categories         category_id\n",
       "4  storage_storageobject_ca_storageobject_id_cate...          UNIQUE  storageobject_id  storage_storageobject_categories    storageobject_id\n",
       "5  storage_storageobject_ca_storageobject_id_cate...          UNIQUE       category_id  storage_storageobject_categories         category_id\n",
       "6  storage_storageobject_ca_storageobject_id_cate...          UNIQUE       category_id  storage_storageobject_categories    storageobject_id"
      ]
     },
     "metadata": {},
     "output_type": "display_data"
    },
    {
     "data": {
      "text/markdown": [
       "\n",
       "#### Таблица: `storage_version`"
      ],
      "text/plain": [
       "<IPython.core.display.Markdown object>"
      ]
     },
     "metadata": {},
     "output_type": "display_data"
    },
    {
     "data": {
      "text/markdown": [
       "\n",
       "##### Схема:"
      ],
      "text/plain": [
       "<IPython.core.display.Markdown object>"
      ]
     },
     "metadata": {},
     "output_type": "display_data"
    },
    {
     "name": "stderr",
     "output_type": "stream",
     "text": [
      "/tmp/ipykernel_450849/82215137.py:49: UserWarning: pandas only supports SQLAlchemy connectable (engine/connection) or database string URI or sqlite3 DBAPI2 connection. Other DBAPI2 objects are not tested. Please consider using SQLAlchemy.\n",
      "  df = pd.read_sql_query(query, conn)\n"
     ]
    },
    {
     "data": {
      "text/html": [
       "<div>\n",
       "<style scoped>\n",
       "    .dataframe tbody tr th:only-of-type {\n",
       "        vertical-align: middle;\n",
       "    }\n",
       "\n",
       "    .dataframe tbody tr th {\n",
       "        vertical-align: top;\n",
       "    }\n",
       "\n",
       "    .dataframe thead th {\n",
       "        text-align: right;\n",
       "    }\n",
       "</style>\n",
       "<table border=\"1\" class=\"dataframe\">\n",
       "  <thead>\n",
       "    <tr style=\"text-align: right;\">\n",
       "      <th></th>\n",
       "      <th>column_name</th>\n",
       "      <th>data_type</th>\n",
       "      <th>is_nullable</th>\n",
       "      <th>column_default</th>\n",
       "    </tr>\n",
       "  </thead>\n",
       "  <tbody>\n",
       "    <tr>\n",
       "      <th>0</th>\n",
       "      <td>id</td>\n",
       "      <td>bigint</td>\n",
       "      <td>NO</td>\n",
       "      <td>nextval('storage_version_id_seq'::regclass)</td>\n",
       "    </tr>\n",
       "    <tr>\n",
       "      <th>1</th>\n",
       "      <td>version_number</td>\n",
       "      <td>integer</td>\n",
       "      <td>NO</td>\n",
       "      <td>None</td>\n",
       "    </tr>\n",
       "    <tr>\n",
       "      <th>2</th>\n",
       "      <td>size</td>\n",
       "      <td>integer</td>\n",
       "      <td>YES</td>\n",
       "      <td>None</td>\n",
       "    </tr>\n",
       "    <tr>\n",
       "      <th>3</th>\n",
       "      <td>comment</td>\n",
       "      <td>integer</td>\n",
       "      <td>YES</td>\n",
       "      <td>None</td>\n",
       "    </tr>\n",
       "    <tr>\n",
       "      <th>4</th>\n",
       "      <td>created_at</td>\n",
       "      <td>timestamp with time zone</td>\n",
       "      <td>NO</td>\n",
       "      <td>None</td>\n",
       "    </tr>\n",
       "    <tr>\n",
       "      <th>5</th>\n",
       "      <td>link</td>\n",
       "      <td>character varying</td>\n",
       "      <td>NO</td>\n",
       "      <td>None</td>\n",
       "    </tr>\n",
       "    <tr>\n",
       "      <th>6</th>\n",
       "      <td>deleted_at</td>\n",
       "      <td>timestamp with time zone</td>\n",
       "      <td>YES</td>\n",
       "      <td>None</td>\n",
       "    </tr>\n",
       "    <tr>\n",
       "      <th>7</th>\n",
       "      <td>storage_object_id</td>\n",
       "      <td>uuid</td>\n",
       "      <td>YES</td>\n",
       "      <td>None</td>\n",
       "    </tr>\n",
       "    <tr>\n",
       "      <th>8</th>\n",
       "      <td>created_by_id</td>\n",
       "      <td>integer</td>\n",
       "      <td>YES</td>\n",
       "      <td>None</td>\n",
       "    </tr>\n",
       "    <tr>\n",
       "      <th>9</th>\n",
       "      <td>deleted_by_id</td>\n",
       "      <td>integer</td>\n",
       "      <td>YES</td>\n",
       "      <td>None</td>\n",
       "    </tr>\n",
       "  </tbody>\n",
       "</table>\n",
       "</div>"
      ],
      "text/plain": [
       "         column_name                 data_type is_nullable                               column_default\n",
       "0                 id                    bigint          NO  nextval('storage_version_id_seq'::regclass)\n",
       "1     version_number                   integer          NO                                         None\n",
       "2               size                   integer         YES                                         None\n",
       "3            comment                   integer         YES                                         None\n",
       "4         created_at  timestamp with time zone          NO                                         None\n",
       "5               link         character varying          NO                                         None\n",
       "6         deleted_at  timestamp with time zone         YES                                         None\n",
       "7  storage_object_id                      uuid         YES                                         None\n",
       "8      created_by_id                   integer         YES                                         None\n",
       "9      deleted_by_id                   integer         YES                                         None"
      ]
     },
     "metadata": {},
     "output_type": "display_data"
    },
    {
     "data": {
      "text/markdown": [
       "\n",
       "##### Ограничения (PK, FK):"
      ],
      "text/plain": [
       "<IPython.core.display.Markdown object>"
      ]
     },
     "metadata": {},
     "output_type": "display_data"
    },
    {
     "name": "stderr",
     "output_type": "stream",
     "text": [
      "/tmp/ipykernel_450849/82215137.py:79: UserWarning: pandas only supports SQLAlchemy connectable (engine/connection) or database string URI or sqlite3 DBAPI2 connection. Other DBAPI2 objects are not tested. Please consider using SQLAlchemy.\n",
      "  df = pd.read_sql_query(query, conn)\n"
     ]
    },
    {
     "data": {
      "text/html": [
       "<div>\n",
       "<style scoped>\n",
       "    .dataframe tbody tr th:only-of-type {\n",
       "        vertical-align: middle;\n",
       "    }\n",
       "\n",
       "    .dataframe tbody tr th {\n",
       "        vertical-align: top;\n",
       "    }\n",
       "\n",
       "    .dataframe thead th {\n",
       "        text-align: right;\n",
       "    }\n",
       "</style>\n",
       "<table border=\"1\" class=\"dataframe\">\n",
       "  <thead>\n",
       "    <tr style=\"text-align: right;\">\n",
       "      <th></th>\n",
       "      <th>constraint_name</th>\n",
       "      <th>constraint_type</th>\n",
       "      <th>column_name</th>\n",
       "      <th>foreign_table_name</th>\n",
       "      <th>foreign_column_name</th>\n",
       "    </tr>\n",
       "  </thead>\n",
       "  <tbody>\n",
       "    <tr>\n",
       "      <th>0</th>\n",
       "      <td>storage_version_created_by_id_c6b4faf2_fk_auth...</td>\n",
       "      <td>FOREIGN KEY</td>\n",
       "      <td>created_by_id</td>\n",
       "      <td>auth_user</td>\n",
       "      <td>id</td>\n",
       "    </tr>\n",
       "    <tr>\n",
       "      <th>1</th>\n",
       "      <td>storage_version_deleted_by_id_a9ed7ae2_fk_auth...</td>\n",
       "      <td>FOREIGN KEY</td>\n",
       "      <td>deleted_by_id</td>\n",
       "      <td>auth_user</td>\n",
       "      <td>id</td>\n",
       "    </tr>\n",
       "    <tr>\n",
       "      <th>2</th>\n",
       "      <td>storage_version_storage_object_id_261dac3e_fk_...</td>\n",
       "      <td>FOREIGN KEY</td>\n",
       "      <td>storage_object_id</td>\n",
       "      <td>storage_storageobject</td>\n",
       "      <td>id</td>\n",
       "    </tr>\n",
       "    <tr>\n",
       "      <th>3</th>\n",
       "      <td>storage_version_pkey</td>\n",
       "      <td>PRIMARY KEY</td>\n",
       "      <td>id</td>\n",
       "      <td>storage_version</td>\n",
       "      <td>id</td>\n",
       "    </tr>\n",
       "  </tbody>\n",
       "</table>\n",
       "</div>"
      ],
      "text/plain": [
       "                                     constraint_name constraint_type        column_name     foreign_table_name foreign_column_name\n",
       "0  storage_version_created_by_id_c6b4faf2_fk_auth...     FOREIGN KEY      created_by_id              auth_user                  id\n",
       "1  storage_version_deleted_by_id_a9ed7ae2_fk_auth...     FOREIGN KEY      deleted_by_id              auth_user                  id\n",
       "2  storage_version_storage_object_id_261dac3e_fk_...     FOREIGN KEY  storage_object_id  storage_storageobject                  id\n",
       "3                               storage_version_pkey     PRIMARY KEY                 id        storage_version                  id"
      ]
     },
     "metadata": {},
     "output_type": "display_data"
    },
    {
     "data": {
      "text/markdown": [
       "\n",
       "#### Таблица: `tagging_tag`"
      ],
      "text/plain": [
       "<IPython.core.display.Markdown object>"
      ]
     },
     "metadata": {},
     "output_type": "display_data"
    },
    {
     "data": {
      "text/markdown": [
       "\n",
       "##### Схема:"
      ],
      "text/plain": [
       "<IPython.core.display.Markdown object>"
      ]
     },
     "metadata": {},
     "output_type": "display_data"
    },
    {
     "name": "stderr",
     "output_type": "stream",
     "text": [
      "/tmp/ipykernel_450849/82215137.py:49: UserWarning: pandas only supports SQLAlchemy connectable (engine/connection) or database string URI or sqlite3 DBAPI2 connection. Other DBAPI2 objects are not tested. Please consider using SQLAlchemy.\n",
      "  df = pd.read_sql_query(query, conn)\n"
     ]
    },
    {
     "data": {
      "text/html": [
       "<div>\n",
       "<style scoped>\n",
       "    .dataframe tbody tr th:only-of-type {\n",
       "        vertical-align: middle;\n",
       "    }\n",
       "\n",
       "    .dataframe tbody tr th {\n",
       "        vertical-align: top;\n",
       "    }\n",
       "\n",
       "    .dataframe thead th {\n",
       "        text-align: right;\n",
       "    }\n",
       "</style>\n",
       "<table border=\"1\" class=\"dataframe\">\n",
       "  <thead>\n",
       "    <tr style=\"text-align: right;\">\n",
       "      <th></th>\n",
       "      <th>column_name</th>\n",
       "      <th>data_type</th>\n",
       "      <th>is_nullable</th>\n",
       "      <th>column_default</th>\n",
       "    </tr>\n",
       "  </thead>\n",
       "  <tbody>\n",
       "    <tr>\n",
       "      <th>0</th>\n",
       "      <td>id</td>\n",
       "      <td>bigint</td>\n",
       "      <td>NO</td>\n",
       "      <td>nextval('tagging_tag_id_seq'::regclass)</td>\n",
       "    </tr>\n",
       "    <tr>\n",
       "      <th>1</th>\n",
       "      <td>name</td>\n",
       "      <td>character varying</td>\n",
       "      <td>NO</td>\n",
       "      <td>None</td>\n",
       "    </tr>\n",
       "  </tbody>\n",
       "</table>\n",
       "</div>"
      ],
      "text/plain": [
       "  column_name          data_type is_nullable                           column_default\n",
       "0          id             bigint          NO  nextval('tagging_tag_id_seq'::regclass)\n",
       "1        name  character varying          NO                                     None"
      ]
     },
     "metadata": {},
     "output_type": "display_data"
    },
    {
     "data": {
      "text/markdown": [
       "\n",
       "##### Ограничения (PK, FK):"
      ],
      "text/plain": [
       "<IPython.core.display.Markdown object>"
      ]
     },
     "metadata": {},
     "output_type": "display_data"
    },
    {
     "name": "stderr",
     "output_type": "stream",
     "text": [
      "/tmp/ipykernel_450849/82215137.py:79: UserWarning: pandas only supports SQLAlchemy connectable (engine/connection) or database string URI or sqlite3 DBAPI2 connection. Other DBAPI2 objects are not tested. Please consider using SQLAlchemy.\n",
      "  df = pd.read_sql_query(query, conn)\n"
     ]
    },
    {
     "data": {
      "text/html": [
       "<div>\n",
       "<style scoped>\n",
       "    .dataframe tbody tr th:only-of-type {\n",
       "        vertical-align: middle;\n",
       "    }\n",
       "\n",
       "    .dataframe tbody tr th {\n",
       "        vertical-align: top;\n",
       "    }\n",
       "\n",
       "    .dataframe thead th {\n",
       "        text-align: right;\n",
       "    }\n",
       "</style>\n",
       "<table border=\"1\" class=\"dataframe\">\n",
       "  <thead>\n",
       "    <tr style=\"text-align: right;\">\n",
       "      <th></th>\n",
       "      <th>constraint_name</th>\n",
       "      <th>constraint_type</th>\n",
       "      <th>column_name</th>\n",
       "      <th>foreign_table_name</th>\n",
       "      <th>foreign_column_name</th>\n",
       "    </tr>\n",
       "  </thead>\n",
       "  <tbody>\n",
       "    <tr>\n",
       "      <th>0</th>\n",
       "      <td>tagging_tag_pkey</td>\n",
       "      <td>PRIMARY KEY</td>\n",
       "      <td>id</td>\n",
       "      <td>tagging_tag</td>\n",
       "      <td>id</td>\n",
       "    </tr>\n",
       "    <tr>\n",
       "      <th>1</th>\n",
       "      <td>tagging_tag_name_key</td>\n",
       "      <td>UNIQUE</td>\n",
       "      <td>name</td>\n",
       "      <td>tagging_tag</td>\n",
       "      <td>name</td>\n",
       "    </tr>\n",
       "  </tbody>\n",
       "</table>\n",
       "</div>"
      ],
      "text/plain": [
       "        constraint_name constraint_type column_name foreign_table_name foreign_column_name\n",
       "0      tagging_tag_pkey     PRIMARY KEY          id        tagging_tag                  id\n",
       "1  tagging_tag_name_key          UNIQUE        name        tagging_tag                name"
      ]
     },
     "metadata": {},
     "output_type": "display_data"
    },
    {
     "data": {
      "text/markdown": [
       "\n",
       "#### Таблица: `tagging_taggeditem`"
      ],
      "text/plain": [
       "<IPython.core.display.Markdown object>"
      ]
     },
     "metadata": {},
     "output_type": "display_data"
    },
    {
     "data": {
      "text/markdown": [
       "\n",
       "##### Схема:"
      ],
      "text/plain": [
       "<IPython.core.display.Markdown object>"
      ]
     },
     "metadata": {},
     "output_type": "display_data"
    },
    {
     "name": "stderr",
     "output_type": "stream",
     "text": [
      "/tmp/ipykernel_450849/82215137.py:49: UserWarning: pandas only supports SQLAlchemy connectable (engine/connection) or database string URI or sqlite3 DBAPI2 connection. Other DBAPI2 objects are not tested. Please consider using SQLAlchemy.\n",
      "  df = pd.read_sql_query(query, conn)\n"
     ]
    },
    {
     "data": {
      "text/html": [
       "<div>\n",
       "<style scoped>\n",
       "    .dataframe tbody tr th:only-of-type {\n",
       "        vertical-align: middle;\n",
       "    }\n",
       "\n",
       "    .dataframe tbody tr th {\n",
       "        vertical-align: top;\n",
       "    }\n",
       "\n",
       "    .dataframe thead th {\n",
       "        text-align: right;\n",
       "    }\n",
       "</style>\n",
       "<table border=\"1\" class=\"dataframe\">\n",
       "  <thead>\n",
       "    <tr style=\"text-align: right;\">\n",
       "      <th></th>\n",
       "      <th>column_name</th>\n",
       "      <th>data_type</th>\n",
       "      <th>is_nullable</th>\n",
       "      <th>column_default</th>\n",
       "    </tr>\n",
       "  </thead>\n",
       "  <tbody>\n",
       "    <tr>\n",
       "      <th>0</th>\n",
       "      <td>id</td>\n",
       "      <td>bigint</td>\n",
       "      <td>NO</td>\n",
       "      <td>nextval('tagging_taggeditem_id_seq'::regclass)</td>\n",
       "    </tr>\n",
       "    <tr>\n",
       "      <th>1</th>\n",
       "      <td>object_id</td>\n",
       "      <td>integer</td>\n",
       "      <td>NO</td>\n",
       "      <td>None</td>\n",
       "    </tr>\n",
       "    <tr>\n",
       "      <th>2</th>\n",
       "      <td>content_type_id</td>\n",
       "      <td>integer</td>\n",
       "      <td>NO</td>\n",
       "      <td>None</td>\n",
       "    </tr>\n",
       "    <tr>\n",
       "      <th>3</th>\n",
       "      <td>tag_id</td>\n",
       "      <td>bigint</td>\n",
       "      <td>NO</td>\n",
       "      <td>None</td>\n",
       "    </tr>\n",
       "  </tbody>\n",
       "</table>\n",
       "</div>"
      ],
      "text/plain": [
       "       column_name data_type is_nullable                                  column_default\n",
       "0               id    bigint          NO  nextval('tagging_taggeditem_id_seq'::regclass)\n",
       "1        object_id   integer          NO                                            None\n",
       "2  content_type_id   integer          NO                                            None\n",
       "3           tag_id    bigint          NO                                            None"
      ]
     },
     "metadata": {},
     "output_type": "display_data"
    },
    {
     "data": {
      "text/markdown": [
       "\n",
       "##### Ограничения (PK, FK):"
      ],
      "text/plain": [
       "<IPython.core.display.Markdown object>"
      ]
     },
     "metadata": {},
     "output_type": "display_data"
    },
    {
     "name": "stderr",
     "output_type": "stream",
     "text": [
      "/tmp/ipykernel_450849/82215137.py:79: UserWarning: pandas only supports SQLAlchemy connectable (engine/connection) or database string URI or sqlite3 DBAPI2 connection. Other DBAPI2 objects are not tested. Please consider using SQLAlchemy.\n",
      "  df = pd.read_sql_query(query, conn)\n"
     ]
    },
    {
     "data": {
      "text/html": [
       "<div>\n",
       "<style scoped>\n",
       "    .dataframe tbody tr th:only-of-type {\n",
       "        vertical-align: middle;\n",
       "    }\n",
       "\n",
       "    .dataframe tbody tr th {\n",
       "        vertical-align: top;\n",
       "    }\n",
       "\n",
       "    .dataframe thead th {\n",
       "        text-align: right;\n",
       "    }\n",
       "</style>\n",
       "<table border=\"1\" class=\"dataframe\">\n",
       "  <thead>\n",
       "    <tr style=\"text-align: right;\">\n",
       "      <th></th>\n",
       "      <th>constraint_name</th>\n",
       "      <th>constraint_type</th>\n",
       "      <th>column_name</th>\n",
       "      <th>foreign_table_name</th>\n",
       "      <th>foreign_column_name</th>\n",
       "    </tr>\n",
       "  </thead>\n",
       "  <tbody>\n",
       "    <tr>\n",
       "      <th>0</th>\n",
       "      <td>tagging_taggeditem_content_type_id_ede1c265_fk...</td>\n",
       "      <td>FOREIGN KEY</td>\n",
       "      <td>content_type_id</td>\n",
       "      <td>django_content_type</td>\n",
       "      <td>id</td>\n",
       "    </tr>\n",
       "    <tr>\n",
       "      <th>1</th>\n",
       "      <td>tagging_taggeditem_tag_id_f008ca79_fk</td>\n",
       "      <td>FOREIGN KEY</td>\n",
       "      <td>tag_id</td>\n",
       "      <td>tagging_tag</td>\n",
       "      <td>id</td>\n",
       "    </tr>\n",
       "    <tr>\n",
       "      <th>2</th>\n",
       "      <td>tagging_taggeditem_pkey</td>\n",
       "      <td>PRIMARY KEY</td>\n",
       "      <td>id</td>\n",
       "      <td>tagging_taggeditem</td>\n",
       "      <td>id</td>\n",
       "    </tr>\n",
       "    <tr>\n",
       "      <th>3</th>\n",
       "      <td>tagging_taggeditem_tag_id_content_type_id_o_3d...</td>\n",
       "      <td>UNIQUE</td>\n",
       "      <td>tag_id</td>\n",
       "      <td>tagging_taggeditem</td>\n",
       "      <td>tag_id</td>\n",
       "    </tr>\n",
       "    <tr>\n",
       "      <th>4</th>\n",
       "      <td>tagging_taggeditem_tag_id_content_type_id_o_3d...</td>\n",
       "      <td>UNIQUE</td>\n",
       "      <td>tag_id</td>\n",
       "      <td>tagging_taggeditem</td>\n",
       "      <td>content_type_id</td>\n",
       "    </tr>\n",
       "    <tr>\n",
       "      <th>5</th>\n",
       "      <td>tagging_taggeditem_tag_id_content_type_id_o_3d...</td>\n",
       "      <td>UNIQUE</td>\n",
       "      <td>tag_id</td>\n",
       "      <td>tagging_taggeditem</td>\n",
       "      <td>object_id</td>\n",
       "    </tr>\n",
       "    <tr>\n",
       "      <th>6</th>\n",
       "      <td>tagging_taggeditem_tag_id_content_type_id_o_3d...</td>\n",
       "      <td>UNIQUE</td>\n",
       "      <td>content_type_id</td>\n",
       "      <td>tagging_taggeditem</td>\n",
       "      <td>tag_id</td>\n",
       "    </tr>\n",
       "    <tr>\n",
       "      <th>7</th>\n",
       "      <td>tagging_taggeditem_tag_id_content_type_id_o_3d...</td>\n",
       "      <td>UNIQUE</td>\n",
       "      <td>content_type_id</td>\n",
       "      <td>tagging_taggeditem</td>\n",
       "      <td>object_id</td>\n",
       "    </tr>\n",
       "    <tr>\n",
       "      <th>8</th>\n",
       "      <td>tagging_taggeditem_tag_id_content_type_id_o_3d...</td>\n",
       "      <td>UNIQUE</td>\n",
       "      <td>content_type_id</td>\n",
       "      <td>tagging_taggeditem</td>\n",
       "      <td>content_type_id</td>\n",
       "    </tr>\n",
       "    <tr>\n",
       "      <th>9</th>\n",
       "      <td>tagging_taggeditem_tag_id_content_type_id_o_3d...</td>\n",
       "      <td>UNIQUE</td>\n",
       "      <td>object_id</td>\n",
       "      <td>tagging_taggeditem</td>\n",
       "      <td>object_id</td>\n",
       "    </tr>\n",
       "    <tr>\n",
       "      <th>10</th>\n",
       "      <td>tagging_taggeditem_tag_id_content_type_id_o_3d...</td>\n",
       "      <td>UNIQUE</td>\n",
       "      <td>object_id</td>\n",
       "      <td>tagging_taggeditem</td>\n",
       "      <td>content_type_id</td>\n",
       "    </tr>\n",
       "    <tr>\n",
       "      <th>11</th>\n",
       "      <td>tagging_taggeditem_tag_id_content_type_id_o_3d...</td>\n",
       "      <td>UNIQUE</td>\n",
       "      <td>object_id</td>\n",
       "      <td>tagging_taggeditem</td>\n",
       "      <td>tag_id</td>\n",
       "    </tr>\n",
       "  </tbody>\n",
       "</table>\n",
       "</div>"
      ],
      "text/plain": [
       "                                      constraint_name constraint_type      column_name   foreign_table_name foreign_column_name\n",
       "0   tagging_taggeditem_content_type_id_ede1c265_fk...     FOREIGN KEY  content_type_id  django_content_type                  id\n",
       "1               tagging_taggeditem_tag_id_f008ca79_fk     FOREIGN KEY           tag_id          tagging_tag                  id\n",
       "2                             tagging_taggeditem_pkey     PRIMARY KEY               id   tagging_taggeditem                  id\n",
       "3   tagging_taggeditem_tag_id_content_type_id_o_3d...          UNIQUE           tag_id   tagging_taggeditem              tag_id\n",
       "4   tagging_taggeditem_tag_id_content_type_id_o_3d...          UNIQUE           tag_id   tagging_taggeditem     content_type_id\n",
       "5   tagging_taggeditem_tag_id_content_type_id_o_3d...          UNIQUE           tag_id   tagging_taggeditem           object_id\n",
       "6   tagging_taggeditem_tag_id_content_type_id_o_3d...          UNIQUE  content_type_id   tagging_taggeditem              tag_id\n",
       "7   tagging_taggeditem_tag_id_content_type_id_o_3d...          UNIQUE  content_type_id   tagging_taggeditem           object_id\n",
       "8   tagging_taggeditem_tag_id_content_type_id_o_3d...          UNIQUE  content_type_id   tagging_taggeditem     content_type_id\n",
       "9   tagging_taggeditem_tag_id_content_type_id_o_3d...          UNIQUE        object_id   tagging_taggeditem           object_id\n",
       "10  tagging_taggeditem_tag_id_content_type_id_o_3d...          UNIQUE        object_id   tagging_taggeditem     content_type_id\n",
       "11  tagging_taggeditem_tag_id_content_type_id_o_3d...          UNIQUE        object_id   tagging_taggeditem              tag_id"
      ]
     },
     "metadata": {},
     "output_type": "display_data"
    },
    {
     "data": {
      "text/markdown": [
       "\n",
       "#### Таблица: `tastypie_apiaccess`"
      ],
      "text/plain": [
       "<IPython.core.display.Markdown object>"
      ]
     },
     "metadata": {},
     "output_type": "display_data"
    },
    {
     "data": {
      "text/markdown": [
       "\n",
       "##### Схема:"
      ],
      "text/plain": [
       "<IPython.core.display.Markdown object>"
      ]
     },
     "metadata": {},
     "output_type": "display_data"
    },
    {
     "name": "stderr",
     "output_type": "stream",
     "text": [
      "/tmp/ipykernel_450849/82215137.py:49: UserWarning: pandas only supports SQLAlchemy connectable (engine/connection) or database string URI or sqlite3 DBAPI2 connection. Other DBAPI2 objects are not tested. Please consider using SQLAlchemy.\n",
      "  df = pd.read_sql_query(query, conn)\n"
     ]
    },
    {
     "data": {
      "text/html": [
       "<div>\n",
       "<style scoped>\n",
       "    .dataframe tbody tr th:only-of-type {\n",
       "        vertical-align: middle;\n",
       "    }\n",
       "\n",
       "    .dataframe tbody tr th {\n",
       "        vertical-align: top;\n",
       "    }\n",
       "\n",
       "    .dataframe thead th {\n",
       "        text-align: right;\n",
       "    }\n",
       "</style>\n",
       "<table border=\"1\" class=\"dataframe\">\n",
       "  <thead>\n",
       "    <tr style=\"text-align: right;\">\n",
       "      <th></th>\n",
       "      <th>column_name</th>\n",
       "      <th>data_type</th>\n",
       "      <th>is_nullable</th>\n",
       "      <th>column_default</th>\n",
       "    </tr>\n",
       "  </thead>\n",
       "  <tbody>\n",
       "    <tr>\n",
       "      <th>0</th>\n",
       "      <td>id</td>\n",
       "      <td>integer</td>\n",
       "      <td>NO</td>\n",
       "      <td>nextval('tastypie_apiaccess_id_seq'::regclass)</td>\n",
       "    </tr>\n",
       "    <tr>\n",
       "      <th>1</th>\n",
       "      <td>identifier</td>\n",
       "      <td>character varying</td>\n",
       "      <td>NO</td>\n",
       "      <td>None</td>\n",
       "    </tr>\n",
       "    <tr>\n",
       "      <th>2</th>\n",
       "      <td>url</td>\n",
       "      <td>text</td>\n",
       "      <td>NO</td>\n",
       "      <td>None</td>\n",
       "    </tr>\n",
       "    <tr>\n",
       "      <th>3</th>\n",
       "      <td>request_method</td>\n",
       "      <td>character varying</td>\n",
       "      <td>NO</td>\n",
       "      <td>None</td>\n",
       "    </tr>\n",
       "    <tr>\n",
       "      <th>4</th>\n",
       "      <td>accessed</td>\n",
       "      <td>integer</td>\n",
       "      <td>NO</td>\n",
       "      <td>None</td>\n",
       "    </tr>\n",
       "  </tbody>\n",
       "</table>\n",
       "</div>"
      ],
      "text/plain": [
       "      column_name          data_type is_nullable                                  column_default\n",
       "0              id            integer          NO  nextval('tastypie_apiaccess_id_seq'::regclass)\n",
       "1      identifier  character varying          NO                                            None\n",
       "2             url               text          NO                                            None\n",
       "3  request_method  character varying          NO                                            None\n",
       "4        accessed            integer          NO                                            None"
      ]
     },
     "metadata": {},
     "output_type": "display_data"
    },
    {
     "data": {
      "text/markdown": [
       "\n",
       "##### Ограничения (PK, FK):"
      ],
      "text/plain": [
       "<IPython.core.display.Markdown object>"
      ]
     },
     "metadata": {},
     "output_type": "display_data"
    },
    {
     "name": "stderr",
     "output_type": "stream",
     "text": [
      "/tmp/ipykernel_450849/82215137.py:79: UserWarning: pandas only supports SQLAlchemy connectable (engine/connection) or database string URI or sqlite3 DBAPI2 connection. Other DBAPI2 objects are not tested. Please consider using SQLAlchemy.\n",
      "  df = pd.read_sql_query(query, conn)\n"
     ]
    },
    {
     "data": {
      "text/html": [
       "<div>\n",
       "<style scoped>\n",
       "    .dataframe tbody tr th:only-of-type {\n",
       "        vertical-align: middle;\n",
       "    }\n",
       "\n",
       "    .dataframe tbody tr th {\n",
       "        vertical-align: top;\n",
       "    }\n",
       "\n",
       "    .dataframe thead th {\n",
       "        text-align: right;\n",
       "    }\n",
       "</style>\n",
       "<table border=\"1\" class=\"dataframe\">\n",
       "  <thead>\n",
       "    <tr style=\"text-align: right;\">\n",
       "      <th></th>\n",
       "      <th>constraint_name</th>\n",
       "      <th>constraint_type</th>\n",
       "      <th>column_name</th>\n",
       "      <th>foreign_table_name</th>\n",
       "      <th>foreign_column_name</th>\n",
       "    </tr>\n",
       "  </thead>\n",
       "  <tbody>\n",
       "    <tr>\n",
       "      <th>0</th>\n",
       "      <td>tastypie_apiaccess_pkey</td>\n",
       "      <td>PRIMARY KEY</td>\n",
       "      <td>id</td>\n",
       "      <td>tastypie_apiaccess</td>\n",
       "      <td>id</td>\n",
       "    </tr>\n",
       "  </tbody>\n",
       "</table>\n",
       "</div>"
      ],
      "text/plain": [
       "           constraint_name constraint_type column_name  foreign_table_name foreign_column_name\n",
       "0  tastypie_apiaccess_pkey     PRIMARY KEY          id  tastypie_apiaccess                  id"
      ]
     },
     "metadata": {},
     "output_type": "display_data"
    },
    {
     "data": {
      "text/markdown": [
       "\n",
       "#### Таблица: `tastypie_apikey`"
      ],
      "text/plain": [
       "<IPython.core.display.Markdown object>"
      ]
     },
     "metadata": {},
     "output_type": "display_data"
    },
    {
     "data": {
      "text/markdown": [
       "\n",
       "##### Схема:"
      ],
      "text/plain": [
       "<IPython.core.display.Markdown object>"
      ]
     },
     "metadata": {},
     "output_type": "display_data"
    },
    {
     "name": "stderr",
     "output_type": "stream",
     "text": [
      "/tmp/ipykernel_450849/82215137.py:49: UserWarning: pandas only supports SQLAlchemy connectable (engine/connection) or database string URI or sqlite3 DBAPI2 connection. Other DBAPI2 objects are not tested. Please consider using SQLAlchemy.\n",
      "  df = pd.read_sql_query(query, conn)\n"
     ]
    },
    {
     "data": {
      "text/html": [
       "<div>\n",
       "<style scoped>\n",
       "    .dataframe tbody tr th:only-of-type {\n",
       "        vertical-align: middle;\n",
       "    }\n",
       "\n",
       "    .dataframe tbody tr th {\n",
       "        vertical-align: top;\n",
       "    }\n",
       "\n",
       "    .dataframe thead th {\n",
       "        text-align: right;\n",
       "    }\n",
       "</style>\n",
       "<table border=\"1\" class=\"dataframe\">\n",
       "  <thead>\n",
       "    <tr style=\"text-align: right;\">\n",
       "      <th></th>\n",
       "      <th>column_name</th>\n",
       "      <th>data_type</th>\n",
       "      <th>is_nullable</th>\n",
       "      <th>column_default</th>\n",
       "    </tr>\n",
       "  </thead>\n",
       "  <tbody>\n",
       "    <tr>\n",
       "      <th>0</th>\n",
       "      <td>id</td>\n",
       "      <td>integer</td>\n",
       "      <td>NO</td>\n",
       "      <td>nextval('tastypie_apikey_id_seq'::regclass)</td>\n",
       "    </tr>\n",
       "    <tr>\n",
       "      <th>1</th>\n",
       "      <td>key</td>\n",
       "      <td>character varying</td>\n",
       "      <td>NO</td>\n",
       "      <td>None</td>\n",
       "    </tr>\n",
       "    <tr>\n",
       "      <th>2</th>\n",
       "      <td>created</td>\n",
       "      <td>timestamp with time zone</td>\n",
       "      <td>NO</td>\n",
       "      <td>None</td>\n",
       "    </tr>\n",
       "    <tr>\n",
       "      <th>3</th>\n",
       "      <td>user_id</td>\n",
       "      <td>integer</td>\n",
       "      <td>NO</td>\n",
       "      <td>None</td>\n",
       "    </tr>\n",
       "  </tbody>\n",
       "</table>\n",
       "</div>"
      ],
      "text/plain": [
       "  column_name                 data_type is_nullable                               column_default\n",
       "0          id                   integer          NO  nextval('tastypie_apikey_id_seq'::regclass)\n",
       "1         key         character varying          NO                                         None\n",
       "2     created  timestamp with time zone          NO                                         None\n",
       "3     user_id                   integer          NO                                         None"
      ]
     },
     "metadata": {},
     "output_type": "display_data"
    },
    {
     "data": {
      "text/markdown": [
       "\n",
       "##### Ограничения (PK, FK):"
      ],
      "text/plain": [
       "<IPython.core.display.Markdown object>"
      ]
     },
     "metadata": {},
     "output_type": "display_data"
    },
    {
     "name": "stderr",
     "output_type": "stream",
     "text": [
      "/tmp/ipykernel_450849/82215137.py:79: UserWarning: pandas only supports SQLAlchemy connectable (engine/connection) or database string URI or sqlite3 DBAPI2 connection. Other DBAPI2 objects are not tested. Please consider using SQLAlchemy.\n",
      "  df = pd.read_sql_query(query, conn)\n"
     ]
    },
    {
     "data": {
      "text/html": [
       "<div>\n",
       "<style scoped>\n",
       "    .dataframe tbody tr th:only-of-type {\n",
       "        vertical-align: middle;\n",
       "    }\n",
       "\n",
       "    .dataframe tbody tr th {\n",
       "        vertical-align: top;\n",
       "    }\n",
       "\n",
       "    .dataframe thead th {\n",
       "        text-align: right;\n",
       "    }\n",
       "</style>\n",
       "<table border=\"1\" class=\"dataframe\">\n",
       "  <thead>\n",
       "    <tr style=\"text-align: right;\">\n",
       "      <th></th>\n",
       "      <th>constraint_name</th>\n",
       "      <th>constraint_type</th>\n",
       "      <th>column_name</th>\n",
       "      <th>foreign_table_name</th>\n",
       "      <th>foreign_column_name</th>\n",
       "    </tr>\n",
       "  </thead>\n",
       "  <tbody>\n",
       "    <tr>\n",
       "      <th>0</th>\n",
       "      <td>tastypie_apikey_user_id_8c8fa920_fk_auth_user_id</td>\n",
       "      <td>FOREIGN KEY</td>\n",
       "      <td>user_id</td>\n",
       "      <td>auth_user</td>\n",
       "      <td>id</td>\n",
       "    </tr>\n",
       "    <tr>\n",
       "      <th>1</th>\n",
       "      <td>tastypie_apikey_pkey</td>\n",
       "      <td>PRIMARY KEY</td>\n",
       "      <td>id</td>\n",
       "      <td>tastypie_apikey</td>\n",
       "      <td>id</td>\n",
       "    </tr>\n",
       "    <tr>\n",
       "      <th>2</th>\n",
       "      <td>tastypie_apikey_user_id_key</td>\n",
       "      <td>UNIQUE</td>\n",
       "      <td>user_id</td>\n",
       "      <td>tastypie_apikey</td>\n",
       "      <td>user_id</td>\n",
       "    </tr>\n",
       "  </tbody>\n",
       "</table>\n",
       "</div>"
      ],
      "text/plain": [
       "                                    constraint_name constraint_type column_name foreign_table_name foreign_column_name\n",
       "0  tastypie_apikey_user_id_8c8fa920_fk_auth_user_id     FOREIGN KEY     user_id          auth_user                  id\n",
       "1                              tastypie_apikey_pkey     PRIMARY KEY          id    tastypie_apikey                  id\n",
       "2                       tastypie_apikey_user_id_key          UNIQUE     user_id    tastypie_apikey             user_id"
      ]
     },
     "metadata": {},
     "output_type": "display_data"
    },
    {
     "name": "stdout",
     "output_type": "stream",
     "text": [
      "Соединение с БД 'filestorage' закрыто.\n",
      "\n",
      "Анализ завершен.\n"
     ]
    }
   ],
   "source": [
    "databases_to_analyze = [\"cms\", \"lists\", \"filestorage\"]\n",
    "\n",
    "\n",
    "for db_name in databases_to_analyze:\n",
    "    display(Markdown(f'\\n## Анализ базы данных: `{db_name}`'))\n",
    "    conn = get_connection(db_name)\n",
    "\n",
    "    if conn:\n",
    "        tables = get_tables(conn)\n",
    "        display(Markdown(f'\\n### Найдено таблиц: {len(tables)}'))\n",
    "\n",
    "        for table_name in tables:\n",
    "            display(Markdown(f'\\n#### Таблица: `{table_name}`'))\n",
    "\n",
    "            display(Markdown('\\n##### Схема:'))\n",
    "            schema_df = get_table_schema(conn, table_name)\n",
    "            if not schema_df.empty:\n",
    "                display(schema_df)\n",
    "            else:\n",
    "                print(f\"Не удалось получить схему для {table_name}\")\n",
    "\n",
    "            display(Markdown('\\n##### Ограничения (PK, FK):'))\n",
    "            constraints_df = get_table_constraints(conn, table_name)\n",
    "            if not constraints_df.empty:\n",
    "                display(constraints_df)\n",
    "            else:\n",
    "                 # Не выводим сообщение, т.к. у таблицы может и не быть явных PK/FK\n",
    "                 pass\n",
    "\n",
    "        # Закрываем соединение после анализа базы\n",
    "        conn.close()\n",
    "        print(f\"Соединение с БД '{db_name}' закрыто.\")\n",
    "    else:\n",
    "        display(Markdown(f'**Не удалось подключиться к БД `{db_name}`**'))\n",
    "\n",
    "print(\"\\nАнализ завершен.\")"
   ]
  },
  {
   "cell_type": "code",
   "execution_count": null,
   "metadata": {},
   "outputs": [],
   "source": []
  },
  {
   "cell_type": "code",
   "execution_count": null,
   "metadata": {},
   "outputs": [],
   "source": []
  },
  {
   "cell_type": "code",
   "execution_count": null,
   "metadata": {},
   "outputs": [],
   "source": []
  },
  {
   "cell_type": "code",
   "execution_count": null,
   "metadata": {},
   "outputs": [],
   "source": []
  },
  {
   "cell_type": "code",
   "execution_count": null,
   "metadata": {},
   "outputs": [],
   "source": []
  },
  {
   "cell_type": "code",
   "execution_count": null,
   "metadata": {},
   "outputs": [],
   "source": []
  },
  {
   "cell_type": "code",
   "execution_count": null,
   "metadata": {},
   "outputs": [],
   "source": []
  },
  {
   "cell_type": "code",
   "execution_count": null,
   "metadata": {},
   "outputs": [],
   "source": []
  },
  {
   "cell_type": "code",
   "execution_count": null,
   "metadata": {},
   "outputs": [],
   "source": []
  },
  {
   "cell_type": "code",
   "execution_count": null,
   "metadata": {},
   "outputs": [],
   "source": []
  },
  {
   "cell_type": "code",
   "execution_count": null,
   "metadata": {},
   "outputs": [],
   "source": []
  },
  {
   "cell_type": "code",
   "execution_count": null,
   "metadata": {},
   "outputs": [],
   "source": []
  },
  {
   "cell_type": "code",
   "execution_count": null,
   "metadata": {},
   "outputs": [],
   "source": []
  },
  {
   "cell_type": "code",
   "execution_count": null,
   "metadata": {},
   "outputs": [],
   "source": []
  },
  {
   "cell_type": "code",
   "execution_count": null,
   "metadata": {},
   "outputs": [],
   "source": []
  },
  {
   "cell_type": "code",
   "execution_count": null,
   "metadata": {},
   "outputs": [],
   "source": []
  },
  {
   "cell_type": "code",
   "execution_count": null,
   "metadata": {},
   "outputs": [],
   "source": []
  },
  {
   "cell_type": "code",
   "execution_count": null,
   "metadata": {},
   "outputs": [],
   "source": []
  },
  {
   "cell_type": "code",
   "execution_count": null,
   "metadata": {},
   "outputs": [],
   "source": []
  }
 ],
 "metadata": {
  "kernelspec": {
   "display_name": "Python 3 (ipykernel)",
   "language": "python",
   "name": "python3"
  },
  "language_info": {
   "codemirror_mode": {
    "name": "ipython",
    "version": 3
   },
   "file_extension": ".py",
   "mimetype": "text/x-python",
   "name": "python",
   "nbconvert_exporter": "python",
   "pygments_lexer": "ipython3",
   "version": "3.12.3"
  }
 },
 "nbformat": 4,
 "nbformat_minor": 4
}
