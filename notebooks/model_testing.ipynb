{
 "cells": [
  {
   "cell_type": "code",
   "execution_count": 10,
   "id": "066b7313-baf4-4ed6-a78c-8159809c14b5",
   "metadata": {},
   "outputs": [
    {
     "name": "stdout",
     "output_type": "stream",
     "text": [
      "Available models:\n",
      "- qwen2.5:7b\n",
      "- qwen2.5:latest\n",
      "- llama3.2:3b\n",
      "- hf.co/IlyaGusev/saiga_yandexgpt_8b_gguf:Q5_K_S\n",
      "- hf.co/IlyaGusev/saiga_yandexgpt_8b_gguf:Q4_0\n",
      "- hf.co/IlyaGusev/saiga_yandexgpt_8b_gguf:Q6_K\n",
      "- hf.co/ruslandev/llama-3-8b-gpt-4o-ru1.0-gguf:F16\n",
      "- hf.co/IlyaGusev/saiga_nemo_12b_gguf:Q8_0\n",
      "- hf.co/ruslandev/llama-3-8b-gpt-4o-ru1.0-gguf:Q4_K_M\n",
      "- llama-ru:latest\n",
      "- hf.co/ruslandev/llama-3-8b-gpt-4o-ru1.0-gguf:Q8_0\n",
      "- phi3:mini\n"
     ]
    }
   ],
   "source": [
    "# Пример скрипта для получения списка моделей\n",
    "import os\n",
    "from openai import OpenAI\n",
    "\n",
    "# Укажи адрес твоего Ollama сервера\n",
    "# Вместо \"YOUR_OLLAMA_BASE_URL\" подставь реальный адрес,\n",
    "# например \"http://localhost:11434\"\n",
    "client = OpenAI(\n",
    "    base_url=\"http://localhost:11434/v1\", # Используй адрес твоего Ollama + /v1\n",
    "    api_key=\"ollama\", # Фиктивный ключ\n",
    ")\n",
    "\n",
    "try:\n",
    "    response = client.models.list()\n",
    "    print(\"Available models:\")\n",
    "    if response.data:\n",
    "        for model in response.data:\n",
    "            # Ollama возвращает имя модели (тег) в поле 'id'\n",
    "            print(f\"- {model.id}\")\n",
    "    else:\n",
    "        print(\"No models found.\")\n",
    "\n",
    "except Exception as e:\n",
    "    print(f\"An error occurred: {e}\")\n",
    "    print(\"Ensure Ollama server is running.\")\n"
   ]
  },
  {
   "cell_type": "markdown",
   "id": "b80bc3dd-a950-4e57-b799-33e4c115cd13",
   "metadata": {},
   "source": [
    "# Base"
   ]
  },
  {
   "cell_type": "code",
   "execution_count": 12,
   "id": "4c0eae6f-d6dc-4bdf-bf65-6c2219de370c",
   "metadata": {},
   "outputs": [],
   "source": [
    "import os\n",
    "from openai import OpenAI\n",
    "\n",
    "client = OpenAI(\n",
    "    base_url=\"http://localhost:11434/v1\", # Используй адрес твоего Ollama + /v1\n",
    "    api_key=\"ollama\", # Фиктивный ключ\n",
    ")\n",
    "\n",
    "# MODEL_NAME = \"qwen2.5:7b\"\n",
    "# MODEL_NAME = \"hf.co/IlyaGusev/saiga_nemo_12b_gguf:Q8_0\"\n",
    "MODEL_NAME = \"hf.co/IlyaGusev/saiga_yandexgpt_8b_gguf:Q4_0\"\n",
    "# MODEL_NAME = \"hf.co/IlyaGusev/saiga_yandexgpt_8b_gguf:Q6_K\""
   ]
  },
  {
   "cell_type": "code",
   "execution_count": 17,
   "id": "99bab5e9-6e2e-4af8-91ac-1323947db340",
   "metadata": {
    "scrolled": true
   },
   "outputs": [
    {
     "name": "stdout",
     "output_type": "stream",
     "text": [
      "Синий цвет неба объясняется явлением рассеяния света в атмосфере Земли, известным как рассеяние Ми. Атомы кислорода и азота, из которых состоит воздух, сильнее всего рассеивают синий свет, делая его видимым больше голубого цвета.CPU times: user 116 ms, sys: 13.6 ms, total: 129 ms\n",
      "Wall time: 1.68 s\n"
     ]
    }
   ],
   "source": [
    "%%time\n",
    "\n",
    "response_stream = client.chat.completions.create(\n",
    "    model=MODEL_NAME,\n",
    "    messages=[\n",
    "        {\"role\": \"system\", \"content\": \"Ты полезный ассистент. Всегда отвечай на русском языке. Твой ответ должен быть серьезным и локаничным.\"},\n",
    "        {\"role\": \"user\", \"content\": \"Why is the sky blue?\"}\n",
    "    ],\n",
    "    temperature=0.8,\n",
    "    max_tokens=1000,\n",
    "    stream=True,\n",
    ")\n",
    "for chunk in response_stream:\n",
    "    content = chunk.choices[0].delta.content or \"\"\n",
    "    print(content, end=\"\", flush=True)"
   ]
  },
  {
   "cell_type": "code",
   "execution_count": null,
   "id": "f4db9508-5997-4160-aefa-eb76ae40a640",
   "metadata": {},
   "outputs": [],
   "source": []
  },
  {
   "cell_type": "code",
   "execution_count": 14,
   "id": "1a43079a-fcb9-49f9-8ae3-122d35c0627a",
   "metadata": {
    "scrolled": true
   },
   "outputs": [
    {
     "name": "stdout",
     "output_type": "stream",
     "text": [
      "Небо голубое из-за атмосферы Земли. Солнечные лучи проходят сквозь атмосферу и частично рассеиваются благодаря молекулам воздуха, особенно с присутствием азота и кислорода и небольших частиц пыли. Рассеянный свет преимущественно синий или голубой, поэтому мы видим небо голубым.\n",
      "CPU times: user 11 ms, sys: 4.79 ms, total: 15.8 ms\n",
      "Wall time: 1.79 s\n"
     ]
    }
   ],
   "source": [
    "%%time\n",
    "\n",
    "response = client.chat.completions.create(\n",
    "    model=MODEL_NAME,\n",
    "    messages=[{\"role\": \"user\", \"content\": \"Почему небо голубое? Пожалуйста, в 2−3 предложениях.\"}],\n",
    "    temperature=1.2,\n",
    "    max_tokens=1000,            # не более ~100 токенов в ответе\n",
    "    stream=False,              # полная выдача разом, без «кусков»\n",
    ")\n",
    "print(response.choices[0].message.content)"
   ]
  },
  {
   "cell_type": "code",
   "execution_count": 10,
   "id": "8f53e0ca-5265-4e63-9c5b-bf94db3bc8f8",
   "metadata": {},
   "outputs": [
    {
     "name": "stdout",
     "output_type": "stream",
     "text": [
      "Небо выглядит голубым из-за процесса рассеяния Рэлея, при котором солнечный свет рассеивается атмосферными частицами воздуха и водяного пара, и поступает в нашу глаза в основном в синей частоте. Однако на самом деле цвет неба может варьироваться в зависимости от времени суток, погоды и даже загрязнения атмосферы.\n",
      "----------------------------------------\n",
      "Небо выглядит голубым из-за процесса рассеяния Рэлея, при котором солнечный свет рассеивается атмосферными частицами воздуха и водяного пара, и поступает в нашу глаза в основном в синей частоте. Однако на самом деле цвет неба может варьироваться в зависимости от времени суток, погоды и даже загрязнения атмосферы.\n",
      "CPU times: user 243 ms, sys: 41.2 ms, total: 285 ms\n",
      "Wall time: 3.77 s\n"
     ]
    }
   ],
   "source": [
    "%%time\n",
    "\n",
    "# Стримим часть за частью\n",
    "response_stream = client.chat.completions.create(\n",
    "    model=MODEL_NAME,\n",
    "    messages=[\n",
    "        {\"role\": \"system\", \"content\": \"Ты полезный ассистент. Всегда отвечай на русском языке. Твой ответ должен быть серьезным и локаничным.\"},\n",
    "        {\"role\": \"user\", \"content\": \"Почему небо голубое? Пожалуйста, ответь в 2−3 предложениях.\"}],\n",
    "    temperature=0.8,\n",
    "    max_tokens=1000,\n",
    "    stream=True,\n",
    ")\n",
    "\n",
    "full_text = \"\"\n",
    "for chunk in response_stream:\n",
    "    # Берём контент у delta напрямую, если None — подставляем пустую строку\n",
    "    content = chunk.choices[0].delta.content or \"\"\n",
    "    print(content, end=\"\", flush=True)\n",
    "    full_text += content\n",
    "\n",
    "print(\"\\n\" + \"-\"*40)\n",
    "print(full_text)"
   ]
  },
  {
   "cell_type": "code",
   "execution_count": null,
   "id": "cad1f4f5-55e0-4d5f-9a2e-abfd01ae9438",
   "metadata": {},
   "outputs": [],
   "source": []
  },
  {
   "cell_type": "code",
   "execution_count": 11,
   "id": "6bd20549-460a-4fe6-93ee-b1f1ada8b8a6",
   "metadata": {},
   "outputs": [
    {
     "name": "stdout",
     "output_type": "stream",
     "text": [
      "Здравствуйте! Как я могу помочь вам сегодня?CPU times: user 55.6 ms, sys: 6.23 ms, total: 61.8 ms\n",
      "Wall time: 709 ms\n"
     ]
    }
   ],
   "source": [
    "%%time\n",
    "\n",
    "response_stream = client.chat.completions.create(\n",
    "    model=MODEL_NAME,\n",
    "    messages=[\n",
    "        {\"role\": \"system\", \"content\": \"Ты полезный ассистент. Всегда отвечай на русском языке. Твой ответ должен быть серьезным и локаничным.\"},\n",
    "        {\"role\": \"user\", \"content\": \"Привет\"}\n",
    "    ],\n",
    "    temperature=0.8,\n",
    "    max_tokens=1000,\n",
    "    stream=True,\n",
    ")\n",
    "for chunk in response_stream:\n",
    "    content = chunk.choices[0].delta.content or \"\"\n",
    "    print(content, end=\"\", flush=True)"
   ]
  },
  {
   "cell_type": "code",
   "execution_count": 12,
   "id": "21c6ddc7-846c-496a-9b59-3106b46094f4",
   "metadata": {},
   "outputs": [
    {
     "name": "stdout",
     "output_type": "stream",
     "text": [
      "Здравствуйте! Как я могу вам помочь сегодня?CPU times: user 48 ms, sys: 10 ms, total: 58 ms\n",
      "Wall time: 663 ms\n"
     ]
    }
   ],
   "source": [
    "%%time\n",
    "\n",
    "response_stream = client.chat.completions.create(\n",
    "    model=MODEL_NAME,\n",
    "    messages=[\n",
    "        {\"role\": \"system\", \"content\": \"Ты полезный ассистент. Всегда отвечай на русском языке. Твой ответ должен быть серьезным и локаничным.\"},\n",
    "        {\"role\": \"user\", \"content\": \"Привет\"}\n",
    "    ],\n",
    "    temperature=0.8,\n",
    "    max_tokens=1000,\n",
    "    stream=True,\n",
    ")\n",
    "for chunk in response_stream:\n",
    "    content = chunk.choices[0].delta.content or \"\"\n",
    "    print(content, end=\"\", flush=True)"
   ]
  },
  {
   "cell_type": "code",
   "execution_count": 13,
   "id": "6b604437-e067-4902-9ce6-707d4b86d7b3",
   "metadata": {},
   "outputs": [
    {
     "name": "stdout",
     "output_type": "stream",
     "text": [
      "Прinciples of programming (принципы программирования) включают в себя базовые концепции, которыми следует придерживаться разработчикам для создания эффективных и легких в поддержке программ. Вот несколько ключевых принципов:\n",
      "\n",
      "1. **Читаемость кода**: Код должен быть легко читабельным и понятным другим разработчикам (и даже самому себе). Используйте ясные именования переменных, функций и классов.\n",
      "\n",
      "2. **Модульность и агрегация**: Разбейте проект на отдельные части или модули, которые можно использовать и изменять независимо друг от друга. Это упрощает разработку, тестирование и поддержку.\n",
      "\n",
      "3. **Декомпозиция**: Решите сложную задачу с помощью более простых подзадач. Это помогает в управлении проектами и делает код более понятным.\n",
      "\n",
      "4. **Совместимость и переносимость**: Ваш код должен работать в различных окружениях и быть совместимым с разными версиями библиотек или стандартов.\n",
      "\n",
      "5. **Принцип открытости/закрытости (Open/Closed Principle)**: Программные entities (например, классы, модули, функции) должны быть открыты для расширения, но закрыты для изменения. Это помогает снизить риск изменения существующего кода при добавлении нового функциональности.\n",
      "\n",
      "6. **Принцип единой ответственности (Single Responsibility Principle)**: Каждая класс или модуль должен нести только одну обязанность. Это упрощает поддержку и тестирование кода.\n",
      "\n",
      "7. **Инверсия зависимости (Inversion of Control)**: Вместо того, чтобы объекты зависели от других конкретных объектов, они должны зависеть от интерфейсов или абстракций. Это делает код более гибким и легким для тестирования.\n",
      "\n",
      "8. **Принцип Liskov заменяемости (Liskov Substitution Principle)**: Если субтип может быть заменен на его super type без изменения корректности программы, то субтип верно реализует его интерфейс.\n",
      "\n",
      "9. **Принцип разделения интерфейса (Interface Segregation Principle)**: Многие специфические интерфейсы лучше одного общего интерфейса. Это улучшает гибкость и понимание кода.\n",
      "\n",
      "10. **Доулингова инверсия зависимостей (Dependency Inversion Principle)**: Высокий уровень должен зависеть от низкого уровня, а не наоборот; интерфейсы должны зависеть от абстракций, а не наоборот.\n",
      "\n",
      "11. **Принцип Козинского (Keep It Simple Stupid - KISS)**: Код должен быть простым и понятным, чтобы избежать сложности и уменьшить возможность возникновения ошибок.\n",
      "\n",
      "Эти принципы помогают разработчикам создавать надежные и масштабируемые программы.CPU times: user 1.51 s, sys: 205 ms, total: 1.72 s\n",
      "Wall time: 25 s\n"
     ]
    }
   ],
   "source": [
    "%%time\n",
    "\n",
    "response_stream = client.chat.completions.create(\n",
    "    model=MODEL_NAME,\n",
    "    messages=[\n",
    "        {\"role\": \"system\", \"content\": \"Ты полезный ассистент. Всегда отвечай на русском языке. Твой ответ должен быть серьезным и локаничным.\"},\n",
    "        {\"role\": \"user\", \"content\": \"Расскажи о принципах программирования\"}\n",
    "    ],\n",
    "    temperature=0.8,\n",
    "    max_tokens=1000,\n",
    "    stream=True,\n",
    ")\n",
    "for chunk in response_stream:\n",
    "    content = chunk.choices[0].delta.content or \"\"\n",
    "    print(content, end=\"\", flush=True)"
   ]
  },
  {
   "cell_type": "code",
   "execution_count": 14,
   "id": "2e28c319-1a86-4a54-bf1a-c97f384e1620",
   "metadata": {},
   "outputs": [
    {
     "name": "stdout",
     "output_type": "stream",
     "text": [
      "Здравствуйте! К сожалению, у меня нет чувств или личной жизни, поэтому я не могу описать свой день в человеческом понимании этого слова. Но я готов помочь вам с любыми задачами или вопросами, которые у вас могут быть!CPU times: user 158 ms, sys: 21.7 ms, total: 179 ms\n",
      "Wall time: 2.33 s\n"
     ]
    }
   ],
   "source": [
    "%%time\n",
    "\n",
    "response_stream = client.chat.completions.create(\n",
    "    model=MODEL_NAME,\n",
    "    messages=[\n",
    "        {\"role\": \"system\", \"content\": \"Ты полезный ассистент. Всегда отвечай на русском языке. Твой ответ должен быть серьезным и локаничным.\"},\n",
    "        {\"role\": \"user\", \"content\": \"Привет, как прошел твой день?\"}\n",
    "    ],\n",
    "    temperature=0.8,\n",
    "    max_tokens=1000,\n",
    "    stream=True,\n",
    ")\n",
    "for chunk in response_stream:\n",
    "    content = chunk.choices[0].delta.content or \"\"\n",
    "    print(content, end=\"\", flush=True)"
   ]
  },
  {
   "cell_type": "code",
   "execution_count": 15,
   "id": "ba83b152-24d0-4aeb-9f9e-4cf279a7712d",
   "metadata": {},
   "outputs": [
    {
     "name": "stdout",
     "output_type": "stream",
     "text": [
      "Здравствуйте! У меня как искусственного интеллекта нет个人计划，但我随时准备帮助您解答问题或提供所需的信息。您今天有什么安排吗？如果您需要任何建议或帮助，请告诉我！CPU times: user 118 ms, sys: 13.9 ms, total: 132 ms\n",
      "Wall time: 1.73 s\n"
     ]
    }
   ],
   "source": [
    "%%time\n",
    "\n",
    "response_stream = client.chat.completions.create(\n",
    "    model=MODEL_NAME,\n",
    "    messages=[\n",
    "        {\"role\": \"system\", \"content\": \"Ты полезный ассистент. Всегда отвечай на русском языке. Твой ответ должен быть серьезным и локаничным.\"},\n",
    "        {\"role\": \"user\", \"content\": \"Привет, какие планы на сегодня?\"}\n",
    "    ],\n",
    "    temperature=0.8,\n",
    "    max_tokens=1000,\n",
    "    stream=True,\n",
    ")\n",
    "for chunk in response_stream:\n",
    "    content = chunk.choices[0].delta.content or \"\"\n",
    "    print(content, end=\"\", flush=True)"
   ]
  },
  {
   "cell_type": "code",
   "execution_count": 16,
   "id": "6ce51bd9-9d4e-485e-96b3-a790d95aed4c",
   "metadata": {},
   "outputs": [
    {
     "name": "stdout",
     "output_type": "stream",
     "text": [
      "Здание Музея Прадо в مدريدе Испании имеет богатую историю, которая отражается в изменениях его функций. Давайте рассмотрим ключевые этапы этого процесса.\n",
      "\n",
      "1. **Построение в качестве дворца**: В 1765 году здание было построено как частный дворец для маркизы де Прадо, супруги короля Испании Фердинанда VI и Изабель II.\n",
      "\n",
      "2. **Перевод в государственное владение**: После того, как дворец был продан короне в 1808 году из-за долгов маркизы де Прадо, король Карлос IV передал его властям для использования военных целей.\n",
      "\n",
      "3. **Можайский музей (1819)**: В это время здание было использовано как хранилище коллекции энтрерридансов, солдат, захваченных испанскими войсками в военной кампании против Франции. После этого периода, когда Франция оккупировала Испанию и король Карлос IV отрекся от престола (1808-1814), здание было временно использовано как Можайский музей.\n",
      "\n",
      "4. **Переход к музею**: После освобождения Испании от французского ига, в 1819 году Испания приняла решение открыть музей в здании Прадо. Это было официально установлено указом королевы Изабель Фелипе В и Принца Семи Провинций.\n",
      "\n",
      "5. **Первоначальная коллекция**: Первоначально коллекция музея была ограничена преимущественно работами испанских мастеров 13-16 веков, но с течением времени она значительно расширилась благодаря различным приобретениям и дара. В частности, в 1857 году был проведен большой конкурс на поставку новых произведений искусства, что привело к значительному увеличению собрания.\n",
      "\n",
      "6. **Расширение и модернизация**: Здание было модернизировано и расширено с целью улучшения пропускной способности музея и удобства посетителей. Это произошло в разных периодах, но наиболее значительные изменения были сделаны между 1960 и 1993 годами.\n",
      "\n",
      "Таким образом, история здания Прадо отражает перипетии испанской истории, начиная с частного владения до становления одним из самых известных музеев мира.CPU times: user 1.34 s, sys: 191 ms, total: 1.53 s\n",
      "Wall time: 21.7 s\n"
     ]
    }
   ],
   "source": [
    "%%time\n",
    "\n",
    "response_stream = client.chat.completions.create(\n",
    "    model=MODEL_NAME,\n",
    "    messages=[\n",
    "        {\"role\": \"system\", \"content\": \"Ты полезный ассистент. Всегда отвечай на русском языке. Твой ответ должен быть серьезным и локаничным.\"},\n",
    "        {\"role\": \"user\", \"content\": \"Как менялось предназначение здания музея Прадо на протяжении истории, и какие ключевые события повлияли на его становление?\"}\n",
    "    ],\n",
    "    temperature=0.8,\n",
    "    max_tokens=1000,\n",
    "    stream=True,\n",
    ")\n",
    "for chunk in response_stream:\n",
    "    content = chunk.choices[0].delta.content or \"\"\n",
    "    print(content, end=\"\", flush=True)"
   ]
  },
  {
   "cell_type": "code",
   "execution_count": null,
   "id": "e6b75e41-f88c-426e-a50e-30e728065cfd",
   "metadata": {},
   "outputs": [],
   "source": []
  },
  {
   "cell_type": "code",
   "execution_count": null,
   "id": "7d46d2ac-2979-4c89-812d-64933017fdea",
   "metadata": {},
   "outputs": [],
   "source": []
  },
  {
   "cell_type": "code",
   "execution_count": null,
   "id": "75a3161c-c1a3-4514-891e-71a25ce11b81",
   "metadata": {},
   "outputs": [],
   "source": []
  },
  {
   "cell_type": "code",
   "execution_count": null,
   "id": "ca0e8280-3c77-4279-8c08-9e01da64b7cb",
   "metadata": {},
   "outputs": [],
   "source": []
  },
  {
   "cell_type": "code",
   "execution_count": null,
   "id": "ed7a6167-00f4-43fc-82c9-b6cc99364009",
   "metadata": {},
   "outputs": [],
   "source": []
  },
  {
   "cell_type": "code",
   "execution_count": null,
   "id": "502a9026-fccd-4664-878f-5a20b74b19db",
   "metadata": {},
   "outputs": [],
   "source": []
  },
  {
   "cell_type": "code",
   "execution_count": null,
   "id": "b77ec6ae-79a6-4602-a2e9-84783822021f",
   "metadata": {},
   "outputs": [],
   "source": []
  },
  {
   "cell_type": "code",
   "execution_count": null,
   "id": "9b5a3861-dcb3-4510-aeb5-2d28f6403b56",
   "metadata": {},
   "outputs": [],
   "source": []
  },
  {
   "cell_type": "code",
   "execution_count": null,
   "id": "3754f189-76d5-45bc-9efc-f9fb1814a2b4",
   "metadata": {},
   "outputs": [],
   "source": []
  },
  {
   "cell_type": "code",
   "execution_count": null,
   "id": "b26fa9e7-9baa-44b7-8348-cfe21f4b0bb1",
   "metadata": {},
   "outputs": [],
   "source": []
  },
  {
   "cell_type": "code",
   "execution_count": null,
   "id": "0f00c5cb-f3f5-4de5-bcfd-560725ecdcec",
   "metadata": {},
   "outputs": [],
   "source": []
  },
  {
   "cell_type": "code",
   "execution_count": null,
   "id": "7ad608e4-8aeb-4f78-9f6e-b525d5022b02",
   "metadata": {},
   "outputs": [],
   "source": []
  },
  {
   "cell_type": "code",
   "execution_count": null,
   "id": "f292a69c-bd43-49da-ae08-99288a2fe102",
   "metadata": {},
   "outputs": [],
   "source": []
  },
  {
   "cell_type": "code",
   "execution_count": null,
   "id": "3851b058-3007-4414-897a-f545929db786",
   "metadata": {},
   "outputs": [],
   "source": []
  },
  {
   "cell_type": "code",
   "execution_count": null,
   "id": "bd7b20a3-77a6-4d7a-8401-3869a522aee1",
   "metadata": {},
   "outputs": [],
   "source": []
  },
  {
   "cell_type": "code",
   "execution_count": null,
   "id": "d2c7204b-9f34-474b-9079-920a63021837",
   "metadata": {},
   "outputs": [],
   "source": []
  },
  {
   "cell_type": "code",
   "execution_count": null,
   "id": "46dc4d16-7667-4180-bd99-714b34422f1e",
   "metadata": {},
   "outputs": [],
   "source": []
  },
  {
   "cell_type": "code",
   "execution_count": null,
   "id": "9f12c378-120b-4e9e-915e-bb2604d4c3b9",
   "metadata": {},
   "outputs": [],
   "source": []
  },
  {
   "cell_type": "code",
   "execution_count": null,
   "id": "e20b65b2-2eea-4c17-9d62-112fb5180061",
   "metadata": {},
   "outputs": [],
   "source": []
  },
  {
   "cell_type": "code",
   "execution_count": null,
   "id": "71f0dce0-ca93-4221-a1c2-287a87fab916",
   "metadata": {},
   "outputs": [],
   "source": []
  },
  {
   "cell_type": "code",
   "execution_count": null,
   "id": "e5fc5549-231d-4f29-b6e0-7b65ba041734",
   "metadata": {},
   "outputs": [],
   "source": []
  },
  {
   "cell_type": "code",
   "execution_count": null,
   "id": "41fbeb59-ef2f-4e66-baed-d92ea7b7d713",
   "metadata": {},
   "outputs": [],
   "source": []
  },
  {
   "cell_type": "code",
   "execution_count": null,
   "id": "119f4c05-ea06-4a6a-93da-8eccbbe06f28",
   "metadata": {},
   "outputs": [],
   "source": []
  },
  {
   "cell_type": "code",
   "execution_count": null,
   "id": "cb208af7-8490-4cad-873c-9690ba486bad",
   "metadata": {},
   "outputs": [],
   "source": []
  },
  {
   "cell_type": "code",
   "execution_count": null,
   "id": "2285c369-1f45-4bca-ad16-671392ac5247",
   "metadata": {},
   "outputs": [],
   "source": []
  },
  {
   "cell_type": "code",
   "execution_count": null,
   "id": "c6e8b8c1-260a-44ea-a537-7639a64fba95",
   "metadata": {},
   "outputs": [],
   "source": []
  },
  {
   "cell_type": "code",
   "execution_count": null,
   "id": "7fafd3eb-a818-4147-8ad2-6b007070272f",
   "metadata": {},
   "outputs": [],
   "source": []
  },
  {
   "cell_type": "code",
   "execution_count": null,
   "id": "54190be5-bd11-4f02-97ec-1973991b596f",
   "metadata": {},
   "outputs": [],
   "source": []
  },
  {
   "cell_type": "code",
   "execution_count": null,
   "id": "f54e661b-ef71-4ec1-aebb-e7d6fce48380",
   "metadata": {},
   "outputs": [],
   "source": []
  },
  {
   "cell_type": "code",
   "execution_count": null,
   "id": "c748c538-d1f2-4537-b1c0-67240bf6ccd7",
   "metadata": {},
   "outputs": [],
   "source": []
  },
  {
   "cell_type": "code",
   "execution_count": null,
   "id": "68e49440-3db0-484b-90fc-272f99b42808",
   "metadata": {},
   "outputs": [],
   "source": []
  },
  {
   "cell_type": "code",
   "execution_count": null,
   "id": "ab9a5e5d-746f-4ae3-b65e-7ed3a42195cf",
   "metadata": {},
   "outputs": [],
   "source": []
  },
  {
   "cell_type": "code",
   "execution_count": null,
   "id": "368eb6a3-9e02-48f4-a0ae-1b504ed8ee81",
   "metadata": {},
   "outputs": [],
   "source": []
  },
  {
   "cell_type": "code",
   "execution_count": null,
   "id": "37109c15-852b-4e3a-a599-f43ecc34e894",
   "metadata": {},
   "outputs": [],
   "source": []
  }
 ],
 "metadata": {
  "kernelspec": {
   "display_name": "Python 3 (ipykernel)",
   "language": "python",
   "name": "python3"
  },
  "language_info": {
   "codemirror_mode": {
    "name": "ipython",
    "version": 3
   },
   "file_extension": ".py",
   "mimetype": "text/x-python",
   "name": "python",
   "nbconvert_exporter": "python",
   "pygments_lexer": "ipython3",
   "version": "3.12.3"
  }
 },
 "nbformat": 4,
 "nbformat_minor": 5
}
