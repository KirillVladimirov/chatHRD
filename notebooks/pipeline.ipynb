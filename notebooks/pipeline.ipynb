{
 "cells": [
  {
   "cell_type": "code",
   "execution_count": 1,
   "id": "dcdb3159-9aab-4ecd-b35b-6cf4d9ee3a9a",
   "metadata": {},
   "outputs": [
    {
     "name": "stdout",
     "output_type": "stream",
     "text": [
      "Requirement already satisfied: python-docx in /home/skitarii/PycharmProjects/chatHRD/.venv/lib/python3.12/site-packages (1.1.0)\n",
      "Requirement already satisfied: lxml>=3.1.0 in /home/skitarii/PycharmProjects/chatHRD/.venv/lib/python3.12/site-packages (from python-docx) (5.3.1)\n",
      "Requirement already satisfied: typing-extensions in /home/skitarii/PycharmProjects/chatHRD/.venv/lib/python3.12/site-packages (from python-docx) (4.13.0)\n",
      "Requirement already satisfied: pypdf in /home/skitarii/PycharmProjects/chatHRD/.venv/lib/python3.12/site-packages (5.4.0)\n"
     ]
    }
   ],
   "source": [
    "!pip install python-docx\n",
    "!pip install pypdf"
   ]
  },
  {
   "cell_type": "code",
   "execution_count": 2,
   "id": "9c9038cd-85f5-436d-86ce-44ce9b117f94",
   "metadata": {},
   "outputs": [],
   "source": [
    "import os\n",
    "from pathlib import Path"
   ]
  },
  {
   "cell_type": "code",
   "execution_count": 3,
   "id": "47781c1e-27a5-47e6-bf72-8eb653c0b986",
   "metadata": {},
   "outputs": [],
   "source": [
    "from haystack_integrations.document_stores.chroma import ChromaDocumentStore\n",
    "from haystack.components.converters import TextFileToDocument, PyPDFToDocument\n",
    "from haystack.components.converters.docx import DOCXToDocument\n",
    "from haystack.components.routers import FileTypeRouter\n",
    "from haystack.components.preprocessors import DocumentSplitter\n",
    "from haystack.components.embedders import SentenceTransformersDocumentEmbedder\n",
    "from haystack.components.writers import DocumentWriter\n",
    "from haystack import Pipeline"
   ]
  },
  {
   "cell_type": "code",
   "execution_count": 4,
   "id": "c6b78a99-7843-4c12-b78b-c0ac30bc5e9c",
   "metadata": {},
   "outputs": [],
   "source": [
    "# Инициализация хранилища (Chroma) с сохранением на диск\n",
    "document_store = ChromaDocumentStore(persist_path=\"../data/chroma_index\")"
   ]
  },
  {
   "cell_type": "code",
   "execution_count": 7,
   "id": "9af4403a-5d2a-483f-8d2f-06fbefd60e0e",
   "metadata": {},
   "outputs": [],
   "source": [
    "# Инициализация компонентов\n",
    "file_router = FileTypeRouter(mime_types=[\"text/plain\", \"application/pdf\", \"application/vnd.openxmlformats-officedocument.wordprocessingml.document\"])\n",
    "txt_converter = TextFileToDocument() \n",
    "pdf_converter = PyPDFToDocument() \n",
    "docx_converter = DOCXToDocument()\n",
    "splitter = DocumentSplitter(split_length=1000, split_overlap=100)\n",
    "embedder = SentenceTransformersDocumentEmbedder(\"sentence-transformers/paraphrase-multilingual-MiniLM-L12-v2\")\n",
    "writer = DocumentWriter(document_store=document_store)\n"
   ]
  },
  {
   "cell_type": "code",
   "execution_count": 8,
   "id": "eaa65af2-7894-493b-9012-bc1da1b7dc1f",
   "metadata": {},
   "outputs": [],
   "source": [
    "# Построение пайплайна\n",
    "pipeline = Pipeline()\n",
    "pipeline.add_component(\"router\", file_router)\n",
    "pipeline.add_component(\"txt_converter\", txt_converter)\n",
    "pipeline.add_component(\"pdf_converter\", pdf_converter)\n",
    "pipeline.add_component(\"docx_converter\", docx_converter)\n",
    "pipeline.add_component(\"splitter\", splitter)\n",
    "pipeline.add_component(\"embedder\", embedder)\n",
    "pipeline.add_component(\"writer\", writer)"
   ]
  },
  {
   "cell_type": "code",
   "execution_count": 9,
   "id": "83ac397e-7ed4-4096-bd2a-b51f5c75ede2",
   "metadata": {},
   "outputs": [
    {
     "ename": "PipelineConnectError",
     "evalue": "Cannot connect 'pdf_converter.documents' with 'splitter.documents': splitter.documents is already connected to ['txt_converter'].\n",
     "output_type": "error",
     "traceback": [
      "\u001b[31m---------------------------------------------------------------------------\u001b[39m",
      "\u001b[31mPipelineConnectError\u001b[39m                      Traceback (most recent call last)",
      "\u001b[36mCell\u001b[39m\u001b[36m \u001b[39m\u001b[32mIn[9]\u001b[39m\u001b[32m, line 7\u001b[39m\n\u001b[32m      5\u001b[39m \u001b[38;5;66;03m# Подключение конвертеров к последующим шагам\u001b[39;00m\n\u001b[32m      6\u001b[39m pipeline.connect(\u001b[33m\"\u001b[39m\u001b[33mtxt_converter.documents\u001b[39m\u001b[33m\"\u001b[39m, \u001b[33m\"\u001b[39m\u001b[33msplitter.documents\u001b[39m\u001b[33m\"\u001b[39m)\n\u001b[32m----> \u001b[39m\u001b[32m7\u001b[39m \u001b[43mpipeline\u001b[49m\u001b[43m.\u001b[49m\u001b[43mconnect\u001b[49m\u001b[43m(\u001b[49m\u001b[33;43m\"\u001b[39;49m\u001b[33;43mpdf_converter.documents\u001b[39;49m\u001b[33;43m\"\u001b[39;49m\u001b[43m,\u001b[49m\u001b[43m \u001b[49m\u001b[33;43m\"\u001b[39;49m\u001b[33;43msplitter.documents\u001b[39;49m\u001b[33;43m\"\u001b[39;49m\u001b[43m)\u001b[49m\n\u001b[32m      8\u001b[39m pipeline.connect(\u001b[33m\"\u001b[39m\u001b[33mdocx_converter.documents\u001b[39m\u001b[33m\"\u001b[39m, \u001b[33m\"\u001b[39m\u001b[33msplitter.documents\u001b[39m\u001b[33m\"\u001b[39m)\n\u001b[32m      9\u001b[39m pipeline.connect(\u001b[33m\"\u001b[39m\u001b[33msplitter.documents\u001b[39m\u001b[33m\"\u001b[39m, \u001b[33m\"\u001b[39m\u001b[33membedder.documents\u001b[39m\u001b[33m\"\u001b[39m)\n",
      "\u001b[36mFile \u001b[39m\u001b[32m~/PycharmProjects/chatHRD/.venv/lib/python3.12/site-packages/haystack/core/pipeline/base.py:571\u001b[39m, in \u001b[36mPipelineBase.connect\u001b[39m\u001b[34m(self, sender, receiver)\u001b[39m\n\u001b[32m    564\u001b[39m \u001b[38;5;28;01mif\u001b[39;00m receiver_socket.senders \u001b[38;5;129;01mand\u001b[39;00m \u001b[38;5;129;01mnot\u001b[39;00m receiver_socket.is_variadic:\n\u001b[32m    565\u001b[39m     \u001b[38;5;66;03m# Only variadic input sockets can receive from multiple senders\u001b[39;00m\n\u001b[32m    566\u001b[39m     msg = (\n\u001b[32m    567\u001b[39m         \u001b[33mf\u001b[39m\u001b[33m\"\u001b[39m\u001b[33mCannot connect \u001b[39m\u001b[33m'\u001b[39m\u001b[38;5;132;01m{\u001b[39;00msender_component_name\u001b[38;5;132;01m}\u001b[39;00m\u001b[33m.\u001b[39m\u001b[38;5;132;01m{\u001b[39;00msender_socket.name\u001b[38;5;132;01m}\u001b[39;00m\u001b[33m'\u001b[39m\u001b[33m with \u001b[39m\u001b[33m\"\u001b[39m\n\u001b[32m    568\u001b[39m         \u001b[33mf\u001b[39m\u001b[33m\"\u001b[39m\u001b[33m'\u001b[39m\u001b[38;5;132;01m{\u001b[39;00mreceiver_component_name\u001b[38;5;132;01m}\u001b[39;00m\u001b[33m.\u001b[39m\u001b[38;5;132;01m{\u001b[39;00mreceiver_socket.name\u001b[38;5;132;01m}\u001b[39;00m\u001b[33m'\u001b[39m\u001b[33m: \u001b[39m\u001b[33m\"\u001b[39m\n\u001b[32m    569\u001b[39m         \u001b[33mf\u001b[39m\u001b[33m\"\u001b[39m\u001b[38;5;132;01m{\u001b[39;00mreceiver_component_name\u001b[38;5;132;01m}\u001b[39;00m\u001b[33m.\u001b[39m\u001b[38;5;132;01m{\u001b[39;00mreceiver_socket.name\u001b[38;5;132;01m}\u001b[39;00m\u001b[33m is already connected to \u001b[39m\u001b[38;5;132;01m{\u001b[39;00mreceiver_socket.senders\u001b[38;5;132;01m}\u001b[39;00m\u001b[33m.\u001b[39m\u001b[38;5;130;01m\\n\u001b[39;00m\u001b[33m\"\u001b[39m\n\u001b[32m    570\u001b[39m     )\n\u001b[32m--> \u001b[39m\u001b[32m571\u001b[39m     \u001b[38;5;28;01mraise\u001b[39;00m PipelineConnectError(msg)\n\u001b[32m    573\u001b[39m \u001b[38;5;66;03m# Update the sockets with the new connection\u001b[39;00m\n\u001b[32m    574\u001b[39m sender_socket.receivers.append(receiver_component_name)\n",
      "\u001b[31mPipelineConnectError\u001b[39m: Cannot connect 'pdf_converter.documents' with 'splitter.documents': splitter.documents is already connected to ['txt_converter'].\n"
     ]
    }
   ],
   "source": [
    "# Соединение узлов (маршрутизация файлов по типам)\n",
    "pipeline.connect(\"router.text/plain\", \"txt_converter.sources\")\n",
    "pipeline.connect(\"router.application/pdf\", \"pdf_converter.sources\")\n",
    "pipeline.connect(\"router.application/vnd.openxmlformats-officedocument.wordprocessingml.document\", \"docx_converter.sources\")\n",
    "# Подключение конвертеров к последующим шагам\n",
    "pipeline.connect(\"txt_converter.documents\", \"splitter.documents\")\n",
    "pipeline.connect(\"pdf_converter.documents\", \"splitter.documents\")\n",
    "pipeline.connect(\"docx_converter.documents\", \"splitter.documents\")\n",
    "pipeline.connect(\"splitter.documents\", \"embedder.documents\")\n",
    "pipeline.connect(\"embedder.documents\", \"writer.documents\")"
   ]
  },
  {
   "cell_type": "code",
   "execution_count": null,
   "id": "f6fd7535-d6dd-4ece-9d68-c1694cda284b",
   "metadata": {},
   "outputs": [],
   "source": [
    "file_paths = [\"../data/parsed_files\" / Path(name) for name in os.listdir(\"../data/parsed_files\")]"
   ]
  },
  {
   "cell_type": "code",
   "execution_count": null,
   "id": "6b1e2cc3-d30f-4d59-a071-832af5f6b0a9",
   "metadata": {},
   "outputs": [],
   "source": [
    "# Запуск индексирования на папке файлов\n",
    "pipeline.run({\"router\": {\"sources\": file_paths}})"
   ]
  },
  {
   "cell_type": "code",
   "execution_count": null,
   "id": "57485f23-68ae-4c47-ba62-885f86294f34",
   "metadata": {},
   "outputs": [],
   "source": []
  },
  {
   "cell_type": "code",
   "execution_count": null,
   "id": "b12355b5-bc7d-43f8-b308-328f2603cd0a",
   "metadata": {},
   "outputs": [],
   "source": []
  }
 ],
 "metadata": {
  "kernelspec": {
   "display_name": "Python 3 (ipykernel)",
   "language": "python",
   "name": "python3"
  },
  "language_info": {
   "codemirror_mode": {
    "name": "ipython",
    "version": 3
   },
   "file_extension": ".py",
   "mimetype": "text/x-python",
   "name": "python",
   "nbconvert_exporter": "python",
   "pygments_lexer": "ipython3",
   "version": "3.12.3"
  }
 },
 "nbformat": 4,
 "nbformat_minor": 5
}
